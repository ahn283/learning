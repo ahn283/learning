{
 "cells": [
  {
   "cell_type": "code",
   "execution_count": 1,
   "metadata": {},
   "outputs": [],
   "source": [
    "import os\n",
    "import keyring\n",
    "\n",
    "OPENAI_API_KEY = keyring.get_password('openai', 'key_for_windows')\n",
    "os.environ['OPENAI_API_KEY'] = OPENAI_API_KEY"
   ]
  },
  {
   "cell_type": "markdown",
   "metadata": {},
   "source": [
    "### Libraries"
   ]
  },
  {
   "cell_type": "code",
   "execution_count": 2,
   "metadata": {},
   "outputs": [],
   "source": [
    "from typing import List, Annotated, Literal\n",
    "from typing_extensions import TypedDict\n",
    "from langchain_openai import ChatOpenAI\n",
    "from langchain_core.messages import AIMessage, SystemMessage, HumanMessage, ToolMessage\n",
    "from langgraph.checkpoint.memory import MemorySaver\n",
    "from langgraph.graph import StateGraph, START, END\n",
    "from langgraph.graph.message import add_messages\n",
    "from pydantic import BaseModel"
   ]
  },
  {
   "cell_type": "code",
   "execution_count": null,
   "metadata": {},
   "outputs": [],
   "source": [
    "# define a function to collect information for prompting\n",
    "\n",
    "temaplate = \"\"\"Your job is to get information from a user about what type of prompt template they want to create.\n",
    "\n",
    "You should get the following information from there:\n",
    "\n",
    "- What the objective of the prompt is\n",
    "- What variables will be passed into the prompt template\n",
    "- Any constraints for what the output should NOT do\n",
    "- Any requirements that the ouput MUST adhere to\n",
    "\n",
    "If you are not able to discern this info, ask them to clarify! Do not attempt to wildly guess.\n",
    "\n",
    "After you are able to discern all the information, call the relevant tool.\"\"\"\n",
    "\n",
    "def get_message_info(messages):\n",
    "    return [SystemMessage(content=temaplate)] + messages    # llm 역할을 계속해서 기억하도록 messages를 붙여줌\n",
    "\n",
    "class PromptInstructions(BaseModel):\n",
    "    \"\"\"Instructions on how to promnpt the LLM.\"\"\"\n",
    "    \n",
    "    objective: str \n",
    "    variables: List[str]\n",
    "    constraints: List[str]\n",
    "    requirements: List[str]\n",
    "    \n",
    "llm = ChatOpenAI(model='gpt-4o-mini', temperature=0)\n",
    "llm_with_tool = llm.bind_tools([PromptInstructions])\n",
    "\n",
    "def info_chain(state):\n",
    "    messages = get_message_info(state['messages'])\n",
    "    response = llm_with_tool.invoke(messages)\n",
    "    return {\"messages\": [response]}"
   ]
  },
  {
   "cell_type": "code",
   "execution_count": 13,
   "metadata": {},
   "outputs": [],
   "source": [
    "# prompt function\n",
    "from langchain_core.messages import AIMessage, HumanMessage, ToolMessage\n",
    "\n",
    "# new system prompt\n",
    "prompt_system = \"\"\"Based on the following requirements, write a good prompt template:\n",
    "\n",
    "{reqs}\"\"\"\n",
    "\n",
    "# function to get the message for the prompt\n",
    "# will only get messages AFTER the tool call\n",
    "\n",
    "def get_prompt_messages(messages: list):\n",
    "    tool_call = None\n",
    "    other_msgs = []\n",
    "    for m in messages:\n",
    "        if isinstance(m, AIMessage) and m.tool_calls:\n",
    "            tool_call = m.tool_calls[0]['args']\n",
    "            print(tool_call)\n",
    "        elif isinstance(m, ToolMessage):\n",
    "            continue\n",
    "        elif tool_call is not None:\n",
    "            other_msgs.append(m)\n",
    "    return [SystemMessage(content=prompt_system.format(reqs=tool_call))] + other_msgs\n",
    "\n",
    "def prompt_gen_chain(state):\n",
    "    messages = get_prompt_messages(state['messages'])\n",
    "    response = llm.invoke(messages)\n",
    "    return {'messages': [response]}"
   ]
  },
  {
   "cell_type": "code",
   "execution_count": 5,
   "metadata": {},
   "outputs": [],
   "source": [
    "# edge logic for getting information to construct prompts\n",
    "from typing import Literal\n",
    "from langgraph.graph import END\n",
    "\n",
    "def get_state(state) -> Literal['prompt', 'info', '__end__']:\n",
    "    messages = state['messages']\n",
    "    if isinstance(messages[-1], AIMessage) and messages[-1].tool_calls:\n",
    "        return 'prompt'\n",
    "    elif not isinstance(messages[-1], HumanMessage):\n",
    "        return END\n",
    "    return 'info'"
   ]
  },
  {
   "cell_type": "code",
   "execution_count": 9,
   "metadata": {},
   "outputs": [],
   "source": [
    "# build a graph\n",
    "class State(TypedDict):\n",
    "    messages: Annotated[list, add_messages]\n",
    "    \n",
    "memory = MemorySaver()\n",
    "workflow = StateGraph(State)\n",
    "\n",
    "# add nodes\n",
    "workflow.add_node('info', info_chain)\n",
    "workflow.add_node('prompt', prompt_gen_chain)\n",
    "\n",
    "# add edges and conditional edges\n",
    "workflow.add_conditional_edges(\"info\", get_state)\n",
    "workflow.add_edge('prompt', END)\n",
    "workflow.add_edge(START, \"info\")\n",
    "\n",
    "# compile the graph\n",
    "graph = workflow.compile(checkpointer=memory)"
   ]
  },
  {
   "cell_type": "code",
   "execution_count": 10,
   "metadata": {},
   "outputs": [
    {
     "data": {
      "image/png": "[encoded data removed]",
      "text/plain": [
       "<IPython.core.display.Image object>"
      ]
     },
     "metadata": {},
     "output_type": "display_data"
    }
   ],
   "source": [
    "# plot the graph\n",
    "from IPython.display import Image, display\n",
    "\n",
    "display(Image(graph.get_graph().draw_mermaid_png()))"
   ]
  },
  {
   "cell_type": "code",
   "execution_count": 12,
   "metadata": {},
   "outputs": [
    {
     "name": "stdout",
     "output_type": "stream",
     "text": [
      "==================================\u001b[1m Ai Message \u001b[0m==================================\n",
      "\n",
      "시를 작성하는 프롬프트를 만들기 위해 몇 가지 정보를 더 필요로 합니다. 다음 질문에 답해 주실 수 있나요?\n",
      "\n",
      "1. 시의 목적은 무엇인가요? (예: 감정 표현, 특정 주제에 대한 탐구 등)\n",
      "2. 프롬프트 템플릿에 어떤 변수를 포함하고 싶으신가요? (예: 주제, 스타일, 길이 등)\n",
      "3. 출력에서 피해야 할 제약 조건이 있나요? (예: 특정 단어 사용 금지, 특정 형식 준수 등)\n",
      "4. 출력이 반드시 따라야 할 요구 사항이 있나요? (예: 특정 형식, 특정 감정 표현 등)\n",
      "\n",
      "이 정보를 제공해 주시면, 적절한 프롬프트 템플릿을 생성할 수 있습니다.\n",
      "==================================\u001b[1m Ai Message \u001b[0m==================================\n",
      "\n",
      "감정 표현을 위한 겨울 주제의 시를 작성하는 프롬프트를 만들기 위해 추가적인 정보가 필요합니다. 다음 질문에 답해 주실 수 있나요?\n",
      "\n",
      "1. 프롬프트 템플릿에 포함하고 싶은 변수가 있나요? (예: 시의 길이, 특정 감정 등)\n",
      "2. 출력에서 피해야 할 제약 조건이 있나요? (예: 특정 단어 사용 금지, 특정 형식 준수 등)\n",
      "3. 출력이 반드시 따라야 할 요구 사항이 있나요? (예: 특정 형식, 특정 감정 표현 등)\n",
      "\n",
      "이 정보를 제공해 주시면, 적절한 프롬프트 템플릿을 생성할 수 있습니다.\n",
      "==================================\u001b[1m Ai Message \u001b[0m==================================\n",
      "\n",
      "감정 표현을 위한 겨울 주제의 시를 작성하는 프롬프트에 대한 정보는 다음과 같습니다:\n",
      "\n",
      "- **목적**: 감정 표현\n",
      "- **주제**: 겨울\n",
      "- **변수**: 시의 길이 (4문단), 이해 난이도 (초등학생도 이해할 수 있는 정도)\n",
      "- **제약 조건**: 특정 단어 사용 금지 (없음으로 가정)\n",
      "- **요구 사항**: 특정 형식 (없음으로 가정)\n",
      "\n",
      "마지막으로, 출력에서 피해야 할 제약 조건이 있는지, 또는 추가적인 요구 사항이 있는지 확인해 주실 수 있나요?\n",
      "==================================\u001b[1m Ai Message \u001b[0m==================================\n",
      "Tool Calls:\n",
      "  PromptInstructions (call_LWHnrIKuq245ZAUwdJMadY8Z)\n",
      " Call ID: call_LWHnrIKuq245ZAUwdJMadY8Z\n",
      "  Args:\n",
      "    objective: 감정 표현\n",
      "    variables: ['겨울', '4문단', '초등학생도 이해할 수 있는 정도']\n",
      "    constraints: []\n",
      "    requirements: []\n",
      "{'objective': '감정 표현', 'variables': ['겨울', '4문단', '초등학생도 이해할 수 있는 정도'], 'constraints': [], 'requirements': []}\n",
      "==================================\u001b[1m Ai Message \u001b[0m==================================\n",
      "\n",
      "**Prompt Template:**\n",
      "\n",
      "Write a short essay that expresses emotions related to winter. The essay should be divided into four paragraphs and should be easy for elementary school students to understand. \n",
      "\n",
      "1. **Paragraph 1:** Describe what winter looks like. Include details about the weather, snow, and any other visual elements that make winter special.\n",
      "  \n",
      "2. **Paragraph 2:** Share how winter makes you feel. Use descriptive words to convey emotions such as happiness, excitement, or even sadness that might come with the season.\n",
      "\n",
      "3. **Paragraph 3:** Talk about activities you enjoy doing in winter. This could include playing in the snow, drinking hot chocolate, or celebrating holidays. Explain why these activities are meaningful to you.\n",
      "\n",
      "4. **Paragraph 4:** Conclude by reflecting on what winter means to you overall. Consider how it affects your mood and what you look forward to during this season.\n",
      "\n",
      "Make sure to use simple language and relatable examples so that elementary school students can easily understand and connect with your writing.\n",
      "Done!\n",
      "AI: Byebye\n"
     ]
    }
   ],
   "source": [
    "# run the graph\n",
    "import uuid\n",
    "\n",
    "config = {\"configurable\": {\"thread_id\": str(uuid.uuid4())}}\n",
    "while True: \n",
    "    user = input(\"User (q\\Q to quit): \")\n",
    "    if user in {'q', 'Q'}:\n",
    "        print(\"AI: Byebye\")\n",
    "        break\n",
    "    output = None\n",
    "    for output in graph.stream(\n",
    "        {\"messages\": [HumanMessage(content=user)]}, config=config, stream_mode='updates'\n",
    "    ):\n",
    "        last_message = next(iter(output.values()))['messages'][-1]\n",
    "        last_message.pretty_print()\n",
    "    \n",
    "    if output and 'prompt' in output:\n",
    "        print(\"Done!\")"
   ]
  }
 ],
 "metadata": {
  "kernelspec": {
   "display_name": "agent",
   "language": "python",
   "name": "python3"
  },
  "language_info": {
   "codemirror_mode": {
    "name": "ipython",
    "version": 3
   },
   "file_extension": ".py",
   "mimetype": "text/x-python",
   "name": "python",
   "nbconvert_exporter": "python",
   "pygments_lexer": "ipython3",
   "version": "3.10.6"
  }
 },
 "nbformat": 4,
 "nbformat_minor": 2
}
