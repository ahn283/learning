{
 "cells": [
  {
   "cell_type": "code",
   "execution_count": null,
   "metadata": {},
   "outputs": [],
   "source": [
    "# !pip install pydub"
   ]
  },
  {
   "cell_type": "code",
   "execution_count": 1,
   "metadata": {},
   "outputs": [],
   "source": [
    "import os\n",
    "import keyring\n",
    "\n",
    "OPENAI_API_KEY = keyring.get_password('openai', 'key_for_windows')\n",
    "TAVILY_API_KEY = keyring.get_password('tavily', 'key_for_windows')\n",
    "os.environ['OPENAI_API_KEY'] = OPENAI_API_KEY\n",
    "os.environ['TAVILY_API_KEY'] = TAVILY_API_KEY"
   ]
  },
  {
   "cell_type": "code",
   "execution_count": 2,
   "metadata": {},
   "outputs": [],
   "source": [
    "# set web search and scaping tools\n",
    "from typing import Annotated, List\n",
    "\n",
    "from langchain_community.document_loaders import WebBaseLoader\n",
    "from langchain_community.tools.tavily_search import TavilySearchResults\n",
    "from langchain_core.tools import tool\n",
    "\n",
    "tavily_tool = TavilySearchResults(max_results=5)\n",
    "\n",
    "@tool\n",
    "def scape_webpage(urls: List[str]) -> str:\n",
    "    \"\"\"Use requests and bs4 to scape the provided web pages for detailed information.\"\"\"\n",
    "    loader = WebBaseLoader(urls)\n",
    "    docs = loader.load()\n",
    "    return \"\\n\\n\".join(\n",
    "        [\n",
    "            f\"\\n{doc.page_content}\\n\"\n",
    "            for doc in docs\n",
    "        ]\n",
    "    )"
   ]
  },
  {
   "cell_type": "code",
   "execution_count": null,
   "metadata": {},
   "outputs": [],
   "source": [
    "# set TTS using OpenAI TTS API\n",
    "from langchain_core.tools import tool\n",
    "from openai import OpenAI\n",
    "from pathlib import Path\n",
    "\n",
    "@tool\n",
    "def text_to_speech(text: str, voice: str, output_filename: str) -> str:\n",
    "    \"\"\"\n",
    "    Converts text to speech using OpenAI's TTs API, saving the audio file locally with a dynamic filename.\n",
    "    \n",
    "    Args:\n",
    "        text (str): the text to convert to speech.\n",
    "        voice (str): the voice model to use for speech sythesis. Options include:\n",
    "                    - 'alloy', 'echo', 'fable', 'onyx', 'nova', 'shimmer'.\n",
    "        output_filenmae (str): the name for the output audio file, including file extension (e.g., 'output.mp3')\n",
    "        \n",
    "    Returns:\n",
    "        str: the path to the saved audio file\n",
    "    \"\"\"\n",
    "    client = OpenAI()\n",
    "    speech_file_path = Path(output_filename)\n",
    "    \n",
    "    response = client.audio.speech.create(model='tts-1-hd', voice=voice, input=text)\n",
    "    \n",
    "    # save audio file\n",
    "    # response.stream_to_file(speech_file_path)      # deprecated\n",
    "    with open(speech_file_path, 'wb') as audio_file:\n",
    "        for chunk in response.iter_content(chunk_size=1024):\n",
    "            audio_file.write(chunk)\n",
    "    \n",
    "    return str(speech_file_path)"
   ]
  }
 ],
 "metadata": {
  "kernelspec": {
   "display_name": "agent",
   "language": "python",
   "name": "python3"
  },
  "language_info": {
   "codemirror_mode": {
    "name": "ipython",
    "version": 3
   },
   "file_extension": ".py",
   "mimetype": "text/x-python",
   "name": "python",
   "nbconvert_exporter": "python",
   "pygments_lexer": "ipython3",
   "version": "3.10.6"
  }
 },
 "nbformat": 4,
 "nbformat_minor": 2
}
