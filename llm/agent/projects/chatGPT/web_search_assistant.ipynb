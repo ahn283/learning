{
 "cells": [
  {
   "cell_type": "code",
   "execution_count": 1,
   "metadata": {},
   "outputs": [
    {
     "data": {
      "text/plain": [
       "False"
      ]
     },
     "execution_count": 1,
     "metadata": {},
     "output_type": "execute_result"
    }
   ],
   "source": [
    "from dotenv import load_dotenv\n",
    "load_dotenv()"
   ]
  },
  {
   "cell_type": "code",
   "execution_count": 2,
   "metadata": {},
   "outputs": [],
   "source": [
    "import os\n",
    "import keyring\n",
    "TAVILY_API_KEY = keyring.get_password('tavily', 'key_for_windows')\n",
    "OPENAI_API_KEY = keyring.get_password('openai', 'key_for_windows')\n",
    "os.environ['OPENAI_API_KEY'] = OPENAI_API_KEY\n",
    "os.environ['TAVILY_API_KEY'] = TAVILY_API_KEY"
   ]
  },
  {
   "cell_type": "code",
   "execution_count": null,
   "metadata": {},
   "outputs": [
    {
     "name": "stdout",
     "output_type": "stream",
     "text": [
      "content='' additional_kwargs={'tool_calls': [{'id': 'call_qR5rVASw0MMZ7wp8a5YB7ayO', 'function': {'arguments': '{\"query\":\"대한민국 축구 국가대표 명단 2024\"}', 'name': 'tavily_search_results_json'}, 'type': 'function'}], 'refusal': None} response_metadata={'token_usage': {'completion_tokens': 28, 'prompt_tokens': 231, 'total_tokens': 259, 'completion_tokens_details': {'accepted_prediction_tokens': 0, 'audio_tokens': 0, 'reasoning_tokens': 0, 'rejected_prediction_tokens': 0}, 'prompt_tokens_details': {'audio_tokens': 0, 'cached_tokens': 0}}, 'model_name': 'gpt-4o-mini-2024-07-18', 'system_fingerprint': 'fp_bba3c8e70b', 'finish_reason': 'tool_calls', 'logprobs': None} id='run-5631aa58-c171-4925-bd94-6f577ee75fc4-0' tool_calls=[{'name': 'tavily_search_results_json', 'args': {'query': '대한민국 축구 국가대표 명단 2024'}, 'id': 'call_qR5rVASw0MMZ7wp8a5YB7ayO', 'type': 'tool_call'}] usage_metadata={'input_tokens': 231, 'output_tokens': 28, 'total_tokens': 259, 'input_token_details': {'audio': 0, 'cache_read': 0}, 'output_token_details': {'audio': 0, 'reasoning': 0}}\n"
     ]
    }
   ],
   "source": [
    "# build a better chatbot with a system message\n",
    "from langchain_core.tools import tool\n",
    "from langchain_openai import ChatOpenAI\n",
    "from langchain_core.prompts import ChatPromptTemplate, SystemMessagePromptTemplate, HumanMessagePromptTemplate\n",
    "from datetime import datetime\n",
    "from langchain_community.tools.tavily_search import TavilySearchResults\n",
    "\n",
    "system_prompt = f\"\"\"\n",
    "You are a helpful AI Assistant that can use web search tool (tavily ai api).\n",
    "You should always answer in same language as user's ask.\n",
    "When use ask about information that you can't answer, you should call the web search tool.\n",
    "\n",
    "web search tool is useful when:\n",
    "- real-time info\n",
    "- local specialized info\n",
    "- metric related info\n",
    "\n",
    "you should use web search tool with the guidance below:\n",
    "- extract the use query's intent and rephrase the prompt into appropriate search query\n",
    "- web search tool (Tavily AI API) can deal with sentence query.\n",
    "you don't need to limit your querying ability to generating keyword only query.\n",
    "- Today is {datetime.now().strftime(\"%Y-%m-%d\")}\n",
    "\"\"\"\n",
    "\n",
    "prompt = ChatPromptTemplate.from_messages([\n",
    "    SystemMessagePromptTemplate.from_template(system_prompt),\n",
    "    HumanMessagePromptTemplate.from_template(\"{input}\")\n",
    "])\n",
    "\n",
    "# LLM 초기화 시스템 프롬프트 설정\n",
    "llm = ChatOpenAI(\n",
    "    model='gpt-4o-mini',\n",
    "    temperature=0\n",
    ")\n",
    "\n",
    "search = TavilySearchResults(max_results=5)\n",
    "\n",
    "tools = [search]\n",
    "llm_with_tools = llm.bind_tools(tools)\n",
    "\n",
    "# create a prompt chain\n",
    "chain = prompt | llm_with_tools\n",
    "\n",
    "result = chain.invoke({\"input\": \"대한민국 축구국가대표 명단 알려줘\"})\n",
    "\n",
    "print(result)"
   ]
  },
  {
   "cell_type": "code",
   "execution_count": 7,
   "metadata": {},
   "outputs": [
    {
     "name": "stdout",
     "output_type": "stream",
     "text": [
      "{'tool_calls': [{'id': 'call_qR5rVASw0MMZ7wp8a5YB7ayO', 'function': {'arguments': '{\"query\":\"대한민국 축구 국가대표 명단 2024\"}', 'name': 'tavily_search_results_json'}, 'type': 'function'}], 'refusal': None}\n"
     ]
    }
   ],
   "source": [
    "print(result.additional_kwargs)"
   ]
  },
  {
   "cell_type": "code",
   "execution_count": 8,
   "metadata": {},
   "outputs": [],
   "source": [
    "from typing import Annotated, TypedDict\n",
    "from langgraph.graph.message import add_messages\n",
    "from langgraph.graph import StateGraph, START, END\n",
    "from langgraph.prebuilt import ToolNode, tools_condition\n",
    "\n",
    "class State(TypedDict):\n",
    "    messages: Annotated[list, add_messages]\n",
    "    \n",
    "def chatbot(state: State):\n",
    "    return {\"messages\": [chain.invoke(state[\"messages\"])]}\n",
    "\n",
    "graph_builder = StateGraph(State)\n",
    "\n",
    "graph_builder.add_node(\"chatbot\", chatbot)\n",
    "\n",
    "# add a tool node\n",
    "tool_node = ToolNode(tools=tools)\n",
    "graph_builder.add_node(\"tools\", tool_node)\n",
    "\n",
    "# add a conditional edge\n",
    "graph_builder.add_conditional_edges(\n",
    "    \"chatbot\",\n",
    "    tools_condition\n",
    ")\n",
    "\n",
    "# add the returning edge to chatbot after tool calling\n",
    "graph_builder.add_edge(\"tools\", \"chatbot\")\n",
    "\n",
    "# set initial point\n",
    "graph_builder.add_edge(START, \"chatbot\")\n",
    "\n",
    "# compile the graph\n",
    "graph = graph_builder.compile()"
   ]
  },
  {
   "cell_type": "code",
   "execution_count": 9,
   "metadata": {},
   "outputs": [
    {
     "data": {
      "image/png": "[encoded data removed]",
      "text/plain": [
       "<IPython.core.display.Image object>"
      ]
     },
     "metadata": {},
     "output_type": "display_data"
    }
   ],
   "source": [
    "from IPython.display import Image, display\n",
    "\n",
    "display(Image(graph.get_graph().draw_mermaid_png()))"
   ]
  },
  {
   "cell_type": "code",
   "execution_count": 10,
   "metadata": {},
   "outputs": [
    {
     "name": "stdout",
     "output_type": "stream",
     "text": [
      "================================\u001b[1m Human Message \u001b[0m=================================\n",
      "\n",
      "대한민국 축구 국가대표팀 명단 알려줘\n",
      "==================================\u001b[1m Ai Message \u001b[0m==================================\n",
      "Tool Calls:\n",
      "  tavily_search_results_json (call_HdOUIWaLUdsefWQvhuVBZMez)\n",
      " Call ID: call_HdOUIWaLUdsefWQvhuVBZMez\n",
      "  Args:\n",
      "    query: 대한민국 축구 국가대표팀 명단 2024\n",
      "=================================\u001b[1m Tool Message \u001b[0m=================================\n",
      "Name: tavily_search_results_json\n",
      "\n",
      "[{\"url\": \"https://news.zum.com/articles/87857582\", \"content\": \"[문화뉴스 이하온 기자] 2023년 12월 28일(목), 2024 afc 카타르 아시안컵에 출전할 대한민국 남자 축구 국가대표팀 최종명단이 발표되었다. 위르겐 클리스만 감독은 인터뷰에서 \\\"조별리그에서 맞붙을 세 팀에 대한 숙제(분석)는 어느 정도 끝났다.\"}, {\"url\": \"https://www.kfa.or.kr/national/?act=mu_23\", \"content\": \"대한축구협회. kfa live; 국가대표 ... 2024 waff u-23 챔피언십 사우디아라비아 프린스 압둘라 빈 잘라위 스타디움. 남자 u-23 대표팀 1 ; 태국 0 ; 03. 21 목요일 02:00. 남자u-23 '정승배 멀티골' u-21 선발팀, 인도네시아에 2-1 승리\"}, {\"url\": \"https://www.kfa.or.kr/national/?act=nt_man\", \"content\": \"남자 국가대표팀 3 ; 쿠웨이트 1 ; 11. 14 목요일 23:00. 2026 fifa 북중미 월드컵 아시아 3차 예선 ... 팔레스타인전 선발 명단 발표 ... 사단법인 대한축구협회 대표자 : 정몽규\"}, {\"url\": \"https://olympics.com/ko/news/hong-myungbo-announces-korea-football-squad-october-2024\", \"content\": \"축구: 월드컵 3차 예선 선수 명단 확정 축구: 월드컵 3차 예선 선수 명단 확정 홍명보 한국 축구 대표팀 감독이 9월 30일 월요일 오전 서울 신문로 축구회관에서 기자회견을 열고 다음달 2026 국제축구연맹(FIFA) 월드컵 아시아 예선 3라운드 경기에 나설 선수 명단을 발표했습니다. 지난 7월 국가 대표팀 감독에 선임된 홍명보 감독은 최근 잉글랜드 프리미어 리그 경기 도중 햄스트링 부상을 당한 주장 손흥민을 이번에도 명단에 포함시킨 한편, 황희찬, 김민재, 이강인 등 기존의 대표팀 주축 선수들을 불러들였습니다. 10월 10일 오후 요르단 암만에서 B조 예선 3차전을 치르는 대표팀은 다음날 전세기 편으로 귀국해 15일 화요일 저녁 용인 미르 경기장에서 이라크와 맞붙게 됩니다. 2026 FIFA 월드컵 아시아 지역 3차 예선 일정 2026 FIFA 월드컵 아시아 지역 3차 예선 한국 선수단 ### 축구 2026 FIFA 월드컵 예선: 대한민국 5-0 싱가포르 ### 축구 FIFA 월드컵 예선: 황선홍, 월드컵-올림픽 대표팀 명단 발표\"}, {\"url\": \"https://ko.wikipedia.org/wiki/대한민국_축구_국가대표팀_2024_시즌\", \"content\": \"압델 알나크비 (아랍에미리트)\\n후보 대기심:\\n하산 알마흐리 (아랍에미리트)\\n비디오 판독심:\\n모함메드 압둘라 하산 모하메드 (아랍에미리트)\\n보조 비디오 판독심:\\n오마르 알알리 (아랍에미리트)\\nvs 요르단 (2)[편집]\\n2023년 AFC 아시안컵 준결승전\\n최우수 선수:\\n부심:\\n모하메드 알 함마디 (아랍에미리트)\\n하산 알 마흐리 (아랍에미리트)\\n대기심:\\n마닝 (중국)\\n후보 대기심:\\n저우페이 (중국)\\n비디오 판독심:\\n 부심:\\n안드레이 차펜코 (우즈베키스탄)\\n티무르 가이눌린 (우즈베키스탄)\\n대기심:\\n아드함 마카드메 (요르단)\\n후보 대기심:\\n아흐마드 압바스 (쿠웨이트)\\n비디오 판독심:\\n아흐마드 알알리 (쿠웨이트)\\n보조 비디오 판독심:\\n압델 알나크비 (아랍에미리트)\\nvs 오스트레일리아[편집]\\n2023년 AFC 아시안컵 8강\\n최우수 선수:\\n부심:\\n아부 바카르 알암리 (오만)\\n라시드 알가이티 (오만)\\n대기심:\\n 오마르 알 알리 (아랍에미리트)\\n보조 비디오 판독심:\\n이이다 줌페이 (일본)\\nvs 태국[편집]\\n2026년 FIFA 월드컵 2차 예선\\nvs 태국[편집]\\n2026년 FIFA 월드컵 2차 예선\\nvs 싱가포르[편집]\\n2026년 FIFA 월드컵 2차 예선\\nvs 중화인민공화국[편집]\\n2026년 FIFA 월드컵 2차 예선\\n통계[편집]\\n국가대표팀 기록[편집]\\n개인 기록[편집]\\n팀별 국가대표 차출 인원[편집]\\n리그별 국가대표 차출 인원[편집]\\n각주[편집]\\n외부 링크[편집] E조\\n최우수 선수:\\n손흥민 (대한민국)\\n부심:\\n탈레브 알마리 (카타르)\\n사우드 알마칼레 (카타르)\\n대기심:\\n압델 알나크비 (아랍에미리트)\\n후보 대기심:\\n모하메드 알함마디 (아랍에미리트)\\n비디오 판독심:\\n압둘라 알마리 (카타르)\\n보조 비디오 판독심:\\n압둘라흐만 알자심 (카타르)\\nvs 말레이시아[편집]\\n2023년 AFC 아시안컵 부심:\\n저우페이 (중국)\\n장청 (중국)\\n대기심:\\n아라키 유스케 (일본)\\n후보 대기심:\\n다카기 다쿠미 (일본)\\n비디오 판독심:\\n푸밍 (중국)\\n보조 비디오 판독심:\\n한나 하타브 (시리아)\\nvs 요르단 (1)[편집]\\n2023년 AFC 아시안컵\"}]\n",
      "==================================\u001b[1m Ai Message \u001b[0m==================================\n",
      "\n",
      "2024년 AFC 카타르 아시안컵에 출전할 대한민국 남자 축구 국가대표팀의 최종 명단이 발표되었습니다. 감독 위르겐 클리스만은 손흥민, 황희찬, 이강인 등 주요 선수들을 포함한 26명의 선수를 선발했습니다. \n",
      "\n",
      "자세한 내용은 다음 링크에서 확인하실 수 있습니다:\n",
      "- [남자 축구 대표팀, 2024 아시안컵 최종명단 발표](https://news.zum.com/articles/87857582)\n",
      "\n",
      "추가적으로 대한축구협회 공식 웹사이트에서도 관련 정보를 확인할 수 있습니다:\n",
      "- [대한축구협회](https://www.kfa.or.kr/national/?act=nt_man)\n"
     ]
    }
   ],
   "source": [
    "# The config is the **second position argument** to stream() or invoke()!\n",
    "config = {\"configurable\": {\"thread_id\": \"1\"}}\n",
    "\n",
    "events = graph.stream(\n",
    "    {\"messages\": [(\"user\", input(\"User: \"))]}, config, stream_mode=\"values\"\n",
    ")\n",
    "for event in events:\n",
    "    event['messages'][-1].pretty_print()"
   ]
  },
  {
   "cell_type": "code",
   "execution_count": 11,
   "metadata": {},
   "outputs": [
    {
     "data": {
      "text/plain": [
       "False"
      ]
     },
     "execution_count": 11,
     "metadata": {},
     "output_type": "execute_result"
    }
   ],
   "source": [
    "# imporve controllability using custom tool setting\n",
    "from dotenv import load_dotenv\n",
    "load_dotenv()"
   ]
  },
  {
   "cell_type": "code",
   "execution_count": 12,
   "metadata": {},
   "outputs": [],
   "source": [
    "from langchain_core.tools import tool\n",
    "from tavily import TavilyClient\n",
    "\n",
    "@tool\n",
    "def search_news(keyword: str) -> str:\n",
    "    \"\"\"Collect recent news for the given query.\"\"\"\n",
    "    tavily_client = TavilyClient(api_key=TAVILY_API_KEY)\n",
    "    search_results = tavily_client.search(query=keyword, topic=\"news\", days=30)\n",
    "    return search_results"
   ]
  },
  {
   "cell_type": "code",
   "execution_count": 16,
   "metadata": {},
   "outputs": [
    {
     "name": "stdout",
     "output_type": "stream",
     "text": [
      "Help on TavilyClient in module tavily.tavily object:\n",
      "\n",
      "class TavilyClient(builtins.object)\n",
      " |  TavilyClient(api_key: Optional[str] = None)\n",
      " |  \n",
      " |  Tavily API client class.\n",
      " |  \n",
      " |  Methods defined here:\n",
      " |  \n",
      " |  __init__(self, api_key: Optional[str] = None)\n",
      " |      Initialize self.  See help(type(self)) for accurate signature.\n",
      " |  \n",
      " |  extract(self, urls: Union[List[str], str], **kwargs) -> dict\n",
      " |      Combined extract method.\n",
      " |  \n",
      " |  get_company_info(self, query: str, search_depth: Literal['basic', 'advanced'] = 'advanced', max_results: int = 5) -> Sequence[dict]\n",
      " |      Company information search method. Search depth is advanced by default to get the best answer.\n",
      " |  \n",
      " |  get_search_context(self, query: str, search_depth: Literal['basic', 'advanced'] = 'basic', topic: Literal['general', 'news'] = 'general', days: int = 3, max_results: int = 5, include_domains: Sequence[str] = None, exclude_domains: Sequence[str] = None, max_tokens: int = 4000, **kwargs) -> str\n",
      " |      Get the search context for a query. Useful for getting only related content from retrieved websites\n",
      " |      without having to deal with context extraction and limitation yourself.\n",
      " |      \n",
      " |      max_tokens: The maximum number of tokens to return (based on openai token compute). Defaults to 4000.\n",
      " |      \n",
      " |      Returns a string of JSON containing the search context up to context limit.\n",
      " |  \n",
      " |  qna_search(self, query: str, search_depth: Literal['basic', 'advanced'] = 'advanced', topic: Literal['general', 'news'] = 'general', days: int = 3, max_results: int = 5, include_domains: Sequence[str] = None, exclude_domains: Sequence[str] = None, **kwargs) -> str\n",
      " |      Q&A search method. Search depth is advanced by default to get the best answer.\n",
      " |  \n",
      " |  search(self, query: str, search_depth: Literal['basic', 'advanced'] = 'basic', topic: Literal['general', 'news'] = 'general', days: int = 3, max_results: int = 5, include_domains: Sequence[str] = None, exclude_domains: Sequence[str] = None, include_answer: bool = False, include_raw_content: bool = False, include_images: bool = False, **kwargs) -> dict\n",
      " |      Combined search method.\n",
      " |  \n",
      " |  ----------------------------------------------------------------------\n",
      " |  Data descriptors defined here:\n",
      " |  \n",
      " |  __dict__\n",
      " |      dictionary for instance variables (if defined)\n",
      " |  \n",
      " |  __weakref__\n",
      " |      list of weak references to the object (if defined)\n",
      "\n"
     ]
    }
   ],
   "source": [
    "tavily_client = TavilyClient(api_key=TAVILY_API_KEY)\n",
    "help(tavily_client)"
   ]
  },
  {
   "cell_type": "code",
   "execution_count": 13,
   "metadata": {},
   "outputs": [],
   "source": [
    "# Set prompt while initialize LLM\n",
    "llm = ChatOpenAI(\n",
    "    model='gpt-4o-mini',\n",
    "    temperature=0\n",
    ")\n",
    "tools = [search_news]\n",
    "llm_with_tools = llm.bind_tools(tools)"
   ]
  },
  {
   "cell_type": "code",
   "execution_count": 14,
   "metadata": {},
   "outputs": [],
   "source": [
    "class State(TypedDict):\n",
    "    messages: Annotated[list, add_messages]\n",
    "    \n",
    "def chatbot(state: State):\n",
    "    return {\"messages\": [llm_with_tools.invoke(state[\"messages\"])]}\n",
    "\n",
    "graph_builder = StateGraph(State)\n",
    "\n",
    "graph_builder.add_node(\"chatbot\", chatbot)\n",
    "\n",
    "# add a tool node\n",
    "tool_node = ToolNode(tools=tools)\n",
    "graph_builder.add_node(\"tools\", tool_node)\n",
    "\n",
    "# add a conditional edge\n",
    "graph_builder.add_conditional_edges(\n",
    "    \"chatbot\",\n",
    "    tools_condition\n",
    ")\n",
    "\n",
    "# add a edge for returning to the chatbot after tool calling\n",
    "graph_builder.add_edge(\"tools\", \"chatbot\")\n",
    "\n",
    "# set initial point\n",
    "graph_builder.add_edge(START, \"chatbot\")\n",
    "\n",
    "# compile the graph\n",
    "graph = graph_builder.compile()"
   ]
  },
  {
   "cell_type": "code",
   "execution_count": 15,
   "metadata": {},
   "outputs": [
    {
     "name": "stdout",
     "output_type": "stream",
     "text": [
      "================================\u001b[1m Human Message \u001b[0m=================================\n",
      "\n",
      "지금 상영하고 있는 영화중 인기가 가장 많은 것은?\n",
      "==================================\u001b[1m Ai Message \u001b[0m==================================\n",
      "Tool Calls:\n",
      "  search_news (call_3XUDTklKYtQm9iDpVcmmnhh0)\n",
      " Call ID: call_3XUDTklKYtQm9iDpVcmmnhh0\n",
      "  Args:\n",
      "    keyword: 현재 상영 중인 인기 영화\n",
      "=================================\u001b[1m Tool Message \u001b[0m=================================\n",
      "Name: search_news\n",
      "\n",
      "{\"query\": \"현재 상영 중인 인기 영화\", \"follow_up_questions\": null, \"answer\": null, \"images\": [], \"results\": [{\"url\": \"https://www.houstonchronicle.com/entertainment/movies_tv/article/y2k-the-order-new-films-19954939.php\", \"title\": \"'Flow,' 'The Order,' 'Y2K,' 'The Return' top the list of new films opening this week - Houston Chronicle\", \"score\": 0.43146437, \"published_date\": \"Wed, 04 Dec 2024 12:11:36 GMT\", \"content\": \"'Flow,' 'The Order,' 'Y2K,' 'The Return' top the new films opening 'Flow,' 'The Order,' 'Y2K,' 'The Return' top the list of new films opening this week Opens Friday throughout Houston. Opens Friday at AMC Gulf Pointe 30, Houston; AMC Willowbrook 24, Houston; AMC Katy Mills 20, Katy; AMC Loews Fountains 18, Stafford; AMC First Colony 24, Sugar Land. Opens Friday throughout Houston. Opens Friday at AMC Willowbrook 24, Houston. Opens Friday throughout Houston. Opens Friday throughout Houston. Opens Friday throughout Houston. Opens Friday throughout Houston. Opens Friday at iPic Houston; begins streaming Dec. 20 on Netflix. Opens Friday throughout Houston. Opens Friday throughout Houston. Opens Friday throughout Houston. Cary Darling is the arts and entertainment editor for the Houston Chronicle.\"}, {\"url\": \"https://www.chicagotribune.com/2024/11/10/heretic-and-hugh-grant-debut-with-11-million-but-venom-the-last-dance-tops-box-office-again/\", \"title\": \"‘Heretic’ and Hugh Grant debut with $11 million, but ‘Venom: The Last Dance’ tops box office again - Chicago Tribune\", \"score\": 0.370567, \"published_date\": \"Sun, 10 Nov 2024 18:54:39 GMT\", \"content\": \"For the third weekend in a row, “Venom: The Last Dance” was the No. 1 movie at the box office, collecting $16.2 million in ticket sales in U.S. and Canadian theaters, according to studio estimates Sunday. “The Best Christmas Pageant Ever,” though, factored in $2.2 million in sneak-peak screenings from last weekend to claim a reported opening gross of $11.1 million. The good news for theaters: The next few weeks are lined up for several big new releases, including the Amazon MGM Christmas comedy “Red One” (Nov. 15), Paramount Pictures’ “Gladiator II” (Nov. 22), Universal’s “Wicked” (also Nov. 22) and the Walt Disney Co.’s “Moana 2” (Nov. 27). 3. “The Best Christmas Pageant Ever,” $8.9 million.\"}, {\"url\": \"https://www.hollywoodreporter.com/movies/movie-news/venom-last-dance-box-office-post-election-1236057931/\", \"title\": \"Box Office: ‘Venom 3’ Leads Quiet Frame as Major Studios Abandon Post-Election Weekend - Hollywood Reporter\", \"score\": 0.35499188, \"published_date\": \"Sun, 10 Nov 2024 16:09:20 GMT\", \"content\": \"The lack of a big new title on the marquee — two years ago on this weekend, Disney unfurled Black Panther: Wakanda Forever, for example, followed by The Marvels last year — allowed Sony’s Venom: The Last Dance to stay atop the domestic box office chart in its third weekend with an estimated $16.2 million from 3,905 theaters for a domestic tally of $114.8 million. Aside from the major studios, not everyone stayed on the sidelines and there’s a close race underway for second place between Lionsgate and Kingdom Films faith-tinged Best Christmas Pageant Ever, which is reporting an estimated opening of $11.1 million from 3,020 theaters, and A24’s psychological horror pic Heretic, which is reporting an estimated $11 million from 3,221 cinemas.\"}, {\"url\": \"https://deadline.com/2024/12/moana-2-wicked-amc-entertainment-record-1236190886/\", \"title\": \"‘Moana 2’ & ‘Glicked’ Fuels AMC To Record 8M+ Attendance Record Over Thanksgiving Stretch - Deadline\", \"score\": 0.24490438, \"published_date\": \"Mon, 02 Dec 2024 12:30:00 GMT\", \"content\": \"'Moana 2', 'Glicked' Fuel AMC To Record 8.8M Attendance Over Thanksgiving ‘Moana 2’ & ‘Glicked’ Fuels AMC To Record 8M+ Attendance Record Over Thanksgiving Stretch Thanksgiving 5-Day U.S. Box Office Hitting Amazing All-Time $420M High; AMC Boss Adam Aron Declares “A National Phenomenon” – Update Thanksgiving 5-Day U.S. Box Office Hitting Amazing All-Time $420M High; AMC Boss Adam Aron Declares \\\"A National Phenomenon\\\" - Update Thanksgiving 5-Day U.S. Box Office Hitting All-Time $420M High 3 Thanksgiving 5-Day U.S. Box Office Hitting Amazing All-Time $420M High; AMC Boss Adam Aron Declares \\\"A National Phenomenon\\\" - Update  ### Thanksgiving 5-Day U.S. Box Office Hitting Amazing All-Time $420M High; AMC Boss Adam Aron Declares \\\"A National Phenomenon\\\" - Update  Box Office Expand the sub-menu\"}, {\"url\": \"https://www.huffpost.com/entry/say-nothing-popular-netflix-shows_l_673aa0e3e4b0dc77d7d7f7ed\", \"title\": \"This Buzzy New Historical Drama Is A Top Show On Hulu Right Now - HuffPost\", \"score\": 0.24148938, \"published_date\": \"Mon, 18 Nov 2024 14:54:53 GMT\", \"content\": \"Say Nothing: Buzzy New Historical Drama Is A Top Show On Hulu | HuffPost Life Part of HuffPost News. A political thriller and a baking competition series are also among the shows trending across streaming services including Max, Netflix, Apple TV+ and Peacock. Read on for more trending shows of the moment across streaming services including Max, Netflix, Apple TV+ and Peacock. Hosted by “Harry Potter” actors James and Oliver Phelps, the new Food Network competition series premiered on Nov. 14 and features guest appearances from other stars from the film franchise, including Evanna Lynch and Bonnie Wright. The top show on Netflix right now is “Cobra Kai” following the release of Part 2 of the sixth and final season on Nov. 15. Part of HuffPost News.\"}], \"response_time\": 0.25}\n",
      "==================================\u001b[1m Ai Message \u001b[0m==================================\n",
      "\n",
      "현재 상영 중인 영화 중에서 가장 인기가 많은 영화는 **\"Venom: The Last Dance\"**입니다. 이 영화는 최근 3주 연속 박스오피스 1위를 차지하며, 지난 주말에만 1620만 달러의 수익을 올렸습니다. \n",
      "\n",
      "추가적으로, **\"The Best Christmas Pageant Ever\"**와 **\"Heretic\"**도 주목받고 있으며, 각각 1110만 달러와 1100만 달러의 수익을 기록했습니다. \n",
      "\n",
      "더 자세한 내용은 아래의 링크에서 확인하실 수 있습니다:\n",
      "- [Chicago Tribune 기사](https://www.chicagotribune.com/2024/11/10/heretic-and-hugh-grant-debut-with-11-million-but-venom-the-last-dance-tops-box-office-again/)\n"
     ]
    }
   ],
   "source": [
    "# The config is the **second positional argument** to stream() or invoke()!\n",
    "events = graph.stream(\n",
    "    {\"messages\": [(\"user\", input(\"User: \"))]}, config, stream_mode=\"values\"\n",
    ")\n",
    "for event in events:\n",
    "    event['messages'][-1].pretty_print()"
   ]
  },
  {
   "cell_type": "code",
   "execution_count": null,
   "metadata": {},
   "outputs": [],
   "source": []
  }
 ],
 "metadata": {
  "kernelspec": {
   "display_name": "agent",
   "language": "python",
   "name": "python3"
  },
  "language_info": {
   "codemirror_mode": {
    "name": "ipython",
    "version": 3
   },
   "file_extension": ".py",
   "mimetype": "text/x-python",
   "name": "python",
   "nbconvert_exporter": "python",
   "pygments_lexer": "ipython3",
   "version": "3.10.6"
  }
 },
 "nbformat": 4,
 "nbformat_minor": 2
}
