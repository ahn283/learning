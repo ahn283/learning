{
 "cells": [
  {
   "cell_type": "code",
   "execution_count": 1,
   "metadata": {},
   "outputs": [],
   "source": [
    "import os\n",
    "import keyring\n",
    "# import warnings\n",
    "# warnings.filterwarnings('ignore')\n",
    "OPENAI_API_KEY = keyring.get_password('openai', 'key_for_windows')\n",
    "TAVILY_API_KEY = keyring.get_password('tavily', 'key_for_windows')\n",
    "\n",
    "os.environ['OPENAI_API_KEY'] = OPENAI_API_KEY\n",
    "os.environ['TAVILY_API_KEY'] = TAVILY_API_KEY"
   ]
  },
  {
   "cell_type": "code",
   "execution_count": 2,
   "metadata": {},
   "outputs": [],
   "source": [
    "# web search and code execution tool\n",
    "from typing import Annotated\n",
    "from langchain_community.tools.tavily_search import TavilySearchResults\n",
    "from langchain_experimental.tools import PythonREPLTool\n",
    "\n",
    "tavily_tool = TavilySearchResults(max_results=5)\n",
    "python_repl_tool = PythonREPLTool()"
   ]
  },
  {
   "cell_type": "code",
   "execution_count": 3,
   "metadata": {},
   "outputs": [
    {
     "data": {
      "text/plain": [
       "{'2024-11-22': 141.9499969482422,\n",
       " '2024-11-25': 136.02000427246094,\n",
       " '2024-11-26': 136.9199981689453,\n",
       " '2024-11-27': 135.33999633789062,\n",
       " '2024-11-29': 138.25}"
      ]
     },
     "execution_count": 3,
     "metadata": {},
     "output_type": "execute_result"
    }
   ],
   "source": [
    "# recent stock prices and financial analyzing tool with yfinance\n",
    "import yfinance as yf \n",
    "from datetime import datetime, timedelta\n",
    "import pandas as pd \n",
    "\n",
    "ticker = yf.Ticker('NVDA')\n",
    "historical_prices = ticker.history(period='5d', interval='1d')\n",
    "\n",
    "last_5_days_close = historical_prices['Close'].tail(5)\n",
    "last_5_days_close_dict = {date.strftime('%Y-%m-%d'): price for date, price in last_5_days_close.items()}\n",
    "\n",
    "# annual and quarterly financial statements data\n",
    "last_5_days_close_dict"
   ]
  },
  {
   "cell_type": "code",
   "execution_count": 4,
   "metadata": {},
   "outputs": [],
   "source": [
    "from langchain.tools import BaseTool, StructuredTool, tool\n",
    "import yfinance as yf \n",
    "from datetime import datetime, timedelta\n",
    "import pandas as pd \n",
    "\n",
    "# financial analysis tool\n",
    "@tool\n",
    "def stock_analysis(ticker: str) -> str:\n",
    "    \"\"\" \n",
    "    Total financial analysis on the figen stock ticker.\n",
    "    Recent stock prices, financial statements, growth rates, valuation and ratios.\n",
    "    Args\n",
    "        ticker: str - stock ticker\n",
    "        return: str -\n",
    "    \"\"\"\n",
    "    def format_number(number):\n",
    "        if number is None or pd.isna(number):\n",
    "            return 'N/A'\n",
    "        return f\"{number:,.0f}\"\n",
    "    \n",
    "    def format_financial_summary(financials):\n",
    "        summary = {}\n",
    "        for date, data in financials.items():\n",
    "            date_str = date.strftime('%Y-%m-%d')\n",
    "            summary[date_str] = {\n",
    "                'Total revenue': format_number(data.get('TotalRevenue')),\n",
    "                'Operating Income': format_number(data.get('OperatingIncome')),\n",
    "                'Net Income': format_number(data.get('NetIncome')),\n",
    "                'EBITDA': format_number(data.get('EBITDA')),\n",
    "                'Diluted EPS': f\"${data.get('DilutedEPS'):.2f}\" if pd.notna(data.get('DilutedEPS')) else \"N/A\"\n",
    "            }\n",
    "        return summary\n",
    "    \n",
    "    ticker = yf.Ticker(ticker)\n",
    "    historical_prices = ticker.history(period='5d', intervals='1d')\n",
    "    \n",
    "    last_5_days_close = historical_prices['Close'].tail(5)\n",
    "    last_5_days_close_dict = {date.strftime('%Y-%m-%d'): price for date, price in last_5_days_close.items()}\n",
    "    \n",
    "    # annual and quarterly financial statements\n",
    "    annual_financials = ticker.get_financials()\n",
    "    quarterly_financials = ticker.get_financials(freq='quarterly')\n",
    "    \n",
    "    return str({\n",
    "        \"Recent 5 days close prices\": last_5_days_close_dict,\n",
    "        \"annual financial statements summary\": format_financial_summary(annual_financials),\n",
    "        \"quarterly financial statements summary\": format_financial_summary(quarterly_financials),\n",
    "    })"
   ]
  },
  {
   "cell_type": "code",
   "execution_count": 6,
   "metadata": {},
   "outputs": [],
   "source": [
    "# Supervisor agent\n",
    "from langchain_core.prompts import ChatPromptTemplate, MessagesPlaceholder\n",
    "from langchain_openai import ChatOpenAI\n",
    "from pydantic import BaseModel\n",
    "from typing import Literal\n",
    "\n",
    "members = ['Researcher', 'Stock_Analyzer', 'Chart_Generator']\n",
    "system_prompt = (\n",
    "    \"You are a supervisor tasked with managing a conversation between the\"\n",
    "    \" following workers: {members}. Given the following user request,\"\n",
    "    \" respond with the worker to act next. Each worker will perform a\"\n",
    "    \" task and respond with their results and status. When finished,\"\n",
    "    \" respond with FINISH.\"\n",
    ")\n",
    "\n",
    "# our team supervisor is an LLM node. It just picks the next agent to process\n",
    "# and decided when the work is completed\n",
    "options = ['FINISH'] + members\n",
    "\n",
    "class routeResponse(BaseModel):\n",
    "    next: Literal['FINISH', 'Researcher', 'Stock_Analyzer', 'Chart_Generator']\n",
    "    \n",
    "prompt = ChatPromptTemplate.from_messages(\n",
    "    [\n",
    "        ('system', system_prompt),\n",
    "        MessagesPlaceholder(variable_name=\"messages\"),\n",
    "        (\n",
    "            \"system\",\n",
    "            \"Given the conversation above, who should act next?\"\n",
    "            \" Or should we FINISH? Select one of: {options}\",\n",
    "        )\n",
    "    ]\n",
    ").partial(options=\", \".join(options), members=\", \".join(members))\n",
    "     \n",
    "llm = ChatOpenAI(model='gpt-4o-mini')\n",
    "\n",
    "def supervisor_agent(state):\n",
    "    supervisor_chain = (\n",
    "        prompt | llm.with_structured_output(routeResponse)\n",
    "    )\n",
    "    return supervisor_chain.invoke(state)"
   ]
  },
  {
   "cell_type": "code",
   "execution_count": 7,
   "metadata": {},
   "outputs": [],
   "source": [
    "# define sub agent function\n",
    "from langchain_core.messages import HumanMessage\n",
    "\n",
    "def agent_node(state, agent, name):\n",
    "    result = agent.invoke(state)\n",
    "    return {\"messages\": [HumanMessage(content=result[\"messages\"][-1].content, name=name)]}"
   ]
  },
  {
   "cell_type": "code",
   "execution_count": null,
   "metadata": {},
   "outputs": [],
   "source": []
  }
 ],
 "metadata": {
  "kernelspec": {
   "display_name": "agent",
   "language": "python",
   "name": "python3"
  },
  "language_info": {
   "codemirror_mode": {
    "name": "ipython",
    "version": 3
   },
   "file_extension": ".py",
   "mimetype": "text/x-python",
   "name": "python",
   "nbconvert_exporter": "python",
   "pygments_lexer": "ipython3",
   "version": "3.10.6"
  }
 },
 "nbformat": 4,
 "nbformat_minor": 2
}
