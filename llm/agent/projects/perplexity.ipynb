{
 "cells": [
  {
   "cell_type": "code",
   "execution_count": null,
   "metadata": {},
   "outputs": [],
   "source": [
    "# !pip install langchain_chroma pytube youtube-search youtube-transcript-api nest_asyncio wolframalpha"
   ]
  },
  {
   "cell_type": "code",
   "execution_count": 7,
   "metadata": {},
   "outputs": [],
   "source": [
    "import os\n",
    "import keyring\n",
    "import warnings\n",
    "warnings.filterwarnings('ignore')\n",
    "\n",
    "OPENAI_API_KEY = keyring.get_password('openai', 'key_for_windows')\n",
    "TAVILY_API_KEY = keyring.get_password('tavily', 'key_for_windows')\n",
    "WOFRAM_ALPHA_APPID = keyring.get_password('wolfram', 'key_for_windows')\n",
    "\n",
    "os.environ['OPENAI_API_KEY'] = OPENAI_API_KEY\n",
    "os.environ['TAVILY_API_KEY'] = TAVILY_API_KEY\n",
    "os.environ['WOLFRAM_ALPHA_APPID'] = WOFRAM_ALPHA_APPID"
   ]
  },
  {
   "cell_type": "code",
   "execution_count": null,
   "metadata": {},
   "outputs": [],
   "source": [
    "# Set async for using Woframlapha API\n",
    "\n",
    "import asyncio\n",
    "asyncio.set_event_loop_policy(asyncio.DefaultEventLoopPolicy())\n",
    "\n",
    "import nest_asyncio\n",
    "nest_asyncio.apply()"
   ]
  },
  {
   "cell_type": "code",
   "execution_count": 9,
   "metadata": {},
   "outputs": [],
   "source": [
    "from langchain_community.utilities.wolfram_alpha import WolframAlphaAPIWrapper\n",
    "wolfram = WolframAlphaAPIWrapper()"
   ]
  },
  {
   "cell_type": "code",
   "execution_count": 10,
   "metadata": {},
   "outputs": [],
   "source": [
    "# Set state including focus key value\n",
    "from typing import Annotated, Literal\n",
    "from typing_extensions import TypedDict\n",
    "from langgraph.graph.message import add_messages\n",
    "\n",
    "class State(TypedDict):\n",
    "    messages: Annotated[list, add_messages]\n",
    "    focus: Literal[\"web\", \"academic\", \"video\", \"math\"]"
   ]
  },
  {
   "cell_type": "code",
   "execution_count": 15,
   "metadata": {},
   "outputs": [],
   "source": [
    "# define tools for web searching, retrieving articles, math calculation\n",
    "from langchain_community.tools.tavily_search import TavilySearchResults\n",
    "from langchain_community.utilities import ArxivAPIWrapper\n",
    "from langchain_community.tools import YouTubeSearchTool\n",
    "from langchain_core.tools import tool\n",
    "from langgraph.prebuilt import ToolNode\n",
    "from langchain_community.utilities.wolfram_alpha import WolframAlphaAPIWrapper\n",
    "import re\n",
    "\n",
    "web_tool = TavilySearchResults(max_results=2)\n",
    "\n",
    "@tool\n",
    "def academic_tool(query: str):\n",
    "    \"\"\" \n",
    "    academic papaer search tool\n",
    "    \"\"\"\n",
    "    arxiv = ArxivAPIWrapper()\n",
    "    docs = arxiv.run(query)\n",
    "    return docs\n",
    "    \n",
    "@tool\n",
    "def math_tool(query: str):\n",
    "    \"\"\" \n",
    "    math tool\n",
    "    \"\"\"\n",
    "    worlfram = WolframAlphaAPIWrapper()\n",
    "    result = wolfram.run(query)\n",
    "    return result"
   ]
  },
  {
   "cell_type": "code",
   "execution_count": 16,
   "metadata": {},
   "outputs": [
    {
     "data": {
      "text/plain": [
       "'Published: 2024-03-22\\nTitle: CACA Agent: Capability Collaboration based AI Agent\\nAuthors: Peng Xu, Haoran Wang, Chuang Wang, Xu Liu\\nSummary: As AI Agents based on Large Language Models (LLMs) have shown potential in\\npractical applications across various fields, how to quickly deploy an AI agent\\nand how to conveniently expand the application scenario of AI agents has become\\na challenge. Previous studies mainly focused on implementing all the reasoning\\ncapabilities of AI agents within a single LLM, which often makes the model more\\ncomplex and also reduces the extensibility of AI agent functionality. In this\\npaper, we propose CACA Agent (Capability Collaboration based AI Agent), using\\nan open architecture inspired by service computing. CACA Agent integrates a set\\nof collaborative capabilities to implement AI Agents, not only reducing the\\ndependence on a single LLM, but also enhancing the extensibility of both the\\nplanning abilities and the tools available to AI agents. Utilizing the proposed\\nsystem, we present a demo to illustrate the operation and the application\\nscenario extension of CACA Agent.\\n\\nPublished: 2024-06-01\\nTitle: Generative AI as Economic Agents\\nAuthors: Nicole Immorlica, Brendan Lucier, Aleksandrs Slivkins\\nSummary: Traditionally, AI has been modeled within economics as a technology that\\nimpacts payoffs by reducing costs or refining information for human agents. Our\\nposition is that, in light of recent advances in generative AI, it is\\nincreasingly useful to model AI itself as an economic agent. In our framework,\\neach user is augmented with an AI agent and can consult the AI prior to taking\\nactions in a game. The AI agent and the user have potentially different\\ninformation and preferences over the communication, which can result in\\nequilibria that are qualitatively different than in settings without AI.\\n\\nPublished: 2024-10-22\\nTitle: Levels of AI Agents: from Rules to Large Language Models\\nAuthors: Yu Huang\\nSummary: AI agents are defined as artificial entities to perceive the environment,\\nmake decisions and take actions. Inspired by the 6 levels of autonomous driving\\nby Society of Automotive Engineers, the AI agents are also categorized based on\\nutilities and strongness, as the following levels: L0, no AI, with tools taking\\ninto account perception plus actions; L1, using rule-based AI; L2, making\\nrule-based AI replaced by IL/RL-based AI, with additional reasoning & decision\\nmaking; L3, applying LLM-based AI instead of IL/RL-based AI, additionally\\nsetting up memory & reflection; L4, based on L3, facilitating autonomous\\nlearning & generalization; L5, based on L4, appending personality of emotion\\nand character and collaborative behavior with multi-agents.'"
      ]
     },
     "execution_count": 16,
     "metadata": {},
     "output_type": "execute_result"
    }
   ],
   "source": [
    "academic_tool.run(\"AI agent\")"
   ]
  },
  {
   "cell_type": "code",
   "execution_count": 17,
   "metadata": {},
   "outputs": [
    {
     "data": {
      "text/plain": [
       "'Assumption: 123×123^2 \\nAnswer: 1860867'"
      ]
     },
     "execution_count": 17,
     "metadata": {},
     "output_type": "execute_result"
    }
   ],
   "source": [
    "math_tool.run(\"123*123^2\")"
   ]
  },
  {
   "cell_type": "code",
   "execution_count": 23,
   "metadata": {},
   "outputs": [],
   "source": [
    "# define video search tool\n",
    "from langchain_chroma import Chroma\n",
    "from langchain_openai import OpenAIEmbeddings\n",
    "from langchain_text_splitters import RecursiveCharacterTextSplitter\n",
    "from langchain_community.tools import YouTubeSearchTool\n",
    "from langchain_community.document_loaders import YoutubeLoader\n",
    "from langchain_core.documents import Document\n",
    "import ast\n",
    "\n",
    "youtube_search_tool = YouTubeSearchTool()\n",
    "\n",
    "@tool\n",
    "def video_tool(query:str) -> str:\n",
    "    \"\"\" \n",
    "    Retrieve tool for the transcrript of Youtube video.\n",
    "    If user want to find some information, this tool is to gather youtube video information.\n",
    "    query should be given in string format.\n",
    "    \"\"\"\n",
    "    try:\n",
    "        # query에 해당하는 youtube 비디오 url 가져오기\n",
    "        urls = youtube_search_tool.run(query)\n",
    "        urls = ast.literal_eval(urls)\n",
    "        # url 순회하면서 Document 객체에 내용 담기\n",
    "        docs = []\n",
    "        for url in urls:\n",
    "            loader = YoutubeLoader.from_youtube_url(\n",
    "                url,\n",
    "                add_video_info=True,\n",
    "                language=[\"en\", \"ko\"]\n",
    "            )\n",
    "            scripts = loader.load()\n",
    "            script_content = scripts[0].page_content\n",
    "            title = scripts[0].metadata['title']\n",
    "            author = scripts[0].metadata['author']\n",
    "            doc = Document(page_content=script_content, metadata={\"source\":url, \"title\":title, \"author\":author})\n",
    "            docs.append(doc)\n",
    "            \n",
    "        # 모든 비디오의 내용을 벡터DB에 담기\n",
    "        text_splitter = RecursiveCharacterTextSplitter(\n",
    "            separators = [\"\\n\\n\", \"\\n\", \".\", \",\", \" \", \"\"],\n",
    "            chunk_size = 1000,\n",
    "            chunk_overlap = 0\n",
    "        )\n",
    "        texts = text_splitter.split_documents(docs)\n",
    "        \n",
    "        # generate embeddings\n",
    "        embeddings = OpenAIEmbeddings()\n",
    "        db = Chroma.from_documents(texts, embeddings)\n",
    "        retriever = db.as_retriever()\n",
    "        \n",
    "        # retrieved relevant docuements\n",
    "        retrieved_docs = retriever.invoke(query)\n",
    "        \n",
    "        video_results = []\n",
    "        for docs in retrieved_docs:\n",
    "            title = doc.metadata.get('title', 'No title available')\n",
    "            author = doc.metadata.get('author', 'No author available')\n",
    "            script_content = doc.page_content\n",
    "            \n",
    "            video_info = f\"\"\"\n",
    "            Video Information:\n",
    "            ------------------\n",
    "            Title: {title}\n",
    "            Author: {author}\n",
    "            Transcript:\n",
    "            {script_content}\n",
    "            \"\"\"\n",
    "            \n",
    "            video_results.append(video_info)\n",
    "            \n",
    "        # join all video results into a single string\n",
    "        all_video_results = \"\\n\\n\".join(video_results)\n",
    "        \n",
    "        return all_video_results\n",
    "    \n",
    "    except Exception as e:\n",
    "        return f\"An error occurred while retrieving video information: {e}\""
   ]
  },
  {
   "cell_type": "code",
   "execution_count": 25,
   "metadata": {},
   "outputs": [
    {
     "data": {
      "text/plain": [
       "'An error occurred while retrieving video information: Exception while accessing title of https://youtube.com/watch?v=gcdkISrpMCA. Please file a bug report at https://github.com/pytube/pytube'"
      ]
     },
     "execution_count": 25,
     "metadata": {},
     "output_type": "execute_result"
    }
   ],
   "source": [
    "video_tool.run(\"테디노트가 누구야?\")"
   ]
  },
  {
   "cell_type": "code",
   "execution_count": 26,
   "metadata": {},
   "outputs": [],
   "source": [
    "# Set tools into ToolNolde\n",
    "tools = {\n",
    "    \"web\": [web_tool],\n",
    "    \"academic\": [academic_tool],\n",
    "    \"video\": [video_tool],\n",
    "    \"math\": [math_tool]\n",
    "}\n",
    "\n",
    "tool_nodes = {focus: ToolNode(tools[focus]) for focus in tools}"
   ]
  },
  {
   "cell_type": "code",
   "execution_count": 27,
   "metadata": {},
   "outputs": [
    {
     "data": {
      "text/plain": [
       "{'web': tools(tags=None, recurse=True, func_accepts_config=True, func_accepts={'writer': False, 'store': True}, tools_by_name={'tavily_search_results_json': TavilySearchResults(max_results=2, api_wrapper=TavilySearchAPIWrapper(tavily_api_key=SecretStr('**********')))}, tool_to_state_args={'tavily_search_results_json': {}}, tool_to_store_arg={'tavily_search_results_json': None}, handle_tool_errors=True, messages_key='messages'),\n",
       " 'academic': tools(tags=None, recurse=True, func_accepts_config=True, func_accepts={'writer': False, 'store': True}, tools_by_name={'academic_tool': StructuredTool(name='academic_tool', description='academic papaer search tool', args_schema=<class 'langchain_core.utils.pydantic.academic_tool'>, func=<function academic_tool at 0x000001A01B235BD0>)}, tool_to_state_args={'academic_tool': {}}, tool_to_store_arg={'academic_tool': None}, handle_tool_errors=True, messages_key='messages'),\n",
       " 'video': tools(tags=None, recurse=True, func_accepts_config=True, func_accepts={'writer': False, 'store': True}, tools_by_name={'video_tool': StructuredTool(name='video_tool', description='Retrieve tool for the transcrript of Youtube video.\\nIf user want to find some information, this tool is to gather youtube video information.\\nquery should be given in string format.', args_schema=<class 'langchain_core.utils.pydantic.video_tool'>, func=<function video_tool at 0x000001A017706B00>)}, tool_to_state_args={'video_tool': {}}, tool_to_store_arg={'video_tool': None}, handle_tool_errors=True, messages_key='messages'),\n",
       " 'math': tools(tags=None, recurse=True, func_accepts_config=True, func_accepts={'writer': False, 'store': True}, tools_by_name={'math_tool': StructuredTool(name='math_tool', description='math tool', args_schema=<class 'langchain_core.utils.pydantic.math_tool'>, func=<function math_tool at 0x000001A01B235E10>)}, tool_to_state_args={'math_tool': {}}, tool_to_store_arg={'math_tool': None}, handle_tool_errors=True, messages_key='messages')}"
      ]
     },
     "execution_count": 27,
     "metadata": {},
     "output_type": "execute_result"
    }
   ],
   "source": [
    "tool_nodes"
   ]
  },
  {
   "cell_type": "code",
   "execution_count": 28,
   "metadata": {},
   "outputs": [],
   "source": [
    "# Setting Chatbot\n",
    "from langchain_openai import ChatOpenAI\n",
    "\n",
    "llm = ChatOpenAI(model='gpt-4o-mini')\n",
    "\n",
    "def chatbot(state: State):\n",
    "    llm_with_tools = llm.bind_tools(tools[state['focus']])\n",
    "    result = llm_with_tools.invoke(state['focus'])\n",
    "    return {\"messages\": [result]}"
   ]
  },
  {
   "cell_type": "code",
   "execution_count": 30,
   "metadata": {},
   "outputs": [],
   "source": [
    "# build a grapg\n",
    "from langgraph.graph import StateGraph, END\n",
    "\n",
    "graph_builder = StateGraph(State)\n",
    "\n",
    "graph_builder.add_node(\"chatbot\", chatbot)\n",
    "\n",
    "for focus, tool_node in tool_nodes.items():\n",
    "    graph_builder.add_node(f\"{focus}_tools\", tool_node)\n",
    "    \n",
    "def focus_condition(state):\n",
    "    if state[\"messages\"][-1].tool_calls:\n",
    "        return f\"{state['focus']}_tools\"\n",
    "    return END      # END 상수 사용\n",
    "\n",
    "graph_builder.add_conditional_edges(\n",
    "    \"chatbot\",\n",
    "    focus_condition,\n",
    "    {\n",
    "        \"web_tools\": \"web_tools\",\n",
    "        \"academic_tools\": \"academic_tools\",\n",
    "        \"video_tools\": \"video_tools\",\n",
    "        \"math_tools\": \"math_tools\",\n",
    "        END: END\n",
    "    }\n",
    ")\n",
    "\n",
    "for focus in tools:\n",
    "    graph_builder.add_edge(f\"{focus}_tools\", \"chatbot\")\n",
    "\n",
    "graph_builder.set_entry_point(\"chatbot\")\n",
    "graph = graph_builder.compile()"
   ]
  },
  {
   "cell_type": "code",
   "execution_count": 31,
   "metadata": {},
   "outputs": [
    {
     "data": {
      "image/png": "[encoded data removed]",
      "text/plain": [
       "<IPython.core.display.Image object>"
      ]
     },
     "metadata": {},
     "output_type": "display_data"
    }
   ],
   "source": [
    "from IPython.display import Image, display\n",
    "\n",
    "display(Image(graph.get_graph().draw_mermaid_png()))"
   ]
  },
  {
   "cell_type": "code",
   "execution_count": 34,
   "metadata": {},
   "outputs": [
    {
     "name": "stdout",
     "output_type": "stream",
     "text": [
      "AI 에이전트에는 어떤 프레임워크가 있어?\n",
      "\n",
      "Published: 2021-11-26\n",
      "Title: Academic Lobification: Low-performance Control Strategy for Long-planed Academic Purpose\n",
      "Authors: Shudong Yang\n",
      "Summary: Academic lobification refers to a collection of academic performance control\n",
      "strategies, methods, and means that a student deliberately hides academic\n",
      "behaviors, or deliberately lowers academic performance, or deliberately delays\n",
      "academic returns for a certain long-term purpose, but does not produce academic\n",
      "risks. Understanding academic lobification is essential to our ability to\n",
      "compensate for inherent deviations in the evaluation of students' academic\n",
      "performance, discover gifted student, reap benefits and minimize harms. It\n",
      "outlines a set of questions that are fundamental to this emerging\n",
      "interdisciplinary research field, including research object, research question,\n",
      "research scope, research method, and explores the technical, legal and other\n",
      "constraints on the study of academic lobification.\n",
      "\n",
      "Published: 2018-08-04\n",
      "Title: Can Microsoft Academic help to assess the citation impact of academic books?\n",
      "Authors: Kayvan Kousha, Mike Thelwall\n",
      "Summary: Despite recent evidence that Microsoft Academic is an extensive source of\n",
      "citation counts for journal articles, it is not known if the same is true for\n",
      "academic books. This paper fills this gap by comparing citations to 16,463\n",
      "books from 2013-2016 in the Book Citation Index (BKCI) against automatically\n",
      "extracted citations from Microsoft Academic and Google Books in 17 fields.\n",
      "About 60% of the BKCI books had records in Microsoft Academic, varying by year\n",
      "and field. Citation counts from Microsoft Academic were 1.5 to 3.6 times higher\n",
      "than from BKCI in nine subject areas across all years for books indexed by\n",
      "both. Microsoft Academic found more citations than BKCI because it indexes more\n",
      "scholarly publications and combines citations to different editions and\n",
      "chapters. In contrast, BKCI only found more citations than Microsoft Academic\n",
      "for books in three fields from 2013-2014. Microsoft Academic also found more\n",
      "citations than Google Books in six fields for all years. Thus, Microsoft\n",
      "Academic may be a useful source for the impact assessment of books when\n",
      "comprehensive coverage is not essential.\n",
      "\n",
      "Published: 2022-01-21\n",
      "Title: Impacts of Students Academic Performance Trajectories on Final Academic Success\n",
      "Authors: Shahab Boumi, Adan Vela\n",
      "Summary: Many studies in the field of education analytics have identified student\n",
      "grade point averages (GPA) as an important indicator and predictor of students'\n",
      "final academic outcomes (graduate or halt). And while semester-to-semester\n",
      "fluctuations in GPA are considered normal, significant changes in academic\n",
      "performance may warrant more thorough investigation and consideration,\n",
      "particularly with regards to final academic outcomes. However, such an approach\n",
      "is challenging due to the difficulties of representing complex academic\n",
      "trajectories over an academic career. In this study, we apply a Hidden Markov\n",
      "Model (HMM) to provide a standard and intuitive classification over students'\n",
      "academic-performance levels, which leads to a compact representation of\n",
      "academic-performance trajectories. Next, we explore the relationship between\n",
      "different academic-performance trajectories and their correspondence to final\n",
      "academic success. Based on student transcript data from University of Central\n",
      "Florida, our proposed HMM is trained using sequences of students' course grades\n",
      "for each semester. Through the HMM, our analysis follows the expected finding\n",
      "that higher academic performance levels correlate with lower halt rates.\n",
      "However, in this paper, we identify that there exist many scenarios in which\n",
      "both improving or worsening academic-performance trajectories actually\n",
      "correlate to higher graduation rates. This counter-intuitive finding is made\n",
      "possible through the proposed and developed HMM model.\n",
      "Could you please provide more details about the specific academic topic or field you're interested in? This will help me assist you better.\n"
     ]
    }
   ],
   "source": [
    "# example with multiple tool calls in succestion\n",
    "\n",
    "for chunk in graph.stream({\n",
    "    \"messages\": [{\"role\": \"user\", \"content\": \"AI 에이전트에는 어떤 프레임워크가 있어?\"}],\n",
    "    \"focus\": \"academic\"\n",
    "}, stream_mode=\"values\"):\n",
    "    print(chunk['messages'][-1].content)"
   ]
  }
 ],
 "metadata": {
  "kernelspec": {
   "display_name": "agent",
   "language": "python",
   "name": "python3"
  },
  "language_info": {
   "codemirror_mode": {
    "name": "ipython",
    "version": 3
   },
   "file_extension": ".py",
   "mimetype": "text/x-python",
   "name": "python",
   "nbconvert_exporter": "python",
   "pygments_lexer": "ipython3",
   "version": "3.10.6"
  }
 },
 "nbformat": 4,
 "nbformat_minor": 2
}
