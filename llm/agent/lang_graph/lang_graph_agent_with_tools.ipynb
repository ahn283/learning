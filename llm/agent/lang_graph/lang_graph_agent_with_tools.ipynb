{
 "cells": [
  {
   "cell_type": "code",
   "execution_count": 4,
   "metadata": {},
   "outputs": [],
   "source": [
    "import keyring\n",
    "import os\n",
    "OPENAI_API_KEY = keyring.get_password('openai', 'key_for_windows')\n",
    "# https://tavily.com/   # search result\n",
    "TAVILY_API_KEY = keyring.get_password('tavily', 'key_for_windows')\n",
    "os.environ['OPENAI_API_KEY'] = OPENAI_API_KEY\n",
    "os.environ['TAVILY_API_KEY'] = TAVILY_API_KEY\n"
   ]
  },
  {
   "cell_type": "markdown",
   "metadata": {},
   "source": [
    "# Set State"
   ]
  },
  {
   "cell_type": "code",
   "execution_count": 5,
   "metadata": {},
   "outputs": [],
   "source": [
    "from typing import Annotated\n",
    "from typing_extensions import TypedDict\n",
    "from langgraph.graph.message import add_messages\n",
    "\n",
    "class State(TypedDict):\n",
    "    messages: Annotated[list, add_messages]"
   ]
  },
  {
   "cell_type": "markdown",
   "metadata": {},
   "source": [
    "# ToolNode로 도구 노드 구축"
   ]
  },
  {
   "cell_type": "code",
   "execution_count": 6,
   "metadata": {},
   "outputs": [],
   "source": [
    "from langchain_community.tools.tavily_search import TavilySearchResults\n",
    "from langgraph.prebuilt import ToolNode, tools_condition\n",
    "\n",
    "tool = TavilySearchResults(max_results=2)\n",
    "tools = [tool]\n",
    "tool_node = ToolNode(tools)"
   ]
  },
  {
   "cell_type": "markdown",
   "metadata": {},
   "source": [
    "# ToolNode가 무엇일까?"
   ]
  },
  {
   "cell_type": "code",
   "execution_count": 7,
   "metadata": {},
   "outputs": [],
   "source": [
    "import json\n",
    "\n",
    "from langchain_core.messages import ToolMessage\n",
    "\n",
    "class BasicToolNode:\n",
    "    \"\"\"A node that runs the tools requested in the last AIMessage.\"\"\"\n",
    "    \n",
    "    def __init__(self, tools: list) -> None:\n",
    "        self.tools_by_name = {tool.name: tool for tool in tools}\n",
    "        \n",
    "    def __call__(self, inputs: dict):\n",
    "        if messages := inputs.get(\"messages\", []):\n",
    "            message = messages[-1]\n",
    "        else:\n",
    "            raise ValueError(\"No message found in input\")\n",
    "        outputs = []\n",
    "        for tool_call in message.tool_calls:\n",
    "            tool_result = self.tools_by_name[tool_call[\"name\"]].invoke(\n",
    "                tool_call[\"args\"]\n",
    "            )\n",
    "            outputs.append(\n",
    "                ToolMessage(\n",
    "                    content=json.dumps(tool_result),\n",
    "                    name=tool_call[\"name\"],\n",
    "                    tool_call_id=tool_call['id'],\n",
    "                )\n",
    "            )\n",
    "        return {\"messages\": outputs}"
   ]
  },
  {
   "cell_type": "markdown",
   "metadata": {},
   "source": [
    "# LLM 챗봇 설정"
   ]
  },
  {
   "cell_type": "code",
   "execution_count": 8,
   "metadata": {},
   "outputs": [],
   "source": [
    "from langchain_openai import ChatOpenAI\n",
    "\n",
    "llm = ChatOpenAI(model='gpt-4o-mini')\n",
    "llm_with_tools = llm.bind_tools(tools)\n",
    "\n",
    "def chatbot(state: State):\n",
    "    result = llm_with_tools.invoke(state['messages'])\n",
    "    return {\"messages\": [result]}"
   ]
  },
  {
   "cell_type": "markdown",
   "metadata": {},
   "source": [
    "# Build graphs"
   ]
  },
  {
   "cell_type": "code",
   "execution_count": 9,
   "metadata": {},
   "outputs": [],
   "source": [
    "from langgraph.graph import StateGraph\n",
    "\n",
    "graph_builder = StateGraph(State)\n",
    "\n",
    "graph_builder.add_node(\"chatbot\", chatbot)\n",
    "graph_builder.add_node(\"tools\", tool_node)\n",
    "\n",
    "graph_builder.add_edge(\"tools\", \"chatbot\")\n",
    "graph_builder.add_conditional_edges(\"chatbot\", tools_condition)\n",
    "\n",
    "graph_builder.set_entry_point(\"chatbot\")\n",
    "graph = graph_builder.compile()"
   ]
  },
  {
   "cell_type": "markdown",
   "metadata": {},
   "source": [
    "## 인터넷 검색이 필요한 질문"
   ]
  },
  {
   "cell_type": "code",
   "execution_count": 10,
   "metadata": {},
   "outputs": [
    {
     "data": {
      "text/plain": [
       "{'messages': [HumanMessage(content='2024년 한국 대통령은 누구야?', additional_kwargs={}, response_metadata={}, id='e9376ea4-a0be-4e16-a739-cac583dac5f1'),\n",
       "  AIMessage(content='', additional_kwargs={'tool_calls': [{'id': 'call_5Wybiv96gMQuUF00i8K19J5g', 'function': {'arguments': '{\"query\":\"2024년 한국 대통령\"}', 'name': 'tavily_search_results_json'}, 'type': 'function'}], 'refusal': None}, response_metadata={'token_usage': {'completion_tokens': 22, 'prompt_tokens': 88, 'total_tokens': 110, 'completion_tokens_details': {'accepted_prediction_tokens': 0, 'audio_tokens': 0, 'reasoning_tokens': 0, 'rejected_prediction_tokens': 0}, 'prompt_tokens_details': {'audio_tokens': 0, 'cached_tokens': 0}}, 'model_name': 'gpt-4o-mini-2024-07-18', 'system_fingerprint': 'fp_0705bf87c0', 'finish_reason': 'tool_calls', 'logprobs': None}, id='run-c9fe7fcd-dfc9-44e5-a1f6-6b5942cb73c4-0', tool_calls=[{'name': 'tavily_search_results_json', 'args': {'query': '2024년 한국 대통령'}, 'id': 'call_5Wybiv96gMQuUF00i8K19J5g', 'type': 'tool_call'}], usage_metadata={'input_tokens': 88, 'output_tokens': 22, 'total_tokens': 110, 'input_token_details': {'audio': 0, 'cache_read': 0}, 'output_token_details': {'audio': 0, 'reasoning': 0}}),\n",
       "  ToolMessage(content='[{\"url\": \"https://namu.wiki/w/제21대+대통령+선거\", \"content\": \"2022년 제20대 대통령 선거 당시 법령이며 추후 변경될 수 있다. 2024년 기준, 더불어민주당(171석), 국민의힘(108석), 조국혁신당(12석) 후보가 해당된다. 더불어민주당, 국민의힘, 조국혁신당, 개혁신당 후보가 해당된다. 2027년 1월 10일 ~ 2027년 2월 8일에 해당한다.\"}, {\"url\": \"https://korea.kr/briefing/speechView.do?newsId=132036101\", \"content\": \"아울러, 저출산의 원인으로 지적되고 있는\\xa0우리 사회의 불필요한 과잉 경쟁을\\xa0개선하는 것이 매우 중요합니다.이를 위해 우리 정부의 중요한 국정 목표인\\xa0지방균형발전 정책을 확실하게\\xa0추진해 나가겠습니다.\\\\n존경하는 국민 여러분,\\\\n정부는 출범 이후,\\xa0우리 외교의 중심축인 한미동맹을\\xa0완전히 복원하여 우리 미래를 위해, 우리 아이들을 위해\\xa0언젠가 누군가 해야 한다면,\\xa0바로 지금 제가 하겠습니다.\\\\n새해에는 국민 여러분 모두\\xa0원하시는 바를 성취하시고,\\xa0저와 정부도 최선을 다해 뛰겠습니다.\\\\n감사합니다.\\\\n정책브리핑 게시물 운영원칙에 따라 다음과 같은 게시물은 삭제 또는 계정이 민생을 보살피고 경제를 살리기 위해\\xa0할 수 있는 최선을 다했지만,\\xa0늘 부족하고 송구스러운 마음이었습니다.\\\\n하지만, 이렇게 힘든 상황 속에서도\\xa0우리 국민 여러분께서는\\xa0더욱 힘을 내주셨습니다.\\\\n 2024년 새해, 국민 여러분께서는\\xa0어떤 소망을 품고\\xa0첫 아침을 맞으셨습니까?\\\\n바라시는 소망은 다 다르겠지만,\\xa0작년보다 나은 새해를 꿈꾸는 마음은\\xa0모두 같으리라 생각합니다.\\\\n 아울러, 국민이 안심할 수 있는\\xa0사이버 환경을 조성해 나가면서\\xa0북한을 포함한 다양한 사이버 위협으로부터\\xa0국가 주요 기관과 민간 핵심 시설을\\xa0빈틈없이 보호하겠습니다.\\\\n\"}]', name='tavily_search_results_json', id='e461caa4-091b-4811-b67f-1d84b17cd05d', tool_call_id='call_5Wybiv96gMQuUF00i8K19J5g', artifact={'query': '2024년 한국 대통령', 'follow_up_questions': None, 'answer': None, 'images': [], 'results': [{'title': '제21대 대통령 선거 - 나무위키', 'url': 'https://namu.wiki/w/제21대+대통령+선거', 'content': '2022년 제20대 대통령 선거 당시 법령이며 추후 변경될 수 있다. 2024년 기준, 더불어민주당(171석), 국민의힘(108석), 조국혁신당(12석) 후보가 해당된다. 더불어민주당, 국민의힘, 조국혁신당, 개혁신당 후보가 해당된다. 2027년 1월 10일 ~ 2027년 2월 8일에 해당한다.', 'score': 0.99111825, 'raw_content': None}, {'title': '2024년 윤석열 대통령 신년사 - 연설문 | 브리핑룸 | 대한민국 정책브리핑', 'url': 'https://korea.kr/briefing/speechView.do?newsId=132036101', 'content': '아울러, 저출산의 원인으로 지적되고 있는\\xa0우리 사회의 불필요한 과잉 경쟁을\\xa0개선하는 것이 매우 중요합니다.이를 위해 우리 정부의 중요한 국정 목표인\\xa0지방균형발전 정책을 확실하게\\xa0추진해 나가겠습니다.\\n존경하는 국민 여러분,\\n정부는 출범 이후,\\xa0우리 외교의 중심축인 한미동맹을\\xa0완전히 복원하여 우리 미래를 위해, 우리 아이들을 위해\\xa0언젠가 누군가 해야 한다면,\\xa0바로 지금 제가 하겠습니다.\\n새해에는 국민 여러분 모두\\xa0원하시는 바를 성취하시고,\\xa0저와 정부도 최선을 다해 뛰겠습니다.\\n감사합니다.\\n정책브리핑 게시물 운영원칙에 따라 다음과 같은 게시물은 삭제 또는 계정이 민생을 보살피고 경제를 살리기 위해\\xa0할 수 있는 최선을 다했지만,\\xa0늘 부족하고 송구스러운 마음이었습니다.\\n하지만, 이렇게 힘든 상황 속에서도\\xa0우리 국민 여러분께서는\\xa0더욱 힘을 내주셨습니다.\\n 2024년 새해, 국민 여러분께서는\\xa0어떤 소망을 품고\\xa0첫 아침을 맞으셨습니까?\\n바라시는 소망은 다 다르겠지만,\\xa0작년보다 나은 새해를 꿈꾸는 마음은\\xa0모두 같으리라 생각합니다.\\n 아울러, 국민이 안심할 수 있는\\xa0사이버 환경을 조성해 나가면서\\xa0북한을 포함한 다양한 사이버 위협으로부터\\xa0국가 주요 기관과 민간 핵심 시설을\\xa0빈틈없이 보호하겠습니다.\\n', 'score': 0.94479126, 'raw_content': None}], 'response_time': 2.39}),\n",
       "  AIMessage(content='2024년 한국 대통령 선거는 아직 진행되지 않았으며, 현재 대통령은 윤석열입니다. 대통령 선거는 2022년에 실시되었고, 윤석열이 당선되었습니다. 2024년 대통령 선거에 대한 정보는 아직 없으며, 다음 선거는 2027년에 예정되어 있습니다. 더불어민주당, 국민의힘, 조국혁신당 등의 후보들이 등장할 것으로 예상됩니다. \\n\\n자세한 내용은 [여기](https://namu.wiki/w/제21대+대통령+선거)에서 확인하실 수 있습니다.', additional_kwargs={'refusal': None}, response_metadata={'token_usage': {'completion_tokens': 131, 'prompt_tokens': 661, 'total_tokens': 792, 'completion_tokens_details': {'accepted_prediction_tokens': 0, 'audio_tokens': 0, 'reasoning_tokens': 0, 'rejected_prediction_tokens': 0}, 'prompt_tokens_details': {'audio_tokens': 0, 'cached_tokens': 0}}, 'model_name': 'gpt-4o-mini-2024-07-18', 'system_fingerprint': 'fp_0705bf87c0', 'finish_reason': 'stop', 'logprobs': None}, id='run-d73943e7-9c2d-4063-874b-f260c5814a8c-0', usage_metadata={'input_tokens': 661, 'output_tokens': 131, 'total_tokens': 792, 'input_token_details': {'audio': 0, 'cache_read': 0}, 'output_token_details': {'audio': 0, 'reasoning': 0}})]}"
      ]
     },
     "execution_count": 10,
     "metadata": {},
     "output_type": "execute_result"
    }
   ],
   "source": [
    "graph.invoke({\"messages\": {\"role\": \"user\", \"content\": \"2024년 한국 대통령은 누구야?\"}})"
   ]
  },
  {
   "cell_type": "markdown",
   "metadata": {},
   "source": [
    "## LLM이 답할 수 있는 질문"
   ]
  },
  {
   "cell_type": "code",
   "execution_count": 11,
   "metadata": {},
   "outputs": [
    {
     "data": {
      "text/plain": [
       "{'messages': [HumanMessage(content='마이크로소프트가 어떤 회사야?', additional_kwargs={}, response_metadata={}, id='27557dfd-e1d1-48d2-9a0b-b8372068a3f3'),\n",
       "  AIMessage(content='마이크로소프트(Microsoft)는 미국의 다국적 기술 회사로, 주로 소프트웨어, 하드웨어, 전자기기 및 서비스 분야에서 활동하고 있습니다. 1975년에 빌 게이츠(Bill Gates)와 폴 앨런(Paul Allen)에 의해 설립되었습니다. 마이크로소프트는 특히 다음과 같은 제품과 서비스를 제공합니다:\\n\\n1. **운영 체제**: Windows 운영 체제는 개인용 컴퓨터에서 가장 널리 사용되는 운영 체제 중 하나입니다.\\n2. **사무 소프트웨어**: Microsoft Office 제품군(Word, Excel, PowerPoint 등)은 비즈니스 및 개인 사용에서 널리 사용됩니다.\\n3. **클라우드 서비스**: Azure는 마이크로소프트의 클라우드 컴퓨팅 서비스로, 데이터 저장, 서버 호스팅, 머신 러닝 및 기타 서비스 제공에 사용됩니다.\\n4. **하드웨어**: Surface 시리즈의 태블릿 및 노트북, Xbox 게임 콘솔 등 다양한 하드웨어 제품을 제공합니다.\\n5. **게임**: Xbox 및 Xbox Live와 같은 게임 플랫폼을 통해 게임 산업에서도 큰 영향을 미치고 있습니다.\\n\\n마이크로소프트는 기술 혁신을 통해 개인과 기업의 생산성을 향상시키고, 전 세계적으로 많은 사용자들에게 서비스를 제공하고 있습니다.', additional_kwargs={'refusal': None}, response_metadata={'token_usage': {'completion_tokens': 288, 'prompt_tokens': 89, 'total_tokens': 377, 'completion_tokens_details': {'accepted_prediction_tokens': 0, 'audio_tokens': 0, 'reasoning_tokens': 0, 'rejected_prediction_tokens': 0}, 'prompt_tokens_details': {'audio_tokens': 0, 'cached_tokens': 0}}, 'model_name': 'gpt-4o-mini-2024-07-18', 'system_fingerprint': 'fp_0705bf87c0', 'finish_reason': 'stop', 'logprobs': None}, id='run-c5a15dc5-d0ac-4c05-909e-11e7ccad31f0-0', usage_metadata={'input_tokens': 89, 'output_tokens': 288, 'total_tokens': 377, 'input_token_details': {'audio': 0, 'cache_read': 0}, 'output_token_details': {'audio': 0, 'reasoning': 0}})]}"
      ]
     },
     "execution_count": 11,
     "metadata": {},
     "output_type": "execute_result"
    }
   ],
   "source": [
    "graph.invoke({\"messages\": {\"role\": \"user\", \"content\": \"마이크로소프트가 어떤 회사야?\"}})"
   ]
  }
 ],
 "metadata": {
  "kernelspec": {
   "display_name": "agent",
   "language": "python",
   "name": "python3"
  },
  "language_info": {
   "codemirror_mode": {
    "name": "ipython",
    "version": 3
   },
   "file_extension": ".py",
   "mimetype": "text/x-python",
   "name": "python",
   "nbconvert_exporter": "python",
   "pygments_lexer": "ipython3",
   "version": "3.10.6"
  }
 },
 "nbformat": 4,
 "nbformat_minor": 2
}
