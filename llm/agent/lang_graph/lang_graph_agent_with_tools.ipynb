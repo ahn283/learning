{
 "cells": [
  {
   "cell_type": "code",
   "execution_count": 1,
   "metadata": {},
   "outputs": [],
   "source": [
    "import keyring\n",
    "import os\n",
    "OPENAI_API_KEY = keyring.get_password('openai', 'key_for_windows')\n",
    "# https://tavily.com/   # search result\n",
    "TAVILY_API_KEY = keyring.get_password('tavily', 'key_for_windows')\n",
    "os.environ['OPENAI_API_KEY'] = OPENAI_API_KEY\n",
    "os.environ['TAVILY_API_KEY'] = TAVILY_API_KEY\n"
   ]
  },
  {
   "cell_type": "markdown",
   "metadata": {},
   "source": [
    "# Set State"
   ]
  },
  {
   "cell_type": "code",
   "execution_count": 2,
   "metadata": {},
   "outputs": [],
   "source": [
    "from typing import Annotated\n",
    "from typing_extensions import TypedDict\n",
    "from langgraph.graph.message import add_messages\n",
    "\n",
    "class State(TypedDict):\n",
    "    messages: Annotated[list, add_messages]"
   ]
  },
  {
   "cell_type": "markdown",
   "metadata": {},
   "source": [
    "# ToolNode로 도구 노드 구축"
   ]
  },
  {
   "cell_type": "code",
   "execution_count": 3,
   "metadata": {},
   "outputs": [],
   "source": [
    "from langchain_community.tools.tavily_search import TavilySearchResults\n",
    "from langgraph.prebuilt import ToolNode, tools_condition\n",
    "\n",
    "tool = TavilySearchResults(max_results=2)\n",
    "tools = [tool]\n",
    "tool_node = ToolNode(tools)"
   ]
  },
  {
   "cell_type": "markdown",
   "metadata": {},
   "source": [
    "# ToolNode가 무엇일까?"
   ]
  },
  {
   "cell_type": "code",
   "execution_count": 4,
   "metadata": {},
   "outputs": [],
   "source": [
    "# # ToolNode Class\n",
    "\n",
    "# import json\n",
    "\n",
    "# from langchain_core.messages import ToolMessage\n",
    "\n",
    "# class BasicToolNode:\n",
    "#     \"\"\"A node that runs the tools requested in the last AIMessage.\"\"\"\n",
    "    \n",
    "#     def __init__(self, tools: list) -> None:\n",
    "#         self.tools_by_name = {tool.name: tool for tool in tools}\n",
    "        \n",
    "#     def __call__(self, inputs: dict):\n",
    "#         if messages := inputs.get(\"messages\", []):\n",
    "#             message = messages[-1]\n",
    "#         else:\n",
    "#             raise ValueError(\"No message found in input\")\n",
    "#         outputs = []\n",
    "#         for tool_call in message.tool_calls:\n",
    "#             tool_result = self.tools_by_name[tool_call[\"name\"]].invoke(\n",
    "#                 tool_call[\"args\"]\n",
    "#             )\n",
    "#             outputs.append(\n",
    "#                 ToolMessage(\n",
    "#                     content=json.dumps(tool_result),\n",
    "#                     name=tool_call[\"name\"],\n",
    "#                     tool_call_id=tool_call['id'],\n",
    "#                 )\n",
    "#             )\n",
    "#         return {\"messages\": outputs}"
   ]
  },
  {
   "cell_type": "markdown",
   "metadata": {},
   "source": [
    "# LLM 챗봇 설정"
   ]
  },
  {
   "cell_type": "code",
   "execution_count": null,
   "metadata": {},
   "outputs": [],
   "source": [
    "from langchain_openai import ChatOpenAI\n",
    "\n",
    "llm = ChatOpenAI(model='gpt-4o-mini')\n",
    "llm_with_tools = llm.bind_tools(tools)\n",
    "-\n",
    "def chatbot(state: State):\n",
    "    result = llm_with_tools.invoke(state['messages'])\n",
    "    return {\"messages\": [result]}"
   ]
  },
  {
   "cell_type": "markdown",
   "metadata": {},
   "source": [
    "# Build graphs"
   ]
  },
  {
   "cell_type": "code",
   "execution_count": null,
   "metadata": {},
   "outputs": [],
   "source": [
    "from langgraph.graph import StateGraph\n",
    "\n",
    "graph_builder = StateGraph(State)\n",
    "\n",
    "graph_builder.add_node(\"chatbot\", chatbot)\n",
    "graph_builder.add_node(\"tools\", tool_node)\n",
    "\n",
    "graph_builder.add_edge(\"tools\", \"chatbot\")\n",
    "graph_builder.add_conditional_edges(\"chatbot\", tools_condition) # tool 호출 여부를 판단할 수 있는 라이브러리 제공\n",
    "\n",
    "graph_builder.set_entry_point(\"chatbot\")\n",
    "graph = graph_builder.compile()"
   ]
  },
  {
   "cell_type": "markdown",
   "metadata": {},
   "source": [
    "## 인터넷 검색이 필요한 질문"
   ]
  },
  {
   "cell_type": "code",
   "execution_count": 7,
   "metadata": {},
   "outputs": [
    {
     "data": {
      "text/plain": [
       "{'messages': [HumanMessage(content='2024년 한국 대통령은 누구야?', additional_kwargs={}, response_metadata={}, id='5c1ce9b7-ea80-4498-b490-1fb873f511cc'),\n",
       "  AIMessage(content='', additional_kwargs={'tool_calls': [{'id': 'call_9xYrpjoRumbc333g9AjkmZVO', 'function': {'arguments': '{\"query\":\"2024년 한국 대통령\"}', 'name': 'tavily_search_results_json'}, 'type': 'function'}], 'refusal': None}, response_metadata={'token_usage': {'completion_tokens': 22, 'prompt_tokens': 88, 'total_tokens': 110, 'completion_tokens_details': {'accepted_prediction_tokens': 0, 'audio_tokens': 0, 'reasoning_tokens': 0, 'rejected_prediction_tokens': 0}, 'prompt_tokens_details': {'audio_tokens': 0, 'cached_tokens': 0}}, 'model_name': 'gpt-4o-mini-2024-07-18', 'system_fingerprint': 'fp_0705bf87c0', 'finish_reason': 'tool_calls', 'logprobs': None}, id='run-6246f7b2-e96c-405e-92ee-e012ff928875-0', tool_calls=[{'name': 'tavily_search_results_json', 'args': {'query': '2024년 한국 대통령'}, 'id': 'call_9xYrpjoRumbc333g9AjkmZVO', 'type': 'tool_call'}], usage_metadata={'input_tokens': 88, 'output_tokens': 22, 'total_tokens': 110, 'input_token_details': {'audio': 0, 'cache_read': 0}, 'output_token_details': {'audio': 0, 'reasoning': 0}}),\n",
       "  ToolMessage(content='[{\"url\": \"https://www.president.go.kr/president/speeches/u0YNcjYp\", \"content\": \"2024년 윤석열 대통령 신년사. 존경하는 국민 여러분, 그리고 700만 재외동포 여러분, 푸른 용의 해, 갑진년 새해가 밝았습니다.\"}, {\"url\": \"https://www.sedaily.com/NewsView/2D3WYDG9XF\", \"content\": \"윤석열 대통령이 2024년 갑진년 새해 첫날인 1일 서울 용산 대통령실 청사에서 신년사를 발표하고 있다. 연합뉴스 하지만, 이렇게 힘든 상황 속에서도 우리 국민 여러분께서는 더욱 힘을 내주셨습니다. 지난 한 해, 대부분의 국가들이\"}]', name='tavily_search_results_json', id='f4b9bbcf-6428-4efe-b8e5-f2455040ea4d', tool_call_id='call_9xYrpjoRumbc333g9AjkmZVO', artifact={'query': '2024년 한국 대통령', 'follow_up_questions': None, 'answer': None, 'images': [], 'results': [{'title': '게시글 상세 페이지 | 대한민국 대통령 > 대통령의 말과 글', 'url': 'https://www.president.go.kr/president/speeches/u0YNcjYp', 'content': '2024년 윤석열 대통령 신년사. 존경하는 국민 여러분, 그리고 700만 재외동포 여러분, 푸른 용의 해, 갑진년 새해가 밝았습니다.', 'score': 0.9989392, 'raw_content': None}, {'title': '[전문] 윤석열 대통령 2024년 신년사 - 서울경제', 'url': 'https://www.sedaily.com/NewsView/2D3WYDG9XF', 'content': '윤석열 대통령이 2024년 갑진년 새해 첫날인 1일 서울 용산 대통령실 청사에서 신년사를 발표하고 있다. 연합뉴스 하지만, 이렇게 힘든 상황 속에서도 우리 국민 여러분께서는 더욱 힘을 내주셨습니다. 지난 한 해, 대부분의 국가들이', 'score': 0.9980732, 'raw_content': None}], 'response_time': 2.75}),\n",
       "  AIMessage(content='현재 2024년의 한국 대통령은 윤석열입니다. 그는 2024년 신년사에서 국민들에게 인사를 전했습니다. 관련 내용은 [여기](https://www.president.go.kr/president/speeches/u0YNcjYp)에서 확인할 수 있습니다.', additional_kwargs={'refusal': None}, response_metadata={'token_usage': {'completion_tokens': 63, 'prompt_tokens': 289, 'total_tokens': 352, 'completion_tokens_details': {'accepted_prediction_tokens': 0, 'audio_tokens': 0, 'reasoning_tokens': 0, 'rejected_prediction_tokens': 0}, 'prompt_tokens_details': {'audio_tokens': 0, 'cached_tokens': 0}}, 'model_name': 'gpt-4o-mini-2024-07-18', 'system_fingerprint': 'fp_0705bf87c0', 'finish_reason': 'stop', 'logprobs': None}, id='run-62c7903a-1356-41fb-a0e9-30e5d4de7cbd-0', usage_metadata={'input_tokens': 289, 'output_tokens': 63, 'total_tokens': 352, 'input_token_details': {'audio': 0, 'cache_read': 0}, 'output_token_details': {'audio': 0, 'reasoning': 0}})]}"
      ]
     },
     "execution_count": 7,
     "metadata": {},
     "output_type": "execute_result"
    }
   ],
   "source": [
    "graph.invoke({\"messages\": {\"role\": \"user\", \"content\": \"2024년 한국 대통령은 누구야?\"}})"
   ]
  },
  {
   "cell_type": "markdown",
   "metadata": {},
   "source": [
    "## LLM이 답할 수 있는 질문"
   ]
  },
  {
   "cell_type": "code",
   "execution_count": 8,
   "metadata": {},
   "outputs": [
    {
     "data": {
      "text/plain": [
       "{'messages': [HumanMessage(content='마이크로소프트가 어떤 회사야?', additional_kwargs={}, response_metadata={}, id='a36192c1-c807-4f45-bd17-297784bfdce6'),\n",
       "  AIMessage(content='마이크로소프트(Microsoft)는 미국의 다국적 기술 회사로, 소프트웨어, 하드웨어, 전자기기 및 서비스 분야에서 활동하고 있습니다. 1975년 빌 게이츠와 폴 앨런에 의해 설립되었으며, 본사는 워싱턴주 레드먼드에 위치하고 있습니다.\\n\\n주요 제품으로는 다음과 같은 것들이 있습니다:\\n\\n1. **운영 체제**: Windows는 개인용 컴퓨터와 서버에서 널리 사용되는 운영 체제입니다.\\n2. **오피스 제품군**: Microsoft Office는 워드, 엑셀, 파워포인트 등의 생산성 소프트웨어를 포함합니다.\\n3. **클라우드 서비스**: Azure는 클라우드 컴퓨팅 플랫폼으로, 기업들이 클라우드에서 애플리케이션 및 서비스를 구축하고 관리할 수 있도록 지원합니다.\\n4. **게임**: Xbox는 마이크로소프트의 게임 콘솔 브랜드이며, Xbox Live는 온라인 멀티플레이어 게임 서비스입니다.\\n5. **소프트웨어 개발**: Visual Studio와 같은 개발 도구를 제공하여 개발자들이 소프트웨어를 만들고 배포할 수 있도록 돕습니다.\\n\\n마이크로소프트는 기술 혁신과 사회적 책임을 강조하며, 다양한 분야에 걸쳐 솔루션을 제공하고 있습니다.', additional_kwargs={'refusal': None}, response_metadata={'token_usage': {'completion_tokens': 293, 'prompt_tokens': 89, 'total_tokens': 382, 'completion_tokens_details': {'accepted_prediction_tokens': 0, 'audio_tokens': 0, 'reasoning_tokens': 0, 'rejected_prediction_tokens': 0}, 'prompt_tokens_details': {'audio_tokens': 0, 'cached_tokens': 0}}, 'model_name': 'gpt-4o-mini-2024-07-18', 'system_fingerprint': 'fp_0705bf87c0', 'finish_reason': 'stop', 'logprobs': None}, id='run-b1ce87c5-7cac-43df-8f8b-68217e2f45f6-0', usage_metadata={'input_tokens': 89, 'output_tokens': 293, 'total_tokens': 382, 'input_token_details': {'audio': 0, 'cache_read': 0}, 'output_token_details': {'audio': 0, 'reasoning': 0}})]}"
      ]
     },
     "execution_count": 8,
     "metadata": {},
     "output_type": "execute_result"
    }
   ],
   "source": [
    "graph.invoke({\"messages\": {\"role\": \"user\", \"content\": \"마이크로소프트가 어떤 회사야?\"}})"
   ]
  }
 ],
 "metadata": {
  "kernelspec": {
   "display_name": "agent",
   "language": "python",
   "name": "python3"
  },
  "language_info": {
   "codemirror_mode": {
    "name": "ipython",
    "version": 3
   },
   "file_extension": ".py",
   "mimetype": "text/x-python",
   "name": "python",
   "nbconvert_exporter": "python",
   "pygments_lexer": "ipython3",
   "version": "3.10.6"
  }
 },
 "nbformat": 4,
 "nbformat_minor": 2
}
