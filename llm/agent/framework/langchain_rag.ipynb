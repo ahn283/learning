{
 "cells": [
  {
   "cell_type": "code",
   "execution_count": 1,
   "metadata": {},
   "outputs": [],
   "source": [
    "import os\n",
    "import keyring\n",
    "OPENAI_API_KEY = keyring.get_password('openai', 'key_for_windows')\n",
    "os.environ['OPENAI_API_KEY'] = OPENAI_API_KEY"
   ]
  },
  {
   "cell_type": "markdown",
   "metadata": {},
   "source": [
    "# Loading by Document Loader"
   ]
  },
  {
   "cell_type": "code",
   "execution_count": 2,
   "metadata": {},
   "outputs": [],
   "source": [
    "# install PyPDF\n",
    "# !pip install pypdf"
   ]
  },
  {
   "cell_type": "code",
   "execution_count": null,
   "metadata": {},
   "outputs": [
    {
     "name": "stderr",
     "output_type": "stream",
     "text": [
      "Ignoring wrong pointing object 31 0 (offset 0)\n",
      "Ignoring wrong pointing object 32 0 (offset 0)\n",
      "Ignoring wrong pointing object 89 0 (offset 0)\n"
     ]
    }
   ],
   "source": [
    "# PDF에서 텍스트 가져오기기\n",
    "\n",
    "# import PyPDFLoader\n",
    "from langchain_community.document_loaders import PyPDFLoader\n",
    "\n",
    "# PDF 파일 불러올 객체 PyPDFLoader 선언\n",
    "loader = PyPDFLoader('./data/NeurIPS-2020-retrieval-augmented-generation-for-knowledge-intensive-nlp-tasks-Paper.pdf')\n",
    "\n",
    "# PDF파일 로드 및 페이지별로 자르기\n",
    "pages = loader.load_and_split()"
   ]
  },
  {
   "cell_type": "code",
   "execution_count": 4,
   "metadata": {},
   "outputs": [
    {
     "data": {
      "text/plain": [
       "Document(metadata={'source': './data/NeurIPS-2020-retrieval-augmented-generation-for-knowledge-intensive-nlp-tasks-Paper.pdf', 'page': 0}, page_content='Retrieval-Augmented Generation for\\nKnowledge-Intensive NLP Tasks\\nPatrick Lewis†‡ , Ethan Perez?,\\nAleksandra Piktus† , Fabio Petroni† , Vladimir Karpukhin† , Naman Goyal† , Heinrich Küttler† ,\\nMike Lewis† , Wen-tau Yih† , Tim Rocktäschel†‡ , Sebastian Riedel†‡ , Douwe Kiela†\\n† Facebook AI Research;‡ University College London;?New York University;\\nplewis@fb.com\\nAbstract\\nLarge pre-trained language models have been shown to store factual knowledge\\nin their parameters, and achieve state-of-the-art results when ﬁne-tuned on down-\\nstream NLP tasks. However, their ability to access and precisely manipulate\\nknowledge is still limited, and hence on knowledge-intensive tasks, their perfor-\\nmance lags behind task-speciﬁc architectures. Additionally, providing provenance\\nfor their decisions and updating their world knowledge remain open research prob-\\nlems. Pre-trained models with a differentiable access mechanism to explicit non-\\nparametric memory can overcome this issue, but have so far been only investigated\\nfor extractive downstream tasks. We explore a general-purpose ﬁne-tuning recipe\\nfor retrieval-augmented generation (RAG) — models which combine pre-trained\\nparametric and non-parametric memory for language generation. We introduce\\nRAG models where the parametric memory is a pre-trained seq2seq model and\\nthe non-parametric memory is a dense vector index of Wikipedia, accessed with\\na pre-trained neural retriever. We compare two RAG formulations, one which\\nconditions on the same retrieved passages across the whole generated sequence,\\nand another which can use different passages per token. We ﬁne-tune and evaluate\\nour models on a wide range of knowledge-intensive NLP tasks and set the state of\\nthe art on three open domain QA tasks, outperforming parametric seq2seq models\\nand task-speciﬁc retrieve-and-extract architectures. For language generation tasks,\\nwe ﬁnd that RAG models generate more speciﬁc, diverse and factual language than\\na state-of-the-art parametric-only seq2seq baseline.\\n1 Introduction\\nPre-trained neural language models have been shown to learn a substantial amount of in-depth knowl-\\nedge from data [47]. They can do so without any access to an external memory, as a parameterized\\nimplicit knowledge base [51, 52]. While this development is exciting, such models do have down-\\nsides: They cannot easily expand or revise their memory, can’t straightforwardly provide insight into\\ntheir predictions, and may produce “hallucinations” [38]. Hybrid models that combine parametric\\nmemory with non-parametric (i.e., retrieval-based) memories [20, 26, 48] can address some of these\\nissues because knowledge can be directly revised and expanded, and accessed knowledge can be\\ninspected and interpreted. REALM [20] and ORQA [31], two recently introduced models that\\ncombine masked language models [8] with a differentiable retriever, have shown promising results,\\n34th Conference on Neural Information Processing Systems (NeurIPS 2020), Vancouver, Canada.')"
      ]
     },
     "execution_count": 4,
     "metadata": {},
     "output_type": "execute_result"
    }
   ],
   "source": [
    "pages[0]"
   ]
  },
  {
   "cell_type": "code",
   "execution_count": 5,
   "metadata": {},
   "outputs": [
    {
     "data": {
      "text/plain": [
       "[('Retrieval-Augmented Generation for\\nKnowledge-Intensive NLP Tasks\\nPatrick Lewis†‡ , Ethan Perez?,\\nAle',\n",
       "  {'source': './data/NeurIPS-2020-retrieval-augmented-generation-for-knowledge-intensive-nlp-tasks-Paper.pdf',\n",
       "   'page': 0}),\n",
       " ('The\\x03DiYineComed\\\\\\x03(x) T\\nQXeU\\\\EQcRdeU\\nT([)\\nMIPS pθ\\nGeneUaWoU¬Sѡ(PaUaPeWULc)\\nMaUgin-ali]eThiV\\x0314Wh\\x03cenW',\n",
       "  {'source': './data/NeurIPS-2020-retrieval-augmented-generation-for-knowledge-intensive-nlp-tasks-Paper.pdf',\n",
       "   'page': 1}),\n",
       " ('2 Methods\\nWe explore RAG models, which use the input sequencex to retrieve text documentsz and use t',\n",
       "  {'source': './data/NeurIPS-2020-retrieval-augmented-generation-for-knowledge-intensive-nlp-tasks-Paper.pdf',\n",
       "   'page': 1}),\n",
       " ('by ✓ that generates a current token based on a context of the previousi \\x00 1 tokens y1:i\\x001, the origi',\n",
       "  {'source': './data/NeurIPS-2020-retrieval-augmented-generation-for-knowledge-intensive-nlp-tasks-Paper.pdf',\n",
       "   'page': 2}),\n",
       " ('minimize the negative marginal log-likelihood of each target,P\\nj \\x00log p(yj|xj) using stochastic\\ngrad',\n",
       "  {'source': './data/NeurIPS-2020-retrieval-augmented-generation-for-knowledge-intensive-nlp-tasks-Paper.pdf',\n",
       "   'page': 3}),\n",
       " ('RAG models can go beyond simple extractive QA and answer questions with free-form, abstractive\\ntext ',\n",
       "  {'source': './data/NeurIPS-2020-retrieval-augmented-generation-for-knowledge-intensive-nlp-tasks-Paper.pdf',\n",
       "   'page': 3}),\n",
       " ('MSMARCO as an open-domain abstractive QA task. MSMARCO has some questions that cannot be\\nanswered in',\n",
       "  {'source': './data/NeurIPS-2020-retrieval-augmented-generation-for-knowledge-intensive-nlp-tasks-Paper.pdf',\n",
       "   'page': 4}),\n",
       " ('retriever is initialized using DPR’s retriever, which uses retrieval supervision on Natural Question',\n",
       "  {'source': './data/NeurIPS-2020-retrieval-augmented-generation-for-knowledge-intensive-nlp-tasks-Paper.pdf',\n",
       "   'page': 4}),\n",
       " ('Table 1: Open-Domain QA Test Scores. For TQA,\\nleft column uses the standard test set for Open-\\nDomai',\n",
       "  {'source': './data/NeurIPS-2020-retrieval-augmented-generation-for-knowledge-intensive-nlp-tasks-Paper.pdf',\n",
       "   'page': 5}),\n",
       " ('to guide the generation, drawing out speciﬁc knowledge stored in the parametric memory.\\n4.4 Fact Ver',\n",
       "  {'source': './data/NeurIPS-2020-retrieval-augmented-generation-for-knowledge-intensive-nlp-tasks-Paper.pdf',\n",
       "   'page': 5}),\n",
       " ('Document 1: his works are considered classics of Americanliterature ... His wartime experiences form',\n",
       "  {'source': './data/NeurIPS-2020-retrieval-augmented-generation-for-knowledge-intensive-nlp-tasks-Paper.pdf',\n",
       "   'page': 6}),\n",
       " ('results on all other tasks, especially for Open-Domain QA, where it is crucial.\\nIndex hot-swapping A',\n",
       "  {'source': './data/NeurIPS-2020-retrieval-augmented-generation-for-knowledge-intensive-nlp-tasks-Paper.pdf',\n",
       "   'page': 6}),\n",
       " ('Table 4: Human assessments for the Jeopardy\\nQuestion Generation Task.\\nFactuality Speciﬁcity\\nBART bet',\n",
       "  {'source': './data/NeurIPS-2020-retrieval-augmented-generation-for-knowledge-intensive-nlp-tasks-Paper.pdf',\n",
       "   'page': 7}),\n",
       " ('General-Purpose Architectures for NLPPrior work on general-purpose architectures for NLP\\ntasks has s',\n",
       "  {'source': './data/NeurIPS-2020-retrieval-augmented-generation-for-knowledge-intensive-nlp-tasks-Paper.pdf',\n",
       "   'page': 8}),\n",
       " ('Broader Impact\\nThis work offers several positive societal beneﬁts over previous work: the fact that ',\n",
       "  {'source': './data/NeurIPS-2020-retrieval-augmented-generation-for-knowledge-intensive-nlp-tasks-Paper.pdf',\n",
       "   'page': 9}),\n",
       " ('55th Annual Meeting of the Association for Computational Linguistics (Volume 1: Long Papers),\\npages ',\n",
       "  {'source': './data/NeurIPS-2020-retrieval-augmented-generation-for-knowledge-intensive-nlp-tasks-Paper.pdf',\n",
       "   'page': 10}),\n",
       " ('[19] Kelvin Guu, Tatsunori B. Hashimoto, Yonatan Oren, and Percy Liang. Generating sentences by\\nedit',\n",
       "  {'source': './data/NeurIPS-2020-retrieval-augmented-generation-for-knowledge-intensive-nlp-tasks-Paper.pdf',\n",
       "   'page': 11}),\n",
       " ('A. Beygelzimer, F. d’ Alché-Buc, E. Fox, and R. Garnett, editors,Advances in Neural In-\\nformation Pr',\n",
       "  {'source': './data/NeurIPS-2020-retrieval-augmented-generation-for-knowledge-intensive-nlp-tasks-Paper.pdf',\n",
       "   'page': 11}),\n",
       " ('[31] Kenton Lee, Ming-Wei Chang, and Kristina Toutanova. Latent retrieval for weakly supervised\\nopen',\n",
       "  {'source': './data/NeurIPS-2020-retrieval-augmented-generation-for-knowledge-intensive-nlp-tasks-Paper.pdf',\n",
       "   'page': 12}),\n",
       " ('[43] Tri Nguyen, Mir Rosenberg, Xia Song, Jianfeng Gao, Saurabh Tiwary, Rangan Majumder,\\nand Li Deng',\n",
       "  {'source': './data/NeurIPS-2020-retrieval-augmented-generation-for-knowledge-intensive-nlp-tasks-Paper.pdf',\n",
       "   'page': 13}),\n",
       " ('[55] Sainbayar Sukhbaatar, Arthur Szlam, Jason Weston, and Rob Fergus. End-to-end memory net-\\nworks.',\n",
       "  {'source': './data/NeurIPS-2020-retrieval-augmented-generation-for-knowledge-intensive-nlp-tasks-Paper.pdf',\n",
       "   'page': 14}),\n",
       " ('and Yann LeCun, editors,3rd International Conference on Learning Representations, ICLR\\n2015, San Die',\n",
       "  {'source': './data/NeurIPS-2020-retrieval-augmented-generation-for-knowledge-intensive-nlp-tasks-Paper.pdf',\n",
       "   'page': 14}),\n",
       " ('International Workshop on Search-Oriented Conversational AI, pages 87–92, Brussels, Belgium,\\nOctober',\n",
       "  {'source': './data/NeurIPS-2020-retrieval-augmented-generation-for-knowledge-intensive-nlp-tasks-Paper.pdf',\n",
       "   'page': 15})]"
      ]
     },
     "execution_count": 5,
     "metadata": {},
     "output_type": "execute_result"
    }
   ],
   "source": [
    "[(i.page_content[:100], i.metadata) for i in pages]"
   ]
  },
  {
   "cell_type": "code",
   "execution_count": null,
   "metadata": {},
   "outputs": [
    {
     "name": "stderr",
     "output_type": "stream",
     "text": [
      "USER_AGENT environment variable not set, consider setting it to identify your requests.\n",
      "d:\\projects\\github\\learning\\llm\\agent\\agent\\lib\\site-packages\\urllib3\\connectionpool.py:1099: InsecureRequestWarning: Unverified HTTPS request is being made to host 'www.espn.com'. Adding certificate verification is strongly advised. See: https://urllib3.readthedocs.io/en/latest/advanced-usage.html#tls-warnings\n",
      "  warnings.warn(\n"
     ]
    },
    {
     "data": {
      "text/plain": [
       "[Document(metadata={'source': 'https://www.espn.com', 'title': 'ESPN - Serving Sports Fans. Anytime. Anywhere.', 'description': 'Visit ESPN for live scores, highlights and sports news. Stream exclusive games on ESPN+ and play fantasy sports.', 'language': 'en'}, page_content='\\n\\n\\n\\n\\n\\n\\n\\n\\nESPN - Serving Sports Fans. Anytime. Anywhere.\\n\\n\\n\\n\\n\\n\\n\\n\\n\\n\\n\\n\\n\\n\\n\\n\\n\\n\\n\\n\\n\\n\\n\\n\\n\\n\\n\\n\\n\\n\\n\\n\\n\\n\\n\\n\\n\\n\\n\\n\\n\\n\\n\\n\\n\\n\\n\\n\\n\\n\\n\\n\\n\\n\\n\\n\\n\\n\\n\\n\\n\\n\\n\\n\\n\\n\\n\\n\\n\\n\\n\\n\\n\\n\\n\\n\\n\\n\\n\\n\\n\\n\\n\\n\\n\\n\\n\\n\\n\\n\\n\\n\\n        Skip to main content\\n    \\n\\n        Skip to navigation\\n    \\n\\n\\n\\n\\n\\n\\n\\n\\n\\n\\n\\n\\n\\n\\n\\n\\n\\n\\n\\n\\n\\n\\n\\n\\n\\n\\n\\n\\n\\n\\n\\n\\n\\n<\\n\\n>\\n\\n\\n\\n\\n\\n\\n\\n\\n\\nMenuESPN\\n\\n\\n\\n\\n\\nscores\\n\\n\\n\\n\\nNEW! Find where to watch all of your favorite sports!\\n\\n\\n\\n\\n\\n\\n\\nNFLNBAMLBNCAAFNHLSoccerMMAMore SportsBoxingCFLNCAACricketF1GolfHorseLLWSNASCARNBA G LeagueNBA Summer LeagueNCAAMNCAAWNWSLOlympicsPLLProfessional WrestlingRacingRN BBRN FBRugbySports BettingTennisWNBAX GamesUFLEditionsFantasyWatchESPN BETESPN+\\n\\n\\n\\n\\n\\n\\n\\n\\n\\n\\n\\n\\n\\n\\n\\n  \\n\\nSubscribe Now\\n\\n\\n\\n\\n\\nNCAA Football\\n\\n\\n\\n\\n\\n\\n\\nNHL\\n\\n\\n\\n\\n\\n\\n\\nFormula One\\n\\n\\n\\n\\n\\n\\n\\nTop Rank Boxing\\n\\n\\nQuick Links\\n\\n\\n\\n\\nWhere To Watch\\n\\n\\n\\n\\n\\n\\n\\nNBA Cup\\n\\n\\n\\n\\n\\n\\n\\nMLB Free Agency\\n\\n\\n\\n\\n\\n\\n\\nCollege Football Rankings\\n\\n\\n\\n\\n\\n\\n\\nCollege Football Schedule\\n\\n\\n\\n\\n\\n\\n\\n2024 NFL Schedule\\n\\n\\n\\n\\n\\n\\n\\nESPN Radio: Listen Live\\n\\n\\n\\n\\n\\n\\nFavorites\\n\\n\\n\\n\\n\\n\\n      Manage Favorites\\n      \\n\\n\\n\\nCustomize ESPNCreate AccountLog InFantasy\\n\\n\\n\\n\\nFootball\\n\\n\\n\\n\\n\\n\\n\\nBaseball\\n\\n\\n\\n\\n\\n\\n\\nHockey\\n\\n\\n\\n\\n\\n\\n\\nMen\\'s Basketball\\n\\n\\n\\n\\n\\n\\n\\nWomen\\'s Basketball\\n\\n\\nESPN Sites\\n\\n\\n\\n\\nESPN Deportes\\n\\n\\n\\n\\n\\n\\n\\nAndscape\\n\\n\\n\\n\\n\\n\\n\\nespnW\\n\\n\\n\\n\\n\\n\\n\\nESPNFC\\n\\n\\n\\n\\n\\n\\n\\nX Games\\n\\n\\n\\n\\n\\n\\n\\nSEC Network\\n\\n\\nESPN Apps\\n\\n\\n\\n\\nESPN\\n\\n\\n\\n\\n\\n\\n\\nESPN Fantasy\\n\\n\\n\\n\\n\\n\\n\\nTournament Challenge\\n\\n\\nFollow ESPN\\n\\n\\n\\n\\nFacebook\\n\\n\\n\\n\\n\\n\\n\\nX/Twitter\\n\\n\\n\\n\\n\\n\\n\\nInstagram\\n\\n\\n\\n\\n\\n\\n\\nSnapchat\\n\\n\\n\\n\\n\\n\\n\\nTikTok\\n\\n\\n\\n\\n\\n\\n\\nYouTube\\n\\n\\nProjecting the CFP top 25 after Week 13: Where does 3-loss Alabama land?We assess how the committee will stack the top teams in the country after Week 13.4hHeather DinichBrian Bahr/Getty ImagesWhat we learned in Week 13: Chaos strikes the SEC, midnight strikes for CinderellasThe SEC was thrown into another whirlwind with Ole Miss, Bama and Texas A&M losing, plus more trends.3hDavid HaleCollege Football Playoff picks after Week 13TOP HEADLINESSEC chaos sends UGA back to league title gameBama\\'s \\'uncharacteristic\\' gaffes doom CFP hopesSources: Ex-Giant Jones to eye playoff contenderNotre Dame authors \\'complete game,\\' upsets USCWemby flips switch in 4th, rallies Spurs in returnVerstappen wins fourth F1 title in Las VegasSource: Banged-up 49ers hopeful Williams playsCignetti: \\'So obvious\\' Indiana still playoff worthyNFL Fantasy Cheat Sheet: Week 12FORMULA ONEMax Verstappen\\'s F1 career titles, records and accoladesAll-time F1 drivers\\' and constructors\\' championship winnersCOLLEGE FOOTBALL SCOREBOARDSee AllUpdated conference standings\\'T as in Top Ten win\\': Florida\\'s \\'High School Musical\\' reference headlines Week 13 of CFB trollsALABAMA GETS DOMINATED IN PIVOTAL GAMEControversial penalty call has Kalen DeBoer irate as Oklahoma stuns Alabama3h1:22Saturday Shocker: No. 7 Alabama, No. 9 Ole Miss lead latest upsetsA trio of ranked teams -- Alabama, Ole Miss and Colorado -- fell to unranked opponents Saturday.4hESPN StaffCHAOS REIGNS IN COLLEGE FOOTBALLTempers flare as Shedeur Sanders appears to shove official in loss vs. Kansas8h0:18Chaos ensues as ASU storms the field prematurely8h1:50Auburn fans storm field after stunning Aggies in 4OT thriller3h1:27HEISMAN HOPEFULSTravis Hunter hits the Heisman pose after 2nd TD for Colorado3h0:31Ashton Jeanty can\\'t be contained on thrilling 61-yard TD3h0:29GEARING UP FOR WEEK 12Final prep for NFL Week 12: Predictions, sleepers to watch, upset picks and the latest buzzWill Bo Nix throw multiple touchdowns Sunday? Can Rashod Bateman carry the Ravens\\' offense? Is Tommy DeVito startable in fantasy?21hMatt Bowen, +4 MoreDustin Bradford/Getty ImagesOur guide to every gameHere\\'s everything you need to know for Week 12 NFL games. Which teams will win, who are the X factors?2dNFL NationBest bets for Week 12Debunking 10 myths about the NFL seasonWEEK 12 SCOREBOARDSUNDAY\\'S GAMESSee All Top HeadlinesSEC chaos sends UGA back to league title gameBama\\'s \\'uncharacteristic\\' gaffes doom CFP hopesSources: Ex-Giant Jones to eye playoff contenderNotre Dame authors \\'complete game,\\' upsets USCWemby flips switch in 4th, rallies Spurs in returnVerstappen wins fourth F1 title in Las VegasSource: Banged-up 49ers hopeful Williams playsCignetti: \\'So obvious\\' Indiana still playoff worthyNFL Fantasy Cheat Sheet: Week 12Favorites FantasyManage FavoritesFantasy HomeCustomize ESPNCreate AccountLog InICYMI0:27Check out this preposterous must-see assist by Reed SheppardReed Sheppard shows incredible vision with this long-range, behind-the-back pass while looking the wrong way. Best of ESPN+Al Bello/Getty ImagesDaniel Jones released: His future, potential NFL team fitsAfter being released from the Giants, what\\'s next for Daniel Jones? Could he sign somewhere immediately? Which teams make the most sense?ESPN2025 NFL mock draft: Predicting all 32 first-round picksAn early run on receivers? Four QBs in the first round? A trade for the top pick? Matt Miller projects the opening 32 selections of April\\'s draft.Adam Pantozzi/NBAE via Getty ImagesNBA roster tiers: Stacking all 30 teams\\' top three starsWho joins LeBron and AD? Who is Boston\\'s third most important player? We\\'re stacking all 30 teams\\' cores based on present and future value. Trending NowMelissa Lyttle for ESPNThe \\'Michael Jordan of field hockey\\' eyes more UNC titlesErin Matson dominated the sport, then succeeded a legend. Now she\\'s vying for her second title as coach.Courtesy 2024 Par Pics\\'Run, Forrest, run!\\': How good a football player was Forrest Gump?We searched high and low, talking to NFL scouts, \"Bear Bryant\" and even Kalen DeBoer, to find out how good a player Forrest Gump really was.Illustrations by Dave MerrellHow clubs got their colors: soccer\\'s historic, iconic jerseysHow did soccer\\'s most storied clubs become synonymous with something as simple as a color? ESPN relives the kit histories of football\\'s biggest teams. NFL Playoff MachineMark J. Rebilas/USA TODAY SportsSimulate playoff matchupsPredict playoff pairings by selecting the winners of the remaining regular-season games to generate potential scenarios. Sign up for FREE!Create A LeagueJoin a Public LeagueReactivate a LeaguePractice With a Mock DraftSign up for FREE!Create A LeagueJoin a Public LeagueReactivate a LeaguePractice with a Mock DraftGet a custom ESPN experienceEnjoy the benefits of a personalized accountSelect your favorite leagues, teams and players and get the latest scores, news and updates that matter most to you. \\n\\nESPN+\\n\\n\\n\\n\\nNCAA Football\\n\\n\\n\\n\\n\\n\\n\\nNHL\\n\\n\\n\\n\\n\\n\\n\\nFormula One\\n\\n\\n\\n\\n\\n\\n\\nTop Rank Boxing\\n\\n\\nQuick Links\\n\\n\\n\\n\\nWhere To Watch\\n\\n\\n\\n\\n\\n\\n\\nNBA Cup\\n\\n\\n\\n\\n\\n\\n\\nMLB Free Agency\\n\\n\\n\\n\\n\\n\\n\\nCollege Football Rankings\\n\\n\\n\\n\\n\\n\\n\\nCollege Football Schedule\\n\\n\\n\\n\\n\\n\\n\\n2024 NFL Schedule\\n\\n\\n\\n\\n\\n\\n\\nESPN Radio: Listen Live\\n\\n\\nFantasy\\n\\n\\n\\n\\nFootball\\n\\n\\n\\n\\n\\n\\n\\nBaseball\\n\\n\\n\\n\\n\\n\\n\\nHockey\\n\\n\\n\\n\\n\\n\\n\\nMen\\'s Basketball\\n\\n\\n\\n\\n\\n\\n\\nWomen\\'s Basketball\\n\\n\\nESPN Sites\\n\\n\\n\\n\\nESPN Deportes\\n\\n\\n\\n\\n\\n\\n\\nAndscape\\n\\n\\n\\n\\n\\n\\n\\nespnW\\n\\n\\n\\n\\n\\n\\n\\nESPNFC\\n\\n\\n\\n\\n\\n\\n\\nX Games\\n\\n\\n\\n\\n\\n\\n\\nSEC Network\\n\\n\\nESPN Apps\\n\\n\\n\\n\\nESPN\\n\\n\\n\\n\\n\\n\\n\\nESPN Fantasy\\n\\n\\n\\n\\n\\n\\n\\nTournament Challenge\\n\\n\\nFollow ESPN\\n\\n\\n\\n\\nFacebook\\n\\n\\n\\n\\n\\n\\n\\nX/Twitter\\n\\n\\n\\n\\n\\n\\n\\nInstagram\\n\\n\\n\\n\\n\\n\\n\\nSnapchat\\n\\n\\n\\n\\n\\n\\n\\nTikTok\\n\\n\\n\\n\\n\\n\\n\\nYouTube\\n\\n\\nTerms of UsePrivacy PolicyInterest-Based Ads© ESPN Enterprises, Inc. All rights reserved.\\n\\n\\n\\n\\n\\n\\n\\n\\n\\n\\n\\n\\n\\n\\n\\n\\n\\n')]"
      ]
     },
     "execution_count": 6,
     "metadata": {},
     "output_type": "execute_result"
    }
   ],
   "source": [
    "# url에서 텍스트 가져오기기\n",
    "\n",
    "from langchain_community.document_loaders import WebBaseLoader\n",
    "\n",
    "# 텍스트 추출할 URL 입력\n",
    "loader = WebBaseLoader('https://www.espn.com')\n",
    "\n",
    "# ssl verification 에러 방지를 위한 코드\n",
    "loader.requests_kwargs = {'verify': False}\n",
    "data = loader.load()\n",
    "data"
   ]
  },
  {
   "cell_type": "code",
   "execution_count": 7,
   "metadata": {},
   "outputs": [
    {
     "name": "stderr",
     "output_type": "stream",
     "text": [
      "d:\\projects\\github\\learning\\llm\\agent\\agent\\lib\\site-packages\\urllib3\\connectionpool.py:1099: InsecureRequestWarning: Unverified HTTPS request is being made to host 'www.espn.com'. Adding certificate verification is strongly advised. See: https://urllib3.readthedocs.io/en/latest/advanced-usage.html#tls-warnings\n",
      "  warnings.warn(\n"
     ]
    },
    {
     "data": {
      "text/plain": [
       "[Document(metadata={'source': 'https://www.espn.com/'}, page_content=\"SEC chaos sends UGA back to league title gameBama's 'uncharacteristic' gaffes doom CFP hopesSources: Ex-Giant Jones to eye playoff contenderNotre Dame authors 'complete game,' upsets USCWemby flips switch in 4th, rallies Spurs in returnVerstappen wins fourth F1 title in Las VegasSource: Banged-up 49ers hopeful Williams playsCignetti: 'So obvious' Indiana still playoff worthyNFL Fantasy Cheat Sheet: Week 12 Top HeadlinesSEC chaos sends UGA back to league title gameBama's 'uncharacteristic' gaffes doom CFP hopesSources: Ex-Giant Jones to eye playoff contenderNotre Dame authors 'complete game,' upsets USCWemby flips switch in 4th, rallies Spurs in returnVerstappen wins fourth F1 title in Las VegasSource: Banged-up 49ers hopeful Williams playsCignetti: 'So obvious' Indiana still playoff worthyNFL Fantasy Cheat Sheet: Week 12\")]"
      ]
     },
     "execution_count": 7,
     "metadata": {},
     "output_type": "execute_result"
    }
   ],
   "source": [
    "import bs4\n",
    "from langchain_community.document_loaders import WebBaseLoader\n",
    "\n",
    "# 텍스트 추출한 URL 입력\n",
    "loader = WebBaseLoader('https://www.espn.com/',\n",
    "                       bs_kwargs=dict(\n",
    "                           parse_only=bs4.SoupStrainer(\n",
    "                               class_=(\"headlineStack top-headlines\")\n",
    "                           )\n",
    "                       ))\n",
    "\n",
    "# ssl verification 에러 방지를 위한 코드\n",
    "loader.requests_kwargs = {'verify': False}\n",
    "data = loader.load()\n",
    "data"
   ]
  },
  {
   "cell_type": "markdown",
   "metadata": {},
   "source": [
    "# Chunking wiht Text Splitter"
   ]
  },
  {
   "cell_type": "code",
   "execution_count": null,
   "metadata": {},
   "outputs": [
    {
     "name": "stderr",
     "output_type": "stream",
     "text": [
      "Created a chunk of size 2091, which is longer than the specified 500\n",
      "Created a chunk of size 1070, which is longer than the specified 500\n",
      "Created a chunk of size 588, which is longer than the specified 500\n",
      "Created a chunk of size 874, which is longer than the specified 500\n",
      "Created a chunk of size 571, which is longer than the specified 500\n"
     ]
    },
    {
     "name": "stdout",
     "output_type": "stream",
     "text": [
      "page_content='AutoGen: Enabling Next-Gen LLM\n",
      "Applications via Multi-Agent Conversation\n",
      "Qingyun Wu†, Gagan Bansal∗, Jieyu Zhang±, Yiran Wu†, Beibin Li∗\n",
      "Erkang Zhu∗, Li Jiang∗, Xiaoyun Zhang∗, Shaokun Zhang†, Jiale Liu∓\n",
      "Ahmed Awadallah∗, Ryen W. White∗, Doug Burger∗, Chi Wang∗1\n",
      "∗Microsoft Research, †Pennsylvania State University\n",
      "±University of Washington,∓Xidian University\n",
      "Agent Customization\n",
      "Conversable agent\n",
      "Flexible Conversation Patterns\n",
      "…\n",
      " …\n",
      "…\n",
      "…\n",
      "…\n",
      "…\n",
      " …\n",
      "Hierarchical chatJoint chat\n",
      "Multi-Agent Conversations' metadata={'source': './data/autogen_paper.pdf', 'page': 0}\n"
     ]
    }
   ],
   "source": [
    "# PyPDFium2Loader로 PDF 문서 로드하기\n",
    "from langchain_community.document_loaders import PyPDFLoader\n",
    "loader = PyPDFLoader(r'./data/autogen_paper.pdf')\n",
    "pages = loader.load()\n",
    "\n",
    "# CharacterTextSplitter 모듈 로드\n",
    "from langchain_text_splitters import CharacterTextSplitter\n",
    "\n",
    "# 구분자 : 줄넘김, 청크 길이: 500, 청크 오버랩: 100, length_function: 글자수\n",
    "text_splitter = CharacterTextSplitter(\n",
    "    separator=\"\\n\",     # 구분자 없는 경우 chunk된 후 사이즈 2000이 넘어가서 구분자 정의의\n",
    "    chunk_size=500,\n",
    "    chunk_overlap=100,\n",
    "    length_function=len\n",
    ")\n",
    "\n",
    "# splitting text\n",
    "texts = text_splitter.split_documents(pages)\n",
    "print(texts[0])"
   ]
  },
  {
   "cell_type": "code",
   "execution_count": 21,
   "metadata": {},
   "outputs": [
    {
     "name": "stdout",
     "output_type": "stream",
     "text": [
      "[498, 411, 498, 499, 463, 198, 405, 404, 491, 491, 483, 497, 489, 451, 472, 477, 457, 449, 469, 284, 475, 470, 443, 443, 483, 479, 482, 462, 482, 433, 424, 227, 399, 428, 440, 405, 455, 418, 489, 404, 469, 352, 445, 464, 481, 474, 489, 473, 463, 465, 463, 470, 480, 498, 368, 492, 452, 435, 469, 482, 469, 433, 447, 489, 76, 499, 479, 472, 472, 482, 483, 483, 415, 484, 481, 483, 493, 484, 493, 481, 493, 472, 476, 401, 446, 408, 482, 488, 456, 477, 493, 490, 449, 487, 473, 489, 480, 495, 428, 465, 467, 453, 492, 483, 478, 457, 469, 270, 411, 462, 474, 449, 473, 443, 427, 466, 213, 461, 456, 481, 482, 473, 461, 458, 451, 202, 494, 430, 440, 484, 473, 498, 471, 463, 450, 471, 415, 452, 487, 450, 475, 466, 475, 177, 406, 499, 480, 490, 149, 407, 480, 471, 426, 452, 482, 417, 448, 463, 414, 476, 424, 280, 455, 472, 473, 462, 471, 471, 486, 475, 477, 458, 487, 358, 44, 2091, 492, 490, 380, 437, 469, 491, 495, 477, 449, 494, 418, 201, 480, 480, 418, 478, 467, 455, 488, 479, 480, 463, 464, 495, 420, 401, 450, 475, 480, 496, 453, 479, 449, 448, 442, 474, 453, 471, 411, 457, 488, 423, 485, 295, 61, 1069, 58, 588, 475, 491, 442, 471, 485, 496, 156, 435, 483, 493, 459, 491, 446, 488, 493, 437, 376, 451, 483, 475, 470, 493, 418, 477, 496, 477, 468, 454, 441, 464, 442, 473, 412, 422, 481, 411, 476, 474, 30, 452, 448, 485, 434, 403, 460, 426, 478, 493, 410, 347, 498, 451, 490, 493, 474, 430, 245, 493, 481, 496, 483, 486, 482, 443, 482, 204, 348, 463, 411, 318, 278, 281, 874, 439, 157, 179, 571, 428, 435, 482, 441, 500, 488, 444, 486, 486, 180, 421, 414, 491, 495, 495, 436, 496, 488, 126, 469, 498, 479, 442, 489, 455, 434, 459, 497, 287, 480, 464, 408, 449, 500, 406, 460, 425, 365, 488, 402, 462, 384, 411, 484, 253, 443, 498, 480, 453, 499, 468, 481, 377, 491, 465, 398, 459, 425, 425, 463, 500, 461, 431, 492, 325, 425, 489, 472, 428, 441, 474, 500, 488, 472, 493, 484, 453, 498, 334, 415, 446, 473, 393, 476, 497, 481, 470, 408, 427, 498, 495, 494, 497, 490, 102, 492, 494, 464, 485, 446, 489, 413, 478, 468, 450, 412, 400]\n"
     ]
    }
   ],
   "source": [
    "print([len(i.page_content) for i in texts])"
   ]
  },
  {
   "cell_type": "code",
   "execution_count": 10,
   "metadata": {},
   "outputs": [
    {
     "name": "stdout",
     "output_type": "stream",
     "text": [
      "[498, 477, 487, 476, 463, 198, 405, 404, 491, 491, 483, 497, 489, 446, 476, 475, 454, 463, 467, 190, 475, 470, 443, 443, 483, 479, 482, 462, 482, 433, 424, 227, 399, 428, 440, 405, 455, 418, 490, 472, 497, 55, 445, 464, 481, 474, 489, 473, 463, 465, 463, 470, 480, 498, 368, 492, 452, 435, 469, 482, 469, 433, 447, 489, 76, 499, 479, 472, 472, 482, 483, 483, 415, 484, 481, 483, 493, 484, 493, 481, 493, 472, 476, 463, 244, 408, 482, 488, 456, 477, 493, 490, 449, 487, 473, 489, 480, 495, 428, 465, 467, 453, 487, 486, 473, 456, 472, 172, 411, 462, 474, 449, 473, 443, 427, 466, 213, 461, 456, 481, 482, 473, 461, 458, 451, 202, 494, 430, 440, 484, 473, 498, 464, 454, 455, 469, 419, 454, 466, 450, 475, 466, 475, 177, 406, 499, 480, 490, 149, 407, 480, 471, 426, 452, 482, 417, 448, 463, 414, 476, 424, 280, 455, 472, 473, 462, 471, 471, 486, 475, 477, 458, 487, 358, 44, 494, 491, 495, 497, 499, 102, 492, 490, 380, 437, 469, 491, 495, 477, 449, 494, 418, 201, 480, 480, 418, 478, 467, 455, 488, 479, 480, 463, 464, 495, 420, 401, 450, 475, 480, 496, 453, 479, 449, 448, 442, 474, 453, 471, 411, 457, 488, 423, 485, 295, 61, 499, 491, 270, 58, 499, 188, 475, 485, 440, 482, 487, 255, 435, 483, 493, 459, 491, 446, 488, 493, 437, 376, 451, 483, 475, 470, 493, 418, 477, 496, 477, 468, 454, 441, 464, 442, 473, 412, 422, 481, 411, 483, 427, 452, 448, 485, 434, 403, 460, 426, 478, 493, 410, 246, 498, 451, 490, 493, 487, 274, 245, 493, 481, 496, 483, 486, 482, 443, 482, 204, 348, 463, 411, 318, 278, 281, 497, 475, 439, 157, 179, 488, 181, 428, 435, 482, 441, 400, 489, 445, 485, 483, 180, 421, 414, 491, 479, 446, 482, 465, 376, 469, 498, 479, 442, 489, 455, 434, 449, 497, 287, 480, 464, 408, 449, 496, 406, 460, 425, 365, 488, 402, 462, 384, 411, 484, 253, 443, 498, 480, 453, 497, 468, 481, 377, 491, 465, 398, 459, 425, 425, 463, 496, 461, 431, 492, 325, 425, 489, 472, 428, 441, 474, 497, 488, 472, 493, 484, 453, 498, 334, 415, 446, 473, 393, 476, 497, 481, 470, 408, 427, 498, 495, 494, 497, 490, 102, 492, 494, 464, 485, 446, 489, 413, 478, 468, 450, 412, 400]\n"
     ]
    }
   ],
   "source": [
    "from langchain_community.document_loaders import PyPDFium2Loader\n",
    "\n",
    "loader = PyPDFLoader(r'./data/autogen_paper.pdf')\n",
    "\n",
    "pages = loader.load()\n",
    "\n",
    "from langchain_text_splitters import RecursiveCharacterTextSplitter\n",
    "\n",
    "text_splitter = RecursiveCharacterTextSplitter(\n",
    "    chunk_size=500,\n",
    "    chunk_overlap=100,\n",
    "    length_function=len,\n",
    "    is_separator_regex=False\n",
    ")\n",
    "\n",
    "texts = text_splitter.split_documents(pages)\n",
    "print([len(i.page_content) for i in texts])"
   ]
  },
  {
   "cell_type": "markdown",
   "metadata": {},
   "source": [
    "# 임베딩 모델로 텍스트를 수치화하기"
   ]
  },
  {
   "cell_type": "code",
   "execution_count": 12,
   "metadata": {},
   "outputs": [
    {
     "data": {
      "text/plain": [
       "(5, 1536)"
      ]
     },
     "execution_count": 12,
     "metadata": {},
     "output_type": "execute_result"
    }
   ],
   "source": [
    "from langchain_openai import OpenAIEmbeddings\n",
    "\n",
    "embedding_models = OpenAIEmbeddings(model='text-embedding-3-small')\n",
    "embeddings = embedding_models.embed_documents(\n",
    "    [\n",
    "        \"Hi there!\",\n",
    "        \"Oh, hello!\",\n",
    "        \"What's you name?\",\n",
    "        \"My friends call me World\",\n",
    "        \"Hello World!\"\n",
    "    ]\n",
    ")\n",
    "len(embeddings), len(embeddings[0])"
   ]
  },
  {
   "cell_type": "code",
   "execution_count": 13,
   "metadata": {},
   "outputs": [
    {
     "name": "stdout",
     "output_type": "stream",
     "text": [
      "[-0.019187437370419502, -0.03813096508383751, -0.031003428623080254, -0.004613928031176329, -0.03536667302250862, -0.004004158079624176, 0.012920353561639786, 0.05103099346160889, -0.005826693493872881, -0.03720953315496445]\n",
      "--------------------------------------------------\n",
      "임베딩 개수: 5 \n",
      "임베딩 차원: 1536\n"
     ]
    }
   ],
   "source": [
    "print(embeddings[0][:10])\n",
    "print(\"-\"*50)\n",
    "print(f\"임베딩 개수: {len(embeddings)} \\n임베딩 차원: {len(embeddings[0])}\")"
   ]
  },
  {
   "cell_type": "code",
   "execution_count": 14,
   "metadata": {},
   "outputs": [
    {
     "data": {
      "text/plain": [
       "(415, 1536)"
      ]
     },
     "execution_count": 14,
     "metadata": {},
     "output_type": "execute_result"
    }
   ],
   "source": [
    "from langchain_openai import OpenAIEmbeddings\n",
    "from langchain_community.document_loaders import PyPDFLoader\n",
    "from langchain_text_splitters import RecursiveCharacterTextSplitter\n",
    "\n",
    "# 임베딩 모델 API 호출\n",
    "embedding_model = OpenAIEmbeddings(model='text-embedding-3-small')\n",
    "\n",
    "# load PDF document\n",
    "loader = PyPDFLoader(r\"./data/autogen_paper.pdf\")\n",
    "pages = loader.load()\n",
    "\n",
    "# chunking\n",
    "text_splitter = RecursiveCharacterTextSplitter(\n",
    "    chunk_size=500,\n",
    "    chunk_overlap=100\n",
    ")\n",
    "\n",
    "texts = text_splitter.split_documents(pages)\n",
    "\n",
    "# OpenAI 임베딩 모델로 청크들을 임베딩 변환하기\n",
    "embeddings = embedding_model.embed_documents([i.page_content for i in texts])\n",
    "len(embeddings), len(embeddings[0])"
   ]
  },
  {
   "cell_type": "markdown",
   "metadata": {},
   "source": [
    "# Save in the Vectorstore"
   ]
  },
  {
   "cell_type": "code",
   "execution_count": 17,
   "metadata": {},
   "outputs": [],
   "source": [
    "from langchain.vectorstores import FAISS\n",
    "\n",
    "db = FAISS.from_documents(texts, embedding_model)"
   ]
  },
  {
   "cell_type": "code",
   "execution_count": 18,
   "metadata": {},
   "outputs": [
    {
     "data": {
      "text/plain": [
       "[Document(metadata={'source': './data/autogen_paper.pdf', 'page': 8}, page_content='applications. AutoGen serves as a general framework for creating and experimenting with multi-\\nagent systems that can easily fulfill various practical requirements, such as reusing, customizing,\\nand extending existing agents, as well as programming conversations between them.\\nOur experiments, as detailed in Section 3, demonstrate that this approach offers numerous benefits.\\nThe adoption of AutoGen has resulted in improved performance (over state-of-the-art approaches),'),\n",
       " Document(metadata={'source': './data/autogen_paper.pdf', 'page': 16}, page_content='AutoGen supports could be desirable in many scenarios, a high level of autonomy can also pose\\npotential risks, especially in high-risk applications (Amodei et al., 2016; Weld & Etzioni, 1994). As\\na result, building fail-safes against cascading failures and exploitation, mitigating reward hacking,\\nout of control and undesired behaviors, maintaining effective human oversight of applications built\\nwith AutoGen agents will become important. While AutoGen provides convenient and seamless'),\n",
       " Document(metadata={'source': './data/autogen_paper.pdf', 'page': 1}, page_content='behaviors. AutoGen provides ready-to-use implementations and also allows easy extension and\\nexperimentation for both steps. (Section 2.2)\\n3We refer to Appendix A for a detailed discussion.\\n2'),\n",
       " Document(metadata={'source': './data/autogen_paper.pdf', 'page': 8}, page_content='The adoption of AutoGen has resulted in improved performance (over state-of-the-art approaches),\\nreduced development code, and decreased manual burden for existing applications. It offers flex-\\nibility to developers, as demonstrated in A1 (scenario 3), A5, and A6, where AutoGen enables\\nmulti-agent chats to follow a dynamic pattern rather than fixed back-and-forth interactions. It allows\\nhumans to engage in activities alongside multiple AI agents in a conversational manner. Despite the')]"
      ]
     },
     "execution_count": 18,
     "metadata": {},
     "output_type": "execute_result"
    }
   ],
   "source": [
    "retriever = db.as_retriever()\n",
    "\n",
    "query = \"What is autogen\"\n",
    "#유사 문서 검색\n",
    "retriever.invoke(query)"
   ]
  },
  {
   "cell_type": "code",
   "execution_count": null,
   "metadata": {},
   "outputs": [
    {
     "name": "stderr",
     "output_type": "stream",
     "text": [
      "d:\\projects\\github\\learning\\llm\\agent\\agent\\lib\\site-packages\\langsmith\\client.py:241: LangSmithMissingAPIKeyWarning: API key must be provided when using hosted LangSmith API\n",
      "  warnings.warn(\n"
     ]
    },
    {
     "data": {
      "text/plain": [
       "'AutoGen is a framework designed for creating and experimenting with multi-agent systems, enabling users to reuse, customize, and extend existing agents. It offers ready-to-use implementations and supports modular development, allowing for independent testing and maintenance of agents. The framework aims to improve performance in various applications while addressing potential risks associated with high autonomy.'"
      ]
     },
     "execution_count": 19,
     "metadata": {},
     "output_type": "execute_result"
    }
   ],
   "source": [
    "from langchain import hub       # langchain에서 운영하는 prompt 공유 플랫폼\n",
    "from langchain_core.output_parsers import StrOutputParser\n",
    "from langchain_core.runnables import RunnablePassthrough\n",
    "from langchain_openai import ChatOpenAI\n",
    "\n",
    "model = ChatOpenAI(model='gpt-4o-mini')\n",
    "prompt = hub.pull('rlm/rag-prompt')     # hub에서 prompt\n",
    "\n",
    "def formac_docs(docs):\n",
    "    return \"\\n\\n\".join(doc.page_content for doc in docs)\n",
    "\n",
    "rag_chain = (\n",
    "    {\"context\": retriever | formac_docs, \"question\": RunnablePassthrough()}\n",
    "    | prompt\n",
    "    | model\n",
    "    | StrOutputParser()\n",
    ")\n",
    "\n",
    "rag_chain.invoke(\"What is autogen?\")"
   ]
  },
  {
   "cell_type": "code",
   "execution_count": null,
   "metadata": {},
   "outputs": [],
   "source": []
  }
 ],
 "metadata": {
  "kernelspec": {
   "display_name": "agent",
   "language": "python",
   "name": "python3"
  },
  "language_info": {
   "codemirror_mode": {
    "name": "ipython",
    "version": 3
   },
   "file_extension": ".py",
   "mimetype": "text/x-python",
   "name": "python",
   "nbconvert_exporter": "python",
   "pygments_lexer": "ipython3",
   "version": "3.10.6"
  }
 },
 "nbformat": 4,
 "nbformat_minor": 2
}
