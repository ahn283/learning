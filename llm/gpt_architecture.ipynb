{
 "cells": [
  {
   "cell_type": "code",
   "execution_count": 1,
   "metadata": {},
   "outputs": [],
   "source": [
    "import numpy as np \n",
    "\n",
    "def self_attention(query, key, value, mask=None):\n",
    "    # Compute attention scores\n",
    "    scores = np.dot(query, key.T)\n",
    "    \n",
    "    if mask is not None:\n",
    "        # apply mask by setting masked positions to a large negative value\n",
    "        scores = scores + mask * -1e9\n",
    "        \n",
    "    # apply softmax to obtain attention weights\n",
    "    attention_weights = np.exp(scores) / np.sum(np.exp(scores), axis=-1, keepdims=True)\n",
    "    \n",
    "    # compute weighted sum of value vectors \n",
    "    output = np.dot(attention_weights, value)\n",
    "    \n",
    "    return output"
   ]
  }
 ],
 "metadata": {
  "kernelspec": {
   "display_name": "llm",
   "language": "python",
   "name": "python3"
  },
  "language_info": {
   "codemirror_mode": {
    "name": "ipython",
    "version": 3
   },
   "file_extension": ".py",
   "mimetype": "text/x-python",
   "name": "python",
   "nbconvert_exporter": "python",
   "pygments_lexer": "ipython3",
   "version": "3.11.9"
  }
 },
 "nbformat": 4,
 "nbformat_minor": 2
}
