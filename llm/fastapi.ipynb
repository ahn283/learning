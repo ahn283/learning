{
 "cells": [
  {
   "cell_type": "code",
   "execution_count": 1,
   "metadata": {},
   "outputs": [],
   "source": [
    "import hashlib\n",
    "import os\n",
    "from fastapi import FastAPI\n",
    "from pydantic import BaseModel\n",
    "import keyring\n",
    "\n",
    "app = FastAPI()\n",
    "\n",
    "OPENAI_API_KEY = keyring.get_password('openai', 'ahn283')\n",
    "PINECONE_KEY = keyring.get_password('pinecone', 'ahn283')"
   ]
  },
  {
   "cell_type": "code",
   "execution_count": 4,
   "metadata": {},
   "outputs": [],
   "source": [
    "# Create an index in Pinecone with the necessary properties\n",
    "\n",
    "def my_hash(s):\n",
    "    # Return the MD5 hash of the input string as a hexadecimal string\n",
    "    return hashlib.md5(s.encode()).hexdigest()\n",
    "\n",
    "class DocumentInputRequest(BaseModel):\n",
    "    # Define input to /document/ingest\n",
    "    None\n",
    "    \n",
    "class DocumentInputResponse(BaseModel):\n",
    "    # Define output from /document/ingest\n",
    "    None\n",
    "    \n",
    "class DocumentRetriveRequest(BaseModel):\n",
    "    # Define input to /document/retrieve\n",
    "    None\n",
    "    \n",
    "class DocumentRetrieveResponse(BaseModel):\n",
    "    # Define output from /document/retrieve\n",
    "    None\n",
    "    "
   ]
  }
 ],
 "metadata": {
  "kernelspec": {
   "display_name": "openainew",
   "language": "python",
   "name": "python3"
  },
  "language_info": {
   "codemirror_mode": {
    "name": "ipython",
    "version": 3
   },
   "file_extension": ".py",
   "mimetype": "text/x-python",
   "name": "python",
   "nbconvert_exporter": "python",
   "pygments_lexer": "ipython3",
   "version": "3.11.9"
  }
 },
 "nbformat": 4,
 "nbformat_minor": 2
}
