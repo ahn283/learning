{
 "cells": [
  {
   "cell_type": "code",
   "execution_count": 1,
   "metadata": {},
   "outputs": [],
   "source": [
    "from openai import OpenAI\n",
    "import keyring\n",
    "\n",
    "client = OpenAI(\n",
    "    api_key=keyring.get_password('openai', 'key_for_mac')\n",
    ")"
   ]
  },
  {
   "cell_type": "code",
   "execution_count": 2,
   "metadata": {},
   "outputs": [
    {
     "name": "stdout",
     "output_type": "stream",
     "text": [
      "하늘은 하늘색인 이유는 대기 중의 분자들이 햇빛을 흡수하고 산란시키는 과정 때문입니다. 태양으로부터 오는 햇빛은 다양한 색상의 빛으로 구성되어 있지만, 대기 중의 분자들이 햇빛을 흡수하고 다시 방출할 때 파란색 빛이 가장 많이 산란되기 때문에 우리가 보는 하늘은 파란색으로 보이게 됩니다. 이러한 현상을 레이리 산란이라고 하며, 이로 인해 하늘은 파란색으로 보이게 됩니다.\n"
     ]
    }
   ],
   "source": [
    "completion = client.chat.completions.create(\n",
    "    model='gpt-3.5-turbo-0125',\n",
    "    messages=[{'role': 'user', 'content':'왜 하늘은 하늘색인가요?'}],\n",
    "    temperature=0.0\n",
    ")\n",
    "\n",
    "print(completion.choices[0].message.content)"
   ]
  },
  {
   "cell_type": "code",
   "execution_count": 3,
   "metadata": {},
   "outputs": [
    {
     "data": {
      "text/plain": [
       "ChatCompletion(id='chatcmpl-9pmL13PEGSn6HkEHPgJRjaGsqrGKg', choices=[Choice(finish_reason='stop', index=0, logprobs=None, message=ChatCompletionMessage(content='하늘은 하늘색인 이유는 대기 중의 분자들이 햇빛을 흡수하고 산란시키는 과정 때문입니다. 태양으로부터 오는 햇빛은 다양한 색상의 빛으로 구성되어 있지만, 대기 중의 분자들이 햇빛을 흡수하고 다시 방출할 때 파란색 빛이 가장 많이 산란되기 때문에 우리가 보는 하늘은 파란색으로 보이게 됩니다. 이러한 현상을 레이리 산란이라고 하며, 이로 인해 하늘은 파란색으로 보이게 됩니다.', role='assistant', function_call=None, tool_calls=None))], created=1722127567, model='gpt-3.5-turbo-0125', object='chat.completion', service_tier=None, system_fingerprint=None, usage=CompletionUsage(completion_tokens=203, prompt_tokens=21, total_tokens=224))"
      ]
     },
     "execution_count": 3,
     "metadata": {},
     "output_type": "execute_result"
    }
   ],
   "source": [
    "completion"
   ]
  },
  {
   "cell_type": "code",
   "execution_count": 4,
   "metadata": {},
   "outputs": [
    {
     "name": "stdout",
     "output_type": "stream",
     "text": [
      "안녕! 하늘은 왜 하늘색일까? 그 이유는 바로 '태양빛' 때문이야! 태양은 빛을 내뿜는데, 그 빛은 7가지 색으로 나뉘어져. 이 색들은 빨강, 주황, 노랑, 초록, 파랑, 남색, 보라색이야. 이 중에서 하늘은 파랑색 빛을 받아서 파란색으로 보이는거야! 하늘은 빛이 흩어져서 우리 눈에 파란색으로 보이는거야. 그래서 하늘은 하늘색이라고 불리는거야! 이해됐어? 하늘색은 태양빛의 파란색이야!🌈🌞🌌\n"
     ]
    }
   ],
   "source": [
    "completion = client.chat.completions.create(\n",
    "    model='gpt-3.5-turbo-0125',\n",
    "    messages=[\n",
    "        {'role': 'system', 'content': '당신은 물리하 선생님입니다. 초등학교 5학년한테 설명하듯이 아주 쉽고 친근하게 설명해주세요.'},\n",
    "        {'role': 'user', 'content': '왜 하늘은 하늘색인가요?'}\n",
    "    ],\n",
    "    temperature=0.0\n",
    ")\n",
    "\n",
    "print(completion.choices[0].message.content)"
   ]
  },
  {
   "cell_type": "code",
   "execution_count": 5,
   "metadata": {},
   "outputs": [
    {
     "name": "stdout",
     "output_type": "stream",
     "text": [
      "하늘은 왜 하늘색인지 궁금하시죠? 그 이유는 바로 태양빛 때문이에요! 태양은 빛을 내뿜는데, 그 빛은 다양한 색깔을 가지고 있어요. 하지만 우리가 눈으로 볼 때, 그 중에서 파란색 빛이 가장 많이 퍼져서 보이게 되는 거예요. 그래서 하늘은 파란색으로 보이게 되는 거죠! 이렇게 태양빛이 대기 중의 먼지와 기체들과 상호작용하면서 하늘이 파란색으로 보이게 되는 거예요. 이렇게 하늘은 하늘색이 되는 이유를 알아보았어요!\n"
     ]
    }
   ],
   "source": [
    "completion = client.chat.completions.create(\n",
    "    model='gpt-3.5-turbo-0125',\n",
    "    messages=[\n",
    "        {'role': 'user', 'content': '당신은 물리학 선생님입니다. 초등학교 5학년한테 설명하듯이 아주 쉽고 친근하게 설명해주세요. 왜 하늘은 하늘색인가요?'}\n",
    "    ],\n",
    "    temperature=0.0\n",
    ")\n",
    "\n",
    "print(completion.choices[0].message.content)"
   ]
  },
  {
   "cell_type": "code",
   "execution_count": 6,
   "metadata": {},
   "outputs": [
    {
     "name": "stdout",
     "output_type": "stream",
     "text": [
      "하늘은 하늘색인 이유는 대기 중의 분자들이 푸른 빛을 흡수하고 다른 색깔의 빛을 반사하기 때문입니다. 태양으로부터 오는 빛은 다양한 색상을 포함하고 있지만, 대기 중의 분자들이 푸른 빛을 흡수하고 다른 색깔의 빛을 반사하게 되어 우리 눈에는 하늘이 푸르게 보이는 것입니다. 이러한 현상을 산란이라고 하는데, 이 산란 현상이 하늘을 하늘색으로 만드는 이유입니다."
     ]
    }
   ],
   "source": [
    "stream = client.chat.completions.create(\n",
    "    model='gpt-3.5-turbo-0125',\n",
    "    messages=[{'role':'user', 'content':'왜 하늘은 하늘색인가요?'}],\n",
    "    temperature=0.0,\n",
    "    stream=True\n",
    ")\n",
    "\n",
    "for chunk in stream:\n",
    "    if chunk.choices[0].delta.content is not None:\n",
    "        print(chunk.choices[0].delta.content, end='')"
   ]
  },
  {
   "cell_type": "code",
   "execution_count": 7,
   "metadata": {},
   "outputs": [
    {
     "data": {
      "text/plain": [
       "<openai.Stream at 0x107bb1a10>"
      ]
     },
     "execution_count": 7,
     "metadata": {},
     "output_type": "execute_result"
    }
   ],
   "source": [
    "stream"
   ]
  },
  {
   "cell_type": "code",
   "execution_count": null,
   "metadata": {},
   "outputs": [],
   "source": []
  }
 ],
 "metadata": {
  "kernelspec": {
   "display_name": "llm",
   "language": "python",
   "name": "python3"
  },
  "language_info": {
   "codemirror_mode": {
    "name": "ipython",
    "version": 3
   },
   "file_extension": ".py",
   "mimetype": "text/x-python",
   "name": "python",
   "nbconvert_exporter": "python",
   "pygments_lexer": "ipython3",
   "version": "3.11.9"
  }
 },
 "nbformat": 4,
 "nbformat_minor": 2
}
