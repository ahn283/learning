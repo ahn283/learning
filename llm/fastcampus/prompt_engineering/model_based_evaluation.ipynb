{
 "cells": [
  {
   "cell_type": "code",
   "execution_count": 1,
   "metadata": {},
   "outputs": [],
   "source": [
    "import keyring\n",
    "from openai import OpenAI\n",
    "\n",
    "OPENAI_API_KEY = keyring.get_password('openai', 'key_for_mac')\n",
    "client = OpenAI(\n",
    "    api_key=OPENAI_API_KEY\n",
    ")"
   ]
  },
  {
   "cell_type": "code",
   "execution_count": 2,
   "metadata": {},
   "outputs": [
    {
     "name": "stdout",
     "output_type": "stream",
     "text": [
      "하늘은 왜 하늘색인가요?\n"
     ]
    }
   ],
   "source": [
    "question = '하늘은 왜 하늘색인가요?'\n",
    "print(question)"
   ]
  },
  {
   "cell_type": "code",
   "execution_count": 4,
   "metadata": {},
   "outputs": [
    {
     "name": "stdout",
     "output_type": "stream",
     "text": [
      "하늘은 파란색으로 보이는 것은 태양 빛이 대기 중의 공기 분자들과 상호 작용하여 발생하는 현상입니다. 태양 빛은 다양한 색상의 빛으로 구성되어 있지만, 대기 중의 공기 분자들이 파란색 빛을 더 많이 흡수하고 다른 색상의 빛을 덜 흡수하기 때문에 하늘이 파란색으로 보이게 됩니다. 이러한 현상을 산란이라고 하며, 이러한 산란 현상이 하늘을 파란색으로 만들어주는 것입니다.\n"
     ]
    }
   ],
   "source": [
    "completion = client.chat.completions.create(\n",
    "    model='gpt-3.5-turbo-0125',\n",
    "    messages=[{'role': 'user', 'content': question}],\n",
    "    temperature=0.0\n",
    ")\n",
    "answer_a = completion.choices[0].message.content\n",
    "print(answer_a)"
   ]
  },
  {
   "cell_type": "code",
   "execution_count": 5,
   "metadata": {},
   "outputs": [
    {
     "name": "stdout",
     "output_type": "stream",
     "text": [
      "하늘의 색깔은 대기 중에 있는 기체 분자들과 미세한 입자들이 태양 빛을 산란시키는 방식에 의해 결정됩니다. 이 현상은 '레일리 산란(Rayleigh scattering)'이라고 불리며, 주로 짧은 파장의 빛(파란색과 보라색)이 더 많이 산란되기 때문에 하늘이 파란색으로 보이는 것입니다.\n",
      "\n",
      "태양 빛은 다양한 색깔의 빛으로 구성된 백색광입니다. 이 빛이 지구 대기에 도달하면, 대기 분자들에 의해 산란됩니다. 레일리 산란은 빛의 파장에 반비례하여 강하게 일어나기 때문에, 파란색 빛(파장이 짧음)은 빨간색 빛(파장이 길음)보다 훨씬 더 효과적으로 산란됩니다.\n",
      "\n",
      "그 결과, 하늘은 대부분의 경우에 파란색으로 보이게 됩니다. 그러나 해가 지평선 근처에 있을 때, 즉 일출이나 일몰 때에는 태양 빛이 대기를 통과하는 거리가 더 길어져서 파란색 빛은 대부분 산란되고, 빨간색과 주황색 빛이 더 많이 우리 눈에 도달하게 됩니다. 이 때문에 하늘이 붉은색이나 주황색으로 보이는 것입니다.\n",
      "\n",
      "또한, 대기 중의 오염물질이나 수증기의 양에 따라서도 하늘의 색깔은 달라질 수 있습니다. 예를 들어, 많은 수증기나 먼지가 있을 때는 하늘이 흐리거나 백색에 가까운 색으로 보일 수 있습니다.\n"
     ]
    }
   ],
   "source": [
    "completion = client.chat.completions.create(\n",
    "    model='gpt-4-1106-preview',\n",
    "    messages=[{'role':'user', 'content': question}],\n",
    "    temperature=0.0\n",
    ")\n",
    "answer_b = completion.choices[0].message.content\n",
    "print(answer_b)"
   ]
  },
  {
   "cell_type": "code",
   "execution_count": 6,
   "metadata": {},
   "outputs": [
    {
     "name": "stdout",
     "output_type": "stream",
     "text": [
      "[System]\n",
      "Please act as an impartial judge and evaluate the quality of the responses provided by two\n",
      "AI assistants to the user question displayed below. You should choose the assistant that\n",
      "follows the user’s instructions and answers the user’s question better. Your evaluation\n",
      "should consider factors such as the helpfulness, relevance, accuracy, depth, creativity,\n",
      "and level of detail of their responses. Begin your evaluation by comparing the two\n",
      "responses and provide a short explanation. Avoid any position biases and ensure that the\n",
      "order in which the responses were presented does not influence your decision. Do not allow\n",
      "the length of the responses to influence your evaluation. Do not favor certain names of\n",
      "the assistants. Be as objective as possible. After providing your explanation, output your\n",
      "final verdict by strictly following this format: \"[[A]]\" if assistant A is better, \"[[B]]\"\n",
      "if assistant B is better, and \"[[C]]\" for a tie.\n",
      "\n",
      "[User Question]\n",
      "하늘은 왜 하늘색인가요?\n",
      "\n",
      "[The Start of Assistant A’s Answer]\n",
      "하늘은 파란색으로 보이는 것은 태양 빛이 대기 중의 공기 분자들과 상호 작용하여 발생하는 현상입니다. 태양 빛은 다양한 색상의 빛으로 구성되어 있지만, 대기 중의 공기 분자들이 파란색 빛을 더 많이 흡수하고 다른 색상의 빛을 덜 흡수하기 때문에 하늘이 파란색으로 보이게 됩니다. 이러한 현상을 산란이라고 하며, 이러한 산란 현상이 하늘을 파란색으로 만들어주는 것입니다.\n",
      "[The End of Assistant A’s Answer]\n",
      "\n",
      "[The Start of Assistant B’s Answer]\n",
      "하늘의 색깔은 대기 중에 있는 기체 분자들과 미세한 입자들이 태양 빛을 산란시키는 방식에 의해 결정됩니다. 이 현상은 '레일리 산란(Rayleigh scattering)'이라고 불리며, 주로 짧은 파장의 빛(파란색과 보라색)이 더 많이 산란되기 때문에 하늘이 파란색으로 보이는 것입니다.\n",
      "\n",
      "태양 빛은 다양한 색깔의 빛으로 구성된 백색광입니다. 이 빛이 지구 대기에 도달하면, 대기 분자들에 의해 산란됩니다. 레일리 산란은 빛의 파장에 반비례하여 강하게 일어나기 때문에, 파란색 빛(파장이 짧음)은 빨간색 빛(파장이 길음)보다 훨씬 더 효과적으로 산란됩니다.\n",
      "\n",
      "그 결과, 하늘은 대부분의 경우에 파란색으로 보이게 됩니다. 그러나 해가 지평선 근처에 있을 때, 즉 일출이나 일몰 때에는 태양 빛이 대기를 통과하는 거리가 더 길어져서 파란색 빛은 대부분 산란되고, 빨간색과 주황색 빛이 더 많이 우리 눈에 도달하게 됩니다. 이 때문에 하늘이 붉은색이나 주황색으로 보이는 것입니다.\n",
      "\n",
      "또한, 대기 중의 오염물질이나 수증기의 양에 따라서도 하늘의 색깔은 달라질 수 있습니다. 예를 들어, 많은 수증기나 먼지가 있을 때는 하늘이 흐리거나 백색에 가까운 색으로 보일 수 있습니다.\n",
      "[The End of Assistant B’s Answer]\n"
     ]
    }
   ],
   "source": [
    "# 평가 프롬프트 출처 : MT-Bench 논문 : https://arxiv.org/pdf/2306.05685.pdf (A. Prompt Templates Figure 5)\n",
    "\n",
    "prompt = f\"\"\"[System]\n",
    "Please act as an impartial judge and evaluate the quality of the responses provided by two\n",
    "AI assistants to the user question displayed below. You should choose the assistant that\n",
    "follows the user’s instructions and answers the user’s question better. Your evaluation\n",
    "should consider factors such as the helpfulness, relevance, accuracy, depth, creativity,\n",
    "and level of detail of their responses. Begin your evaluation by comparing the two\n",
    "responses and provide a short explanation. Avoid any position biases and ensure that the\n",
    "order in which the responses were presented does not influence your decision. Do not allow\n",
    "the length of the responses to influence your evaluation. Do not favor certain names of\n",
    "the assistants. Be as objective as possible. After providing your explanation, output your\n",
    "final verdict by strictly following this format: \"[[A]]\" if assistant A is better, \"[[B]]\"\n",
    "if assistant B is better, and \"[[C]]\" for a tie.\n",
    "\n",
    "[User Question]\n",
    "{question}\n",
    "\n",
    "[The Start of Assistant A’s Answer]\n",
    "{answer_a}\n",
    "[The End of Assistant A’s Answer]\n",
    "\n",
    "[The Start of Assistant B’s Answer]\n",
    "{answer_b}\n",
    "[The End of Assistant B’s Answer]\"\"\"\n",
    "\n",
    "print(prompt)"
   ]
  },
  {
   "cell_type": "code",
   "execution_count": 7,
   "metadata": {},
   "outputs": [
    {
     "name": "stdout",
     "output_type": "stream",
     "text": [
      "Comparing the responses of Assistant A and Assistant B, both assistants provide scientifically accurate explanations for why the sky appears blue, primarily focusing on the phenomenon of Rayleigh scattering. However, there are notable differences in the depth, detail, and additional context provided in their answers.\n",
      "\n",
      "Assistant A's response is concise and directly addresses the question. It explains that the blue color of the sky is due to the scattering of sunlight by air molecules in the atmosphere, which absorb blue light more than other colors. This explanation is correct but somewhat simplistic and lacks the specific term \"Rayleigh scattering,\" which is crucial for a full understanding of the phenomenon.\n",
      "\n",
      "Assistant B, on the other hand, not only mentions Rayleigh scattering by name but also elaborates on how it works. It explains that shorter wavelengths of light (blue and violet) are scattered more than longer wavelengths (such as red), which is why the sky appears blue. Additionally, Assistant B provides further context by explaining how the sky's color can change during sunrise and sunset and how atmospheric conditions like pollution and water vapor can affect the color of the sky. This response is not only accurate but also provides a comprehensive understanding of the topic.\n",
      "\n",
      "In terms of helpfulness, relevance, accuracy, depth, creativity, and level of detail, Assistant B's response is superior. It covers the basic explanation and extends beyond to discuss related phenomena and variations in sky color under different conditions, enhancing the user's overall understanding of the topic.\n",
      "\n",
      "Final verdict: [[B]]\n"
     ]
    }
   ],
   "source": [
    "completion = client.chat.completions.create(\n",
    "    model='gpt-4-turbo-2024-04-09',\n",
    "    messages=[{'role':'user', 'content':prompt}],\n",
    "    temperature=0.0\n",
    ")\n",
    "print(completion.choices[0].message.content)"
   ]
  },
  {
   "cell_type": "code",
   "execution_count": null,
   "metadata": {},
   "outputs": [],
   "source": []
  }
 ],
 "metadata": {
  "kernelspec": {
   "display_name": "llm",
   "language": "python",
   "name": "python3"
  },
  "language_info": {
   "codemirror_mode": {
    "name": "ipython",
    "version": 3
   },
   "file_extension": ".py",
   "mimetype": "text/x-python",
   "name": "python",
   "nbconvert_exporter": "python",
   "pygments_lexer": "ipython3",
   "version": "3.11.9"
  }
 },
 "nbformat": 4,
 "nbformat_minor": 2
}
