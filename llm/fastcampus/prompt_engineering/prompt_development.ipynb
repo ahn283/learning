{
 "cells": [
  {
   "cell_type": "code",
   "execution_count": 1,
   "metadata": {},
   "outputs": [],
   "source": [
    "import keyring\n",
    "from openai import OpenAI\n",
    "\n",
    "OPENAI_API_KEY = keyring.get_password('openai', 'key_for_mac')\n",
    "client = OpenAI(\n",
    "    api_key=OPENAI_API_KEY\n",
    ")"
   ]
  },
  {
   "cell_type": "code",
   "execution_count": 2,
   "metadata": {},
   "outputs": [],
   "source": [
    "# answer = 6\n",
    "question = 'x, y가 세 부등식 y ≤ x+3, y ≤ -4x+3, y ≥ 0을 만족할 때, x+y의 최댓값을 M, 최솟값을 m이라 하면 M-m의 값은?'\n",
    "\n",
    "A = 4\n",
    "B = 6\n",
    "C = 8\n",
    "D = 10"
   ]
  },
  {
   "cell_type": "code",
   "execution_count": 3,
   "metadata": {},
   "outputs": [
    {
     "name": "stdout",
     "output_type": "stream",
     "text": [
      "C. 8\n",
      "\n",
      "먼저 y ≤ x+3과 y ≤ -4x+3의 교집합을 구하면 y ≤ x+3, y ≤ -4x+3이므로 y ≤ x+3을 만족하는 부분만 고려하면 됩니다.\n",
      "\n",
      "y ≤ x+3에서 y=0일 때 x=3이므로 x+3 그래프는 (3,0)을 지나는 직선입니다.\n",
      "\n",
      "따라서 x+3 그래프와 y=0, y ≤ x+3을 만족하는 영역은 삼각형 모양이 됩니다.\n",
      "\n",
      "이 삼각형의 꼭지점은 (0,0), (3,0), (0,3)이므로 이 중에서 x+y가 최댓값을 가질 때는 (3,0)이고 최솟값을 가질 때는 (0,0)입니다.\n",
      "\n",
      "따라서 M-m = 3-0 = 3이므로 정답은 3이 됩니다.\n"
     ]
    }
   ],
   "source": [
    "# Prompt 출처: KMMLU 논문에서 실제로 평가에 사용한 Prompt (논문: https://arxiv.org/pdf/2402.11548.pdf)\n",
    "\n",
    "prompt = f\"\"\"{question}\n",
    "A. {A}\n",
    "B. {B}\n",
    "C. {C}\n",
    "D. {D}\n",
    "정답: \n",
    "\"\"\"\n",
    "\n",
    "completion = client.chat.completions.create(\n",
    "    model='gpt-3.5-turbo-0125',\n",
    "    messages=[\n",
    "        {'role':'user', 'content':prompt}\n",
    "    ],\n",
    "    temperature=0.0\n",
    ")\n",
    "\n",
    "print(completion.choices[0].message.content)"
   ]
  },
  {
   "cell_type": "code",
   "execution_count": 4,
   "metadata": {},
   "outputs": [
    {
     "name": "stdout",
     "output_type": "stream",
     "text": [
      "이 문제를 해결하기 위해 주어진 부등식들을 이용하여 좌표평면에서 영역을 찾고, 그 영역의 꼭짓점에서 x+y의 최댓값과 최솟값을 구해야 합니다.\n",
      "\n",
      "1. **부등식 해석 및 영역 찾기**\n",
      "   - \\( y \\leq x + 3 \\)\n",
      "   - \\( y \\leq -4x + 3 \\)\n",
      "   - \\( y \\geq 0 \\)\n",
      "\n",
      "2. **교차점 찾기**\n",
      "   - \\( y = x + 3 \\)와 \\( y = -4x + 3 \\)의 교차점을 찾습니다.\n",
      "     \\[\n",
      "     x + 3 = -4x + 3 \\\\\n",
      "     5x = 0 \\\\\n",
      "     x = 0\n",
      "     \\]\n",
      "     \\( x = 0 \\)일 때, \\( y = 3 \\)이므로 교차점은 (0, 3)입니다.\n",
      "\n",
      "   - \\( y = 0 \\)과 \\( y = x + 3 \\)의 교차점을 찾습니다.\n",
      "     \\[\n",
      "     0 = x + 3 \\\\\n",
      "     x = -3\n",
      "     \\]\n",
      "     교차점은 (-3, 0)입니다.\n",
      "\n",
      "   - \\( y = 0 \\)과 \\( y = -4x + 3 \\)의 교차점을 찾습니다.\n",
      "     \\[\n",
      "     0 = -4x + 3 \\\\\n",
      "     4x = 3 \\\\\n",
      "     x = \\frac{3}{4}\n",
      "     \\]\n",
      "     교차점은 \\(\\left(\\frac{3}{4}, 0\\right)\\)입니다.\n",
      "\n",
      "3. **영역의 꼭짓점**\n",
      "   - 꼭짓점은 (-3, 0), (0, 3), \\(\\left(\\frac{3}{4}, 0\\right)\\)입니다.\n",
      "\n",
      "4. **x+y의 값 계산**\n",
      "   - (-3, 0)에서 \\( x + y = -3 + 0 = -3 \\)\n",
      "   - (0, 3)에서 \\( x + y = 0 + 3 = 3 \\)\n",
      "   - \\(\\left(\\frac{3}{4}, 0\\right)\\)에서 \\( x + y = \\frac{3}{4} + 0 = \\frac{3}{4} \\)\n",
      "\n",
      "5. **최댓값과 최솟값**\n",
      "   - 최댓값 \\( M = 3 \\)\n",
      "   - 최솟값 \\( m = -3 \\)\n",
      "\n",
      "6. **M - m 계산**\n",
      "   \\[\n",
      "   M - m = 3 - (-3) = 6\n",
      "   \\]\n",
      "\n",
      "따라서, \\( M - m \\)의 값은 6이며, 정답은 **B. 6**입니다.\n"
     ]
    }
   ],
   "source": [
    "# Prompt 출처: KMMLU 논문에서 실제로 평가에 사용한 Prompt (논문: https://arxiv.org/pdf/2402.11548.pdf)\n",
    "\n",
    "completion = client.chat.completions.create(\n",
    "    model='gpt-4-turbo-2024-04-09',\n",
    "    messages=[\n",
    "        {'role':'user', 'content':prompt}\n",
    "    ],\n",
    "    temperature=0.0\n",
    ")\n",
    "print(completion.choices[0].message.content)"
   ]
  },
  {
   "cell_type": "code",
   "execution_count": 5,
   "metadata": {},
   "outputs": [
    {
     "name": "stdout",
     "output_type": "stream",
     "text": [
      "B. 6\n"
     ]
    }
   ],
   "source": [
    "# Prompt 출처: KMMLU 논문에서 실제로 평가에 사용한 Prompt (논문: https://arxiv.org/pdf/2402.11548.pdf)\n",
    "\n",
    "prompt = f\"\"\"You are an Professional in Mathematics. Below is given a math question in Korean.\n",
    "\n",
    "{question}\n",
    "A. {A}\n",
    "B. {B}\n",
    "C. {C}\n",
    "D. {D}\n",
    "Answer：\"\"\"\n",
    "\n",
    "completion = client.chat.completions.create(\n",
    "    model='gpt-3.5-turbo-0125',\n",
    "    messages=[\n",
    "        {'role':'user', 'content':prompt}\n",
    "    ],\n",
    "    temperature=0.0\n",
    ")\n",
    "\n",
    "print(completion.choices[0].message.content)"
   ]
  },
  {
   "cell_type": "code",
   "execution_count": 6,
   "metadata": {},
   "outputs": [
    {
     "name": "stdout",
     "output_type": "stream",
     "text": [
      "C. 8\n",
      "\n",
      "To find the maximum and minimum values of x+y, we need to find the intersection points of the three inequalities. \n",
      "\n",
      "First, we find the intersection points of y ≤ x+3 and y ≤ -4x+3:\n",
      "x+3 = -4x+3\n",
      "5x = 0\n",
      "x = 0\n",
      "\n",
      "So the intersection point is (0, 3).\n",
      "\n",
      "Next, we find the intersection points of y ≤ x+3 and y ≥ 0:\n",
      "x+3 = 0\n",
      "x = -3\n",
      "\n",
      "So the intersection point is (-3, 0).\n",
      "\n",
      "Finally, we find the intersection points of y ≤ -4x+3 and y ≥ 0:\n",
      "-4x+3 = 0\n",
      "x = 3/4\n",
      "\n",
      "So the intersection point is (3/4, 0).\n",
      "\n",
      "Therefore, the maximum value of x+y is when x=0 and y=3, which is 3. The minimum value of x+y is when x=-3 and y=0, which is -3. \n",
      "\n",
      "Therefore, M-m = 3 - (-3) = 6. \n",
      "\n",
      "So the correct answer is B. 6.\n"
     ]
    }
   ],
   "source": [
    "# Prompt 출처: KMMLU 논문에서 실제로 평가에 사용한 Prompt (논문: https://arxiv.org/pdf/2402.11548.pdf)\n",
    "\n",
    "prompt = f\"\"\"You are a Professional in Mathematics. Below is given a math question in Korean.\n",
    "You are to think carefully about the question and choose one of four given answers. Only one of them is true.\n",
    "\n",
    "{question}\n",
    "A. {A}\n",
    "B. {B}\n",
    "C. {C}\n",
    "D. {D}\n",
    "Answer：\"\"\"\n",
    "\n",
    "completion = client.chat.completions.create(\n",
    "    model='gpt-3.5-turbo-0125',\n",
    "    messages=[\n",
    "        {'role':'user', 'content':prompt}\n",
    "    ],\n",
    "    temperature=0.0\n",
    ")\n",
    "\n",
    "print(completion.choices[0].message.content)"
   ]
  },
  {
   "cell_type": "code",
   "execution_count": 7,
   "metadata": {},
   "outputs": [
    {
     "name": "stdout",
     "output_type": "stream",
     "text": [
      "B. 6\n",
      "\n",
      "To find the maximum and minimum values of x+y, we need to find the intersection points of the given inequalities. \n",
      "\n",
      "First, let's find the intersection points of y ≤ x+3 and y ≤ -4x+3:\n",
      "x+3 = -4x+3\n",
      "5x = 0\n",
      "x = 0\n",
      "\n",
      "When x = 0, y = 3\n",
      "\n",
      "So, the intersection point of these two inequalities is (0, 3).\n",
      "\n",
      "Next, let's find the intersection points of y ≤ x+3 and y ≥ 0:\n",
      "x+3 = 0\n",
      "x = -3\n",
      "\n",
      "When x = -3, y = 0\n",
      "\n",
      "So, the intersection point of these two inequalities is (-3, 0).\n",
      "\n",
      "Now, we need to find the maximum and minimum values of x+y at these intersection points:\n",
      "For (0, 3): x+y = 0+3 = 3\n",
      "For (-3, 0): x+y = -3+0 = -3\n",
      "\n",
      "Therefore, the maximum value M = 3 and the minimum value m = -3. \n",
      "So, M-m = 3-(-3) = 6.\n",
      "\n",
      "Therefore, the correct answer is B. 6.\n"
     ]
    }
   ],
   "source": [
    "# Prompt 출처: KMMLU 논문에서 실제로 평가에 사용한 Prompt (논문: https://arxiv.org/pdf/2402.11548.pdf)\n",
    "\n",
    "prompt = f\"\"\"You are a Professional in Mathematics. Below is given a math question in Korean.\n",
    "You are to think carefully about the question and choose one of four given answers. Only one of them is true.\n",
    "Give reasons about why you think your answer is correct.\n",
    "\n",
    "{question}\n",
    "A. {A}\n",
    "B. {B}\n",
    "C. {C}\n",
    "D. {D}\n",
    "Answer：\"\"\"\n",
    "\n",
    "completion = client.chat.completions.create(\n",
    "    model='gpt-3.5-turbo-0125',\n",
    "    messages=[\n",
    "        {'role':'user', 'content':prompt}\n",
    "    ],\n",
    "    temperature=0.0\n",
    ")\n",
    "\n",
    "print(completion.choices[0].message.content)"
   ]
  },
  {
   "cell_type": "code",
   "execution_count": 8,
   "metadata": {},
   "outputs": [],
   "source": [
    "# https://v.daum.net/v/20240417080004859\n",
    "\n",
    "news = \"\"\"한국프로야구(KBO) 중계권은 티빙이 가져갔지만, 네이버(035420)와 카카오(035720)는 중계를 보지 않아도 야구를 즐길 수 있는 서비스를 강화하고 있다. 네이버는 '오픈톡', 카카오는 '프로야구봇'으로 이용자를 끌어들이는 데 성공했다.\n",
    "\n",
    "17일 네이버에 따르면 프로야구 10개 구단 '오픈톡' 참여자 수는 최근 일주일(중복 제외) 동안 100만 명에 달한다.\n",
    "\n",
    "오픈톡은 실시간으로 정보를 공유하고 의견을 주고받는 커뮤니티 서비스다. 한화구단의 오픈톡에만 29만 명이 넘게 참여하고 있다.\n",
    "\n",
    "또 네이버는 올해 2월부터 스포츠 뉴스에 알고리즘 기능을 도입했다. 야구를 좋아하는 이용자들이 더 많은 야구 뉴스를 볼 수 있도록 배려했다.\n",
    "\n",
    "최근 클릭한 기사, 선호 언론사 등을 분석해 이용자가 좋아하는 뉴스를 우선적으로 노출하는 방식이다.\n",
    "\n",
    "카카오는 카카오톡 채널 '프로야구봇' 서비스를 강화하고 있다. 16일 기준 프로야구봇을 친구추가한 이용자는 약 35만 명이다.\n",
    "\n",
    "프로야구봇을 친구로 추가하면 응원팀의 소식, 라인업, 경기기록 등 프로야구와 관련한 소식을 공유받을 수 있다.\n",
    "\n",
    "특히 실시간 경기 상황을 바로바로 보내주는 '톡중계'를 이용해 실시간 중계를 보지 못해도 경기의 흐름을 알 수 있다.\n",
    "\n",
    "올해 시즌부터는 '경기결과 요약', '1군 등록·말소 정보'도 추가로 제공한다. 경기결과 요약은 경기를 못 본 날에도 주요 흐름 파악에 문제없을 정도로 자세하다.\n",
    "\n",
    "'우리팀 환호 알림' 베타 서비스도 시작했다. 경기 중 팬들이 환호하는 순간을 푸시 메시지로 알려주는 것이다.\n",
    "\n",
    "다음(Daum)스포츠에서는 '그래픽 중계'를 시작했다. 투구 정보와 출루 상황 등 경기 상황을 그래픽으로 제공해 영상 중계 없이도 현장감 있는 경기를 즐길 수 있도록 했다.\n",
    "\n",
    "카카오는 \"더 즐거운 야구 생활을 할 수 있도록 여러 가지 기능을 많이 준비하고 있다\"고 말했다.\"\"\""
   ]
  },
  {
   "cell_type": "code",
   "execution_count": 9,
   "metadata": {},
   "outputs": [
    {
     "name": "stdout",
     "output_type": "stream",
     "text": [
      "네이버와 카카오는 KBO 중계권을 놓고 경쟁하지만, 중계를 보지 않아도 야구를 즐길 수 있는 서비스를 제공하고 있다. 네이버의 '오픈톡'과 카카오의 '프로야구봇'으로 이용자를 끌어들이는 데 성공했다.\n",
      "\n",
      "네이버의 '오픈톡' 참여자 수는 최근 일주일 동안 100만 명에 달하며, 한화구단의 오픈톡에는 29만 명이 넘게 참여하고 있다. 또한 네이버는 알고리즘 기능을 도입해 이용자들이 더 많은 야구 뉴스를 볼 수 있도록 했다.\n",
      "\n",
      "카카오는 '프로야구봇' 서비스를 강화하고 있으며, 이용자들은 실시간 경기 상황을 바로바로 받아볼 수 있는 '톡중계'를 통해 경기의 흐름을 파악할 수 있다. 또한 '그래픽 중계'를 통해 영상 중계 없이도 현장감 있는 경기를 즐길 수 있도록 했다.\n"
     ]
    }
   ],
   "source": [
    "prompt = f\"\"\"아래 뉴스 기사를 3줄로 요약해줘.\n",
    "\n",
    "{news}\n",
    "\"\"\"\n",
    "\n",
    "completion = client.chat.completions.create(\n",
    "    model='gpt-3.5-turbo-0125',\n",
    "    messages=[\n",
    "        {\"role\":\"user\", \"content\":prompt}\n",
    "    ],\n",
    "    temperature=0.0\n",
    ")\n",
    "\n",
    "summary_gpt3 = completion.choices[0].message.content\n",
    "print(summary_gpt3)"
   ]
  },
  {
   "cell_type": "code",
   "execution_count": 10,
   "metadata": {},
   "outputs": [
    {
     "name": "stdout",
     "output_type": "stream",
     "text": [
      "티빙이 KBO 중계권을 확보했음에도 불구하고, 네이버와 카카오는 각각 '오픈톡'과 '프로야구봇' 서비스를 통해 사용자들이 야구 경기 정보를 실시간으로 접하고 소통할 수 있는 서비스를 강화하고 있다. 네이버의 오픈톡은 프로야구 10개 구단 관련하여 일주일 동안 참여자 수가 100만 명에 달하며, 카카오의 프로야구봇은 약 35만 명의 사용자가 친구 추가하여 경기 소식과 실시간 톡중계 등을 제공받고 있다. 두 회사 모두 야구 팬들이 경기를 직접 보지 않아도 다양한 방식으로 경기 정보를 제공받아 즐길 수 있도록 서비스를 확장하고 있다.\n"
     ]
    }
   ],
   "source": [
    "completion = client.chat.completions.create(\n",
    "    model='gpt-4-turbo-2024-04-09',\n",
    "    messages=[\n",
    "        {'role':'user', 'content':prompt}\n",
    "    ],\n",
    "    temperature=0.0\n",
    ")\n",
    "\n",
    "summary_gpt4 = completion.choices[0].message.content\n",
    "print(summary_gpt4)"
   ]
  },
  {
   "cell_type": "code",
   "execution_count": 11,
   "metadata": {},
   "outputs": [
    {
     "name": "stdout",
     "output_type": "stream",
     "text": [
      "티빙이 KBO 중계권을 확보했음에도 불구하고, 네이버와 카카오는 각각 '오픈톡'과 '프로야구봇' 서비스를 통해 사용자들이 야구 경기 정보를 실시간으로 접하고 소통할 수 있는 서비스를 강화하고 있다\n",
      "네이버의 오픈톡은 프로야구 10개 구단 관련하여 일주일 동안 참여자 수가 100만 명에 달하며, 카카오의 프로야구봇은 약 35만 명의 사용자가 친구 추가하여 경기 소식과 실시간 톡중계 등을 제공받고 있다\n",
      "두 회사 모두 야구 팬들이 경기를 직접 보지 않아도 다양한 방식으로 경기 정보를 제공받아 즐길 수 있도록 서비스를 확장하고 있다.\n"
     ]
    }
   ],
   "source": [
    "for line in summary_gpt4.split('. '):\n",
    "    print(line)"
   ]
  },
  {
   "cell_type": "code",
   "execution_count": 12,
   "metadata": {},
   "outputs": [
    {
     "name": "stdout",
     "output_type": "stream",
     "text": [
      "- Coherence: 5\n"
     ]
    }
   ],
   "source": [
    "eval_prompt = f\"\"\"You will be given one summary written for a news article.\n",
    "Your task is to rate the summary on one metric.\n",
    "Please make sure you read and understand these instructions carefully. Please keep this\n",
    "document open while reviewing, and refer to it as needed.\n",
    "Evaluation Criteria:\n",
    "Coherence (1-5) - the collective quality of all sentences. We align this dimension with\n",
    "the DUC quality question of structure and coherence whereby ”the summary should be\n",
    "well-structured and well-organized. The summary should not just be a heap of related information, but should build from sentence to sentence to a coherent body of information about a topic.”\n",
    "Evaluation Steps:\n",
    "1. Read the news article carefully and identify the main topic and key points.\n",
    "2. Read the summary and compare it to the news article. Check if the summary covers the main\n",
    "topic and key points of the news article, and if it presents them in a clear and logical order.\n",
    "3. Assign a score for coherence on a scale of 1 to 5, where 1 is the lowest and 5 is the highest\n",
    "based on the Evaluation Criteria.\n",
    "Example:\n",
    "Source Text:\n",
    "{news}\n",
    "Summary:\n",
    "{summary_gpt3}\n",
    "Evaluation Form (scores ONLY):\n",
    "- Coherence:\"\"\"\n",
    "\n",
    "completion = client.chat.completions.create(\n",
    "    model='gpt-4-turbo-2024-04-09',\n",
    "    messages=[\n",
    "        {'role':'user', 'content': eval_prompt}\n",
    "    ],\n",
    "    temperature=0.0\n",
    ")\n",
    "\n",
    "print(completion.choices[0].message.content)"
   ]
  },
  {
   "cell_type": "code",
   "execution_count": 13,
   "metadata": {},
   "outputs": [
    {
     "name": "stdout",
     "output_type": "stream",
     "text": [
      "- Coherence: 5\n"
     ]
    }
   ],
   "source": [
    "\n",
    "eval_prompt = f\"\"\"You will be given one summary written for a news article.\n",
    "Your task is to rate the summary on one metric.\n",
    "Please make sure you read and understand these instructions carefully. Please keep this\n",
    "document open while reviewing, and refer to it as needed.\n",
    "Evaluation Criteria:\n",
    "Coherence (1-5) - the collective quality of all sentences. We align this dimension with\n",
    "the DUC quality question of structure and coherence whereby ”the summary should be\n",
    "well-structured and well-organized. The summary should not just be a heap of related information, but should build from sentence to sentence to a coherent body of information about a topic.”\n",
    "Evaluation Steps:\n",
    "1. Read the news article carefully and identify the main topic and key points.\n",
    "2. Read the summary and compare it to the news article. Check if the summary covers the main\n",
    "topic and key points of the news article, and if it presents them in a clear and logical order.\n",
    "3. Assign a score for coherence on a scale of 1 to 5, where 1 is the lowest and 5 is the highest\n",
    "based on the Evaluation Criteria.\n",
    "Example:\n",
    "Source Text:\n",
    "{news}\n",
    "Summary:\n",
    "{summary_gpt4}\n",
    "Evaluation Form (scores ONLY):\n",
    "- Coherence:\"\"\"\n",
    "\n",
    "completion = client.chat.completions.create(\n",
    "    model='gpt-4-turbo-2024-04-09',\n",
    "    messages=[\n",
    "        {'role':'user', 'content':eval_prompt}\n",
    "    ]\n",
    ")\n",
    "\n",
    "print(completion.choices[0].message.content)"
   ]
  },
  {
   "cell_type": "code",
   "execution_count": 14,
   "metadata": {},
   "outputs": [
    {
     "data": {
      "text/plain": [
       "[{'rouge-1': {'r': 0.4444444444444444,\n",
       "   'p': 0.3835616438356164,\n",
       "   'f': 0.41176470090938583},\n",
       "  'rouge-2': {'r': 0.18571428571428572,\n",
       "   'p': 0.1566265060240964,\n",
       "   'f': 0.1699346355589732},\n",
       "  'rouge-l': {'r': 0.38095238095238093,\n",
       "   'p': 0.3287671232876712,\n",
       "   'f': 0.35294117149762116}}]"
      ]
     },
     "execution_count": 14,
     "metadata": {},
     "output_type": "execute_result"
    }
   ],
   "source": [
    "# !pip install rouge\n",
    "\n",
    "from rouge import Rouge\n",
    "\n",
    "rouge = Rouge()\n",
    "scores = rouge.get_scores(summary_gpt3, summary_gpt4)\n",
    "scores"
   ]
  },
  {
   "cell_type": "code",
   "execution_count": 15,
   "metadata": {},
   "outputs": [
    {
     "name": "stdout",
     "output_type": "stream",
     "text": [
      "네이버와 카카오는 KBO 중계권을 잃었지만, '오픈톡'과 '프로야구봇'을 통해 야구 팬들에게 서비스를 제공하고 있다. 네이버의 '오픈톡'은 10개 구단의 참여자 수가 최근 일주일 동안 100만 명에 이르며, 한화구단의 오픈톡에는 29만 명이 참여하고 있다. 카카오는 '프로야구봇'을 통해 약 35만 명의 이용자에게 응원팀의 소식과 실시간 경기 상황을 제공하고 있다.\n"
     ]
    }
   ],
   "source": [
    "prompt = f\"\"\"You are a helpful Summarization Assistant. Below is given a news in Korean.\n",
    "Please summarize below news in three sentences. You summary should follow below rules:\n",
    "\n",
    "1. You summary should not contain any information that is not present in the news.\n",
    "\n",
    "{news}\n",
    "\"\"\"\n",
    "\n",
    "completion = client.chat.completions.create(\n",
    "    model='gpt-3.5-turbo-0125',\n",
    "    messages=[\n",
    "        {'role': 'user', 'content': prompt}\n",
    "    ],\n",
    "    temperature=0.0\n",
    ")\n",
    "\n",
    "summary_gpt3_v2 = completion.choices[0].message.content\n",
    "print(summary_gpt3_v2)"
   ]
  },
  {
   "cell_type": "code",
   "execution_count": 16,
   "metadata": {},
   "outputs": [
    {
     "name": "stdout",
     "output_type": "stream",
     "text": [
      "카카오는 포털 다음을 통해 KBO 리그의 모든 경기에 대해 처음으로 그래픽 중계를 제공하며, 이는 실시간 경기 상황을 그래픽으로 보여주는 LMT(Live Match Tracker) 서비스를 포함한다. 다음 스포츠의 KBO 게임센터에서는 문자 중계, 경기 일정 및 기록, 뉴스 등 다양한 콘텐츠를 제공하고, 카카오는 향후 MLB, NBA, KBL 등 다른 스포츠 경기에도 그래픽 중계를 확대 적용할 계획이다. 또한, 카카오톡에서는 '프로야구봇' 채널을 추가하여 응원팀의 소식과 경기 기록 등을 받아볼 수 있으며, 2024시즌부터는 경기 결과 요약과 선수 등록 정보도 제공할 예정이다.\n"
     ]
    }
   ],
   "source": [
    "sample_news = \"\"\"한국야구위원회(KBO) 리그 정규 시즌이 23일 개막하는 가운데, 카카오가 포털 다음에서 시즌 모든 경기에 대해 처음으로 그래픽 중계를 진행한다.\n",
    "\n",
    "그래픽 중계는 실시간 경기 상황을 그래픽으로 보여주는 LMT(Live Match Tracker) 서비스다.\n",
    "\n",
    "투구 정보와 출루 상황 등의 경기 상황을 그래픽으로 제공해 영상 중계 없이도 현장감 있는 경기를 즐길 수 있는 것이 특징이다.\n",
    "\n",
    "다음 스포츠 내 KBO 게임센터에서는 문자 중계, 경기 일정·기록, 뉴스 등의 콘텐츠도 함께 확인할 수 있다.\n",
    "\n",
    "카카오 다음CIC는 지난 1월 해외 축구 게임센터에 그래픽 중계를 처음으로 도입했다.\n",
    "\n",
    "이후 2023 아시안컵과 국내 프로축구(K리그)에 그래픽 중계를 적용했다.\n",
    "\n",
    "카카오는 향후 다음에서 미국 프로야구(MLB), 미국 프로농구(NBA), 한국 프로농구(KBL) 등 다양한 스포츠 경기에 그래픽 중계를 확대 적용할 계획이다.\n",
    "\n",
    "이 밖에 카카오톡에서는 '프로야구봇' 채널도 추가할 수 있다.\n",
    "\n",
    "채널을 추가하면 응원팀의 소식, 라인업, 경기 기록 등 프로야구와 관련한 소식들을 톡 채널로 공유받을 수 있다.\n",
    "\n",
    "또 현재 경기 상황을 한눈에 파악할 수 있는 카드형 서비스 '두근두근'과 승부 예측 기능도 있다.\n",
    "\n",
    "2024시즌부터는 '경기 결과 요약', '1군 등록·말소 정보'도 추가로 제공한다.\"\"\"\n",
    "\n",
    "prompt = f\"\"\"아래 뉴스 기사를 3줄로 요약해줘.\n",
    "\n",
    "{sample_news}\n",
    "\"\"\"\n",
    "\n",
    "completion = client.chat.completions.create(\n",
    "    model='gpt-4-turbo-2024-04-09',\n",
    "    messages=[\n",
    "        {'role':'user', 'content':prompt}\n",
    "    ],\n",
    "    temperature=0.0\n",
    ")\n",
    "\n",
    "sample_summary = completion.choices[0].message.content\n",
    "print(sample_summary)"
   ]
  },
  {
   "cell_type": "code",
   "execution_count": 17,
   "metadata": {},
   "outputs": [
    {
     "name": "stdout",
     "output_type": "stream",
     "text": [
      "네이버와 카카오는 KBO 중계권을 놓치고 있지만, 야구를 즐길 수 있는 서비스를 강화하고 있다. 네이버는 '오픈톡'을 통해 야구 팬들을 모으고, 카카오는 '프로야구봇'을 통해 서비스를 제공하며, 다음 스포츠는 '그래픽 중계'를 시작했다. 이용자들은 실시간 경기 상황을 확인하고 경기 결과 요약 및 1군 등록 정보를 받을 수 있다.\n"
     ]
    }
   ],
   "source": [
    "prompt = f\"\"\"You are a helpful Summarization Assistant. Below is give a news in Korean.\n",
    "Please summarize below news in three sentences. Your summary should not contain any information that is not present in the news.\n",
    "\n",
    "[Sample News Start]\n",
    "{sample_news}\n",
    "[Sample News End]\n",
    "\n",
    "[Sample Summary Start]\n",
    "{sample_summary}\n",
    "[Sample Summary End]\n",
    "\n",
    "News:\n",
    "{news}\n",
    "\n",
    "Summary:\"\"\"\n",
    "\n",
    "completion = client.chat.completions.create(\n",
    "    model='gpt-3.5-turbo-0125',\n",
    "    messages=[\n",
    "        {'role':'user', 'content':prompt}\n",
    "    ],\n",
    "    temperature=0.0\n",
    ")\n",
    "\n",
    "summary_gpt3_v2 = completion.choices[0].message.content\n",
    "print(summary_gpt3_v2)"
   ]
  },
  {
   "cell_type": "code",
   "execution_count": 18,
   "metadata": {},
   "outputs": [
    {
     "data": {
      "text/plain": [
       "[{'rouge-1': {'r': 0.23809523809523808,\n",
       "   'p': 0.39473684210526316,\n",
       "   'f': 0.2970296982766396},\n",
       "  'rouge-2': {'r': 0.1, 'p': 0.16279069767441862, 'f': 0.12389380059519166},\n",
       "  'rouge-l': {'r': 0.20634920634920634,\n",
       "   'p': 0.34210526315789475,\n",
       "   'f': 0.25742573788059997}}]"
      ]
     },
     "execution_count": 18,
     "metadata": {},
     "output_type": "execute_result"
    }
   ],
   "source": [
    "rouge = Rouge()\n",
    "scores = rouge.get_scores(summary_gpt3_v2, summary_gpt4)\n",
    "scores"
   ]
  },
  {
   "cell_type": "code",
   "execution_count": 19,
   "metadata": {},
   "outputs": [
    {
     "name": "stdout",
     "output_type": "stream",
     "text": [
      "4\n"
     ]
    }
   ],
   "source": [
    "eval_prompt = f\"\"\"You will be given one summary written for a news article.\n",
    "Your task is to rate the summary on one metric.\n",
    "Please make sure you read and understand these instructions carefully. Please keep this\n",
    "document open while reviewing, and refer to it as needed.\n",
    "Evaluation Criteria:\n",
    "Coherence (1-5) - the collective quality of all sentences. We align this dimension with\n",
    "the DUC quality question of structure and coherence whereby ”the summary should be\n",
    "well-structured and well-organized. The summary should not just be a heap of related information, but should build from sentence to sentence to a coherent body of information about a topic.”\n",
    "Evaluation Steps:\n",
    "1. Read the news article carefully and identify the main topic and key points.\n",
    "2. Read the summary and compare it to the news article. Check if the summary covers the main\n",
    "topic and key points of the news article, and if it presents them in a clear and logical order.\n",
    "3. Assign a score for coherence on a scale of 1 to 5, where 1 is the lowest and 5 is the highest\n",
    "based on the Evaluation Criteria.\n",
    "Example:\n",
    "Source Text:\n",
    "{news}\n",
    "Summary:\n",
    "{summary_gpt3_v2}\n",
    "Evaluation Form (scores ONLY):\n",
    "- Coherence:\"\"\"\n",
    "\n",
    "completion = client.chat.completions.create(\n",
    "    model=\"gpt-4-turbo-2024-04-09\",\n",
    "    messages=[{\"role\": \"user\", \"content\": eval_prompt}],\n",
    "    temperature=0.0\n",
    ")\n",
    "\n",
    "print(completion.choices[0].message.content)"
   ]
  },
  {
   "cell_type": "code",
   "execution_count": null,
   "metadata": {},
   "outputs": [],
   "source": []
  }
 ],
 "metadata": {
  "kernelspec": {
   "display_name": "llm",
   "language": "python",
   "name": "python3"
  },
  "language_info": {
   "codemirror_mode": {
    "name": "ipython",
    "version": 3
   },
   "file_extension": ".py",
   "mimetype": "text/x-python",
   "name": "python",
   "nbconvert_exporter": "python",
   "pygments_lexer": "ipython3",
   "version": "3.11.9"
  }
 },
 "nbformat": 4,
 "nbformat_minor": 2
}
