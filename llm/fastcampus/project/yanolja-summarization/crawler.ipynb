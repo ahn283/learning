{
 "cells": [
  {
   "cell_type": "code",
   "execution_count": 4,
   "metadata": {},
   "outputs": [],
   "source": [
    "import json\n",
    "import sys\n",
    "import time\n",
    "\n",
    "from bs4 import BeautifulSoup\n",
    "from selenium import webdriver\n",
    "from webdriver_manager.chrome import ChromeDriverManager"
   ]
  },
  {
   "cell_type": "code",
   "execution_count": 5,
   "metadata": {},
   "outputs": [],
   "source": [
    "def crawl_yanolja_reviews(name, url):\n",
    "    review_list = []\n",
    "    # driver = webdriver.Chrome()\n",
    "    driver = webdriver.Chrome(ChromeDriverManager().install())\n",
    "    driver.get(url)\n",
    "    \n",
    "    time.sleep(3)\n",
    "    \n",
    "    scroll_count = 20\n",
    "    for i in range(scroll_count):\n",
    "        driver.execute_script('window.scrollTo(0, document.body.scrollHeight);')\n",
    "        time.sleep(2)\n",
    "        \n",
    "    html = driver.page_source\n",
    "    soup = BeautifulSoup(html, 'html.parser')\n",
    "    review_contrainers = soup.select('#__next > section > div > div.css-1js0bc8 > div > div > div')\n",
    "    review_date = soup.select('#__next > section > div > div.css-1js0bc8 > div > div > div > div.css-15duhp1 > div > p')\n",
    "    \n",
    "    for i in range(len(review_contrainers)):\n",
    "        review_text = review_contrainers[i].find('p', class_='content-text').text\n",
    "        review_stars = review_contrainers[i].find_all('path', {'fill': '#FDBD00'})\n",
    "        star_cnt = len(review_stars)\n",
    "        date = review_date[i].text\n",
    "        \n",
    "        review_dict = {\n",
    "            'review': review_text,\n",
    "            'stars': star_cnt,\n",
    "            'date': date\n",
    "        }\n",
    "        \n",
    "        review_list.append(review_dict)\n",
    "        \n",
    "    with open(f'./res/{name}.json', 'w') as f:\n",
    "        json.dump(review_list, f, indent=4, ensure_ascii=False)"
   ]
  },
  {
   "cell_type": "code",
   "execution_count": 7,
   "metadata": {},
   "outputs": [],
   "source": [
    "url = 'https://www.yanolja.com/reviews/domestic/3002366?sort=created-at%3Adesc'\n",
    "name = 'yanolja'\n",
    "\n",
    "crawl_yanolja_reviews(name, url)\n"
   ]
  }
 ],
 "metadata": {
  "kernelspec": {
   "display_name": "llm",
   "language": "python",
   "name": "python3"
  },
  "language_info": {
   "codemirror_mode": {
    "name": "ipython",
    "version": 3
   },
   "file_extension": ".py",
   "mimetype": "text/x-python",
   "name": "python",
   "nbconvert_exporter": "python",
   "pygments_lexer": "ipython3",
   "version": "3.11.9"
  }
 },
 "nbformat": 4,
 "nbformat_minor": 2
}
