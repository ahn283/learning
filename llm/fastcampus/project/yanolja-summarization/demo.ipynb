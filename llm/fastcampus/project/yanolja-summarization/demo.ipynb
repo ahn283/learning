{
 "cells": [
  {
   "cell_type": "code",
   "execution_count": 5,
   "metadata": {},
   "outputs": [],
   "source": [
    "import datetime\n",
    "import json\n",
    "import os\n",
    "import pickle\n",
    "from dateutil import parser\n",
    "\n",
    "import gradio as gr \n",
    "from openai import OpenAI\n",
    "import keyring\n",
    "\n",
    "OPENAI_API_KEY = keyring.get_password('openai', 'key_for_mac')\n",
    "MAPPINGS = {\n",
    "    '서귀포': './res/yanolja.json',\n",
    "    '판교': './res/ninetree_pangyo.json',\n",
    "    '용산': './res/ninetree_yongsan.json'\n",
    "}\n",
    "\n",
    "with open('./res/prompt_1shot.pickle', 'rb') as f:\n",
    "    PROMPT = pickle.load(f)\n",
    "    "
   ]
  },
  {
   "cell_type": "code",
   "execution_count": 6,
   "metadata": {},
   "outputs": [],
   "source": [
    "def preprocess_reviews(path='./res/yanolja.json'):\n",
    "    with open(path, 'r', encoding='utf-8') as f:\n",
    "        review_list = json.load(f)\n",
    "        \n",
    "    reviews_good, reviews_bad = [], []\n",
    "    \n",
    "    current_date = datetime.datetime.now()\n",
    "    date_boundary = current_date - datetime.timedelta(days=6*30)\n",
    "    \n",
    "    filtered_cnt = 0\n",
    "    for r in review_list:\n",
    "        review_date_str = r['date']\n",
    "        try:\n",
    "            review_date = parser.parse(review_date_str)\n",
    "            \n",
    "        except (ValueError, TypeError):\n",
    "            review_date = current_date\n",
    "            \n",
    "        if review_date < date_boundary:\n",
    "            continue\n",
    "        if len(r['review']) < 30:\n",
    "            filtered_cnt += 1\n",
    "            continue\n",
    "        \n",
    "        if r['stars'] == 5:\n",
    "            reviews_good.append('[REVIEW_START]' + r['review'] + '[REVIEW_END]')\n",
    "        else:\n",
    "            reviews_good.append('[REVIEW_START]' + r['review'] + '[REVIEW_END]')\n",
    "            \n",
    "    reviews_good = reviews_good[:min(len(reviews_good), 50)]\n",
    "    reviews_bad = reviews_bad[:min(len(reviews_bad), 50)]\n",
    "    \n",
    "    reviews_good_text = '\\n'.join(reviews_good)\n",
    "    review_bad_text = '\\n'.join(reviews_bad)\n",
    "    \n",
    "    return reviews_good_text, review_bad_text\n"
   ]
  },
  {
   "cell_type": "code",
   "execution_count": 7,
   "metadata": {},
   "outputs": [],
   "source": [
    "def summarize(reviews):\n",
    "    prompt = PROMPT + '\\n\\n' + reviews\n",
    "    \n",
    "    client = OpenAI(api_key=keyring.get_password('openai', 'key_for_mac'))\n",
    "    completion = client.chat.completions.create(\n",
    "        model='gpt-3.5-turbo-0125',\n",
    "        messages=[{'role': 'user', 'content': prompt}],\n",
    "        temperature=0.0\n",
    "    )\n",
    "    \n",
    "    return completion"
   ]
  },
  {
   "cell_type": "code",
   "execution_count": 8,
   "metadata": {},
   "outputs": [],
   "source": [
    "def fn(accom_name):\n",
    "    path = MAPPINGS[accom_name]\n",
    "    reviews_good, reviews_bad = preprocess_reviews(path)\n",
    "    \n",
    "    summary_good = summarize(reviews_good).choices[0].message.content\n",
    "    summary_bad = summarize(reviews_bad).choices[0].message.content\n",
    "    \n",
    "    return summary_good, summary_bad"
   ]
  },
  {
   "cell_type": "code",
   "execution_count": 9,
   "metadata": {},
   "outputs": [
    {
     "name": "stdout",
     "output_type": "stream",
     "text": [
      "Running on local URL:  http://127.0.0.1:7860\n",
      "Running on public URL: https://7501bb90b54ff62773.gradio.live\n",
      "\n",
      "This share link expires in 72 hours. For free permanent hosting and GPU upgrades, run `gradio deploy` from Terminal to deploy to Spaces (https://huggingface.co/spaces)\n"
     ]
    },
    {
     "data": {
      "text/html": [
       "<div><iframe src=\"https://7501bb90b54ff62773.gradio.live\" width=\"100%\" height=\"500\" allow=\"autoplay; camera; microphone; clipboard-read; clipboard-write;\" frameborder=\"0\" allowfullscreen></iframe></div>"
      ],
      "text/plain": [
       "<IPython.core.display.HTML object>"
      ]
     },
     "metadata": {},
     "output_type": "display_data"
    }
   ],
   "source": [
    "def run_demo():\n",
    "    demo = gr.Interface(\n",
    "        fn=fn,\n",
    "        inputs=[gr.Radio(['서귀포', '판교', '용산'], label='숙소')],\n",
    "        outputs=[gr.Textbox(label='높은 평점 요약'), gr.Textbox(label='낮은 평점 요약')]\n",
    "    )\n",
    "    demo.launch(share=True)\n",
    "\n",
    "run_demo()"
   ]
  },
  {
   "cell_type": "code",
   "execution_count": null,
   "metadata": {},
   "outputs": [],
   "source": []
  }
 ],
 "metadata": {
  "kernelspec": {
   "display_name": "llm",
   "language": "python",
   "name": "python3"
  },
  "language_info": {
   "codemirror_mode": {
    "name": "ipython",
    "version": 3
   },
   "file_extension": ".py",
   "mimetype": "text/x-python",
   "name": "python",
   "nbconvert_exporter": "python",
   "pygments_lexer": "ipython3",
   "version": "3.11.9"
  }
 },
 "nbformat": 4,
 "nbformat_minor": 2
}
