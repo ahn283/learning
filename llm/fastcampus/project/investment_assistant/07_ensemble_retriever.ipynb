{
 "cells": [
  {
   "cell_type": "code",
   "execution_count": 8,
   "metadata": {},
   "outputs": [],
   "source": [
    "from langchain_community.retrievers import BM25Retriever\n",
    "from langchain_openai import OpenAIEmbeddings\n",
    "from langchain_community.vectorstores import Chroma\n",
    "from langchain_community.vectorstores import FAISS\n",
    "from langchain.retrievers import EnsembleRetriever\n",
    "import keyring\n",
    "\n",
    "doc_list = [\n",
    "    \"우리나라는 2022년 코로나가 유행했다.\",\n",
    "    \"우리나라 2024년 GDP 전망은 3.0%이다.\",\n",
    "    \"우리나라는 2022년 국내총생산 중 연구개발 예산은 약 5%이다.\"\n",
    "]\n"
   ]
  },
  {
   "cell_type": "code",
   "execution_count": 9,
   "metadata": {},
   "outputs": [],
   "source": [
    "\n",
    "bm25_retriever = BM25Retriever.from_texts(\n",
    "    doc_list, metadatas=[{\"source\":1}]*len(doc_list)\n",
    ")\n",
    "bm25_retriever.k = 1\n",
    "\n",
    "embedding = OpenAIEmbeddings(api_key=keyring.get_password('openai', 'key_for_windows'))\n",
    "chroma_vectorstore = Chroma.from_texts(\n",
    "    doc_list, embedding, metadatas=[{'source':1}] * len(doc_list)\n",
    ")\n",
    "chroma_retriever = chroma_vectorstore.as_retriever(search_kwarg={'k':1})\n",
    "faiss_vectorstore = FAISS.from_texts(\n",
    "    doc_list, embedding, metadatas=[{'source':1}] * len(doc_list)\n",
    ")\n",
    "faiss_retriever = faiss_vectorstore.as_retriever(search_kwargs={'k':1})\n",
    "\n",
    "ensemble_retriever = EnsembleRetriever(\n",
    "    retrievers=[bm25_retriever, chroma_retriever, faiss_retriever],\n",
    "    weights=[0.2, 0.4, 0.4]\n",
    ")"
   ]
  },
  {
   "cell_type": "code",
   "execution_count": 10,
   "metadata": {},
   "outputs": [
    {
     "name": "stdout",
     "output_type": "stream",
     "text": [
      "[Document(metadata={'source': 1}, page_content='우리나라는 2022년 국내총생산 중 연구개발 예산은 약 5%이다.'), Document(metadata={'source': 1}, page_content='우리나라 2024년 GDP 전망은 3.0%이다.')]\n"
     ]
    }
   ],
   "source": [
    "query = \"2022년 우리나라 GDP대비 R&D 규모는?\"\n",
    "\n",
    "ensemble_docs = ensemble_retriever.invoke(query)\n",
    "print(ensemble_docs)"
   ]
  }
 ],
 "metadata": {
  "kernelspec": {
   "display_name": "assistant",
   "language": "python",
   "name": "python3"
  },
  "language_info": {
   "codemirror_mode": {
    "name": "ipython",
    "version": 3
   },
   "file_extension": ".py",
   "mimetype": "text/x-python",
   "name": "python",
   "nbconvert_exporter": "python",
   "pygments_lexer": "ipython3",
   "version": "3.11.9"
  }
 },
 "nbformat": 4,
 "nbformat_minor": 2
}
