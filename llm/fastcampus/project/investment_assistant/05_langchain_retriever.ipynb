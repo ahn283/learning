{
 "cells": [
  {
   "cell_type": "code",
   "execution_count": 1,
   "metadata": {},
   "outputs": [],
   "source": [
    "from langchain_community.document_loaders import PyPDFLoader    # pip install langchain-community\n",
    "from langchain_text_splitters import CharacterTextSplitter\n",
    "from langchain_openai import OpenAIEmbeddings   # pip install langchain-openai\n",
    "# from langchain_community.vectorstores import FAISS    # pip install faiss\\-c[u]\n",
    "from langchain_community.vectorstores import Chroma     # pip install chromadb\n",
    "import keyring\n",
    "\n",
    "\n",
    "embedding_model = OpenAIEmbeddings(api_key=keyring.get_password('openai', 'key_for_windows'))\n",
    "loader = PyPDFLoader('./data/bok_sample.pdf')\n",
    "documents = loader.load()       # 페이지 쪼개지 않고 가져옴 (뒤 split 하기 때문에 페이지별로 나눌 필요 없음)"
   ]
  },
  {
   "cell_type": "code",
   "execution_count": 2,
   "metadata": {},
   "outputs": [
    {
     "name": "stderr",
     "output_type": "stream",
     "text": [
      "Created a chunk of size 758, which is longer than the specified 500\n",
      "Created a chunk of size 1498, which is longer than the specified 500\n",
      "Created a chunk of size 938, which is longer than the specified 500\n",
      "Created a chunk of size 934, which is longer than the specified 500\n",
      "Created a chunk of size 789, which is longer than the specified 500\n",
      "Created a chunk of size 823, which is longer than the specified 500\n",
      "Created a chunk of size 1248, which is longer than the specified 500\n",
      "Created a chunk of size 747, which is longer than the specified 500\n",
      "Created a chunk of size 523, which is longer than the specified 500\n",
      "Created a chunk of size 746, which is longer than the specified 500\n",
      "Created a chunk of size 607, which is longer than the specified 500\n",
      "Created a chunk of size 916, which is longer than the specified 500\n",
      "Created a chunk of size 629, which is longer than the specified 500\n",
      "Created a chunk of size 787, which is longer than the specified 500\n",
      "Created a chunk of size 803, which is longer than the specified 500\n",
      "Created a chunk of size 855, which is longer than the specified 500\n",
      "Created a chunk of size 1222, which is longer than the specified 500\n",
      "Created a chunk of size 606, which is longer than the specified 500\n",
      "Created a chunk of size 874, which is longer than the specified 500\n",
      "Created a chunk of size 759, which is longer than the specified 500\n",
      "Created a chunk of size 765, which is longer than the specified 500\n",
      "Created a chunk of size 551, which is longer than the specified 500\n",
      "Created a chunk of size 523, which is longer than the specified 500\n",
      "Created a chunk of size 941, which is longer than the specified 500\n",
      "Created a chunk of size 686, which is longer than the specified 500\n",
      "Created a chunk of size 1332, which is longer than the specified 500\n"
     ]
    },
    {
     "name": "stdout",
     "output_type": "stream",
     "text": [
      "[Document(metadata={'page': 2, 'source': './data/bok_sample.pdf'}, page_content='3. 주요 혁신관련지표를 보면 우리나라의 혁신활동은 그동안 투입 및 산출 측면에\\n서 모두 빠르게 제고되어온 것으로 평가된다 (OECD 2023). 투입측면에서 R&D지\\n출규모를보면 2022년현재우리나라는 GDP대비 5.2%로2001년2.3%, 2011년\\n3.6%와비교하여크게증가하였다 (그림 1.3).동규모는 OECD회원국중이스라엘\\n(6.0%)에이어 2위에해당한다 .또한산출측면에서미국특허청 USPTO에출원한특허\\n건수를보면우리나라는 2000년대이후꾸준한성장세를지속하여독일 ,영국등을\\n제치고 2020년현재세계 4위를차지하고있다(그림 1.4).미국은전세계기업이경\\n쟁하는대규모내수시장이기때문에미국내특허출원건수는 글로벌경쟁력을갖춘\\n혁신실적을측정하기위한객관적지표로널리활용되고있다 (Hsu etal2014).혁\\n신자원·인프라,투자규모 ,효율성등을종합적으로고려하는 Global Innovation\\nIndex 2)GII,국가과학기술혁신역 량평가 3)COSTII 등주요국가혁신평가순위에서도우리\\n나라는상승세를이어왔다 (그림 1.3).\\n2022년 R&D 지출규모 (GDP 대비)는 세계 2위 우리나라의 미국 내 특허출원건수는 세계 4위\\n[그림1.3] R&D 지출규모와 국가혁신평가순위 [그림1.4] 국가별 미국 특허청에 출원한 특허건수\\n<R&D 지출규모 >   <국가혁신평가순위1)>     <국가별 구성비1)> <2020년 출원건수 >\\n1051\\n4\\n7\\n10\\n131\\n6\\n11\\n16\\n21\\n26\\n10년14년18년22년GII(좌축)\\nCOSTII( 우축)2.3 3.6 5.2 \\n23456\\n01년06년11년16년21년한국\\n미국\\n독일(GDP 대비%)\\n0246810121 미국\\n2 일본\\n3 중국\\n4 한국\\n5 대만\\n6 독일(만건)\\n0510152025\\n01년06년11년16년한국 영국 일본\\n중국 독일(%)\\n주: 1) GII는 132개국 중 순위, COSTII는 OECD 회원국 중 순위\\n자료: OECD, WIPO, 과학기술정보통신부주: 1) 미국은 01∼20년 중 평균 45%로 자국 이점 등으로 \\n크게 높아 제외\\n자료: OECD\\n4. 혁신주체는 기업, 대학, 정부·공공연구기관 등으로 나뉘는데 , 우리나라 혁신활동\\n지표가 빠르게 개선된 데는 기업이 크게 기여하였다 .투입측면에서 ,2022년현재\\n우리나라기업의 R&D지출규모는 GDP대비 4.1%로OECD회원국가운데 2위를\\n나타내고있다(그림 1.5).이는우리나라기업이국가전체 R&D지출의 79%를담당\\n하고있음을시사한다 .또한우리나라기업은 2022년현재전체 R&D인력의 76%\\n를고용하고있는데 ,이는 OECD회원국가운데가장높은수준이다 (그림 1.6).이러\\n2)UN 산하 세계지식재산기구 (WIPO: World Intellectual Property Organization) 가 2007년부터 全세계 WIPO 회원국\\n(132개국)의 혁신역량을 평가한 지수이다 . 지표분석 , 설문조사 등을 통해 투입 측면에서는 제도, 인적자본 , 연\\n구, 인프라, 시장고도화 , 기업고도화 , 산출 측면에서는 지식·기술 산출, 창의적 산출 등과 같은 혁신역량을 \\n종합적으로 평가한다'), Document(metadata={'page': 3, 'source': './data/bok_sample.pdf'}, page_content='한기업의적극적인인적자본투자에힘입어우리나라 R&D인력규모는 2001년취\\n업자천명당7.7명에서 2022년21.4명으로빠르게늘어나주요선진국에비해서도\\n가파른증가세를지속하고있다 .산출측면에서도우리나라기업은글로벌특허권\\n경쟁에서뛰어난성적을거두고있다 .2023년현재미국내특허출원건수의 경우우\\n리나라기업인삼성전자와 LG전자가각각 1위및2위를차지하고있다 .이뿐만아\\n니라현대자동차 (15위),SK하이닉스(24위)등도상위 25위권내에속해있다'), Document(metadata={'page': 3, 'source': './data/bok_sample.pdf'}, page_content='우리나라 기업은 전체 R&D 지출의 79%를 담당 우리나라 기업은 전체 R&D 인력의 76%를 고용\\n[그림1.5] 2022년1) OECD 회원국의 R&D 지출규모 [그림1.6] OECD 회원국의 R&D 인력1)규모\\n<2022년 부문별 구성비>   <연도별 규모>\\n02468\\n02468\\n이\\n스\\n라\\n엘한\\n국미\\n국스\\n웨\\n덴벨\\n기\\n에일\\n본스\\n위\\n스독\\n일OECD\\n네\\n덜\\n란\\n드프\\n랑\\n스캐\\n나\\n다기타 고등교육 정부 기업(GDP 대비%) (GDP 대비%)\\n510152025\\n01년07년13년19년한국\\n독일\\n일본\\n스웨덴(취업자 천명대비)\\n020406080100\\n한\\n국스\\n웨\\n덴벨\\n기\\n에일\\n본독\\n일프\\n랑\\n스고등교육\\n정부등\\n기업(%)\\n  주: 1) 스위스는 2021년 기준                    \\n자료: OECD  주: 1) 정규직 기준                             \\n자료: OECD\\n5. 그러나 이처럼 혁신활동지표가 양적으로 개선되었음에도 불구하고 글로벌 금융\\n위기 이후 기업의 생산성 성장세가 둔화되면서 경제 전반의 생산성이 정체되는 데 \\n영향을 미쳤다(그림 1.7).국민계정으로산출한국가별생산성을보면상당수의다른\\n국가도글로벌금융위기이후증가세가낮아진모습이다 4)(그림 1.8).그러나우리나\\n라의경우증가세둔화폭이상대적으로크며,이에따라혁신활동지표의 개선에도\\n불구하고생산성수준이여타선진국에비해여전히낮은상황이다 .이와관련하여\\n선행연구는글로벌화정체로인해수출중심의우리경제가크게영향을받았다는\\n점,한계기업의구조조정이원활하지않았다는점,디지털혁신에대응한무형경제\\n로의전환에어려움을겪고있다는점등을기업의생산성성장세가둔화된요인으\\n로지적하고있다 (최창호·이종호·함건2018,남충현·송상윤2020,정선영 2021).그러\\n나직접적인생산성결정요인인기업의혁신활동지표가 크게제고되었음에도불구\\n하고기업의생산성성장세가낮아진점을고려하면이들요인뿐만아니라기업의\\n혁신활동그자체에대해서도자세히살펴볼필요가있다'), Document(metadata={'page': 29, 'source': './data/bok_sample.pdf'}, page_content='38)2011∼2021년 대상 모형추정치 기준으로 정책시나리오별 추가 재정소요규모는 다음과 같다. 한편 추가 재정\\n소요규모가 작다고 사회후생 수준이 반드시 높은 것은 아님에 유의할 필요가 있다.\\n(GDP대비 %) 시나리오 ① 시나리오 ② 시나리오 ③ 및 ④\\n추가 재정소요규모 0.4 0.1 0.5\\n39)2011∼2021년 중 기업의 기초연구 지출비중은 12.6%로 응용연구의 19.3%, 개발연구의 69.1%에 비해 상대적\\n으로 낮았다(자료: 과학기술정보통신부 연구개발활동조사 ).')]\n"
     ]
    }
   ],
   "source": [
    "text_splitter = CharacterTextSplitter(\n",
    "    separator=' .\\n',\n",
    "    chunk_size=500,\n",
    "    chunk_overlap=100,\n",
    "    length_function=len\n",
    ")\n",
    "\n",
    "texts = text_splitter.split_documents(documents)\n",
    "# db = FAISS.from_documents(texts, embedding_model)     # not available in Windows\n",
    "db = Chroma.from_documents(texts, embedding_model)\n",
    "\n",
    "retriever = db.as_retriever()       # vector DB를 검색기로 사용\n",
    "docs = retriever.invoke(\"2022년 우리나라 GDP대비 R&D 규모는?\")\n",
    "\n",
    "print(docs)"
   ]
  }
 ],
 "metadata": {
  "kernelspec": {
   "display_name": "assistant",
   "language": "python",
   "name": "python3"
  },
  "language_info": {
   "codemirror_mode": {
    "name": "ipython",
    "version": 3
   },
   "file_extension": ".py",
   "mimetype": "text/x-python",
   "name": "python",
   "nbconvert_exporter": "python",
   "pygments_lexer": "ipython3",
   "version": "3.11.9"
  }
 },
 "nbformat": 4,
 "nbformat_minor": 2
}
