{
 "cells": [
  {
   "cell_type": "code",
   "execution_count": 1,
   "metadata": {},
   "outputs": [
    {
     "name": "stderr",
     "output_type": "stream",
     "text": [
      "c:\\Users\\woojin\\anaconda3\\envs\\assistant\\Lib\\site-packages\\tqdm\\auto.py:21: TqdmWarning: IProgress not found. Please update jupyter and ipywidgets. See https://ipywidgets.readthedocs.io/en/stable/user_install.html\n",
      "  from .autonotebook import tqdm as notebook_tqdm\n"
     ]
    }
   ],
   "source": [
    "from langchain_community.retrievers import BM25Retriever\n",
    "from langchain_community.embeddings.sentence_transformer import SentenceTransformerEmbeddings\n",
    "from langchain_community.vectorstores import FAISS\n",
    "from langchain.retrievers import EnsembleRetriever\n",
    "import transformers\n",
    "import torch"
   ]
  },
  {
   "cell_type": "code",
   "execution_count": 2,
   "metadata": {},
   "outputs": [
    {
     "name": "stderr",
     "output_type": "stream",
     "text": [
      "C:\\Users\\woojin\\AppData\\Local\\Temp\\ipykernel_10356\\2134716307.py:35: LangChainDeprecationWarning: The class `HuggingFaceEmbeddings` was deprecated in LangChain 0.2.2 and will be removed in 1.0. An updated version of the class exists in the langchain-huggingface package and should be used instead. To use it run `pip install -U langchain-huggingface` and import as `from langchain_huggingface import HuggingFaceEmbeddings`.\n",
      "  embedding = SentenceTransformerEmbeddings(model_name=\"distiluse-base-multilingual-cased-v1\")\n",
      "c:\\Users\\woojin\\anaconda3\\envs\\assistant\\Lib\\site-packages\\transformers\\tokenization_utils_base.py:1601: FutureWarning: `clean_up_tokenization_spaces` was not set. It will be set to `True` by default. This behavior will be depracted in transformers v4.45, and will be then set to `False` by default. For more details check this issue: https://github.com/huggingface/transformers/issues/31884\n",
      "  warnings.warn(\n",
      "c:\\Users\\woojin\\anaconda3\\envs\\assistant\\Lib\\site-packages\\huggingface_hub\\file_download.py:159: UserWarning: `huggingface_hub` cache-system uses symlinks by default to efficiently store duplicated files but your machine does not support them in C:\\Users\\woojin\\.cache\\huggingface\\hub\\models--42dot--42dot_LLM-SFT-1.3B. Caching files will still work but in a degraded version that might require more space on your disk. This warning can be disabled by setting the `HF_HUB_DISABLE_SYMLINKS_WARNING` environment variable. For more details, see https://huggingface.co/docs/huggingface_hub/how-to-cache#limitations.\n",
      "To support symlinks on Windows, you either need to activate Developer Mode or to run Python as an administrator. In order to see activate developer mode, see this article: https://docs.microsoft.com/en-us/windows/apps/get-started/enable-your-device-for-development\n",
      "  warnings.warn(message)\n"
     ]
    }
   ],
   "source": [
    "device = torch.device('cuda' if torch.cuda.is_available() else 'cpu')\n",
    "\n",
    "data = [\n",
    "    {\n",
    "        \"기업명\": \"삼성전자\",\n",
    "        \"날짜\": \"2024-03-02\",\n",
    "        \"문서 카테고리\": \"인수합병\",\n",
    "        \"요약\": \"삼성전자가 HVAC(냉난방공조) 사업 인수를 타진 중이며, 이는 기존 가전 사업의 약점 보완을 목적으로 한다.\",\n",
    "        \"주요 이벤트\": [\"기업 인수합병\"]\n",
    "    },\n",
    "    {\n",
    "        \"기업명\": \"삼성전자\",\n",
    "        \"날짜\": \"2024-03-24\",\n",
    "        \"문서 카테고리\": \"인수합병\",\n",
    "        \"요약\": \"테스트 하나 둘 셋\",\n",
    "        \"주요 이벤트\": [\"신제품 출시\"]\n",
    "    },\n",
    "    {\n",
    "        \"기업명\": \"현대차\",\n",
    "        \"날짜\": \"2024-04-02\",\n",
    "        \"문서 카테고리\": \"인수합병\",\n",
    "        \"요약\": \"삼성전자가 HVAC(냉난방공조) 사업 인수를 타진 중이며, 이는 기존 가전 사업의 약점 보완을 목적으로 한다.\",\n",
    "        \"주요 이벤트\": [\"기업 인수합병\", \"신제품 출시\"]\n",
    "    },        \n",
    "]\n",
    "\n",
    "doc_list = [item['요약'] for item in data]\n",
    "\n",
    "bm25_retriever = BM25Retriever.from_texts(\n",
    "    doc_list, metadatas=[{'source': i} for i in range(len(data))]\n",
    ")\n",
    "bm25_retriever.k = 1\n",
    "\n",
    "# OpenAI embedding -> sentence-transformers embedding\n",
    "embedding = SentenceTransformerEmbeddings(model_name=\"distiluse-base-multilingual-cased-v1\")\n",
    "faiss_vectorstore = FAISS.from_texts(\n",
    "    doc_list, embedding, metadatas=[{'source': i} for i in data]\n",
    ")\n",
    "faiss_retriever = faiss_vectorstore.as_retriever(search_kwargs={'k':1})\n",
    "\n",
    "ensemble_retriever = EnsembleRetriever(\n",
    "    retrievers=[bm25_retriever, faiss_retriever],\n",
    "    weights=[0.5, 0.5]  # openai embedding 보다 성능이 낮아지므로 bm25 가중치 높임\n",
    ")\n",
    "\n",
    "# OpenAI LLM model -> Huggingface 42dot sLLM model\n",
    "model_name = \"42dot/42dot_LLM-SFT-1.3B\"\n",
    "\n",
    "pipleline = transformers.pipeline(\n",
    "    'text-generation',\n",
    "    device=device,\n",
    "    model=model_name,\n",
    "    model_kwargs={\"torch_dtype\": torch.float16}\n",
    ")\n",
    "\n",
    "pipleline.model.eval()\n",
    "\n",
    "def retrieve(query):\n",
    "    ensemble_docs = ensemble_retriever.invoke(query)\n",
    "    return ensemble_docs\n",
    "\n",
    "def sllm_generate(query):\n",
    "    \n",
    "    answer = pipleline(\n",
    "        query,\n",
    "        max_new_tokens=100,\n",
    "        do_sample=True,\n",
    "        temperature=0.5,\n",
    "        top_p=0.9\n",
    "    )\n",
    "    return answer[0]['generated_text'][len(query):]\n",
    "\n",
    "def prompt_and_generate(query, docs):\n",
    "    \n",
    "    prompt = f\"\"\"아래 질문을 기반으로 검색된 뉴스를 참고하여 질문에 대한 답변을 생성하시오.\n",
    "    질문: {query}\n",
    "    \"\"\"\n",
    "    \n",
    "    for i in range(len(docs)):\n",
    "        prompt += f\"뉴스{i+1}\\n\"\n",
    "        prompt += f\"요약: {docs[i].page_content}\\n\"\n",
    "        prompt += \"\\n\"\n",
    "    prompt += \"답변:\"\n",
    "    \n",
    "    answer = sllm_generate(prompt)\n",
    "    return answer"
   ]
  },
  {
   "cell_type": "code",
   "execution_count": 3,
   "metadata": {},
   "outputs": [
    {
     "name": "stderr",
     "output_type": "stream",
     "text": [
      "c:\\Users\\woojin\\anaconda3\\envs\\assistant\\Lib\\site-packages\\transformers\\models\\llama\\modeling_llama.py:660: UserWarning: 1Torch was not compiled with flash attention. (Triggered internally at C:\\actions-runner\\_work\\pytorch\\pytorch\\builder\\windows\\pytorch\\aten\\src\\ATen\\native\\transformers\\cuda\\sdp_utils.cpp:555.)\n",
      "  attn_output = torch.nn.functional.scaled_dot_product_attention(\n"
     ]
    },
    {
     "name": "stdout",
     "output_type": "stream",
     "text": [
      " 삼성전자가 인수하는 기업은 테스트 하나 둘 셋입니다.\n"
     ]
    }
   ],
   "source": [
    "query = \"삼성전자가 인수하는 기업은?\"\n",
    "retrieved = [doc for doc in retrieve(query)]\n",
    "answer = prompt_and_generate(query, retrieved)\n",
    "print(answer)"
   ]
  },
  {
   "cell_type": "code",
   "execution_count": null,
   "metadata": {},
   "outputs": [],
   "source": []
  }
 ],
 "metadata": {
  "kernelspec": {
   "display_name": "assistant",
   "language": "python",
   "name": "python3"
  },
  "language_info": {
   "codemirror_mode": {
    "name": "ipython",
    "version": 3
   },
   "file_extension": ".py",
   "mimetype": "text/x-python",
   "name": "python",
   "nbconvert_exporter": "python",
   "pygments_lexer": "ipython3",
   "version": "3.11.9"
  }
 },
 "nbformat": 4,
 "nbformat_minor": 2
}
