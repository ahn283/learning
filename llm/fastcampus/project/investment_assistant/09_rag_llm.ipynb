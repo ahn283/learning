{
 "cells": [
  {
   "cell_type": "code",
   "execution_count": 3,
   "metadata": {},
   "outputs": [],
   "source": [
    "from langchain_community.retrievers import BM25Retriever\n",
    "from langchain_openai import OpenAIEmbeddings\n",
    "from langchain_community.vectorstores import Chroma\n",
    "from langchain_community.vectorstores import FAISS\n",
    "from langchain.retrievers import EnsembleRetriever\n",
    "import keyring\n",
    "from openai import OpenAI\n",
    "\n",
    "client = OpenAI(api_key=keyring.get_password('openai', 'key_for_windows'))\n",
    "model='gpt-3.5-turbo'\n",
    "\n",
    "doc_list = [\n",
    "    \"우리나라는 2022년 코로나가 유행했다.\",\n",
    "    \"우리나라 2024년 GDP 전망은 3.0%이다.\",\n",
    "    \"우리나라는 2022년 국내총생산 중 연구개발 예산은 약 5%이다.\", \n",
    "    \"삼성전자 2024년 1분기 매출액은 약 7조원으로 잠정 추정됩니다.\",\n",
    "    \"2024년 7월 19일 삼성전자 주가는 64,500원입니다.\"\n",
    "]\n",
    "\n",
    "\n",
    "bm25_retriever = BM25Retriever.from_texts(\n",
    "    doc_list, metadatas=[{\"source\":1}]*len(doc_list)\n",
    ")\n",
    "bm25_retriever.k = 1\n",
    "\n",
    "embedding = OpenAIEmbeddings(api_key=keyring.get_password('openai', 'key_for_windows'))\n",
    "chroma_vectorstore = Chroma.from_texts(\n",
    "    doc_list, embedding, metadatas=[{'source':1}] * len(doc_list)\n",
    ")\n",
    "chroma_retriever = chroma_vectorstore.as_retriever(search_kwarg={'k':1})\n",
    "faiss_vectorstore = FAISS.from_texts(\n",
    "    doc_list, embedding, metadatas=[{'source':1}] * len(doc_list)\n",
    ")\n",
    "faiss_retriever = faiss_vectorstore.as_retriever(search_kwargs={'k':1})\n",
    "\n",
    "ensemble_retriever = EnsembleRetriever(\n",
    "    retrievers=[bm25_retriever, chroma_retriever, faiss_retriever],\n",
    "    weights=[0.2, 0.4, 0.4]\n",
    ")"
   ]
  },
  {
   "cell_type": "code",
   "execution_count": 6,
   "metadata": {},
   "outputs": [],
   "source": [
    "def search(query):\n",
    "    ensemble_dcos = ensemble_retriever.invoke(query)\n",
    "    return ensemble_dcos\n",
    "\n",
    "def chatgpt_generate(query):\n",
    "    \n",
    "    response = client.chat.completions.create(\n",
    "        model=model,\n",
    "        messages=[{\n",
    "            'role':'system',\n",
    "            'content':'You are a helpful assistant.'\n",
    "        }, {\n",
    "            'role':'user',\n",
    "            'content':query\n",
    "        }]\n",
    "    )\n",
    "    \n",
    "    answer = response.choices[0].message.content\n",
    "    return answer\n",
    "\n",
    "def get_answer(query, docs):\n",
    "    prompt = f\"\"\"아래 질문을 기반으로 검색된 문서를 참고하여 질문에 대한 답변을 생성하시오.\n",
    "\n",
    "    # 질문 : {query}\n",
    "    \"\"\"\n",
    "    \n",
    "    for i in range(len(docs)):\n",
    "        prompt += f\"# 문서{i+1}:\" + docs[i]\n",
    "    print(prompt)\n",
    "    answer = chatgpt_generate(prompt)\n",
    "    return answer"
   ]
  },
  {
   "cell_type": "code",
   "execution_count": 7,
   "metadata": {},
   "outputs": [
    {
     "name": "stdout",
     "output_type": "stream",
     "text": [
      "아래 질문을 기반으로 검색된 문서를 참고하여 질문에 대한 답변을 생성하시오.\n",
      "\n",
      "    # 질문 : 삼성전자의 올해 매출액은?\n",
      "    # 문서1:삼성전자 2024년 1분기 매출액은 약 7조원으로 잠정 추정됩니다.# 문서2:2024년 7월 19일 삼성전자 주가는 64,500원입니다.\n",
      "죄송합니다. 제가 제공할 수 있는 정보는 2024년 1분기에 대한 삼성전자의 잠정 추정 매출액인 약 7조원입니다. 현재 올해 매출액에 대한 정확한 정보는 제공되지 않았습니다.\n"
     ]
    }
   ],
   "source": [
    "query = \"삼성전자의 올해 매출액은?\"\n",
    "retrieved_docs = [doc.page_content for doc in search(query)]\n",
    "answer = get_answer(query, retrieved_docs)\n",
    "print(answer)"
   ]
  }
 ],
 "metadata": {
  "kernelspec": {
   "display_name": "assistant",
   "language": "python",
   "name": "python3"
  },
  "language_info": {
   "codemirror_mode": {
    "name": "ipython",
    "version": 3
   },
   "file_extension": ".py",
   "mimetype": "text/x-python",
   "name": "python",
   "nbconvert_exporter": "python",
   "pygments_lexer": "ipython3",
   "version": "3.11.9"
  }
 },
 "nbformat": 4,
 "nbformat_minor": 2
}
