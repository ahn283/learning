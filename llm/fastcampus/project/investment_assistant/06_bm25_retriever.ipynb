{
 "cells": [
  {
   "cell_type": "code",
   "execution_count": 7,
   "metadata": {},
   "outputs": [],
   "source": [
    "from langchain_community.retrievers import BM25Retriever        # pip install rank_bm25\n",
    "from langchain_openai import OpenAIEmbeddings\n",
    "from langchain_community.vectorstores import Chroma\n",
    "from langchain_community.vectorstores import FAISS\n",
    "import keyring\n",
    "\n",
    "doc_list = [\n",
    "    '우리나라는 2022년에 코로나가 유행했다.',\n",
    "    '우리나라의 2024년 GDP 전망은 3.0%이다.',\n",
    "    '우리나라는 2022년 국내총생산 중 연구개발 예산은 약 5%이다.'\n",
    "]\n",
    "\n",
    "# pip install rank_bm25\n",
    "# elastic search 단어 기반 검색 : embedding 필요 없음 \n",
    "bm25_retriever = BM25Retriever.from_texts(\n",
    "    doc_list, \n",
    "    metadatas=[{\"source\":1}] * len(doc_list)    # 메타데이터 소스 정보 임의 생성\n",
    ")      \n",
    "bm25_retriever.k = 1    # 가상 유사한 결과 1개 리턴"
   ]
  },
  {
   "cell_type": "code",
   "execution_count": 10,
   "metadata": {},
   "outputs": [],
   "source": [
    "embedding = OpenAIEmbeddings(api_key=keyring.get_password('openai', 'key_for_windows'))\n",
    "chroma_vectorstores = Chroma.from_texts(\n",
    "    doc_list, embedding, metadatas=[{\"source\":1}] * len(doc_list)\n",
    ")\n",
    "chroma_retriever = chroma_vectorstores.as_retriever(search_kwargs={\"k\":1})"
   ]
  },
  {
   "cell_type": "code",
   "execution_count": 11,
   "metadata": {},
   "outputs": [],
   "source": [
    "faiss_vectorstores = FAISS.from_texts(\n",
    "    doc_list, embedding, metadatas=[{'source':1}] * len(doc_list) \n",
    ")\n",
    "faiss_retriever = faiss_vectorstores.as_retriever(search_kwargs={'k':1})"
   ]
  },
  {
   "cell_type": "code",
   "execution_count": 12,
   "metadata": {},
   "outputs": [
    {
     "name": "stdout",
     "output_type": "stream",
     "text": [
      "[Document(metadata={'source': 1}, page_content='우리나라는 2022년 국내총생산 중 연구개발 예산은 약 5%이다.')]\n",
      "--------------\n",
      "[Document(metadata={'source': 1}, page_content='우리나라는 2022년 국내총생산 중 연구개발 예산은 약 5%이다.')]\n",
      "--------------\n",
      "[Document(metadata={'source': 1}, page_content='우리나라는 2022년 국내총생산 중 연구개발 예산은 약 5%이다.')]\n"
     ]
    }
   ],
   "source": [
    "query = \"2022년 우리나라 GDP대비 R&D 규모는?\"\n",
    "\n",
    "bm25_docs = bm25_retriever.invoke(query)\n",
    "chroma_docs = chroma_retriever.invoke(query)\n",
    "faiss_docs = faiss_retriever.invoke(query)\n",
    "\n",
    "print(bm25_docs)\n",
    "print('--------------')\n",
    "print(chroma_docs)\n",
    "print('--------------')\n",
    "print(faiss_docs)"
   ]
  },
  {
   "cell_type": "code",
   "execution_count": null,
   "metadata": {},
   "outputs": [],
   "source": []
  }
 ],
 "metadata": {
  "kernelspec": {
   "display_name": "assistant",
   "language": "python",
   "name": "python3"
  },
  "language_info": {
   "codemirror_mode": {
    "name": "ipython",
    "version": 3
   },
   "file_extension": ".py",
   "mimetype": "text/x-python",
   "name": "python",
   "nbconvert_exporter": "python",
   "pygments_lexer": "ipython3",
   "version": "3.11.9"
  }
 },
 "nbformat": 4,
 "nbformat_minor": 2
}
