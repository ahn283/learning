{
 "cells": [
  {
   "cell_type": "code",
   "execution_count": 1,
   "metadata": {},
   "outputs": [
    {
     "name": "stderr",
     "output_type": "stream",
     "text": [
      "C:\\Users\\woojin\\AppData\\Local\\Temp\\ipykernel_39096\\4227958931.py:11: LangChainDeprecationWarning: The class `HuggingFaceEmbeddings` was deprecated in LangChain 0.2.2 and will be removed in 1.0. An updated version of the class exists in the langchain-huggingface package and should be used instead. To use it run `pip install -U langchain-huggingface` and import as `from langchain_huggingface import HuggingFaceEmbeddings`.\n",
      "  embedding = SentenceTransformerEmbeddings(model_name=\"distiluse-base-multilingual-cased-v1\")\n",
      "c:\\Users\\woojin\\anaconda3\\envs\\assistant\\Lib\\site-packages\\sentence_transformers\\cross_encoder\\CrossEncoder.py:11: TqdmWarning: IProgress not found. Please update jupyter and ipywidgets. See https://ipywidgets.readthedocs.io/en/stable/user_install.html\n",
      "  from tqdm.autonotebook import tqdm, trange\n",
      "c:\\Users\\woojin\\anaconda3\\envs\\assistant\\Lib\\site-packages\\transformers\\tokenization_utils_base.py:1601: FutureWarning: `clean_up_tokenization_spaces` was not set. It will be set to `True` by default. This behavior will be depracted in transformers v4.45, and will be then set to `False` by default. For more details check this issue: https://github.com/huggingface/transformers/issues/31884\n",
      "  warnings.warn(\n"
     ]
    },
    {
     "name": "stdout",
     "output_type": "stream",
     "text": [
      "[Document(metadata={'source': 1}, page_content='우리나라 2024년 GDP 전망은 3.0%이다.')]\n"
     ]
    }
   ],
   "source": [
    "from langchain_community.embeddings.sentence_transformer import SentenceTransformerEmbeddings\n",
    "from langchain_community.vectorstores import FAISS\n",
    "\n",
    "doc_list = [\n",
    "    \"우리나라는 2022년에 코로나가 유행했다.\",\n",
    "    \"우리나라 2024년 GDP 전망은 3.0%이다.\",\n",
    "    \"우리나라는 2022년 국내총생산 중 연구개발 예산은 약 5%이다.\"    \n",
    "]\n",
    "\n",
    "# SentenceTransformer Multiligual model\n",
    "embedding = SentenceTransformerEmbeddings(model_name=\"distiluse-base-multilingual-cased-v1\")\n",
    "faiss_vectorstore = FAISS.from_texts(\n",
    "    doc_list, embedding, metadatas=[{\"source\":1}] * len(doc_list)\n",
    ")\n",
    "faiss_retriever = faiss_vectorstore.as_retriever(search_kwargs={\"k\":1})\n",
    "\n",
    "query = \"2022년 우리나라 GDP 대비 R&D 규모는?\"\n",
    "\n",
    "docs = faiss_retriever.invoke(query)\n",
    "print(docs)"
   ]
  },
  {
   "cell_type": "code",
   "execution_count": 1,
   "metadata": {},
   "outputs": [
    {
     "name": "stderr",
     "output_type": "stream",
     "text": [
      "c:\\Users\\woojin\\anaconda3\\envs\\assistant\\Lib\\site-packages\\sentence_transformers\\cross_encoder\\CrossEncoder.py:11: TqdmWarning: IProgress not found. Please update jupyter and ipywidgets. See https://ipywidgets.readthedocs.io/en/stable/user_install.html\n",
      "  from tqdm.autonotebook import tqdm, trange\n"
     ]
    },
    {
     "name": "stdout",
     "output_type": "stream",
     "text": [
      "[Document(metadata={'source': 1}, page_content='우리나라는 2022년 국내총생산 중 연구개발 예산은 약 5%이다.')]\n"
     ]
    }
   ],
   "source": [
    "# Huggingface Embedding\n",
    "from langchain.vectorstores import Chroma\n",
    "from langchain.embeddings import HuggingFaceBgeEmbeddings\n",
    "\n",
    "doc_list = [\n",
    "    \"우리나라는 2022년에 코로나가 유행했다.\",\n",
    "    \"우리나라 2024년 GDP 전망은 3.0%이다.\",\n",
    "    \"우리나라는 2022년 국내총생산 중 연구개발 예산은 약 5%이다.\"    \n",
    "]\n",
    "\n",
    "embedding = HuggingFaceBgeEmbeddings(model_name='BAAI/bge-m3')\n",
    "chroma_vectorstore = Chroma.from_texts(\n",
    "    doc_list, embedding, metadatas=[{'source':1}] * len(doc_list)\n",
    ")\n",
    "chroma_retriever = chroma_vectorstore.as_retriever(search_kwargs={'k':1})\n",
    "\n",
    "query = \"2022년 우리나라 GDP대비 R&D 규모는?\"\n",
    "\n",
    "docs = chroma_retriever.invoke(query)\n",
    "print(docs)\n"
   ]
  }
 ],
 "metadata": {
  "kernelspec": {
   "display_name": "assistant",
   "language": "python",
   "name": "python3"
  },
  "language_info": {
   "codemirror_mode": {
    "name": "ipython",
    "version": 3
   },
   "file_extension": ".py",
   "mimetype": "text/x-python",
   "name": "python",
   "nbconvert_exporter": "python",
   "pygments_lexer": "ipython3",
   "version": "3.11.9"
  }
 },
 "nbformat": 4,
 "nbformat_minor": 2
}
