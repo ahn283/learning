{
 "cells": [
  {
   "cell_type": "code",
   "execution_count": 1,
   "metadata": {},
   "outputs": [],
   "source": [
    "# claude from anthropic\n",
    "# pip install langchain-anthropic\n",
    "# pip install anthropic\n",
    "\n",
    "from langchain_anthropic import ChatAnthropic\n",
    "import anthropic\n",
    "import keyring"
   ]
  },
  {
   "cell_type": "code",
   "execution_count": 2,
   "metadata": {},
   "outputs": [],
   "source": [
    "# using anthropic api\n",
    "client = anthropic.Anthropic(\n",
    "    api_key=keyring.get_password('anthropic', 'key_for_windows')\n",
    ")\n",
    "\n",
    "def get_answer_from_anthropic(prompt, model='claude-3-haiku-20240307'):\n",
    "    message = client.messages.create(\n",
    "        model=model,\n",
    "        max_tokens=4096,\n",
    "        temperature=0.0,\n",
    "        messages=[{\n",
    "            'role':'user',\n",
    "            'content':prompt\n",
    "        }]\n",
    "    )\n",
    "    print(message.usage)\n",
    "    return message.content[0].text"
   ]
  },
  {
   "cell_type": "code",
   "execution_count": 3,
   "metadata": {},
   "outputs": [],
   "source": [
    "# using langchain api\n",
    "# model : https://docs.anthropic.com/en/docs/about-claude/models#model-comparison-table\n",
    "\n",
    "def get_answer_langchain_anthropic(prompt, model='claude-3-haiku-20240307'):\n",
    "    llm_anthropic = ChatAnthropic(api_key=keyring.get_password('anthropic', 'key_for_windows'), model=model)\n",
    "    answer = llm_anthropic.invoke(prompt)\n",
    "    return answer.content"
   ]
  },
  {
   "cell_type": "code",
   "execution_count": 4,
   "metadata": {},
   "outputs": [
    {
     "name": "stdout",
     "output_type": "stream",
     "text": [
      "Usage(input_tokens=26, output_tokens=230)\n"
     ]
    },
    {
     "data": {
      "text/plain": [
       "'삼성전자의 2022년 3분기 매출액은 약 76조 8천억 원으로 발표되었습니다.\\n\\n주요 내용은 다음과 같습니다:\\n\\n- 매출액: 76조 8,100억 원\\n- 영업이익: 11조 8,000억 원\\n- 순이익: 9조 4,800억 원\\n\\n이는 전년 동기 대비 매출액은 3.8% 증가했지만, 영업이익은 31.4% 감소한 수치입니다. \\n\\n반도체 사업부문의 실적이 호조를 보였지만, 스마트폰 사업부문의 실적이 부진했던 것이 주요 요인으로 분석됩니다.'"
      ]
     },
     "execution_count": 4,
     "metadata": {},
     "output_type": "execute_result"
    }
   ],
   "source": [
    "prompt = \"삼성전자 올해 3분기 매출액은?\"\n",
    "answer = get_answer_from_anthropic(prompt)\n",
    "answer"
   ]
  },
  {
   "cell_type": "code",
   "execution_count": 5,
   "metadata": {},
   "outputs": [
    {
     "data": {
      "text/plain": [
       "'상섬전자의 올해 3분기 매출액은 71조원입니다.\\n\\n관련 문서에 따르면 상섬전자의 올해 3분기 매출액과 영업이익은 각각 71조원, 6조 6천억원으로 잠정 집계되었다고 밝혔습니다.'"
      ]
     },
     "execution_count": 5,
     "metadata": {},
     "output_type": "execute_result"
    }
   ],
   "source": [
    "prompt = '''아래 질문을 보고, 질문에 해당하는 문서를 참고해서 답변하세요.\n",
    "질문 : 상섬전자 올해 3분기 매출액은?\n",
    "관련 문서: 올해 3분기 매출액과 영업이익은 각각 71조, 6조 6천억원으로 잠정 집계되었다고 5일 공시했다.\n",
    "'''\n",
    "\n",
    "get_answer_langchain_anthropic(prompt)"
   ]
  }
 ],
 "metadata": {
  "kernelspec": {
   "display_name": "assistant",
   "language": "python",
   "name": "python3"
  },
  "language_info": {
   "codemirror_mode": {
    "name": "ipython",
    "version": 3
   },
   "file_extension": ".py",
   "mimetype": "text/x-python",
   "name": "python",
   "nbconvert_exporter": "python",
   "pygments_lexer": "ipython3",
   "version": "3.11.9"
  }
 },
 "nbformat": 4,
 "nbformat_minor": 2
}
