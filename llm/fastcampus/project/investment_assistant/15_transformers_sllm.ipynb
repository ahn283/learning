{
 "cells": [
  {
   "cell_type": "code",
   "execution_count": 8,
   "metadata": {},
   "outputs": [
    {
     "name": "stderr",
     "output_type": "stream",
     "text": [
      "Hardware accelerator e.g. GPU is available in the environment, but no `device` argument is passed to the `Pipeline` object. Model will be on CPU.\n"
     ]
    },
    {
     "name": "stdout",
     "output_type": "stream",
     "text": [
      "삼성전자에 대해 알려줘.\n",
      "삼성전자는 지난 1분기(1~3월)에 매출 15조5100억원, 영업이익 2조9900억원을 기록했다고 8일 공시했다. 매출은 전년 동기 대비 10.9%, 영업이익은 27.8% 증가했다.\n",
      "삼성전자는 “반도체와 디스플레이 패널 등 부품사업의 호조로 실적이 개선됐다”고 설명했다.\n",
      "삼성전자는 2분기(4~6월)에 매출 16조~17조원, 영업이익 3조~4조원을 기록할 것으로 전망했다.\n",
      "\n"
     ]
    }
   ],
   "source": [
    "import transformers\n",
    "import torch\n",
    "\n",
    "# check if a GPU is available\n",
    "deivce = torch.device('cuda' if torch.cuda.is_available() else 'cpu')\n",
    "\n",
    "model_name = '42dot/42dot_LLM-PLM-1.3B'\n",
    "\n",
    "pipeline = transformers.pipeline(\n",
    "    \"text-generation\",\n",
    "    model=model_name,\n",
    "    # device=deivce,        # activate GPU (GPU 사용시 더 안좋은 성능)\n",
    "    model_kwargs={\"torch_dtype\": torch.float64}\n",
    ")\n",
    "\n",
    "pipeline.model.eval()\n",
    "\n",
    "prompt = \"삼성전자에 대해 알려줘.\"\n",
    "\n",
    "outputs = pipeline(\n",
    "    prompt,\n",
    "    max_new_tokens=100,\n",
    "    do_sample=True,\n",
    "    temperature=0.3,\n",
    "    top_p=0.9   # top-p sampling : 확률값이 높은 순서대로 내림차순 정렬한 후 누적 확률값이 p이하인 단어들 가운데 하나를 다음 단어로 선택\n",
    ")\n",
    "\n",
    "# print(outputs[0]['generated_text'][len(prompt):])   # 보통 프롬프트를 반복하는 경향이 있어 프롬프트 만큼 제외하고 출력\n",
    "\n",
    "print(outputs[0]['generated_text'])\n"
   ]
  }
 ],
 "metadata": {
  "kernelspec": {
   "display_name": "assistant",
   "language": "python",
   "name": "python3"
  },
  "language_info": {
   "codemirror_mode": {
    "name": "ipython",
    "version": 3
   },
   "file_extension": ".py",
   "mimetype": "text/x-python",
   "name": "python",
   "nbconvert_exporter": "python",
   "pygments_lexer": "ipython3",
   "version": "3.11.9"
  }
 },
 "nbformat": 4,
 "nbformat_minor": 2
}
