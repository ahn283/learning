{
 "cells": [
  {
   "cell_type": "code",
   "execution_count": 2,
   "metadata": {},
   "outputs": [],
   "source": [
    "from xml.sax.saxutils import prepare_input_source\n",
    "from langchain_community.retrievers import BM25Retriever\n",
    "from langchain_community.vectorstores import FAISS, Chroma\n",
    "from langchain_openai import OpenAIEmbeddings\n",
    "from langchain.retrievers import EnsembleRetriever\n",
    "import keyring\n",
    "from sklearn.metrics import precision_score, recall_score, f1_score\n",
    "\n",
    "doc_list = [\n",
    "    \"우리나라는 2022년에 코로나가 유행했다.\",\n",
    "    \"우리나라 2024년 GDP 전망은 3.0%이다.\",\n",
    "    \"우리나라는 2022년 국내총생산 중 연구개발 예산은 약 5%이다.\"\n",
    "]\n",
    "\n",
    "# query and answer document index\n",
    "gold_data = {\n",
    "    \"코로나가 유행한 연도\": [0],\n",
    "    \"2022년 GDP 대비 R&D 예산\": [2],\n",
    "    \"2024년 국내총생산 전망\": [1],\n",
    "}\n"
   ]
  },
  {
   "cell_type": "code",
   "execution_count": 3,
   "metadata": {},
   "outputs": [],
   "source": [
    "# keyword based elastic search\n",
    "bm25_retriever = BM25Retriever.from_texts(\n",
    "    doc_list, metadatas=[{'source':1}] * len(doc_list)\n",
    ")\n",
    "bm25_retriever.k = 1\n",
    "\n",
    "# vector database retrieve\n",
    "# embedding\n",
    "embedding = OpenAIEmbeddings(api_key=keyring.get_password('openai', 'key_for_windows'))\n",
    "# FAISS\n",
    "faiss_vectorstore = FAISS.from_texts(\n",
    "    doc_list, embedding, metadatas=[{'source':i} for i in range(len(doc_list))]\n",
    ")\n",
    "faiss_retriever = faiss_vectorstore.as_retriever(search_kwargs={'k':1})\n",
    "# Chroma\n",
    "chroma_vectorstore = Chroma.from_texts(\n",
    "    doc_list, embedding, metadatas=[{'source':i} for i in range(len(doc_list))]\n",
    ")\n",
    "chroma_retriever = chroma_vectorstore.as_retriever(search_kwargs={'k':1})\n"
   ]
  },
  {
   "cell_type": "code",
   "execution_count": 4,
   "metadata": {},
   "outputs": [],
   "source": [
    "query = \"2022년 우리나라 GDP 대비 R&D 규모는?\"\n",
    "\n",
    "# ensemble\n",
    "ensemble_retriever = EnsembleRetriever(\n",
    "    retrievers=[bm25_retriever, faiss_retriever, chroma_retriever], \n",
    "    weights=[0.2, 0.5, 0.3]\n",
    ")\n",
    "\n",
    "# retrieval result\n",
    "retrieved_docs = {query: ensemble_retriever.invoke(query) for query in gold_data}"
   ]
  },
  {
   "cell_type": "code",
   "execution_count": 5,
   "metadata": {},
   "outputs": [
    {
     "data": {
      "text/plain": [
       "{'코로나가 유행한 연도': [Document(metadata={'source': 1}, page_content='우리나라는 2022년에 코로나가 유행했다.')],\n",
       " '2022년 GDP 대비 R&D 예산': [Document(metadata={'source': 2}, page_content='우리나라는 2022년 국내총생산 중 연구개발 예산은 약 5%이다.'),\n",
       "  Document(metadata={'source': 1}, page_content='우리나라 2024년 GDP 전망은 3.0%이다.')],\n",
       " '2024년 국내총생산 전망': [Document(metadata={'source': 2}, page_content='우리나라는 2022년 국내총생산 중 연구개발 예산은 약 5%이다.'),\n",
       "  Document(metadata={'source': 1}, page_content='우리나라 2024년 GDP 전망은 3.0%이다.')]}"
      ]
     },
     "execution_count": 5,
     "metadata": {},
     "output_type": "execute_result"
    }
   ],
   "source": [
    "retrieved_docs"
   ]
  },
  {
   "cell_type": "code",
   "execution_count": 18,
   "metadata": {},
   "outputs": [
    {
     "data": {
      "text/plain": [
       "1"
      ]
     },
     "execution_count": 18,
     "metadata": {},
     "output_type": "execute_result"
    }
   ],
   "source": [
    "retrieved_docs['코로나가 유행한 연도'][0].metadata['source']"
   ]
  },
  {
   "cell_type": "code",
   "execution_count": 22,
   "metadata": {},
   "outputs": [
    {
     "name": "stdout",
     "output_type": "stream",
     "text": [
      "precision: 0.3333333333333333\n",
      "recall: 0.6666666666666666\n",
      "f1: 0.4444444444444444\n"
     ]
    }
   ],
   "source": [
    "# evaluation function\n",
    "def evaluate_search(retrieved_docs, gold_standard, documents):\n",
    "    '''\n",
    "    retrived_docs: prediction\n",
    "    gold_standard: label\n",
    "    documents\n",
    "    '''\n",
    "    precisions = []\n",
    "    recalls = []\n",
    "    f1s = []\n",
    "    \n",
    "    for query in gold_standard:\n",
    "        retrieved = [doc.metadata['source'] for doc in retrieved_docs[query]]\n",
    "        gold = gold_standard[query]\n",
    "        \n",
    "        y_true = [1 if i in gold else 0 for i in range(len(documents))]\n",
    "        y_pred = [1 if i in retrieved else 0 for i in range(len(documents))]\n",
    "        \n",
    "        # calculate precition, recall, F1 score\n",
    "        precision = precision_score(y_true, y_pred)\n",
    "        recall = recall_score(y_true, y_pred)\n",
    "        f1 = f1_score(y_true, y_pred)\n",
    "        \n",
    "        precisions.append(precision)\n",
    "        recalls.append(recall)\n",
    "        f1s.append(f1)\n",
    "        \n",
    "    # calculate average score\n",
    "    avg_precision = sum(precisions) / len(gold_standard)\n",
    "    avg_recall = sum(recalls) / len(gold_standard)\n",
    "    avg_f1 = sum(f1s) / len(gold_standard)\n",
    "    \n",
    "    return avg_precision, avg_recall, avg_f1\n",
    "\n",
    "avg_precision, avg_recall, avg_f1 = evaluate_search(retrieved_docs, gold_data, doc_list)\n",
    "\n",
    "print(f\"precision: {avg_precision}\")\n",
    "print(f\"recall: {avg_recall}\")\n",
    "print(f\"f1: {avg_f1}\")"
   ]
  },
  {
   "cell_type": "code",
   "execution_count": null,
   "metadata": {},
   "outputs": [],
   "source": []
  }
 ],
 "metadata": {
  "kernelspec": {
   "display_name": "assistant",
   "language": "python",
   "name": "python3"
  },
  "language_info": {
   "codemirror_mode": {
    "name": "ipython",
    "version": 3
   },
   "file_extension": ".py",
   "mimetype": "text/x-python",
   "name": "python",
   "nbconvert_exporter": "python",
   "pygments_lexer": "ipython3",
   "version": "3.11.9"
  }
 },
 "nbformat": 4,
 "nbformat_minor": 2
}
