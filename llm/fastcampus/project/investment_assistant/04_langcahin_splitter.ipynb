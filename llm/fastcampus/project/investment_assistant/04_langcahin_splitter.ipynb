{
 "cells": [
  {
   "cell_type": "code",
   "execution_count": 3,
   "metadata": {},
   "outputs": [],
   "source": [
    "from langchain_community.document_loaders import PyPDFLoader    # pip install pyddf\n",
    "from langchain_text_splitters import CharacterTextSplitter  \n",
    "\n",
    "loader = PyPDFLoader('./data/bok_sample.pdf')\n",
    "pages = loader.load_and_split()\n",
    "\n",
    "text = pages[0].page_content"
   ]
  },
  {
   "cell_type": "code",
   "execution_count": 4,
   "metadata": {},
   "outputs": [
    {
     "name": "stdout",
     "output_type": "stream",
     "text": [
      "III. 중장기 심층연구\n",
      "혁신과 경제성장 -우리나라 기업의 혁신활동 분석 및 평가\n",
      "KEY TAKEAWAYS\n",
      "▢1우리나라는 초저출산 ·초고령화에 대응하여 생산성을 제고해야 하나 2010년\n",
      "대 들어 기업의 생산성 증가세가 크게 둔화되었다 . 혁신활동지표인 우리나라\n",
      "기업의 R&D지출규모와미국내특허출원건수는 각각세계 2위(22년,GDP\n",
      "의4.1%)와4위(20년,국가별비중 7.6%)를나타냈다 .그러나기업의생산성\n",
      "증가율은 2001∼10년연평균 6.1%에서 2011∼20년0.5%로크게낮아졌다 .\n",
      "▢2이는 혁신기업 innovative firm의 생산성이 2010년대 이후 정체된 점이 크게 작용했다 .\n",
      "혁신기업은미국내특허를출원할정도로우수한기업을의미하는데 ,이들\n",
      "기업은전체기업 R&D지출의 72%내외 (11∼20년평균 )를담당했으나생산성\n",
      "증가율은 2001∼10년연평균 8.2%에서 2011∼20년1.3%로크게둔화되었다 .\n",
      "▢3혁신기업을 규모·업력으로 나누어 살펴보면 다음과 같은 문제점이 도출되었다\n",
      "496\n",
      "4\n"
     ]
    }
   ],
   "source": [
    "text_splitter = CharacterTextSplitter(\n",
    "    separator=' .\\n',\n",
    "    chunk_size=500,\n",
    "    chunk_overlap=100,\n",
    "    length_function=len     # 500자 어떻게 측정할지 정하는 함수: 내장 함수 len\n",
    ")\n",
    "\n",
    "texts = text_splitter.split_text(text)\n",
    "\n",
    "print(texts[0])\n",
    "print(len(texts[0]))\n",
    "print(len(texts))"
   ]
  }
 ],
 "metadata": {
  "kernelspec": {
   "display_name": "assistant",
   "language": "python",
   "name": "python3"
  },
  "language_info": {
   "codemirror_mode": {
    "name": "ipython",
    "version": 3
   },
   "file_extension": ".py",
   "mimetype": "text/x-python",
   "name": "python",
   "nbconvert_exporter": "python",
   "pygments_lexer": "ipython3",
   "version": "3.11.9"
  }
 },
 "nbformat": 4,
 "nbformat_minor": 2
}
