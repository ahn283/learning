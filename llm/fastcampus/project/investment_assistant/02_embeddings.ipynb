{
 "cells": [
  {
   "cell_type": "code",
   "execution_count": 1,
   "metadata": {},
   "outputs": [
    {
     "name": "stderr",
     "output_type": "stream",
     "text": [
      "c:\\Users\\woojin\\anaconda3\\envs\\assistant\\Lib\\site-packages\\sentence_transformers\\cross_encoder\\CrossEncoder.py:11: TqdmWarning: IProgress not found. Please update jupyter and ipywidgets. See https://ipywidgets.readthedocs.io/en/stable/user_install.html\n",
      "  from tqdm.autonotebook import tqdm, trange\n"
     ]
    }
   ],
   "source": [
    "from openai import OpenAI\n",
    "from sentence_transformers import SentenceTransformer, SimilarityFunction\n",
    "import keyring\n",
    "\n",
    "client = OpenAI(api_key=keyring.get_password('openai', 'key_for_windows'))\n",
    "\n",
    "similarity_fn = SimilarityFunction.to_similarity_fn(\"cosine\")"
   ]
  },
  {
   "cell_type": "code",
   "execution_count": 2,
   "metadata": {},
   "outputs": [],
   "source": [
    "def get_embedding(text, model='text-embedding-3-small'):\n",
    "    text = text.strip() # 공백, 개행 제거\n",
    "    return client.embeddings.create(input=[text], model=model).data[0].embedding"
   ]
  },
  {
   "cell_type": "code",
   "execution_count": 3,
   "metadata": {},
   "outputs": [],
   "source": [
    "embedding_1 = get_embedding(\"일찍 학교에 갔다.\")"
   ]
  },
  {
   "cell_type": "code",
   "execution_count": 4,
   "metadata": {},
   "outputs": [],
   "source": [
    "embedding_2 = get_embedding(\"날씨가 화창하다.\")\n",
    "embedding_3 = get_embedding(\"일찍 초등학교에 등교했다.\")"
   ]
  },
  {
   "cell_type": "code",
   "execution_count": 5,
   "metadata": {},
   "outputs": [
    {
     "name": "stdout",
     "output_type": "stream",
     "text": [
      "tensor([[0.3069]])\n",
      "tensor([[0.6277]])\n",
      "tensor([[0.1669]])\n"
     ]
    }
   ],
   "source": [
    "score_1_2 = similarity_fn(embedding_1, embedding_2)\n",
    "score_1_3 = similarity_fn(embedding_1, embedding_3)\n",
    "score_2_3 = similarity_fn(embedding_2, embedding_3)\n",
    "\n",
    "print(score_1_2)\n",
    "print(score_1_3)\n",
    "print(score_2_3)"
   ]
  }
 ],
 "metadata": {
  "kernelspec": {
   "display_name": "llm",
   "language": "python",
   "name": "python3"
  },
  "language_info": {
   "codemirror_mode": {
    "name": "ipython",
    "version": 3
   },
   "file_extension": ".py",
   "mimetype": "text/x-python",
   "name": "python",
   "nbconvert_exporter": "python",
   "pygments_lexer": "ipython3",
   "version": "3.11.9"
  }
 },
 "nbformat": 4,
 "nbformat_minor": 2
}
