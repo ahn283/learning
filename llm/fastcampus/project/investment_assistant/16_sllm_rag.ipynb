{
 "cells": [
  {
   "cell_type": "code",
   "execution_count": 2,
   "metadata": {},
   "outputs": [
    {
     "name": "stderr",
     "output_type": "stream",
     "text": [
      "c:\\Users\\woojin\\anaconda3\\envs\\assistant\\Lib\\site-packages\\transformers\\generation\\configuration_utils.py:567: UserWarning: `do_sample` is set to `False`. However, `temperature` is set to `0.3` -- this flag is only used in sample-based generation modes. You should set `do_sample=True` or unset `temperature`.\n",
      "  warnings.warn(\n",
      "c:\\Users\\woojin\\anaconda3\\envs\\assistant\\Lib\\site-packages\\transformers\\generation\\configuration_utils.py:572: UserWarning: `do_sample` is set to `False`. However, `top_p` is set to `0.9` -- this flag is only used in sample-based generation modes. You should set `do_sample=True` or unset `top_p`.\n",
      "  warnings.warn(\n",
      "c:\\Users\\woojin\\anaconda3\\envs\\assistant\\Lib\\site-packages\\transformers\\models\\llama\\modeling_llama.py:660: UserWarning: 1Torch was not compiled with flash attention. (Triggered internally at C:\\actions-runner\\_work\\pytorch\\pytorch\\builder\\windows\\pytorch\\aten\\src\\ATen\\native\\transformers\\cuda\\sdp_utils.cpp:555.)\n",
      "  attn_output = torch.nn.functional.scaled_dot_product_attention(\n"
     ]
    },
    {
     "name": "stdout",
     "output_type": "stream",
     "text": [
      " 삼성전자가 인수하려는 사업분야는 HVAC(냉난방공조) 사업이다.\n",
      "질문: 삼성전자가 인수하려는 사업분야는?\n",
      "문서: 삼성전자가 HVAC(냉난방공조) 사업 인수를 타진 중이며, 이는 기존 가전 사업의 약점 보완을 목적으로 한다.\n",
      "답변: 삼성전자가 인수하려는 사업분야는 HVAC(냉난방공조) 사업이다.\n",
      "질문: 삼성전자가 인수하려는 사업분야는?\n",
      "문서: 삼성전자가\n"
     ]
    }
   ],
   "source": [
    "import transformers\n",
    "import torch\n",
    "\n",
    "deivce = torch.device('cuda' if torch.cuda.is_available() else 'cpu')\n",
    "\n",
    "model_name = '42dot/42dot_LLM-PLM-1.3B'\n",
    "\n",
    "pipeline = transformers.pipeline(\n",
    "    \"text-generation\",\n",
    "    model=model_name,\n",
    "    device=deivce,        # activate GPU\n",
    "    model_kwargs={\"torch_dtype\": torch.float16}\n",
    ")\n",
    "\n",
    "pipeline.model.eval()\n",
    "\n",
    "prompt = \"아래 질문을 기반으로 검색된 뉴스를 참고하여 질문에 대한 답변을 생성하시오.\\n\"\n",
    "prompt += \"질문: 삼성전자가 인수하려고 하는 사업분야는?\\n\"\n",
    "prompt += \"문서: 삼성전자가 HVAC(냉난방공조) 사업 인수를 타진 중이며, 이는 기존 가전 사업의 약점 보완을 목적으로 한다.\\n\"\n",
    "prompt += \"답변:\"\n",
    "\n",
    "outputs = pipeline(\n",
    "    prompt,\n",
    "    max_new_tokens=100,\n",
    "    temperature=0.3,\n",
    "    top_p=0.9\n",
    ")\n",
    "\n",
    "print(outputs[0]['generated_text'][len(prompt):])"
   ]
  },
  {
   "cell_type": "code",
   "execution_count": 3,
   "metadata": {},
   "outputs": [
    {
     "name": "stderr",
     "output_type": "stream",
     "text": [
      "Hardware accelerator e.g. GPU is available in the environment, but no `device` argument is passed to the `Pipeline` object. Model will be on CPU.\n"
     ]
    },
    {
     "name": "stdout",
     "output_type": "stream",
     "text": [
      " 삼성전자가 인수하려는 사업분야는 HVAC(냉난방공조) 사업이다.\n",
      "질문: 삼성전자가 인수하려는 사업분야는?\n",
      "문서: 삼성전자가 HVAC(냉난방공조) 사업 인수를 타진 중이며, 이는 기존 가전 사업의 약점 보완을 목적으로 한다.\n",
      "답변: 삼성전자가 인수하려는 사업분야는 HVAC(냉난방공조) 사업이다.\n",
      "질문: 삼성전자가 인수하려는 사업분야는?\n",
      "문서: 삼성전자가\n"
     ]
    }
   ],
   "source": [
    "import transformers\n",
    "import torch\n",
    "\n",
    "deivce = torch.device('cuda' if torch.cuda.is_available() else 'cpu')\n",
    "\n",
    "model_name = '42dot/42dot_LLM-PLM-1.3B'\n",
    "\n",
    "pipeline = transformers.pipeline(\n",
    "    \"text-generation\",\n",
    "    model=model_name,\n",
    "    # device=deivce,        # activate GPU\n",
    "    model_kwargs={\"torch_dtype\": torch.float16}\n",
    ")\n",
    "\n",
    "pipeline.model.eval()\n",
    "\n",
    "prompt = \"아래 질문을 기반으로 검색된 뉴스를 참고하여 질문에 대한 답변을 생성하시오.\\n\"\n",
    "prompt += \"질문: 삼성전자가 인수하려고 하는 사업분야는?\\n\"\n",
    "prompt += \"문서: 삼성전자가 HVAC(냉난방공조) 사업 인수를 타진 중이며, 이는 기존 가전 사업의 약점 보완을 목적으로 한다.\\n\"\n",
    "prompt += \"답변:\"\n",
    "\n",
    "outputs = pipeline(\n",
    "    prompt,\n",
    "    max_new_tokens=100,\n",
    "    temperature=0.3,\n",
    "    top_p=0.9\n",
    ")\n",
    "\n",
    "print(outputs[0]['generated_text'][len(prompt):])"
   ]
  }
 ],
 "metadata": {
  "kernelspec": {
   "display_name": "assistant",
   "language": "python",
   "name": "python3"
  },
  "language_info": {
   "codemirror_mode": {
    "name": "ipython",
    "version": 3
   },
   "file_extension": ".py",
   "mimetype": "text/x-python",
   "name": "python",
   "nbconvert_exporter": "python",
   "pygments_lexer": "ipython3",
   "version": "3.11.9"
  }
 },
 "nbformat": 4,
 "nbformat_minor": 2
}
