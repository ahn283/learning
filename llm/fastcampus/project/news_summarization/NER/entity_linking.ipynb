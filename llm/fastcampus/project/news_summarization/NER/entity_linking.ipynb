{
 "cells": [
  {
   "cell_type": "code",
   "execution_count": 7,
   "metadata": {},
   "outputs": [],
   "source": [
    "from langchain_community.chat_models import ChatOllama\n",
    "from openai import OpenAI\n",
    "import keyring\n",
    "\n",
    "llm_llama = ChatOllama(model='llama3.1')\n",
    "llm_openai = OpenAI(\n",
    "    api_key=keyring.get_password('openai', 'key_for_windows')\n",
    ")\n",
    "\n",
    "def get_response_from_llama(prompt):\n",
    "    response = llm_llama.invoke(prompt)\n",
    "    return response.content\n",
    "\n",
    "def get_response_from_openai(prompt):\n",
    "    completion = llm_openai.chat.completions.create(\n",
    "        messages=[\n",
    "            {'role':'user', 'content':prompt}\n",
    "        ],\n",
    "        model='gpt-3.5-turbo',\n",
    "        max_tokens=1024,\n",
    "        temperature=0.0\n",
    "    )\n",
    "    return completion.choices[0].message.content"
   ]
  },
  {
   "cell_type": "code",
   "execution_count": 8,
   "metadata": {},
   "outputs": [
    {
     "name": "stdout",
     "output_type": "stream",
     "text": [
      "코스피에 상장된 기업은 두 개이며, 그들은 SK하이닉스와 삼성전자입니다.\n"
     ]
    }
   ],
   "source": [
    "document = \"AI메모리반도체 수요가 증가하는 가운데, SK하이닉스와 삼성전자가 올해 본격적으로 HBM 반도체 생산에 열을 올릴 예정입니다. 정민수 연구원은 HBM에 대해서 새로운 아키텍쳐를 설계하여 기존 대비 약 30%의 효율 향상을 이끌었다고 소개하고 있습니다.\"\n",
    "prompt = f\"\"\"주어진 텍스트에 대해서 코스피에 상장된 기업을 추출하세요.\n",
    "###\n",
    "{document}\"\"\"\n",
    "\n",
    "answer = get_response_from_llama(prompt)\n",
    "print(answer)"
   ]
  },
  {
   "cell_type": "code",
   "execution_count": 9,
   "metadata": {},
   "outputs": [
    {
     "name": "stdout",
     "output_type": "stream",
     "text": [
      "코스피에 상장된 기업인 SK하이닉스는 '096970' 코드로, 삼성전자는 '005930' 코드를 가지고 있습니다.\n",
      "\n",
      "따라서, json 포맷으로 출력하기 위해 다음과 같이 구성할 수 있습니다:\n",
      "\n",
      "```\n",
      "{\n",
      "  \"SK하이닉스\": \"096970\",\n",
      "  \"삼성전자\": \"005930\"\n",
      "}\n",
      "```\n"
     ]
    }
   ],
   "source": [
    "prompt = f\"\"\"주어진 텍스트에 대해서 코스피에 상장된 기업을 추출하세요.\n",
    "다음과 같이 json 포맷으로 출력하세요.\n",
    "{{기업명:종목코드,...}}\n",
    "###\n",
    "{document}\"\"\"\n",
    "\n",
    "answer = get_response_from_llama(prompt)\n",
    "print(answer)"
   ]
  },
  {
   "cell_type": "code",
   "execution_count": 14,
   "metadata": {},
   "outputs": [
    {
     "name": "stdout",
     "output_type": "stream",
     "text": [
      "아래와 같이 json 포맷으로 코스피에 상장된 기업을 추출했습니다.\n",
      "\n",
      "```json\n",
      "{\n",
      "  \"SK하이닉스\": \"0001\",\n",
      "  \"삼성전자\": \"005930\"\n",
      "}\n",
      "```\n",
      "\n",
      "해석: 텍스트와 지식베이스에 등장하는 '삼성전자는'이라는 문구에서 '삼성'은 '삼성전자'로 추정하고, 관련 종목코드를 추가하였습니다.\n"
     ]
    }
   ],
   "source": [
    "# 학습 이후의 데이터에 대해서 물어보는 경우\n",
    "# (1) 지식베이스를 프롬프트에 넣어줌\n",
    "\n",
    "prompt = f\"\"\"주어진 텍스트에 대해서 코스피에 상장된 기업을 추출하세요.\n",
    "지식베이스는 기업명:종목코드 형식으로 구성되어 있습니다.\n",
    "다음과 같이 json 포맷으로 출력하세요.\n",
    "{{기업명:종목코드,...}}\n",
    "반드시 텍스트에 포함되고, 지식베이스에 포함된 기업명만을 추출합니다.\n",
    "\n",
    "# 지식베이스\n",
    "SK하이닉스 : 0001\n",
    "삼성바이오로직스 : 0002\n",
    "현대농기계 : 0003\n",
    "\n",
    "# 텍스트:\n",
    "{document}\"\"\"\n",
    "\n",
    "answer = get_response_from_llama(prompt)\n",
    "print(answer)"
   ]
  }
 ],
 "metadata": {
  "kernelspec": {
   "display_name": "llm",
   "language": "python",
   "name": "python3"
  },
  "language_info": {
   "codemirror_mode": {
    "name": "ipython",
    "version": 3
   },
   "file_extension": ".py",
   "mimetype": "text/x-python",
   "name": "python",
   "nbconvert_exporter": "python",
   "pygments_lexer": "ipython3",
   "version": "3.11.9"
  }
 },
 "nbformat": 4,
 "nbformat_minor": 2
}
