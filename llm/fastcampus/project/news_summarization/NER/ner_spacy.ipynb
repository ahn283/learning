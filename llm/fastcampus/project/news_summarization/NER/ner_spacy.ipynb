{
 "cells": [
  {
   "cell_type": "code",
   "execution_count": 1,
   "metadata": {},
   "outputs": [],
   "source": [
    "# install library\n",
    "# !pip install spacy\n",
    "# download model from spacy\n",
    "# !python -m spacy download en-core\n",
    "\n",
    "import spacy"
   ]
  },
  {
   "cell_type": "code",
   "execution_count": 2,
   "metadata": {},
   "outputs": [],
   "source": [
    "document = '''\n",
    "Mark Zuckerberg laid out Meta's gameplan for \"playing to win\" against Alphabet and Microsoft in the high-stakes AI arms race. Meta's secret weapon: its walled garden of data.\n",
    "\n",
    "\"There are hundreds of billions of publicly shared images and tens of billions of public videos, which we estimate is greater than the common crawl data set,” Zuckerberg said on Meta’s earnings call on Thursday. It was a not-so-subtle jab at competitors Google, Microsoft and OpenAI, which are training their AI models on the public web data crawled by their search engines every day.\n",
    "'''\n",
    "\n",
    "nlp = spacy.load('en_core_web_sm')"
   ]
  },
  {
   "cell_type": "code",
   "execution_count": 3,
   "metadata": {},
   "outputs": [
    {
     "name": "stdout",
     "output_type": "stream",
     "text": [
      "Mark | PERSON\n",
      "Zuckerberg | PERSON\n",
      "Meta | ORG\n",
      "Alphabet | GPE\n",
      "Microsoft | ORG\n",
      "AI | ORG\n",
      "Meta | ORG\n",
      "hundreds | MONEY\n",
      "of | MONEY\n",
      "billions | MONEY\n",
      "tens | MONEY\n",
      "of | MONEY\n",
      "billions | MONEY\n",
      "Zuckerberg | PERSON\n",
      "Meta | ORG\n",
      "Thursday | DATE\n",
      "Google | ORG\n",
      "Microsoft | ORG\n",
      "OpenAI | GPE\n",
      "AI | ORG\n",
      "every | DATE\n",
      "day | DATE\n"
     ]
    }
   ],
   "source": [
    "doc = nlp(document)\n",
    "\n",
    "for e in doc:\n",
    "    if e.ent_type_ != \"\":\n",
    "        print(f\"{e} | {e.ent_type_}\")\n",
    "    "
   ]
  }
 ],
 "metadata": {
  "kernelspec": {
   "display_name": "spacy_ner",
   "language": "python",
   "name": "python3"
  },
  "language_info": {
   "codemirror_mode": {
    "name": "ipython",
    "version": 3
   },
   "file_extension": ".py",
   "mimetype": "text/x-python",
   "name": "python",
   "nbconvert_exporter": "python",
   "pygments_lexer": "ipython3",
   "version": "3.10.0"
  }
 },
 "nbformat": 4,
 "nbformat_minor": 2
}
