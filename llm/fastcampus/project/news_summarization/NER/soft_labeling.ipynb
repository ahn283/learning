{
 "cells": [
  {
   "cell_type": "code",
   "execution_count": 1,
   "metadata": {},
   "outputs": [],
   "source": [
    "from langchain_community.chat_models import ChatOllama\n",
    "from openai import OpenAI\n",
    "import keyring\n",
    "\n",
    "llm_llama = ChatOllama(model='llama3.1')\n",
    "llm_openai = OpenAI(\n",
    "    api_key=keyring.get_password('openai', 'key_for_windows')\n",
    ")\n",
    "\n",
    "def get_response_from_llama(prompt):\n",
    "    response = llm_llama.invoke(prompt)\n",
    "    return response.content\n",
    "\n",
    "def get_response_from_openai(prompt):\n",
    "    completion = llm_openai.chat.completions.create(\n",
    "        messages=[\n",
    "            {'role':'user', 'content':prompt}\n",
    "        ],\n",
    "        model='gpt-3.5-turbo',\n",
    "        max_tokens=1024,\n",
    "        temperature=0.0\n",
    "    )\n",
    "    return completion.choices[0].message.content"
   ]
  },
  {
   "cell_type": "code",
   "execution_count": 2,
   "metadata": {},
   "outputs": [
    {
     "name": "stdout",
     "output_type": "stream",
     "text": [
      "감성분석 결과는 다음과 같습니다:\n",
      "\n",
      "{\"positive\": 0.9, \"nagative\": 0.05, \"neutral\": 0.05}\n",
      "\n",
      " 이유는 다음과 같습니다.\n",
      "\n",
      "* 문장에서 \"급등\"이라는 단어와 \"투자자들이 크게 만족하고 있습니다.\"라는 표현은 긍정적인 감정을 나타내고 있기 때문에 positive probability가 높습니다.\n",
      "* 또한 문장에서는 아무런 부정적인 언급이 없는 것이며, neutral한 표현도 거의 없기 때문에 negative probability와 neutral probability는 매우 낮습니다.\n"
     ]
    }
   ],
   "source": [
    "text = \"우리 회사의 주식이 예상보다 높은 실적 발표로 급등해서 투자자들이 크게 만족하고 있습니다.\"\n",
    "\n",
    "prompt = f'''아래 문장을 감성분석하세요. 감성은 긍정/부정/중립으로 정의되어 있습니다. 각 감성에 대해서 probability를 부여하세요.\n",
    "\n",
    "# 출력 포맷\n",
    "{{\"positive\": <probability>,\n",
    "\"nagative\": <probability>,\n",
    "\"neutral: <probability>\n",
    "}}\n",
    "\n",
    "# 문장:\n",
    "{text}'''\n",
    "\n",
    "answer = get_response_from_llama(prompt)\n",
    "print(answer)"
   ]
  },
  {
   "cell_type": "code",
   "execution_count": 5,
   "metadata": {},
   "outputs": [
    {
     "name": "stdout",
     "output_type": "stream",
     "text": [
      "{\"positive\": 0.3, \"negative\": 0.7, \"neutral\": 0}\n"
     ]
    }
   ],
   "source": [
    "text = \"새로운 CEO의 전략 덕분에 분기 매출이 일시적으로 상승했지만, 투자자들은 여전히 약간의 우려를 가지고 있습니다.\"\n",
    "prompt = f'''아래 문장을 감성분석하세요. 감성은 긍정/부정/중립으로 정의되어 있습니다. 각 감성에 대해서 probability를 부여하세요.\n",
    "\n",
    "# 출력 포맷\n",
    "{{\"positive\": <probability>,\n",
    "\"nagative\": <probability>,\n",
    "\"neutral: <probability>\n",
    "}}\n",
    "\n",
    "# 문장:\n",
    "{text}'''\n",
    "\n",
    "answer = get_response_from_llama(prompt)\n",
    "print(answer)"
   ]
  },
  {
   "cell_type": "code",
   "execution_count": 7,
   "metadata": {},
   "outputs": [
    {
     "name": "stdout",
     "output_type": "stream",
     "text": [
      "{\"positive\": 0.5,\n",
      "\"negative\": 0.4,\n",
      "\"neutral\": 0.1}\n"
     ]
    }
   ],
   "source": [
    "text = \"이번 주식 배당은 예상치의 기대를 맞췄지만, 글로벌 시장의 불안정성으로 인해 주가가 하락할 가능성도 있습니다..\"\n",
    "prompt = f'''아래 문장을 감성분석하세요. 감성은 긍정/부정/중립으로 정의되어 있습니다. 각 감성에 대해서 probability를 부여하세요. probability는 소수점 첫째까지만 계산하세요.\n",
    "\n",
    "# 출력 포맷\n",
    "{{\"positive\": <probability>,\n",
    "\"nagative\": <probability>,\n",
    "\"neutral: <probability>\n",
    "}}\n",
    "\n",
    "# 문장:\n",
    "{text}'''\n",
    "\n",
    "answer = get_response_from_llama(prompt)\n",
    "print(answer)"
   ]
  }
 ],
 "metadata": {
  "kernelspec": {
   "display_name": "llm",
   "language": "python",
   "name": "python3"
  },
  "language_info": {
   "codemirror_mode": {
    "name": "ipython",
    "version": 3
   },
   "file_extension": ".py",
   "mimetype": "text/x-python",
   "name": "python",
   "nbconvert_exporter": "python",
   "pygments_lexer": "ipython3",
   "version": "3.11.9"
  }
 },
 "nbformat": 4,
 "nbformat_minor": 2
}
