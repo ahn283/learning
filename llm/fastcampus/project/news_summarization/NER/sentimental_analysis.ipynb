{
 "cells": [
  {
   "cell_type": "markdown",
   "metadata": {},
   "source": [
    "# Sentimental analysis"
   ]
  },
  {
   "cell_type": "markdown",
   "metadata": {},
   "source": [
    "## Classical classification - Finbert Sentiment"
   ]
  },
  {
   "cell_type": "code",
   "execution_count": 1,
   "metadata": {},
   "outputs": [
    {
     "data": {
      "application/vnd.jupyter.widget-view+json": {
       "model_id": "17e86b0da5864cf287dd5e7a3dcd1837",
       "version_major": 2,
       "version_minor": 0
      },
      "text/plain": [
       "config.json:   0%|          | 0.00/758 [00:00<?, ?B/s]"
      ]
     },
     "metadata": {},
     "output_type": "display_data"
    },
    {
     "name": "stderr",
     "output_type": "stream",
     "text": [
      "c:\\Users\\woojin\\anaconda3\\envs\\llm\\Lib\\site-packages\\huggingface_hub\\file_download.py:157: UserWarning: `huggingface_hub` cache-system uses symlinks by default to efficiently store duplicated files but your machine does not support them in C:\\Users\\woojin\\.cache\\huggingface\\hub\\models--ProsusAI--finbert. Caching files will still work but in a degraded version that might require more space on your disk. This warning can be disabled by setting the `HF_HUB_DISABLE_SYMLINKS_WARNING` environment variable. For more details, see https://huggingface.co/docs/huggingface_hub/how-to-cache#limitations.\n",
      "To support symlinks on Windows, you either need to activate Developer Mode or to run Python as an administrator. In order to see activate developer mode, see this article: https://docs.microsoft.com/en-us/windows/apps/get-started/enable-your-device-for-development\n",
      "  warnings.warn(message)\n"
     ]
    },
    {
     "name": "stdout",
     "output_type": "stream",
     "text": [
      "WARNING:tensorflow:From c:\\Users\\woojin\\anaconda3\\envs\\llm\\Lib\\site-packages\\tf_keras\\src\\losses.py:2976: The name tf.losses.sparse_softmax_cross_entropy is deprecated. Please use tf.compat.v1.losses.sparse_softmax_cross_entropy instead.\n",
      "\n"
     ]
    },
    {
     "data": {
      "application/vnd.jupyter.widget-view+json": {
       "model_id": "7126450c53004df6910422dda481db45",
       "version_major": 2,
       "version_minor": 0
      },
      "text/plain": [
       "pytorch_model.bin:   0%|          | 0.00/438M [00:00<?, ?B/s]"
      ]
     },
     "metadata": {},
     "output_type": "display_data"
    },
    {
     "data": {
      "application/vnd.jupyter.widget-view+json": {
       "model_id": "dc10c4340af949038dc71ed1249b6547",
       "version_major": 2,
       "version_minor": 0
      },
      "text/plain": [
       "tokenizer_config.json:   0%|          | 0.00/252 [00:00<?, ?B/s]"
      ]
     },
     "metadata": {},
     "output_type": "display_data"
    },
    {
     "data": {
      "application/vnd.jupyter.widget-view+json": {
       "model_id": "1b00079054eb4e26a167c00ba6f15571",
       "version_major": 2,
       "version_minor": 0
      },
      "text/plain": [
       "vocab.txt:   0%|          | 0.00/232k [00:00<?, ?B/s]"
      ]
     },
     "metadata": {},
     "output_type": "display_data"
    },
    {
     "data": {
      "application/vnd.jupyter.widget-view+json": {
       "model_id": "a2fd5d5ff51d4e56b7a1097d13670260",
       "version_major": 2,
       "version_minor": 0
      },
      "text/plain": [
       "special_tokens_map.json:   0%|          | 0.00/112 [00:00<?, ?B/s]"
      ]
     },
     "metadata": {},
     "output_type": "display_data"
    }
   ],
   "source": [
    "# finbert sentiment\n",
    "# Use a pipeline as a high-level helper\n",
    "from transformers import pipeline\n",
    "\n",
    "pipe = pipeline(\"text-classification\", model=\"ProsusAI/finbert\")"
   ]
  },
  {
   "cell_type": "code",
   "execution_count": 2,
   "metadata": {},
   "outputs": [
    {
     "name": "stdout",
     "output_type": "stream",
     "text": [
      "[{'label': 'positive', 'score': 0.7569195628166199}]\n"
     ]
    }
   ],
   "source": [
    "print(pipe(\"Stock rallied yesterday\"))"
   ]
  },
  {
   "cell_type": "code",
   "execution_count": 4,
   "metadata": {},
   "outputs": [
    {
     "name": "stdout",
     "output_type": "stream",
     "text": [
      "[{'label': 'negative', 'score': 0.9681780338287354}]\n",
      "[{'label': 'negative', 'score': 0.9746080040931702}]\n"
     ]
    }
   ],
   "source": [
    "print(pipe(\"Tesla stock dropped by 25%, but Meta rallied 30%\"))\n",
    "print(pipe(\"Meta rallied 30% but Tesla stock dropped by 25%\"))"
   ]
  },
  {
   "cell_type": "code",
   "execution_count": 8,
   "metadata": {},
   "outputs": [
    {
     "name": "stdout",
     "output_type": "stream",
     "text": [
      "[{'label': 'positive', 'score': 0.9483426809310913}]\n",
      "[{'label': 'negative', 'score': 0.9690130949020386}]\n"
     ]
    }
   ],
   "source": [
    "print(pipe(\"Meta reported strong financial result for Q1 2024\"))\n",
    "print(pipe(\"Tesla released its financial results for Q1 2024, missing Wall Street expectations.\"))"
   ]
  },
  {
   "cell_type": "markdown",
   "metadata": {},
   "source": [
    "# Generative sentimental analysis"
   ]
  },
  {
   "cell_type": "code",
   "execution_count": 9,
   "metadata": {},
   "outputs": [],
   "source": [
    "from langchain_community.chat_models import ChatOllama\n",
    "from openai import OpenAI\n",
    "import keyring\n",
    "\n",
    "llm_llama = ChatOllama(model='llama3.1')\n",
    "llm_openai = OpenAI(\n",
    "    api_key=keyring.get_password('openai', 'key_for_windows')\n",
    ")\n",
    "\n",
    "def get_response_from_llama(prompt):\n",
    "    response = llm_llama.invoke(prompt)\n",
    "    return response.content\n",
    "\n",
    "def get_response_from_openai(prompt):\n",
    "    completion = llm_openai.chat.completions.create(\n",
    "        messages=[\n",
    "            {'role':'user', 'content':prompt}\n",
    "        ],\n",
    "        model='gpt-3.5-turbo',\n",
    "        max_tokens=1024,\n",
    "        temperature=0.0\n",
    "    )\n",
    "    return completion.choices[0].message.content"
   ]
  },
  {
   "cell_type": "code",
   "execution_count": 10,
   "metadata": {},
   "outputs": [
    {
     "name": "stdout",
     "output_type": "stream",
     "text": [
      "긍정적인 문장입니다. (영업이익이 증가했음)\n"
     ]
    }
   ],
   "source": [
    "text_base = \"삼성전자는 연결 기준 올해 1분기 영업이익이 6조 6천억으로 지난해 동기보다 931.25% 증가한 것으로 잠정 집계됐다고 5일 공시했다.\"\n",
    "\n",
    "prompt = f\"\"\"아래 문장을 긍정, 부정, 중립 중 하나로 감정 분석해줘.\n",
    "# 문장\n",
    "{text_base}\"\"\"\n",
    "answer = get_response_from_llama(prompt)\n",
    "print(answer)"
   ]
  },
  {
   "cell_type": "code",
   "execution_count": 12,
   "metadata": {},
   "outputs": [
    {
     "name": "stdout",
     "output_type": "stream",
     "text": [
      "{\"감성\":긍정, \"원문\":\"삼성전자는 연결 기준 올해 1분기 영업이익이 6조 6천억으로 지난해 동기보다 931.25% 증가한 것으로 잠정 집계됐다고 5일 공시했다.\"}\n"
     ]
    }
   ],
   "source": [
    "prompt = f'''아래 문장을 긍정, 부정, 중립 중 하나로 감정 분석해줘.\n",
    "긍정, 부정, 중립 중 분류한 다음, 결과만 대답해줘.\n",
    "\n",
    "아래 포맷 형식대로 작성해줘.\n",
    "{{\"감성\":<긍정/부정/중립>, \"원문\":<텍스트>}}\n",
    "# 문장\n",
    "{text_base}'''\n",
    "\n",
    "answer = get_response_from_llama(prompt)\n",
    "print(answer)"
   ]
  },
  {
   "cell_type": "code",
   "execution_count": 13,
   "metadata": {},
   "outputs": [
    {
     "name": "stdout",
     "output_type": "stream",
     "text": [
      "{\"감성\":<긍정>, \"원문\":\"삼성전자는 연결 기준 올해 1분기 영업이익이 6조 6천억으로 지난해 동기보다 931.25% 증가한 것으로 잠정 집계됐다고 5일 공시했다. 반면에, 순양전자는 올해 1분기 영업이익이 3천억으로 지난해보다 23% 감소한 것으로 공시했습니다.\"}\n"
     ]
    }
   ],
   "source": [
    "text_base_revised = \"\"\"삼성전자는 연결 기준 올해 1분기 영업이익이 6조 6천억으로 지난해 동기보다 931.25% 증가한 것으로 잠정 집계됐다고 5일 공시했다.\n",
    "반면에, 순양전자는 올해 1분기 영업이익이 3천억으로 지난해보다 23% 감소한 것으로 공시했습니다.\"\"\"\n",
    "\n",
    "prompt = f'''아래 문장을 긍정, 부정, 중립 중 하나로 감정 분석해줘.\n",
    "긍정, 부정, 중립 중 분류한 다음, 결과만 대답해줘.\n",
    "\n",
    "아래 포맷 형식대로 작성해줘.\n",
    "{{\"감성\":<긍정/부정/중립>, \"원문\":<텍스트>}}\n",
    "# 문장\n",
    "{text_base_revised}'''\n",
    "\n",
    "answer = get_response_from_llama(prompt)\n",
    "print(answer)\n"
   ]
  },
  {
   "cell_type": "code",
   "execution_count": 15,
   "metadata": {},
   "outputs": [
    {
     "name": "stdout",
     "output_type": "stream",
     "text": [
      "{\"감성\":중립, \"원문\":삼성전자는 연결 기준 올해 1분기 영업이익이 6조 6천억으로 지난해 동기보다 931.25% 증가한 것으로 잠정 집계됐다고 5일 공시했다.}\n",
      "{\"감성\":부정, \"원문\":반면에, 순양전자는 올해 1분기 영업이익이 3천억으로 지난해보다 23% 감소한 것으로 공시했습니다.}\n"
     ]
    }
   ],
   "source": [
    "prompt = f'''아래 문장을 긍정, 부정, 중립 중 하나로 감정 분석해줘.\n",
    "긍정, 부정, 중립 중 분류한 다음, 결과만 대답해줘.\n",
    "\n",
    "아래 포맷 형식대로 작성해줘.\n",
    "{{{{\"감성\":<긍정/부정/중립>, \"원문\":<텍스트1>}}, {{\"감성\":<긍정/부정/중립>, \"원문\":<텍스트2>}}}}\n",
    "# 문장\n",
    "{text_base_revised}'''\n",
    "\n",
    "answer = get_response_from_llama(prompt)\n",
    "print(answer)\n"
   ]
  }
 ],
 "metadata": {
  "kernelspec": {
   "display_name": "llm",
   "language": "python",
   "name": "python3"
  },
  "language_info": {
   "codemirror_mode": {
    "name": "ipython",
    "version": 3
   },
   "file_extension": ".py",
   "mimetype": "text/x-python",
   "name": "python",
   "nbconvert_exporter": "python",
   "pygments_lexer": "ipython3",
   "version": "3.11.9"
  }
 },
 "nbformat": 4,
 "nbformat_minor": 2
}
