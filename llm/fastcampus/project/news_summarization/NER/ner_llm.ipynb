{
 "cells": [
  {
   "cell_type": "code",
   "execution_count": 11,
   "metadata": {},
   "outputs": [],
   "source": [
    "from langchain_community.chat_models import ChatOllama\n",
    "from openai import OpenAI\n",
    "import keyring\n",
    "\n",
    "llm_llama = ChatOllama(model='llama3.1')\n",
    "llm_openai = OpenAI(\n",
    "    api_key=keyring.get_password('openai', 'key_for_windows')\n",
    ")\n",
    "\n",
    "def get_response_from_llama(prompt):\n",
    "    response = llm_llama.invoke(prompt)\n",
    "    return response.content\n",
    "\n",
    "def get_response_from_openai(prompt):\n",
    "    completion = llm_openai.chat.completions.create(\n",
    "        messages=[\n",
    "            {'role':'user', 'content':prompt}\n",
    "        ],\n",
    "        model='gpt-3.5-turbo',\n",
    "        max_tokens=1024,\n",
    "        temperature=0.0\n",
    "    )\n",
    "    return completion.choices[0].message.content\n",
    "\n"
   ]
  },
  {
   "cell_type": "code",
   "execution_count": 12,
   "metadata": {},
   "outputs": [
    {
     "name": "stdout",
     "output_type": "stream",
     "text": [
      "Llama: How's it going? Is there something I can help you with, or would you like to chat?\n",
      "\n",
      "ChatGPT: Hello! How can I assist you today?\n"
     ]
    }
   ],
   "source": [
    "prompt = 'hi'\n",
    "print(f\"Llama: {get_response_from_llama(prompt)}\")\n",
    "print()\n",
    "print(f\"ChatGPT: {get_response_from_openai(prompt)}\")"
   ]
  },
  {
   "cell_type": "code",
   "execution_count": 14,
   "metadata": {},
   "outputs": [
    {
     "name": "stdout",
     "output_type": "stream",
     "text": [
      "아래 문장에서 개체명 인식을 수행하세요.\n",
      "####\n",
      "\n",
      "Mark Zuckerberg laid out Meta's gameplan for \"playing to win\" against Alphabet and Microsoft in the high-stakes AI arms race. Meta's secret weapon: its walled garden of data.\n",
      "\n",
      "\"There are hundreds of billions of publicly shared images and tens of billions of public videos, which we estimate is greater than the common crawl data set,” Zuckerberg said on Meta’s earnings call on Thursday. It was a not-so-subtle jab at competitors Google, Microsoft and OpenAI, which are training their AI models on the public web data crawled by their search engines every day.\n",
      "\n",
      "\n"
     ]
    }
   ],
   "source": [
    "document = '''\n",
    "Mark Zuckerberg laid out Meta's gameplan for \"playing to win\" against Alphabet and Microsoft in the high-stakes AI arms race. Meta's secret weapon: its walled garden of data.\n",
    "\n",
    "\"There are hundreds of billions of publicly shared images and tens of billions of public videos, which we estimate is greater than the common crawl data set,” Zuckerberg said on Meta’s earnings call on Thursday. It was a not-so-subtle jab at competitors Google, Microsoft and OpenAI, which are training their AI models on the public web data crawled by their search engines every day.\n",
    "'''\n",
    "prompt_base = f\"\"\"아래 문장에서 개체명 인식을 수행하세요.\n",
    "####\n",
    "{document}\n",
    "\"\"\"\n",
    "print(prompt_base)"
   ]
  },
  {
   "cell_type": "code",
   "execution_count": 15,
   "metadata": {},
   "outputs": [
    {
     "name": "stdout",
     "output_type": "stream",
     "text": [
      "아래는 개체명 인식을 수행한 결과입니다.\n",
      "\n",
      "* Mark Zuckerberg : 사람\n",
      "* Meta : 회사(미국)\n",
      "* Alphabet : 회사(미국)\n",
      "* Microsoft : 회사(미국)\n"
     ]
    }
   ],
   "source": [
    "answer_base_llama = get_response_from_llama(prompt_base)\n",
    "print(answer_base_llama)"
   ]
  },
  {
   "cell_type": "code",
   "execution_count": 16,
   "metadata": {},
   "outputs": [
    {
     "name": "stdout",
     "output_type": "stream",
     "text": [
      "다음은 주어진 문장에서 사람 이름(PERSON)과 기업 이름(ORG)을 추출한 결과입니다:\n",
      "\n",
      "* 사람 이름(PERSON): \n",
      "  Mark Zuckerberg\n",
      "* 기업 이름(ORG): \n",
      "  Meta \n",
      "  Alphabet \n",
      "  Microsoft \n",
      "  Google \n",
      "  OpenAI\n"
     ]
    }
   ],
   "source": [
    "prompt_add_guide = f\"\"\"아래 문장에서 개체명 인식을 수행하세요.\n",
    "아래 문장에서 사람 이름(PERSON), 기업 이름(ORG)에 해당하는 엔티티만을 추출하세요.\n",
    "####\n",
    "{document}\n",
    "\"\"\"\n",
    "\n",
    "answer_add_guide_llama = get_response_from_llama(prompt_add_guide)\n",
    "print(answer_add_guide_llama)"
   ]
  },
  {
   "cell_type": "code",
   "execution_count": 18,
   "metadata": {},
   "outputs": [
    {
     "name": "stdout",
     "output_type": "stream",
     "text": [
      "MARK ZUCKERBERG (PERSON): Mark Zuckerberg\n",
      "META (ORG): Meta\n",
      "ALPHABET (ORG): Alphabet\n",
      "MICROSOFT (ORG): Microsoft \n",
      "GOOGLE (ORG): Google\n",
      "OPENAI (ORG): OpenAI\n"
     ]
    }
   ],
   "source": [
    "prompt_output = f\"\"\"아래 문장에서 개체명 인식을 수행하세요.\n",
    "아래 문장에서 사람 이름(PERSON), 기업 이름(ORG)에 해당하는 엔티티만을 추출하세요.\n",
    "출력 결과는 분류결과(PERSON/ORG): alias 형식으로 출력하세요.\n",
    "####\n",
    "{document}\n",
    "\"\"\"\n",
    "\n",
    "answer_output_llama = get_response_from_llama(prompt_output)\n",
    "print(answer_output_llama)"
   ]
  },
  {
   "cell_type": "code",
   "execution_count": 19,
   "metadata": {},
   "outputs": [
    {
     "name": "stdout",
     "output_type": "stream",
     "text": [
      "Mark Zuckerberg: PERSON\n",
      "Meta: ORG\n",
      "Alphabet: ORG\n",
      "Microsoft: ORG\n",
      "OpenAI: ORG\n"
     ]
    }
   ],
   "source": [
    "prompt_improvement = f\"\"\"아래 문장에서 개체명 인식을 수행하세요.\n",
    "아래 문장에서 사람 이름(PERSON), 기업 이름(ORG)에 해당하는 엔티티만을 추출하세요.\n",
    "출력 결과는 alias: 분류결과(PERSON/ORG) 형식으로 한 줄에 한 결과씩 출력하세요.\n",
    "####\n",
    "{document}\n",
    "\"\"\"\n",
    "\n",
    "answer_improvement_llama = get_response_from_llama(prompt_improvement)\n",
    "print(answer_improvement_llama)"
   ]
  },
  {
   "cell_type": "code",
   "execution_count": 20,
   "metadata": {},
   "outputs": [
    {
     "name": "stdout",
     "output_type": "stream",
     "text": [
      "{\"entities\": [\n",
      "\t{\n",
      "\t\t\"alias\": \"Mark Zuckerberg\",\n",
      "\t\t\"category\": \"PERSON\"\n",
      "\t},\n",
      "\t{\n",
      "\t\t\"alias\": \"Meta\",\n",
      "\t\t\"category\": \"ORG\"\n",
      "\t},\n",
      "\t{\n",
      "\t\t\"alias\": \"Alphabet\",\n",
      "\t\t\"category\": \"ORG\"\n",
      "\t},\n",
      "\t{\n",
      "\t\t\"alias\": \"Microsoft\",\n",
      "\t\t\"category\": \"ORG\"\n",
      "\t},\n",
      "\t{\n",
      "\t\t\"alias\": \"Google\",\n",
      "\t\t\"category\": \"ORG\"\n",
      "\t},\n",
      "\t{\n",
      "\t\t\"alias\": \"OpenAI\",\n",
      "\t\t\"category\": \"ORG\"\n",
      "\t}\n",
      "]}\n"
     ]
    }
   ],
   "source": [
    "prompt_json = f\"\"\"아래 문장에서 개체명 인식을 수행하세요.\n",
    "아래 문장에서 사람 이름(PERSON), 기업 이름(ORG)에 해당하는 엔티티만을 추출하세요.\n",
    "출력 결과는 json 포맷으로 alias: 분류결과(PERSON/ORG)를 출력하세요.\n",
    "####\n",
    "{document}\n",
    "\"\"\"\n",
    "answer_json_llama = get_response_from_llama(prompt_json)\n",
    "print(answer_json_llama)"
   ]
  },
  {
   "cell_type": "code",
   "execution_count": 22,
   "metadata": {},
   "outputs": [
    {
     "name": "stdout",
     "output_type": "stream",
     "text": [
      "{0: {\"text\": \"Mark Zuckerberg\", \"entity\": \"PERSON\"}, 1: {\"text\": \"Meta\", \"entity\": \"ORG\"}, \n",
      "2: {\"text\": \"Alphabet\", \"entity\": \"ORG\"}, \n",
      "3: {\"text\": \"Microsoft\", \"entity\": \"ORG\"}, \n",
      "4: {\"text\": \"Google\", \"entity\": \"ORG\"}, \n",
      "5: {\"text\": \"OpenAI\", \"entity\": \"ORG\"}}\n"
     ]
    }
   ],
   "source": [
    "prompt_json_2 = f\"\"\"아래 문장에서 개체명 인식을 수행하세요.\n",
    "아래 문장에서 사람 이름(PERSON), 기업 이름(ORG)에 해당하는 엔티티만을 추출하세요.\n",
    "출력 결과는 json 포맷으로 {{0:{{\"text\": alias, \"entity\":분류결과(PERSON/ORG)}}, 1:...}} 형식으로 출력하세요.\n",
    "####\n",
    "{document}\n",
    "\"\"\"\n",
    "\n",
    "answer_json_2_llama = get_response_from_llama(prompt_json_2)\n",
    "print(answer_json_2_llama)"
   ]
  },
  {
   "cell_type": "code",
   "execution_count": 25,
   "metadata": {},
   "outputs": [
    {
     "name": "stdout",
     "output_type": "stream",
     "text": [
      "일단 개체명 인식을 수행한 결과입니다.\n",
      "\n",
      "```json\n",
      "[0:{\"text\": \"Mark Zuckerberg\", \"entity\":\"PERSON\", \"position\": [0, 16]},\n",
      "1:{\"text\": \"Meta\", \"entity\":\"ORG\", \"position\":[29,34]},\n",
      "2:{\"text\": \"Alphabet\", \"entity\":\"ORG\", \"position\":[56,65]},\n",
      "3:{\"text\": \"Microsoft\", \"entity\":\"ORG\", \"position\":[68,79]},\n",
      "4:{\"text\": \"Mark Zuckerberg\", \"entity\":\"PERSON\", \"position\":[86,102]}]\n",
      "```\n"
     ]
    }
   ],
   "source": [
    "prompt_position = f\"\"\"아래 문장에서 개체명 인식을 수행하세요.\n",
    "아래 문장에서 사람 이름(PERSON), 기업 이름(ORG)에 해당하는 엔티티만을 추출하세요.\n",
    "엔터티의 문장 내 몇 번째 문자[start, end]인지 함께 출력하세요.\n",
    "출력 결과는 json 포맷으로 {{0:{{\"text\": alias, \"entity\":분류결과(PERSON/ORG), \"position\": [0, 2]}}, 1:...}} 형식으로 출력하세요.\n",
    "####\n",
    "{document}\n",
    "\"\"\"\n",
    "answer_position_llama = get_response_from_llama(prompt_position)\n",
    "print(answer_position_llama)"
   ]
  }
 ],
 "metadata": {
  "kernelspec": {
   "display_name": "llm",
   "language": "python",
   "name": "python3"
  },
  "language_info": {
   "codemirror_mode": {
    "name": "ipython",
    "version": 3
   },
   "file_extension": ".py",
   "mimetype": "text/x-python",
   "name": "python",
   "nbconvert_exporter": "python",
   "pygments_lexer": "ipython3",
   "version": "3.11.9"
  }
 },
 "nbformat": 4,
 "nbformat_minor": 2
}
