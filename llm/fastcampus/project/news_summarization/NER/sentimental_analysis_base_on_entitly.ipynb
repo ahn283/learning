{
 "cells": [
  {
   "cell_type": "code",
   "execution_count": 1,
   "metadata": {},
   "outputs": [],
   "source": [
    "from langchain_community.chat_models import ChatOllama\n",
    "from openai import OpenAI\n",
    "import keyring\n",
    "\n",
    "llm_llama = ChatOllama(model='llama3.1')\n",
    "llm_openai = OpenAI(\n",
    "    api_key=keyring.get_password('openai', 'key_for_windows')\n",
    ")\n",
    "\n",
    "def get_response_from_llama(prompt):\n",
    "    response = llm_llama.invoke(prompt)\n",
    "    return response.content\n",
    "\n",
    "def get_response_from_openai(prompt):\n",
    "    completion = llm_openai.chat.completions.create(\n",
    "        messages=[\n",
    "            {'role':'user', 'content':prompt}\n",
    "        ],\n",
    "        model='gpt-3.5-turbo',\n",
    "        max_tokens=1024,\n",
    "        temperature=0.0\n",
    "    )\n",
    "    return completion.choices[0].message.content"
   ]
  },
  {
   "cell_type": "code",
   "execution_count": 4,
   "metadata": {},
   "outputs": [
    {
     "name": "stdout",
     "output_type": "stream",
     "text": [
      "* 패캠전자 \n",
      "* 패캠자동차\n"
     ]
    }
   ],
   "source": [
    "text = \"패캠전자는 올해 1분기 매출이 20% 증가했다고 발표했습니다. 반면, 패캠자동차는 작년 대비 1분기 매출이 15% 감소할 것이라고 전망했습니다.\"\n",
    "\n",
    "prompt = f'''다음 문장에서 엔터티를 추출하세요.\n",
    "# 문장\n",
    "{text}\n",
    "'''\n",
    "\n",
    "answer = get_response_from_llama(prompt)\n",
    "print(answer)"
   ]
  },
  {
   "cell_type": "code",
   "execution_count": 5,
   "metadata": {},
   "outputs": [
    {
     "name": "stdout",
     "output_type": "stream",
     "text": [
      "주어진 문장에서, 다음과 같은 감성이 표현됩니다.\n",
      "\n",
      "*   **패캠전자는 성공적이었다.** 패캠전자의 매출이 올해 1분기 매출이 20% 증가했다는 것은, 패캠전자가 잘 수행된 것이라는 것을 의미합니다.\n",
      "*   **패캠자동차는 실패하고 있다.** 반면, 패캰자동차의 매출은 작년 대비 15% 감소할 것이라고 전망되었다는 것은, 패캠자동차가 잘못된 방향으로 가고 있는 것이라는 것을 의미합니다.\n"
     ]
    }
   ],
   "source": [
    "prompt = f'''주어진 문장에서, 주어진 엔터티에 대한 감성을 분석하시오.\n",
    "# 문장\n",
    "{text}\n",
    "# 엔터티\n",
    "{answer}\n",
    "'''\n",
    "\n",
    "answer_absa = get_response_from_llama(prompt)\n",
    "print(answer_absa)"
   ]
  },
  {
   "cell_type": "code",
   "execution_count": 9,
   "metadata": {},
   "outputs": [
    {
     "name": "stdout",
     "output_type": "stream",
     "text": [
      "텍스트에서 추출된 엔티티는 다음과 같습니다.\n",
      "\n",
      "*   패캠전자\n",
      "*   패캠자동차\n",
      "\n",
      "패캠전자의 경우, 기업명으로 인지되어감성분석을 하게되면 긍정적인 감성이 아닌, 중립적이다. 이는 텍스트 내에서 이 엔티티에 대한 특정한 감정이 표현되지 않았기 때문입니다.\n",
      "\n",
      "반면 패캠자동차의 경우, 감성을 분석하여서 매우 부정적인감성이 드러난다. 이는 텍스트 내에서 \"15% 감소\"라는 문구가 사용되었기 때문입니다.\n"
     ]
    }
   ],
   "source": [
    "# combined prompt\n",
    "prompt_combined = f'''다음 텍스트에서 기업명에 해당하는 엔티티를 추출하고, 추출된 엔티티에 대한 감성을 분석하세요.\n",
    "\n",
    "# 텍스트\n",
    "{text}\n",
    "'''\n",
    "answer_combined = get_response_from_llama(prompt_combined)\n",
    "print(answer_combined)"
   ]
  },
  {
   "cell_type": "code",
   "execution_count": 10,
   "metadata": {},
   "outputs": [
    {
     "name": "stdout",
     "output_type": "stream",
     "text": [
      "{패캠전자:0(긍정적인 성과를 발표함으로써), 패캠자동차:-10(비록 전망만 나왔지만, 음서적 이미지를 가지게 하는 내용)}\n"
     ]
    }
   ],
   "source": [
    "# combined prompt\n",
    "prompt_combined = f'''다음 텍스트에서 기업명에 해당하는 엔티티를 추출하고, 추출된 엔티티에 대한 감성을 분석하세요.\n",
    "출력 포맷은 다음과 같습니다.\n",
    "{{<기업명>:<감성>(이유), ...}}\n",
    "# 텍스트\n",
    "{text}\n",
    "'''\n",
    "answer_combined = get_response_from_llama(prompt_combined)\n",
    "print(answer_combined)"
   ]
  }
 ],
 "metadata": {
  "kernelspec": {
   "display_name": "llm",
   "language": "python",
   "name": "python3"
  },
  "language_info": {
   "codemirror_mode": {
    "name": "ipython",
    "version": 3
   },
   "file_extension": ".py",
   "mimetype": "text/x-python",
   "name": "python",
   "nbconvert_exporter": "python",
   "pygments_lexer": "ipython3",
   "version": "3.11.9"
  }
 },
 "nbformat": 4,
 "nbformat_minor": 2
}
