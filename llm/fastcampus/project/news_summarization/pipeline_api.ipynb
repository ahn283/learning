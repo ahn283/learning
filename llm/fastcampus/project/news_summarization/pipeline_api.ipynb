{
 "cells": [
  {
   "cell_type": "markdown",
   "metadata": {},
   "source": [
    "# 테스트"
   ]
  },
  {
   "cell_type": "code",
   "execution_count": 1,
   "metadata": {},
   "outputs": [],
   "source": [
    "import keyring\n",
    "from openai import OpenAI\n",
    "from langchain_community.chat_models import ChatOllama\n",
    "\n",
    "OPENAI_API_KEY = keyring.get_password('openai', 'key_for_windows')\n",
    "\n",
    "gpt_model = 'gpt-3.5-turbo-0125'\n",
    "query = 'HBM 반도체에 대해서 설명해줘.'\n",
    "\n",
    "llm_gpt = OpenAI(\n",
    "    api_key=OPENAI_API_KEY,\n",
    ")\n",
    "\n",
    "llm_llama = ChatOllama(\n",
    "    model='llama3.1'\n",
    ")"
   ]
  },
  {
   "cell_type": "code",
   "execution_count": 2,
   "metadata": {},
   "outputs": [],
   "source": [
    "# openai\n",
    "# response = llm_gpt.chat.completions.create(\n",
    "#     model=gpt_model,\n",
    "#     messages=[\n",
    "#         {\n",
    "#             \"role\":\"system\",\n",
    "#             \"content\":\"You are a helpful assistant.\"\n",
    "#         },{\n",
    "#             \"role\":\"user\",\n",
    "#             \"content\":query\n",
    "#         }\n",
    "#     ],\n",
    "# )\n",
    "\n",
    "# answer = response.choices[0].message.content\n",
    "# print(answer)"
   ]
  },
  {
   "cell_type": "code",
   "execution_count": 3,
   "metadata": {},
   "outputs": [
    {
     "name": "stdout",
     "output_type": "stream",
     "text": [
      "HBM(고속이중반도체메모리, High-Bandwidth Memory) 란?\n",
      "\n",
      "HBM은 2013년 AMD가 발표한 고성능의 메모리 기술입니다. HBM은 전통적인 DRAM과 다르게, 메인보드에 탑재하는 소켓을 통해 반도체와 접속하지 않고, PCB(Printed Circuit Board)에서 하이브리드 패키지로 만든 메모리 모듈을 사용한다는 점이 특징입니다.\n",
      "\n",
      "HBM은 3D 스타크스(Silicon Interconnects by TSV: Through Silicon Via) 구조를 사용하여, 전력 및 데이터가 직접 반도체 사이에 이동하는 thing인 TSV를 통해 데이터 전송속도가 매우 빠르게 구현되었습니다. HBM-100과 HBM-200을 시작으로 2018년 AMD가 공개한 HBM2는 3D 스타크스를 활용해 데이터 전송 속도와 용량이 증가했습니다.\n",
      "\n",
      "HBM의 특징은 다음과 같습니다.\n",
      "\n",
      "1. 고성능: HBM의 데이터 전송 속도는 DDR4 DRAM의 약 5배에 달합니다.\n",
      "2. 저전력: HBM은 전통적인 DRAM과 비교해 전력을 크게 절감할 수 있습니다.\n",
      "3. 고용량: HBM은 1기가바이트 이상을 저장할 수 있는 큰 용량을 자랑합니다.\n",
      "\n",
      "HBM은 그래픽 카드에서 특히 유용한데, GPU에 대한 데이터 전송 속도를 높여주기 때문입니다. 또한, HBM2는 2018년 AMD가 공개한 라이젠 CPU의 고성능 버전인 라이젠 7 2700X의 메모리 기술로 사용되었습니다.\n",
      "\n",
      "HBM은 향후 몇 년간 PC의 메모리 기술로 각광받게 될 것 같습니다.\n"
     ]
    }
   ],
   "source": [
    "# llama\n",
    "completion = llm_llama.invoke(query)\n",
    "answer = completion.content\n",
    "print(answer)"
   ]
  },
  {
   "cell_type": "code",
   "execution_count": 4,
   "metadata": {},
   "outputs": [
    {
     "name": "stdout",
     "output_type": "stream",
     "text": [
      "HBM(High Bandwidth Memory)은 높은 대역폭을 갖는 메모리 기술로, CPU나 GPU와 같은 칩과 직접적으로 연결되어 빠른 데이터 전송을 가능하게 합니다. HBM은 일반적인 GDDR 메모리보다 대역폭이 더 높고 전력 효율성이 우수하며, 더 작은 공간을 차지하는 장점을 갖고 있습니다. 이러한 특징들로 인해 HBM은 주로 고성능 컴퓨팅 시스템이나 그래픽 카드에서 사용되어 더 나은 성능을 제공합니다.\n"
     ]
    }
   ],
   "source": [
    "%load_ext autoreload\n",
    "%autoreload 2\n",
    "from pipeline_api import chatgpt_generate, llama_generate\n",
    "\n",
    "response = chatgpt_generate(query)\n",
    "print(response)"
   ]
  },
  {
   "cell_type": "code",
   "execution_count": 5,
   "metadata": {},
   "outputs": [
    {
     "name": "stdout",
     "output_type": "stream",
     "text": [
      "Hi-Bridge Metal (HBM) 반도체는 2020년 11월에 Nvidia가 발표한 High Bandwidth Memory (HBM3)의 구현이 담긴 반도체이다. HBM3는 메모리 인터페이스와 DRAM을 한 몸으로 구성된 반도체로, 이는 CPU의 수요를 줄여 시스템의 전력소비를 감소시키고 가속기를 위한 높은 데이터 전송률을 제공한다.\n",
      "\n",
      "HBM3는 전장 1,000mm^2 (12.5cm^2), 대략 10,000만 gate, 18nm 공정에서 제작된다. 이 반도체에는 9GB DDR4의 메모리를 지니고 있으며, 전송속도 19.2Gbps, 전송률은 4.8Tbps이다.\n",
      "\n",
      "HBM3는 가속기를 위한 높은 데이터 전송률을 제공하며, 전력소비를 줄여 시스템의 전력 소비를 감소시키는데 도움이 된다. 이 반도체는 Nvidia의 RTX4000 GPU와 같은 가속기에서 사용된다.\n",
      "\n",
      "HBM3는 2022년 4월에 넷플릭스와 함께 발표되었다.\n"
     ]
    }
   ],
   "source": [
    "response = llama_generate(query)\n",
    "print(response)"
   ]
  },
  {
   "cell_type": "code",
   "execution_count": 6,
   "metadata": {},
   "outputs": [],
   "source": [
    "text = \"패스트캠퍼스 주가는 상승했는데 반해, 세컨드캠퍼스 매출은 하락세다.\"\n",
    "prompt = f'''아래 뉴스에서 기업명을 모두 추출하고, 기업에 해당하는 감성을 분석하시오.\n",
    "각 감성에 스코어링을 하시오. 각 스코어의 합은 1이 되어야 합니다. 소수점 첫번째까지만 생성하세요.\n",
    "출력포맷은 리스트이며, 세부 내용은 다음과 같습니다.\n",
    "[{{\"organization\":<기업명>, \"positive\":0~1, \"negative\":0~1, \"neutral\":0~1}}, ...]\n",
    "\n",
    "#뉴스\n",
    "{text}'''"
   ]
  },
  {
   "cell_type": "code",
   "execution_count": 7,
   "metadata": {},
   "outputs": [
    {
     "name": "stdout",
     "output_type": "stream",
     "text": [
      "리스트의 내용입니다.\n",
      "\n",
      "[{\"organization\":\"패스트캠퍼스\", \"positive\":0.2, \"negative\":0.8, \"neutral\":0.0}, {\"organization\":\"세컨드캠퍼스\", \"positive\":0.3, \"negative\":0.7, \"neutral\":0.0}]\n"
     ]
    }
   ],
   "source": [
    "answer = llama_generate(prompt)\n",
    "print(answer)"
   ]
  },
  {
   "cell_type": "code",
   "execution_count": 8,
   "metadata": {},
   "outputs": [
    {
     "data": {
      "text/plain": [
       "['Microsoft makes another bid for A.I. supremacy\\n\\nThe heavyweight fight to dominate artificial intelligence just entered a new round. Microsoft has poached an A.I. pioneer just as Apple and Google discuss forming a united front to make up lost ground.\\n\\nThe latest maneuvers add serious firepower to Microsoft’s bid to lead in artificial intelligence. But they could lead to more regulatory scrutiny into the company’s deal making in this high-stakes sector.\\n\\nMicrosoft hired a former Google executive to run its consumer A.I unit. Mustafa Suleyman co-founded DeepMind, a British start-up that was acquired by the search giant in 2014 and became the heart of its A.I. push. He left in 2022 and started Inflection AI with Reid Hoffman, the LinkedIn co-founder, raising billions — including from Microsoft.\\n\\nThe tech giant also hired most of Inflection’s employees, including the chief scientist Karén Simonyan.',\n",
       " 'Impeding innovation. Reducing consumer choice. Extending dominance to other markets.\\n\\nThese are accusations that the Justice Department leveled against a technology giant it accused of running an illegal monopoly. But they aren’t from this week’s antitrust lawsuit against Apple — they’re from the case the department brought against Microsoft in 1998.\\n\\nThe move against Apple is, along with the Justice Department’s 2020 lawsuit against Google over search, perhaps the most ambitious tech antitrust battle since the Clinton administration’s effort to open up Microsoft’s Windows operating system.\\n\\nAnd federal prosecutors are explicitly connecting the Apple lawsuit to that earlier fight. “They’re really presenting this case as a successor to that: Microsoft 2.0,” said Gus Hurwitz, a senior fellow at the University of Pennsylvania Carey Law School.\\n\\nBut the comparison isn’t perfect. And it isn’t clear whether the Justice Department will be able to achieve here what it claims to have done by suing Microsoft.',\n",
       " 'Impeding innovation. Reducing consumer choice. Extending dominance to other markets.\\n\\nThese are accusations that the Justice Department leveled against a technology giant it accused of running an illegal monopoly. But they aren’t from this week’s antitrust lawsuit against Apple — they’re from the case the department brought against Microsoft in 1998.\\n\\nThe move against Apple is, along with the Justice Department’s 2020 lawsuit against Google over search, perhaps the most ambitious tech antitrust battle since the Clinton administration’s effort to open up Microsoft’s Windows operating system.\\n\\nAnd federal prosecutors are explicitly connecting the Apple lawsuit to that earlier fight. “They’re really presenting this case as a successor to that: Microsoft 2.0,” said Gus Hurwitz, a senior fellow at the University of Pennsylvania Carey Law School.\\n\\nBut the comparison isn’t perfect. And it isn’t clear whether the Justice Department will be able to achieve here what it claims to have done by suing Microsoft.']"
      ]
     },
     "execution_count": 8,
     "metadata": {},
     "output_type": "execute_result"
    }
   ],
   "source": [
    "from pipeline_api import chatgpt_generate, llama_generate, get_url, url_crawling, get_prompt\n",
    "\n",
    "df = get_url('microsoft')\n",
    "texts = url_crawling(df)\n",
    "texts"
   ]
  },
  {
   "cell_type": "code",
   "execution_count": 9,
   "metadata": {},
   "outputs": [
    {
     "name": "stdout",
     "output_type": "stream",
     "text": [
      "------\n",
      "[{\"organization\":\"Microsoft\", \"positive\":0.6, \"negative\":0.2, \"neutral\":0.2},\n",
      " {\"organization\":\"A.I.\", \"positive\":0.8, \"negative\":0.1, \"neutral\":0.1},\n",
      " {\"organization\":\"Apple\", \"positive\":0.4, \"negative\":0.3, \"neutral\":0.3},\n",
      " {\"organization\":\"Google\", \"positive\":0.7, \"negative\":0.2, \"neutral\":0.1},\n",
      " {\"organization\":\"DeepMind\", \"positive\":0.9, \"negative\":0.08, \"neutral\":0.02},\n",
      " {\"organization\":\"Inflection AI\", \"positive\":0.6, \"negative\":0.3, \"neutral\":0.1}]\n",
      "[{'organization': 'Microsoft', 'positive': 0.6, 'negative': 0.2, 'neutral': 0.2}, {'organization': 'A.I.', 'positive': 0.8, 'negative': 0.1, 'neutral': 0.1}, {'organization': 'Apple', 'positive': 0.4, 'negative': 0.3, 'neutral': 0.3}, {'organization': 'Google', 'positive': 0.7, 'negative': 0.2, 'neutral': 0.1}, {'organization': 'DeepMind', 'positive': 0.9, 'negative': 0.08, 'neutral': 0.02}, {'organization': 'Inflection AI', 'positive': 0.6, 'negative': 0.3, 'neutral': 0.1}]\n"
     ]
    }
   ],
   "source": [
    "text = texts[0]\n",
    "prompt = get_prompt(text)\n",
    "answer = llama_generate(prompt)\n",
    "print('------')\n",
    "print(answer)\n",
    "# python 객체로 변환\n",
    "print(eval(answer))"
   ]
  },
  {
   "cell_type": "code",
   "execution_count": 10,
   "metadata": {},
   "outputs": [
    {
     "data": {
      "application/vnd.jupyter.widget-view+json": {
       "model_id": "b5b13273a12344b8a72e654fb4c1a0bd",
       "version_major": 2,
       "version_minor": 0
      },
      "text/plain": [
       "  0%|          | 0/2 [00:00<?, ?it/s]"
      ]
     },
     "metadata": {},
     "output_type": "display_data"
    },
    {
     "name": "stdout",
     "output_type": "stream",
     "text": [
      "[{\"organization\":\"Microsoft\", \"positive\":0.7, \"negative\":0.1, \"neutral\":0.2},\n",
      " {\"organization\":\"Apple\", \"positive\":0.6, \"negative\":0.3, \"neutral\":0.1},\n",
      " {\"organization\":\"Google\", \"positive\":0.5, \"negative\":0.4, \"neutral\":0.1},\n",
      " {\"organization\":\"DeepMind\", \"positive\":0.2, \"negative\":0.4, \"neutral\":0.4},\n",
      " {\"organization\":\"Inflection AI\", \"positive\":0.3, \"negative\":0.2, \"neutral\":0.5}]\n",
      "[{\"organization\":\"Justice Department\", \"positive\":0, \"negative\":1, \"neutral\":0}, \n",
      " {\"organization\":\"Apple\", \"positive\":0, \"negative\":0, \"neutral\":1}, \n",
      " {\"organization\":\"Google\", \"positive\":0, \"negative\":0, \"neutral\":1}, \n",
      " {\"organization\":\"Microsoft\", \"positive\":0, \"negative\":1, \"neutral\":0}]\n",
      "[{\"organization\":\"Apple\", \"positive\":0.2, \"negative\":0.8, \"neutral\":0.0}, \n",
      " {\"organization\":\"Microsoft\", \"positive\":0.3, \"negative\":0.4, \"neutral\":0.3}, \n",
      " {\"organization\":\"Google\", \"positive\":0.1, \"negative\":0.6, \"neutral\":0.3}]\n",
      " [{\"organization\":\"Apple\", \"positive\":0.3, \"negative\":0.7, \"neutral\":0.0}, \n",
      "\n",
      " {\"organization\":\"Justice Department\", \"positive\":1.0, \"negative\":0.0, \"neutral\":0.0}, \n",
      "\n",
      " {\"organization\":\"iPhones\", \"positive\":0.2, \"negative\":0.8, \"neutral\":0.0}, \n",
      "\n",
      " {\"organization\":\"app developers\", \"positive\":0.6, \"negative\":0.4, \"neutral\":0.0}, \n",
      "\n",
      " {\"organization\":\"rival device makers\", \"positive\":0.7, \"negative\":0.3, \"neutral\":0.0}]\n",
      "[{\"organization\":\"Apple\", \"positive\":0.1, \"negative\":0.6, \"neutral\":0.3},\n",
      " {\"organization\":\"Microsoft\", \"positive\":0.2, \"negative\":0.4, \"neutral\":0.4},\n",
      " {\"organization\":\"Google\", \"positive\":0.2, \"negative\":0.2, \"neutral\":0.6}]\n",
      "[{\"organization\": \"Microsoft\", \"positive\": 0.5, \"negative\": 0.3, \"neutral\": 0.2},\n",
      " {\"organization\": \"Apple\", \"positive\": 0.1, \"negative\": 0.7, \"neutral\": 0.2},\n",
      " {\"organization\": \"Google\", \"positive\": 0.4, \"negative\": 0.4, \"neutral\": 0.2}]\n",
      "[{\"organization\":\"Justice Department\", \"positive\":0, \"negative\":0, \"neutral\":1}, \n",
      " {\"organization\":\"Apple\", \"positive\":0, \"negative\":0.8, \"neutral\":0.2}, \n",
      " {\"organization\":\"Google\", \"positive\":0, \"negative\":0.7, \"neutral\":0.3}, \n",
      " {\"organization\":\"JetBlue Airways\", \"positive\":0, \"negative\":0, \"neutral\":1}]\n",
      "[{\"organization\":\"Microsoft\", \"positive\":0.6, \"negative\":0.2, \"neutral\":0.2}, \n",
      " {\"organization\":\"Apple\", \"positive\":0.3, \"negative\":0.1, \"neutral\":0.6}, \n",
      " {\"organization\":\"Google\", \"positive\":0.4, \"negative\":0.1, \"neutral\":0.5}, \n",
      " {\"organization\":\"DeepMind\", \"positive\":0.2, \"negative\":0.1, \"neutral\":0.7}, \n",
      " {\"organization\":\"Inflection AI\", \"positive\":0.3, \"negative\":0.1, \"neutral\":0.6}]\n",
      "This is a transcript of an episode of \"The Run-Up\", a podcast hosted by Ashtead Herndon. The episode features Robert F. Kennedy Jr., the candidate for the 2024 Democratic presidential nomination, discussing his campaign and criticizing the media's coverage of him.\n",
      "\n",
      "Here are some key points from the conversation:\n",
      "\n",
      "* RFK Jr. believes that the media, particularly \"The New York Times\", is biased against him and is not giving him a fair chance.\n",
      "* He argues that most Americans do not want to see a repeat of the 2020 election between Biden and Trump, and therefore deserve alternative options.\n",
      "* Kennedy criticizes the Democratic Party's handling of his candidacy, saying that they are trying to suppress his campaign and prevent him from getting on the ballot in all 50 states.\n",
      "\n",
      "The transcript also includes an analysis by Ashtead Herndon of RFK Jr.'s campaign, which she believes is a spoiler effort rather than a serious bid for the presidency. She notes that Kennedy's message is not about calling back to a more populist version of the Democratic Party, but rather about being convinced of his own convictions and viability despite the evidence against him.\n",
      "\n",
      "The episode also includes archived recordings of news reports from around the country, which are used to provide context and background information on the 2024 presidential election.\n"
     ]
    },
    {
     "ename": "SyntaxError",
     "evalue": "unterminated string literal (detected at line 1) (<string>, line 1)",
     "output_type": "error",
     "traceback": [
      "Traceback \u001b[1;36m(most recent call last)\u001b[0m:\n",
      "\u001b[0m  File \u001b[0;32mc:\\Users\\woojin\\anaconda3\\envs\\spacy_ner\\lib\\site-packages\\IPython\\core\\interactiveshell.py:3577\u001b[0m in \u001b[0;35mrun_code\u001b[0m\n    exec(code_obj, self.user_global_ns, self.user_ns)\u001b[0m\n",
      "\u001b[1;36m  Cell \u001b[1;32mIn[10], line 12\u001b[1;36m\n\u001b[1;33m    result.append(eval(answer))\u001b[1;36m\n",
      "\u001b[1;36m  File \u001b[1;32m<string>:1\u001b[1;36m\u001b[0m\n\u001b[1;33m    This is a transcript of an episode of \"The Run-Up\", a podcast hosted by Ashtead Herndon. The episode features Robert F. Kennedy Jr., the candidate for the 2024 Democratic presidential nomination, discussing his campaign and criticizing the media's coverage of him.\u001b[0m\n\u001b[1;37m                                                                                                                                                                                                                                                         ^\u001b[0m\n\u001b[1;31mSyntaxError\u001b[0m\u001b[1;31m:\u001b[0m unterminated string literal (detected at line 1)\n"
     ]
    }
   ],
   "source": [
    "from tqdm.notebook import tqdm\n",
    "\n",
    "result = []\n",
    "orgs = [\"microsoft\", \"apple\"]\n",
    "for org in tqdm(orgs):\n",
    "    df = get_url(org)\n",
    "    texts = url_crawling(df)\n",
    "    for text in texts:\n",
    "        prompt = get_prompt(text)\n",
    "        answer = llama_generate(prompt)\n",
    "        print(answer)\n",
    "        result.append(eval(answer))\n",
    "print(result)"
   ]
  }
 ],
 "metadata": {
  "kernelspec": {
   "display_name": "spacy_ner",
   "language": "python",
   "name": "python3"
  },
  "language_info": {
   "codemirror_mode": {
    "name": "ipython",
    "version": 3
   },
   "file_extension": ".py",
   "mimetype": "text/x-python",
   "name": "python",
   "nbconvert_exporter": "python",
   "pygments_lexer": "ipython3",
   "version": "3.10.0"
  }
 },
 "nbformat": 4,
 "nbformat_minor": 2
}
