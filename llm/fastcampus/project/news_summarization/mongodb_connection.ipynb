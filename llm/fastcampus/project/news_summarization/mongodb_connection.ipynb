{
 "cells": [
  {
   "cell_type": "code",
   "execution_count": 1,
   "metadata": {},
   "outputs": [
    {
     "name": "stdout",
     "output_type": "stream",
     "text": [
      "['admin', 'config', 'local']\n"
     ]
    }
   ],
   "source": [
    "# connect mongo db\n",
    "from pymongo import MongoClient\n",
    "\n",
    "client = MongoClient(host='localhost', port=27017)\n",
    "print(client.list_database_names())"
   ]
  },
  {
   "cell_type": "code",
   "execution_count": 2,
   "metadata": {},
   "outputs": [
    {
     "name": "stdout",
     "output_type": "stream",
     "text": [
      "Database(MongoClient(host=['localhost:27017'], document_class=dict, tz_aware=False, connect=True), 'test')\n"
     ]
    }
   ],
   "source": [
    "# connect database\n",
    "# 있으면 해당 database가 선택 없으면 database 생성\n",
    "db = client['test']\n",
    "print(db)"
   ]
  },
  {
   "cell_type": "code",
   "execution_count": 3,
   "metadata": {},
   "outputs": [
    {
     "name": "stdout",
     "output_type": "stream",
     "text": [
      "Collection(Database(MongoClient(host=['localhost:27017'], document_class=dict, tz_aware=False, connect=True), 'test'), 'newsText')\n"
     ]
    }
   ],
   "source": [
    "# create collection (RDB에서의 table) \n",
    "collection = db['newsText']\n",
    "print(collection)"
   ]
  },
  {
   "cell_type": "code",
   "execution_count": 4,
   "metadata": {},
   "outputs": [
    {
     "name": "stdout",
     "output_type": "stream",
     "text": [
      "66d47b4c478b641ebfca1cf9\n"
     ]
    }
   ],
   "source": [
    "# insert data into collection\n",
    "import datetime\n",
    "item = {\"title\": \"테스트캠퍼스 주가 일시 상승\",\n",
    "        \"text\": \"테스트캠퍼스의 주가가 일시적으로 상승했다. 장중 최고치는...\",\n",
    "        \"date\": datetime.datetime.now()}\n",
    "insert_id = collection.insert_one(item).inserted_id\n",
    "print(insert_id)"
   ]
  },
  {
   "cell_type": "code",
   "execution_count": null,
   "metadata": {},
   "outputs": [],
   "source": []
  },
  {
   "cell_type": "code",
   "execution_count": 5,
   "metadata": {},
   "outputs": [
    {
     "name": "stdout",
     "output_type": "stream",
     "text": [
      "{'_id': ObjectId('66d47b4c478b641ebfca1cf9'), 'title': '테스트캠퍼스 주가 일시 상승', 'text': '테스트캠퍼스의 주가가 일시적으로 상승했다. 장중 최고치는...', 'date': datetime.datetime(2024, 9, 1, 23, 33, 48, 89000)}\n"
     ]
    }
   ],
   "source": [
    "# select data from collection\n",
    "print(collection.find_one())"
   ]
  }
 ],
 "metadata": {
  "kernelspec": {
   "display_name": "spacy_ner",
   "language": "python",
   "name": "python3"
  },
  "language_info": {
   "codemirror_mode": {
    "name": "ipython",
    "version": 3
   },
   "file_extension": ".py",
   "mimetype": "text/x-python",
   "name": "python",
   "nbconvert_exporter": "python",
   "pygments_lexer": "ipython3",
   "version": "3.10.0"
  }
 },
 "nbformat": 4,
 "nbformat_minor": 2
}
