{
 "cells": [
  {
   "cell_type": "code",
   "execution_count": 13,
   "metadata": {},
   "outputs": [],
   "source": [
    "from langchain_community.chat_models import ChatOllama\n",
    "from openai import OpenAI\n",
    "import keyring\n",
    "\n",
    "llm_llama = ChatOllama(model='llama3.1')\n",
    "llm_openai = OpenAI(\n",
    "    api_key=keyring.get_password('openai', 'key_for_windows')\n",
    ")\n",
    "\n",
    "def get_response_from_llama(prompt):\n",
    "    response = llm_llama.invoke(prompt)\n",
    "    return response.content\n",
    "\n",
    "def get_response_from_openai(prompt):\n",
    "    completion = llm_openai.chat.completions.create(\n",
    "        messages=[\n",
    "            {'role':'user', 'content':prompt}\n",
    "        ],\n",
    "        model='gpt-3.5-turbo',\n",
    "        max_tokens=1024,\n",
    "        temperature=0.0\n",
    "    )\n",
    "    return completion.choices[0].message.content"
   ]
  },
  {
   "cell_type": "code",
   "execution_count": 14,
   "metadata": {},
   "outputs": [
    {
     "name": "stdout",
     "output_type": "stream",
     "text": [
      "                                                   url  ...         sourcecountry\n",
      "0    https://www.sueddeutsche.de/wissen/corona-klim...  ...               Germany\n",
      "1    https://saudigazette.com.sa/article/592941/Wor...  ...          Saudi Arabia\n",
      "2    https://laverdadnoticias.com/ecologia/Covid-19...  ...                Mexico\n",
      "3    http://www.busan.com/view/busan/view.php?code=...  ...           South Korea\n",
      "4    https://www.albayan.ae/across-the-uae/news-and...  ...  United Arab Emirates\n",
      "..                                                 ...  ...                   ...\n",
      "245  https://www.bnnbloomberg.ca/europe-envoys-defe...  ...                Canada\n",
      "246  https://globalnews.ca/news/6920842/ticks-lyme-...  ...                Canada\n",
      "247  https://theconversation.com/coronavirus-shows-...  ...             Australia\n",
      "248  https://www.infolibre.es/noticias/economia/202...  ...                 Spain\n",
      "249  https://www.diariovasco.com/sociedad/ciencia/n...  ...                 Spain\n",
      "\n",
      "[250 rows x 8 columns]\n",
      "\n",
      "                    datetime  Volume Intensity\n",
      "0  2020-05-10 00:00:00+00:00            0.1839\n",
      "1  2020-05-10 00:15:00+00:00            0.4375\n",
      "2  2020-05-10 00:30:00+00:00            0.1273\n",
      "3  2020-05-10 00:45:00+00:00            0.6582\n",
      "4  2020-05-10 01:00:00+00:00            0.5048\n",
      "..                       ...               ...\n",
      "92 2020-05-10 23:00:00+00:00            0.5805\n",
      "93 2020-05-10 23:15:00+00:00            0.2661\n",
      "94 2020-05-10 23:30:00+00:00            0.6459\n",
      "95 2020-05-10 23:45:00+00:00            0.4957\n",
      "96 2020-05-11 00:00:00+00:00            0.2811\n",
      "\n",
      "[97 rows x 2 columns]\n"
     ]
    }
   ],
   "source": [
    "# gdeltdoc test\n",
    "from gdeltdoc import GdeltDoc, Filters\n",
    "\n",
    "f = Filters(\n",
    "    keyword=\"climate change\",\n",
    "    start_date='2020-05-10',\n",
    "    end_date='2020-05-11'\n",
    ")\n",
    "\n",
    "gd = GdeltDoc()\n",
    "\n",
    "# search for articles matching the filters\n",
    "articles = gd.article_search(f)\n",
    "print(articles)\n",
    "print()\n",
    "\n",
    "# get a timeline of the number of articles matching the filters\n",
    "timeline = gd.timeline_search(\"timelinevol\", f)\n",
    "print(timeline)"
   ]
  },
  {
   "cell_type": "code",
   "execution_count": 19,
   "metadata": {},
   "outputs": [],
   "source": [
    "f = Filters(\n",
    "    start_date='2024-03-20',\n",
    "    end_date='2024-03-25',\n",
    "    num_records=250,\n",
    "    keyword='microsoft',\n",
    "    domain='nytimes.com',\n",
    "    country='US'\n",
    ")"
   ]
  },
  {
   "cell_type": "code",
   "execution_count": 20,
   "metadata": {},
   "outputs": [
    {
     "name": "stdout",
     "output_type": "stream",
     "text": [
      "                                                 url  ...  sourcecountry\n",
      "0  https://www.nytimes.com/2024/03/20/business/de...  ...  United States\n",
      "1  https://www.nytimes.com/2024/03/23/business/de...  ...  United States\n",
      "2  https://www.nytimes.com/2024/03/23/business/de...  ...  United States\n",
      "\n",
      "[3 rows x 8 columns]\n"
     ]
    }
   ],
   "source": [
    "# search for articles matching tne filters\n",
    "articles = gd.article_search(f)\n",
    "print(articles)"
   ]
  },
  {
   "cell_type": "code",
   "execution_count": 29,
   "metadata": {},
   "outputs": [
    {
     "data": {
      "text/plain": [
       "'https://www.nytimes.com/2024/03/20/business/dealbook/microsoft-suleyman-ai-inflection.html'"
      ]
     },
     "execution_count": 29,
     "metadata": {},
     "output_type": "execute_result"
    }
   ],
   "source": [
    "url = articles.iloc[0, :].url\n",
    "url"
   ]
  },
  {
   "cell_type": "code",
   "execution_count": 35,
   "metadata": {},
   "outputs": [
    {
     "name": "stdout",
     "output_type": "stream",
     "text": [
      "https://www.nytimes.com/2024/03/23/business/dealbook/the-second-coming-of-the-microsoft-antitrust-battle.html\n",
      "The Second Coming of the Microsoft Antitrust Battle ? \n",
      "------\n",
      "Microsoft makes another bid for A.I. supremacy\n",
      "\n",
      "The heavyweight fight to dominate artificial intelligence just entered a new round. Microsoft has poached an A.I. pioneer just as Apple and Google discuss forming a united front to make up lost ground.\n",
      "\n",
      "The latest maneuvers add serious firepower to Microsoft’s bid to lead in artificial intelligence. But they could lead to more regulatory scrutiny into the company’s deal making in this high-stakes sector.\n",
      "\n",
      "Microsoft hired a former Google executive to run its consumer A.I unit. Mustafa Suleyman co-founded DeepMind, a British start-up that was acquired by the search giant in 2014 and became the heart of its A.I. push. He left in 2022 and started Inflection AI with Reid Hoffman, the LinkedIn co-founder, raising billions — including from Microsoft.\n",
      "\n",
      "The tech giant also hired most of Inflection’s employees, including the chief scientist Karén Simonyan.\n"
     ]
    }
   ],
   "source": [
    "# crawling url\n",
    "from newspaper import Article\n",
    "\n",
    "# print url\n",
    "print(articles.loc[1, 'url'])\n",
    "# print title\n",
    "print(articles.loc[1, 'title'])\n",
    "print('------')\n",
    "# print content\n",
    "article = Article(url)\n",
    "article.download()\n",
    "article.parse()\n",
    "print(article.text)"
   ]
  },
  {
   "cell_type": "code",
   "execution_count": null,
   "metadata": {},
   "outputs": [],
   "source": []
  }
 ],
 "metadata": {
  "kernelspec": {
   "display_name": "llm",
   "language": "python",
   "name": "python3"
  },
  "language_info": {
   "codemirror_mode": {
    "name": "ipython",
    "version": 3
   },
   "file_extension": ".py",
   "mimetype": "text/x-python",
   "name": "python",
   "nbconvert_exporter": "python",
   "pygments_lexer": "ipython3",
   "version": "3.10.0"
  }
 },
 "nbformat": 4,
 "nbformat_minor": 2
}
