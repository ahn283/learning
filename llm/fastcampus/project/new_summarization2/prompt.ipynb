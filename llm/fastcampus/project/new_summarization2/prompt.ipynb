{
 "cells": [
  {
   "cell_type": "code",
   "execution_count": 4,
   "metadata": {},
   "outputs": [],
   "source": [
    "from langchain_community.chat_models import ChatOllama\n",
    "\n",
    "llm = ChatOllama(model='llama3.1')"
   ]
  },
  {
   "cell_type": "code",
   "execution_count": 5,
   "metadata": {},
   "outputs": [],
   "source": [
    "def get_answer(prompt):\n",
    "    response = llm.invoke(prompt)\n",
    "    return response.content"
   ]
  },
  {
   "cell_type": "code",
   "execution_count": 6,
   "metadata": {},
   "outputs": [
    {
     "data": {
      "text/plain": [
       "'Hello! How are you today? Is there something I can help you with or would you like to chat?'"
      ]
     },
     "execution_count": 6,
     "metadata": {},
     "output_type": "execute_result"
    }
   ],
   "source": [
    "prompt = 'Hello'\n",
    "answer = get_answer(prompt)\n",
    "answer"
   ]
  },
  {
   "cell_type": "code",
   "execution_count": 7,
   "metadata": {},
   "outputs": [
    {
     "data": {
      "text/plain": [
       "'부동산 정책 뉴스입니다.'"
      ]
     },
     "execution_count": 7,
     "metadata": {},
     "output_type": "execute_result"
    }
   ],
   "source": [
    "article = \"\"\"윤석열 대통령이 지난달 29일 서울 용산 대통령실에서 열린 '국정브리핑·기자회견'에서 국민에게 던진 메시지다. 매섭게 치솟고 있는 집 가격은 공급·수요정책으로 잡겠다고 말했다. 지난달 8일 '8·8부동산대책'을 발표한 뒤에도 좀처럼 집값이 진정되지 않자, 주택시장 안정화에 총력을 기울이겠다는 의지를 다시금 내비친 것으로 분석된다. 8·8부동산대책의 핵심은 그린벨트 해제, 재건축·재개발사업 촉진, 비(非)아파트 활성화 등 세 가지다.\n",
    "현재 서울·수도권 아파트 가격은 불장이다. 한국부동산원의 '8월 넷째 주 주간 아파트 가격 동향'에 따르면 서울 아파트 매매가격은 23주 연속, 전세가격은 67주째 오름세다. 수도권까지 번지고 있다. 특히 국토연구원에 따르면 수도권 주택시장(매매+전세) 소비심리지수·주택매매시장 소비심리지수도 상승·보합·하강국면 중 상승국면을 나타냈다. 정부가 집값을 잡기 위해 내놓은 공급 대책에도 약발이 먹히지 않고 있는 셈이다. 일부 전문가들은 서울·수도권 집값 오름세는 내년까지 이어질 것이라고 전망한다.\"\"\"\n",
    "\n",
    "prompt = f\"\"\"아래의 뉴스 텍스트를 다음 카테고리로 분류하세요.\n",
    "\n",
    "# 뉴스 카테고리 : 정책/금융, 채권/외환, 빅데이터뉴스, IB/기업, 증권, 국제뉴스, 해외주식, 부동산\n",
    "\n",
    "# 뉴스\n",
    "{article}\n",
    "\"\"\"\n",
    "\n",
    "get_answer(prompt)"
   ]
  },
  {
   "cell_type": "code",
   "execution_count": 10,
   "metadata": {},
   "outputs": [
    {
     "data": {
      "text/plain": [
       "'**카테고리 분류 : 1) 정책/금융, 2) 부동산**\\n\\n* 이유 1 : 뉴스는 대통령이 국가 경제에 대한 의지를 표명한 메시지이며, 집값을 잡기 위한 공급·수요정책에 대해 언급하고 있다.\\n* 이유 2 : 뉴스의 주요 주제는 서울·수도권 아파트 가격의 불장 및 정부가 내놓은 8·8부동산대책의 영향이다.'"
      ]
     },
     "execution_count": 10,
     "metadata": {},
     "output_type": "execute_result"
    }
   ],
   "source": [
    "prompt = f\"\"\"아래의 뉴스 텍스트를 아래 카테고리 내에서 분류하세요. 적합한 카테고리 분류 한 후(2개 이상인 경우 숫자로 구분) 이유를 한줄로 작성하세요!\n",
    "\n",
    "# 뉴스 카테고리 : 정책/금융, 채권/외환, 빅데이터뉴스, IB/기업, 증권, 국제뉴스, 해외주식, 부동산\n",
    "\n",
    "# 뉴스\n",
    "{article}\n",
    "\"\"\"\n",
    "\n",
    "get_answer(prompt)"
   ]
  },
  {
   "cell_type": "code",
   "execution_count": 15,
   "metadata": {},
   "outputs": [
    {
     "data": {
      "text/plain": [
       "\"{'부동산': '분류 근거 : 국정브리핑에서 집 가격에 대한 언급과 8·8부동산대책'}\\n \\n'국정브리핑·기자회견'이 열린 뉴스라 판단했는데, 주제가 집 가격 인것으로 보았다. 또 뉴스의 내용 중 '8·8부동산대책'이라는 용어가 사용되어 부동산 카테고리가 해당하는 것 같아서 둘 다 선택했다.\""
      ]
     },
     "execution_count": 15,
     "metadata": {},
     "output_type": "execute_result"
    }
   ],
   "source": [
    "prompt = f\"\"\"아래의 뉴스 텍스트를 아래 카테고리로 분류하세요. 적합한 카테고리 분류 한 후(2개 이상인 경우 숫자로 구분) 이유를 한줄로 작성하세요!\n",
    "\n",
    "# 뉴스 카테고리 : 정책/금융, 채권/외환, 빅데이터뉴스, IB/기업, 증권, 국제뉴스, 해외주식, 부동산\n",
    "\n",
    "# 출력 포맷\n",
    "{{'카테고리1': <분류 카테고리>, \"분류 근거\": <분류 근거>}}\n",
    "{{'카테고리2': <분류 카테고리>, \"분류 근거\": <분류 근거}}\n",
    "\n",
    "# 뉴스\n",
    "{article}\n",
    "\"\"\"\n",
    "\n",
    "answer = get_answer(prompt)\n",
    "answer"
   ]
  },
  {
   "cell_type": "code",
   "execution_count": 16,
   "metadata": {},
   "outputs": [
    {
     "name": "stdout",
     "output_type": "stream",
     "text": [
      "{'부동산': '분류 근거 : 국정브리핑에서 집 가격에 대한 언급과 8·8부동산대책'}\n",
      " \n",
      "'국정브리핑·기자회견'이 열린 뉴스라 판단했는데, 주제가 집 가격 인것으로 보았다. 또 뉴스의 내용 중 '8·8부동산대책'이라는 용어가 사용되어 부동산 카테고리가 해당하는 것 같아서 둘 다 선택했다.\n"
     ]
    }
   ],
   "source": [
    "print(answer)"
   ]
  }
 ],
 "metadata": {
  "kernelspec": {
   "display_name": "llm",
   "language": "python",
   "name": "python3"
  },
  "language_info": {
   "codemirror_mode": {
    "name": "ipython",
    "version": 3
   },
   "file_extension": ".py",
   "mimetype": "text/x-python",
   "name": "python",
   "nbconvert_exporter": "python",
   "pygments_lexer": "ipython3",
   "version": "3.11.9"
  }
 },
 "nbformat": 4,
 "nbformat_minor": 2
}
