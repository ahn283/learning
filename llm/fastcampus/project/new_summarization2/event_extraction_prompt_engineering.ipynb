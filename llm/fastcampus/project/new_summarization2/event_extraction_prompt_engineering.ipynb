{
 "cells": [
  {
   "cell_type": "code",
   "execution_count": 3,
   "metadata": {},
   "outputs": [],
   "source": [
    "from langchain_community.chat_models import ChatOllama\n",
    "\n",
    "llm = ChatOllama(model='llama3.1')\n",
    "\n",
    "def get_answer(prompt):\n",
    "    response = llm.invoke(prompt)\n",
    "    return response.content"
   ]
  },
  {
   "cell_type": "code",
   "execution_count": 1,
   "metadata": {},
   "outputs": [],
   "source": [
    "article = '''The U.S. National Highway Traffic Safety Administration said on Wednesday it is seeking records from electric car-maker Tesla\n",
    " in its investigation into Model 3 and Model Y vehicles over power steering loss reports.\n",
    "\n",
    "The auto safety regulator, which upgraded its investigation in February, said in a letter dated Tuesday to Tesla and posted on its website that it wants Tesla’s records by July 24 about the steering components.\n",
    "\n",
    "The request includes Tesla’s process for identifying problems and creating solutions for potential defects. The agency also wants to know whether Tesla has made any changes to power steering components or plans any in the next four months.\n",
    "\n",
    "Tesla did not immediately respond to a request for comment on Wednesday.\n",
    "\n",
    "The investigation covers about 334,000 Model 3 and Model Y vehicles from the 2023 model year and comes after the agency received 115 reports of loss of steering control.\n",
    "\n",
    "The agency said the reports include steering or related failures, or steering becoming “stuck,” “locked,” or “immovable” or requiring high or increased effort. Other reports include “notchy” or “clicky” steering and steering-related error messages or warnings.'''"
   ]
  },
  {
   "cell_type": "code",
   "execution_count": 7,
   "metadata": {},
   "outputs": [
    {
     "data": {
      "text/plain": [
       "'아래 뉴스와 관련한 이벤트를 생성해 드리겠습니다.\\n\\n# 출략 포맷\\n[{\"금융 이벤트\": \"리콜\", \"근거\": \"신제품(2023 model year Model 3, Model Y)에서_power steering loss reports의 문제로 인해 발생\" }, {\"금융 이벤트\": \"자연 재해\", \"근거\": \"차량 관련 사고가 발생하고 있다.\"}, {\"금융 이벤트\": \"배임 횡령\", \"근거\": \"신제품에서 power steering components가 문제가되어 Tesla가 리콜을 해야하는 경우, 배임횡령의 가능성이 있습니다.\"}]'"
      ]
     },
     "execution_count": 7,
     "metadata": {},
     "output_type": "execute_result"
    }
   ],
   "source": [
    "prompt = f'''아래 뉴스에서 금융 이벤트 예시는 참고만 해서 뉴스와 관련한 이벤트를 생성하시요.\n",
    "\n",
    "# 금융 이벤트 예시\n",
    "'신제품 출시', '기업 인수합병', '리콜', '배임 횡령', '오너 리스크', '자연 재해', ... \n",
    "\n",
    "# 출략 포맷\n",
    "[{{\"금융 이벤트\":<이벤트 1>, \"근거\": <생성 근거>}}, ...]\n",
    "\n",
    "# 뉴스\n",
    "{article}\n",
    "'''\n",
    "\n",
    "answer = get_answer(prompt)\n",
    "answer"
   ]
  },
  {
   "cell_type": "code",
   "execution_count": 8,
   "metadata": {},
   "outputs": [
    {
     "data": {
      "text/plain": [
       "'Tesla가 3분기 영업결과를 발표하는날을 앞두고 있습니다. 이는 JB Straubel 전 CTO가 이사한 이후 첫 번째입니다.\\n\\n이번 발표는 전년 동기보다 매출 성장률 감소일 가능성이 높습니다. Tesla가 3분기에 Model 3 79,600대와 고가 모델 S/X 17,400대를 판매하였는데요, 이는 내부 목표를 달성하지 못한 상태입니다.\\n\\nTesla의 CEO Elon Musk는 내년 동기 100,000대의 판매 목표를 내세웠습니다. 하지만 전년 동기 Tesla는 $6.82억을 기록하며 \"역사적인\" 성과를 거두었던 적이 있습니다.\\n\\n3분기의 영업결과에서 주목할 점은 다음과 같습니다.\\n\\n1. 자율주행 기술 \\'쿠키 재료\\'의 영향\\n2. 전년 동기와 비교한 매출 성장률\\n3. 자율주행 시스템 Autopilot에 대한 예상치\\n4. Tesla Auto Insurance 서비스의 판매 효과\\n\\n이번 발표는 주식가치와 투자자의 기대치를 바꿔줄 것입니다.\\n\\n[{\"금융 이벤트\": \"영업 결과 발표\", \"근거\": \"Tesla 3분기 영업결과\"}, {\"금융 이벤트\": \"투자자 반응\", \"근거\": \"주식 가치 변화\"}, {\"금융 사건\": \"CEO 전환 영향\", \"근거\": \"JB Straubel 전 CTO의 이사\"}]'"
      ]
     },
     "execution_count": 8,
     "metadata": {},
     "output_type": "execute_result"
    }
   ],
   "source": [
    "article = '''Tesla\n",
    " is expected to report third-quarter earnings after the bell Wednesday.\n",
    "\n",
    "The day before the release, analysts were expecting a loss of 46 cents per share and revenue of $6.42 billion for Elon Musk’s electric car and renewable energy company, according to data compiled by FactSet.\n",
    "\n",
    "The release will mark the first financial report from the company without co-founder and former CTO JB Straubel at the helm with Musk. If analysts are correct, the third quarter of 2019 may also mark the first time that revenue growth declines for Tesla.\n",
    "\n",
    "Analysts’ tempered expectations for Tesla were informed by an earlier Q3 vehicle production and deliveries update that set a company record, but still missed Musk’s internal goals. Tesla said it delivered 79,600 Model 3 cars, and 17,400 of its higher-priced Model S and X vehicles during the third quarter. Musk had pushed employees to hit or surpass 100,000 deliveries for the quarter.\n",
    "\n",
    "Last year, during the same period, Musk boasted about a “historic” Q3 with Tesla well surpassing Street expectations with $6.82 billion in revenue from increased production and sales of the Model 3, which is still its newest model vehicle.\n",
    "\n",
    "In terms of revenue and margins, wild cards abound this quarter.\n",
    "\n",
    "Shareholders have no precedent to forecast revenue from the Tesla Auto insurance offering. The company rolled out its own auto insurance, starting in California, in late August. And historically, Tesla has given little visibility into its regulatory credit sales by quarter.\n",
    "\n",
    "Tesla has made more than $1 billion in the last three years by selling emissions credits in the United States, including a deal that was reported in April with Fiat Chrysler. The Italian-U.S. carmaker agreed to pay Tesla hundreds of millions of euros to allow Tesla vehicles to be counted in its fleet to avoid fines for violating new European Union emission rules.\n",
    "\n",
    "AB Bernstein’s senior technology research analyst, Toni Sacconaghi, raised questions about Tesla’s “Autopilot cookie jar,” in a note Monday ahead of earnings. He wrote:'''\n",
    "\n",
    "prompt = f'''아래 뉴스에서 금융 이벤트 예시는 참고만 해서 뉴스와 관련한 이벤트를 생성하시요.\n",
    "\n",
    "# 금융 이벤트 예시\n",
    "'신제품 출시', '기업 인수합병', '리콜', '배임 횡령', '오너 리스크', '자연 재해', ... \n",
    "\n",
    "# 출략 포맷\n",
    "[{{\"금융 이벤트\":<이벤트 1>, \"근거\": <생성 근거>}}, ...]\n",
    "\n",
    "# 뉴스\n",
    "{article}\n",
    "'''\n",
    "\n",
    "answer = get_answer(prompt)\n",
    "answer"
   ]
  },
  {
   "cell_type": "markdown",
   "metadata": {},
   "source": [
    "## Chain of thoughts"
   ]
  },
  {
   "cell_type": "code",
   "execution_count": 11,
   "metadata": {},
   "outputs": [
    {
     "data": {
      "text/plain": [
       "\"{ 'positive': 0.3, 'negative': 0.7, 'neutral': 0. }\""
      ]
     },
     "execution_count": 11,
     "metadata": {},
     "output_type": "execute_result"
    }
   ],
   "source": [
    "prompt = f'''아래 뉴스를 읽고 감성 분석하세요. 감성은 긍정/부정/중립으로 정의되어 있습니다. 각 감성에 대해서는 probability를 소수점 첫째자리까지 계산하세요.\n",
    "각 probability를 합쳤을 때, 1이 되도록 값을 부여하세요. 아래 출력 포맷만 출력하세요.\n",
    "\n",
    "# 출력 포맷:\n",
    "{{'positive':<probability>, 'negative':<probability>, 'neutral':<probability>}}\n",
    "\n",
    "# 뉴스\n",
    "{article}\n",
    "'''\n",
    "\n",
    "answer = get_answer(prompt)\n",
    "answer"
   ]
  },
  {
   "cell_type": "code",
   "execution_count": 13,
   "metadata": {},
   "outputs": [
    {
     "data": {
      "text/plain": [
       "\"**감성 분석**\\n\\n기사를 읽고 감성을 분석한 결과는 다음과 같습니다:\\n\\n{'positive': 0.4, 'negative': 0.3, 'neutral': 0.3}\\n\\n**분석**\\n\\n* 긍정적 인 감성이 약 40%에 해당합니다. 뉴스에서는 Tesla의 재무보고가 앞으로 있을 것이고, 이는 회사에 새로운 계절을 열어 줄 것입니다. 또한 뉴스는 Tesla의 차량 판매 및 배달에 대한 기록적인 성과를 언급하고 있습니다.\\n* 부정적 인 감성이 약 30%에 해당합니다. 뉴스에서는 Tesla의 재무보고가 예상치를 채우지 못할 것이라는 분석이 나와 있으며, 이는 회사에 음영을 미칠 수 있습니다.\\n* 중립적 인 감성이 약 30%에 해당합니다. 뉴스는 다양한 요인에 대한 설명과 예측을 포함하고 있지만, 그것들은 대부분 중립적입니다.\\n\\n**주의**\\n\\n기사에서는 Tesla의 재무보고와 관련된 다양한 요인을 언급하고 있습니다. 이러한 요인은 회사에 긍정적 인 또는 부정적 인 영향을 미칠 수 있습니다. 분석 결과에서 이것을 고려하여, 이 기사는 긍정적 인 감성이 더 높고, 부정적 인 감성이 더 낮은 결과를 나타낼 것입니다.\""
      ]
     },
     "execution_count": 13,
     "metadata": {},
     "output_type": "execute_result"
    }
   ],
   "source": [
    "# COT\n",
    "prompt = f'''아래 뉴스를 읽고 감성 분석하세요. 감성은 긍정/부정/중립으로 정의되어 있습니다. 각 감성에 대해서는 probability를 소수점 첫째자리까지 계산하세요.\n",
    "각 probability를 합쳤을 때, 1이 되도록 값을 부여하세요. 아래 출력 포맷으로 출력하세요. 뉴스가 회사에 매출 또는 실적과 관련하여 어떤 영향을 미칠지를 먼저 작성하고 감성을 분석하세요.\n",
    "\n",
    "# 출력 포맷:\n",
    "{{'positive':<probability>, 'negative':<probability>, 'neutral':<probability>}}\n",
    "\n",
    "# 뉴스\n",
    "{article}\n",
    "'''\n",
    "\n",
    "answer = get_answer(prompt)\n",
    "answer"
   ]
  },
  {
   "cell_type": "markdown",
   "metadata": {},
   "source": [
    "## Few-shot learning"
   ]
  },
  {
   "cell_type": "code",
   "execution_count": 15,
   "metadata": {},
   "outputs": [
    {
     "data": {
      "text/plain": [
       "'[신고가 거래, 기업 인수합병]'"
      ]
     },
     "execution_count": 15,
     "metadata": {},
     "output_type": "execute_result"
    }
   ],
   "source": [
    "article = '''\n",
    "서울 아파트 매매시장에서 주요 단지를 중심으로 신고가 거래가 이어지고 있다. 서초구 반포동에서는 이른바 '국민평형'으로 불리는 전용면적 84㎡ 아파트가 55억원에 팔려 역대 최고가를 경신했다.\n",
    "\n",
    "4일 국토교통부 실거래가공개 시스템에 따르면, 래미안 원베일리 전용 84.96㎡ 23층이 지난달 18일 55억원에 거래됐다. 3.3㎡당 가격으로 따지면 1억6000만원선으로 국민평형 아파트 중 역대 최고가다.\n",
    "\n",
    "지난 6월 7일에는 같은 단지 같은 면적이 49억8000만원에 거래돼 신고가 기록을 세운 바 있다. 이어 2개월 만에 5억2000만원 오른 가격에 팔리며 신고가 기록을 갈아치웠다.\n",
    "\n",
    "서초구 반포동은 강남 주요 지역 중 유일하게 토지거래허가제에서 제외됐다. 토지거래허가구역은 땅 투기를 억제하기 위해 국토교통부장관, 시·도지사가 특정지역을 거래규제지역으로 지정하는 것으로, 구역 내의 토지를 거래하기 위해서는 실거주 목적이어야 하며 시장이나 군수, 구청장의 허가를 받아야 한다. \n",
    "\n",
    "이에 따라 투자금이 몰리고 있는 반포동에서는 최근 전용 84㎡ 위주로 신고가 거래가 잇따르고 있다. 래미안 원베일리 옆에 위치한 아크로리버파크에서는 전용 84㎡ 13층이 지난 6월 50억원에 계약이 체결되면서 '국평' 최초로 50억원대 거래 기록을 세웠다. 같은 단지의 전용면적 234㎡짜리 펜트하우스는 지난달 5일 180억원에 손바뀜했다. \n",
    "\n",
    "2009년 입주 단지인 '래미안 퍼스티지'의 경우 전용 84㎡ 17층이 지난 7월 24일 43억원에 팔리면서 신고가 기록을 2개월 만에 새로 썼다. 이는 직전 신고가인 지난 5월 31일의 거래가격(38억4000만원, 26층)보다 4억6000만원 오른 가격이다. 해당 단지 국민평형 전용 84㎡는 2개월 사이 10번이나 신고가를 갈아치웠다. \n",
    "\n",
    "한편, 서울시가 최근 토지거래허가구역을 반포까지 확대할 의향을 내비친 데 대해 부동산 시장의 관심이 모이고 있다. 오세훈 서울시장은 지난달 9일 주택 공급 확대 관련 브리핑에서 \"신고가가 발생하는 지역을 예의주시하고 있다\"면서 \"필요한 경우 토지거래허가구역 확대를 적극 검토하고 있다\"고 말했다.\n",
    "'''\n",
    "\n",
    "prompt = f'''이래 뉴스에서 금융 이벤트 예시를 참고하여 뉴스와 관련된 이벤트를 생성하시오. 예시에 있는 이벤트는 참고만하고 뉴스 기반으로 이벤트를 새로 생성하시오.\n",
    "\n",
    "# 금융 이벤트\n",
    "'신제품 출시', '기업 인수합병', '리콜', '배임횡령', '오너 리스크', '자연 재해', '제품 불량', ...\n",
    "\n",
    "# 출력 포맷\n",
    "[<이벤트1>, <이벤트2>, ....]\n",
    "\n",
    "# 뉴스\n",
    "{article}\n",
    "'''\n",
    "\n",
    "answer = get_answer(prompt)\n",
    "answer"
   ]
  },
  {
   "cell_type": "code",
   "execution_count": 16,
   "metadata": {},
   "outputs": [
    {
     "data": {
      "text/plain": [
       "\"# 뉴스\\n국토교통부, 서울 아파트 매매시장에서 주요 단지를 중심으로 신고가 거래가 이어지고 있다. \\n\\n서초구 반포동에서는 이른바 '국민평형'으로 불리는 전용면적 84㎡ 아파트가 55억원에 팔려 역대 최고가를 경신했다.\\n\\n4일 국토교통부 실거래가공개 시스템에 따르면, 래미안 원베일리 전용 84.96㎡ 23층이 지난달 18일 55억원에 거래됐다. 3.3㎡당 가격으로 따지면 1억6000만원선으로 국민평형 아파트 중 역대 최고가다.\\n\\n# 이벤트\\n['국토교통부 실거래가공개', '서초구 반포동 신고가 거래', '래미안 원베일리 전용면적 84㎡ 신고가 거래']\""
      ]
     },
     "execution_count": 16,
     "metadata": {},
     "output_type": "execute_result"
    }
   ],
   "source": [
    "# COT\n",
    "\n",
    "article = '''\n",
    "서울 아파트 매매시장에서 주요 단지를 중심으로 신고가 거래가 이어지고 있다. 서초구 반포동에서는 이른바 '국민평형'으로 불리는 전용면적 84㎡ 아파트가 55억원에 팔려 역대 최고가를 경신했다.\n",
    "\n",
    "4일 국토교통부 실거래가공개 시스템에 따르면, 래미안 원베일리 전용 84.96㎡ 23층이 지난달 18일 55억원에 거래됐다. 3.3㎡당 가격으로 따지면 1억6000만원선으로 국민평형 아파트 중 역대 최고가다.\n",
    "\n",
    "지난 6월 7일에는 같은 단지 같은 면적이 49억8000만원에 거래돼 신고가 기록을 세운 바 있다. 이어 2개월 만에 5억2000만원 오른 가격에 팔리며 신고가 기록을 갈아치웠다.\n",
    "\n",
    "서초구 반포동은 강남 주요 지역 중 유일하게 토지거래허가제에서 제외됐다. 토지거래허가구역은 땅 투기를 억제하기 위해 국토교통부장관, 시·도지사가 특정지역을 거래규제지역으로 지정하는 것으로, 구역 내의 토지를 거래하기 위해서는 실거주 목적이어야 하며 시장이나 군수, 구청장의 허가를 받아야 한다. \n",
    "\n",
    "이에 따라 투자금이 몰리고 있는 반포동에서는 최근 전용 84㎡ 위주로 신고가 거래가 잇따르고 있다. 래미안 원베일리 옆에 위치한 아크로리버파크에서는 전용 84㎡ 13층이 지난 6월 50억원에 계약이 체결되면서 '국평' 최초로 50억원대 거래 기록을 세웠다. 같은 단지의 전용면적 234㎡짜리 펜트하우스는 지난달 5일 180억원에 손바뀜했다. \n",
    "\n",
    "2009년 입주 단지인 '래미안 퍼스티지'의 경우 전용 84㎡ 17층이 지난 7월 24일 43억원에 팔리면서 신고가 기록을 2개월 만에 새로 썼다. 이는 직전 신고가인 지난 5월 31일의 거래가격(38억4000만원, 26층)보다 4억6000만원 오른 가격이다. 해당 단지 국민평형 전용 84㎡는 2개월 사이 10번이나 신고가를 갈아치웠다. \n",
    "\n",
    "한편, 서울시가 최근 토지거래허가구역을 반포까지 확대할 의향을 내비친 데 대해 부동산 시장의 관심이 모이고 있다. 오세훈 서울시장은 지난달 9일 주택 공급 확대 관련 브리핑에서 \"신고가가 발생하는 지역을 예의주시하고 있다\"면서 \"필요한 경우 토지거래허가구역 확대를 적극 검토하고 있다\"고 말했다.\n",
    "'''\n",
    "\n",
    "prompt = f'''이래 뉴스에서 금융 이벤트 예시를 참고하여 뉴스와 관련된 이벤트를 생성하시오. 예시에 있는 이벤트는 참고만하고 뉴스 기반으로 이벤트를 새로 생성하시오.\n",
    "\n",
    "# 금융 이벤트\n",
    "'신제품 출시', '기업 인수합병', '리콜', '배임횡령', '오너 리스크', '자연 재해', '제품 불량', ...\n",
    "\n",
    "# 출력 포맷\n",
    "[<이벤트1>, <이벤트2>, ....]\n",
    "\n",
    "### 예제1.\n",
    "# 뉴스\n",
    "미국 뉴욕 증시의 3대 주요 지수가 모두 큰 폭으로 하락한 뒤 문을 연 우리 주식 시장.\n",
    "\n",
    "코스피와 코스닥지수 모두 끝내 하락으로 장을 마쳤습니다.\n",
    "\n",
    "코스피는 하루 사이 83.83포인트, 3% 넘게 하락해 2580.80을 기록했습니다.\n",
    "\n",
    "지난달 9일 이후 처음으로 종가가 2,600선 아래로 주저앉았습니다.\n",
    "\n",
    "코스닥지수는 3.8% 하락해 낙폭이 더 컸습니다.\n",
    "\n",
    "미국 증시에 이어 우리 주식시장까지 도미노처럼 얼어붙게 한 건 미국발 경기 침체 우려입니다.\n",
    "\n",
    "제조업 경기를 보여주는 미국의 8월 제조업 구매관리자지수는 47.2로 전문가들 예상치 47.9에 못 미쳤습니다.\n",
    "\n",
    "이 지수가 50을 밑도는 상황이 5개월 연속 이어지며 경기침체 우려는 더 커졌습니다.\n",
    "\n",
    "특히 엔비디아 등 반도체 관련 종목이 타격이 컸는데, 그 영향으로 SK하이닉스는 8.02%, 삼성전자가 3.45% 하락했습니다.\n",
    "\n",
    "# 이벤트\n",
    "['미국 증시 하락', '코스피 하락', '코스닥 하락', '미국발 경기 침체 우려', '반도체 관련 종목 타격']\n",
    "\n",
    "\n",
    "#########\n",
    "# 뉴스\n",
    "{article}\n",
    "'''\n",
    "\n",
    "answer = get_answer(prompt)\n",
    "answer"
   ]
  },
  {
   "cell_type": "markdown",
   "metadata": {},
   "source": [
    "# PoC"
   ]
  }
 ],
 "metadata": {
  "kernelspec": {
   "display_name": "llm",
   "language": "python",
   "name": "python3"
  },
  "language_info": {
   "codemirror_mode": {
    "name": "ipython",
    "version": 3
   },
   "file_extension": ".py",
   "mimetype": "text/x-python",
   "name": "python",
   "nbconvert_exporter": "python",
   "pygments_lexer": "ipython3",
   "version": "3.11.9"
  }
 },
 "nbformat": 4,
 "nbformat_minor": 2
}
