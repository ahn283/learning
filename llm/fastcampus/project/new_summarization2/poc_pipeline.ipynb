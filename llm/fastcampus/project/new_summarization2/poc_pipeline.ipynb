{
 "cells": [
  {
   "cell_type": "code",
   "execution_count": 1,
   "metadata": {},
   "outputs": [],
   "source": [
    "from poc_pipeline import prompt\n",
    "\n",
    "news = \"\"\"삼성이 퀄컴, 구글과 스마트 글래스 개발을 위해 협력 중인 것으로 전해졌다.\n",
    "\n",
    "미국 경제매체 CNBC는 현지시간 5일 크리스티아노 아몬 퀄컴 최고경영자(CEO)가 퀄컴의 반도체 개발자들이 삼성, 구글과 스마트폰과 연동되는 혼합현실(MR) 스마트 글래스 개발을 위해 협력 중이라고 밝혔다고 보도했다.\n",
    "\n",
    "보도에 따르면, 아몬 CEO는 \"스마트폰을 가진 모든 사람이 그것과 함께 사용할 수 있는 스마트 글래스를 갖게 하는 것이 협력의 목표\"라고 밝혔다.\n",
    "\n",
    "스마트 글래스 관련 구체적인 협력 방향은 아직 논의 중인 것으로 알려졌지만, 새로운 스마트 글래스는 기존 스마트 글래스와 달리 일반적인 안경이나 선글라스 같은 형태가 될 것으로 예측된다.\n",
    "\n",
    "앞서 올해 초 출시된 애플의 스마트 글래스 '비전 프로'가 얼굴 전면부를 거의 덮는 등의 이유로 큰 대중적 호응을 얻지 못한 만큼, 애플의 스마트 글래스와는 다른 형태가 될 것으로 보인다.\n",
    "\n",
    "이와 관련해 삼성은 공식 입장을 밝히지 않았다.\n",
    "\n",
    "이에 앞서 이들 회사는 작년 2월 협업을 통해 확장현실(XR) 생태계를 구축한다고 밝힌 바 있다. 이후 퀄컴은 혼합현실, 가상현실 경험을 제공을 가능하게 하는 '스냅드래곤 XR2+ 2세대 플랫폼'을 올해 초 공개하기도 했다.\"\"\"\n",
    "\n",
    "answer = prompt(news, 'llama')"
   ]
  },
  {
   "cell_type": "code",
   "execution_count": 2,
   "metadata": {},
   "outputs": [
    {
     "data": {
      "text/plain": [
       "'{\"문서 카테고리\": [\"IB/기업\"], \"요약\": \"삼성이 퀄컴, 구글과 스마트 글래스 개발을 위해 협력 중인 것으로 보도되었다. 새로운 스마트 글래스는 일반적인 안경이나 선글라스 같은 형태가 될 것으로 예측된다. 애플의 스마트 글래스와는 다른 형태로 출시될 예정이다.\", \"주요 이벤트\": [\"기업 협력\"]}'"
      ]
     },
     "execution_count": 2,
     "metadata": {},
     "output_type": "execute_result"
    }
   ],
   "source": [
    "answer"
   ]
  },
  {
   "cell_type": "code",
   "execution_count": 5,
   "metadata": {},
   "outputs": [
    {
     "data": {
      "text/plain": [
       "'```json\\n{\\n  \"문서 카테고리\": [\"IB/기업\", \"국제뉴스\"],\\n  \"요약\": \"삼성이 퀄컴, 구글과 협력하여 혼합현실 스마트 글래스를 개발 중인 것으로 알려졌다. 새로운 스마트 글래스는 기존 형태와 달리 일반적인 안경이나 선글라스 형태가 될 것으로 예측된다. 삼성이 공식 입장을 밝히지 않은 가운데, 애플의 스마트 글래스와 다른 형태로 개발될 예정이다.\",\\n  \"주요 이벤트\": [\"신제품 개발\", \"기업 간 협력\"]\\n}\\n```'"
      ]
     },
     "execution_count": 5,
     "metadata": {},
     "output_type": "execute_result"
    }
   ],
   "source": [
    "answer_gpt = prompt(news, 'gpt')\n",
    "answer_gpt"
   ]
  },
  {
   "cell_type": "markdown",
   "metadata": {},
   "source": [
    "# Save db"
   ]
  },
  {
   "cell_type": "code",
   "execution_count": 7,
   "metadata": {},
   "outputs": [
    {
     "name": "stdout",
     "output_type": "stream",
     "text": [
      "InsertOneResult(ObjectId('66d9b78491de2caa8733e556'), acknowledged=True)\n"
     ]
    }
   ],
   "source": [
    "from save_db import main\n",
    "\n",
    "main()"
   ]
  }
 ],
 "metadata": {
  "kernelspec": {
   "display_name": "llm",
   "language": "python",
   "name": "python3"
  },
  "language_info": {
   "codemirror_mode": {
    "name": "ipython",
    "version": 3
   },
   "file_extension": ".py",
   "mimetype": "text/x-python",
   "name": "python",
   "nbconvert_exporter": "python",
   "pygments_lexer": "ipython3",
   "version": "3.11.9"
  }
 },
 "nbformat": 4,
 "nbformat_minor": 2
}
