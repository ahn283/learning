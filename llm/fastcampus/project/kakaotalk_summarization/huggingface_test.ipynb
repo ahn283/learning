{
 "cells": [
  {
   "cell_type": "code",
   "execution_count": 2,
   "metadata": {},
   "outputs": [
    {
     "data": {
      "text/plain": [
       "'res/ko_dataset/ko_dataset.json'"
      ]
     },
     "execution_count": 2,
     "metadata": {},
     "output_type": "execute_result"
    }
   ],
   "source": [
    "from huggingface_hub import hf_hub_download\n",
    "\n",
    "# https://huggingface.co/datasets/junelee/sharegpt_\n",
    "\n",
    "\n",
    "hf_hub_download(\n",
    "    repo_id = 'junelee/sharegpt_deepl_ko',\n",
    "    filename = 'ko_dataset.json',\n",
    "    repo_type = 'dataset',\n",
    "    local_dir = './res/ko_dataset',\n",
    "    local_dir_use_symlinks = False \n",
    ")"
   ]
  }
 ],
 "metadata": {
  "kernelspec": {
   "display_name": "llm",
   "language": "python",
   "name": "python3"
  },
  "language_info": {
   "codemirror_mode": {
    "name": "ipython",
    "version": 3
   },
   "file_extension": ".py",
   "mimetype": "text/x-python",
   "name": "python",
   "nbconvert_exporter": "python",
   "pygments_lexer": "ipython3",
   "version": "3.11.9"
  }
 },
 "nbformat": 4,
 "nbformat_minor": 2
}
