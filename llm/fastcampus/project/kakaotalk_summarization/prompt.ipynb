{
 "cells": [
  {
   "cell_type": "code",
   "execution_count": 1,
   "metadata": {},
   "outputs": [
    {
     "name": "stdout",
     "output_type": "stream",
     "text": [
      "P01: 누리호 오늘 오후 우주로 날아간대 키키\n",
      "P02: 오 대박이네요 키키\n",
      "P02: 진짜 우리나라 항공 기술 대박이네요 키키\n",
      "P01: 그러니까 키키\n",
      "P01: 이거 성공하면 7번째 나라래\n",
      "P02: 아 진짜 애국심 차오르네요 키키\n",
      "P02: 7번째라니\n",
      "P01: 그러니까 키키\n",
      "P01: 진짜 대단하다\n",
      "P01: 오후에 한번 봐야겠네\n",
      "P02: 키키 오후 몇시에 한대요?\n",
      "P02: 생중계 하겠네요\n",
      "P01: 몰라\n",
      "P01: 오후라고만 발표했던데\n",
      "P01: 생중계하지 않을까?\n",
      "P02: 키키 이런 건 무조건 생중계죠 키키\n",
      "P01: 그러니까 키키\n",
      "P01: 이렇게 대단한 거를 키키\n",
      "P01: 점심 먹고 봐야겠다\n",
      "P02: 키키 꼭 봐야 겠어요 키키\n",
      "P02: 흥미롭네요 키키\n",
      "P01: 그러니까 키키\n",
      "P01: 재밌겠어 아주\n",
      "P01: 제발 성공했으면\n",
      "P02: 키키 성공할 거 같아요\n",
      "P02: 미국에서 허락 받고 진짜 발 빠르게 이것저것 무기개발도 하던데요 키키\n",
      "P01: 오 진짜?\n",
      "P01: 대박이네 키키\n",
      "P01: 아주 감격스럽겠어\n",
      "P02: 키키 자주 국방이 강해질수록 국력도 강해지니까 좋죠\n",
      "P01: 그러니까\n",
      "P01: 진짜 좋긴 좋지 키키\n",
      "P02: 키키 오후가 진짜 기다려 지네요 키키\n"
     ]
    }
   ],
   "source": [
    "from eval import get_eval_data\n",
    "\n",
    "print(get_eval_data()[2])"
   ]
  }
 ],
 "metadata": {
  "kernelspec": {
   "display_name": "llm",
   "language": "python",
   "name": "python3"
  },
  "language_info": {
   "codemirror_mode": {
    "name": "ipython",
    "version": 3
   },
   "file_extension": ".py",
   "mimetype": "text/x-python",
   "name": "python",
   "nbconvert_exporter": "python",
   "pygments_lexer": "ipython3",
   "version": "3.11.9"
  }
 },
 "nbformat": 4,
 "nbformat_minor": 2
}
