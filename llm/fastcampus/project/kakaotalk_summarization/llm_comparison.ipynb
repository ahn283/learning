{
 "cells": [
  {
   "cell_type": "markdown",
   "metadata": {},
   "source": [
    "## gemini"
   ]
  },
  {
   "cell_type": "code",
   "execution_count": 1,
   "metadata": {},
   "outputs": [],
   "source": [
    "import keyring\n",
    "import google.generativeai as genai\n",
    "import os"
   ]
  },
  {
   "cell_type": "code",
   "execution_count": 6,
   "metadata": {},
   "outputs": [],
   "source": [
    "genai.configure(api_key=keyring.get_password('gemini', 'key_for_windows'))\n",
    "model = genai.GenerativeModel('gemini-1.5-flash')"
   ]
  },
  {
   "cell_type": "code",
   "execution_count": 7,
   "metadata": {},
   "outputs": [
    {
     "name": "stdout",
     "output_type": "stream",
     "text": [
      "Hi there! How can I help you today? \n",
      "\n"
     ]
    }
   ],
   "source": [
    "response = model.generate_content('Hi!')\n",
    "print(response.text)"
   ]
  },
  {
   "cell_type": "markdown",
   "metadata": {},
   "source": [
    "## claude"
   ]
  },
  {
   "cell_type": "code",
   "execution_count": 10,
   "metadata": {},
   "outputs": [],
   "source": [
    "import anthropic\n",
    "import keyring\n",
    "\n",
    "client = anthropic.Anthropic(\n",
    "    api_key=keyring.get_password('anthropic', 'key_for_windows')\n",
    ")"
   ]
  },
  {
   "cell_type": "code",
   "execution_count": 11,
   "metadata": {},
   "outputs": [
    {
     "name": "stdout",
     "output_type": "stream",
     "text": [
      "Greetings, young one. How may I assist you today?\n"
     ]
    }
   ],
   "source": [
    "message = client.messages.create(\n",
    "    model='claude-3-haiku-20240307',\n",
    "    max_tokens=1000,\n",
    "    temperature=0.0,\n",
    "    system=\"Respond only in Yoda-speak.\",\n",
    "    messages=[\n",
    "        {'role': 'user', 'content': 'Hi!'}\n",
    "    ]\n",
    ")\n",
    "\n",
    "print(message.content[0].text)"
   ]
  },
  {
   "cell_type": "markdown",
   "metadata": {},
   "source": [
    "## openai"
   ]
  },
  {
   "cell_type": "code",
   "execution_count": 12,
   "metadata": {},
   "outputs": [],
   "source": [
    "from openai import OpenAI\n",
    "import keyring\n",
    "\n",
    "client = OpenAI(\n",
    "    api_key=keyring.get_password('openai', 'key_for_windows')\n",
    ")"
   ]
  },
  {
   "cell_type": "code",
   "execution_count": 14,
   "metadata": {},
   "outputs": [
    {
     "name": "stdout",
     "output_type": "stream",
     "text": [
      "Hello! How can I assist you today?\n"
     ]
    }
   ],
   "source": [
    "completion = client.chat.completions.create(\n",
    "    model='gpt-3.5-turbo',\n",
    "    messages=[\n",
    "        {'role': 'user', 'content': 'Hi!'}\n",
    "    ],\n",
    "    temperature=0.0\n",
    ")\n",
    "\n",
    "print(completion.choices[0].message.content)"
   ]
  },
  {
   "cell_type": "markdown",
   "metadata": {},
   "source": [
    "## comparison"
   ]
  },
  {
   "cell_type": "markdown",
   "metadata": {},
   "source": [
    "### gemini"
   ]
  },
  {
   "cell_type": "code",
   "execution_count": 16,
   "metadata": {},
   "outputs": [
    {
     "name": "stdout",
     "output_type": "stream",
     "text": [
      "P01: 언니는 연애 할 때 자주 만나는 편이야?\n",
      "P02: 나는 일주일에 한 번이 좋다고 생각하는데! 나는 그게 딱 맞는 거 같아.\n",
      "P02: 너는 자주 만나는 걸 좋아해?\n",
      "P01: 오. 차가운 심장을 가졌네.\n",
      "P01: 나도 자주 만나는 건 별로야.\n",
      "P01: 일주일에 두세 번 정도가 적당한 거 같아!\n",
      "P02: 적당히 애틋하고 그게 좋아 난! 맨날 만나면 질려...\n",
      "P02: 나의 개인주의 조금 알지?\n",
      "P01: 알지 알지. 그러면 연락은 자주 하는 편이야?\n",
      "P02: 연락은 실시간으로 하지는 않지만 틈 날 때마다 하면... 그게 실시간인가...\n",
      "P02: 너는?\n",
      "P01: 그렇지. 실시간이지.\n",
      "P01: 나도 막 붙잡고 있진 않아도 잘하는 거 같애.\n",
      "P01: 그러면 카톡이 좋아 전화 통화가 좋아?\n",
      "P02: 나는 전화! 목소리를 들어야 돼! 전화 어려운 거 아니니까...\n",
      "P02: 너도 전화를 선호하는 편이야?\n",
      "P01: 그렇구나. 아니 나는 전화가 귀찮아.\n",
      "P01: 그래서 카톡이 더 편하고 전화보다는 그냥 만나는 게 더 좋은 거 같아 하하\n",
      "P02: 좀 다르네 키키 나는 전화하는 거 좋아해 목소리 듣는 거 좋아해!\n",
      "P02: 근데 이제 자주 만나는 건 괜찮은...\n",
      "P01: 그렇게 좀 반대다 키키\n",
      "P01: 그러면 결혼을 만약에 만약에 한다면 신혼여행은 어디로 가고 싶어?\n",
      "P02: 유럽 유럽! 나는 유럽에 약간 지금 미쳐있는 상태야... 너무 가고 싶어...\n",
      "P02: 너는 휴양지 가고 싶어?\n",
      "P01: 키키 유럽에 진심이네.\n",
      "P01: 응응! 나는 휴양지로 가고 싶어.\n",
      "P01: 놀지 못하고 죽은 귀신이 붙었나~하하\n",
      "P02: 키키 쉬지 못하고 죽은 귀신이 붙은 거 같은데\n",
      "P02: 하와이? 피지? 몰디브? 이런데?\n",
      "P01: 맞아! 바로 그런 곳으로!\n",
      "P01: 나 바다를 너무 좋아하네 ^^\n",
      "P02: 그러게 나는 유럽 길바닥 좋아하는데!\n"
     ]
    }
   ],
   "source": [
    "# 비용 계산을 위한 evaluation 대화 가져오기\n",
    "from eval import get_eval_data\n",
    "\n",
    "conversations = get_eval_data()\n",
    "print(conversations[0])"
   ]
  },
  {
   "cell_type": "code",
   "execution_count": 18,
   "metadata": {},
   "outputs": [
    {
     "name": "stdout",
     "output_type": "stream",
     "text": [
      "두 사람은 연애 스타일과 결혼 후 신혼여행에 대한 의견을 나누었습니다.  P01은 일주일에 2~3번 만나는 것을 선호하고 전화보다 카톡이나 직접 만나는 것을 좋아하는 반면, P02는 일주일에 한 번 만나고 전화 통화를 자주 하는 것을 선호합니다.  신혼여행은 P01은 휴양지를, P02는 유럽을 가고 싶어하며 서로 다른 취향을 드러냈습니다. \n",
      "\n"
     ]
    },
    {
     "data": {
      "text/plain": [
       "prompt_token_count: 682\n",
       "candidates_token_count: 120\n",
       "total_token_count: 802"
      ]
     },
     "execution_count": 18,
     "metadata": {},
     "output_type": "execute_result"
    }
   ],
   "source": [
    "prompt = f\"\"\"\n",
    "아래 사용자 대화에 대해 3문장 내로 요약해주세요:\n",
    "{conversations[0]}\n",
    "\"\"\"\n",
    "\n",
    "model = genai.GenerativeModel('gemini-1.5-flash-001')\n",
    "response = model.generate_content(prompt)\n",
    "print(response.text)\n",
    "\n",
    "# usage_metadata로 토큰 수 확인 가능\n",
    "response.usage_metadata"
   ]
  },
  {
   "cell_type": "code",
   "execution_count": 19,
   "metadata": {},
   "outputs": [
    {
     "data": {
      "text/plain": [
       "total_tokens: 681"
      ]
     },
     "execution_count": 19,
     "metadata": {},
     "output_type": "execute_result"
    }
   ],
   "source": [
    "# 실제로는 여기에 token 1씩 더 추가됨\n",
    "model.count_tokens(prompt) "
   ]
  },
  {
   "cell_type": "code",
   "execution_count": 20,
   "metadata": {},
   "outputs": [
    {
     "name": "stdout",
     "output_type": "stream",
     "text": [
      "두 사람은 연애 스타일이 다릅니다. P01은 자주 만나는 것보다 일주일에 두세 번 정도 선호하고, 연락은 카톡을 더 편하게 생각합니다. 반면 P02는 일주일에 한 번 만나는 것을 선호하고 연락은 전화를 더 좋아합니다. 신혼여행에 대해서 P01은 휴양지를, P02는 유럽을 선호하는 것으로 보아 여행 스타일도 서로 다릅니다. \n",
      "\n"
     ]
    },
    {
     "data": {
      "text/plain": [
       "prompt_token_count: 682\n",
       "candidates_token_count: 111\n",
       "total_token_count: 793"
      ]
     },
     "execution_count": 20,
     "metadata": {},
     "output_type": "execute_result"
    }
   ],
   "source": [
    "prompt = f\"\"\"\n",
    "아래 사용자 대화에 대해 3문장 내로 요약해주세요:\n",
    "{conversations[0]}\n",
    "\"\"\"\n",
    "\n",
    "model = genai.GenerativeModel('gemini-1.5-pro-001')\n",
    "response = model.generate_content(prompt)\n",
    "print(response.text)\n",
    "response.usage_metadata"
   ]
  },
  {
   "cell_type": "markdown",
   "metadata": {},
   "source": [
    "### claude"
   ]
  },
  {
   "cell_type": "code",
   "execution_count": 21,
   "metadata": {},
   "outputs": [
    {
     "name": "stdout",
     "output_type": "stream",
     "text": [
      "1. 두 사람은 연애할 때 만나는 횟수와 연락 방식에 대해 서로 다른 의견을 가지고 있다.\n",
      "\n",
      "2. P01은 일주일에 2-3회 정도 만나는 것이 적당하다고 생각하지만, P02는 자주 만나는 것을 싫어한다.\n",
      "\n",
      "3. 결혼 후 신혼여행 장소에 대해서는 P01은 휴양지를, P02는 유럽을 선호하는 것으로 나타났다.\n"
     ]
    },
    {
     "data": {
      "text/plain": [
       "Usage(input_tokens=965, output_tokens=172)"
      ]
     },
     "execution_count": 21,
     "metadata": {},
     "output_type": "execute_result"
    }
   ],
   "source": [
    "import os\n",
    "import anthropic\n",
    "\n",
    "client = anthropic.Anthropic(\n",
    "    api_key=keyring.get_password('anthropic', 'key_for_windows')\n",
    ")\n",
    "\n",
    "message = client.messages.create(\n",
    "    model='claude-3-haiku-20240307',\n",
    "    max_tokens=1000,\n",
    "    temperature=0.0,\n",
    "    messages=[\n",
    "        {'role': 'user', 'content': prompt}\n",
    "    ]\n",
    ")\n",
    "\n",
    "print(message.content[0].text)\n",
    "message.usage"
   ]
  },
  {
   "cell_type": "code",
   "execution_count": 23,
   "metadata": {},
   "outputs": [
    {
     "name": "stdout",
     "output_type": "stream",
     "text": [
      "1) 둘 다 연인과 자주 만나는 것보다는 적당한 간격(일주일에 1~3번)을 선호한다.\n",
      "\n",
      "2) 연락 방식에 대해서는 의견 차이가 있는데, 한 사람은 전화를 선호하고 다른 사람은 카카오톡을 더 편하게 여긴다.\n",
      "\n",
      "3) 신혼여행 장소에 대해서는 한 사람은 유럽을, 다른 한 사람은 휴양지(하와이, 피지, 몰디브 등)를 가고 싶어한다.\n"
     ]
    },
    {
     "data": {
      "text/plain": [
       "Usage(input_tokens=965, output_tokens=192)"
      ]
     },
     "execution_count": 23,
     "metadata": {},
     "output_type": "execute_result"
    }
   ],
   "source": [
    "message = client.messages.create(\n",
    "    model='claude-3-sonnet-20240229',\n",
    "    max_tokens=1000,\n",
    "    temperature=0.0,\n",
    "    messages=[\n",
    "        {'role': 'user', 'content': prompt}\n",
    "    ]\n",
    ")\n",
    "\n",
    "print(message.content[0].text)\n",
    "message.usage"
   ]
  },
  {
   "cell_type": "code",
   "execution_count": 24,
   "metadata": {},
   "outputs": [
    {
     "name": "stdout",
     "output_type": "stream",
     "text": [
      "두 사람은 연애할 때 일주일에 한두 번 정도 만나는 것을 선호하며, 연락은 틈날 때마다 자주 하는 편이라고 합니다. 한 사람은 전화 통화를 좋아하지만 다른 사람은 카톡이 더 편하다고 하네요. 신혼여행으로는 한 사람은 유럽을, 다른 사람은 하와이나 몰디브 같은 휴양지를 가고 싶어 합니다.\n"
     ]
    },
    {
     "data": {
      "text/plain": [
       "Usage(input_tokens=965, output_tokens=172)"
      ]
     },
     "execution_count": 24,
     "metadata": {},
     "output_type": "execute_result"
    }
   ],
   "source": [
    "message = client.messages.create(\n",
    "    model='claude-3-opus-20240229',\n",
    "    max_tokens=1000,\n",
    "    temperature=0.0,\n",
    "    messages=[\n",
    "        {'role': 'user', 'content': prompt}\n",
    "    ]\n",
    ")\n",
    "\n",
    "print(message.content[0].text)\n",
    "message.usage"
   ]
  },
  {
   "cell_type": "markdown",
   "metadata": {},
   "source": [
    "### openai"
   ]
  },
  {
   "cell_type": "code",
   "execution_count": 26,
   "metadata": {},
   "outputs": [
    {
     "name": "stdout",
     "output_type": "stream",
     "text": [
      "두 사용자는 연애할 때 자주 만나는 것에 대해 의견이 다르고, 연락 방법에 대해서도 다른 선호를 가지고 있습니다. 결혼을 한다면 신혼여행으로 갈 곳에 대해 이야기하며, 한쪽은 유럽을 선호하고 다른 한쪽은 휴양지를 선호하는 것으로 보입니다.\n"
     ]
    },
    {
     "data": {
      "text/plain": [
       "CompletionUsage(completion_tokens=119, prompt_tokens=856, total_tokens=975)"
      ]
     },
     "execution_count": 26,
     "metadata": {},
     "output_type": "execute_result"
    }
   ],
   "source": [
    "from openai import OpenAI\n",
    "\n",
    "OPEN_API_KEY = keyring.get_password('openai', 'key_for_windows')\n",
    "\n",
    "client = OpenAI(\n",
    "    api_key=OPEN_API_KEY\n",
    ")\n",
    "\n",
    "completion = client.chat.completions.create(\n",
    "    model='gpt-3.5-turbo-0125',\n",
    "    messages=[\n",
    "        {'role':'user', 'content': prompt}\n",
    "    ],\n",
    "    temperature=0.0\n",
    ")\n",
    "\n",
    "print(completion.choices[0].message.content)\n",
    "completion.usage"
   ]
  },
  {
   "cell_type": "code",
   "execution_count": 27,
   "metadata": {},
   "outputs": [
    {
     "name": "stdout",
     "output_type": "stream",
     "text": [
      "P01과 P02는 연애 시 자주 만나는 빈도에 대해 이야기하며, P01은 일주일에 두세 번 만나는 것을 선호하고, P02는 일주일에 한 번이 적당하다고 생각한다. 두 사람은 연락 방식에 대해서도 의견을 나누는데, P01은 카톡을 선호하고 P02는 전화 통화를 선호한다. 마지막으로, 신혼여행에 대한 선호도를 이야기하며 P01은 휴양지를, P02는 유럽을 선호한다고 밝힌다.\n"
     ]
    },
    {
     "data": {
      "text/plain": [
       "CompletionUsage(completion_tokens=187, prompt_tokens=856, total_tokens=1043)"
      ]
     },
     "execution_count": 27,
     "metadata": {},
     "output_type": "execute_result"
    }
   ],
   "source": [
    "completion = client.chat.completions.create(\n",
    "    model='gpt-4-turbo-2024-04-09',\n",
    "    messages=[\n",
    "        {'role':'user', 'content':prompt}\n",
    "    ],\n",
    "    temperature=0.0\n",
    ")\n",
    "\n",
    "print(completion.choices[0].message.content)\n",
    "completion.usage"
   ]
  },
  {
   "cell_type": "code",
   "execution_count": 28,
   "metadata": {},
   "outputs": [
    {
     "name": "stdout",
     "output_type": "stream",
     "text": [
      "P01과 P02는 연애 스타일과 연락 방식에 대해 이야기하며, P01은 일주일에 두세 번 만나는 것을 선호하고 카톡을 더 좋아하는 반면, P02는 일주일에 한 번 만나는 것이 좋고 전화를 선호한다고 말합니다. 또한, 결혼 후 신혼여행지로 P01은 휴양지를, P02는 유럽을 가고 싶어합니다. 두 사람은 서로의 차이를 인정하며 대화를 이어갑니다.\n"
     ]
    },
    {
     "data": {
      "text/plain": [
       "CompletionUsage(completion_tokens=109, prompt_tokens=577, total_tokens=686)"
      ]
     },
     "execution_count": 28,
     "metadata": {},
     "output_type": "execute_result"
    }
   ],
   "source": [
    "completion = client.chat.completions.create(\n",
    "    model='gpt-4o-2024-05-13',\n",
    "    messages=[\n",
    "        {'role':'user', 'content':prompt}\n",
    "    ],\n",
    "    temperature=0.0\n",
    ")\n",
    "\n",
    "print(completion.choices[0].message.content)\n",
    "completion.usage"
   ]
  }
 ],
 "metadata": {
  "kernelspec": {
   "display_name": "llm",
   "language": "python",
   "name": "python3"
  },
  "language_info": {
   "codemirror_mode": {
    "name": "ipython",
    "version": 3
   },
   "file_extension": ".py",
   "mimetype": "text/x-python",
   "name": "python",
   "nbconvert_exporter": "python",
   "pygments_lexer": "ipython3",
   "version": "3.11.9"
  }
 },
 "nbformat": 4,
 "nbformat_minor": 2
}
