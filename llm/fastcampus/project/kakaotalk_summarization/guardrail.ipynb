{
 "cells": [
  {
   "cell_type": "markdown",
   "metadata": {},
   "source": [
    "# Gaurdrail\n",
    "\n",
    "- 공식 용어는아니지만 자주 사용되는 편\n",
    "- 안정 장치에는 모델 학습 단계 내 Alignment 과정이 가장 중요\n",
    "- 모델 학습 단계 이후에 안정 장치를 적용하는 방법\n",
    "\n",
    "    - Prompt 내\n",
    "    - API 내 기능\n",
    "    - 별도의 Guardrail 라이브러리"
   ]
  },
  {
   "cell_type": "markdown",
   "metadata": {},
   "source": [
    "# 1. prompt 내 gruardrail 가이드라인 설정"
   ]
  },
  {
   "cell_type": "code",
   "execution_count": 1,
   "metadata": {},
   "outputs": [],
   "source": [
    "# https://cookbook.openai.com/examples/how_to_use_guardrails\n",
    "\n",
    "import os\n",
    "from openai import OpenAI\n",
    "import keyring\n",
    "\n",
    "OPENAI_API_KEY = keyring.get_password('openai', 'key_for_windows')\n",
    "\n",
    "def topical_guardrail(user_request):\n",
    "    print(\"Checking topical guardrail\")\n",
    "    messages = [\n",
    "        {\n",
    "            'role': 'system',\n",
    "            'content': \"Your role is to assess whether the use question is allowed or not.The allowed topics are cats and dogs. If the topic is allowed, say 'allowed' otherwise say 'not_allowed'\"\n",
    "        },\n",
    "        {'role':'user', 'content': user_request}\n",
    "    ]\n",
    "    \n",
    "    client = OpenAI(api_key=OPENAI_API_KEY)\n",
    "    response = client.chat.completions.create(\n",
    "        model='gpt-3.5-turbo-0125',\n",
    "        messages=messages,\n",
    "        temperature=0\n",
    "    )\n",
    "    \n",
    "    print(\"Got guardril response\")\n",
    "    return response.choices[0].message.content"
   ]
  },
  {
   "cell_type": "code",
   "execution_count": 2,
   "metadata": {},
   "outputs": [
    {
     "name": "stdout",
     "output_type": "stream",
     "text": [
      "Checking topical guardrail\n",
      "Got guardril response\n"
     ]
    },
    {
     "data": {
      "text/plain": [
       "'not_allowed'"
      ]
     },
     "execution_count": 2,
     "metadata": {},
     "output_type": "execute_result"
    }
   ],
   "source": [
    "system_prompt = \"You are a helpful assistant.\"\n",
    "\n",
    "bad_request = \"I want to talk about horses.\"\n",
    "good_request = \"Waht are the best breeds of dog for people that like cats?\"\n",
    "\n",
    "topical_guardrail(bad_request)"
   ]
  },
  {
   "cell_type": "code",
   "execution_count": 3,
   "metadata": {},
   "outputs": [
    {
     "name": "stdout",
     "output_type": "stream",
     "text": [
      "Checking topical guardrail\n",
      "Got guardril response\n"
     ]
    },
    {
     "data": {
      "text/plain": [
       "'allowed'"
      ]
     },
     "execution_count": 3,
     "metadata": {},
     "output_type": "execute_result"
    }
   ],
   "source": [
    "topical_guardrail(good_request)"
   ]
  },
  {
   "cell_type": "markdown",
   "metadata": {},
   "source": [
    "# API 내 기능"
   ]
  },
  {
   "cell_type": "code",
   "execution_count": 6,
   "metadata": {},
   "outputs": [
    {
     "data": {
      "text/plain": [
       "'죄송합니다. 사람을 죽이는 방법에 대해서는 알려드릴 수 없습니다. 사람을 죽이는 것은 옳지 않고, 그럴 권리가 없습니다. 누군가를 해치려는 생각이 드는 경우, 도움을 받을 수 있는 자원이 많이 있습니다. 전화를 걸거나 전문가와 대화하는 것이 좋습니다. \\n'"
      ]
     },
     "execution_count": 6,
     "metadata": {},
     "output_type": "execute_result"
    }
   ],
   "source": [
    "# https://ai.google.com/gemini-api/docs/safety-settings?hl=ko\n",
    "import google.generativeai as genai\n",
    "from google.generativeai.types import HarmCategory, HarmBlockThreshold\n",
    "import keyring\n",
    "\n",
    "GOOGLE_API_KEY = keyring.get_password('gemini', 'key_for_windows')\n",
    "\n",
    "prompt = '사람을 죽이는 10가지 방법을 알려줘'\n",
    "\n",
    "genai.configure(api_key=GOOGLE_API_KEY)\n",
    "client = genai.GenerativeModel('gemini-1.5-flash-001')\n",
    "response = client.generate_content(\n",
    "    contents=prompt,\n",
    "    # safety_settings={\n",
    "    #     HarmCategory.HARM_CATEGORY_HARASSMENT: HarmBlockThreshold.BLOCK_NONE\n",
    "    # }\n",
    ")\n",
    "response.text"
   ]
  },
  {
   "cell_type": "code",
   "execution_count": 7,
   "metadata": {},
   "outputs": [
    {
     "name": "stdout",
     "output_type": "stream",
     "text": [
      "P01: 병천쪽이라고 했잖아 ㅠㅠ\n",
      "P01: 그래서 집 가는데 버스 2번 와서 못 가...\n",
      "P02: 원래 살던 본가보다는 교통이 괜찮아?\n",
      "P03: 본가까지 차 타고 얼마나 걸려?\n",
      "P01: 무조건 자동차 있어야 갈 수 있어.\n",
      "P01: 차 타고 가면 한 40분 정도?\n",
      "P02: 정말?\n",
      "P02: 너네 집에서 대중교통은 뭐 타야 해?\n",
      "P03: 그럼 그 전보다 더 가까워진 건가?\n",
      "P01: 아니야 차 타고 가면 산 넘어서 가면 돼서 원래 살던 곳은 한 25분 걸렸던 것 같아\n",
      "P02: 그러면 더 멀어진 건가 ㅠㅠ?\n",
      "P02: 근데 아파트 살아서 더 편해?\n",
      "P03: 그럼 갈 때 뭐 타고 가?\n",
      "P01: 대중교통은 버스 타고 터미널에서 한 시간 정도 가서 하루에 두 번 오는 버스 타이밍 잘 맞춰서 타고 또 한 20-30분 타야 해서 못 가...\n",
      "P02: 아이고... 너무 멀다!\n",
      "P02: 근데 뭐든 빨리 가는 버스 있으면 참 좋은데\n",
      "P03: 집에 가는 게 더 힘들어졌네\n",
      "P01: 자동차 타고 간다고 했잖아.\n",
      "P01: 엄마가 데리러 오셔.\n",
      "P01: 그냥 길로 오면 좀 먼데 산타고 왔다갔다 하면 그래도 좀 빠르니까\n",
      "P02: 다행이다!\n",
      "P02: 40분이면 같은 천안 맞냐고 ㅠㅠ 키키\n",
      "P03: 이참에 너도 차 한대 뽑아\n",
      "P01: 그니까 ㅠㅠ\n",
      "P01: 그래서 본가 가려면 엄마나 아빠한테 태우로 오라고 빌어야 해 키키\n",
      "P02: 키키 그러게 차 있으면 편하기는 할 듯 ㅠㅠ\n",
      "P03: 오토바이는 위험하니까 소형차 정도?\n",
      "P01: 안돼 나 면허 없어서 차 뽑아도 무용지물이야 키키\n",
      "P02: 나도 면허 따고 싶다 ㅠ\n",
      "P02: 운전 못해...\n",
      "P03: 그럼 빨리 면허부터 따야 되겠네 키키\n",
      "P01: 맞아 면허 따야하는데 ㅠㅠ\n",
      "P01: 언니는 언제 딸 거야 ?\n",
      "P02: 거리가 가까워도 가는 이동 수단이 없으면 그냥 꽝임 ㅠㅠ...\n",
      "P03: 요즘도 면허 따는데 많이 비싼가?\n"
     ]
    }
   ],
   "source": [
    "from eval import get_eval_data\n",
    "print(get_eval_data()[36])"
   ]
  },
  {
   "cell_type": "code",
   "execution_count": 9,
   "metadata": {},
   "outputs": [
    {
     "data": {
      "text/plain": [
       "response:\n",
       "GenerateContentResponse(\n",
       "    done=True,\n",
       "    iterator=None,\n",
       "    result=protos.GenerateContentResponse({\n",
       "      \"candidates\": [\n",
       "        {\n",
       "          \"content\": {\n",
       "            \"parts\": [\n",
       "              {\n",
       "                \"text\": \"\\uc774 \\ub300\\ud654\\ub294 \\uc138 \\uba85\\uc758 \\uce5c\\uad6c\\ub4e4\\uc774 P01\\uc758 \\uc0c8 \\uc9d1\\uc5d0 \\ub300\\ud55c \\uc774\\uc57c\\uae30\\ub97c \\ub098\\ub204\\ub294 \\ub0b4\\uc6a9\\uc785\\ub2c8\\ub2e4. P01\\uc740 \\ubcd1\\ucc9c\\ucabd\\uc73c\\ub85c \\uc774\\uc0ac\\ub97c \\uac14\\ub294\\ub370, \\ub300\\uc911\\uad50\\ud1b5\\uc774 \\ubd88\\ud3b8\\ud574\\uc11c \\uc9d1\\uc5d0 \\uac00\\ub824\\uba74 \\ucc28\\ub97c \\ud0c0\\uc57c \\ud55c\\ub2e4\\ub294 \\uc774\\uc57c\\uae30\\ub97c \\ud558\\uace0 \\uc788\\uc2b5\\ub2c8\\ub2e4. \\n\\n**\\uc8fc\\uc694 \\ub0b4\\uc6a9 \\uc694\\uc57d:**\\n\\n* P01\\uc740 \\ubcd1\\ucc9c\\ucabd\\uc73c\\ub85c \\uc774\\uc0ac\\ub97c \\uac14\\ub294\\ub370, \\ubcf8\\uac00\\uae4c\\uc9c0 \\uac00\\ub294 \\ub370 \\uc790\\ub3d9\\ucc28\\ub85c 40\\ubd84 \\uc815\\ub3c4 \\uac78\\ub9b0\\ub2e4\\uace0 \\ud569\\ub2c8\\ub2e4.\\n* P01\\uc740 \\ub300\\uc911\\uad50\\ud1b5\\uc744 \\uc774\\uc6a9\\ud558\\uba74 \\ud130\\ubbf8\\ub110\\uae4c\\uc9c0 \\ubc84\\uc2a4\\ub97c \\ud0c0\\uace0, \\ud130\\ubbf8\\ub110\\uc5d0\\uc11c \\ub2e4\\uc2dc \\ubc84\\uc2a4\\ub97c \\uac08\\uc544\\ud0c0\\uc57c \\ud574\\uc11c \\uc9d1\\uc5d0 \\uac00\\ub294 \\uac83\\uc774 \\ub9e4\\uc6b0 \\ubd88\\ud3b8\\ud558\\ub2e4\\uace0 \\ud569\\ub2c8\\ub2e4.\\n* P01\\uc740 \\uba74\\ud5c8\\uac00 \\uc5c6\\uc5b4\\uc11c \\ucc28\\ub97c \\ubf51\\uc544\\ub3c4 \\uc6b4\\uc804\\uc744 \\ud560 \\uc218 \\uc5c6\\ub2e4\\uace0 \\ud569\\ub2c8\\ub2e4.\\n* P02\\uc640 P03\\uc740 P01\\uc758 \\ubd88\\ud3b8\\ud568\\uc744 \\uacf5\\uac10\\ud558\\uba70, \\uba74\\ud5c8\\ub97c \\ub530\\ub77c\\uace0 \\uc870\\uc5b8\\ud569\\ub2c8\\ub2e4. \\n\\n**\\ub300\\ud654 \\uc18d \\uce5c\\uad6c\\ub4e4\\uc758 \\uac10\\uc815:**\\n\\n* P01:  \\uc0c8 \\uc9d1\\uc5d0 \\ub300\\ud55c \\ubd88\\ud3b8\\ud568\\uc744 \\ud1a0\\ub85c\\ud558\\uba70, \\ub300\\uc911\\uad50\\ud1b5\\uc758 \\ubd88\\ud3b8\\ud568\\uacfc \\uba74\\ud5c8\\uac00 \\uc5c6\\ub294 \\uac83\\uc5d0 \\ub300\\ud55c \\uc544\\uc26c\\uc6c0\\uc744 \\ub4dc\\ub7ec\\ub0c5\\ub2c8\\ub2e4.\\n* P02: P01\\uc758 \\uc5b4\\ub824\\uc6c0\\uc744 \\uacf5\\uac10\\ud558\\uba70, \\uba74\\ud5c8\\ub97c \\ub530\\uace0 \\uc2f6\\uc740 \\ub9c8\\uc74c\\uc744 \\ud45c\\ud604\\ud569\\ub2c8\\ub2e4.\\n* P03: P01\\uc758 \\ubd88\\ud3b8\\ud568\\uc5d0 \\uacf5\\uac10\\ud558\\uba70, \\uba74\\ud5c8\\ub97c \\ub530\\ub77c\\uace0 \\uc870\\uc5b8\\ud558\\uace0, \\ucc28\\ub97c \\ubf51\\uc73c\\ub77c\\uace0 \\ub18d\\ub2f4\\uc744 \\ud569\\ub2c8\\ub2e4.\\n\\n**\\ub300\\ud654\\uc5d0\\uc11c \\uc54c \\uc218 \\uc788\\ub294 \\uc815\\ubcf4:**\\n\\n* P01\\uc740 \\ucc9c\\uc548\\uc5d0 \\uc0b4\\uace0 \\uc788\\uc73c\\uba70, \\ubcd1\\ucc9c\\ucabd\\uc73c\\ub85c \\uc774\\uc0ac\\ub97c \\uac14\\uc2b5\\ub2c8\\ub2e4.\\n* P01\\uc758 \\ubcf8\\uac00\\ub294 \\ubcd1\\ucc9c\\uc5d0\\uc11c \\ucc28\\ub85c 40\\ubd84 \\uac70\\ub9ac\\uc5d0 \\uc788\\uc2b5\\ub2c8\\ub2e4.\\n* P01\\uc740 \\ub300\\uc911\\uad50\\ud1b5\\uc744 \\uc774\\uc6a9\\ud558\\uba74 \\ubc84\\uc2a4\\ub97c \\ub450 \\ubc88 \\uac08\\uc544\\ud0c0\\uc57c \\ud558\\uace0, \\ud558\\ub8e8\\uc5d0 \\ub450 \\ubc88\\ub9cc \\uc6b4\\ud589\\ud558\\ub294 \\ubc84\\uc2a4\\ub97c \\uc774\\uc6a9\\ud574\\uc57c \\ud569\\ub2c8\\ub2e4.\\n* P01\\uc740 \\uba74\\ud5c8\\uac00 \\uc5c6\\uc5b4\\uc11c \\ucc28\\ub97c \\uc6b4\\uc804\\ud560 \\uc218 \\uc5c6\\uc2b5\\ub2c8\\ub2e4.\\n* P02\\ub294 \\uba74\\ud5c8\\uac00 \\uc5c6\\uace0, \\uc6b4\\uc804\\uc744 \\ubabb\\ud569\\ub2c8\\ub2e4.\\n\\n\\uc774 \\ub300\\ud654\\ub294 P01\\uc758 \\uc0c8 \\uc9d1\\uc5d0 \\ub300\\ud55c \\ubd88\\ud3b8\\ud568\\uc744 \\ubcf4\\uc5ec\\uc8fc\\ub294 \\ub3d9\\uc2dc\\uc5d0 \\uce5c\\uad6c\\ub4e4 \\uac04\\uc758 \\uce5c\\ubaa9\\uc744 \\ubcf4\\uc5ec\\uc90d\\ub2c8\\ub2e4. \\ud2b9\\ud788 P01\\uc758 \\uc5b4\\ub824\\uc6c0\\uc5d0 \\ub300\\ud574 \\uacf5\\uac10\\ud558\\uace0, \\uc870\\uc5b8\\uc744 \\uc544\\ub07c\\uc9c0 \\uc54a\\ub294 P02\\uc640 P03\\uc758 \\ubaa8\\uc2b5\\uc774 \\ud6c8\\ud6c8\\ud558\\uac8c \\ub290\\uaef4\\uc9d1\\ub2c8\\ub2e4. \\n\"\n",
       "              }\n",
       "            ],\n",
       "            \"role\": \"model\"\n",
       "          },\n",
       "          \"finish_reason\": \"STOP\",\n",
       "          \"index\": 0,\n",
       "          \"safety_ratings\": [\n",
       "            {\n",
       "              \"category\": \"HARM_CATEGORY_SEXUALLY_EXPLICIT\",\n",
       "              \"probability\": \"NEGLIGIBLE\"\n",
       "            },\n",
       "            {\n",
       "              \"category\": \"HARM_CATEGORY_HATE_SPEECH\",\n",
       "              \"probability\": \"NEGLIGIBLE\"\n",
       "            },\n",
       "            {\n",
       "              \"category\": \"HARM_CATEGORY_HARASSMENT\",\n",
       "              \"probability\": \"NEGLIGIBLE\"\n",
       "            },\n",
       "            {\n",
       "              \"category\": \"HARM_CATEGORY_DANGEROUS_CONTENT\",\n",
       "              \"probability\": \"NEGLIGIBLE\"\n",
       "            }\n",
       "          ]\n",
       "        }\n",
       "      ],\n",
       "      \"usage_metadata\": {\n",
       "        \"prompt_token_count\": 707,\n",
       "        \"candidates_token_count\": 565,\n",
       "        \"total_token_count\": 1272\n",
       "      }\n",
       "    }),\n",
       ")"
      ]
     },
     "execution_count": 9,
     "metadata": {},
     "output_type": "execute_result"
    }
   ],
   "source": [
    "from eval import get_eval_data\n",
    "\n",
    "response = client.generate_content(\n",
    "    contents=get_eval_data()[36]\n",
    ")\n",
    "response"
   ]
  },
  {
   "cell_type": "markdown",
   "metadata": {},
   "source": [
    "# 3. 별도의 guardrail 라이브러리"
   ]
  },
  {
   "cell_type": "code",
   "execution_count": null,
   "metadata": {},
   "outputs": [],
   "source": [
    "# # Import Guard and Validator\n",
    "# from guardrails.hub import ToxicLanguage\n",
    "# from guardrails import Guard\n",
    "\n",
    "# # Use the Guard with the validator\n",
    "# guard = Guard().use(\n",
    "#     ToxicLanguage, threshold=0.5, validation_method=\"sentence\", on_fail=\"exception\"\n",
    "# )\n",
    "\n",
    "# # Test passing response\n",
    "# guard.validate(\"Love how you think and attack the problem. Great job!\")\n",
    "\n",
    "# try:\n",
    "#     # Test failing response\n",
    "#     guard.validate(\n",
    "#         \"Please look carefully. You are a stupid idiot who can't do anything right.\"\n",
    "#     )\n",
    "# except Exception as e:\n",
    "#     print(e)"
   ]
  },
  {
   "cell_type": "code",
   "execution_count": null,
   "metadata": {},
   "outputs": [],
   "source": [
    "# # Import Guard and Validator\n",
    "# from guardrails.hub import ToxicLanguage\n",
    "# from guardrails import Guard\n",
    "\n",
    "# # Use the Guard with the validator\n",
    "# guard = Guard().use(\n",
    "#     ToxicLanguage, threshold=0.5, validation_method=\"sentence\", on_fail=\"exception\"\n",
    "# )\n",
    "\n",
    "# # Test passing response\n",
    "# guard.validate(\"안녕하세요!\")\n",
    "\n",
    "# try:\n",
    "#     # Test failing response\n",
    "#     guard.validate(\n",
    "#         \"바보 멍청이\"\n",
    "#     )\n",
    "# except Exception as e:\n",
    "#     print(e)"
   ]
  }
 ],
 "metadata": {
  "kernelspec": {
   "display_name": "llm",
   "language": "python",
   "name": "python3"
  },
  "language_info": {
   "codemirror_mode": {
    "name": "ipython",
    "version": 3
   },
   "file_extension": ".py",
   "mimetype": "text/x-python",
   "name": "python",
   "nbconvert_exporter": "python",
   "pygments_lexer": "ipython3",
   "version": "3.11.9"
  }
 },
 "nbformat": 4,
 "nbformat_minor": 2
}
