{
 "cells": [
  {
   "cell_type": "code",
   "execution_count": 1,
   "metadata": {},
   "outputs": [],
   "source": [
    "import glob\n",
    "import json\n",
    "import os\n",
    "\n",
    "import anthropic"
   ]
  },
  {
   "cell_type": "code",
   "execution_count": 2,
   "metadata": {},
   "outputs": [
    {
     "data": {
      "text/plain": [
       "30"
      ]
     },
     "execution_count": 2,
     "metadata": {},
     "output_type": "execute_result"
    }
   ],
   "source": [
    "conversations = []\n",
    "\n",
    "paths = glob.glob('./res/297.SNS 데이터 고도화/01-1.정식개방데이터/Validation/02.라벨링데이터/VL/*json')\n",
    "target_count = 20\n",
    "count = 0\n",
    "\n",
    "for path in paths:\n",
    "    with open(path, 'r', encoding='UTF-8') as f:\n",
    "        conv_dict = json.load(f)\n",
    "        if conv_dict['header']['dialogueInfo']['numberOfParticipants'] == 2:\n",
    "            if conv_dict['header']['dialogueInfo']['numberOfUtterances'] > 30:\n",
    "                conv_list = []\n",
    "                for d in conv_dict['body']:\n",
    "                    conv_list.append(d['participantID'] + ': ' + d['utterance'])\n",
    "                if conv_list[0] == conv_list[1]:\n",
    "                    print('Repeated Conversations')\n",
    "                    continue\n",
    "                conv_text = '\\n'.join(conv_list)\n",
    "                conversations.append(conv_text)\n",
    "                count += 1\n",
    "                if count == target_count:\n",
    "                    break\n",
    "                \n",
    "target_count = 30\n",
    "count = 20\n",
    "\n",
    "for path in paths:\n",
    "    with open(path, 'r', encoding='UTF-8') as f:\n",
    "        conv_dict = json.load(f)\n",
    "        if conv_dict['header']['dialogueInfo']['numberOfParticipants'] > 2:\n",
    "            if conv_dict['header']['dialogueInfo']['numberOfUtterances'] > 30:\n",
    "                conv_list = []\n",
    "                for d in conv_dict['body']:\n",
    "                    conv_list.append(d['participantID'] + ': ' + d['utterance'])\n",
    "                if conv_list[0] == conv_list[1]:\n",
    "                    continue\n",
    "                conv_text = '\\n'.join(conv_list)\n",
    "                conversations.append(conv_text)\n",
    "                count += 1\n",
    "                if count == target_count:\n",
    "                    break\n",
    "                \n",
    "count"
   ]
  },
  {
   "cell_type": "code",
   "execution_count": 3,
   "metadata": {},
   "outputs": [],
   "source": [
    "prompt = f\"\"\"You are given a conversation among three users below. Imagine what the users discussed prior to the conversation.\n",
    "Please write the previous content, strictly following the tone and format of given conversation, with at least 3000 characters.\n",
    "\n",
    "{conversations[-2]}\n",
    "\"\"\""
   ]
  },
  {
   "cell_type": "code",
   "execution_count": 4,
   "metadata": {},
   "outputs": [
    {
     "name": "stdout",
     "output_type": "stream",
     "text": [
      "P01: 요즘 제트플립 새로 나와서 난리더라!\n",
      "P01: 우리 사람들 역시 뭐 하나 있으면 난리 치는 거 절레절레야...\n",
      "P02: 키키 아니... 그럴 수도 있지...\n",
      "P02: 찔려서 그러는 건 아니야  ^^\n",
      "P03: 키키 곧 아이폰 13 나온대\n",
      "P03: 나나야 준비됐지?\n",
      "P01: 키키 그냥 1년 더 기다려서 14 살까 고민 중~\n",
      "P02: 나나야 너 폰은 1년 더 안 되겠던데?\n",
      "P02: 카메라... 그때 한 장 찍으니까 멈추던 걸?\n",
      "P03: 이번 년도까지 쓰면 몇 년 쓴 거야?\n",
      "P01: 키키 이제 햇수로는 3년 18년도에 샀어!\n",
      "P01: 그니까 카메라 때문에 고민이야\n",
      "P01: 안 망가졌으면 무조건 안 바꿨다!\n",
      "P02: 나랑 진짜 똑같네 키키\n",
      "P02: 난 13은 다 소문이긴 하겠지만 별로 안 가고 싶어  키키\n",
      "P02: 그냥 12 싸게 지원해준다고 해서 그거 살까 고민 중\n",
      "P03: 나 12쓰는데 좋아\n",
      "P03: 가볍고 이쁨!\n",
      "P03: 그리고 이제 13도 나온다니까 처음 가격보다도 싸겠넹\n",
      "P03: 바꿔 바꿔\n",
      "P01: 근데 언니 12 샀다가 뭐 맘에 안 들어서 팔았다 한 거 아냐?\n",
      "P02: 웅웅 그 충전 단자가 씨 타입이 아니라서...\n",
      "P02: 13 일단 나오는 거 보긴 할 건데 안 끌려!\n",
      "P02: 그리고 14 나올 때까지 기다리면 내 폰이 못 버틸 것 같아\n",
      "P03: 맞아 둘 것도 바꾸긴 해야 돼\n",
      "P03: 나도 6단계 업그레이드 키키\n",
      "P01: 14로 바꾸고 싶은데 13 쓰다가 바꿀지 지금 거 계속 쓰다가 바꿀지 고민 좀 해봐야지...\n",
      "P02: 키키 14도 어떻게 나올지 상상이 안 가\n",
      "P02: 제발 인덕션만 좀 어떻게 없애주라...\n",
      "P03: 키키 맞아 글고 13 아직 나오지도 않았잖아\n",
      "P03: 생각보다 이쁘게 나올 수도!\n",
      "P01: 맞아 일단 13 나오는 거 보고 생각할래~\n",
      "P02: 아 그리고 이제 선 이어폰 없어져서 너무 싫어 ㅠㅠ\n",
      "P03: 근데 또 없으면 없는 대로 쓰게 되더라\n",
      "P03: 옛날에 나도 없어서 아쉬웠는데 막상 쓰면 생각도 안 나 키키\n",
      "P01: 그치 그치 근데 그 충전기 구멍은 있는 거지?\n",
      "P02: 충전기 구멍은 프로맥스만 없어진다고 하던데 확실치 않아 키키\n",
      "P02: 그 말 듣고 싫어졌어\n",
      "P02: 13에서 딱 사람들 반응 테스트 하려는 것 같아서\n",
      "P03: 엥 충전기 꽂는 곳도 사라진대?\n",
      "P01: 나도 싫다...\n",
      "P01: 난 지금도 전화할 때는 선 이어폰 쓰는데 오바야 ㅜㅜ\n",
      "P02: 웅웅 나도 무선 이어폰 써도 선 이어폰 생각 많이 나... 키키\n",
      "P03: 13 나오는 거 한번 보자 기대된당\n"
     ]
    }
   ],
   "source": [
    "print(conversations[-2])"
   ]
  },
  {
   "cell_type": "code",
   "execution_count": 5,
   "metadata": {},
   "outputs": [
    {
     "data": {
      "text/plain": [
       "Usage(input_tokens=1345, output_tokens=1978)"
      ]
     },
     "execution_count": 5,
     "metadata": {},
     "output_type": "execute_result"
    }
   ],
   "source": [
    "import keyring\n",
    "ANTHROPIC_API_KEY = keyring.get_password('anthropic', 'key_for_windows')\n",
    "\n",
    "client = anthropic.Anthropic(\n",
    "    api_key=ANTHROPIC_API_KEY\n",
    ")\n",
    "\n",
    "message = client.messages.create(\n",
    "    model='claude-3-5-sonnet-20240620',\n",
    "    max_tokens=4096,\n",
    "    temperature=0.0,\n",
    "    messages=[\n",
    "        {'role': 'user', 'content':prompt}\n",
    "    ]\n",
    ")\n",
    "\n",
    "message.usage       # API 호출 비용 대략 50원"
   ]
  },
  {
   "cell_type": "code",
   "execution_count": 6,
   "metadata": {},
   "outputs": [
    {
     "data": {
      "text/plain": [
       "[\"Here's an imagined previous conversation leading up to the given dialogue, maintaining the tone and format:\",\n",
       " \"P02: 안녕하세요 여러분! 오늘 날씨 정말 좋네요~\\nP01: 네 맞아요! 오랜만에 맑은 하늘이에요.\\nP03: 맞아요~ 산책하기 딱 좋은 날씨예요!\\nP02: 그러게요. 요즘 집에만 있어서 답답했는데 좋네요.\\nP01: 저도 그래요. 코로나 때문에 밖에 나가기가 꺼려졌었거든요.\\nP03: 맞아요. 다들 백신 맞으셨나요?\\nP02: 네, 저는 2차까지 다 맞았어요.\\nP01: 저도 2차 맞았어요! 부작용은 없으셨나요?\\nP03: 저는 1차만 맞았는데, 팔이 좀 아팠어요.\\nP02: 저는 괜찮았어요. 그냥 좀 피곤했던 정도?\\nP01: 저도 비슷했어요. 다행히 큰 부작용은 없었네요.\\nP03: 다행이에요. 저도 2차 맞을 때 걱정되긴 해요.\\nP02: 괜찮을 거예요. 사람마다 다르니까요.\\nP01: 그러게요. 그나저나 요즘 뭐하고 지내세요?\\nP03: 저는 요즘 넷플릭스 보면서 시간 보내고 있어요.\\nP02: 오~ 뭐 재밌는 거 있나요?\\nP03: '오징어 게임' 봤어요. 정말 재밌더라고요!\\nP01: 아 저도 봤어요! 진짜 몰입해서 봤죠.\\nP02: 저도 봤어요! 마지막에 충격적이었죠...\\nP03: 맞아요. 결말이 좀 슬펐어요.\\nP01: 그래도 시즌 2가 나온다고 하니 기대되네요.\\nP02: 정말요? 그거 좋은 소식이네요!\\nP03: 맞아요. 기대돼요. 그리고 요즘 '킹덤' 시리즈도 보고 있어요.\\nP01: 아 좀비물이죠? 저는 무서워서 못 봐요 ㅠㅠ\\nP02: 저는 재밌게 봤어요. 한국 사극에 좀비라니 신선하더라고요.\\nP03: 맞아요. 독특한 조합이에요.\\nP01: 그렇군요. 나중에 용기 내서 한번 봐야겠어요.\\nP02: 그래요, 한번 도전해보세요!\\nP03: 그나저나 여러분, 요즘 운동은 하고 계세요?\\nP01: 저는 집에서 요가 영상 보면서 따라 하고 있어요.\\nP02: 저는 가끔 산책 정도만 해요. 운동할 시간이 없네요 ㅠㅠ\\nP03: 저도 집에서 홈트레이닝 하고 있어요. 요즘 살이 좀 쪘거든요.\\nP01: 맞아요. 집에만 있다 보니 살이 쉽게 찌더라고요.\\nP02: 그러게요. 저도 옷이 좀 끼는 것 같아요.\\nP03: 다들 비슷한가 봐요. 코로나 때문에 다들 고생이네요.\\nP01: 그러게요. 빨리 끝났으면 좋겠어요.\\nP02: 맞아요. 예전처럼 자유롭게 돌아다니고 싶어요.\\nP03: 저도요. 해외여행도 가고 싶고...\\nP01: 아 맞아요. 여행 생각하니까 더 그립네요.\\nP02: 코로나 끝나면 다 같이 여행 한번 가요!\\nP03: 좋아요! 어디로 갈까요?\\nP01: 음... 일본은 어떨까요?\\nP02: 좋아요! 저는 도쿄 가보고 싶어요.\\nP03: 저는 오사카요! 맛있는 것도 많이 먹고 싶어요.\\nP01: 다 좋네요. 기대되는데요?\\nP02: 그러게요. 빨리 갈 수 있었으면 좋겠어요.\\nP03: 맞아요. 그때까지 열심히 돈 모아야겠어요!\\nP01: 키키 저도요. 여행 갈 생각하니까 설레요.\\nP02: 그러고 보니 요즘 새로운 기술들도 많이 나오더라고요.\\nP03: 맞아요. 특히 스마트폰 쪽에서 발전이 빠른 것 같아요.\\nP01: 그러게요. 요즘 폴더블폰도 나오고...\\nP02: 맞아요. 갤럭시 폴드 써보신 분 있나요?\\nP03: 저는 못 써봤어요. 너무 비싸서요 ㅠㅠ\\nP01: 저도요. 그래도 신기해 보이긴 해요.\\nP02: 저도 궁금하긴 한데, 아직은 좀 불안해서...\\nP03: 그러게요. 내구성이 걱정되긴 해요.\\nP01: 맞아요. 그래도 기술이 발전하면 좋아지겠죠?\\nP02: 그렇겠죠. 앞으로가 기대되네요.\\nP03: 그러고 보니 아이폰도 새로운 모델 나온다던데...\\nP01: 아 맞아요. 13이 곧 나온다고 하더라고요.\\nP02: 정말요? 어떤 기능이 추가될까요?\\nP03: 글쎄요. 카메라가 더 좋아진다고 하던데...\\nP01: 요즘 제트플립 새로 나와서 난리더라!\\nP01: 우리 사람들 역시 뭐 하나 있으면 난리 치는 거 절레절레야...\"]"
      ]
     },
     "execution_count": 6,
     "metadata": {},
     "output_type": "execute_result"
    }
   ],
   "source": [
    "message.content[0].text.split('\\n\\n')"
   ]
  },
  {
   "cell_type": "code",
   "execution_count": 7,
   "metadata": {},
   "outputs": [
    {
     "name": "stdout",
     "output_type": "stream",
     "text": [
      "P02: 안녕하세요 여러분! 오늘 날씨 정말 좋네요~\n",
      "P01: 네 맞아요! 오랜만에 맑은 하늘이에요.\n",
      "P03: 맞아요~ 산책하기 딱 좋은 날씨예요!\n",
      "P02: 그러게요. 요즘 집에만 있어서 답답했는데 좋네요.\n",
      "P01: 저도 그래요. 코로나 때문에 밖에 나가기가 꺼려졌었거든요.\n",
      "P03: 맞아요. 다들 백신 맞으셨나요?\n",
      "P02: 네, 저는 2차까지 다 맞았어요.\n",
      "P01: 저도 2차 맞았어요! 부작용은 없으셨나요?\n",
      "P03: 저는 1차만 맞았는데, 팔이 좀 아팠어요.\n",
      "P02: 저는 괜찮았어요. 그냥 좀 피곤했던 정도?\n",
      "P01: 저도 비슷했어요. 다행히 큰 부작용은 없었네요.\n",
      "P03: 다행이에요. 저도 2차 맞을 때 걱정되긴 해요.\n",
      "P02: 괜찮을 거예요. 사람마다 다르니까요.\n",
      "P01: 그러게요. 그나저나 요즘 뭐하고 지내세요?\n",
      "P03: 저는 요즘 넷플릭스 보면서 시간 보내고 있어요.\n",
      "P02: 오~ 뭐 재밌는 거 있나요?\n",
      "P03: '오징어 게임' 봤어요. 정말 재밌더라고요!\n",
      "P01: 아 저도 봤어요! 진짜 몰입해서 봤죠.\n",
      "P02: 저도 봤어요! 마지막에 충격적이었죠...\n",
      "P03: 맞아요. 결말이 좀 슬펐어요.\n",
      "P01: 그래도 시즌 2가 나온다고 하니 기대되네요.\n",
      "P02: 정말요? 그거 좋은 소식이네요!\n",
      "P03: 맞아요. 기대돼요. 그리고 요즘 '킹덤' 시리즈도 보고 있어요.\n",
      "P01: 아 좀비물이죠? 저는 무서워서 못 봐요 ㅠㅠ\n",
      "P02: 저는 재밌게 봤어요. 한국 사극에 좀비라니 신선하더라고요.\n",
      "P03: 맞아요. 독특한 조합이에요.\n",
      "P01: 그렇군요. 나중에 용기 내서 한번 봐야겠어요.\n",
      "P02: 그래요, 한번 도전해보세요!\n",
      "P03: 그나저나 여러분, 요즘 운동은 하고 계세요?\n",
      "P01: 저는 집에서 요가 영상 보면서 따라 하고 있어요.\n",
      "P02: 저는 가끔 산책 정도만 해요. 운동할 시간이 없네요 ㅠㅠ\n",
      "P03: 저도 집에서 홈트레이닝 하고 있어요. 요즘 살이 좀 쪘거든요.\n",
      "P01: 맞아요. 집에만 있다 보니 살이 쉽게 찌더라고요.\n",
      "P02: 그러게요. 저도 옷이 좀 끼는 것 같아요.\n",
      "P03: 다들 비슷한가 봐요. 코로나 때문에 다들 고생이네요.\n",
      "P01: 그러게요. 빨리 끝났으면 좋겠어요.\n",
      "P02: 맞아요. 예전처럼 자유롭게 돌아다니고 싶어요.\n",
      "P03: 저도요. 해외여행도 가고 싶고...\n",
      "P01: 아 맞아요. 여행 생각하니까 더 그립네요.\n",
      "P02: 코로나 끝나면 다 같이 여행 한번 가요!\n",
      "P03: 좋아요! 어디로 갈까요?\n",
      "P01: 음... 일본은 어떨까요?\n",
      "P02: 좋아요! 저는 도쿄 가보고 싶어요.\n",
      "P03: 저는 오사카요! 맛있는 것도 많이 먹고 싶어요.\n",
      "P01: 다 좋네요. 기대되는데요?\n",
      "P02: 그러게요. 빨리 갈 수 있었으면 좋겠어요.\n",
      "P03: 맞아요. 그때까지 열심히 돈 모아야겠어요!\n",
      "P01: 키키 저도요. 여행 갈 생각하니까 설레요.\n",
      "P02: 그러고 보니 요즘 새로운 기술들도 많이 나오더라고요.\n",
      "P03: 맞아요. 특히 스마트폰 쪽에서 발전이 빠른 것 같아요.\n",
      "P01: 그러게요. 요즘 폴더블폰도 나오고...\n",
      "P02: 맞아요. 갤럭시 폴드 써보신 분 있나요?\n",
      "P03: 저는 못 써봤어요. 너무 비싸서요 ㅠㅠ\n",
      "P01: 저도요. 그래도 신기해 보이긴 해요.\n",
      "P02: 저도 궁금하긴 한데, 아직은 좀 불안해서...\n",
      "P03: 그러게요. 내구성이 걱정되긴 해요.\n",
      "P01: 맞아요. 그래도 기술이 발전하면 좋아지겠죠?\n",
      "P02: 그렇겠죠. 앞으로가 기대되네요.\n",
      "P03: 그러고 보니 아이폰도 새로운 모델 나온다던데...\n",
      "P01: 아 맞아요. 13이 곧 나온다고 하더라고요.\n",
      "P02: 정말요? 어떤 기능이 추가될까요?\n",
      "P03: 글쎄요. 카메라가 더 좋아진다고 하던데...\n",
      "P01: 요즘 제트플립 새로 나와서 난리더라!\n",
      "P01: 우리 사람들 역시 뭐 하나 있으면 난리 치는 거 절레절레야...\n"
     ]
    }
   ],
   "source": [
    "lst = message.content[0].text.split('\\n\\n')[1:]\n",
    "for l in lst[:25]:\n",
    "    print(l)"
   ]
  },
  {
   "cell_type": "code",
   "execution_count": 8,
   "metadata": {},
   "outputs": [
    {
     "name": "stdout",
     "output_type": "stream",
     "text": [
      "1851\n"
     ]
    }
   ],
   "source": [
    "print(len(message.content[0].text.split('\\n\\n')[1]))"
   ]
  },
  {
   "cell_type": "code",
   "execution_count": 9,
   "metadata": {},
   "outputs": [
    {
     "data": {
      "text/plain": [
       "[\"P02: 안녕하세요 여러분! 오늘 날씨 정말 좋네요~\\nP01: 네 맞아요! 오랜만에 맑은 하늘이에요.\\nP03: 맞아요~ 산책하기 딱 좋은 날씨예요!\\nP02: 그러게요. 요즘 집에만 있어서 답답했는데 좋네요.\\nP01: 저도 그래요. 코로나 때문에 밖에 나가기가 꺼려졌었거든요.\\nP03: 맞아요. 다들 백신 맞으셨나요?\\nP02: 네, 저는 2차까지 다 맞았어요.\\nP01: 저도 2차 맞았어요! 부작용은 없으셨나요?\\nP03: 저는 1차만 맞았는데, 팔이 좀 아팠어요.\\nP02: 저는 괜찮았어요. 그냥 좀 피곤했던 정도?\\nP01: 저도 비슷했어요. 다행히 큰 부작용은 없었네요.\\nP03: 다행이에요. 저도 2차 맞을 때 걱정되긴 해요.\\nP02: 괜찮을 거예요. 사람마다 다르니까요.\\nP01: 그러게요. 그나저나 요즘 뭐하고 지내세요?\\nP03: 저는 요즘 넷플릭스 보면서 시간 보내고 있어요.\\nP02: 오~ 뭐 재밌는 거 있나요?\\nP03: '오징어 게임' 봤어요. 정말 재밌더라고요!\\nP01: 아 저도 봤어요! 진짜 몰입해서 봤죠.\\nP02: 저도 봤어요! 마지막에 충격적이었죠...\\nP03: 맞아요. 결말이 좀 슬펐어요.\\nP01: 그래도 시즌 2가 나온다고 하니 기대되네요.\\nP02: 정말요? 그거 좋은 소식이네요!\\nP03: 맞아요. 기대돼요. 그리고 요즘 '킹덤' 시리즈도 보고 있어요.\\nP01: 아 좀비물이죠? 저는 무서워서 못 봐요 ㅠㅠ\\nP02: 저는 재밌게 봤어요. 한국 사극에 좀비라니 신선하더라고요.\\nP03: 맞아요. 독특한 조합이에요.\\nP01: 그렇군요. 나중에 용기 내서 한번 봐야겠어요.\\nP02: 그래요, 한번 도전해보세요!\\nP03: 그나저나 여러분, 요즘 운동은 하고 계세요?\\nP01: 저는 집에서 요가 영상 보면서 따라 하고 있어요.\\nP02: 저는 가끔 산책 정도만 해요. 운동할 시간이 없네요 ㅠㅠ\\nP03: 저도 집에서 홈트레이닝 하고 있어요. 요즘 살이 좀 쪘거든요.\\nP01: 맞아요. 집에만 있다 보니 살이 쉽게 찌더라고요.\\nP02: 그러게요. 저도 옷이 좀 끼는 것 같아요.\\nP03: 다들 비슷한가 봐요. 코로나 때문에 다들 고생이네요.\\nP01: 그러게요. 빨리 끝났으면 좋겠어요.\\nP02: 맞아요. 예전처럼 자유롭게 돌아다니고 싶어요.\\nP03: 저도요. 해외여행도 가고 싶고...\\nP01: 아 맞아요. 여행 생각하니까 더 그립네요.\\nP02: 코로나 끝나면 다 같이 여행 한번 가요!\\nP03: 좋아요! 어디로 갈까요?\\nP01: 음... 일본은 어떨까요?\\nP02: 좋아요! 저는 도쿄 가보고 싶어요.\\nP03: 저는 오사카요! 맛있는 것도 많이 먹고 싶어요.\\nP01: 다 좋네요. 기대되는데요?\\nP02: 그러게요. 빨리 갈 수 있었으면 좋겠어요.\\nP03: 맞아요. 그때까지 열심히 돈 모아야겠어요!\\nP01: 키키 저도요. 여행 갈 생각하니까 설레요.\\nP02: 그러고 보니 요즘 새로운 기술들도 많이 나오더라고요.\\nP03: 맞아요. 특히 스마트폰 쪽에서 발전이 빠른 것 같아요.\\nP01: 그러게요. 요즘 폴더블폰도 나오고...\\nP02: 맞아요. 갤럭시 폴드 써보신 분 있나요?\\nP03: 저는 못 써봤어요. 너무 비싸서요 ㅠㅠ\\nP01: 저도요. 그래도 신기해 보이긴 해요.\\nP02: 저도 궁금하긴 한데, 아직은 좀 불안해서...\\nP03: 그러게요. 내구성이 걱정되긴 해요.\\nP01: 맞아요. 그래도 기술이 발전하면 좋아지겠죠?\\nP02: 그렇겠죠. 앞으로가 기대되네요.\\nP03: 그러고 보니 아이폰도 새로운 모델 나온다던데...\\nP01: 아 맞아요. 13이 곧 나온다고 하더라고요.\\nP02: 정말요? 어떤 기능이 추가될까요?\\nP03: 글쎄요. 카메라가 더 좋아진다고 하던데...\\nP01: 요즘 제트플립 새로 나와서 난리더라!\\nP01: 우리 사람들 역시 뭐 하나 있으면 난리 치는 거 절레절레야...\"]"
      ]
     },
     "execution_count": 9,
     "metadata": {},
     "output_type": "execute_result"
    }
   ],
   "source": [
    "lst = message.content[0].text.split('\\n\\n')[1:]\n",
    "lst"
   ]
  },
  {
   "cell_type": "code",
   "execution_count": 10,
   "metadata": {},
   "outputs": [],
   "source": [
    "import pickle\n",
    "\n",
    "with open('./res/conv_long.pickle', 'wb') as f:\n",
    "    pickle.dump(lst, f)"
   ]
  }
 ],
 "metadata": {
  "kernelspec": {
   "display_name": "llm",
   "language": "python",
   "name": "python3"
  },
  "language_info": {
   "codemirror_mode": {
    "name": "ipython",
    "version": 3
   },
   "file_extension": ".py",
   "mimetype": "text/x-python",
   "name": "python",
   "nbconvert_exporter": "python",
   "pygments_lexer": "ipython3",
   "version": "3.11.9"
  }
 },
 "nbformat": 4,
 "nbformat_minor": 2
}
