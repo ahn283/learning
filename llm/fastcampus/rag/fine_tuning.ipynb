{
 "cells": [
  {
   "cell_type": "code",
   "execution_count": 1,
   "metadata": {},
   "outputs": [],
   "source": [
    "import json\n",
    "\n",
    "training_Data = [\n",
    "    {\"prompt\": \"빨강이\", \"completion\": \"Data Scientist\"},\n",
    "    {\"prompt\": \"주황이\", \"completion\": \"Developer\"},\n",
    "    {\"prompt\": \"노랑이\", \"completion\": \"Developer\"},\n",
    "    {\"prompt\": \"초록이\", \"completion\": \"Developer\"},\n",
    "    {\"prompt\": \"파랑이\", \"completion\": \"Developer\"},\n",
    "    {\"prompt\": \"검둥이\", \"completion\": \"Data Scientist\"},\n",
    "    {\"prompt\": \"보랑이\", \"completion\": \"Developer\"},\n",
    "    {\"prompt\": \"남둥이\", \"completion\": \"Developer\"},\n",
    "    {\"prompt\": \"하늘이\", \"completion\": \"Data Scientist\"},\n",
    "    {\"prompt\": \"개나리\", \"completion\": \"Data Scientist\"}\n",
    "]"
   ]
  },
  {
   "cell_type": "code",
   "execution_count": 9,
   "metadata": {},
   "outputs": [],
   "source": [
    "# file_name = \"traininig_data.jsonl\" -> model id None으로 나옴\n",
    "file_name = \"training_data.json\"\n",
    "\n",
    "with open(file_name, \"w\", encoding=\"utf-8\") as output_file:\n",
    "    for entry in training_Data:\n",
    "        json.dump(entry, output_file)\n",
    "        output_file.write('\\n')"
   ]
  },
  {
   "cell_type": "code",
   "execution_count": 10,
   "metadata": {},
   "outputs": [],
   "source": [
    "from openai import OpenAI\n",
    "import keyring\n",
    "\n",
    "client = OpenAI(\n",
    "    api_key=keyring.get_password('openai', 'key_for_windows')\n",
    ")\n",
    "\n",
    "# upload the file for fine-tuning\n",
    "upload_response = client.files.create(\n",
    "    file=open(file_name, 'rb'),\n",
    "    purpose='fine-tune'\n",
    ")"
   ]
  },
  {
   "cell_type": "code",
   "execution_count": 11,
   "metadata": {},
   "outputs": [
    {
     "data": {
      "text/plain": [
       "'file-eLWUHnNWiR1ac3QS8ae2exlR'"
      ]
     },
     "execution_count": 11,
     "metadata": {},
     "output_type": "execute_result"
    }
   ],
   "source": [
    "# we can check file_id in the website : https://platform.openai.com/storage/files/file-eLWUHnNWiR1ac3QS8ae2exlR\n",
    "file_id = upload_response.id\n",
    "file_id"
   ]
  },
  {
   "cell_type": "code",
   "execution_count": 12,
   "metadata": {},
   "outputs": [
    {
     "data": {
      "text/plain": [
       "FineTuningJob(id='ftjob-nbMXXwjngOfJaYuvtik8XgFp', created_at=1723173023, error=Error(code=None, message=None, param=None), fine_tuned_model=None, finished_at=None, hyperparameters=Hyperparameters(n_epochs='auto', batch_size='auto', learning_rate_multiplier='auto'), model='davinci-002', object='fine_tuning.job', organization_id='org-YfLvFUJwemLm4m8qa44pA6ht', result_files=[], seed=686063928, status='validating_files', trained_tokens=None, training_file='file-eLWUHnNWiR1ac3QS8ae2exlR', validation_file=None, estimated_finish=None, integrations=[], user_provided_suffix=None)"
      ]
     },
     "execution_count": 12,
     "metadata": {},
     "output_type": "execute_result"
    }
   ],
   "source": [
    "# create a fine-tuned model\n",
    "fine_tune_response = client.fine_tuning.jobs.create(\n",
    "    training_file=file_id,\n",
    "    model='davinci-002'\n",
    ")\n",
    "fine_tune_response"
   ]
  },
  {
   "cell_type": "code",
   "execution_count": null,
   "metadata": {},
   "outputs": [
    {
     "data": {
      "text/plain": [
       "FineTuningJob(id='ftjob-1Wz1uJv09RjKRIulunzgjeRN', created_at=1723165770, error=Error(code=None, message=None, param=None), fine_tuned_model='ft:davinci-002:personal::9u8UwG5j', finished_at=1723166061, hyperparameters=Hyperparameters(n_epochs=10, batch_size=1, learning_rate_multiplier=16), model='davinci-002', object='fine_tuning.job', organization_id='org-YfLvFUJwemLm4m8qa44pA6ht', result_files=['file-I0JTLrji1EnHg8YebmfQTg0f'], seed=1560774168, status='succeeded', trained_tokens=600, training_file='file-69dbIoeUqpUsYUbGJ2a3eXNo', validation_file=None, estimated_finish=None, integrations=[], user_provided_suffix=None)"
      ]
     },
     "execution_count": 7,
     "metadata": {},
     "output_type": "execute_result"
    }
   ],
   "source": [
    "# fine-tuning job list 10\n",
    "client.fine_tuning.jobs.list(limit=10)\n",
    "\n",
    "# chekc status of fine-tuning\n",
    "client.fine_tuning.jobs.retrieve(\"ftjob-1Wz1uJv09RjKRIulunzgjeRN\")"
   ]
  },
  {
   "cell_type": "code",
   "execution_count": 14,
   "metadata": {},
   "outputs": [
    {
     "data": {
      "text/plain": [
       "SyncCursorPage[FineTuningJobEvent](data=[FineTuningJobEvent(id='ftevent-WrrwPavVyWIzv9Bh4gGS01tA', created_at=1723173049, level='info', message='Fine-tuning job started', object='fine_tuning.job.event', data=None, type='message'), FineTuningJobEvent(id='ftevent-3xBMmOdJzxRwthBAsXCkIk2i', created_at=1723173046, level='info', message='Files validated, moving job to queued state', object='fine_tuning.job.event', data={}, type='message'), FineTuningJobEvent(id='ftevent-wV9sqGLHqKmhwbYQ8eutianC', created_at=1723173023, level='info', message='Validating training file: file-eLWUHnNWiR1ac3QS8ae2exlR', object='fine_tuning.job.event', data={}, type='message'), FineTuningJobEvent(id='ftevent-yZVm8XkevmS4H8foeJAyopHX', created_at=1723173023, level='info', message='Created fine-tuning job: ftjob-nbMXXwjngOfJaYuvtik8XgFp', object='fine_tuning.job.event', data={}, type='message')], object='list', has_more=False)"
      ]
     },
     "execution_count": 14,
     "metadata": {},
     "output_type": "execute_result"
    }
   ],
   "source": [
    "# list up 10 events in the fine-tuned job\n",
    "fine_tune_events = client.fine_tuning.jobs.list_events(fine_tuning_job_id=fine_tune_response.id)\n",
    "fine_tune_events"
   ]
  },
  {
   "cell_type": "code",
   "execution_count": 16,
   "metadata": {},
   "outputs": [
    {
     "name": "stdout",
     "output_type": "stream",
     "text": [
      " zDeveloperDeveloperDeveloperDeveloperDeveloperDeveloperDeveloperDeveloperDeveloperDeveloperDeveloperDeveloperDeveloperDeveloperDeveloper\n"
     ]
    }
   ],
   "source": [
    "# use fine-tuned model\n",
    "completion = client.completions.create(\n",
    "    model = 'ft:davinci-002:personal::9u8UwG5j',\n",
    "    prompt=['주황이는?']\n",
    ")\n",
    "print(completion.choices[0].text)"
   ]
  },
  {
   "cell_type": "code",
   "execution_count": 15,
   "metadata": {},
   "outputs": [
    {
     "name": "stdout",
     "output_type": "stream",
     "text": [
      "\n",
      "Data Scientist ScientistDeveloper Data Scientist ScientistData Scientist ScientistData Scientist ScientistData Scientist\n"
     ]
    }
   ],
   "source": [
    "# use fine-tuned model\n",
    "completion = client.completions.create(\n",
    "    model = 'ft:davinci-002:personal::9u8UwG5j',\n",
    "    prompt=['개나리는?']\n",
    ")\n",
    "print(completion.choices[0].text)"
   ]
  }
 ],
 "metadata": {
  "kernelspec": {
   "display_name": "llm",
   "language": "python",
   "name": "python3"
  },
  "language_info": {
   "codemirror_mode": {
    "name": "ipython",
    "version": 3
   },
   "file_extension": ".py",
   "mimetype": "text/x-python",
   "name": "python",
   "nbconvert_exporter": "python",
   "pygments_lexer": "ipython3",
   "version": "3.11.9"
  }
 },
 "nbformat": 4,
 "nbformat_minor": 2
}
