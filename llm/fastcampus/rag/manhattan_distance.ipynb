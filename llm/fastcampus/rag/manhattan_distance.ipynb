{
 "cells": [
  {
   "cell_type": "code",
   "execution_count": 2,
   "metadata": {},
   "outputs": [
    {
     "name": "stdout",
     "output_type": "stream",
     "text": [
      "첫번째 포인트 : (1, 2, 3)\n",
      "두번째 포인트 : (4, 5, 6)\n"
     ]
    }
   ],
   "source": [
    "# Mahattan Distance (cf. Euclidean distance)\n",
    "\n",
    "from scipy.spatial import distance\n",
    "from scipy.spatial.distance import cityblock\n",
    "\n",
    "a = (1, 2, 3)\n",
    "b = (4, 5, 6)\n",
    "\n",
    "print('첫번째 포인트 :', a)\n",
    "print('두번째 포인트 :', b)"
   ]
  },
  {
   "cell_type": "code",
   "execution_count": 3,
   "metadata": {},
   "outputs": [
    {
     "name": "stdout",
     "output_type": "stream",
     "text": [
      "Euclidean distance : 5.196152422706632\n",
      "\n",
      "Manhattan distance : 9\n"
     ]
    }
   ],
   "source": [
    "# distance.euclidean()\n",
    "euclidean_distance = distance.euclidean(a, b)\n",
    "print('Euclidean distance :', euclidean_distance)\n",
    "manhattan_distance = cityblock(a, b)\n",
    "print('\\nManhattan distance :', manhattan_distance)"
   ]
  }
 ],
 "metadata": {
  "kernelspec": {
   "display_name": "llm",
   "language": "python",
   "name": "python3"
  },
  "language_info": {
   "codemirror_mode": {
    "name": "ipython",
    "version": 3
   },
   "file_extension": ".py",
   "mimetype": "text/x-python",
   "name": "python",
   "nbconvert_exporter": "python",
   "pygments_lexer": "ipython3",
   "version": "3.11.9"
  }
 },
 "nbformat": 4,
 "nbformat_minor": 2
}
