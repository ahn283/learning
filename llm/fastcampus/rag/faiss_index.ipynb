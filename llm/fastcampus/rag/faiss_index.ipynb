{
 "cells": [
  {
   "cell_type": "code",
   "execution_count": 1,
   "metadata": {},
   "outputs": [],
   "source": [
    "import numpy as np\n",
    "import faiss        # faiss 라이브러리 호출\n",
    "\n",
    "dimension = 128         # vector dimensions\n",
    "n = 200                 # number of vectors\n",
    "np.random.random(1)\n",
    "db_vectors = np.random.random((n, dimension)).astype('float32')     # (200, 128) shape vector matrix"
   ]
  },
  {
   "cell_type": "code",
   "execution_count": 2,
   "metadata": {},
   "outputs": [],
   "source": [
    "nlist = 5       # number of clusters (cells)\n",
    "quantizer = faiss.IndexFlatL2(dimension)        # quantizer를 활용해서 클러스터 생성\n",
    "index = faiss.IndexIVFFlat(quantizer, dimension, nlist,   faiss.METRIC_L2)  #Inverted File 만들기\n",
    "#index = faiss.IndexPQ(D, m, nbits)\n",
    "#index = faiss.IndexIVFPQ(vecs, D, nlist, m, nbits)"
   ]
  },
  {
   "cell_type": "code",
   "execution_count": 3,
   "metadata": {},
   "outputs": [
    {
     "name": "stdout",
     "output_type": "stream",
     "text": [
      "False\n",
      "0\n",
      "True\n",
      "200\n"
     ]
    }
   ],
   "source": [
    "print(index.is_trained)   # False\n",
    "index.train(db_vectors)  # 데이터베이스 벡터에 대한 훈련\n",
    "print(index.ntotal)   \n",
    "index.add(db_vectors)   # 벡터를 추가하고 인덱스를 업데이트\n",
    "print(index.is_trained)  # True\n",
    "print(index.ntotal)   "
   ]
  },
  {
   "cell_type": "code",
   "execution_count": 4,
   "metadata": {},
   "outputs": [],
   "source": [
    "#nprobe = 2  # 가장 유사한 클러스터 2개 찾기\n",
    "n_query = 10  # 10개의 쿼리 벡터\n",
    "k = 3  # 가장 가까운 이웃 3개를 반환\n",
    "np.random.seed(1)  # 일관된 결과를 얻기 위해 시드 설정 \n",
    "query_vectors = np.random.random((n_query, dimension)).astype('float32') #쿼리 벡터 생성\n",
    "distances, indices = index.search(query_vectors, k) #검색 수행"
   ]
  },
  {
   "cell_type": "code",
   "execution_count": 6,
   "metadata": {},
   "outputs": [
    {
     "data": {
      "text/plain": [
       "<faiss.swigfaiss.IndexIVFFlat; proxy of <Swig Object of type 'faiss::IndexIVFFlat *' at 0x0000017B9FF24ED0> >"
      ]
     },
     "execution_count": 6,
     "metadata": {},
     "output_type": "execute_result"
    }
   ],
   "source": [
    "faiss.write_index(index, \"vector.index\")    # 인덱스를 디스크에 저장\n",
    "index = faiss.read_index('vector.index')    # 인덱스를 로드\n",
    "index"
   ]
  }
 ],
 "metadata": {
  "kernelspec": {
   "display_name": "langchain",
   "language": "python",
   "name": "python3"
  },
  "language_info": {
   "codemirror_mode": {
    "name": "ipython",
    "version": 3
   },
   "file_extension": ".py",
   "mimetype": "text/x-python",
   "name": "python",
   "nbconvert_exporter": "python",
   "pygments_lexer": "ipython3",
   "version": "3.11.9"
  }
 },
 "nbformat": 4,
 "nbformat_minor": 2
}
