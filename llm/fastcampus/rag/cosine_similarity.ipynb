{
 "cells": [
  {
   "cell_type": "code",
   "execution_count": 1,
   "metadata": {},
   "outputs": [],
   "source": [
    "# cosine similarity\n",
    "\n",
    "# 1. Straight Python\n",
    "# 2. NumPy 이용\n",
    "# 3. Scikit-Learn 이용"
   ]
  },
  {
   "cell_type": "code",
   "execution_count": 3,
   "metadata": {},
   "outputs": [
    {
     "name": "stdout",
     "output_type": "stream",
     "text": [
      "cosine simialrity : 0.9746318461970762\n"
     ]
    }
   ],
   "source": [
    "# 1. Straight Python\n",
    "# 추가 라이브러리 없이 Python 사용하여 코사인 유사성을 계산\n",
    "A = [1, 2, 3]\n",
    "B = [4, 5, 6]\n",
    "\n",
    "# dot product\n",
    "dot_product = sum(a*b for a, b in zip(A, B))\n",
    "\n",
    "# 각 벡터의 크기를 계산\n",
    "magnitude_A = sum(a*a for a in A)**0.5\n",
    "magnitude_B = sum(b*b for b in B)**0.5\n",
    "\n",
    "# 코사인 유사도 계산\n",
    "cosine_similarity = dot_product / (magnitude_A * magnitude_B)\n",
    "print(f\"cosine simialrity : {cosine_similarity}\")"
   ]
  },
  {
   "cell_type": "code",
   "execution_count": 4,
   "metadata": {},
   "outputs": [
    {
     "name": "stdout",
     "output_type": "stream",
     "text": [
      "cosine similarity : 0.9746318461970762\n"
     ]
    }
   ],
   "source": [
    "# 2. NumPy 이용\n",
    "import numpy as np\n",
    "\n",
    "# NumPy 사용 : 배열 연산을 사용하여 코사인 유사도를 계산\n",
    "A = np.array([1, 2, 3])\n",
    "B = np.array([4, 5, 6])\n",
    "\n",
    "dot_product = np.dot(A, B)\n",
    "magnitude_A = np.linalg.norm(A)\n",
    "magnitude_B = np.linalg.norm(B)\n",
    "\n",
    "cosine_similarity = dot_product / (magnitude_A * magnitude_B)\n",
    "print(f'cosine similarity : {cosine_similarity}')"
   ]
  },
  {
   "cell_type": "code",
   "execution_count": 7,
   "metadata": {},
   "outputs": [
    {
     "name": "stdout",
     "output_type": "stream",
     "text": [
      "cosine similarity : [[0.97463185]]\n"
     ]
    }
   ],
   "source": [
    "# 3. scikit-learn 이용\n",
    "# cosine_similiarity 함수를 사용하여 코사인 유사도 계산\n",
    "from sklearn.metrics.pairwise import cosine_similarity\n",
    "\n",
    "A = np.array([[1, 2, 3]])\n",
    "B = np.array([[4, 5, 6]])\n",
    "\n",
    "cosine_similarity_result = cosine_similarity(A, B)\n",
    "print(f\"cosine similarity : {cosine_similarity_result}\")"
   ]
  },
  {
   "cell_type": "code",
   "execution_count": null,
   "metadata": {},
   "outputs": [],
   "source": []
  }
 ],
 "metadata": {
  "kernelspec": {
   "display_name": "llm",
   "language": "python",
   "name": "python3"
  },
  "language_info": {
   "codemirror_mode": {
    "name": "ipython",
    "version": 3
   },
   "file_extension": ".py",
   "mimetype": "text/x-python",
   "name": "python",
   "nbconvert_exporter": "python",
   "pygments_lexer": "ipython3",
   "version": "3.11.9"
  }
 },
 "nbformat": 4,
 "nbformat_minor": 2
}
