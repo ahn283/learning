{
 "cells": [
  {
   "cell_type": "code",
   "execution_count": 1,
   "metadata": {},
   "outputs": [],
   "source": [
    "# Euclidean distance\n",
    "\n",
    "# 1. NumPy 모듈 사용\n",
    "# 2. distance.euclidean() 함수 사용\n",
    "# 3. math.dist() 함수 사용"
   ]
  },
  {
   "cell_type": "code",
   "execution_count": 2,
   "metadata": {},
   "outputs": [
    {
     "name": "stdout",
     "output_type": "stream",
     "text": [
      "5.196152422706632\n"
     ]
    }
   ],
   "source": [
    "# 1번 실행 - norm() 함수 이용\n",
    "import numpy as np\n",
    "\n",
    "a = np.array((1, 2, 3))\n",
    "b = np.array((4, 5, 6))\n",
    "\n",
    "dist = np.linalg.norm(a - b)\n",
    "print(dist)"
   ]
  },
  {
   "cell_type": "code",
   "execution_count": 3,
   "metadata": {},
   "outputs": [
    {
     "name": "stdout",
     "output_type": "stream",
     "text": [
      "5.196152422706632\n"
     ]
    }
   ],
   "source": [
    "# NumPy 모듈로 수학 공식 그대로 적용\n",
    "import numpy as np\n",
    "\n",
    "# numpy.sum() : 항목 합계 반환\n",
    "# numpy.sqaure() : 항목의 제곱을 반환\n",
    "dist = np.sqrt(np.sum(np.square(a - b)))\n",
    "print(dist)"
   ]
  },
  {
   "cell_type": "code",
   "execution_count": 4,
   "metadata": {},
   "outputs": [
    {
     "name": "stdout",
     "output_type": "stream",
     "text": [
      "5.196152422706632\n"
     ]
    }
   ],
   "source": [
    "# NumPy 모듈로 수학 공식 그대로 적용\n",
    "import numpy as np\n",
    "\n",
    "temp = a - b\n",
    "dist = np.sqrt(np.dot(temp.T, temp))\n",
    "\n",
    "print(dist)"
   ]
  },
  {
   "cell_type": "code",
   "execution_count": 5,
   "metadata": {},
   "outputs": [
    {
     "name": "stdout",
     "output_type": "stream",
     "text": [
      "5.196152422706632\n"
     ]
    }
   ],
   "source": [
    "# 2. distance.euclidean() 함수 사용\n",
    "from scipy.spatial import distance\n",
    "\n",
    "dist = distance.euclidean(a, b)\n",
    "print(dist)"
   ]
  },
  {
   "cell_type": "code",
   "execution_count": 7,
   "metadata": {},
   "outputs": [
    {
     "name": "stdout",
     "output_type": "stream",
     "text": [
      "5.196152422706632\n"
     ]
    }
   ],
   "source": [
    "# 3. math.dist() 함수 사용\n",
    "from math import dist\n",
    "\n",
    "dist = dist(a, b)\n",
    "print(dist)"
   ]
  },
  {
   "cell_type": "code",
   "execution_count": null,
   "metadata": {},
   "outputs": [],
   "source": []
  }
 ],
 "metadata": {
  "kernelspec": {
   "display_name": "llm",
   "language": "python",
   "name": "python3"
  },
  "language_info": {
   "codemirror_mode": {
    "name": "ipython",
    "version": 3
   },
   "file_extension": ".py",
   "mimetype": "text/x-python",
   "name": "python",
   "nbconvert_exporter": "python",
   "pygments_lexer": "ipython3",
   "version": "3.11.9"
  }
 },
 "nbformat": 4,
 "nbformat_minor": 2
}
