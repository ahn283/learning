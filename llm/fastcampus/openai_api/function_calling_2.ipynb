{
 "cells": [
  {
   "cell_type": "code",
   "execution_count": 1,
   "metadata": {},
   "outputs": [],
   "source": [
    "# function calling을 사용하지 않으면 USA와 South Korea에 대한 답변 format이 달라진다.\n",
    "# 첫 번째 응답은 주를 숫자(한 국가의 총 주 수)로 반환하고, 두 번째 응답은 주를 배열(주)로 반환"
   ]
  },
  {
   "cell_type": "code",
   "execution_count": 4,
   "metadata": {},
   "outputs": [
    {
     "name": "stdout",
     "output_type": "stream",
     "text": [
      "ChatCompletion(id='chatcmpl-9pTeJUN1zhtLqVmRRLhji7tKnRl34', choices=[Choice(finish_reason='stop', index=0, logprobs=None, message=ChatCompletionMessage(content='{\\n  \"인구\": \"331,002,651\",\\n  \"수도\": \"Washington, D.C.\",\\n  \"주\": \"50\",\\n  \"국가\": \"미국\"\\n}', role='assistant', function_call=None, tool_calls=None))], created=1722055727, model='gpt-3.5-turbo-0125', object='chat.completion', service_tier=None, system_fingerprint=None, usage=CompletionUsage(completion_tokens=43, prompt_tokens=27, total_tokens=70))\n"
     ]
    },
    {
     "data": {
      "text/plain": [
       "{'인구': '331,002,651', '수도': 'Washington, D.C.', '주': '50', '국가': '미국'}"
      ]
     },
     "execution_count": 4,
     "metadata": {},
     "output_type": "execute_result"
    }
   ],
   "source": [
    "import os\n",
    "import openai\n",
    "import json\n",
    "from openai import OpenAI\n",
    "import keyring\n",
    "\n",
    "client = OpenAI(\n",
    "    api_key=keyring.get_password('openai', 'key_for_mac')\n",
    ")\n",
    "\n",
    "prompt = ''' \n",
    "인구, 수도, 주, 미국. JSON 객체로 반환\n",
    "'''\n",
    "\n",
    "completion = client.chat.completions.create(\n",
    "    model='gpt-3.5-turbo',\n",
    "    messages=[{'role':'user', 'content':prompt}],\n",
    "    max_tokens=1024,\n",
    "    temperature=0\n",
    ")\n",
    "print(completion)\n",
    "json.loads(completion.choices[0].message.content)"
   ]
  },
  {
   "cell_type": "code",
   "execution_count": 5,
   "metadata": {},
   "outputs": [
    {
     "name": "stdout",
     "output_type": "stream",
     "text": [
      "ChatCompletion(id='chatcmpl-9pTgfiClZcHkzNrdKev91PLg1qyeu', choices=[Choice(finish_reason='stop', index=0, logprobs=None, message=ChatCompletionMessage(content='{\\n  \"인구\": \"51,780,579\",\\n  \"수도\": \"서울\",\\n  \"주\": \"대한민국\"\\n}', role='assistant', function_call=None, tool_calls=None))], created=1722055873, model='gpt-3.5-turbo-0125', object='chat.completion', service_tier=None, system_fingerprint=None, usage=CompletionUsage(completion_tokens=36, prompt_tokens=28, total_tokens=64))\n"
     ]
    },
    {
     "data": {
      "text/plain": [
       "{'인구': '51,780,579', '수도': '서울', '주': '대한민국'}"
      ]
     },
     "execution_count": 5,
     "metadata": {},
     "output_type": "execute_result"
    }
   ],
   "source": [
    "prompt = ''' \n",
    "인구, 수도, 주, 대한민국. JSON 객체로 반환\n",
    "'''\n",
    "\n",
    "completion = client.chat.completions.create(\n",
    "    model='gpt-3.5-turbo',\n",
    "    messages=[{'role': 'user', 'content':prompt}],\n",
    "    max_tokens=1024,\n",
    "    temperature=0\n",
    ")\n",
    "\n",
    "print(completion)\n",
    "json.loads(completion.choices[0].message.content)"
   ]
  },
  {
   "cell_type": "code",
   "execution_count": 7,
   "metadata": {},
   "outputs": [],
   "source": [
    "#첫 번째 쿼리에서는 인구가 정수(331002651)로 반환되고, 두 번째 쿼리에서는 인구가 문자열('32,730,000')로 반환\n",
    "#첫 번째 응답은 주를 숫자(한 국가의 총 주 수)로 반환하고, 두 번째 응답은 주를 배열(주)로 반환\n",
    "#즉, 응답의 불일치가 발생 문자열 "
   ]
  },
  {
   "cell_type": "code",
   "execution_count": 8,
   "metadata": {},
   "outputs": [],
   "source": [
    "test_functions = [\n",
    "    {\n",
    "        'name': 'get_country_detrails',\n",
    "        'description': 'Get the details of a country',\n",
    "        'parameters': {\n",
    "            'type': 'object',\n",
    "            'properties': {\n",
    "                'Population': {\n",
    "                    'type': 'integer',\n",
    "                    'description': '인구'\n",
    "                },\n",
    "                'Capital': {\n",
    "                    'type': 'string',\n",
    "                    'description': '수도'\n",
    "                },\n",
    "                'States': {\n",
    "                    'type': 'string',\n",
    "                    'description': '주'\n",
    "                }\n",
    "            }\n",
    "        }\n",
    "    }\n",
    "]"
   ]
  },
  {
   "cell_type": "code",
   "execution_count": 10,
   "metadata": {},
   "outputs": [
    {
     "name": "stdout",
     "output_type": "stream",
     "text": [
      "ChatCompletion(id='chatcmpl-9pTrMhyXxYc0GsK0XzlRoF5mxB3Fx', choices=[Choice(finish_reason='function_call', index=0, logprobs=None, message=ChatCompletionMessage(content=None, role='assistant', function_call=FunctionCall(arguments='{\\n  \"Population\": 331002651,\\n  \"Capital\": \"Washington, D.C.\",\\n  \"States\": \"50\"\\n}', name='get_country_detrails'), tool_calls=None))], created=1722056536, model='gpt-4-0613', object='chat.completion', service_tier=None, system_fingerprint=None, usage=CompletionUsage(completion_tokens=37, prompt_tokens=81, total_tokens=118))\n"
     ]
    }
   ],
   "source": [
    "import openai\n",
    "\n",
    "country = '미국'\n",
    "prompt = f'''\n",
    "Population, Capital, States of {country}.\n",
    "'''\n",
    "\n",
    "completion = client.chat.completions.create(\n",
    "    model='gpt-4',\n",
    "    messages=[{'role': 'user', 'content': prompt}],\n",
    "    functions= test_functions,      # <======== add this parameter\n",
    "    function_call='auto',           # <======== add this parameter\n",
    "    max_tokens=1024,\n",
    "    temperature=0 \n",
    ")\n",
    "\n",
    "print(completion)"
   ]
  },
  {
   "cell_type": "code",
   "execution_count": 11,
   "metadata": {},
   "outputs": [
    {
     "name": "stdout",
     "output_type": "stream",
     "text": [
      "{'Population': 331002651, 'Capital': 'Washington, D.C.', 'States': '50'}\n"
     ]
    }
   ],
   "source": [
    "import json\n",
    "print(json.loads(completion.choices[0].message.function_call.arguments))"
   ]
  },
  {
   "cell_type": "code",
   "execution_count": 12,
   "metadata": {},
   "outputs": [
    {
     "name": "stdout",
     "output_type": "stream",
     "text": [
      "ChatCompletion(id='chatcmpl-9pTui8MSdCWPZUnD9eBSFLgT0BSQZ', choices=[Choice(finish_reason='function_call', index=0, logprobs=None, message=ChatCompletionMessage(content=None, role='assistant', function_call=FunctionCall(arguments='{\\n  \"Population\": 51780579,\\n  \"Capital\": \"서울\",\\n  \"States\": \"경기도, 강원도, 충청북도, 충청남도, 전라북도, 전라남도, 경상북도, 경상남도, 제주도\"\\n}', name='get_country_detrails'), tool_calls=None))], created=1722056744, model='gpt-4-0613', object='chat.completion', service_tier=None, system_fingerprint=None, usage=CompletionUsage(completion_tokens=87, prompt_tokens=82, total_tokens=169))\n"
     ]
    }
   ],
   "source": [
    "import openai\n",
    "\n",
    "country = '대한민국'\n",
    "prompt = f''' \n",
    "Population, Capital, States of {country}.\n",
    "'''\n",
    "\n",
    "completion = client.chat.completions.create(\n",
    "    model='gpt-4',\n",
    "    messages=[{'role': 'user', 'content':prompt}],\n",
    "    functions=test_functions,       # <====== add this parameter\n",
    "    function_call='auto',           # <====== add this parameter\n",
    "    max_tokens=1024,\n",
    "    temperature=0\n",
    ")\n",
    "print(completion)"
   ]
  },
  {
   "cell_type": "code",
   "execution_count": 13,
   "metadata": {},
   "outputs": [
    {
     "name": "stdout",
     "output_type": "stream",
     "text": [
      "{'Population': 51780579, 'Capital': '서울', 'States': '경기도, 강원도, 충청북도, 충청남도, 전라북도, 전라남도, 경상북도, 경상남도, 제주도'}\n"
     ]
    }
   ],
   "source": [
    "import json\n",
    "print(json.loads(completion.choices[0].message.function_call.arguments))"
   ]
  }
 ],
 "metadata": {
  "kernelspec": {
   "display_name": "llm",
   "language": "python",
   "name": "python3"
  },
  "language_info": {
   "codemirror_mode": {
    "name": "ipython",
    "version": 3
   },
   "file_extension": ".py",
   "mimetype": "text/x-python",
   "name": "python",
   "nbconvert_exporter": "python",
   "pygments_lexer": "ipython3",
   "version": "3.11.9"
  }
 },
 "nbformat": 4,
 "nbformat_minor": 2
}
