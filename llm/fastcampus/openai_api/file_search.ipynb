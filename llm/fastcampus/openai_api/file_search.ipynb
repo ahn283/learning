{
 "cells": [
  {
   "cell_type": "code",
   "execution_count": 1,
   "metadata": {},
   "outputs": [],
   "source": [
    "# 기존 knowledge retrieval 대체\n",
    "\n",
    "# Supported values are: 'code_interpreter', 'function', and 'file_search'.\"라는 오류가 발생합니다. \n",
    "# retrieval를 file_search로 변경한 예제입니다.\n",
    "import os\n",
    "import keyring\n",
    "from openai import OpenAI\n",
    "\n",
    "client = OpenAI(\n",
    "    api_key=keyring.get_password('openai', 'key_for_mac')\n",
    ")"
   ]
  },
  {
   "cell_type": "code",
   "execution_count": 2,
   "metadata": {},
   "outputs": [
    {
     "data": {
      "text/plain": [
       "{'id': 'asst_aihmGiR98hXUrwpvR6Hz586P',\n",
       " 'created_at': 1722057719,\n",
       " 'description': None,\n",
       " 'instructions': '당신은 스마트팜에 대한 전문가입니다. pdf 파일에 기반하여 답변해주세요.',\n",
       " 'metadata': {},\n",
       " 'model': 'gpt-4o',\n",
       " 'name': 'smartfarm',\n",
       " 'object': 'assistant',\n",
       " 'tools': [{'type': 'file_search', 'file_search': None}],\n",
       " 'response_format': 'auto',\n",
       " 'temperature': 1.0,\n",
       " 'tool_resources': {'code_interpreter': None,\n",
       "  'file_search': {'vector_store_ids': []}},\n",
       " 'top_p': 1.0}"
      ]
     },
     "metadata": {},
     "output_type": "display_data"
    }
   ],
   "source": [
    "import json\n",
    "def show_json(obj):\n",
    "    display(json.loads(obj.model_dump_json()))\n",
    "    \n",
    "assistant = client.beta.assistants.create(\n",
    "    name='smartfarm',\n",
    "    instructions='당신은 스마트팜에 대한 전문가입니다. pdf 파일에 기반하여 답변해주세요.',\n",
    "    model='gpt-4o',\n",
    "    tools=[{'type': 'file_search'}]\n",
    ")\n",
    "show_json(assistant)"
   ]
  },
  {
   "cell_type": "code",
   "execution_count": 3,
   "metadata": {},
   "outputs": [
    {
     "name": "stdout",
     "output_type": "stream",
     "text": [
      "completed\n",
      "FileCounts(cancelled=0, completed=1, failed=0, in_progress=0, total=1)\n"
     ]
    },
    {
     "data": {
      "text/plain": [
       "{'id': 'vs_LFYzmUuQ7TY4kuxnaUnssuqE',\n",
       " 'created_at': 1722058209,\n",
       " 'file_counts': {'cancelled': 0,\n",
       "  'completed': 0,\n",
       "  'failed': 0,\n",
       "  'in_progress': 0,\n",
       "  'total': 0},\n",
       " 'last_active_at': 1722058209,\n",
       " 'metadata': {},\n",
       " 'name': 'file_store',\n",
       " 'object': 'vector_store',\n",
       " 'status': 'completed',\n",
       " 'usage_bytes': 0,\n",
       " 'expires_after': None,\n",
       " 'expires_at': None}"
      ]
     },
     "metadata": {},
     "output_type": "display_data"
    }
   ],
   "source": [
    "vector_store = client.beta.vector_stores.create(\n",
    "    name=\"file_store\"\n",
    ")\n",
    "\n",
    "# 업로드할 파일 PDF 준비\n",
    "file_paths = [\"data/smartfarm.pdf\"]\n",
    "file_streams = [open(path, 'rb') for path in file_paths]\n",
    "\n",
    "# 파일을 업로드하고, vector store에 추가\n",
    "file_batch = client.beta.vector_stores.file_batches.upload_and_poll(\n",
    "    vector_store_id=vector_store.id, files=file_streams,\n",
    ")\n",
    "\n",
    "# 파일 업로드 상태 확인\n",
    "print(file_batch.status)\n",
    "print(file_batch.file_counts)\n",
    "\n",
    "show_json(vector_store)"
   ]
  },
  {
   "cell_type": "code",
   "execution_count": 4,
   "metadata": {},
   "outputs": [
    {
     "data": {
      "text/plain": [
       "{'id': 'asst_aihmGiR98hXUrwpvR6Hz586P',\n",
       " 'created_at': 1722057719,\n",
       " 'description': None,\n",
       " 'instructions': '당신은 스마트팜에 대한 전문가입니다. pdf 파일에 기반하여 답변해주세요.',\n",
       " 'metadata': {},\n",
       " 'model': 'gpt-4o',\n",
       " 'name': 'smartfarm',\n",
       " 'object': 'assistant',\n",
       " 'tools': [{'type': 'file_search', 'file_search': None}],\n",
       " 'response_format': 'auto',\n",
       " 'temperature': 1.0,\n",
       " 'tool_resources': {'code_interpreter': None,\n",
       "  'file_search': {'vector_store_ids': ['vs_LFYzmUuQ7TY4kuxnaUnssuqE']}},\n",
       " 'top_p': 1.0}"
      ]
     },
     "metadata": {},
     "output_type": "display_data"
    }
   ],
   "source": [
    "# 생성한 vector store를 참조할 수 있도록 업데이트\n",
    "assistant = client.beta.assistants.update(\n",
    "    assistant_id=assistant.id,\n",
    "    tool_resources={\"file_search\": {\"vector_store_ids\": [vector_store.id]}},\n",
    ")\n",
    "show_json(assistant)"
   ]
  },
  {
   "cell_type": "code",
   "execution_count": 5,
   "metadata": {},
   "outputs": [
    {
     "data": {
      "text/plain": [
       "{'id': 'run_IzTlsYBkdX8Ch08sX9IdFz4s',\n",
       " 'assistant_id': 'asst_aihmGiR98hXUrwpvR6Hz586P',\n",
       " 'cancelled_at': None,\n",
       " 'completed_at': 1722058529,\n",
       " 'created_at': 1722058519,\n",
       " 'expires_at': None,\n",
       " 'failed_at': None,\n",
       " 'incomplete_details': None,\n",
       " 'instructions': '당신은 스마트팜에 대한 전문가입니다. pdf 파일에 기반하여 답변해주세요.',\n",
       " 'last_error': None,\n",
       " 'max_completion_tokens': None,\n",
       " 'max_prompt_tokens': None,\n",
       " 'metadata': {},\n",
       " 'model': 'gpt-4o',\n",
       " 'object': 'thread.run',\n",
       " 'parallel_tool_calls': True,\n",
       " 'required_action': None,\n",
       " 'response_format': 'auto',\n",
       " 'started_at': 1722058519,\n",
       " 'status': 'completed',\n",
       " 'thread_id': 'thread_Dqv52sxMLW2UFXFK16Otq1y6',\n",
       " 'tool_choice': 'auto',\n",
       " 'tools': [{'type': 'file_search', 'file_search': None}],\n",
       " 'truncation_strategy': {'type': 'auto', 'last_messages': None},\n",
       " 'usage': {'completion_tokens': 524,\n",
       "  'prompt_tokens': 11549,\n",
       "  'total_tokens': 12073},\n",
       " 'temperature': 1.0,\n",
       " 'top_p': 1.0,\n",
       " 'tool_resources': {}}"
      ]
     },
     "metadata": {},
     "output_type": "display_data"
    }
   ],
   "source": [
    "# thread, message, run 생성 및 실행\n",
    "thread = client.beta.threads.create()\n",
    "\n",
    "message = client.beta.threads.messages.create(\n",
    "    thread_id=thread.id,\n",
    "    role='user',\n",
    "    content='스마트팜 발전 추진배경?',\n",
    ")\n",
    "\n",
    "run = client.beta.threads.runs.create_and_poll(\n",
    "    thread_id=thread.id,\n",
    "    assistant_id=assistant.id\n",
    ")\n",
    "show_json(run)"
   ]
  },
  {
   "cell_type": "code",
   "execution_count": 6,
   "metadata": {},
   "outputs": [
    {
     "data": {
      "text/plain": [
       "{'data': [{'id': 'msg_bWpsQJ04J4h2JUZjiwvl2d5o',\n",
       "   'assistant_id': 'asst_aihmGiR98hXUrwpvR6Hz586P',\n",
       "   'attachments': [],\n",
       "   'completed_at': None,\n",
       "   'content': [{'text': {'annotations': [{'end_index': 256,\n",
       "        'file_citation': {'file_id': 'file-qVfta4bTyylLZRufC9RlJtBX'},\n",
       "        'start_index': 244,\n",
       "        'text': '【4:0†source】',\n",
       "        'type': 'file_citation'},\n",
       "       {'end_index': 452,\n",
       "        'file_citation': {'file_id': 'file-qVfta4bTyylLZRufC9RlJtBX'},\n",
       "        'start_index': 440,\n",
       "        'text': '【4:0†source】',\n",
       "        'type': 'file_citation'},\n",
       "       {'end_index': 635,\n",
       "        'file_citation': {'file_id': 'file-qVfta4bTyylLZRufC9RlJtBX'},\n",
       "        'start_index': 623,\n",
       "        'text': '【4:0†source】',\n",
       "        'type': 'file_citation'},\n",
       "       {'end_index': 821,\n",
       "        'file_citation': {'file_id': 'file-qVfta4bTyylLZRufC9RlJtBX'},\n",
       "        'start_index': 809,\n",
       "        'text': '【4:0†source】',\n",
       "        'type': 'file_citation'}],\n",
       "      'value': '스마트팜의 발전 추진 배경은 다음과 같습니다:\\n\\n1. **글로벌 농업 위기 극복**:\\n   - 기후변화, 농산물 수급 불안, 농촌의 인구 고령화 등으로 인해 농업이 다양한 도전 과제에 직면하고 있으며, 스마트농업이 이러한 문제를 해결할 수 있는 솔루션으로 주목받고 있습니다.\\n   - 스마트온실 도입 사례에서는 단위 생산량이 32% 증가하고 노동시간이 8% 감소했으며, 면적당 농업소득이 46% 증가하는 등의 긍정적인 성과가 나타났습니다【4:0†source】.\\n\\n2. **첨단기술을 활용한 생산성 향상**:\\n   - 인공지능, 데이터, 로봇 등 첨단기술을 활용해 최적의 농업 솔루션을 제공하는 융복합 전문기업이 등장하여 농업의 스마트화를 주도하고 있습니다.\\n   - 예를 들어, John Deere 회사는 데이터 기반의 첨단 농기계와 농장 관리 솔루션을 통해 수익성을 향상시키고 있습니다【4:0†source】.\\n\\n3. **선진국의 정책적 노력**:\\n   - 선진국들은 농업 인프라 구축, 연구 개발, 고효율 농자재 보급, 디지털 및 자동화 기술 도입, 인적 자본 투자 등 전후방 산업 생태계 강화를 위한 정책적 노력을 하고 있습니다.\\n   - 이와 같은 요소들은 농업 생산성 향상에 중요한 요소로 작용하고 있습니다【4:0†source】.\\n\\n4. **농업의 지속 가능성 위협 대응**:\\n   - 농가 인구와 경지 면적이 감소하고 농업의 경제적 기여도가 하락하는 가운데, 농업 인구의 고령화가 진행되고 있어 농업의 지속 가능성이 위협받고 있습니다.\\n   - 이에 스마트농업 고도화와 민간 주도의 확산을 촉진하기 위한 정책적인 요구가 증가하고 있습니다【4:0†source】.\\n\\n스마트팜 발전을 통해 농업의 여러 도전 과제를 극복하고, 다양한 기술적, 정책적 대응을 통해 지속 가능한 농업 생태계를 구축하려는 노력이 진행되고 있습니다.'},\n",
       "     'type': 'text'}],\n",
       "   'created_at': 1722058522,\n",
       "   'incomplete_at': None,\n",
       "   'incomplete_details': None,\n",
       "   'metadata': {},\n",
       "   'object': 'thread.message',\n",
       "   'role': 'assistant',\n",
       "   'run_id': 'run_IzTlsYBkdX8Ch08sX9IdFz4s',\n",
       "   'status': None,\n",
       "   'thread_id': 'thread_Dqv52sxMLW2UFXFK16Otq1y6'},\n",
       "  {'id': 'msg_X7TjvCCLVbiqDvoj6gX6tXye',\n",
       "   'assistant_id': None,\n",
       "   'attachments': [],\n",
       "   'completed_at': None,\n",
       "   'content': [{'text': {'annotations': [], 'value': '스마트팜 발전 추진배경?'},\n",
       "     'type': 'text'}],\n",
       "   'created_at': 1722058518,\n",
       "   'incomplete_at': None,\n",
       "   'incomplete_details': None,\n",
       "   'metadata': {},\n",
       "   'object': 'thread.message',\n",
       "   'role': 'user',\n",
       "   'run_id': None,\n",
       "   'status': None,\n",
       "   'thread_id': 'thread_Dqv52sxMLW2UFXFK16Otq1y6'}],\n",
       " 'object': 'list',\n",
       " 'first_id': 'msg_bWpsQJ04J4h2JUZjiwvl2d5o',\n",
       " 'last_id': 'msg_X7TjvCCLVbiqDvoj6gX6tXye',\n",
       " 'has_more': False}"
      ]
     },
     "metadata": {},
     "output_type": "display_data"
    }
   ],
   "source": [
    "# GPT-4o 답변 출력\n",
    "if run.status == \"completed\":\n",
    "    messages = client.beta.threads.messages.list(\n",
    "        thread_id=thread.id\n",
    "    )\n",
    "    show_json(messages)\n",
    "else:\n",
    "    print(run.status)"
   ]
  },
  {
   "cell_type": "code",
   "execution_count": 10,
   "metadata": {},
   "outputs": [],
   "source": [
    "# # old code for knowledge retreival\n",
    "\n",
    "# from openai import OpenAI\n",
    "# import keyring\n",
    "\n",
    "# client = OpenAI(\n",
    "#     api_key=keyring.get_password('openai', 'key_for_mac')\n",
    "# )\n",
    "\n",
    "# # file upload\n",
    "# file = client.files.create(file=open('data/smartfarm.pdf', \"rb\"), purpose='assistants')\n",
    "\n",
    "# # Assistant 생성\n",
    "# assistant = client.beta.assistants.create(\n",
    "#     instructions=\"You are a Q&A bot, and you have access to files to answer questions about the company.\",\n",
    "#     name='Q&A bot',\n",
    "#     tools=[{'type': 'retrieval'}],      # deprecated\n",
    "#     model='gpt-4o',\n",
    "#     file_ids=[file.id],\n",
    "# )\n",
    "\n",
    "# # Thread 생성\n",
    "# thread = client.beta.threads.create()\n",
    "\n",
    "# # 생성한 thread에 Message 생성\n",
    "# message = client.beta.threads.messages.create(\n",
    "#     thread_id=thread.id,\n",
    "#     role='user',\n",
    "#     content='what is korean smart farm?',\n",
    "# )\n",
    "\n",
    "# # Assistant 실행\n",
    "# run = client.beta.threads.runs.create(\n",
    "#     thread_id=thread.id,\n",
    "#     assistant_id=assistant.id\n",
    "# )\n",
    "\n",
    "# # Retrieve the run\n",
    "# run = client.beta.threads.runs.retrieve(\n",
    "#     thread_id=thread.id,\n",
    "#     run_id=run.id\n",
    "# )\n",
    "\n",
    "# # 생성한 thread에 Message 생성\n",
    "# messages = client.beta.threads.messages.list(\n",
    "#     thread_id=thread.id,\n",
    "# )\n",
    "\n",
    "# for i, message in enumerate(reversed(messages.data), start=1):\n",
    "#     print(f\"\\n# Message: {i}:\")\n",
    "#     for content in message.content:\n",
    "#         print(content.text.value)\n"
   ]
  }
 ],
 "metadata": {
  "kernelspec": {
   "display_name": "llm",
   "language": "python",
   "name": "python3"
  },
  "language_info": {
   "codemirror_mode": {
    "name": "ipython",
    "version": 3
   },
   "file_extension": ".py",
   "mimetype": "text/x-python",
   "name": "python",
   "nbconvert_exporter": "python",
   "pygments_lexer": "ipython3",
   "version": "3.11.9"
  }
 },
 "nbformat": 4,
 "nbformat_minor": 2
}
