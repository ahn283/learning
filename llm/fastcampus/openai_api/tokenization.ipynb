{
 "cells": [
  {
   "cell_type": "code",
   "execution_count": 1,
   "metadata": {},
   "outputs": [
    {
     "name": "stdout",
     "output_type": "stream",
     "text": [
      "Original Text:\n",
      "토큰화(Tokenization)는 문자열을 작은 단위, 즉 '토큰(Token)'으로 분리하는 과정입니다.@#\n",
      "\n",
      "Cleaned Text after Removing Special Characters and Punctuation:\n",
      "토큰화Tokenization는 문자열을 작은 단위 즉 토큰Token으로 분리하는 과정입니다\n"
     ]
    }
   ],
   "source": [
    "# data preprocessing\n",
    "# nltk.download(\"popular\")          # nltk error solving\n",
    "\n",
    "import string\n",
    "\n",
    "# 특수 문자와 구두점이 포함된 예제 텍스트\n",
    "text = \"토큰화(Tokenization)는 문자열을 작은 단위, 즉 '토큰(Token)'으로 분리하는 과정입니다.@#\"\n",
    "\n",
    "# 특수 문자 및 구두점 제거\n",
    "cleaned_text = text.translate(str.maketrans('', '', string.punctuation))\n",
    "\n",
    "print(\"Original Text:\")\n",
    "print(text)\n",
    "\n",
    "print(\"\\nCleaned Text after Removing Special Characters and Punctuation:\")\n",
    "print(cleaned_text)"
   ]
  },
  {
   "cell_type": "code",
   "execution_count": 2,
   "metadata": {},
   "outputs": [
    {
     "name": "stdout",
     "output_type": "stream",
     "text": [
      "Original Text:\n",
      "NLP is very helpful for Everyone.\n",
      "\n",
      "Lowercase Text:\n",
      "nlp is very helpful for everyone.\n"
     ]
    }
   ],
   "source": [
    "# 대소문자가 혼합된 예제 텍스트\n",
    "text = \"NLP is very helpful for Everyone.\"\n",
    "\n",
    "# into lower cases\n",
    "lowercase_text = text.lower()\n",
    "\n",
    "print(\"Original Text:\")\n",
    "print(text)\n",
    "print(\"\\nLowercase Text:\")\n",
    "print(lowercase_text)"
   ]
  },
  {
   "cell_type": "code",
   "execution_count": 4,
   "metadata": {},
   "outputs": [
    {
     "name": "stdout",
     "output_type": "stream",
     "text": [
      "Original text:\n",
      "I can't believe it's so hot today. Let's go to the park.\n",
      "\n",
      "Expanded Text with Contractions:\n",
      "I cannot believe it is so hot today. Let's go to the park.\n"
     ]
    }
   ],
   "source": [
    "# 축약형이 포함된 예시 텍스트\n",
    "text = \"I can't believe it's so hot today. Let's go to the park.\"\n",
    "\n",
    "# 축약 및 확장 형태 사전\n",
    "contraction_dict = {\n",
    "    \"can't\": \"cannot\",\n",
    "    \"it's\": \"it is\",\n",
    "    \"let's\": 'let us'\n",
    "}\n",
    "\n",
    "# 텍스트를 단어로 토큰화\n",
    "words = text.split()\n",
    "\n",
    "# 축약을 확장\n",
    "expanded_text = [contraction_dict[word] if word in contraction_dict else word for word in words]\n",
    "\n",
    "expanded_text = ' '.join(expanded_text)\n",
    "\n",
    "print(\"Original text:\")\n",
    "print(text)\n",
    "\n",
    "print(\"\\nExpanded Text with Contractions:\")\n",
    "print(expanded_text)"
   ]
  },
  {
   "cell_type": "code",
   "execution_count": 5,
   "metadata": {},
   "outputs": [
    {
     "name": "stdout",
     "output_type": "stream",
     "text": [
      "Original Text\n",
      "Today is Tursday.\n",
      "\n",
      "Corrected Text with Spelling Mistakes Fized:\n",
      "Today is Thursday.\n"
     ]
    }
   ],
   "source": [
    "# !pip install textblob\n",
    "\n",
    "from textblob import TextBlob       # 철차 교정 라이브러리\n",
    "\n",
    "# misspelled case\n",
    "text = \"Today is Tursday.\"\n",
    "\n",
    "# Instantiate TextBlob\n",
    "blob = TextBlob(text)\n",
    "\n",
    "# error correction\n",
    "corrected_text = str(blob.correct())\n",
    "\n",
    "print(\"Original Text\")\n",
    "print(text)\n",
    "\n",
    "print(\"\\nCorrected Text with Spelling Mistakes Fized:\")\n",
    "print(corrected_text)"
   ]
  },
  {
   "cell_type": "code",
   "execution_count": 8,
   "metadata": {},
   "outputs": [
    {
     "name": "stdout",
     "output_type": "stream",
     "text": [
      "Original text:\n",
      "토큰화(Tokenization)는 문자열을 작은 단위, 즉 '토큰(Token)'으로 분리하는 과정입니다.\n",
      "\n",
      "Tokenized Words:\n",
      "['토큰화', '(', 'Tokenization', ')', '는', '문자열을', '작은', '단위', ',', '즉', \"'토큰\", '(', 'Token', ')', \"'으로\", '분리하는', '과정입니다', '.']\n",
      "\n",
      "Tokenized Sentences:\n",
      "[\"토큰화(Tokenization)는 문자열을 작은 단위, 즉 '토큰(Token)'으로 분리하는 과정입니다.\"]\n"
     ]
    }
   ],
   "source": [
    "# example for tokenization\n",
    "import nltk     # python packages for natural language processing\n",
    "from nltk.tokenize import word_tokenize, sent_tokenize\n",
    "\n",
    "# text for tokenization\n",
    "text = \"토큰화(Tokenization)는 문자열을 작은 단위, 즉 '토큰(Token)'으로 분리하는 과정입니다.\"\n",
    "\n",
    "\n",
    "# turn text into word tokens\n",
    "words = word_tokenize(text)\n",
    "\n",
    "# turn text into sentence tokens\n",
    "sentences = sent_tokenize(text)\n",
    "\n",
    "print(\"Original text:\")\n",
    "print(text)\n",
    "\n",
    "print(\"\\nTokenized Words:\")\n",
    "print(words)\n",
    "\n",
    "print(\"\\nTokenized Sentences:\")\n",
    "print(sentences)"
   ]
  },
  {
   "cell_type": "code",
   "execution_count": null,
   "metadata": {},
   "outputs": [],
   "source": []
  }
 ],
 "metadata": {
  "kernelspec": {
   "display_name": "llm",
   "language": "python",
   "name": "python3"
  },
  "language_info": {
   "codemirror_mode": {
    "name": "ipython",
    "version": 3
   },
   "file_extension": ".py",
   "mimetype": "text/x-python",
   "name": "python",
   "nbconvert_exporter": "python",
   "pygments_lexer": "ipython3",
   "version": "3.11.9"
  }
 },
 "nbformat": 4,
 "nbformat_minor": 2
}
