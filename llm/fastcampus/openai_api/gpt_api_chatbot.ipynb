{
 "cells": [
  {
   "cell_type": "code",
   "execution_count": 1,
   "metadata": {},
   "outputs": [],
   "source": [
    "from langchain.chat_models import ChatOpenAI\n",
    "import keyring\n",
    "chat_model = ChatOpenAI(model='gpt-3.5-turbo', api_key=keyring.get_password('openai', 'key_for_mac'))"
   ]
  },
  {
   "cell_type": "code",
   "execution_count": 6,
   "metadata": {},
   "outputs": [
    {
     "name": "stdout",
     "output_type": "stream",
     "text": [
      "도전적인 스포츠는?\n",
      "등산, 스카이다이빙, 서핑과 같은 액티비티들이 도전적인 스포츠로 알려져 있습니다. 이러한 활동들은 흥미진진하고 도전적인 경험을 제공해 주며 자신의 한계를 시험하고 극복하는 기회를 제공합니다.\n"
     ]
    }
   ],
   "source": [
    "question = '도전적인 스포츠는?'\n",
    "answer = chat_model.predict(question).strip()\n",
    "print(question)\n",
    "print(answer)"
   ]
  },
  {
   "cell_type": "code",
   "execution_count": 4,
   "metadata": {},
   "outputs": [
    {
     "name": "stdout",
     "output_type": "stream",
     "text": [
      "스포츠중에서 도전적인 스포츠은/는?\n"
     ]
    }
   ],
   "source": [
    "# 매개변수를 이용한 질문을 위해 챗봇용 프롬프트 템플릿 구현\n",
    "from langchain.prompts import PromptTemplate\n",
    "promptTemplate = PromptTemplate.from_template(\n",
    "    \"{context}중에서 {topic}은/는?\"\n",
    ")\n",
    "\n",
    "# 매개변수를 사용하여 프롬프트 템플릿을 지정\n",
    "prompt = promptTemplate.format(\n",
    "    topic=\"도전적인 스포츠\",\n",
    "    context=\"스포츠\"\n",
    ")\n",
    "\n",
    "print(prompt)"
   ]
  },
  {
   "cell_type": "code",
   "execution_count": 5,
   "metadata": {},
   "outputs": [
    {
     "name": "stdout",
     "output_type": "stream",
     "text": [
      "{'question': '육체적중에서 도전적인 스포츠은/는?', 'answer': '농구, 축구, 랭구, 테니스, 레슬링 등은 도전적인 스포츠로 알려져 있습니다.'}\n",
      "{'question': '정신적중에서 도전적인 스포츠은/는?', 'answer': '등산, 서핑, 스카이다이빙, 스노우보딩과 같은 극한 스포츠가 도전적인 정신적인 측면을 가지고 있습니다. 이러한 스포츠는 자기 자신을 극복하고 자신의 한계를 시험하는 데 도움이 될 수 있습니다.'}\n"
     ]
    }
   ],
   "source": [
    "def get_answer(topic, context):\n",
    "    \"\"\" \n",
    "    This function returns the answer to the question \"{context}중에서 {topic}은/는?\" \n",
    "    in dictionary format\n",
    "    \"\"\"\n",
    "    promptTemplate = PromptTemplate.from_template(\n",
    "        \"{context}중에서 {topic}은/는?\"\n",
    "    )\n",
    "    question = promptTemplate.format(\n",
    "        topic=topic,\n",
    "        context=context\n",
    "    )\n",
    "    answer = chat_model.predict(question).strip()\n",
    "    return {\"question\": question, \"answer\": answer}\n",
    "\n",
    "print(get_answer(\"도전적인 스포츠\", \"육체적\"))\n",
    "print(get_answer(\"도전적인 스포츠\", \"정신적\"))"
   ]
  },
  {
   "cell_type": "code",
   "execution_count": null,
   "metadata": {},
   "outputs": [],
   "source": []
  }
 ],
 "metadata": {
  "kernelspec": {
   "display_name": "llm",
   "language": "python",
   "name": "python3"
  },
  "language_info": {
   "codemirror_mode": {
    "name": "ipython",
    "version": 3
   },
   "file_extension": ".py",
   "mimetype": "text/x-python",
   "name": "python",
   "nbconvert_exporter": "python",
   "pygments_lexer": "ipython3",
   "version": "3.11.9"
  }
 },
 "nbformat": 4,
 "nbformat_minor": 2
}
