{
 "cells": [
  {
   "cell_type": "code",
   "execution_count": 1,
   "metadata": {},
   "outputs": [
    {
     "name": "stdout",
     "output_type": "stream",
     "text": [
      "죄송합니다. 직접적인 데이터에 대한 접근이나 요약 작업이 없으므로, 데이터를 요약하는 것은 불가능합니다.\n"
     ]
    }
   ],
   "source": [
    "import openai\n",
    "from openai import OpenAI\n",
    "import keyring\n",
    "\n",
    "client = OpenAI(\n",
    "    api_key=keyring.get_password('openai', 'key_for_mac')\n",
    ")\n",
    "\n",
    "# 샘플 데이터 탐색 질문\n",
    "question = \"고객 리뷰가 포함된 데이터를 요약해줘?\"\n",
    "\n",
    "repsonse = client.chat.completions.create(\n",
    "    model='gpt-4',\n",
    "    messages=[{'role': 'user', 'content': question}],\n",
    "    max_tokens=50\n",
    ")\n",
    "\n",
    "# 응답 추출 및 프린트\n",
    "print(repsonse.choices[0].message.content)"
   ]
  },
  {
   "cell_type": "code",
   "execution_count": 2,
   "metadata": {},
   "outputs": [
    {
     "name": "stdout",
     "output_type": "stream",
     "text": [
      "Pandas DataFrame에서 중복 항목을 제거하는 방법은 `drop_duplicates()` 함수를 사용하는 것입니다.\n",
      "\n",
      "기본적으로 `drop_duplicates()` 함수는 중복된 행을 제거합니다. \n",
      "\n",
      "\n"
     ]
    }
   ],
   "source": [
    "question = \"Pandas DataFrame에서 중복 항목을 제거하는 방법은?\"\n",
    "\n",
    "repsonse = client.chat.completions.create(\n",
    "    model='gpt-4',\n",
    "    messages=[{'role': 'user', 'content': question}],\n",
    "    max_tokens=50\n",
    ")\n",
    "\n",
    "# 응답 추출 및 프린트\n",
    "print(repsonse.choices[0].message.content)"
   ]
  },
  {
   "cell_type": "code",
   "execution_count": 3,
   "metadata": {},
   "outputs": [
    {
     "name": "stdout",
     "output_type": "stream",
     "text": [
      "죄송합니다, 저는 텍스트 기반 인공지능으로서 물리적인 데이터를 처리, 분석 또는 시각화 하는 것은 불\n"
     ]
    }
   ],
   "source": [
    "question = '지난 1년간의 판매 데이터를 시각화하기 위한 막대 차트를 생성해줘?'\n",
    "\n",
    "repsonse = client.chat.completions.create(\n",
    "    model='gpt-4',\n",
    "    messages=[{'role': 'user', 'content': question}],\n",
    "    max_tokens=50\n",
    ")\n",
    "\n",
    "print(repsonse.choices[0].message.content)"
   ]
  },
  {
   "cell_type": "code",
   "execution_count": 4,
   "metadata": {},
   "outputs": [
    {
     "name": "stdout",
     "output_type": "stream",
     "text": [
      "1. 더 나은 경쟁 상품: 다른 회사가 더 좋은 제품이나 서비스를 제공하는 경우, 이는 고객 이\n"
     ]
    }
   ],
   "source": [
    "question = '구독 서비스에서 고객 이탈에 영향을 미치는 주요 원인은?'\n",
    "\n",
    "repsonse = client.chat.completions.create(\n",
    "    model='gpt-4',\n",
    "    messages=[{'role': 'user', 'content': question}],\n",
    "    max_tokens=50\n",
    ")\n",
    "print(repsonse.choices[0].message.content)"
   ]
  },
  {
   "cell_type": "code",
   "execution_count": 5,
   "metadata": {},
   "outputs": [
    {
     "name": "stdout",
     "output_type": "stream",
     "text": [
      "죄송합니다, 제가 특정 데이터에 대한 감정 분포를 제공할 수 없습니다. 제가 인공지능이기 때문에 실시간 데이터에\n"
     ]
    }
   ],
   "source": [
    "data = 'data/Reviews.csv'\n",
    "question = '데이터의 감정 분포에 대한 요약을 제공해줘?'\n",
    "\n",
    "def explore_data(data, question):\n",
    "    prompt = f\"Data: {data}\\nQuestion: {question}\"\n",
    "    # client = OpenAI(\n",
    "    #     api_key=keyring.get_password('openai', 'key_for_mac')\n",
    "    # )\n",
    "    response = client.chat.completions.create(\n",
    "        model='gpt-4',\n",
    "        messages=[{'role': 'user', 'content': question}],\n",
    "        max_tokens=50\n",
    "    )\n",
    "    return response.choices[0].message.content\n",
    "\n",
    "result = explore_data(data, question)\n",
    "print(result)"
   ]
  }
 ],
 "metadata": {
  "kernelspec": {
   "display_name": "llm",
   "language": "python",
   "name": "python3"
  },
  "language_info": {
   "codemirror_mode": {
    "name": "ipython",
    "version": 3
   },
   "file_extension": ".py",
   "mimetype": "text/x-python",
   "name": "python",
   "nbconvert_exporter": "python",
   "pygments_lexer": "ipython3",
   "version": "3.11.9"
  }
 },
 "nbformat": 4,
 "nbformat_minor": 2
}
