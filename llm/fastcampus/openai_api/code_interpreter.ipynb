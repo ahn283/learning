{
 "cells": [
  {
   "cell_type": "code",
   "execution_count": 1,
   "metadata": {},
   "outputs": [],
   "source": [
    "import os\n",
    "import time\n",
    "from openai import OpenAI\n",
    "import keyring"
   ]
  },
  {
   "cell_type": "code",
   "execution_count": 2,
   "metadata": {},
   "outputs": [],
   "source": [
    "api_key = keyring.get_password(service_name='openai', username='key_for_mac')\n",
    "client = OpenAI(\n",
    "    api_key=api_key\n",
    ")"
   ]
  },
  {
   "cell_type": "code",
   "execution_count": 3,
   "metadata": {},
   "outputs": [],
   "source": [
    "assistant_name = \"Power point generator\"        # assistant name \n",
    "# output_file_name = \"C:/Users/woojin/Documents/presentation01.pptx\"    # for windows\n",
    "output_file_name = \"data/presentation01.pptx\"       # for mac\n",
    "\n",
    "# 구체적인 지시사항\n",
    "assistant_instruction = r\"파일을 만들어줘 {} 언제나. 너는 해당 주제의 전문가이자 PowerPoint 작성 전문가야. 배경, 색상, 글꼴 및 스타일은 현대적이고 읽기 쉽게 1-5개 슬라이드로 만들어줘. 콘텐츠를 매력적으로 만들어줘. 또한 파일을 다운로드할 수 있어야해\".format(output_file_name)\n",
    "prompt_user = \"개인 기록을 목표로 등산을 연습하는 사람들을 위한 프레젠테이션을 만들어줘. 유용한 통찰력, 다양한 수준에 대한 교육 계획 및 교육 기간 전, 도중 및 후에 몇 가지 팁이 포함된 프레젠테이션을 만들어줘. 물론 통찰력도 제공해야해\""
   ]
  },
  {
   "cell_type": "code",
   "execution_count": 4,
   "metadata": {},
   "outputs": [],
   "source": [
    "## assistant > thread > message > run\n",
    "\n",
    "assistant = client.beta.assistants.create(\n",
    "    name=assistant_name,\n",
    "    instructions=assistant_instruction,\n",
    "    tools=[{\"type\": \"code_interpreter\"}],\n",
    "    model='gpt-4-1106-preview'\n",
    ")"
   ]
  },
  {
   "cell_type": "code",
   "execution_count": 5,
   "metadata": {},
   "outputs": [],
   "source": [
    "# 스레드는 어스시턴트와 사용자 간의 대화 세션\n",
    "# 채팅 창에서 대화를 시작하면 스레드가 생성\n",
    "# 해당 대화 중에 교환되는 모든 메시지가 동일한 스레드에서 진행\n",
    "thread = client.beta.threads.create()\n",
    "\n",
    "# 메시지는 스레드 내의 통신 단위\n",
    "# 사용자 쿼리, 명령 또는 사용자의 어시스턴트 간에 교환되는 모든 콘텐츠일 수 있습니다.\n",
    "message = client.beta.threads.messages.create(\n",
    "    thread_id=thread.id,\n",
    "    role='user',\n",
    "    content=prompt_user\n",
    ")"
   ]
  },
  {
   "cell_type": "code",
   "execution_count": 6,
   "metadata": {},
   "outputs": [],
   "source": [
    "# 실행은 어시스턴트와의 단일 상호작용을 의미\n",
    "# 실행은 사용자가 대화를 시작 (스레드 생성)할 때 시작되고 대화가 끝나면 종료됩니다.\n",
    "run = client.beta.threads.runs.create(\n",
    "    thread_id=thread.id,\n",
    "    assistant_id=assistant.id\n",
    ")"
   ]
  },
  {
   "cell_type": "code",
   "execution_count": 7,
   "metadata": {},
   "outputs": [
    {
     "name": "stdout",
     "output_type": "stream",
     "text": [
      "in_progress\n",
      "in_progress\n",
      "in_progress\n",
      "in_progress\n",
      "in_progress\n",
      "in_progress\n",
      "in_progress\n",
      "in_progress\n",
      "in_progress\n",
      "in_progress\n"
     ]
    }
   ],
   "source": [
    "timeout = 180\n",
    "interval_time = 5\n",
    "time_taken = 0\n",
    "while time_taken < timeout:\n",
    "    run = client.beta.threads.runs.retrieve(\n",
    "        thread_id=thread.id,\n",
    "        run_id=run.id\n",
    "    )\n",
    "    if run.status == 'completed':\n",
    "        break  "
   ]
  },
  {
   "cell_type": "code",
   "execution_count": 8,
   "metadata": {},
   "outputs": [],
   "source": [
    "messages = client.beta.threads.messages.list(\n",
    "    thread_id=thread.id\n",
    ")\n",
    "file_path = messages.data[0].content[0].text.annotations[0].file_path.file_id\n",
    "file_name = client.files.with_raw_response.retrieve_content(file_path)"
   ]
  },
  {
   "cell_type": "code",
   "execution_count": 9,
   "metadata": {},
   "outputs": [],
   "source": [
    "with open(output_file_name, 'wb') as file:\n",
    "    file.write(file_name.content)"
   ]
  },
  {
   "cell_type": "code",
   "execution_count": 10,
   "metadata": {},
   "outputs": [
    {
     "data": {
      "text/plain": [
       "AssistantDeleted(id='asst_JaTVWp9loUFWUA38tUzkOdni', deleted=True, object='assistant.deleted')"
      ]
     },
     "execution_count": 10,
     "metadata": {},
     "output_type": "execute_result"
    }
   ],
   "source": [
    "client.files.delete(file_path)\n",
    "client.beta.assistants.delete(assistant.id)"
   ]
  },
  {
   "cell_type": "code",
   "execution_count": null,
   "metadata": {},
   "outputs": [],
   "source": []
  }
 ],
 "metadata": {
  "kernelspec": {
   "display_name": "llm",
   "language": "python",
   "name": "python3"
  },
  "language_info": {
   "codemirror_mode": {
    "name": "ipython",
    "version": 3
   },
   "file_extension": ".py",
   "mimetype": "text/x-python",
   "name": "python",
   "nbconvert_exporter": "python",
   "pygments_lexer": "ipython3",
   "version": "3.11.9"
  }
 },
 "nbformat": 4,
 "nbformat_minor": 2
}
