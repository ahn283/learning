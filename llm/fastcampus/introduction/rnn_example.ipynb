{
 "cells": [
  {
   "cell_type": "code",
   "execution_count": 1,
   "metadata": {},
   "outputs": [],
   "source": [
    "# RNN 예시\n",
    "\n",
    "import torch\n",
    "import torch.nn as nn \n",
    "import torch.optim as optim"
   ]
  },
  {
   "cell_type": "code",
   "execution_count": 7,
   "metadata": {},
   "outputs": [],
   "source": [
    "class SimpleRNN(nn.Module):\n",
    "    def __init__(self, input_size, hidden_size, output_size):\n",
    "        super(SimpleRNN, self).__init__()\n",
    "        self.hidden_size = hidden_size\n",
    "        \n",
    "        self.rnn = nn.RNN(input_size, hidden_size)   # RNN layer\n",
    "        self.fc = nn.Linear(hidden_size, output_size)   # output layer\n",
    "        \n",
    "    def forward(self, x):\n",
    "        # initial hidden states\n",
    "        h0 = torch.zeros(1, x.size(1), self.hidden_size)\n",
    "        \n",
    "        # RNN에 x와 초기 은닉 상태 전달\n",
    "        out, _ = self.rnn(x, h0)        # x에 배치 차원 추가\n",
    "        \n",
    "        # 마지막 단계의 출력을 분류기에 전달\n",
    "        out = self.fc(out[:, -1, :])\n",
    "        return out"
   ]
  },
  {
   "cell_type": "code",
   "execution_count": 8,
   "metadata": {},
   "outputs": [],
   "source": [
    "# input and out size\n",
    "input_size = 10     # input features\n",
    "hidden_size = 20    # hidden features\n",
    "output_size = 1     # output features\n",
    "\n",
    "# random training data\n",
    "x_train = torch.randn(100, 5, input_size)   # 100 samples of 5 steps and 10 features\n",
    "y_train = torch.randn(100, 1) \n",
    "\n",
    "# test data\n",
    "x_test = torch.randn(20, 5, input_size)\n",
    "y_test = torch.randn(20, 1)"
   ]
  },
  {
   "cell_type": "code",
   "execution_count": 9,
   "metadata": {},
   "outputs": [],
   "source": [
    "# initialize model\n",
    "model = SimpleRNN(input_size, hidden_size, output_size)\n",
    "\n",
    "criterion = nn.MSELoss()        # loss function\n",
    "optimizer = optim.Adam(model.parameters(), lr=0.01)"
   ]
  },
  {
   "cell_type": "code",
   "execution_count": 10,
   "metadata": {},
   "outputs": [
    {
     "name": "stderr",
     "output_type": "stream",
     "text": [
      "/Users/woojin/anaconda3/envs/llm/lib/python3.11/site-packages/torch/nn/modules/loss.py:535: UserWarning: Using a target size (torch.Size([1])) that is different to the input size (torch.Size([5, 1])). This will likely lead to incorrect results due to broadcasting. Please ensure they have the same size.\n",
      "  return F.mse_loss(input, target, reduction=self.reduction)\n"
     ]
    },
    {
     "name": "stdout",
     "output_type": "stream",
     "text": [
      "Epoch [1/0], loss : 0.4914\n",
      "Epoch [2/1], loss : 0.0661\n",
      "Epoch [3/2], loss : 0.1626\n",
      "Epoch [4/3], loss : 0.3170\n",
      "Epoch [5/4], loss : 0.4354\n",
      "Epoch [6/5], loss : 0.3765\n",
      "Epoch [7/6], loss : 0.4287\n",
      "Epoch [8/7], loss : 0.3227\n",
      "Epoch [9/8], loss : 0.2816\n",
      "Epoch [10/9], loss : 0.2220\n"
     ]
    }
   ],
   "source": [
    "epochs = 10     # training epochs\n",
    "\n",
    "for epoch in range(epochs):\n",
    "    for i in range(len(x_train)):\n",
    "        # 현재 배치 데이터\n",
    "        inputs = x_train[i].unsqueeze(1)   # add batch dimenstion\n",
    "        labels = y_train[i]\n",
    "        \n",
    "        # forward pass\n",
    "        outputs = model(inputs)\n",
    "        loss = criterion(outputs, labels)\n",
    "        \n",
    "        # backward and optimize\n",
    "        optimizer.zero_grad()\n",
    "        loss.backward()\n",
    "        optimizer.step()\n",
    "        \n",
    "    print(f\"Epoch [{epoch+1}/{epoch}], loss : {loss.item():.4f}\")"
   ]
  },
  {
   "cell_type": "code",
   "execution_count": 13,
   "metadata": {},
   "outputs": [
    {
     "name": "stdout",
     "output_type": "stream",
     "text": [
      "Test Loss: 1.3272\n"
     ]
    },
    {
     "name": "stderr",
     "output_type": "stream",
     "text": [
      "/Users/woojin/anaconda3/envs/llm/lib/python3.11/site-packages/torch/nn/modules/loss.py:535: UserWarning: Using a target size (torch.Size([1])) that is different to the input size (torch.Size([5, 1])). This will likely lead to incorrect results due to broadcasting. Please ensure they have the same size.\n",
      "  return F.mse_loss(input, target, reduction=self.reduction)\n"
     ]
    }
   ],
   "source": [
    "# evaluation mode\n",
    "model.eval()\n",
    "\n",
    "test_loss = 0\n",
    "with torch.no_grad():\n",
    "    for i in range(len(x_test)):\n",
    "        inputs = x_test[i].unsqueeze(1)\n",
    "        labels = y_test[i]\n",
    "        \n",
    "        outputs = model(inputs)\n",
    "        loss = criterion(outputs, labels)\n",
    "        test_loss += loss.item()\n",
    "    print(f'Test Loss: {test_loss / len(x_test):.4f}')"
   ]
  },
  {
   "cell_type": "code",
   "execution_count": null,
   "metadata": {},
   "outputs": [],
   "source": [
    "print(\"\")"
   ]
  }
 ],
 "metadata": {
  "kernelspec": {
   "display_name": "llm",
   "language": "python",
   "name": "python3"
  },
  "language_info": {
   "codemirror_mode": {
    "name": "ipython",
    "version": 3
   },
   "file_extension": ".py",
   "mimetype": "text/x-python",
   "name": "python",
   "nbconvert_exporter": "python",
   "pygments_lexer": "ipython3",
   "version": "3.11.9"
  }
 },
 "nbformat": 4,
 "nbformat_minor": 2
}
