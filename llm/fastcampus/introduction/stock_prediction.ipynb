{
 "cells": [
  {
   "cell_type": "code",
   "execution_count": null,
   "metadata": {},
   "outputs": [],
   "source": [
    "# libraries\n",
    "# !pip install openai\n",
    "# !pip install langchain\n",
    "# !pip install eodhd\n",
    "# !pip install config"
   ]
  },
  {
   "cell_type": "code",
   "execution_count": 4,
   "metadata": {},
   "outputs": [],
   "source": [
    "import re\n",
    "import requests\n",
    "import pandas as pd\n",
    "from eodhd import APIClient     # EOD Hitorical DATA로 data API 제공\n",
    "from langchain.chains import LLMChain\n",
    "from langchain.prompts import PromptTemplate\n",
    "from langchain.chat_models import ChatOpenAI\n",
    "import keyring"
   ]
  },
  {
   "cell_type": "code",
   "execution_count": 6,
   "metadata": {},
   "outputs": [],
   "source": [
    "api_key = keyring.get_password('eodhd', 'ahn283')\n",
    "api = APIClient(api_key)"
   ]
  },
  {
   "cell_type": "code",
   "execution_count": 7,
   "metadata": {},
   "outputs": [
    {
     "data": {
      "text/html": [
       "<div>\n",
       "<style scoped>\n",
       "    .dataframe tbody tr th:only-of-type {\n",
       "        vertical-align: middle;\n",
       "    }\n",
       "\n",
       "    .dataframe tbody tr th {\n",
       "        vertical-align: top;\n",
       "    }\n",
       "\n",
       "    .dataframe thead th {\n",
       "        text-align: right;\n",
       "    }\n",
       "</style>\n",
       "<table border=\"1\" class=\"dataframe\">\n",
       "  <thead>\n",
       "    <tr style=\"text-align: right;\">\n",
       "      <th></th>\n",
       "      <th>date</th>\n",
       "      <th>title</th>\n",
       "      <th>content</th>\n",
       "      <th>link</th>\n",
       "      <th>symbols</th>\n",
       "      <th>tags</th>\n",
       "      <th>sentiment</th>\n",
       "    </tr>\n",
       "  </thead>\n",
       "  <tbody>\n",
       "    <tr>\n",
       "      <th>95</th>\n",
       "      <td>2024-03-14T07:03:28+00:00</td>\n",
       "      <td>Oracle adds generative AI features to finance,...</td>\n",
       "      <td>By Stephen Nellis\\n\\n(Reuters) - Oracle on Thu...</td>\n",
       "      <td>https://finance.yahoo.com/news/oracle-adds-gen...</td>\n",
       "      <td>[0QYP.IL, MSF.BE, MSF.DU, MSF.F, MSF.HM, MSF.M...</td>\n",
       "      <td>[]</td>\n",
       "      <td>{'polarity': 0.612, 'neg': 0.014, 'neu': 0.954...</td>\n",
       "    </tr>\n",
       "    <tr>\n",
       "      <th>96</th>\n",
       "      <td>2024-03-14T00:00:00+00:00</td>\n",
       "      <td>7 Delightful Dividend Stocks to Put Some Sprin...</td>\n",
       "      <td>The best dividend stocks can be counted on to ...</td>\n",
       "      <td>https://investorplace.com/market360/2024/03/7-...</td>\n",
       "      <td>[AAPL.US, AVGO.US, JPM.US, LLY.US, MA.US, MSFT...</td>\n",
       "      <td>[]</td>\n",
       "      <td>{'polarity': 0.856, 'neg': 0, 'neu': 0.732, 'p...</td>\n",
       "    </tr>\n",
       "    <tr>\n",
       "      <th>97</th>\n",
       "      <td>2024-03-14T00:00:00+00:00</td>\n",
       "      <td>3 Virtual Reality Stocks to Buy as the VR Mark...</td>\n",
       "      <td>While you might not personally be a fan of dig...</td>\n",
       "      <td>https://investorplace.com/2024/03/3-virtual-re...</td>\n",
       "      <td>[META.US, MSFT.US, U.US]</td>\n",
       "      <td>[]</td>\n",
       "      <td>{'polarity': 0.399, 'neg': 0.081, 'neu': 0.792...</td>\n",
       "    </tr>\n",
       "    <tr>\n",
       "      <th>98</th>\n",
       "      <td>2024-03-14T00:00:00+00:00</td>\n",
       "      <td>\\nAnders Bylund  |  Mar 14, 2024\\n</td>\n",
       "      <td>\\nAnders Bylund  |  Mar 14, 2024\\n</td>\n",
       "      <td>https://www.fool.com/terms/t/turnaround/</td>\n",
       "      <td>[AAPL.US, MSFT.US, NFLX.US]</td>\n",
       "      <td>[]</td>\n",
       "      <td>{'polarity': 0, 'neg': 0, 'neu': 1, 'pos': 0}</td>\n",
       "    </tr>\n",
       "    <tr>\n",
       "      <th>99</th>\n",
       "      <td>2024-03-14T00:00:00+00:00</td>\n",
       "      <td>\\nDanny Vena  |  Mar 14, 2024\\n</td>\n",
       "      <td>Wall Street sees big upside for the company's ...</td>\n",
       "      <td>https://www.fool.com/investing/2024/03/14/why-...</td>\n",
       "      <td>[MSFT.US]</td>\n",
       "      <td>[]</td>\n",
       "      <td>{'polarity': 0.477, 'neg': 0, 'neu': 0.78, 'po...</td>\n",
       "    </tr>\n",
       "  </tbody>\n",
       "</table>\n",
       "</div>"
      ],
      "text/plain": [
       "                         date  ...                                          sentiment\n",
       "95  2024-03-14T07:03:28+00:00  ...  {'polarity': 0.612, 'neg': 0.014, 'neu': 0.954...\n",
       "96  2024-03-14T00:00:00+00:00  ...  {'polarity': 0.856, 'neg': 0, 'neu': 0.732, 'p...\n",
       "97  2024-03-14T00:00:00+00:00  ...  {'polarity': 0.399, 'neg': 0.081, 'neu': 0.792...\n",
       "98  2024-03-14T00:00:00+00:00  ...      {'polarity': 0, 'neg': 0, 'neu': 1, 'pos': 0}\n",
       "99  2024-03-14T00:00:00+00:00  ...  {'polarity': 0.477, 'neg': 0, 'neu': 0.78, 'po...\n",
       "\n",
       "[5 rows x 7 columns]"
      ]
     },
     "execution_count": 7,
     "metadata": {},
     "output_type": "execute_result"
    }
   ],
   "source": [
    "resp = api.financial_news(s = 'MSFT', from_date='2024-01-01', to_date='2024-03-20', limit=100)\n",
    "df = pd.DataFrame(resp)     # transfrom json output into dataframe\n",
    "df.tail()"
   ]
  },
  {
   "cell_type": "code",
   "execution_count": 10,
   "metadata": {},
   "outputs": [],
   "source": [
    "# preprocessing of text data\n",
    "def clean_text(text):\n",
    "    cleaned_text = re.sub(r'\\s+', ' ', text)\n",
    "    return cleaned_text.strip()"
   ]
  },
  {
   "cell_type": "code",
   "execution_count": 11,
   "metadata": {},
   "outputs": [],
   "source": [
    "# apply preprocessing to all rows\n",
    "df['content'] = df['content'].apply(clean_text)"
   ]
  },
  {
   "cell_type": "code",
   "execution_count": 12,
   "metadata": {},
   "outputs": [],
   "source": [
    "# Instantiate ChatOpenAI instance\n",
    "llm = ChatOpenAI(\n",
    "    model='gpt-4',\n",
    "    openai_api_key=keyring.get_password('openai', 'key_for_mac'),\n",
    "    temperature=0\n",
    ")"
   ]
  },
  {
   "cell_type": "code",
   "execution_count": 13,
   "metadata": {},
   "outputs": [],
   "source": [
    "template = \"\"\"\n",
    "Identify the sentiment towards the MSFT stocks from the news article , where the sentiment score should be from -10 to +10 where -10 being the most negative and +10 being the most positve , and 0 being neutral\n",
    "Also give the proper explanation for your answers and how would it effect the prices of different stocks\n",
    "Article : {statement}\n",
    "\"\"\"\n",
    "\n",
    "# Create prompts using Langchain PromptTemplate \n",
    "prompt = PromptTemplate(template=template, input_variables=[\"statement\"])\n",
    "llm_chain = LLMChain(prompt=prompt, llm=llm)"
   ]
  },
  {
   "cell_type": "code",
   "execution_count": 14,
   "metadata": {},
   "outputs": [
    {
     "name": "stdout",
     "output_type": "stream",
     "text": [
      "The sentiment towards MSFT stocks from this news article is +8. \n",
      "\n",
      "The article is highly positive about Microsoft's recent actions and future prospects. The hiring of Mustafa Suleyman, a well-known figure in the AI industry, is likely to strengthen Microsoft's leading position in the booming AI industry. This is a strategic move that could potentially lead to the development of innovative products and services, thereby increasing the company's competitive advantage. \n",
      "\n",
      "Furthermore, Microsoft's partnerships with OpenAI and Mistral, as well as its significant investments in AI, indicate the company's commitment to staying at the forefront of technological advancements. This could lead to increased investor confidence in the company's ability to generate future profits, which could positively impact the stock price.\n",
      "\n",
      "However, the sentiment is not a full +10 as the article also mentions the need to limit potential perils of AI, indicating that there are still challenges and risks associated with the industry that Microsoft will need to navigate. \n",
      "\n",
      "This positive sentiment towards Microsoft could potentially negatively affect the stock prices of its competitors if investors choose to shift their investments towards Microsoft. Conversely, companies that are partners or suppliers to Microsoft could see a positive impact on their stock prices due to the potential for increased business.\n"
     ]
    }
   ],
   "source": [
    "print(llm_chain.run(df['content'][13]))"
   ]
  },
  {
   "cell_type": "code",
   "execution_count": null,
   "metadata": {},
   "outputs": [],
   "source": []
  }
 ],
 "metadata": {
  "kernelspec": {
   "display_name": "llm",
   "language": "python",
   "name": "python3"
  },
  "language_info": {
   "codemirror_mode": {
    "name": "ipython",
    "version": 3
   },
   "file_extension": ".py",
   "mimetype": "text/x-python",
   "name": "python",
   "nbconvert_exporter": "python",
   "pygments_lexer": "ipython3",
   "version": "3.11.9"
  }
 },
 "nbformat": 4,
 "nbformat_minor": 2
}
