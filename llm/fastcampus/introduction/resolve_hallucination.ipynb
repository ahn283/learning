{
 "cells": [
  {
   "cell_type": "code",
   "execution_count": 4,
   "metadata": {},
   "outputs": [],
   "source": [
    "# temperature를 0으로 설정\n",
    "import openai \n",
    "import keyring\n",
    "from openai import OpenAI"
   ]
  },
  {
   "cell_type": "code",
   "execution_count": 15,
   "metadata": {},
   "outputs": [
    {
     "name": "stdout",
     "output_type": "stream",
     "text": [
      "세종대왕과 모나리자는 각각 한국의 역사와 서양의 예술을 대표하는 인물입니다.\n",
      "\n",
      "세종대왕은 조선 시대의 네 번째 왕으로, 그의 통치 기간 동안 많은 문화적, 과학적 발전이 이루어졌습니다. 그는 훈민정음(현대의 한글)을 창제하여 백성들이 읽고 쓸 수 있게 했으며, 천문학, 농업, 의학 등 다양한 분야에서의 발전을 이끌었습니다.\n",
      "\n",
      "모나리자는 이탈리아의 대표적인 화가 레오나르도 다 빈치가 그린 초상화로, 그녀의 미소와 고요한 표정, 그리고 배경의 경치 등이 독특하게 그려져 있어 세계적으로 유명합니다. 이 작품은 프랑스 파리의 루브르 박물관에 소장되어 있습니다.\n"
     ]
    }
   ],
   "source": [
    "# deprecated\n",
    "# response= openai.ChatCompletion.create(\n",
    "#     model='gpt-4',      # 사용할 모델 엔진 지정\n",
    "#     message=[\n",
    "#         {\"role\": \"system\", \"content\": \"You are a helpful assistant.\"},\n",
    "#         {\"role\": \"user\", \"content\": \"세종대와과 모나리자?\"}     # 여기에 질문을 입력\n",
    "#     ],\n",
    "#     temperature=0.0     # 여기서 temperature를 지정 (0에서 1 사이 값)\n",
    "# )\n",
    "\n",
    "client = OpenAI(\n",
    "    api_key=keyring.get_password('openai', 'key_for_mac')\n",
    ")\n",
    "\n",
    "\n",
    "response = client.chat.completions.create(\n",
    "    messages=[\n",
    "        {\n",
    "            \"role\": \"system\",\n",
    "            \"content\": \"You are a helpful assistant.\"\n",
    "        },\n",
    "        {\n",
    "            \"role\": \"user\",\n",
    "            \"content\": \"세종대왕과 모나리자?\"       # 여기에 질문을 입력\n",
    "        }\n",
    "    ],\n",
    "    model='gpt-4',      # 사용할 모델\n",
    "    temperature=0.0     # 여기에 temperature를 지정 (0에서 2 사이)\n",
    ")\n",
    "\n",
    "\n",
    "# print(response.choices[0].message['content'])       # 생성된 텍스트 출력 # deprecated\n",
    "print(response.choices[0].message.content)"
   ]
  },
  {
   "cell_type": "code",
   "execution_count": 20,
   "metadata": {},
   "outputs": [
    {
     "name": "stdout",
     "output_type": "stream",
     "text": [
      "세종대왕과 모나리자는 각각 한국 역사와 서양 예술에서 중요한 인물과 작품입니다.\n",
      "\n",
      "세종대왕(1397년 - 1450년) - 이는 조선 중기의 4대 군주로, 세계에서 가장 우수한 통치자 중 하나로 꼽힙니다. 그의 통치 하에 공현왕과 함께 한글이 창제되었으며, 과학, 기술, 농업, 문화, 종교 등 여러 분야에서 많은 발전이 이루어졌습니다.\n",
      "\n",
      "모나리자(1503년 - 1506년) - 이는 이탈리아의 대표적인 화가 레오나르도 다 빈치가 그린 초상화입니다. 그의 미소와 고요한 표정, 그리고 배경의 경치가 독특하게 그려져 사람들로부터 사랑받고 있으며, 이는 세계에서 가장 유명한 그림 중 하나입니다.\n"
     ]
    }
   ],
   "source": [
    "# temperature 1.1로 설정\n",
    "\n",
    "response = client.chat.completions.create(\n",
    "    messages=[\n",
    "        {\n",
    "            \"role\": \"system\",\n",
    "            \"content\": \"You are a helpful assistant.\"\n",
    "        },\n",
    "        {\n",
    "            \"role\": \"user\",\n",
    "            \"content\": \"세종대왕과 모나리자?\"       # 여기에 질문을 입력\n",
    "        }\n",
    "    ],\n",
    "    model='gpt-4',      # 사용할 모델\n",
    "    temperature=1.1     # 여기에 temperature를 지정 (0에서 2 사이)\n",
    ")\n",
    "\n",
    "\n",
    "print(response.choices[0].message.content)"
   ]
  },
  {
   "cell_type": "code",
   "execution_count": null,
   "metadata": {},
   "outputs": [],
   "source": [
    "#0에 가까울수록 모델은 가장 확률이 높은 단어를 선택하는 경향이 강해지므로, 출력이 더 예측 가능하고 결정적(deterministic)이 됩니다. 실제로, temperature를 매우 낮은 값(예: 0.0 또는 그 근처)으로 설정하면, 모델은 주어진 상황에서 가장 가능성이 높은 단어를 반복적으로 선택할 수 있습니다.\n",
    "#1에 가까울수록 모델은 다양한 단어를 선택할 가능성이 높아지며, 생성된 텍스트는 더 창의적이거나 예상치 못한 내용을 포함할 수 있습니다. temperature가 1인 경우, 모델은 학습 데이터에서 관찰된 확률 분포를 그대로 사용하여 다음 단어를 선택합니다.\n",
    "#1보다 큰 값을 사용할 경우, 모델은 더욱 창의적이거나 덜 예측 가능한 출력을 생성할 가능성이 더 높아집니다. 이는 선택 과정에서 낮은 확률을 가진 단어들에게 상대적으로 더 많은 가중치를 부여하기 때문입니다"
   ]
  }
 ],
 "metadata": {
  "kernelspec": {
   "display_name": "llm",
   "language": "python",
   "name": "python3"
  },
  "language_info": {
   "codemirror_mode": {
    "name": "ipython",
    "version": 3
   },
   "file_extension": ".py",
   "mimetype": "text/x-python",
   "name": "python",
   "nbconvert_exporter": "python",
   "pygments_lexer": "ipython3",
   "version": "3.11.9"
  }
 },
 "nbformat": 4,
 "nbformat_minor": 2
}
