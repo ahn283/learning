{
 "cells": [
  {
   "cell_type": "code",
   "execution_count": 13,
   "metadata": {},
   "outputs": [],
   "source": [
    "import os\n",
    "from openai import OpenAI\n",
    "import keyring\n",
    "\n",
    "client = OpenAI(\n",
    "    api_key=keyring.get_password('openai', 'key_for_mac')\n",
    ")"
   ]
  },
  {
   "cell_type": "code",
   "execution_count": 14,
   "metadata": {},
   "outputs": [],
   "source": [
    "def generate_anomaly_description(anomaly):\n",
    "    promp = f\"Anomaly: {anomaly}\\nDescription\"\n",
    "    response = client.completions.create(\n",
    "        model=\"gpt-3.5-turbo-instruct\",\n",
    "        prompt=\"비정상을 찾아줘\",\n",
    "        max_tokens=7,\n",
    "        temperature=0       # 정확도\n",
    "    )\n",
    "    description = response.choices[0].text.strip()\n",
    "    return description"
   ]
  },
  {
   "cell_type": "code",
   "execution_count": 15,
   "metadata": {},
   "outputs": [
    {
     "name": "stdout",
     "output_type": "stream",
     "text": [
      "이상탐지 {'product': 'K', 'sales num': 50000}: \"비정상\"\n",
      "이상탐지 {'product': 'L', 'sales num': 60000}: \"비정상\"\n",
      "이상탐지 {'product': 'M', 'sales num': 70000}: \"비정상\"\n"
     ]
    }
   ],
   "source": [
    "normal_sales_data = [\n",
    "    {\"product\": \"A\", \"sales num\": 100},\n",
    "    {\"product\": \"B\", \"sales num\": 200},\n",
    "    {\"product\": \"C\", \"sales num\": 300},\n",
    "    {\"product\": \"D\", \"sales num\": 400},\n",
    "    {\"product\": \"E\", \"sales num\": 500},\n",
    "    {\"product\": \"F\", \"sales num\": 600},\n",
    "    {\"product\": \"G\", \"sales num\": 700},\n",
    "]\n",
    "\n",
    "anomalous_sales_data = [\n",
    "    {\"product\": \"K\", \"sales num\": 50000},\n",
    "    {\"product\": \"L\", \"sales num\": 60000},\n",
    "    {\"product\": \"M\", \"sales num\": 70000},\n",
    "]\n",
    "\n",
    "for data_point in anomalous_sales_data:\n",
    "    description = generate_anomaly_description(data_point)\n",
    "    print(f\"이상탐지 {data_point}: {description}\")"
   ]
  },
  {
   "cell_type": "code",
   "execution_count": null,
   "metadata": {},
   "outputs": [],
   "source": []
  }
 ],
 "metadata": {
  "kernelspec": {
   "display_name": "llm",
   "language": "python",
   "name": "python3"
  },
  "language_info": {
   "codemirror_mode": {
    "name": "ipython",
    "version": 3
   },
   "file_extension": ".py",
   "mimetype": "text/x-python",
   "name": "python",
   "nbconvert_exporter": "python",
   "pygments_lexer": "ipython3",
   "version": "3.11.9"
  }
 },
 "nbformat": 4,
 "nbformat_minor": 2
}
