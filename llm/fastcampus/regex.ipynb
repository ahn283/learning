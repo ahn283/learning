{
 "cells": [
  {
   "cell_type": "code",
   "execution_count": 1,
   "metadata": {},
   "outputs": [
    {
     "name": "stdout",
     "output_type": "stream",
     "text": [
      "Search: <re.Match object; span=(31, 34), match='the'>\n",
      "Match: None\n",
      "Fina All: ['The', 'the']\n"
     ]
    }
   ],
   "source": [
    "import re\n",
    "text = \"The quick brown fox jumps over the lazy dog.\"\n",
    "\n",
    "search_result = re.search(r'the', text)\n",
    "print(f\"Search: {search_result}\")\n",
    "# <re.Match object; span=(31, 34), match='the'>\n",
    "\n",
    "match_result = re.match(f'the', text)\n",
    "print(f'Match: {match_result}')\n",
    "# None\n",
    "\n",
    "find_all_result = re.findall(f'the', text, re.IGNORECASE)\n",
    "print(f\"Fina All: {find_all_result}\")\n",
    "# ['The', 'the']"
   ]
  },
  {
   "cell_type": "code",
   "execution_count": 3,
   "metadata": {},
   "outputs": [
    {
     "name": "stdout",
     "output_type": "stream",
     "text": [
      "Original text: The quick brown fox jumps over the lazy dog.\n",
      "Modified text: The quick brown cat jumps over the lazy dog.\n"
     ]
    }
   ],
   "source": [
    "import re\n",
    "text = \"The quick brown fox jumps over the lazy dog.\"\n",
    "\n",
    "# substitue 'fox' to 'cat'\n",
    "new_text = re.sub(r'fox', 'cat', text)\n",
    "\n",
    "print('Original text:', text)\n",
    "print('Modified text:', new_text)"
   ]
  },
  {
   "cell_type": "code",
   "execution_count": 4,
   "metadata": {},
   "outputs": [
    {
     "name": "stdout",
     "output_type": "stream",
     "text": [
      "Cell phone: 010-1234-5678\n"
     ]
    }
   ],
   "source": [
    "# 핸드폰 번호 패턴을 정의하고 이를 추출\n",
    "# 한국 번호의 경우 01x-xxx(x)-xxxx 형태의 규칙을 가짐\n",
    "\n",
    "import re\n",
    "\n",
    "phone_number_pattern = re.compile(r'01[016789]-\\d{3,4}-\\d{4}')\n",
    "\n",
    "personal_info = \"\"\"\n",
    "이름 : 홍길동\n",
    "주소 : 서울시 강남구\n",
    "전화번호 : 010-1234-5678\n",
    "주민등록번호 : 930101-1234567\n",
    "\"\"\"\n",
    "\n",
    "match = phone_number_pattern.search(personal_info)\n",
    "if match:\n",
    "    print(f\"Cell phone: {match.group()}\")"
   ]
  },
  {
   "cell_type": "code",
   "execution_count": 1,
   "metadata": {},
   "outputs": [
    {
     "name": "stdout",
     "output_type": "stream",
     "text": [
      "서울-대전-대구-부산\n"
     ]
    }
   ],
   "source": [
    "# -으로 구분된 데이터 중, 두 번째 값과 세번째 값의 순서를 바꾼다.\n",
    "# 정해진 포맷대로 캡쳐하고, 캡쳐된 그룹의 순서를 바꾸어 다시 반환\n",
    "\n",
    "import re\n",
    "\n",
    "input_string = '서울-대구-대전-부산'\n",
    "result = re.sub(r'(\\w+)-(\\w+)-(\\w+)-(\\w+)', r'\\1-\\3-\\2-\\4', input_string)\n",
    "\n",
    "print(result)"
   ]
  },
  {
   "cell_type": "code",
   "execution_count": 2,
   "metadata": {},
   "outputs": [
    {
     "name": "stdout",
     "output_type": "stream",
     "text": [
      "\n",
      "이름 : 홍길동\n",
      "주소 : 서울시 강남구\n",
      "전화번호 : 010-****-5678\n",
      "주민등록번호 : 930101-1******\n",
      "\n"
     ]
    }
   ],
   "source": [
    "# 주어진 전화번호에 가운데 번호를 *로 마스킹하여 전화번호를 보호\n",
    "# 주어진 주민번호의 뒷 6자리를 *로 마스킹하여 주민번호를 보호\n",
    "\n",
    "import re\n",
    "\n",
    "def mask_phone_number(match):\n",
    "    return f\"{match.group(1)}-****-{match.group(3)}\"\n",
    "\n",
    "def mask_ssn(match):\n",
    "    return f\"{match.group(1)}-{match.group(2)}******\"\n",
    "\n",
    "\n",
    "personal_info = \"\"\"\n",
    "이름 : 홍길동\n",
    "주소 : 서울시 강남구\n",
    "전화번호 : 010-1234-5678\n",
    "주민등록번호 : 930101-1234567\n",
    "\"\"\"\n",
    "\n",
    "phone_number_pattern = re.compile(r'(01[016789])-(\\d{3,4})-(\\d{4})')\n",
    "ssn_pattern = re.compile(r'(\\d{6})-(\\d)\\d{6}')\n",
    "\n",
    "masked_info = phone_number_pattern.sub(mask_phone_number, personal_info)\n",
    "masked_info = ssn_pattern.sub(mask_ssn, masked_info)\n",
    "\n",
    "print(masked_info)"
   ]
  },
  {
   "cell_type": "code",
   "execution_count": 4,
   "metadata": {},
   "outputs": [
    {
     "name": "stdout",
     "output_type": "stream",
     "text": [
      "This is Python and Regular Expression\n"
     ]
    }
   ],
   "source": [
    "# HTML 태그는 <>로 둘러싸여있다.\n",
    "# <>에 둘러싸인 값들을 빈 문자열로 대체하는 방식으로, HTML 태그를 제거할 수 있다.\n",
    "\n",
    "import re \n",
    "\n",
    "def remove_html(input):\n",
    "    pattern = re.compile(r'<.*?>')\n",
    "    result = re.sub(pattern, '', input)\n",
    "    \n",
    "    return result\n",
    "\n",
    "input = \"<p>This is <b>Python</b> and <i>Regular Expression</i></p>\"\n",
    "\n",
    "result = remove_html(input)\n",
    "print(result)"
   ]
  },
  {
   "cell_type": "code",
   "execution_count": 10,
   "metadata": {},
   "outputs": [
    {
     "name": "stdout",
     "output_type": "stream",
     "text": [
      "2090. 01. 01\n"
     ]
    }
   ],
   "source": [
    "# 주민번호의 경우 앞의 6자리가 생년월일, 7번째 자리가 (1,2)이면 19xx, (3,4)이면, 20xx년생이다.\n",
    "# re.sub 활용 시 변환 함수를 이용한다.\n",
    "\n",
    "import re \n",
    "\n",
    "def generate_birthday(matches):\n",
    "    return f\"{'19' if matches[4] in ('1', '2') else '20'}{matches[1]}. {matches[2]}. {matches[3]}\"\n",
    "\n",
    "ssn = \"900101-4234567\"\n",
    "\n",
    "pattern = re.compile(r'(\\d{2})(\\d{2})(\\d{2})-(\\d)\\d{6}')\n",
    "result = pattern.sub(generate_birthday, ssn)\n",
    "print(result)"
   ]
  }
 ],
 "metadata": {
  "kernelspec": {
   "display_name": "llm",
   "language": "python",
   "name": "python3"
  },
  "language_info": {
   "codemirror_mode": {
    "name": "ipython",
    "version": 3
   },
   "file_extension": ".py",
   "mimetype": "text/x-python",
   "name": "python",
   "nbconvert_exporter": "python",
   "pygments_lexer": "ipython3",
   "version": "3.11.9"
  }
 },
 "nbformat": 4,
 "nbformat_minor": 2
}
