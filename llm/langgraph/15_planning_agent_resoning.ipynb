{
 "cells": [
  {
   "cell_type": "markdown",
   "metadata": {},
   "source": [
    "# Reasoning without Obeservation\n",
    "\n",
    "In [ReWOO](https://arxiv.org/abs/2305.18323), Xu, et. al, propose an agent that combines a multi-step planner and variable substitution for effective tool use. It was designed to improve on the ReACT-style agent architecture in the following ways:\n",
    "\n",
    "1. Reduce token consumption and execution time by generating the full chain of tools used in a single pass. (ReACT-style agent architecture requires many LLM calls with redundant prefixes (since the system prompt and previous steps are provided to the LLM for each reasoning step)\n",
    "2. Simplify the fine-tuning process. Since the planning data doesn't depend on the outputs of the tool, models can be fine-tuned without actually invoking the tools (in theory).\n",
    "\n",
    "The following diagram outlines ReWOO's overall computation graph:\n",
    "\n",
    "<img src=\"./images/reasoning_without_obesrvation.png\">\n",
    "\n",
    "ReWOO is made of 3 modules:\n",
    "\n",
    "1. **🧠Planner**: Generate the plan in the following format:\n",
    "```\n",
    "Plan: <reasoning>\n",
    "#E1 = Tool[argument for tool]\n",
    "Plan: <reasoning>\n",
    "#E2 = Tool[argument for tool with #E1 variable substitution]\n",
    "...\n",
    "```\n",
    "2. **Worker**: executes the tool with the provided arguments.\n",
    "3. **🧠Solver**: generates the answer for the initial task based on the tool observations.\n",
    "\n",
    "The modules with a 🧠 emoji depend on an LLM call. Notice that we avoid redundant calls to the planner LLM by using variable substitution.\n",
    "\n",
    "In this example, each module is represented by a LangGraph node. The end result will leave a trace that looks like [this one](https://smith.langchain.com/public/39dbdcf8-fbcc-4479-8e28-15377ca5e653/r). Let's get started!\n"
   ]
  },
  {
   "cell_type": "markdown",
   "metadata": {},
   "source": [
    "## Setup\n",
    "\n",
    "For this example, we will provide the agent with a Tavily search engine tool. You can get an API key [here](https://tavily.us.auth0.com/u/login/identifier?state=hKFo2SBENk9JcU42YXFxZVdKRnZqVi1HOTVhdFVRa0NOb0YwNaFur3VuaXZlcnNhbC1sb2dpbqN0aWTZIGdZS3VsWVhDQUoyaDZCTDFzeEczbEZsMV9ETDdKdS1mo2NpZNkgUlJJQXZ2WE5GeHBmVFdJb3pYMW1YcUxueVVtWVNUclE) or replace with a free tool option (e.g., duck duck go search).\n",
    "\n",
    "Let's install the required packages and set our API keys"
   ]
  },
  {
   "cell_type": "code",
   "execution_count": 1,
   "metadata": {},
   "outputs": [],
   "source": [
    "# !pip install -U langgraph langchain_community langchain_openai tavily-python"
   ]
  },
  {
   "cell_type": "code",
   "execution_count": 2,
   "metadata": {},
   "outputs": [],
   "source": [
    "import os\n",
    "import keyring\n",
    "\n",
    "# API KEY\n",
    "OPENAI_API_KEY = keyring.get_password('openai', 'key_for_mac')\n",
    "ANTHROPIC_API_KEY = keyring.get_password('anthropic', 'key_for_mac')\n",
    "TAVILY_API_KEY = keyring.get_password('tavily', 'key_for_mac')\n",
    "\n",
    "os.environ['OPENAI_API_KEY'] = OPENAI_API_KEY\n",
    "os.environ['ANTHROPIC_API_KEY'] = ANTHROPIC_API_KEY\n",
    "os.environ['TAVILY_API_KEY'] = TAVILY_API_KEY\n",
    "\n",
    "# Set up LangSmith observability\n",
    "os.environ['LANGCHAIN_TRACING_V2'] = 'true'\n",
    "os.environ['LANGCHAIN_ENDPOINT'] = \"https://api.smith.langchain.com\"\n",
    "os.environ['LANGCHAIN_API_KEY'] = keyring.get_password('langsmith', 'learning_agent')\n",
    "os.environ['LANGCHAIN_PROJECT'] = \"pr-stupendous-hood-8\""
   ]
  }
 ],
 "metadata": {
  "kernelspec": {
   "display_name": "agent",
   "language": "python",
   "name": "python3"
  },
  "language_info": {
   "codemirror_mode": {
    "name": "ipython",
    "version": 3
   },
   "file_extension": ".py",
   "mimetype": "text/x-python",
   "name": "python",
   "nbconvert_exporter": "python",
   "pygments_lexer": "ipython3",
   "version": "3.9.21"
  }
 },
 "nbformat": 4,
 "nbformat_minor": 2
}
