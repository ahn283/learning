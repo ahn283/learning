{
 "cells": [
  {
   "cell_type": "markdown",
   "metadata": {},
   "source": [
    "# Reasoning without Obeservation\n",
    "\n",
    "In [ReWOO](https://arxiv.org/abs/2305.18323), Xu, et. al, propose an agent that combines a multi-step planner and variable substitution for effective tool use. It was designed to improve on the ReACT-style agent architecture in the following ways:\n",
    "\n",
    "1. Reduce token consumption and execution time by generating the full chain of tools used in a single pass. (ReACT-style agent architecture requires many LLM calls with redundant prefixes (since the system prompt and previous steps are provided to the LLM for each reasoning step)\n",
    "2. Simplify the fine-tuning process. Since the planning data doesn't depend on the outputs of the tool, models can be fine-tuned without actually invoking the tools (in theory).\n",
    "\n",
    "The following diagram outlines ReWOO's overall computation graph:\n",
    "\n",
    "<img src=\"./images/reasoning_without_obesrvation.png\">\n",
    "\n",
    "ReWOO is made of 3 modules:\n",
    "\n",
    "1. **🧠Planner**: Generate the plan in the following format:\n",
    "```\n",
    "Plan: <reasoning>\n",
    "#E1 = Tool[argument for tool]\n",
    "Plan: <reasoning>\n",
    "#E2 = Tool[argument for tool with #E1 variable substitution]\n",
    "...\n",
    "```\n",
    "2. **Worker**: executes the tool with the provided arguments.\n",
    "3. **🧠Solver**: generates the answer for the initial task based on the tool observations.\n",
    "\n",
    "The modules with a 🧠 emoji depend on an LLM call. Notice that we avoid redundant calls to the planner LLM by using variable substitution.\n",
    "\n",
    "In this example, each module is represented by a LangGraph node. The end result will leave a trace that looks like [this one](https://smith.langchain.com/public/39dbdcf8-fbcc-4479-8e28-15377ca5e653/r). Let's get started!\n"
   ]
  },
  {
   "cell_type": "markdown",
   "metadata": {},
   "source": [
    "## Setup\n",
    "\n",
    "For this example, we will provide the agent with a Tavily search engine tool. You can get an API key [here](https://tavily.us.auth0.com/u/login/identifier?state=hKFo2SBENk9JcU42YXFxZVdKRnZqVi1HOTVhdFVRa0NOb0YwNaFur3VuaXZlcnNhbC1sb2dpbqN0aWTZIGdZS3VsWVhDQUoyaDZCTDFzeEczbEZsMV9ETDdKdS1mo2NpZNkgUlJJQXZ2WE5GeHBmVFdJb3pYMW1YcUxueVVtWVNUclE) or replace with a free tool option (e.g., duck duck go search).\n",
    "\n",
    "Let's install the required packages and set our API keys"
   ]
  },
  {
   "cell_type": "code",
   "execution_count": 2,
   "metadata": {},
   "outputs": [],
   "source": [
    "# !pip install -U langgraph langchain_community langchain_openai tavily-python"
   ]
  },
  {
   "cell_type": "code",
   "execution_count": 7,
   "metadata": {},
   "outputs": [],
   "source": [
    "import os\n",
    "import keyring\n",
    "\n",
    "# API KEY\n",
    "OPENAI_API_KEY = keyring.get_password('openai', 'key_for_mac')\n",
    "ANTHROPIC_API_KEY = keyring.get_password('anthropic', 'key_for_mac')\n",
    "TAVILY_API_KEY = keyring.get_password('tavily', 'key_for_mac')\n",
    "GOOGLE_API_KEY = keyring.get_password('gemini', 'key_for_mac')\n",
    "\n",
    "\n",
    "os.environ['OPENAI_API_KEY'] = OPENAI_API_KEY\n",
    "os.environ['ANTHROPIC_API_KEY'] = ANTHROPIC_API_KEY\n",
    "os.environ['TAVILY_API_KEY'] = TAVILY_API_KEY\n",
    "os.environ['GOOGLE_API_KEY'] = GOOGLE_API_KEY\n",
    "\n",
    "# Set up LangSmith observability\n",
    "os.environ['LANGCHAIN_TRACING_V2'] = 'true'\n",
    "os.environ['LANGCHAIN_ENDPOINT'] = \"https://api.smith.langchain.com\"\n",
    "os.environ['LANGCHAIN_API_KEY'] = keyring.get_password('langsmith', 'learning_agent')\n",
    "os.environ['LANGCHAIN_PROJECT'] = \"pr-stupendous-hood-8\""
   ]
  },
  {
   "cell_type": "markdown",
   "metadata": {},
   "source": [
    "## Define graph state\n",
    "\n",
    "In LangGraph, every node updates a shared graph state. The state is the input to any node whenever it is invoked.\n",
    "\n",
    "Below, we will define a state dict to contain the task, plan, steps, and other variables."
   ]
  },
  {
   "cell_type": "code",
   "execution_count": 3,
   "metadata": {},
   "outputs": [],
   "source": [
    "from typing import List\n",
    "from typing_extensions import TypedDict\n",
    "\n",
    "class ReWOO(TypedDict):\n",
    "    task: str\n",
    "    plan_string: str\n",
    "    steps: List\n",
    "    results: dict\n",
    "    result: str"
   ]
  },
  {
   "cell_type": "markdown",
   "metadata": {},
   "source": [
    "## Planner\n",
    "\n",
    "The planner prompts an LLM to generate a plan in the form of a task list. The arguments to each task are strings that may contain special variables (`#E{0-9}+`) that are used for variable substitution from other task results.\n",
    "\n",
    "<img src='./images/plan_execute_planner.png'>\n",
    "\n",
    "Our example agent will have two tools: 1. Google - a search engine (in this case Tavily) 2. LLM - an LLM call to reason about previous outputs.\n",
    "\n",
    "The LLM tool receives less of the prompt context and so can be more token-efficient than the ReACT paradigm."
   ]
  },
  {
   "cell_type": "code",
   "execution_count": 16,
   "metadata": {},
   "outputs": [],
   "source": [
    "from langchain_openai import ChatOpenAI\n",
    "from langchain_google_genai import ChatGoogleGenerativeAI\n",
    "\n",
    "model = ChatOpenAI(model=\"gpt-4o-mini\")\n",
    "# model = ChatGoogleGenerativeAI(model=\"gemini-2.0-flash\", google_api_key=GOOGLE_API_KEY)"
   ]
  },
  {
   "cell_type": "code",
   "execution_count": 17,
   "metadata": {},
   "outputs": [],
   "source": [
    "prompt = \"\"\"For the following task, make plans that can solve the problem step by step.\n",
    "For each plan, indicate which external tool together with tool input to retrieve evidence.\n",
    "You can store the evidence into a variable #E that can be called by later tools. (Plan, #E1, Plan, #E2, Plan, ...)\n",
    "\n",
    "Tools can be one of the following:\n",
    "(1) Google[input]: Worker that searches results from Google. \n",
    "Useful when you need find short and succinct answers about a specific topic.\n",
    "The input should be a search query.\n",
    "(2) LLM[input]: A pretrained LLM like yourself. \n",
    "Useful when you need to act with general world knowledge and common sence. \n",
    "Prioritize it when you are confident in solving the problem youself.\n",
    "Input can be any instruction.\n",
    "\n",
    "For example,\n",
    "Task: Thomas, Toby, and Rebecca worked a total of 157 hours in one week. \n",
    "Thomas worked x hours. Toby worked 10 hour less than twice that Thomas worked, and Rebecca worked 8 hours less than Toby.\n",
    "How many hours did Rebecca work?\n",
    "Plan: Given Thomas worked x hours, translate the problem into algebraic expressions and solve with Wolfram Alpha.\n",
    "#E1 = WolframAlpha[Solve x + (2x - 10) + ((2x - 10) - 8) = 157]\n",
    "Plan: Find out the number of hours Thomas worked.\n",
    "#E2 = LLM[What is x, given #E1]\n",
    "Plan: Calculate the number of hour Rebecca worked. \n",
    "#E3 = Calculator[(2 * #E2 - 10) - 8]\n",
    "\n",
    "Begin!\n",
    "Describe your plan with rich details. \n",
    "Each Plan should be followed by only one #E.\n",
    "\n",
    "Task: {task} \n",
    "\"\"\""
   ]
  },
  {
   "cell_type": "code",
   "execution_count": 18,
   "metadata": {},
   "outputs": [],
   "source": [
    "task = \"what is the exact hometown of the 2024 mens austrailian open winner\""
   ]
  },
  {
   "cell_type": "code",
   "execution_count": 19,
   "metadata": {},
   "outputs": [],
   "source": [
    "result = model.invoke(prompt.format(task=task))"
   ]
  },
  {
   "cell_type": "code",
   "execution_count": 20,
   "metadata": {},
   "outputs": [
    {
     "name": "stdout",
     "output_type": "stream",
     "text": [
      "To determine the exact hometown of the 2024 men's Australian Open winner, I will take a step-by-step approach to gather the required information.\n",
      "\n",
      "Plan: First, I will search for the winner of the 2024 men's Australian Open, as the tournament is still in the future. I need to find out who won to then lookup their hometown. I will utilize Google to retrieve this information.  \n",
      "#E1 = Google[\"2024 men's Australian Open winner\"]\n",
      "\n",
      "Plan: Once I have identified the winner of the tournament, I will search for information regarding their hometown. This will provide me with the necessary details about where they are from. Here, I will again use Google to find this information based on the winner's name.  \n",
      "#E2 = Google[\"hometown of [winner's name from #E1]\"]\n",
      "\n",
      "Plan: Finally, I will compile the findings from the previous steps into a concise response regarding the winner's exact hometown. This step does not require an external tool, as it will be based on the evidence gathered in #E1 and #E2.  \n",
      "#E3 = LLM[Summarize the hometown details found in #E2]\n"
     ]
    }
   ],
   "source": [
    "print(result.content)"
   ]
  },
  {
   "cell_type": "markdown",
   "metadata": {},
   "source": [
    "### Planner Node\n",
    "\n",
    "To connect the planner to our graph, we will create a `get_plan` node that accepts the `ReWOO` state and returns with a state update for the `steps` and `plan_string` fields."
   ]
  },
  {
   "cell_type": "code",
   "execution_count": 36,
   "metadata": {},
   "outputs": [],
   "source": [
    "import re\n",
    "\n",
    "from langchain_core.prompts import ChatPromptTemplate\n",
    "\n",
    "# Regex to match expressions of the form E#... = ...[...]\n",
    "rege_pattern = r\"Plan:\\s*(.+)\\s*(#E\\d+)\\s*=\\s*(\\w+)\\s*\\[([^\\]]+)\\]\"\n",
    "prompt_template = ChatPromptTemplate.from_messages([(\"user\", prompt)])\n",
    "planner = prompt_template | model\n",
    "\n",
    "def get_plan(state: ReWOO):\n",
    "    task = state[\"task\"]\n",
    "    result = planner.invoke({\"task\": task})\n",
    "    # Find all matches in the sample text\n",
    "    matches = re.findall(rege_pattern, result.content)\n",
    "    return {\"steps\": matches, \"plan_string\": result.content}"
   ]
  },
  {
   "cell_type": "markdown",
   "metadata": {},
   "source": [
    "## Executor\n",
    "\n",
    "The executor receives the plan and executes the tools in sequence.\n",
    "\n",
    "Below, instantiate the search engine and define the tool execution node."
   ]
  },
  {
   "cell_type": "code",
   "execution_count": 37,
   "metadata": {},
   "outputs": [],
   "source": [
    "from langchain_community.tools.tavily_search import TavilySearchResults\n",
    "\n",
    "search = TavilySearchResults()"
   ]
  },
  {
   "cell_type": "code",
   "execution_count": 50,
   "metadata": {},
   "outputs": [],
   "source": [
    "def _get_current_task(state: ReWOO):\n",
    "    if \"results\" not in state or state[\"results\"] is None:\n",
    "        return 1\n",
    "    if len(state[\"results\"]) == len(state[\"steps\"]):\n",
    "        return None\n",
    "    else:\n",
    "        return len(state[\"results\"]) + 1\n",
    "    \n",
    "def tool_execution(state: ReWOO):\n",
    "    \"\"\"Worker node that executes the tools of a given plan.\"\"\"\n",
    "    _step = _get_current_task(state)\n",
    "    _, step_name, tool, tool_input = state[\"steps\"][_step - 1]\n",
    "    _results = (state[\"results\"] or {}) if \"results\" in state else {}\n",
    "    for k, v in _results.items():\n",
    "        tool_input = tool_input.replace(k, v)\n",
    "    if tool == \"Google\":\n",
    "        result = search.invoke(tool_input)\n",
    "    elif tool == \"LLM\":\n",
    "        result = model.invoke(tool_input)\n",
    "    else:\n",
    "        raise ValueError\n",
    "    _results[step_name] = str(result)\n",
    "    return {\"results\": _results}"
   ]
  },
  {
   "cell_type": "markdown",
   "metadata": {},
   "source": [
    "## Solver\n",
    "\n",
    "The solver receives the full plan and generates the final response based on the responses of the tool calls from the worker."
   ]
  },
  {
   "cell_type": "code",
   "execution_count": 56,
   "metadata": {},
   "outputs": [],
   "source": [
    "solve_prompt = \"\"\"Solve the following task or problem.\n",
    "To solve the problem, we have made step-by-step Plan and retrieved corresponding Evidence to each Plan.\n",
    "Use them with caution since long evidence might contain irrelevant information.\n",
    "\n",
    "{plan}\n",
    "\n",
    "Now solve the question or task according to provided Evidence above.\n",
    "Respond with the answer directly with no exra words.\n",
    "\n",
    "Task: {task}\n",
    "Respnse:\"\"\"\n",
    "\n",
    "def solve(state: ReWOO):\n",
    "    plan = \"\"\n",
    "    for _plan, step_name, tool, tool_input in state[\"steps\"]:\n",
    "        _results = (state[\"results\"] or {}) if \"results\" in state else {}\n",
    "        for k, v in _results.items():\n",
    "            tool_input = tool_input.replace(k, v)\n",
    "            step_name = step_name.replace(k, v)\n",
    "        plan += f\"Plan: {_plan}\\n{step_name} = {tool}[{tool_input}]\"\n",
    "    prompt = solve_prompt.format(plan=plan, task=state[\"task\"])\n",
    "    result = model.invoke(prompt)\n",
    "    return {\"result\": result.content}"
   ]
  },
  {
   "cell_type": "markdown",
   "metadata": {},
   "source": [
    "## Define Graph\n",
    "\n",
    "Our graph defines the workflow. Each of the planner, tool executor, and solver modules are added as nodes."
   ]
  },
  {
   "cell_type": "code",
   "execution_count": 57,
   "metadata": {},
   "outputs": [],
   "source": [
    "def _route(state):\n",
    "    _step = _get_current_task(state)\n",
    "    if _step is None:\n",
    "        # We have executed all tasks\n",
    "        return \"solve\"\n",
    "    else:\n",
    "        # We are still executing tasks, loop back to the \"tool\" node\n",
    "        return \"tool\""
   ]
  },
  {
   "cell_type": "code",
   "execution_count": 58,
   "metadata": {},
   "outputs": [],
   "source": [
    "from langgraph.graph import END, StateGraph, START\n",
    "\n",
    "graph = StateGraph(ReWOO)\n",
    "graph.add_node(\"plan\", get_plan)\n",
    "graph.add_node(\"tool\", tool_execution)\n",
    "graph.add_node(\"solve\", solve)\n",
    "graph.add_edge(\"plan\", \"tool\")\n",
    "graph.add_edge(\"solve\", END)\n",
    "graph.add_conditional_edges(\"tool\", _route)\n",
    "graph.add_edge(START, \"plan\")\n",
    "\n",
    "app = graph.compile()"
   ]
  },
  {
   "cell_type": "code",
   "execution_count": 59,
   "metadata": {},
   "outputs": [
    {
     "data": {
      "image/png": "[encoded data removed]",
      "text/plain": [
       "<IPython.core.display.Image object>"
      ]
     },
     "metadata": {},
     "output_type": "display_data"
    }
   ],
   "source": [
    "from IPython.display import Image, display\n",
    "\n",
    "display(Image(app.get_graph(xray=True).draw_mermaid_png()))"
   ]
  },
  {
   "cell_type": "code",
   "execution_count": 60,
   "metadata": {},
   "outputs": [
    {
     "name": "stdout",
     "output_type": "stream",
     "text": [
      "{'plan': {'steps': [(\"First, I need to retrieve information about the 2024 men's Australian Open winner. This includes checking sports news outlets or official tournament sources for the latest updates on the tournament. I'll perform a Google search for the winner's information.\", '#E1', 'Google', \"2024 men's Australian Open winner\"), (\"Once I have the name of the winner from #E1, I will look for their hometown. This may involve searching their biography or relevant sports profiles to find their exact hometown. I'll search for this information using Google.\", '#E2', 'Google', \"What is the hometown of [winner's name from #E1\"), (\"Compile and summarize the findings from #E2 to provide the final answer regarding the exact hometown of the 2024 men's Australian Open winner.\", '#E3', 'LLM', 'Summarize the hometown from #E2')], 'plan_string': \"Plan: First, I need to retrieve information about the 2024 men's Australian Open winner. This includes checking sports news outlets or official tournament sources for the latest updates on the tournament. I'll perform a Google search for the winner's information.\\n#E1 = Google[2024 men's Australian Open winner]\\n\\nPlan: Once I have the name of the winner from #E1, I will look for their hometown. This may involve searching their biography or relevant sports profiles to find their exact hometown. I'll search for this information using Google.\\n#E2 = Google[What is the hometown of [winner's name from #E1]]\\n\\nPlan: Compile and summarize the findings from #E2 to provide the final answer regarding the exact hometown of the 2024 men's Australian Open winner.\\n#E3 = LLM[Summarize the hometown from #E2]\"}}\n",
      "---\n",
      "{'tool': {'results': {'#E1': '[{\\'url\\': \\'https://en.wikipedia.org/wiki/2024_Australian_Open_%E2%80%93_Men%27s_singles\\', \\'content\\': \"Jannik Sinner defeated Daniil Medvedev in the final, 3–6, 3–6, 6–4, 6–4, 6–3 to win the men\\'s singles tennis title at the 2024 Australian Open.\"}, {\\'url\\': \\'https://ausopen.com/articles/news/sinner-winner-italian-takes-first-major-ao-2024\\', \\'content\\': \"Jannik Sinner is a Grand Slam champion. The world No.4 clinched the Australian Open 2024 men\\'s singles title in stunning fashion, overcoming third seed Daniil\"}, {\\'url\\': \\'https://en.wikipedia.org/wiki/2024_Australian_Open\\', \\'content\\': \"Novak Djokovic was the defending men\\'s singles champion. ... He was defeated in the semifinals by Jannik Sinner, who went on to beat Daniil Medvedev in a five-set\"}, {\\'url\\': \\'https://www.youtube.com/watch?v=FQxTbCczz-g\\', \\'content\\': \"... Australian Open 2024. Subscribe to keep up with the latest from the ... Novak Djokovic is the men\\'s singles reigning champion and Aryna Sabalenka\"}, {\\'url\\': \\'https://www.espn.com/tennis/story/_/id/39343618/australian-open-winners-mens-womens-singles-champions\\', \\'content\\': \"Let\\'s take a look at every Australian Open winner over the years: MEN\\'S SINGLES CHAMPIONS. 2025: Jannik Sinner. 2024: Jannik Sinner. 2023\"}]'}}}\n",
      "---\n",
      "{'tool': {'results': {'#E1': '[{\\'url\\': \\'https://en.wikipedia.org/wiki/2024_Australian_Open_%E2%80%93_Men%27s_singles\\', \\'content\\': \"Jannik Sinner defeated Daniil Medvedev in the final, 3–6, 3–6, 6–4, 6–4, 6–3 to win the men\\'s singles tennis title at the 2024 Australian Open.\"}, {\\'url\\': \\'https://ausopen.com/articles/news/sinner-winner-italian-takes-first-major-ao-2024\\', \\'content\\': \"Jannik Sinner is a Grand Slam champion. The world No.4 clinched the Australian Open 2024 men\\'s singles title in stunning fashion, overcoming third seed Daniil\"}, {\\'url\\': \\'https://en.wikipedia.org/wiki/2024_Australian_Open\\', \\'content\\': \"Novak Djokovic was the defending men\\'s singles champion. ... He was defeated in the semifinals by Jannik Sinner, who went on to beat Daniil Medvedev in a five-set\"}, {\\'url\\': \\'https://www.youtube.com/watch?v=FQxTbCczz-g\\', \\'content\\': \"... Australian Open 2024. Subscribe to keep up with the latest from the ... Novak Djokovic is the men\\'s singles reigning champion and Aryna Sabalenka\"}, {\\'url\\': \\'https://www.espn.com/tennis/story/_/id/39343618/australian-open-winners-mens-womens-singles-champions\\', \\'content\\': \"Let\\'s take a look at every Australian Open winner over the years: MEN\\'S SINGLES CHAMPIONS. 2025: Jannik Sinner. 2024: Jannik Sinner. 2023\"}]', '#E2': \"HTTPError('400 Client Error: Bad Request for url: https://api.tavily.com/search')\"}}}\n",
      "---\n",
      "{'tool': {'results': {'#E1': '[{\\'url\\': \\'https://en.wikipedia.org/wiki/2024_Australian_Open_%E2%80%93_Men%27s_singles\\', \\'content\\': \"Jannik Sinner defeated Daniil Medvedev in the final, 3–6, 3–6, 6–4, 6–4, 6–3 to win the men\\'s singles tennis title at the 2024 Australian Open.\"}, {\\'url\\': \\'https://ausopen.com/articles/news/sinner-winner-italian-takes-first-major-ao-2024\\', \\'content\\': \"Jannik Sinner is a Grand Slam champion. The world No.4 clinched the Australian Open 2024 men\\'s singles title in stunning fashion, overcoming third seed Daniil\"}, {\\'url\\': \\'https://en.wikipedia.org/wiki/2024_Australian_Open\\', \\'content\\': \"Novak Djokovic was the defending men\\'s singles champion. ... He was defeated in the semifinals by Jannik Sinner, who went on to beat Daniil Medvedev in a five-set\"}, {\\'url\\': \\'https://www.youtube.com/watch?v=FQxTbCczz-g\\', \\'content\\': \"... Australian Open 2024. Subscribe to keep up with the latest from the ... Novak Djokovic is the men\\'s singles reigning champion and Aryna Sabalenka\"}, {\\'url\\': \\'https://www.espn.com/tennis/story/_/id/39343618/australian-open-winners-mens-womens-singles-champions\\', \\'content\\': \"Let\\'s take a look at every Australian Open winner over the years: MEN\\'S SINGLES CHAMPIONS. 2025: Jannik Sinner. 2024: Jannik Sinner. 2023\"}]', '#E2': \"HTTPError('400 Client Error: Bad Request for url: https://api.tavily.com/search')\", '#E3': 'content=\\'The error message \"HTTPError(\\\\\\'400 Client Error: Bad Request\\\\\\')\" indicates that there was an issue with the request made to the URL \"https://api.tavily.com/search\". This typically means that the request was improperly formatted or contained invalid parameters, preventing the server from processing it successfully. A \"400 Bad Request\" error can arise from various issues such as missing required fields, incorrect data types, or violations of the API\\\\\\'s requirements. To resolve the issue, you would need to review the request parameters and ensure they align with the API documentation.\\' additional_kwargs={\\'refusal\\': None} response_metadata={\\'token_usage\\': {\\'completion_tokens\\': 112, \\'prompt_tokens\\': 34, \\'total_tokens\\': 146, \\'completion_tokens_details\\': {\\'accepted_prediction_tokens\\': 0, \\'audio_tokens\\': 0, \\'reasoning_tokens\\': 0, \\'rejected_prediction_tokens\\': 0}, \\'prompt_tokens_details\\': {\\'audio_tokens\\': 0, \\'cached_tokens\\': 0}}, \\'model_name\\': \\'gpt-4o-mini-2024-07-18\\', \\'system_fingerprint\\': \\'fp_bd83329f63\\', \\'finish_reason\\': \\'stop\\', \\'logprobs\\': None} id=\\'run-bb588718-f28b-4c7a-afe1-df578851bb33-0\\' usage_metadata={\\'input_tokens\\': 34, \\'output_tokens\\': 112, \\'total_tokens\\': 146, \\'input_token_details\\': {\\'audio\\': 0, \\'cache_read\\': 0}, \\'output_token_details\\': {\\'audio\\': 0, \\'reasoning\\': 0}}'}}}\n",
      "---\n",
      "{'solve': {'result': \"Jannik Sinner's hometown is San Candido, Italy.\"}}\n",
      "---\n"
     ]
    }
   ],
   "source": [
    "for s in app.stream({\"task\": task}):\n",
    "    print(s)\n",
    "    print(\"---\")"
   ]
  }
 ],
 "metadata": {
  "kernelspec": {
   "display_name": "agent",
   "language": "python",
   "name": "python3"
  },
  "language_info": {
   "codemirror_mode": {
    "name": "ipython",
    "version": 3
   },
   "file_extension": ".py",
   "mimetype": "text/x-python",
   "name": "python",
   "nbconvert_exporter": "python",
   "pygments_lexer": "ipython3",
   "version": "3.9.21"
  }
 },
 "nbformat": 4,
 "nbformat_minor": 2
}
