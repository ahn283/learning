{
 "cells": [
  {
   "cell_type": "code",
   "execution_count": 4,
   "metadata": {},
   "outputs": [],
   "source": [
    "from langgraph.graph import StateGraph, MessagesState, START, END\n",
    "from langchain_core.tools import tool\n",
    "from langgraph.prebuilt import ToolNode\n",
    "from typing import Literal\n",
    "import random\n",
    "\n",
    "\n",
    "def agent(state):\n",
    "    return {\"messages\":[\"user\", \"hello\"]}\n",
    "\n",
    "def should_continue(state: MessagesState):\n",
    "    if random.randint / 2 == 1:\n",
    "        return 'Tools'\n",
    "    else:\n",
    "        return END\n",
    "\n",
    "# tool_node\n",
    "\n",
    "@tool\n",
    "def get_weather(location: str):\n",
    "    \"\"\"Dicstring\"\"\"\n",
    "    return f\"It's 60 degree in {location}\"\n",
    "\n",
    "@tool\n",
    "def get_coolest_cities():\n",
    "    \"\"\"Dicstring\"\"\"\n",
    "    return \"Seoul\"\n",
    "\n",
    "# conditional edge\n",
    "\n",
    "tools = [get_weather, get_coolest_cities]\n",
    "tool_node = ToolNode(tools)\n",
    "\n",
    "\n",
    "workflow = StateGraph(MessagesState)\n",
    "workflow.add_node(\"Agent\", agent)\n",
    "workflow.add_node(\"Tools\", tool_node)\n",
    "\n",
    "workflow.add_edge(START, 'Agent')\n",
    "workflow.add_conditional_edges(\n",
    "    \"Agent\",\n",
    "    should_continue,\n",
    ")\n",
    "\n",
    "workflow.add_edge('Tools', 'Agent')\n",
    "app = workflow.compile()"
   ]
  },
  {
   "cell_type": "code",
   "execution_count": 5,
   "metadata": {},
   "outputs": [
    {
     "data": {
      "image/png": "[encoded data removed]",
      "text/plain": [
       "<IPython.core.display.Image object>"
      ]
     },
     "metadata": {},
     "output_type": "display_data"
    }
   ],
   "source": [
    "from IPython.display import display, Image\n",
    "\n",
    "display(Image(app.get_graph().draw_mermaid_png()))"
   ]
  }
 ],
 "metadata": {
  "kernelspec": {
   "display_name": "agent",
   "language": "python",
   "name": "python3"
  },
  "language_info": {
   "codemirror_mode": {
    "name": "ipython",
    "version": 3
   },
   "file_extension": ".py",
   "mimetype": "text/x-python",
   "name": "python",
   "nbconvert_exporter": "python",
   "pygments_lexer": "ipython3",
   "version": "3.10.6"
  }
 },
 "nbformat": 4,
 "nbformat_minor": 2
}
