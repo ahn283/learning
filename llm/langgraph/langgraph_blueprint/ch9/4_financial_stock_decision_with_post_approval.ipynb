{
 "cells": [
  {
   "cell_type": "code",
   "execution_count": 1,
   "metadata": {},
   "outputs": [],
   "source": [
    "# Import necessary modules\n",
    "import os \n",
    "from langchain_core.tools import tool\n",
    "from langgraph.graph import MessagesState, START, END, StateGraph\n",
    "from langgraph.checkpoint.memory import MemorySaver\n",
    "from langgraph.prebuilt import ToolNode\n",
    "from langchain_openai import ChatOpenAI\n",
    "from display_graph import display_graph\n",
    "import finnhub\n",
    "import keyring\n",
    "\n",
    "# Initialize Finnhub API client\n",
    "finnhub_client = finnhub.Client(api_key=keyring.get_password('finnhub', 'key_for_windows'))"
   ]
  },
  {
   "cell_type": "code",
   "execution_count": 2,
   "metadata": {},
   "outputs": [],
   "source": [
    "# Define the tool: querying stock prices using the Finnhub API\n",
    "@tool\n",
    "def get_stock_prices(symbol: str):\n",
    "    \"\"\"Retrieve the latest stock price for the given symbol.\"\"\"\n",
    "    quote = finnhub_client.quote(symbol)\n",
    "    return f\"The current price for {symbol} is ${quote['c']}\"\n",
    "\n",
    "# Define the tool for purchasing stock (simulated)\n",
    "@tool\n",
    "def purchase_stock(symbol: str, quantity: int):\n",
    "    \"\"\"Simulate stock purchase and return a confirmation message.\"\"\"\n",
    "    return f\"Purchase {quantity} shares of {symbol} at the current market price.\"\n",
    "\n",
    "# Register the tools in the tool node\n",
    "tools = [get_stock_prices, purchase_stock]\n",
    "tool_node = ToolNode(tools)"
   ]
  },
  {
   "cell_type": "code",
   "execution_count": 3,
   "metadata": {},
   "outputs": [],
   "source": [
    "# Set up the AI model for reasoning\n",
    "model = ChatOpenAI(model='gpt-4o-mini', api_key=keyring.get_password('openai', 'key_for_windows'))\n",
    "model = model.bind_tools(tools)"
   ]
  },
  {
   "cell_type": "code",
   "execution_count": 4,
   "metadata": {},
   "outputs": [],
   "source": [
    "# Define the function that simulates reasoning invokes the model\n",
    "def agent_reasoning(state):\n",
    "    messages = state[\"messages\"]\n",
    "    response = model.invoke(messages)\n",
    "    return {\"messages\":[response]}\n",
    "\n",
    "# Define conditional logic to determine whether no continue or stop\n",
    "def should_continue(state):\n",
    "    messages = state[\"messages\"]\n",
    "    last_message = messages[-1]\n",
    "    # If there are no tool calls, finish the process\n",
    "    if not last_message.tool_calls:\n",
    "        return \"end\"\n",
    "    return \"continue\"       # Otherwise, continue to the next stop"
   ]
  },
  {
   "cell_type": "code",
   "execution_count": 5,
   "metadata": {},
   "outputs": [
    {
     "name": "stdout",
     "output_type": "stream",
     "text": [
      "d:\\projects\\github\\learning\\llm\\langgraph\\langgraph_blueprint\\ch9/graphs/graph_67761.png\n"
     ]
    }
   ],
   "source": [
    "# Build the React agent using LangGraph\n",
    "workflow = StateGraph(MessagesState)\n",
    "\n",
    "# Add nodes: agent reasoning and tool invocation\n",
    "workflow.add_node(\"agent_reasoning\", agent_reasoning)\n",
    "workflow.add_node(\"call_tool\", tool_node)\n",
    "\n",
    "# Define the flow\n",
    "workflow.add_edge(START, \"agent_reasoning\")     # Start with reasoning\n",
    "\n",
    "# Conditional edges: proceed to tool call or end the process\n",
    "workflow.add_conditional_edges(\n",
    "    \"agent_reasoning\", \n",
    "    should_continue, \n",
    "    {\n",
    "        \"continue\":\"call_tool\",     # Proceed to call tool (get stock price or purchase)\n",
    "        \"end\": END          # End the workflow\n",
    "    }\n",
    ")\n",
    "\n",
    "# Normal edge : after invoking the tool, return to agent reasoning\n",
    "workflow.add_edge(\"call_tool\", \"agent_reasoning\")\n",
    "\n",
    "# Set up memory for breakpoints and add 'interrupt_after' to pause after the stock purchase\n",
    "memory = MemorySaver()\n",
    "app = workflow.compile(checkpointer=memory, interrupt_after=[\"call_tool\"])\n",
    "\n",
    "# Display the graph \n",
    "display_graph(app)"
   ]
  },
  {
   "cell_type": "code",
   "execution_count": 6,
   "metadata": {},
   "outputs": [
    {
     "name": "stdout",
     "output_type": "stream",
     "text": [
      "{'messages': [HumanMessage(content='Should I buy AAPL stock today?', additional_kwargs={}, response_metadata={}, id='5d2e3d68-f7f7-4b83-84ba-1284eba99179')]}\n",
      "{'messages': [HumanMessage(content='Should I buy AAPL stock today?', additional_kwargs={}, response_metadata={}, id='5d2e3d68-f7f7-4b83-84ba-1284eba99179'), AIMessage(content='To determine whether you should buy AAPL stock today, I can check the latest stock price for AAPL. Would you like me to do that?', additional_kwargs={'refusal': None}, response_metadata={'token_usage': {'completion_tokens': 32, 'prompt_tokens': 84, 'total_tokens': 116, 'completion_tokens_details': {'accepted_prediction_tokens': 0, 'audio_tokens': 0, 'reasoning_tokens': 0, 'rejected_prediction_tokens': 0}, 'prompt_tokens_details': {'audio_tokens': 0, 'cached_tokens': 0}}, 'model_name': 'gpt-4o-mini-2024-07-18', 'system_fingerprint': 'fp_d02d531b47', 'finish_reason': 'stop', 'logprobs': None}, id='run-e7fbaef3-6557-4d16-a7b6-577290169da0-0', usage_metadata={'input_tokens': 84, 'output_tokens': 32, 'total_tokens': 116, 'input_token_details': {'audio': 0, 'cache_read': 0}, 'output_token_details': {'audio': 0, 'reasoning': 0}})]}\n",
      "{'messages': [HumanMessage(content='Should I buy AAPL stock today?', additional_kwargs={}, response_metadata={}, id='5d2e3d68-f7f7-4b83-84ba-1284eba99179'), AIMessage(content='To determine whether you should buy AAPL stock today, I can check the latest stock price for AAPL. Would you like me to do that?', additional_kwargs={'refusal': None}, response_metadata={'token_usage': {'completion_tokens': 32, 'prompt_tokens': 84, 'total_tokens': 116, 'completion_tokens_details': {'accepted_prediction_tokens': 0, 'audio_tokens': 0, 'reasoning_tokens': 0, 'rejected_prediction_tokens': 0}, 'prompt_tokens_details': {'audio_tokens': 0, 'cached_tokens': 0}}, 'model_name': 'gpt-4o-mini-2024-07-18', 'system_fingerprint': 'fp_d02d531b47', 'finish_reason': 'stop', 'logprobs': None}, id='run-e7fbaef3-6557-4d16-a7b6-577290169da0-0', usage_metadata={'input_tokens': 84, 'output_tokens': 32, 'total_tokens': 116, 'input_token_details': {'audio': 0, 'cache_read': 0}, 'output_token_details': {'audio': 0, 'reasoning': 0}})]}\n"
     ]
    }
   ],
   "source": [
    "# Simulate user input for stock symbol\n",
    "initial_input = {\"messages\":[{\"role\":\"user\", \"content\":\"Should I buy AAPL stock today?\"}]}\n",
    "thread = {\"configurable\":{\"thread_id\":\"1\"}}\n",
    "\n",
    "# run the agent reasoning step first\n",
    "for event in app.stream(initial_input, thread, stream_mode=\"values\"):\n",
    "    print(event)\n",
    "    \n",
    "# Pausing for human approval after the purchase is made\n",
    "user_approval = input(\"Do you approve the stock purchase action? (yes/no):\")\n",
    "\n",
    "if user_approval.lower() == \"yes\":\n",
    "    # Confirm and finalize the transaction\n",
    "    for event in app.stream(None, thread, stream_mode=\"values\"):\n",
    "        print(event)\n",
    "else:\n",
    "    print(\"Execution halted by user.\")"
   ]
  },
  {
   "cell_type": "code",
   "execution_count": null,
   "metadata": {},
   "outputs": [],
   "source": []
  }
 ],
 "metadata": {
  "kernelspec": {
   "display_name": "agent",
   "language": "python",
   "name": "python3"
  },
  "language_info": {
   "codemirror_mode": {
    "name": "ipython",
    "version": 3
   },
   "file_extension": ".py",
   "mimetype": "text/x-python",
   "name": "python",
   "nbconvert_exporter": "python",
   "pygments_lexer": "ipython3",
   "version": "3.10.6"
  }
 },
 "nbformat": 4,
 "nbformat_minor": 2
}
