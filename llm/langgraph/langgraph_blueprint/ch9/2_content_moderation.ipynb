{
 "cells": [
  {
   "cell_type": "code",
   "execution_count": 1,
   "metadata": {},
   "outputs": [],
   "source": [
    "import os\n",
    "from typing import TypedDict\n",
    "from langgraph.graph import StateGraph, START, END\n",
    "from langgraph.checkpoint.memory import MemorySaver\n",
    "from langchain_openai import ChatOpenAI\n",
    "from display_graph import display_graph\n",
    "import keyring"
   ]
  },
  {
   "cell_type": "code",
   "execution_count": 3,
   "metadata": {},
   "outputs": [],
   "source": [
    "# Set up OpenAI APi Key\n",
    "OPENAI_API_KEY = keyring.get_password('openai', 'key_for_windows')\n",
    "\n",
    "# Initialize the OpenAI model\n",
    "llm = ChatOpenAI(\n",
    "    api_key=OPENAI_API_KEY,\n",
    "    model='gpt-4o-mini',\n",
    "    temperature=0.7,        # Adjust for creativity\n",
    "    max_tokens=50           # Set maximum token length for responses\n",
    ")"
   ]
  },
  {
   "cell_type": "code",
   "execution_count": 5,
   "metadata": {},
   "outputs": [],
   "source": [
    "# Define the state structure\n",
    "class State(TypedDict):\n",
    "    input: str\n",
    "    draft_content: str\n",
    "    \n",
    "# Define node functions\n",
    "def create_draft(state: State):\n",
    "    print(\"---Generating Draft with ChatOpenAI---\")\n",
    "    \n",
    "    # Prepare the prompt for generating the blog content\n",
    "    prompt = f\"Write a blog post on the topoc: {state['input']}\"\n",
    "    \n",
    "    # Call the LangChain ChatOpenAI instance to generate the draft\n",
    "    response = llm.invoke([{\"role\":\"user\", \"content\":prompt}])\n",
    "    \n",
    "    # Extract the generated content\n",
    "    state[\"draft_content\"] = response.content\n",
    "    print(f\"Generated Draft:\\n{state['draft_content']}\")\n",
    "    return state"
   ]
  },
  {
   "cell_type": "code",
   "execution_count": 6,
   "metadata": {},
   "outputs": [],
   "source": [
    "def review_draft(state: State):\n",
    "    print(\"---Reviewing Draft---\")\n",
    "    print(f\"Draft for review:\\n{state['draft_content']}\")\n",
    "    return state\n",
    "\n",
    "def publish_content(state: State):\n",
    "    print(\"---Publishing Content---\")\n",
    "    print(f\"Published Content:\\n{state['draft_content']}\")\n",
    "    return state"
   ]
  },
  {
   "cell_type": "code",
   "execution_count": 7,
   "metadata": {},
   "outputs": [
    {
     "data": {
      "text/plain": [
       "<langgraph.graph.state.StateGraph at 0x2dc68e149d0>"
      ]
     },
     "execution_count": 7,
     "metadata": {},
     "output_type": "execute_result"
    }
   ],
   "source": [
    "# Build the graph\n",
    "builder = StateGraph(State)\n",
    "builder.add_node(\"create_draft\", create_draft)\n",
    "builder.add_node(\"review_draft\", review_draft)\n",
    "builder.add_node(\"publish_content\", publish_content)\n",
    "\n",
    "# Define the flow\n",
    "builder.add_edge(START, \"create_draft\")\n",
    "builder.add_edge(\"create_draft\", \"review_draft\")\n",
    "builder.add_edge(\"review_draft\", \"publish_content\")\n",
    "builder.add_edge(\"publish_content\", END)"
   ]
  },
  {
   "cell_type": "code",
   "execution_count": 8,
   "metadata": {},
   "outputs": [
    {
     "name": "stdout",
     "output_type": "stream",
     "text": [
      "d:\\projects\\github\\learning\\llm\\langgraph\\langgraph_blueprint\\ch9/graphs/graph_69256.png\n"
     ]
    }
   ],
   "source": [
    "# Set up memory and breakpoints\n",
    "memory = MemorySaver()\n",
    "graph = builder.compile(\n",
    "    checkpointer=memory,\n",
    "    interrupt_before=[\"publish_content\"]\n",
    ")\n",
    "\n",
    "# Display the graph\n",
    "display_graph(graph)"
   ]
  },
  {
   "cell_type": "code",
   "execution_count": 9,
   "metadata": {},
   "outputs": [
    {
     "name": "stdout",
     "output_type": "stream",
     "text": [
      "{'input': 'The importance of AI in modern content creation.'}\n",
      "---Generating Draft with ChatOpenAI---\n",
      "Generated Draft:\n",
      "# The Importance of AI in Modern Content Creation\n",
      "\n",
      "In today’s fast-paced digital landscape, content is king. Businesses, brands, and creators are constantly seeking innovative ways to engage their audiences and stand out in a crowded marketplace. As the demand for high\n",
      "{'input': 'The importance of AI in modern content creation.', 'draft_content': '# The Importance of AI in Modern Content Creation\\n\\nIn today’s fast-paced digital landscape, content is king. Businesses, brands, and creators are constantly seeking innovative ways to engage their audiences and stand out in a crowded marketplace. As the demand for high'}\n",
      "---Reviewing Draft---\n",
      "Draft for review:\n",
      "# The Importance of AI in Modern Content Creation\n",
      "\n",
      "In today’s fast-paced digital landscape, content is king. Businesses, brands, and creators are constantly seeking innovative ways to engage their audiences and stand out in a crowded marketplace. As the demand for high\n",
      "{'input': 'The importance of AI in modern content creation.', 'draft_content': '# The Importance of AI in Modern Content Creation\\n\\nIn today’s fast-paced digital landscape, content is king. Businesses, brands, and creators are constantly seeking innovative ways to engage their audiences and stand out in a crowded marketplace. As the demand for high'}\n",
      "{'input': 'The importance of AI in modern content creation.', 'draft_content': '# The Importance of AI in Modern Content Creation\\n\\nIn today’s fast-paced digital landscape, content is king. Businesses, brands, and creators are constantly seeking innovative ways to engage their audiences and stand out in a crowded marketplace. As the demand for high'}\n",
      "---Publishing Content---\n",
      "Published Content:\n",
      "# The Importance of AI in Modern Content Creation\n",
      "\n",
      "In today’s fast-paced digital landscape, content is king. Businesses, brands, and creators are constantly seeking innovative ways to engage their audiences and stand out in a crowded marketplace. As the demand for high\n",
      "{'input': 'The importance of AI in modern content creation.', 'draft_content': '# The Importance of AI in Modern Content Creation\\n\\nIn today’s fast-paced digital landscape, content is king. Businesses, brands, and creators are constantly seeking innovative ways to engage their audiences and stand out in a crowded marketplace. As the demand for high'}\n",
      "Draft updated by the editor.\n"
     ]
    }
   ],
   "source": [
    "# Run the graph\n",
    "config = {\"configurable\": {\"thread_id\":\"thread-1\"}}\n",
    "initial_input = {\"input\": \"The importance of AI in modern content creation.\"}\n",
    "\n",
    "# Run the first part until the review step\n",
    "thread = {\"configurable\":{\"thread_id\": \"1\"}}\n",
    "\n",
    "for event in graph.stream(initial_input, thread, stream_mode=\"values\"):\n",
    "    print(event)\n",
    "    \n",
    "# Pausing for human review\n",
    "user_approaval = input(\"Do you approve the draft for publishing? (yes/no/modification): \")\n",
    "\n",
    "if user_approaval.lower() == \"yes\":\n",
    "    # Proceed to publish content\n",
    "    for event in graph.stream(None, thread, stream_mode=\"values\"):\n",
    "        print(event)\n",
    "elif user_approaval.lower() == \"modification\":\n",
    "    updated_draft = input(\"Please modify the draft content:\\n\")\n",
    "    memory.update({\"draft_content\": updated_draft})     # Update memory with new content\n",
    "print(\"Draft updated by the editor.\")"
   ]
  }
 ],
 "metadata": {
  "kernelspec": {
   "display_name": "agent",
   "language": "python",
   "name": "python3"
  },
  "language_info": {
   "codemirror_mode": {
    "name": "ipython",
    "version": 3
   },
   "file_extension": ".py",
   "mimetype": "text/x-python",
   "name": "python",
   "nbconvert_exporter": "python",
   "pygments_lexer": "ipython3",
   "version": "3.10.6"
  }
 },
 "nbformat": 4,
 "nbformat_minor": 2
}
