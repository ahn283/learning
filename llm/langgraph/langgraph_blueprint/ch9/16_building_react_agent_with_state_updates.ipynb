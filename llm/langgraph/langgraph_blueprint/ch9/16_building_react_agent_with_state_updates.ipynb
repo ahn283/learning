{
 "cells": [
  {
   "cell_type": "code",
   "execution_count": 5,
   "metadata": {},
   "outputs": [],
   "source": [
    "# Import necessary libraries\n",
    "from langchain_openai import ChatOpenAI\n",
    "from langchain_core.tools import tool\n",
    "from langgraph.graph import MessagesState, START, END, StateGraph\n",
    "from langgraph.checkpoint.memory import MemorySaver\n",
    "from langgraph.prebuilt import ToolNode\n",
    "import keyring\n",
    "\n",
    "# Define tools\n",
    "@tool\n",
    "def play_song_on_spotify(song: str):\n",
    "    \"\"\"Doc string\"\"\"\n",
    "    return f\"Successfullt played {song} on Spotify!\"\n",
    "\n",
    "@tool\n",
    "def play_song_on_apple(song: str):\n",
    "    \"\"\"Doc string\"\"\"\n",
    "    return f\"Successfully played {song} on Apple Music!\"\n",
    "\n",
    "# List of tools\n",
    "tools = [play_song_on_apple, play_song_on_spotify]\n",
    "tool_node = ToolNode(tools)\n",
    "\n",
    "# Set up model\n",
    "model = ChatOpenAI(model='gpt-4o-mini', api_key=keyring.get_password('openai', 'key_for_windows')).bind_tools(tools)\n",
    "\n",
    "# Define model-calling function\n",
    "def call_model(state):\n",
    "    response = model.invoke(state['messages'])\n",
    "    return {\"messages\": [response]}\n",
    "\n",
    "# Define continuation logic\n",
    "def should_continue(state):\n",
    "    last_message = state[\"messages\"][-1]\n",
    "    if last_message.tool_calls:\n",
    "        return \"continue\"\n",
    "    return \"end\""
   ]
  },
  {
   "cell_type": "code",
   "execution_count": 6,
   "metadata": {},
   "outputs": [],
   "source": [
    "# Build the graph\n",
    "workflow = StateGraph(MessagesState)\n",
    "workflow.add_node(\"agent\", call_model)\n",
    "workflow.add_node(\"action\", tool_node)\n",
    "\n",
    "# Define graph flow\n",
    "workflow.add_edge(START, \"agent\")\n",
    "workflow.add_conditional_edges(\n",
    "    \"agent\",\n",
    "    should_continue,\n",
    "    {\n",
    "        \"continue\":\"action\",\n",
    "        \"end\":END\n",
    "    }\n",
    ")\n",
    "\n",
    "# Set up memory for checkpointing\n",
    "memory = MemorySaver()\n",
    "app = workflow.compile(checkpointer=memory)"
   ]
  },
  {
   "cell_type": "code",
   "execution_count": 7,
   "metadata": {},
   "outputs": [
    {
     "name": "stdout",
     "output_type": "stream",
     "text": [
      "================================\u001b[1m Human Message \u001b[0m=================================\n",
      "\n",
      "Can you play Taylor Swift's most popular song?\n",
      "None\n",
      "==================================\u001b[1m Ai Message \u001b[0m==================================\n",
      "Tool Calls:\n",
      "  play_song_on_apple (call_0dLhVp3pGCikLPRjiWVBECJx)\n",
      " Call ID: call_0dLhVp3pGCikLPRjiWVBECJx\n",
      "  Args:\n",
      "    song: Blank Space by Taylor Swift\n",
      "  play_song_on_spotify (call_MYgaLJJJKnZe0hUGI7nDCDsM)\n",
      " Call ID: call_MYgaLJJJKnZe0hUGI7nDCDsM\n",
      "  Args:\n",
      "    song: Blank Space by Taylor Swift\n",
      "None\n",
      "=================================\u001b[1m Tool Message \u001b[0m=================================\n",
      "Name: play_song_on_spotify\n",
      "\n",
      "Successfullt played Blank Space by Taylor Swift on Spotify!\n",
      "None\n"
     ]
    }
   ],
   "source": [
    "# Interacting with the Agent\n",
    "from langchain_core.messages import HumanMessage\n",
    "config = {\n",
    "    \"configurable\": {\"thread_id\": \"1\"}\n",
    "}\n",
    "input_message = HumanMessage(\n",
    "    content=\"Can you play Taylor Swift's most popular song?\"\n",
    ")\n",
    "for event in app.stream({\"messages\":[input_message]}, config, stream_mode=\"values\"):\n",
    "    print(event['messages'][-1].pretty_print())"
   ]
  },
  {
   "cell_type": "code",
   "execution_count": null,
   "metadata": {},
   "outputs": [],
   "source": []
  }
 ],
 "metadata": {
  "kernelspec": {
   "display_name": "agent",
   "language": "python",
   "name": "python3"
  },
  "language_info": {
   "codemirror_mode": {
    "name": "ipython",
    "version": 3
   },
   "file_extension": ".py",
   "mimetype": "text/x-python",
   "name": "python",
   "nbconvert_exporter": "python",
   "pygments_lexer": "ipython3",
   "version": "3.10.6"
  }
 },
 "nbformat": 4,
 "nbformat_minor": 2
}
