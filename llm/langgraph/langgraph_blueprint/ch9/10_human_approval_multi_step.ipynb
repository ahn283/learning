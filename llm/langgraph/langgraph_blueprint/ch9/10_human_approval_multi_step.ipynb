{
 "cells": [
  {
   "cell_type": "code",
   "execution_count": 1,
   "metadata": {},
   "outputs": [
    {
     "name": "stdout",
     "output_type": "stream",
     "text": [
      "d:\\projects\\github\\learning\\llm\\langgraph\\langgraph_blueprint\\ch9/graphs/graph_8703.png\n"
     ]
    }
   ],
   "source": [
    "import os\n",
    "from typing import TypedDict\n",
    "from langgraph.graph import StateGraph, START, END\n",
    "from langgraph.checkpoint.memory import MemorySaver\n",
    "from display_graph import display_graph\n",
    "\n",
    "class State(TypedDict):\n",
    "    input : str\n",
    "\n",
    "def step_a(state: State):\n",
    "    print(\"Executing Step A\")\n",
    "    return state\n",
    "\n",
    "def step_b(state: State):\n",
    "    print(\"Execute Step B\")\n",
    "    return state\n",
    "\n",
    "builder = StateGraph(State)\n",
    "builder.add_node(\"step_a\", step_a)\n",
    "builder.add_node(\"step_b\", step_b)\n",
    "\n",
    "builder.add_edge(START, \"step_a\")\n",
    "builder.add_edge(\"step_a\", \"step_b\")\n",
    "builder.add_edge(\"step_b\", END)\n",
    "\n",
    "graph = builder.compile(interrupt_before=[\"step_b\"], checkpointer=MemorySaver())\n",
    "\n",
    "# display the graph\n",
    "display_graph(graph)"
   ]
  },
  {
   "cell_type": "code",
   "execution_count": 2,
   "metadata": {},
   "outputs": [
    {
     "name": "stdout",
     "output_type": "stream",
     "text": [
      "Executing Step A\n",
      "{'step_a': {'input': 'Starting workflow'}}\n",
      "{'__interrupt__': ()}\n",
      "Execute Step B\n",
      "{'step_b': {'input': 'Starting workflow'}}\n"
     ]
    }
   ],
   "source": [
    "initial_input = {\"input\":\"Starting workflow\"}\n",
    "config = {\"configurable\": {\"thread_id\":\"thread-1\"}}\n",
    "for event in graph.stream(initial_input, config):\n",
    "    print(event)\n",
    "approval = input(\"Proceed to Step B? (yes/no): \")\n",
    "if approval.lower() == \"yes\":\n",
    "    for event in graph.stream(None, config):\n",
    "        print(event)\n",
    "else:\n",
    "    print(\"Workflow halted before Step B.\")"
   ]
  },
  {
   "cell_type": "code",
   "execution_count": null,
   "metadata": {},
   "outputs": [],
   "source": []
  }
 ],
 "metadata": {
  "kernelspec": {
   "display_name": "agent",
   "language": "python",
   "name": "python3"
  },
  "language_info": {
   "codemirror_mode": {
    "name": "ipython",
    "version": 3
   },
   "file_extension": ".py",
   "mimetype": "text/x-python",
   "name": "python",
   "nbconvert_exporter": "python",
   "pygments_lexer": "ipython3",
   "version": "3.10.6"
  }
 },
 "nbformat": 4,
 "nbformat_minor": 2
}
