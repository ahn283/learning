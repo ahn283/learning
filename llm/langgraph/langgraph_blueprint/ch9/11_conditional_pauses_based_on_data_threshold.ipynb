{
 "cells": [
  {
   "cell_type": "code",
   "execution_count": 2,
   "metadata": {},
   "outputs": [],
   "source": [
    "from langgraph.errors import NodeInterrupt\n",
    "import os\n",
    "from typing import TypedDict\n",
    "from langgraph.graph import StateGraph, START, END\n",
    "from display_graph import display_graph\n",
    "\n",
    "class State(TypedDict):\n",
    "    input: str"
   ]
  },
  {
   "cell_type": "code",
   "execution_count": 3,
   "metadata": {},
   "outputs": [
    {
     "name": "stdout",
     "output_type": "stream",
     "text": [
      "d:\\projects\\github\\learning\\llm\\langgraph\\langgraph_blueprint\\ch9/graphs/graph_35182.png\n"
     ]
    }
   ],
   "source": [
    "builder = StateGraph(State)\n",
    "\n",
    "def step_with_dynamic_interrupt(state: State):\n",
    "    input_length = len(state['input'])\n",
    "    if input_length > 10:\n",
    "        raise NodeInterrupt(\"Input length {input_length} exceeds threshold of 10.\")\n",
    "    return state\n",
    "\n",
    "builder.add_node(\"step_with_dynamic_interrupt\", step_with_dynamic_interrupt)\n",
    "builder.add_edge(START, \"step_with_dynamic_interrupt\")\n",
    "builder.add_edge(\"step_with_dynamic_interrupt\", END)\n",
    "\n",
    "grpah = builder.compile()\n",
    "\n",
    "# Display the graph\n",
    "display_graph(grpah)"
   ]
  },
  {
   "cell_type": "code",
   "execution_count": 4,
   "metadata": {},
   "outputs": [
    {
     "name": "stdout",
     "output_type": "stream",
     "text": [
      "{'__interrupt__': [Interrupt(value='Input length {input_length} exceeds threshold of 10.', resumable=False, ns=None, when='during')]}\n"
     ]
    }
   ],
   "source": [
    "initial_input = {\"input\": \"This is a long input\"}\n",
    "for event in grpah.stream(initial_input):\n",
    "    print(event)"
   ]
  }
 ],
 "metadata": {
  "kernelspec": {
   "display_name": "agent",
   "language": "python",
   "name": "python3"
  },
  "language_info": {
   "codemirror_mode": {
    "name": "ipython",
    "version": 3
   },
   "file_extension": ".py",
   "mimetype": "text/x-python",
   "name": "python",
   "nbconvert_exporter": "python",
   "pygments_lexer": "ipython3",
   "version": "3.10.6"
  }
 },
 "nbformat": 4,
 "nbformat_minor": 2
}
