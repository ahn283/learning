{
 "cells": [
  {
   "cell_type": "code",
   "execution_count": 1,
   "metadata": {},
   "outputs": [],
   "source": [
    "# Import necessary moduels\n",
    "import os\n",
    "from langchain_core.tools import tool\n",
    "from langgraph.graph import MessagesState, START, END, StateGraph\n",
    "from langgraph.checkpoint.memory import MemorySaver\n",
    "from langgraph.prebuilt import ToolNode\n",
    "from langchain_openai import ChatOpenAI\n",
    "# !pip install finnhub-python\n",
    "import finnhub\n",
    "from display_graph import display_graph\n",
    "import keyring"
   ]
  },
  {
   "cell_type": "code",
   "execution_count": 3,
   "metadata": {},
   "outputs": [],
   "source": [
    "# Initiialize Finnhub API client\n",
    "FINNHUB_API_KEY = keyring.get_password('finnhub', 'key_for_windows')\n",
    "finnhub_client = finnhub.Client(api_key=FINNHUB_API_KEY)"
   ]
  },
  {
   "cell_type": "code",
   "execution_count": 4,
   "metadata": {},
   "outputs": [],
   "source": [
    "# Define the tool : querying stock prices using the Finnhub API\n",
    "@tool\n",
    "def get_stock_price(symbol: str):\n",
    "    \"\"\"Retrieve the latest stock price for the given symbol.\"\"\"\n",
    "    qoute = finnhub_client.quote(symbol)\n",
    "    return f\"The current price for {symbol} is ${qoute['c']}\"\n",
    "\n",
    "# Register the tool in the tool node\n",
    "tools = [get_stock_price]\n",
    "tool_node = ToolNode(tools)"
   ]
  },
  {
   "cell_type": "code",
   "execution_count": 5,
   "metadata": {},
   "outputs": [],
   "source": [
    "# Set up the AI model\n",
    "OPENAI_API_KEY = keyring.get_password('openai', 'key_for_windows')\n",
    "model = ChatOpenAI(model='gpt-4o-mini', api_key=OPENAI_API_KEY)\n",
    "model = model.bind_tools(tools)\n",
    "\n",
    "# Define the function that simulates reasoning and invokes the model\n",
    "def agent_reasoning(state):\n",
    "    messages = state[\"messages\"]\n",
    "    response = model.invoke(messages)\n",
    "    return {\"messages\":[response]}\n",
    "\n",
    "# Define conditional logic to determine whether to continue or stop\n",
    "def should_continue(state):\n",
    "    messages = state[\"messages\"]\n",
    "    last_message = messages[-1]\n",
    "    # If theere are no tool calls, finish the process\n",
    "    if not last_message.tool_calls:\n",
    "        return \"end\"\n",
    "    return \"continue\"       # Otherwise, continue to the next stop"
   ]
  },
  {
   "cell_type": "code",
   "execution_count": 6,
   "metadata": {},
   "outputs": [
    {
     "data": {
      "text/plain": [
       "<langgraph.graph.state.StateGraph at 0x1daa4833df0>"
      ]
     },
     "execution_count": 6,
     "metadata": {},
     "output_type": "execute_result"
    }
   ],
   "source": [
    "# Build the React agent using LangGraph\n",
    "workflow = StateGraph(MessagesState)\n",
    "\n",
    "# Add nodes : agent reasoning and tool invocation (stock price retrieval)\n",
    "workflow.add_node(\"agent_reasoning\", agent_reasoning)\n",
    "workflow.add_node(\"call_tool\", tool_node)\n",
    "\n",
    "# Define the flow\n",
    "workflow.add_edge(START, \"agent_reasoning\")     # Start with reasoning\n",
    "\n",
    "# Conditional edges: continue to tool call or end the process\n",
    "workflow.add_conditional_edges(\n",
    "    \"agent_reasoning\",\n",
    "    should_continue,\n",
    "    {\n",
    "        \"continue\":\"call_tool\",     # Proceed to get stock price\n",
    "        \"end\":END                   # End the workflow\n",
    "    }\n",
    ")\n",
    "\n",
    "# Normal edge: after invoking the tool, return to agent reasoning\n",
    "workflow.add_edge(\"call_tool\", \"agent_reasoning\")"
   ]
  },
  {
   "cell_type": "code",
   "execution_count": 7,
   "metadata": {},
   "outputs": [
    {
     "name": "stdout",
     "output_type": "stream",
     "text": [
      "d:\\projects\\github\\learning\\llm\\langgraph\\langgraph_blueprint\\ch9/graphs/graph_15175.png\n"
     ]
    }
   ],
   "source": [
    "# set up memory for breakpoints and add a breakpoint before calling the tool\n",
    "memory = MemorySaver()\n",
    "app = workflow.compile(checkpointer=memory, interrupt_before=[\"call_tool\"])\n",
    "\n",
    "# Display the graph\n",
    "display_graph(app)"
   ]
  },
  {
   "cell_type": "code",
   "execution_count": 8,
   "metadata": {},
   "outputs": [],
   "source": [
    "# Simulate user input for stock symbol\n",
    "initial_input = {\"messages\":[\n",
    "    {\"role\":\"user\", \"content\":\"Should I buy AAPL stock today?\"}\n",
    "]}\n",
    "thread = {\"configurable\":{\"thread_id\":\"1\"}}"
   ]
  },
  {
   "cell_type": "code",
   "execution_count": 9,
   "metadata": {},
   "outputs": [
    {
     "name": "stdout",
     "output_type": "stream",
     "text": [
      "{'messages': [HumanMessage(content='Should I buy AAPL stock today?', additional_kwargs={}, response_metadata={}, id='12505d27-fede-404e-81dd-1b960e077394')]}\n",
      "{'messages': [HumanMessage(content='Should I buy AAPL stock today?', additional_kwargs={}, response_metadata={}, id='12505d27-fede-404e-81dd-1b960e077394'), AIMessage(content='', additional_kwargs={'tool_calls': [{'id': 'call_wojvHuzr4zp3Eqw0P1MNW3bR', 'function': {'arguments': '{\"symbol\":\"AAPL\"}', 'name': 'get_stock_price'}, 'type': 'function'}], 'refusal': None}, response_metadata={'token_usage': {'completion_tokens': 17, 'prompt_tokens': 56, 'total_tokens': 73, 'completion_tokens_details': {'accepted_prediction_tokens': 0, 'audio_tokens': 0, 'reasoning_tokens': 0, 'rejected_prediction_tokens': 0}, 'prompt_tokens_details': {'audio_tokens': 0, 'cached_tokens': 0}}, 'model_name': 'gpt-4o-mini-2024-07-18', 'system_fingerprint': 'fp_0aa8d3e20b', 'finish_reason': 'tool_calls', 'logprobs': None}, id='run-0376897a-09bc-4f52-88eb-8858b8e5dbb1-0', tool_calls=[{'name': 'get_stock_price', 'args': {'symbol': 'AAPL'}, 'id': 'call_wojvHuzr4zp3Eqw0P1MNW3bR', 'type': 'tool_call'}], usage_metadata={'input_tokens': 56, 'output_tokens': 17, 'total_tokens': 73, 'input_token_details': {'audio': 0, 'cache_read': 0}, 'output_token_details': {'audio': 0, 'reasoning': 0}})]}\n",
      "{'messages': [HumanMessage(content='Should I buy AAPL stock today?', additional_kwargs={}, response_metadata={}, id='12505d27-fede-404e-81dd-1b960e077394'), AIMessage(content='', additional_kwargs={'tool_calls': [{'id': 'call_wojvHuzr4zp3Eqw0P1MNW3bR', 'function': {'arguments': '{\"symbol\":\"AAPL\"}', 'name': 'get_stock_price'}, 'type': 'function'}], 'refusal': None}, response_metadata={'token_usage': {'completion_tokens': 17, 'prompt_tokens': 56, 'total_tokens': 73, 'completion_tokens_details': {'accepted_prediction_tokens': 0, 'audio_tokens': 0, 'reasoning_tokens': 0, 'rejected_prediction_tokens': 0}, 'prompt_tokens_details': {'audio_tokens': 0, 'cached_tokens': 0}}, 'model_name': 'gpt-4o-mini-2024-07-18', 'system_fingerprint': 'fp_0aa8d3e20b', 'finish_reason': 'tool_calls', 'logprobs': None}, id='run-0376897a-09bc-4f52-88eb-8858b8e5dbb1-0', tool_calls=[{'name': 'get_stock_price', 'args': {'symbol': 'AAPL'}, 'id': 'call_wojvHuzr4zp3Eqw0P1MNW3bR', 'type': 'tool_call'}], usage_metadata={'input_tokens': 56, 'output_tokens': 17, 'total_tokens': 73, 'input_token_details': {'audio': 0, 'cache_read': 0}, 'output_token_details': {'audio': 0, 'reasoning': 0}})]}\n",
      "{'messages': [HumanMessage(content='Should I buy AAPL stock today?', additional_kwargs={}, response_metadata={}, id='12505d27-fede-404e-81dd-1b960e077394'), AIMessage(content='', additional_kwargs={'tool_calls': [{'id': 'call_wojvHuzr4zp3Eqw0P1MNW3bR', 'function': {'arguments': '{\"symbol\":\"AAPL\"}', 'name': 'get_stock_price'}, 'type': 'function'}], 'refusal': None}, response_metadata={'token_usage': {'completion_tokens': 17, 'prompt_tokens': 56, 'total_tokens': 73, 'completion_tokens_details': {'accepted_prediction_tokens': 0, 'audio_tokens': 0, 'reasoning_tokens': 0, 'rejected_prediction_tokens': 0}, 'prompt_tokens_details': {'audio_tokens': 0, 'cached_tokens': 0}}, 'model_name': 'gpt-4o-mini-2024-07-18', 'system_fingerprint': 'fp_0aa8d3e20b', 'finish_reason': 'tool_calls', 'logprobs': None}, id='run-0376897a-09bc-4f52-88eb-8858b8e5dbb1-0', tool_calls=[{'name': 'get_stock_price', 'args': {'symbol': 'AAPL'}, 'id': 'call_wojvHuzr4zp3Eqw0P1MNW3bR', 'type': 'tool_call'}], usage_metadata={'input_tokens': 56, 'output_tokens': 17, 'total_tokens': 73, 'input_token_details': {'audio': 0, 'cache_read': 0}, 'output_token_details': {'audio': 0, 'reasoning': 0}}), ToolMessage(content='The current price for AAPL is $243.85', name='get_stock_price', id='09606f39-a702-4bd0-966a-f27879b6c840', tool_call_id='call_wojvHuzr4zp3Eqw0P1MNW3bR')]}\n",
      "{'messages': [HumanMessage(content='Should I buy AAPL stock today?', additional_kwargs={}, response_metadata={}, id='12505d27-fede-404e-81dd-1b960e077394'), AIMessage(content='', additional_kwargs={'tool_calls': [{'id': 'call_wojvHuzr4zp3Eqw0P1MNW3bR', 'function': {'arguments': '{\"symbol\":\"AAPL\"}', 'name': 'get_stock_price'}, 'type': 'function'}], 'refusal': None}, response_metadata={'token_usage': {'completion_tokens': 17, 'prompt_tokens': 56, 'total_tokens': 73, 'completion_tokens_details': {'accepted_prediction_tokens': 0, 'audio_tokens': 0, 'reasoning_tokens': 0, 'rejected_prediction_tokens': 0}, 'prompt_tokens_details': {'audio_tokens': 0, 'cached_tokens': 0}}, 'model_name': 'gpt-4o-mini-2024-07-18', 'system_fingerprint': 'fp_0aa8d3e20b', 'finish_reason': 'tool_calls', 'logprobs': None}, id='run-0376897a-09bc-4f52-88eb-8858b8e5dbb1-0', tool_calls=[{'name': 'get_stock_price', 'args': {'symbol': 'AAPL'}, 'id': 'call_wojvHuzr4zp3Eqw0P1MNW3bR', 'type': 'tool_call'}], usage_metadata={'input_tokens': 56, 'output_tokens': 17, 'total_tokens': 73, 'input_token_details': {'audio': 0, 'cache_read': 0}, 'output_token_details': {'audio': 0, 'reasoning': 0}}), ToolMessage(content='The current price for AAPL is $243.85', name='get_stock_price', id='09606f39-a702-4bd0-966a-f27879b6c840', tool_call_id='call_wojvHuzr4zp3Eqw0P1MNW3bR'), AIMessage(content=\"The current price for AAPL (Apple Inc.) stock is $243.85. To make a decision on whether to buy, consider factors such as:\\n\\n1. **Current Market Trends**: Analyze overall market conditions and tech sector performance.\\n2. **Company Performance**: Look at Apple's recent earnings reports and future growth potential.\\n3. **Analyst Ratings**: Check what analysts are saying about AAPL stock.\\n4. **Your Financial Situation**: Ensure it aligns with your investment strategy and risk tolerance.\\n\\nIf you need more specific analysis or information, feel free to ask!\", additional_kwargs={'refusal': None}, response_metadata={'token_usage': {'completion_tokens': 119, 'prompt_tokens': 92, 'total_tokens': 211, 'completion_tokens_details': {'accepted_prediction_tokens': 0, 'audio_tokens': 0, 'reasoning_tokens': 0, 'rejected_prediction_tokens': 0}, 'prompt_tokens_details': {'audio_tokens': 0, 'cached_tokens': 0}}, 'model_name': 'gpt-4o-mini-2024-07-18', 'system_fingerprint': 'fp_d02d531b47', 'finish_reason': 'stop', 'logprobs': None}, id='run-4e5ed93a-b363-4759-901e-5a967df037dd-0', usage_metadata={'input_tokens': 92, 'output_tokens': 119, 'total_tokens': 211, 'input_token_details': {'audio': 0, 'cache_read': 0}, 'output_token_details': {'audio': 0, 'reasoning': 0}})]}\n"
     ]
    }
   ],
   "source": [
    "# Run the agent reasoning step first\n",
    "for event in app.stream(initial_input, thread, stream_mode=\"values\"):\n",
    "    print(event)\n",
    "\n",
    "# Pausing for human approval before retrieving stock price\n",
    "user_approval = input(\"Do you approve querying the stock price for AAPL? (yes/no)\")\n",
    "\n",
    "if user_approval.lower() == \"yes\":\n",
    "    # Continue with tool invocation to get stock price\n",
    "    for event in app.stream(None, thread, stream_mode=\"values\"):\n",
    "        print(event)\n",
    "else:\n",
    "    print(\"execution halted by user.\")"
   ]
  },
  {
   "cell_type": "code",
   "execution_count": null,
   "metadata": {},
   "outputs": [],
   "source": []
  }
 ],
 "metadata": {
  "kernelspec": {
   "display_name": "agent",
   "language": "python",
   "name": "python3"
  },
  "language_info": {
   "codemirror_mode": {
    "name": "ipython",
    "version": 3
   },
   "file_extension": ".py",
   "mimetype": "text/x-python",
   "name": "python",
   "nbconvert_exporter": "python",
   "pygments_lexer": "ipython3",
   "version": "3.10.6"
  }
 },
 "nbformat": 4,
 "nbformat_minor": 2
}
