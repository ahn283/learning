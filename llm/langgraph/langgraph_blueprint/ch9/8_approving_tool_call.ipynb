{
 "cells": [
  {
   "cell_type": "code",
   "execution_count": 1,
   "metadata": {},
   "outputs": [],
   "source": [
    "from typing import TypedDict\n",
    "from langgraph.graph import StateGraph, START, END\n",
    "from langgraph.checkpoint.memory import MemorySaver\n",
    "from langchain_core.tools import tool\n",
    "\n",
    "class State(TypedDict):\n",
    "    query: str\n",
    "\n",
    "@tool\n",
    "def perform_query(query: str):\n",
    "    \"\"\":param query: The SQL query to be executed.\"\"\"\n",
    "    print(f\"Performing query: {query}\")\n",
    "    return {\"query\":{query}}\n",
    "\n",
    "def review_query(state: State):\n",
    "    print(f\"Reviewing query: {state['query']}\")\n",
    "    return state"
   ]
  },
  {
   "cell_type": "code",
   "execution_count": 2,
   "metadata": {},
   "outputs": [],
   "source": [
    "builder = StateGraph(State)\n",
    "builder.add_node(\"perform_query\", perform_query)\n",
    "builder.add_node(\"review_query\", review_query)\n",
    "\n",
    "builder.add_edge(\"review_query\", \"perform_query\")\n",
    "builder.add_edge(START, \"review_query\")\n",
    "builder.add_edge(\"perform_query\", END)\n",
    "\n",
    "graph = builder.compile(interrupt_before=[\"perform_query\"], checkpointer=MemorySaver())"
   ]
  },
  {
   "cell_type": "code",
   "execution_count": 4,
   "metadata": {},
   "outputs": [
    {
     "name": "stdout",
     "output_type": "stream",
     "text": [
      "Reviewing query: SELECT * FROM users\n",
      "{'review_query': {'query': 'SELECT * FROM users'}}\n",
      "{'__interrupt__': ()}\n",
      "Performing query: SELECT * FROM users\n",
      "{'perform_query': {'query': {'SELECT * FROM users'}}}\n"
     ]
    }
   ],
   "source": [
    "intiial_input = {\"query\": \"SELECT * FROM users\"}\n",
    "config = {\"configurable\": {\"thread_id\":\"thread-1\"}}\n",
    "\n",
    "for event in graph.stream(intiial_input, config):\n",
    "    print(event)\n",
    "approval = input(\"Approve query execution? (yes/no): \")\n",
    "if approval.lower() == \"yes\":\n",
    "    for event in graph.stream(None, config):\n",
    "        print(event)\n",
    "else:\n",
    "    print(\"Query execution cancelled.\")"
   ]
  },
  {
   "cell_type": "code",
   "execution_count": 5,
   "metadata": {},
   "outputs": [
    {
     "name": "stdout",
     "output_type": "stream",
     "text": [
      "d:\\projects\\github\\learning\\llm\\langgraph\\langgraph_blueprint\\ch9/graphs/graph_72176.png\n"
     ]
    }
   ],
   "source": [
    "from display_graph import display_graph\n",
    "display_graph(graph)"
   ]
  }
 ],
 "metadata": {
  "kernelspec": {
   "display_name": "agent",
   "language": "python",
   "name": "python3"
  },
  "language_info": {
   "codemirror_mode": {
    "name": "ipython",
    "version": 3
   },
   "file_extension": ".py",
   "mimetype": "text/x-python",
   "name": "python",
   "nbconvert_exporter": "python",
   "pygments_lexer": "ipython3",
   "version": "3.10.6"
  }
 },
 "nbformat": 4,
 "nbformat_minor": 2
}
