{
 "cells": [
  {
   "cell_type": "code",
   "execution_count": 1,
   "metadata": {},
   "outputs": [],
   "source": [
    "from typing import TypedDict\n",
    "from langgraph.graph import StateGraph, START, END\n",
    "from langgraph.checkpoint.memory import MemorySaver\n",
    "\n",
    "class State(TypedDict):\n",
    "    amount: float\n",
    "\n",
    "builder = StateGraph(State)"
   ]
  },
  {
   "cell_type": "code",
   "execution_count": 2,
   "metadata": {},
   "outputs": [],
   "source": [
    "def define_transaction(state: State):\n",
    "    print(\"Defining transaction...\")\n",
    "    return state\n",
    "\n",
    "def verify_transaction(state: State):\n",
    "    print(f\"Verifying transaction amount: {state['amount']}\")\n",
    "    return state"
   ]
  },
  {
   "cell_type": "code",
   "execution_count": 3,
   "metadata": {},
   "outputs": [],
   "source": [
    "builder.add_node(\"define_transaction\", define_transaction)\n",
    "builder.add_node(\"verify_transaction\", verify_transaction)\n",
    "builder.add_edge(START, \"define_transaction\")\n",
    "builder.add_edge(\"define_transaction\", \"verify_transaction\")\n",
    "builder.add_edge(\"verify_transaction\", END)\n",
    "\n",
    "graph = builder.compile(interrupt_before=[\"verify_transaction\"], checkpointer=MemorySaver())"
   ]
  },
  {
   "cell_type": "code",
   "execution_count": 4,
   "metadata": {},
   "outputs": [
    {
     "name": "stdout",
     "output_type": "stream",
     "text": [
      "Defining transaction...\n",
      "{'define_transaction': {'amount': 1000.0}}\n",
      "{'__interrupt__': ()}\n",
      "Verifying transaction amount: 1000.0\n",
      "{'verify_transaction': {'amount': 1000.0}}\n"
     ]
    }
   ],
   "source": [
    "initial_input = {\"amount\": 1000.0}\n",
    "config = {\"configurable\": {\"thread_id\":\"thread-1\"}}\n",
    "\n",
    "for event in graph.stream(initial_input, config):\n",
    "    print(event)\n",
    "    \n",
    "approval = input(\"Approve this transaction? (yes/no):\")\n",
    "if approval.lower() == \"yes\":\n",
    "    for event in graph.stream(None, config):\n",
    "        print(event)\n",
    "        \n",
    "else:\n",
    "    print(\"Transaction canceled.\")"
   ]
  }
 ],
 "metadata": {
  "kernelspec": {
   "display_name": "agent",
   "language": "python",
   "name": "python3"
  },
  "language_info": {
   "codemirror_mode": {
    "name": "ipython",
    "version": 3
   },
   "file_extension": ".py",
   "mimetype": "text/x-python",
   "name": "python",
   "nbconvert_exporter": "python",
   "pygments_lexer": "ipython3",
   "version": "3.10.6"
  }
 },
 "nbformat": 4,
 "nbformat_minor": 2
}
