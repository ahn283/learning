{
 "cells": [
  {
   "cell_type": "code",
   "execution_count": 1,
   "metadata": {},
   "outputs": [],
   "source": [
    "import os\n",
    "from typing import TypedDict\n",
    "from langgraph.graph import StateGraph, START, END\n",
    "from langgraph.checkpoint.memory import MemorySaver\n",
    "from langchain_core.tools import tool\n",
    "\n",
    "from display_graph import display_graph"
   ]
  },
  {
   "cell_type": "code",
   "execution_count": 2,
   "metadata": {},
   "outputs": [],
   "source": [
    "# Define the state structure\n",
    "class State(TypedDict):\n",
    "    input: str\n",
    "    user_feedback: str\n",
    "    \n",
    "# Define a reasoning step for the agent\n",
    "def agent_reasoning(state: State):\n",
    "    print(f\"Agent is reasoning: {state['input']}\")\n",
    "    # Agent decides whether to ask human based on input length\n",
    "    if len(state['input']) > 10:\n",
    "        print(\"Agent needs clarification.\")\n",
    "        return state\n",
    "    else:\n",
    "        state['user_feedback'] = \"No clarification needed\"\n",
    "        return state\n",
    "    \n",
    "# Define a human feedbck step\n",
    "def ask_human(state: State):\n",
    "    print(\"---Asking for human feedback---\")\n",
    "    feedback = input(\"Please provide feedback on the input: \")\n",
    "    state[\"user_feedback\"] = feedback\n",
    "    return state\n",
    "\n",
    "# Define a tool action after human feedback \n",
    "@tool\n",
    "def perform_action(user_feedback: str):\n",
    "    \"\"\" \n",
    "    Perform an action based on the provided user feedback\n",
    "    \"\"\"\n",
    "    print(f\"Auction taken baed on feedback: {user_feedback}\")\n",
    "    return {\"user_feedback\": f\"Feedback processed: {user_feedback}\"}"
   ]
  },
  {
   "cell_type": "code",
   "execution_count": 3,
   "metadata": {},
   "outputs": [
    {
     "name": "stdout",
     "output_type": "stream",
     "text": [
      "d:\\projects\\github\\learning\\llm\\langgraph\\langgraph_blueprint\\ch9/graphs/graph_59773.png\n"
     ]
    }
   ],
   "source": [
    "# Build the graph\n",
    "builder = StateGraph(State)\n",
    "builder.add_node(\"agent_reasoning\", agent_reasoning)\n",
    "builder.add_node(\"ask_human\", ask_human)\n",
    "builder.add_node(\"perform_action\", perform_action)\n",
    "\n",
    "# Define flow with conditions\n",
    "builder.add_edge(START, \"agent_reasoning\")\n",
    "builder.add_conditional_edges(\n",
    "    \"agent_reasoning\",\n",
    "    lambda state: \"ask_human\" if len(state[\"input\"]) > 10 else \"perform_action\",\n",
    "    {\"ask_human\":\"ask_human\", \"perform_action\":\"perform_action\"}\n",
    ")\n",
    "builder.add_edge(\"ask_human\", \"perform_action\")\n",
    "builder.add_edge(\"perform_action\", END)\n",
    "\n",
    "# Set up memory and breakpoints\n",
    "memory = MemorySaver()\n",
    "graph = builder.compile(checkpointer=memory, interrupt_before=[\"ask_human\"])\n",
    "\n",
    "# Displary the graph\n",
    "display_graph(graph)"
   ]
  },
  {
   "cell_type": "code",
   "execution_count": 6,
   "metadata": {},
   "outputs": [
    {
     "name": "stdout",
     "output_type": "stream",
     "text": [
      "{'input': 'Proceed with reasoning?', 'user_feedback': 'Feedback processed: Go for it.'}\n",
      "Agent is reasoning: Proceed with reasoning?\n",
      "Agent needs clarification.\n",
      "{'input': 'Proceed with reasoning?', 'user_feedback': 'Feedback processed: Go for it.'}\n",
      "{'input': 'Proceed with reasoning?', 'user_feedback': 'go for it'}\n",
      "Auction taken baed on feedback: go for it\n",
      "{'input': 'Proceed with reasoning?', 'user_feedback': 'Feedback processed: go for it'}\n"
     ]
    }
   ],
   "source": [
    "# Run the graph\n",
    "initial_input = {\"input\":\"Proceed with reasoning?\"}\n",
    "thread = {\"configurable\":{\"thread_id\":\"1\"}}\n",
    "\n",
    "# Stream the graph until the first interription\n",
    "for event in graph.stream(initial_input, thread, stream_mode=\"values\"):\n",
    "    print(event)\n",
    "    \n",
    "# Get user input and update the state\n",
    "user_feedback = input(\"User feedback: \")\n",
    "graph.update_state(thread, {\"user_feedback\": user_feedback}, as_node=\"ask_human\")\n",
    "\n",
    "# Resume execution after feedback\n",
    "for event in graph.stream(None, thread, stream_mode=\"values\"):\n",
    "    print(event)"
   ]
  }
 ],
 "metadata": {
  "kernelspec": {
   "display_name": "agent",
   "language": "python",
   "name": "python3"
  },
  "language_info": {
   "codemirror_mode": {
    "name": "ipython",
    "version": 3
   },
   "file_extension": ".py",
   "mimetype": "text/x-python",
   "name": "python",
   "nbconvert_exporter": "python",
   "pygments_lexer": "ipython3",
   "version": "3.10.6"
  }
 },
 "nbformat": 4,
 "nbformat_minor": 2
}
