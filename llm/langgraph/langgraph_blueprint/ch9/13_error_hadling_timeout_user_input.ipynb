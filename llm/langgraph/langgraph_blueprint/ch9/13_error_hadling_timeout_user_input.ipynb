{
 "cells": [
  {
   "cell_type": "code",
   "execution_count": 6,
   "metadata": {},
   "outputs": [],
   "source": [
    "from typing import TypedDict\n",
    "from langgraph.graph import StateGraph, START, END\n",
    "from langgraph.checkpoint.memory import MemorySaver\n",
    "import time\n",
    "\n",
    "# Define the state structure\n",
    "class State(TypedDict):\n",
    "    input : str\n",
    "    user_feedback: str\n",
    "    \n",
    "# Define node functions\n",
    "def step_1(state: State):\n",
    "    print(f\"Step 1: {state['input']}\")\n",
    "    return state\n",
    "\n",
    "# def human_feedback(state: State):\n",
    "#     print(\"---Waiting for human feedback---\")\n",
    "#     feedback = input(\"Please provide your feedback: \")\n",
    "#     state[\"user_feedback\"] = feedback\n",
    "#     return state\n",
    "\n",
    "def human_feedback_with_timeout(state: State):\n",
    "    print(\"Waiting for human feedback (timeout in 10 seconds)...\")\n",
    "    start_time = time.time()\n",
    "    while True:\n",
    "        if time.time() - start_time > 10:\n",
    "            state['user_feedback'] = 'Timeout'\n",
    "            print('No feedback received. Proceeding with default action.')\n",
    "            break\n",
    "        feedback = input(\"Please provide feedback: \")\n",
    "        if feedback:\n",
    "            state[\"user_feedback\"] = feedback\n",
    "            break\n",
    "    return state\n",
    "\n",
    "def step_3(state: State):\n",
    "    print(f\"Step 3: User feedback received: {state['user_feedback']}\")\n",
    "    return state"
   ]
  },
  {
   "cell_type": "code",
   "execution_count": 8,
   "metadata": {},
   "outputs": [
    {
     "name": "stdout",
     "output_type": "stream",
     "text": [
      "{'input': 'Proceed with workflow?'}\n",
      "Step 1: Proceed with workflow?\n",
      "{'input': 'Proceed with workflow?'}\n",
      "{'input': 'Proceed with workflow?', 'user_feedback': 'a'}\n",
      "Step 3: User feedback received: a\n",
      "{'input': 'Proceed with workflow?', 'user_feedback': 'a'}\n"
     ]
    }
   ],
   "source": [
    "# Build the graph\n",
    "builder = StateGraph(State)\n",
    "builder.add_node(\"step_1\", step_1)\n",
    "builder.add_node(\"human_feedback\", human_feedback_with_timeout)\n",
    "builder.add_node(\"step_3\", step_3)\n",
    "\n",
    "# Define the flow``\n",
    "builder.add_edge(START, \"step_1\")\n",
    "builder.add_edge(\"step_1\", \"human_feedback\")\n",
    "builder.add_edge(\"human_feedback\", \"step_3\")\n",
    "builder.add_edge(\"step_3\", END)\n",
    "\n",
    "# Set up memory and breakpoints\n",
    "memory = MemorySaver()\n",
    "graph = builder.compile(checkpointer=memory, interrupt_before=[\"human_feedback\"])\n",
    "\n",
    "# Run the graph\n",
    "initial_input = {\"input\":\"Proceed with workflow?\"}\n",
    "thread = {\"configurable\":{\"thread_id\":\"1\"}}\n",
    "\n",
    "# Stream the graph until the first interruption\n",
    "for event in graph.stream(initial_input, thread, stream_mode=\"values\"):\n",
    "    print(event)\n",
    "    \n",
    "# Get the user input and update the state\n",
    "user_feedback = input(\"User feedback\")\n",
    "graph.update_state(thread, {\"user_feedback\": user_feedback}, as_node=\"human_feedback\")\n",
    "\n",
    "# Resume execution\n",
    "for event in graph.stream(None, thread, stream_mode=\"values\"):\n",
    "    print(event)"
   ]
  }
 ],
 "metadata": {
  "kernelspec": {
   "display_name": "agent",
   "language": "python",
   "name": "python3"
  },
  "language_info": {
   "codemirror_mode": {
    "name": "ipython",
    "version": 3
   },
   "file_extension": ".py",
   "mimetype": "text/x-python",
   "name": "python",
   "nbconvert_exporter": "python",
   "pygments_lexer": "ipython3",
   "version": "3.10.6"
  }
 },
 "nbformat": 4,
 "nbformat_minor": 2
}
