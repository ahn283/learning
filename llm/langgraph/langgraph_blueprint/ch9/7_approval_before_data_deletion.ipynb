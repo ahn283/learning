{
 "cells": [
  {
   "cell_type": "code",
   "execution_count": 1,
   "metadata": {},
   "outputs": [],
   "source": [
    "from typing import TypedDict\n",
    "from langgraph.graph import StateGraph, START, END\n",
    "from langgraph.checkpoint.memory import MemorySaver\n",
    "\n",
    "class State(TypedDict):\n",
    "    data: str\n",
    "def delete_data(state: State):\n",
    "    print(f\"Data to be deleted: {state['data']}\")\n",
    "    return state"
   ]
  },
  {
   "cell_type": "code",
   "execution_count": 2,
   "metadata": {},
   "outputs": [],
   "source": [
    "builder = StateGraph(State)\n",
    "builder.add_node(\"delete_data\", delete_data)\n",
    "builder.add_edge(START, \"delete_data\")\n",
    "builder.add_edge(\"delete_data\", END)\n",
    "graph = builder.compile(interrupt_before=[\"delete_data\"], checkpointer=MemorySaver())"
   ]
  },
  {
   "cell_type": "code",
   "execution_count": 3,
   "metadata": {},
   "outputs": [
    {
     "name": "stdout",
     "output_type": "stream",
     "text": [
      "{'__interrupt__': ()}\n",
      "Data to be deleted: Seneitive Information\n",
      "{'delete_data': {'data': 'Seneitive Information'}}\n"
     ]
    }
   ],
   "source": [
    "initial_input = {\"data\": \"Seneitive Information\"}\n",
    "config = {\"configurable\": {\"thread_id\":\"thread-1\"}}\n",
    "\n",
    "for event in graph.stream(initial_input, config):\n",
    "    print(event)\n",
    "    \n",
    "approval = input(\"Approve data deletion? (yes/no): \")\n",
    "if approval.lower() == \"yes\":\n",
    "    for event in graph.stream(None, config):\n",
    "        print(event)\n",
    "else:\n",
    "    print(\"Data deletion canceled.\")"
   ]
  }
 ],
 "metadata": {
  "kernelspec": {
   "display_name": "agent",
   "language": "python",
   "name": "python3"
  },
  "language_info": {
   "codemirror_mode": {
    "name": "ipython",
    "version": 3
   },
   "file_extension": ".py",
   "mimetype": "text/x-python",
   "name": "python",
   "nbconvert_exporter": "python",
   "pygments_lexer": "ipython3",
   "version": "3.10.6"
  }
 },
 "nbformat": 4,
 "nbformat_minor": 2
}
