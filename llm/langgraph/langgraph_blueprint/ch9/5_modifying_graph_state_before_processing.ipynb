{
 "cells": [
  {
   "cell_type": "code",
   "execution_count": 2,
   "metadata": {},
   "outputs": [
    {
     "name": "stdout",
     "output_type": "stream",
     "text": [
      "Original input: Initial Input\n",
      "{'step_1': {'input': 'Initial Input'}}\n",
      "{'__interrupt__': ()}\n",
      "{'modify_state': {'input': 'Initial Input', 'modified_input': 'Modified input'}}\n",
      "Modified input: Modified input\n",
      "{'step_3': None}\n"
     ]
    }
   ],
   "source": [
    "from typing import TypedDict\n",
    "from langgraph.graph import StateGraph, START, END\n",
    "from langgraph.checkpoint.memory import MemorySaver\n",
    "\n",
    "# Define the state structure\n",
    "class State(TypedDict):\n",
    "    input: str\n",
    "    modified_input: str\n",
    "\n",
    "# Define node functions\n",
    "def step_1(state: State):\n",
    "    print(f\"Original input: {state['input']}\")\n",
    "    return state\n",
    "\n",
    "def modify_state(state: State):\n",
    "    # Allow the user to modify the state\n",
    "    return state\n",
    "\n",
    "def step_3(state: State):\n",
    "    print(f\"Modified input: {state['modified_input']}\")\n",
    "\n",
    "# Build the graph\n",
    "builder = StateGraph(State)\n",
    "builder.add_node(\"step_1\", step_1)\n",
    "builder.add_node(\"modify_state\", modify_state)\n",
    "builder.add_node(\"step_3\", step_3)\n",
    "\n",
    "# Define the flow\n",
    "builder.add_edge(START, \"step_1\")\n",
    "builder.add_edge(\"step_1\", \"modify_state\")\n",
    "builder.add_edge(\"modify_state\", \"step_3\")\n",
    "builder.add_edge(\"step_3\", END)\n",
    "\n",
    "# Set up memory and breakpoints\n",
    "memory = MemorySaver()\n",
    "graph = builder.compile(checkpointer=memory, interrupt_before=[\"modify_state\"])\n",
    "\n",
    "# Run the graph\n",
    "initial_input = {\"input\":\"Initial Input\"}\n",
    "config = {\"configurable\": {\"thread_id\":\"thread-1\"}}\n",
    "for event in graph.stream(initial_input, config):\n",
    "    print(event)\n",
    "\n",
    "# Ask user to modify the state\n",
    "modified_value = input(\"Enter the modified input: \")\n",
    "graph.update_state(config, {\"modified_input\":modified_value})\n",
    "\n",
    "# Continue the graph execution\n",
    "for event in graph.stream(None, config):\n",
    "    print(event)"
   ]
  },
  {
   "cell_type": "code",
   "execution_count": null,
   "metadata": {},
   "outputs": [],
   "source": []
  }
 ],
 "metadata": {
  "kernelspec": {
   "display_name": "agent",
   "language": "python",
   "name": "python3"
  },
  "language_info": {
   "codemirror_mode": {
    "name": "ipython",
    "version": 3
   },
   "file_extension": ".py",
   "mimetype": "text/x-python",
   "name": "python",
   "nbconvert_exporter": "python",
   "pygments_lexer": "ipython3",
   "version": "3.10.6"
  }
 },
 "nbformat": 4,
 "nbformat_minor": 2
}
