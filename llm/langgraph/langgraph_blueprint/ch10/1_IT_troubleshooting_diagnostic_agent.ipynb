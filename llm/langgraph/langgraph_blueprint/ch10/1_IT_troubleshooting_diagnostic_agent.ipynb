{
 "cells": [
  {
   "cell_type": "code",
   "execution_count": 2,
   "metadata": {},
   "outputs": [],
   "source": [
    "# Import libraries\n",
    "import operator \n",
    "import os\n",
    "import keyring\n",
    "from langgraph.graph import StateGraph, START, END\n",
    "from langchain_openai import ChatOpenAI\n",
    "from langgraph.prebuilt import create_react_agent\n",
    "from pydantic import BaseModel, Field\n",
    "from typing import Annotated, List, Tuple, TypedDict, Union\n",
    "from langchain_core.prompts import ChatPromptTemplate\n",
    "from langchain_core.tools import tool"
   ]
  },
  {
   "cell_type": "code",
   "execution_count": 3,
   "metadata": {},
   "outputs": [],
   "source": [
    "# Define diagnostic and action tools\n",
    "@tool\n",
    "def check_cpu_usage():\n",
    "    \"\"\"Simulate checking the CPU usage.\"\"\"\n",
    "    return \"CPU Usage is 85%.\"\n",
    "\n",
    "@tool\n",
    "def check_disk_space():\n",
    "    \"\"\"Simulate checking the disk space.\"\"\"\n",
    "    return \"Disk space is 10% free.\"\n",
    "\n",
    "@tool\n",
    "def check_network():\n",
    "    \"\"\"Simulate checking network connectivity.\"\"\"\n",
    "    return \"Network connectivity is stable.\"\n",
    "\n",
    "@tool\n",
    "def restart_server():\n",
    "    \"\"\"Simulate restarting the server.\"\"\"\n",
    "    return \"Server restarted sucessfully.\""
   ]
  },
  {
   "cell_type": "code",
   "execution_count": 4,
   "metadata": {},
   "outputs": [],
   "source": [
    "# Setup Tools\n",
    "tools = [check_cpu_usage, check_disk_space, check_network, restart_server]\n",
    "\n",
    "# Setup the model and agent executor\n",
    "prompt = ChatPromptTemplate.from_messages(\n",
    "    [\n",
    "        (\"system\", \"You are an IT diagnostics agent.\"),\n",
    "        (\"placeholder\", \"{messages}\")\n",
    "    ]\n",
    ")\n",
    "\n",
    "# Initiate model\n",
    "os.environ['OPENAI_API_KEY'] = keyring.get_password('openai', 'key_for_windows')\n",
    "llm = ChatOpenAI(model='gpt-4o-mini')\n",
    "agent_executor = create_react_agent(llm, tools, state_modifier=prompt)"
   ]
  },
  {
   "cell_type": "code",
   "execution_count": 5,
   "metadata": {},
   "outputs": [],
   "source": [
    "# Define the Plan and Execution structure\n",
    "class PlanExecute(TypedDict):\n",
    "    input: str\n",
    "    plan: List[str]\n",
    "    past_steps: Annotated[List[Tuple], operator.add]\n",
    "    response: str\n",
    "    \n",
    "class Plan(BaseModel):\n",
    "    steps: List[str] = Field(description=\"Tasks to check and resolve server issues\")\n",
    "\n",
    "class Respone(BaseModel):\n",
    "    response: str\n",
    "    \n",
    "class Act(BaseModel):\n",
    "    action: Union[Respone, Plan] = Field(description=\"Action to perform. If you want to respond to user, user Response.\"\n",
    "                                         \"If you need further use tools to get the answer, use Plan.\")"
   ]
  },
  {
   "cell_type": "code",
   "execution_count": 6,
   "metadata": {},
   "outputs": [],
   "source": [
    "# Planning step\n",
    "planner_prompt = ChatPromptTemplate.from_messages(\n",
    "    [\n",
    "        (\"system\", \"\"\"For the given server issue, create a step-by-step diagnostic plan including CPU, disk, and network checks, followed by a server restart if necessary.\"\"\"),\n",
    "        (\"placeholder\", \"{messages}\")\n",
    "    ]\n",
    ")\n",
    "planner = planner_prompt | ChatOpenAI(model='gpt-4o-mini', temperature=0).with_structured_output(Plan)"
   ]
  },
  {
   "cell_type": "code",
   "execution_count": 7,
   "metadata": {},
   "outputs": [],
   "source": [
    "# Replanning step\n",
    "replanner_prompt = ChatPromptTemplate.from_template(\n",
    "    \"\"\"For the given task, update the plan based on the current results:\n",
    "    \n",
    "    Your original task was:\n",
    "    {input}\n",
    "    \n",
    "    You have completed the following steps:\n",
    "    {past_steps}\n",
    "    \n",
    "    Update the plan accordingly. Only include the remaining tasks. If the server needs to be restarted, include that in the plan.\n",
    "    \"\"\"\n",
    ")\n",
    "\n",
    "replanner = replanner_prompt | ChatOpenAI(model=\"gpt-4o-mini\", temperature=0).with_structured_output(Act)"
   ]
  },
  {
   "cell_type": "code",
   "execution_count": 9,
   "metadata": {},
   "outputs": [],
   "source": [
    "# Execute step function\n",
    "async def execute_step(state: PlanExecute):\n",
    "    plan = state['plan']\n",
    "    task = plan[0]\n",
    "    task_formatted = f\"Executing step: {task}.\"\n",
    "    agent_response = await agent_executor.ainvoke({\"messages\": [(\"user\", task_formatted)]})\n",
    "    return {\n",
    "        \"past_steps\": [(task, agent_response[\"messages\"][-1].content)],\n",
    "    }\n",
    "    \n",
    "# Planning step function\n",
    "async def plan_step(state: PlanExecute):\n",
    "    plan = await planner.ainvoke({\"messages\": [(\"user\", state['input'])]})\n",
    "    return {\"plan\": plan.steps}\n",
    "\n",
    "# Re-planning step function (in case execution needs adjustment)\n",
    "async def replan_step(state: PlanExecute):\n",
    "    output = await replanner.ainvoke(state)\n",
    "    \n",
    "    # If the replanner decides to return a response, we use it as the final answer\n",
    "    if isinstance(output.action, Respone):              # Final response provided\n",
    "        return {\"response\": output.action.response}     # Return the response to the user\n",
    "    else:\n",
    "        # Otherwise, we continue with the new plan (if planning suggests more steps)\n",
    "        return {\"plan\": output.action.steps}\n",
    "\n",
    "# Conditional check for ending\n",
    "def should_end(state: PlanExecute):\n",
    "    if \"response\" in state and state[\"response\"]:\n",
    "        return END\n",
    "    else:\n",
    "        return \"agent\""
   ]
  },
  {
   "cell_type": "code",
   "execution_count": 11,
   "metadata": {},
   "outputs": [],
   "source": [
    "# Build the workflow\n",
    "workflow = StateGraph(PlanExecute)\n",
    "workflow.add_node(\"planner\", plan_step)\n",
    "workflow.add_node(\"agent\", execute_step)\n",
    "workflow.add_node(\"replan\", replan_step)\n",
    "\n",
    "# Add edges to transition between nodes\n",
    "workflow.add_edge(START, \"planner\")\n",
    "workflow.add_edge(\"planner\", \"agent\")\n",
    "workflow.add_edge(\"agent\", \"replan\")\n",
    "workflow.add_conditional_edges(\n",
    "    \"replan\",\n",
    "    should_end,\n",
    "    [\"agent\", END]\n",
    ")\n",
    "\n",
    "# Compile the workflow into an executable application\n",
    "app = workflow.compile()\n",
    "\n",
    "# Example of running the agent\n",
    "config = {\"recursion_limit\": 50}"
   ]
  },
  {
   "cell_type": "code",
   "execution_count": 12,
   "metadata": {},
   "outputs": [
    {
     "ename": "RuntimeError",
     "evalue": "asyncio.run() cannot be called from a running event loop",
     "output_type": "error",
     "traceback": [
      "\u001b[1;31m---------------------------------------------------------------------------\u001b[0m",
      "\u001b[1;31mRuntimeError\u001b[0m                              Traceback (most recent call last)",
      "Cell \u001b[1;32mIn[12], line 13\u001b[0m\n\u001b[0;32m     10\u001b[0m         \u001b[38;5;28mprint\u001b[39m(event)\n\u001b[0;32m     12\u001b[0m \u001b[38;5;66;03m# Run the async function\u001b[39;00m\n\u001b[1;32m---> 13\u001b[0m \u001b[43masyncio\u001b[49m\u001b[38;5;241;43m.\u001b[39;49m\u001b[43mrun\u001b[49m\u001b[43m(\u001b[49m\u001b[43mrun_plan_and_execute\u001b[49m\u001b[43m(\u001b[49m\u001b[43m)\u001b[49m\u001b[43m)\u001b[49m\n",
      "File \u001b[1;32m~\\AppData\\Local\\Programs\\Python\\Python310\\lib\\asyncio\\runners.py:33\u001b[0m, in \u001b[0;36mrun\u001b[1;34m(main, debug)\u001b[0m\n\u001b[0;32m      9\u001b[0m \u001b[38;5;250m\u001b[39m\u001b[38;5;124;03m\"\"\"Execute the coroutine and return the result.\u001b[39;00m\n\u001b[0;32m     10\u001b[0m \n\u001b[0;32m     11\u001b[0m \u001b[38;5;124;03mThis function runs the passed coroutine, taking care of\u001b[39;00m\n\u001b[1;32m   (...)\u001b[0m\n\u001b[0;32m     30\u001b[0m \u001b[38;5;124;03m    asyncio.run(main())\u001b[39;00m\n\u001b[0;32m     31\u001b[0m \u001b[38;5;124;03m\"\"\"\u001b[39;00m\n\u001b[0;32m     32\u001b[0m \u001b[38;5;28;01mif\u001b[39;00m events\u001b[38;5;241m.\u001b[39m_get_running_loop() \u001b[38;5;129;01mis\u001b[39;00m \u001b[38;5;129;01mnot\u001b[39;00m \u001b[38;5;28;01mNone\u001b[39;00m:\n\u001b[1;32m---> 33\u001b[0m     \u001b[38;5;28;01mraise\u001b[39;00m \u001b[38;5;167;01mRuntimeError\u001b[39;00m(\n\u001b[0;32m     34\u001b[0m         \u001b[38;5;124m\"\u001b[39m\u001b[38;5;124masyncio.run() cannot be called from a running event loop\u001b[39m\u001b[38;5;124m\"\u001b[39m)\n\u001b[0;32m     36\u001b[0m \u001b[38;5;28;01mif\u001b[39;00m \u001b[38;5;129;01mnot\u001b[39;00m coroutines\u001b[38;5;241m.\u001b[39miscoroutine(main):\n\u001b[0;32m     37\u001b[0m     \u001b[38;5;28;01mraise\u001b[39;00m \u001b[38;5;167;01mValueError\u001b[39;00m(\u001b[38;5;124m\"\u001b[39m\u001b[38;5;124ma coroutine was expected, got \u001b[39m\u001b[38;5;132;01m{!r}\u001b[39;00m\u001b[38;5;124m\"\u001b[39m\u001b[38;5;241m.\u001b[39mformat(main))\n",
      "\u001b[1;31mRuntimeError\u001b[0m: asyncio.run() cannot be called from a running event loop"
     ]
    }
   ],
   "source": [
    "import asyncio\n",
    "\n",
    "# Function to run the Plan-and-Execute agent\n",
    "async def run_plan_and_execute():\n",
    "    # Input from the user\n",
    "    inputs = {\"input\": \"Diagnose the server issue and restart if necessary.\"}\n",
    "    \n",
    "    # Run the Plan-and-Execute agent asynchronously\n",
    "    async for event in app.astream(inputs, config=config):\n",
    "        print(event)\n",
    "\n",
    "# Run the async function\n",
    "# In the Jupyter Notebook, \"asyncio.run() cannot be called from a running event loop\" error occurred\n",
    "asyncio.run(run_plan_and_execute())"
   ]
  },
  {
   "cell_type": "code",
   "execution_count": null,
   "metadata": {},
   "outputs": [],
   "source": []
  }
 ],
 "metadata": {
  "kernelspec": {
   "display_name": "agent",
   "language": "python",
   "name": "python3"
  },
  "language_info": {
   "codemirror_mode": {
    "name": "ipython",
    "version": 3
   },
   "file_extension": ".py",
   "mimetype": "text/x-python",
   "name": "python",
   "nbconvert_exporter": "python",
   "pygments_lexer": "ipython3",
   "version": "3.10.6"
  }
 },
 "nbformat": 4,
 "nbformat_minor": 2
}
