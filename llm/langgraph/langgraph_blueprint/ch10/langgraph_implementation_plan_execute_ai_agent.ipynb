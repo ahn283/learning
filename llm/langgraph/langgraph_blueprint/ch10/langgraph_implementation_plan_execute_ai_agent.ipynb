{
 "cells": [
  {
   "cell_type": "code",
   "execution_count": 1,
   "metadata": {},
   "outputs": [],
   "source": [
    "# Import necessary components\n",
    "import operator\n",
    "import os\n",
    "from langgraph.graph import StateGraph, START, END\n",
    "from langchain_community.tools.tavily_search import TavilySearchResults\n",
    "from langchain import hub\n",
    "from langchain_openai import ChatOpenAI\n",
    "from langgraph.prebuilt import create_react_agent\n",
    "from pydantic import BaseModel, Field\n",
    "from typing import Annotated, List, Tuple, Union, TypedDict\n",
    "from langchain_core.prompts import ChatPromptTemplate\n",
    "import keyring\n",
    "\n",
    "from display_graph import display_graph"
   ]
  },
  {
   "cell_type": "code",
   "execution_count": 2,
   "metadata": {},
   "outputs": [
    {
     "name": "stdout",
     "output_type": "stream",
     "text": [
      "================================\u001b[1m System Message \u001b[0m================================\n",
      "\n",
      "You are a helpful assistant.\n",
      "\n",
      "=============================\u001b[1m Messages Placeholder \u001b[0m=============================\n",
      "\n",
      "\u001b[33;1m\u001b[1;3m{messages}\u001b[0m\n"
     ]
    }
   ],
   "source": [
    "# Define diagnostic and action tools\n",
    "os.environ['TAVILY_API_KEY'] = keyring.get_password('tavily', 'key_for_windows')\n",
    "tools = [TavilySearchResults(max_results=3)]    # Search tool used for subtask execution\n",
    "\n",
    "# Set up the model and agent executor\n",
    "prompt = ChatPromptTemplate.from_messages(\n",
    "    [\n",
    "        (\"system\", \"\"\"You are a helpful assistant.\"\"\"),\n",
    "        (\"placeholder\", \"{messages}\")\n",
    "    ]\n",
    ")\n",
    "prompt.pretty_print()\n",
    "\n",
    "# Initiate the model\n",
    "os.environ['OPENAI_API_KEY'] = keyring.get_password('openai', 'key_for_windows')\n",
    "llm = ChatOpenAI(model='gpt-4o-mini')\n",
    "\n",
    "agent_executor = create_react_agent(llm, tools, state_modifier=prompt)"
   ]
  },
  {
   "cell_type": "code",
   "execution_count": 3,
   "metadata": {},
   "outputs": [],
   "source": [
    "# Define the plan and Execution structure\n",
    "class PlanExecute(TypedDict):\n",
    "    input: str\n",
    "    plan: List[str]\n",
    "    past_steps: Annotated[List[Tuple], operator.add]\n",
    "    response: str\n",
    "    \n",
    "class Plan(BaseModel):\n",
    "    steps: List[str] = Field(description=\"Numbered unique steps to follow, in order\")\n",
    "\n",
    "class Response(BaseModel):\n",
    "    response: str = Field(description=\"Response to user.\")\n",
    "    \n",
    "class Act(BaseModel):\n",
    "    action: Union[Response, Plan] = Field(description=\"Action to perform. If you want to respond to user, use Response.\"\n",
    "                                          \"If you need to further use tools to get the answer, use Plan.\")\n",
    "    "
   ]
  },
  {
   "cell_type": "code",
   "execution_count": 4,
   "metadata": {},
   "outputs": [],
   "source": [
    "# Planning step\n",
    "planner_prompt = ChatPromptTemplate.from_messages(\n",
    "    [\n",
    "        (\n",
    "            \"system\",\n",
    "            \"\"\"For the given objective, come up with a simple step-by-step plan.\n",
    "            This plan should involve individual numbered tasks, that if executed correctly will yield the correct answer.\n",
    "            Do not add any superfluous steps.\n",
    "            The result of the final steps should be the final answer. Make sure that each step has all the information needed - do not skip steps.\"\"\"\n",
    "        ),\n",
    "        (\"placeholder\", \"{messages}\")\n",
    "    ]\n",
    ")\n",
    "\n",
    "planner = planner_prompt | ChatOpenAI(model='gpt-4o-mini', temperature=0)"
   ]
  },
  {
   "cell_type": "code",
   "execution_count": 5,
   "metadata": {},
   "outputs": [],
   "source": [
    "# Re-planning step\n",
    "replanner_prompt = ChatPromptTemplate.from_template(\n",
    "    \"\"\"For the given objective, come up with a simple step by step numbered plan.\n",
    "    This plan should invoke individual tasks, that if executed correctly will yield the correct answer.\n",
    "    Do not add any superfluous steps.\n",
    "    Teh result of the final step should be the final answer. Make sure that each step has all the information needed - do not skip steps.\n",
    "    \n",
    "    Your obejective was this:\n",
    "    {input}\n",
    "    \n",
    "    Your original plan was this:\n",
    "    {plan}\n",
    "    \n",
    "    You have currently done the following steps:\n",
    "    {past_steps}\n",
    "    \n",
    "    Update your plan accordingly. If no more steps are needed and you can return to the user, then respond with that.\n",
    "    Otherwie, fill out the plan. Only add steps to the plan that still NEED to be done. Do not return previously done steps as part of the plan.\"\"\"\n",
    ")\n",
    "\n",
    "replanner = replanner_prompt | ChatOpenAI(model='gpt-4o', temperature=0).with_structured_output(Act)"
   ]
  },
  {
   "cell_type": "code",
   "execution_count": 6,
   "metadata": {},
   "outputs": [],
   "source": [
    "# Excecution step function\n",
    "async def execute_step(state: PlanExecute):\n",
    "    plan = state[\"plan\"]\n",
    "    plan_str = \"\\n\".join(f\"{i+1}, {step}\" for i, step in enumerate(plan))\n",
    "    task = plan[0]\n",
    "    task_formatted = f\"For the following plan: \\n{plan_str}\\n\\nYou are tasked with executing step 1, {task}.\"\n",
    "    agent_response = await agent_executor.ainvoke({\"messages\": [(\"user\", task_formatted)]})\n",
    "    return {\n",
    "        \"past_steps\": [(task, agent_response[\"messages\"][-1].content)],\n",
    "    }"
   ]
  },
  {
   "cell_type": "code",
   "execution_count": 7,
   "metadata": {},
   "outputs": [],
   "source": [
    "# Planning step function\n",
    "async def plan_step(state: PlanExecute):\n",
    "    plan = await planner.invoke({\"messages\": [(\"user\", state[\"input\"])]})\n",
    "    return {\"plan\":plan.steps}\n",
    "\n",
    "# Re-planning step function\n",
    "async def replan_step(state: PlanExecute):\n",
    "    output = await replanner.ainvoke(state)\n",
    "    # If the re-planner decides to return a response, we use it as the final answer\n",
    "    if isinstance(output.action, Response):     # Final response provided\n",
    "        return {\"response\": output.action.response} # Return the response to the user\n",
    "    else:\n",
    "        # Otherwise, we continue with the new plan (if re-planning suggests more steps)\n",
    "        return {\"plan\": output.action.steps}\n",
    "    \n",
    "# Conditional check for ending\n",
    "def should_end(state: PlanExecute):\n",
    "    if \"response\" in state and state[\"response\"]:\n",
    "        return END\n",
    "    else:\n",
    "        return \"agent\""
   ]
  },
  {
   "cell_type": "code",
   "execution_count": 8,
   "metadata": {},
   "outputs": [
    {
     "name": "stdout",
     "output_type": "stream",
     "text": [
      "d:\\projects\\github\\learning\\llm\\langgraph\\langgraph_blueprint\\ch10/graphs/graph_31935.png\n"
     ]
    }
   ],
   "source": [
    "# Build the worflow\n",
    "workflow = StateGraph(PlanExecute)\n",
    "\n",
    "# Add nodes to the workflow\n",
    "workflow.add_node(\"planner\", plan_step)\n",
    "workflow.add_node(\"agent\", execute_step)\n",
    "workflow.add_node(\"replan\", replan_step)\n",
    "\n",
    "# Add edges to transition between nodes\n",
    "workflow.add_edge(START, \"planner\")\n",
    "workflow.add_edge(\"planner\", \"agent\")\n",
    "workflow.add_edge(\"agent\", \"replan\")\n",
    "workflow.add_conditional_edges(\n",
    "    \"replan\",\n",
    "    should_end,\n",
    "    [\"agent\", END]\n",
    ")\n",
    "\n",
    "# Compile the workflow into an executable application\n",
    "app = workflow.compile()\n",
    "\n",
    "# Visualize of the workflow\n",
    "display_graph(app)"
   ]
  },
  {
   "cell_type": "code",
   "execution_count": 9,
   "metadata": {},
   "outputs": [],
   "source": [
    "import asyncio\n",
    "from langchain_core.messages import AIMessage\n",
    "\n",
    "# Function to run the Plan-and-Execute agent\n",
    "async def run_plan_and_execute():\n",
    "    # Input from the user\n",
    "    inputs = {\"input\": \"Grace weighs 125 pounds. Alex weigh 2 pounds less than 4 times what Grace weighs. What are their combined wieghts in pounds?\"}\n",
    "    \n",
    "    # Configuration for recursion limit\n",
    "    config = {\"recursion_limit\": 50}\n",
    "    \n",
    "    # Run the Plan-and-Execute agent asynchronously\n",
    "    async for event in app.astream(inputs, config=config):\n",
    "        print(event)\n",
    "        for k, v in event.items():\n",
    "            if k != \"__end__\":\n",
    "                print(v)\n",
    "\n",
    "# # Check if an event loop is already running\n",
    "# try:\n",
    "#     loop = asyncio.get_running_loop()\n",
    "# except RuntimeError:\n",
    "#     loop = None\n",
    "\n",
    "# # Run the async function\n",
    "# if loop and loop.is_running():\n",
    "#     # Use 'create_task' if inside an active loop\n",
    "#     task = asyncio.create_task(run_plan_and_execute())\n",
    "#     await task\n",
    "# else:\n",
    "#     # Otherwise, start a new loop\n",
    "#     asyncio.run(run_plan_and_execute())"
   ]
  },
  {
   "cell_type": "code",
   "execution_count": 10,
   "metadata": {},
   "outputs": [
    {
     "ename": "RuntimeError",
     "evalue": "asyncio.run() cannot be called from a running event loop",
     "output_type": "error",
     "traceback": [
      "\u001b[1;31m---------------------------------------------------------------------------\u001b[0m",
      "\u001b[1;31mRuntimeError\u001b[0m                              Traceback (most recent call last)",
      "Cell \u001b[1;32mIn[10], line 1\u001b[0m\n\u001b[1;32m----> 1\u001b[0m \u001b[43masyncio\u001b[49m\u001b[38;5;241;43m.\u001b[39;49m\u001b[43mrun\u001b[49m\u001b[43m(\u001b[49m\u001b[43mrun_plan_and_execute\u001b[49m\u001b[43m(\u001b[49m\u001b[43m)\u001b[49m\u001b[43m)\u001b[49m\n",
      "File \u001b[1;32m~\\AppData\\Local\\Programs\\Python\\Python310\\lib\\asyncio\\runners.py:33\u001b[0m, in \u001b[0;36mrun\u001b[1;34m(main, debug)\u001b[0m\n\u001b[0;32m      9\u001b[0m \u001b[38;5;250m\u001b[39m\u001b[38;5;124;03m\"\"\"Execute the coroutine and return the result.\u001b[39;00m\n\u001b[0;32m     10\u001b[0m \n\u001b[0;32m     11\u001b[0m \u001b[38;5;124;03mThis function runs the passed coroutine, taking care of\u001b[39;00m\n\u001b[1;32m   (...)\u001b[0m\n\u001b[0;32m     30\u001b[0m \u001b[38;5;124;03m    asyncio.run(main())\u001b[39;00m\n\u001b[0;32m     31\u001b[0m \u001b[38;5;124;03m\"\"\"\u001b[39;00m\n\u001b[0;32m     32\u001b[0m \u001b[38;5;28;01mif\u001b[39;00m events\u001b[38;5;241m.\u001b[39m_get_running_loop() \u001b[38;5;129;01mis\u001b[39;00m \u001b[38;5;129;01mnot\u001b[39;00m \u001b[38;5;28;01mNone\u001b[39;00m:\n\u001b[1;32m---> 33\u001b[0m     \u001b[38;5;28;01mraise\u001b[39;00m \u001b[38;5;167;01mRuntimeError\u001b[39;00m(\n\u001b[0;32m     34\u001b[0m         \u001b[38;5;124m\"\u001b[39m\u001b[38;5;124masyncio.run() cannot be called from a running event loop\u001b[39m\u001b[38;5;124m\"\u001b[39m)\n\u001b[0;32m     36\u001b[0m \u001b[38;5;28;01mif\u001b[39;00m \u001b[38;5;129;01mnot\u001b[39;00m coroutines\u001b[38;5;241m.\u001b[39miscoroutine(main):\n\u001b[0;32m     37\u001b[0m     \u001b[38;5;28;01mraise\u001b[39;00m \u001b[38;5;167;01mValueError\u001b[39;00m(\u001b[38;5;124m\"\u001b[39m\u001b[38;5;124ma coroutine was expected, got \u001b[39m\u001b[38;5;132;01m{!r}\u001b[39;00m\u001b[38;5;124m\"\u001b[39m\u001b[38;5;241m.\u001b[39mformat(main))\n",
      "\u001b[1;31mRuntimeError\u001b[0m: asyncio.run() cannot be called from a running event loop"
     ]
    }
   ],
   "source": [
    "# In the Jupyter Notebook, \"asyncio.run() cannot be called from a running event loop\" error occurred\n",
    "asyncio.run(run_plan_and_execute())"
   ]
  }
 ],
 "metadata": {
  "kernelspec": {
   "display_name": "agent",
   "language": "python",
   "name": "python3"
  },
  "language_info": {
   "codemirror_mode": {
    "name": "ipython",
    "version": 3
   },
   "file_extension": ".py",
   "mimetype": "text/x-python",
   "name": "python",
   "nbconvert_exporter": "python",
   "pygments_lexer": "ipython3",
   "version": "3.10.6"
  }
 },
 "nbformat": 4,
 "nbformat_minor": 2
}
