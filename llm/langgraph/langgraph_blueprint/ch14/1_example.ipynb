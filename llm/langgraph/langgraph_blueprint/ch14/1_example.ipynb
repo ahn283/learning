{
 "cells": [
  {
   "cell_type": "code",
   "execution_count": null,
   "metadata": {},
   "outputs": [],
   "source": [
    "from langchain_core.tools import tool\n",
    "\n",
    "@tool\n",
    "def verify_transaction(transaction_ids: list) -> list:\n",
    "    \"\"\"Verify each transaction ID for accuracy.\"\"\"\n",
    "    # Simulating verification process\n",
    "    verified_transactions = [tx_id for tx_id in transaction_ids if tx_id.is_valid()]\n",
    "    return verified_transactions"
   ]
  },
  {
   "cell_type": "code",
   "execution_count": 1,
   "metadata": {},
   "outputs": [
    {
     "ename": "ValueError",
     "evalue": "Must provide state_schema or input and output",
     "output_type": "error",
     "traceback": [
      "\u001b[0;31m---------------------------------------------------------------------------\u001b[0m",
      "\u001b[0;31mValueError\u001b[0m                                Traceback (most recent call last)",
      "Cell \u001b[0;32mIn[1], line 4\u001b[0m\n\u001b[1;32m      1\u001b[0m \u001b[38;5;28;01mfrom\u001b[39;00m\u001b[38;5;250m \u001b[39m\u001b[38;5;21;01mlanggraph\u001b[39;00m\u001b[38;5;21;01m.\u001b[39;00m\u001b[38;5;21;01mgraph\u001b[39;00m\u001b[38;5;250m \u001b[39m\u001b[38;5;28;01mimport\u001b[39;00m StateGraph\n\u001b[1;32m      3\u001b[0m \u001b[38;5;66;03m# Define the research team graph\u001b[39;00m\n\u001b[0;32m----> 4\u001b[0m research_team_graph \u001b[38;5;241m=\u001b[39m \u001b[43mStateGraph\u001b[49m\u001b[43m(\u001b[49m\u001b[43m)\u001b[49m\n\u001b[1;32m      5\u001b[0m research_team_graph\u001b[38;5;241m.\u001b[39madd_node(\u001b[38;5;124m\"\u001b[39m\u001b[38;5;124mDataCollector\u001b[39m\u001b[38;5;124m\"\u001b[39m, data_collector_node)\n\u001b[1;32m      6\u001b[0m research_team_graph\u001b[38;5;241m.\u001b[39madd_node(\u001b[38;5;124m\"\u001b[39m\u001b[38;5;124mTransactionVerifier\u001b[39m\u001b[38;5;124m\"\u001b[39m, transaction_verifier_node)\n",
      "File \u001b[0;32m~/anaconda3/envs/agent/lib/python3.10/site-packages/langgraph/graph/state.py:164\u001b[0m, in \u001b[0;36mStateGraph.__init__\u001b[0;34m(self, state_schema, config_schema, input, output)\u001b[0m\n\u001b[1;32m    162\u001b[0m \u001b[38;5;28;01mif\u001b[39;00m state_schema \u001b[38;5;129;01mis\u001b[39;00m \u001b[38;5;28;01mNone\u001b[39;00m:\n\u001b[1;32m    163\u001b[0m     \u001b[38;5;28;01mif\u001b[39;00m \u001b[38;5;28minput\u001b[39m \u001b[38;5;129;01mis\u001b[39;00m \u001b[38;5;28;01mNone\u001b[39;00m \u001b[38;5;129;01mor\u001b[39;00m output \u001b[38;5;129;01mis\u001b[39;00m \u001b[38;5;28;01mNone\u001b[39;00m:\n\u001b[0;32m--> 164\u001b[0m         \u001b[38;5;28;01mraise\u001b[39;00m \u001b[38;5;167;01mValueError\u001b[39;00m(\u001b[38;5;124m\"\u001b[39m\u001b[38;5;124mMust provide state_schema or input and output\u001b[39m\u001b[38;5;124m\"\u001b[39m)\n\u001b[1;32m    165\u001b[0m     state_schema \u001b[38;5;241m=\u001b[39m \u001b[38;5;28minput\u001b[39m\n\u001b[1;32m    166\u001b[0m     warnings\u001b[38;5;241m.\u001b[39mwarn(\n\u001b[1;32m    167\u001b[0m         \u001b[38;5;124m\"\u001b[39m\u001b[38;5;124mInitializing StateGraph without state_schema is deprecated. \u001b[39m\u001b[38;5;124m\"\u001b[39m\n\u001b[1;32m    168\u001b[0m         \u001b[38;5;124m\"\u001b[39m\u001b[38;5;124mPlease pass in an explicit state_schema instead of just an input and output schema.\u001b[39m\u001b[38;5;124m\"\u001b[39m,\n\u001b[1;32m    169\u001b[0m         LangGraphDeprecationWarning,\n\u001b[1;32m    170\u001b[0m         stacklevel\u001b[38;5;241m=\u001b[39m\u001b[38;5;241m2\u001b[39m,\n\u001b[1;32m    171\u001b[0m     )\n",
      "\u001b[0;31mValueError\u001b[0m: Must provide state_schema or input and output"
     ]
    }
   ],
   "source": [
    "from langgraph.graph import StateGraph\n",
    "\n",
    "# Define the research team graph\n",
    "research_team_graph = StateGraph()\n",
    "research_team_graph.add_node(\"DataCollector\", data_collector_node)\n",
    "research_team_graph.add_node(\"TransactionVerifier\", transaction_verifier_node)\n",
    "\n",
    "# Define edges to route tasks between agents and back to the team supervisor\n",
    "research_team_graph.add_edge(\"DataCollector\", \"TransactionVerifier\")\n",
    "research_team_graph.add_edge(\"TransactionVerifier\", \"ResearchTeamSupervisor\")"
   ]
  },
  {
   "cell_type": "code",
   "execution_count": null,
   "metadata": {},
   "outputs": [],
   "source": [
    "@tool\n",
    "def perform_financial_analysis(data: dict) -> dict:\n",
    "    \"\"\"Calculate financial metrics from the provided data.\"\"\"\n",
    "    results = {\n",
    "        \"debt_to_equity_ratio\": data[\"total_debt\"] / data[\"total_equity\"],\n",
    "        \"current_ratio\": data[\"current_assets\"] / data[\"current_liabilities\"],\n",
    "    }\n",
    "    return results"
   ]
  },
  {
   "cell_type": "code",
   "execution_count": null,
   "metadata": {},
   "outputs": [],
   "source": [
    "from pathlib import  Path\n",
    "\n",
    "@tool\n",
    "def write_report(content: str, file_name: str) -> str:\n",
    "    \"\"\"Write the audit report to a text file.\"\"\"\n",
    "    report_path = Path(f\"/reports/{file_name}\")\n",
    "    report_path.write_text(content)\n",
    "    return f\"Report saved at {report_path}\""
   ]
  },
  {
   "cell_type": "code",
   "execution_count": null,
   "metadata": {},
   "outputs": [],
   "source": [
    "from langchain_experimental.utilities import PythonREPL\n",
    "import matplotlib.pyplot as plt\n",
    "\n",
    "repl = PythonREPL()\n",
    "\n",
    "@tool\n",
    "def generate_chart(data:dict, chart_type: str) -> str:\n",
    "    \"\"\"Generate a chart for financial data.\"\"\"\n",
    "    code = f\"\"\" \n",
    "import matplotlib.pyplot as plt\n",
    "data = {data}\n",
    "plt.figure(figsize=(10, 6))\n",
    "if \"{chart_type}\" == \"bar\":\n",
    "    plt.bar(data.keys(), data.values())\n",
    "if \"{chart_type}\" == \"line\":\n",
    "    plt.plot(data.keys(), data.values())\n",
    "plt.title(\"Financial Metrics\")\n",
    "plt.savefig('/charts/financial_chart.png')\n",
    "\"\"\"\n",
    "    repl.run(code)\n",
    "    return \"Chart generated and saved at /charts/financial_chart.png\""
   ]
  },
  {
   "cell_type": "code",
   "execution_count": 4,
   "metadata": {},
   "outputs": [
    {
     "ename": "ValueError",
     "evalue": "Must provide state_schema or input and output",
     "output_type": "error",
     "traceback": [
      "\u001b[0;31m---------------------------------------------------------------------------\u001b[0m",
      "\u001b[0;31mValueError\u001b[0m                                Traceback (most recent call last)",
      "Cell \u001b[0;32mIn[4], line 2\u001b[0m\n\u001b[1;32m      1\u001b[0m \u001b[38;5;66;03m# Define the Document Authoring Team Graph\u001b[39;00m\n\u001b[0;32m----> 2\u001b[0m document_authoring_graph \u001b[38;5;241m=\u001b[39m \u001b[43mStateGraph\u001b[49m\u001b[43m(\u001b[49m\u001b[43m)\u001b[49m\n\u001b[1;32m      3\u001b[0m document_authoring_graph\u001b[38;5;241m.\u001b[39madd_node(\u001b[38;5;124m\"\u001b[39m\u001b[38;5;124mFinancialAnalyst\u001b[39m\u001b[38;5;124m\"\u001b[39m, financial_analyst_node)\n\u001b[1;32m      4\u001b[0m document_authoring_graph\u001b[38;5;241m.\u001b[39madd_node(\u001b[38;5;124m\"\u001b[39m\u001b[38;5;124mReportWriter\u001b[39m\u001b[38;5;124m\"\u001b[39m, report_writer_node)\n",
      "File \u001b[0;32m~/anaconda3/envs/agent/lib/python3.10/site-packages/langgraph/graph/state.py:164\u001b[0m, in \u001b[0;36mStateGraph.__init__\u001b[0;34m(self, state_schema, config_schema, input, output)\u001b[0m\n\u001b[1;32m    162\u001b[0m \u001b[38;5;28;01mif\u001b[39;00m state_schema \u001b[38;5;129;01mis\u001b[39;00m \u001b[38;5;28;01mNone\u001b[39;00m:\n\u001b[1;32m    163\u001b[0m     \u001b[38;5;28;01mif\u001b[39;00m \u001b[38;5;28minput\u001b[39m \u001b[38;5;129;01mis\u001b[39;00m \u001b[38;5;28;01mNone\u001b[39;00m \u001b[38;5;129;01mor\u001b[39;00m output \u001b[38;5;129;01mis\u001b[39;00m \u001b[38;5;28;01mNone\u001b[39;00m:\n\u001b[0;32m--> 164\u001b[0m         \u001b[38;5;28;01mraise\u001b[39;00m \u001b[38;5;167;01mValueError\u001b[39;00m(\u001b[38;5;124m\"\u001b[39m\u001b[38;5;124mMust provide state_schema or input and output\u001b[39m\u001b[38;5;124m\"\u001b[39m)\n\u001b[1;32m    165\u001b[0m     state_schema \u001b[38;5;241m=\u001b[39m \u001b[38;5;28minput\u001b[39m\n\u001b[1;32m    166\u001b[0m     warnings\u001b[38;5;241m.\u001b[39mwarn(\n\u001b[1;32m    167\u001b[0m         \u001b[38;5;124m\"\u001b[39m\u001b[38;5;124mInitializing StateGraph without state_schema is deprecated. \u001b[39m\u001b[38;5;124m\"\u001b[39m\n\u001b[1;32m    168\u001b[0m         \u001b[38;5;124m\"\u001b[39m\u001b[38;5;124mPlease pass in an explicit state_schema instead of just an input and output schema.\u001b[39m\u001b[38;5;124m\"\u001b[39m,\n\u001b[1;32m    169\u001b[0m         LangGraphDeprecationWarning,\n\u001b[1;32m    170\u001b[0m         stacklevel\u001b[38;5;241m=\u001b[39m\u001b[38;5;241m2\u001b[39m,\n\u001b[1;32m    171\u001b[0m     )\n",
      "\u001b[0;31mValueError\u001b[0m: Must provide state_schema or input and output"
     ]
    }
   ],
   "source": [
    "# Define the Document Authoring Team Graph\n",
    "document_authoring_graph = StateGraph()\n",
    "document_authoring_graph.add_node(\"FinancialAnalyst\", financial_analyst_node)\n",
    "document_authoring_graph.add_node(\"ReportWriter\", report_writer_node)\n",
    "document_authoring_graph.add_node(\"ChartGenerator\", chart_generator_node)\n",
    "\n",
    "# Define edges to route tasks within the document authoring team\n",
    "document_authoring_graph.add_edge(\"FinancialAnalyst\", \"ReportWriter\")\n",
    "document_authoring_graph.add_edge(\"ReportWriter\", \"ChartGenerator\")\n",
    "document_authoring_graph.add_edge(\"ChartGenerator\", \"DocumentAuthoringSupervisor\")"
   ]
  },
  {
   "cell_type": "code",
   "execution_count": null,
   "metadata": {},
   "outputs": [],
   "source": [
    "from langgraph.graph import StateGraph, START, END\n",
    "# Define the Overall Supervisor Node\n",
    "overall_supervisor = create_team_supervisor(\n",
    "    llm, \n",
    "    \"Manage financial audit workflow between data collection and report generation team.\",\n",
    "    [\"ResearchTeam\", \"DocumentAuthoringTeam\"]\n",
    ")\n",
    "\n",
    "# Define the top-level graph for the Financial Audit Team\n",
    "financial_audit_graph = StateGraph()\n",
    "financial_audit_graph.add_node(\"ResearchTeam\", research_team_graph)\n",
    "financial_audit_graph.add_node(\"DocumentAuthoringTeam\", document_authoring_graph)\n",
    "financial_audit_graph.add_node(\"OverallSupervisor\", overall_supervisor)\n",
    "\n",
    "# Define routing through the Overall Supervisor\n",
    "financial_audit_graph.add_conditional_edges(\n",
    "    \"OverallSupervisor\",\n",
    "    lambda x: x[\"next\"],\n",
    "    {\n",
    "        \"ResearchTeam\": \"ResearchTeam\",\n",
    "        \"DocumentAuthoringTeam\": \"DocumentAuthoringTeam\",\n",
    "        \"FINISH\": END\n",
    "    }\n",
    ")\n",
    "financial_audit_graph.add_edge(START, \"OverallSupervisor\")"
   ]
  }
 ],
 "metadata": {
  "kernelspec": {
   "display_name": "agent",
   "language": "python",
   "name": "python3"
  },
  "language_info": {
   "codemirror_mode": {
    "name": "ipython",
    "version": 3
   },
   "file_extension": ".py",
   "mimetype": "text/x-python",
   "name": "python",
   "nbconvert_exporter": "python",
   "pygments_lexer": "ipython3",
   "version": "3.10.6"
  }
 },
 "nbformat": 4,
 "nbformat_minor": 2
}
