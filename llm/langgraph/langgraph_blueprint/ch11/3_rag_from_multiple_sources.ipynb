{
 "cells": [
  {
   "cell_type": "code",
   "execution_count": 2,
   "metadata": {},
   "outputs": [],
   "source": [
    "import os\n",
    "import keyring\n",
    "from langchain_openai import OpenAIEmbeddings, ChatOpenAI\n",
    "from langchain_community.vectorstores import Chroma\n",
    "from langchain_community.document_loaders import PyPDFLoader, WebBaseLoader\n",
    "from langchain_text_splitters import CharacterTextSplitter\n",
    "from langchain_core.prompts import ChatPromptTemplate\n",
    "from langchain_core.runnables import RunnablePassthrough\n",
    "from langchain_core.output_parsers import StrOutputParser\n",
    "import tiktoken\n",
    "\n",
    "# Initialize the embeddings model\n",
    "OPENAI_API_KEY = keyring.get_password('openai', 'key_for_mac')\n",
    "embeddings = OpenAIEmbeddings(model='text-embedding-3-large', api_key=OPENAI_API_KEY)\n",
    "\n",
    "# Set up LangSmith observability\n",
    "os.environ['LANGCHAIN_TRACING_V2'] = 'true'\n",
    "os.environ['LANGCHAIN_ENDPOINT'] = \"https://api.smith.langchain.com\"\n",
    "os.environ['LANGCHAIN_API_KEY'] = keyring.get_password('langsmith', 'learning_agent')\n",
    "os.environ['LANGCHAIN_PROJECT'] = \"pr-stupendous-hood-8\""
   ]
  },
  {
   "cell_type": "code",
   "execution_count": 3,
   "metadata": {},
   "outputs": [],
   "source": [
    "### Step 1. Load and Process Local Document (PDF)\n",
    "file_path = os.path.join(os.getcwd(), \"docs\", \"faiss.pdf\")\n",
    "pdf_loader = PyPDFLoader(file_path)\n",
    "pdf_documents = pdf_loader.load()\n",
    "\n",
    "# Split PDF into chunks\n",
    "text_splitter = CharacterTextSplitter(chunk_size=1000, chunk_overlap=0)\n",
    "split_pdf_documents = text_splitter.split_documents(pdf_documents)"
   ]
  },
  {
   "cell_type": "code",
   "execution_count": 5,
   "metadata": {},
   "outputs": [
    {
     "name": "stderr",
     "output_type": "stream",
     "text": [
      "Created a chunk of size 3269, which is longer than the specified 1000\n",
      "Created a chunk of size 1090, which is longer than the specified 1000\n",
      "Created a chunk of size 4705, which is longer than the specified 1000\n",
      "Created a chunk of size 1093, which is longer than the specified 1000\n"
     ]
    }
   ],
   "source": [
    "### Step 2. Load and Process Web Content\n",
    "# Define URLs to fetch web content\n",
    "urls = [\n",
    "    \"https://github.com/facebookresearch/faiss\",\n",
    "    \"https://github.com/facebookresearch/faiss/wiki\"\n",
    "]\n",
    "\n",
    "# Load web content\n",
    "web_loader = WebBaseLoader(web_paths=urls)\n",
    "web_documents = web_loader.load()\n",
    "\n",
    "# Split web documents into chunks\n",
    "split_web_documents = text_splitter.split_documents(web_documents)"
   ]
  },
  {
   "cell_type": "code",
   "execution_count": 6,
   "metadata": {},
   "outputs": [
    {
     "name": "stdout",
     "output_type": "stream",
     "text": [
      "All documents indexed in Chroma successfully.\n"
     ]
    }
   ],
   "source": [
    "### Step 3: Combine Local and Web Documents\n",
    "\n",
    "# Combine documents from both local and web sources\n",
    "all_documents = split_pdf_documents + split_web_documents\n",
    "\n",
    "### Step 4: Index documents in Chroma Vector Store\n",
    "\n",
    "# Index all documents in Chroma\n",
    "db = Chroma.from_documents(documents=all_documents, embedding=embeddings)\n",
    "print(\"All documents indexed in Chroma successfully.\")"
   ]
  },
  {
   "cell_type": "code",
   "execution_count": 7,
   "metadata": {},
   "outputs": [
    {
     "name": "stdout",
     "output_type": "stream",
     "text": [
      "The main authors of Faiss are Matthijs Douze, Alexandr Guzhva, Chengqi Deng, Jeff Johnson, Gergely Szilvasy, Pierre-Emmanuel Mazaré, Maria Lomeli, Lucas Hosseini, and Hervé Jégou. Hervé Jégou initiated the project and wrote its first implementation, while others contributed significantly to various components. The project is developed primarily at Meta AI Research."
     ]
    }
   ],
   "source": [
    "## Step 5: Define a Retriever\n",
    "\n",
    "# Define a retriever to fetch relevant documents from the combined sources\n",
    "retriever = db.as_retriever(search_type='similarity', search_kwargs={\"k\":5})\n",
    "\n",
    "### Step 6: Define the Prompt Template for the LLM\n",
    "prompt = ChatPromptTemplate.from_template(\n",
    "    \"\"\" \n",
    "    You are an assistant for question-answering tasks.\n",
    "    Use the following pieces of retrieved context to answer the question.\n",
    "    If you don't know the answer, just say that you don't know.\n",
    "    Use three sentences maximum and keep the answer concise.\n",
    "    Question: {question}\n",
    "    Context: {context}\n",
    "    Answer:\n",
    "    \"\"\"\n",
    ")\n",
    "\n",
    "### Step 7: Initialize the ChatOpenAI Model\n",
    "model = ChatOpenAI(model='gpt-4o-mini', temperature=0, api_key=OPENAI_API_KEY)\n",
    "\n",
    "### Step 8: Set up the Retrieval-Augmented Generation(RAG) Chain\n",
    "rag_chain = (\n",
    "    {\"context\": retriever, \"question\": RunnablePassthrough()}\n",
    "    | prompt\n",
    "    | model\n",
    "    | StrOutputParser()\n",
    ")\n",
    "\n",
    "### Step 9. Ask a Question and Generate a Response\n",
    "question = \"Who are the main authors of Faiss?\"\n",
    "for chunk in rag_chain.stream(question):\n",
    "    print(chunk, end=\"\", flush=True)"
   ]
  }
 ],
 "metadata": {
  "kernelspec": {
   "display_name": "agent",
   "language": "python",
   "name": "python3"
  },
  "language_info": {
   "codemirror_mode": {
    "name": "ipython",
    "version": 3
   },
   "file_extension": ".py",
   "mimetype": "text/x-python",
   "name": "python",
   "nbconvert_exporter": "python",
   "pygments_lexer": "ipython3",
   "version": "3.10.6"
  }
 },
 "nbformat": 4,
 "nbformat_minor": 2
}
