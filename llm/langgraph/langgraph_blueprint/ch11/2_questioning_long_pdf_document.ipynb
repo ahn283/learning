{
 "cells": [
  {
   "cell_type": "code",
   "execution_count": 3,
   "metadata": {},
   "outputs": [],
   "source": [
    "from langchain_openai import OpenAIEmbeddings, ChatOpenAI\n",
    "from langchain_community.vectorstores import Chroma\n",
    "from langchain_community.document_loaders import PyPDFLoader\n",
    "from langchain_text_splitters import CharacterTextSplitter\n",
    "from langchain_core.prompts import ChatPromptTemplate\n",
    "from langchain_core.runnables import RunnablePassthrough\n",
    "from langchain_core.output_parsers import StrOutputParser\n",
    "import tiktoken\n",
    "import os\n",
    "import keyring"
   ]
  },
  {
   "cell_type": "code",
   "execution_count": 5,
   "metadata": {},
   "outputs": [],
   "source": [
    "# Step 1. Load the document\n",
    "file_path = os.path.join(os.getcwd(), 'docs', 'faiss.pdf')\n",
    "raw_documents = PyPDFLoader(file_path=file_path).load()"
   ]
  },
  {
   "cell_type": "code",
   "execution_count": 7,
   "metadata": {},
   "outputs": [],
   "source": [
    "# Step 2. Split the document into chunks\n",
    "text_splitter = CharacterTextSplitter(chunk_size=1000, chunk_overlap=0)\n",
    "documents = text_splitter.split_documents(raw_documents)"
   ]
  },
  {
   "cell_type": "code",
   "execution_count": 9,
   "metadata": {},
   "outputs": [
    {
     "name": "stdout",
     "output_type": "stream",
     "text": [
      "Documents indexed in Chroma successfully.\n"
     ]
    }
   ],
   "source": [
    "# Step 3. Initialize the embeddings model\n",
    "OPENAI_API_KEY = keyring.get_password('openai', 'key_for_mac')\n",
    "embeddings = OpenAIEmbeddings(model='text-embedding-3-large', api_key=OPENAI_API_KEY)\n",
    "\n",
    "# Step 4. Index the document chunks in Chroma vector store\n",
    "db = Chroma.from_documents(documents=documents, embedding=embeddings)\n",
    "print(\"Documents indexed in Chroma successfully.\")"
   ]
  },
  {
   "cell_type": "code",
   "execution_count": 10,
   "metadata": {},
   "outputs": [],
   "source": [
    "# Step 5. Define a retriever for similarity search\n",
    "retriever = db.as_retriever(search_type='similarity', search_kwargs={'k':3})    # Retrieve top 3 relevant chunks"
   ]
  },
  {
   "cell_type": "code",
   "execution_count": 16,
   "metadata": {},
   "outputs": [],
   "source": [
    "# Step 6: Define the prompt template for the LLM\n",
    "prompt = ChatPromptTemplate.from_template(\n",
    "    \"\"\"\n",
    "    You are an assistant for question-answering tasks.\n",
    "    Use the following pieces of retrieved context to answer the question.\n",
    "    If you don't know the answer, just say that you don't know.\n",
    "    Use three sentences maximum and keep the answer concise.\n",
    "    Question: {question}\n",
    "    Context: {context}\n",
    "    Answer:\n",
    "    \"\"\"  \n",
    ")\n",
    "\n",
    "# Step 7. Initialize the ChatOpenAI model\n",
    "\n",
    "# Set up obeservability\n",
    "os.environ['LANGCHAIN_TRACING_V2'] = 'true'\n",
    "os.environ['LANGCHAIN_ENDPOINT'] = \"https://api.smith.langchain.com\"\n",
    "os.environ['LANGCHAIN_API_KEY'] = keyring.get_password('langsmith', 'learning_agent')\n",
    "os.environ['LANGCHAIN_PROJECT'] = \"pr-stupendous-hood-8\"\n",
    "model = ChatOpenAI(model='gpt-4o-mini', temperature=0, api_key=OPENAI_API_KEY)"
   ]
  },
  {
   "cell_type": "code",
   "execution_count": 17,
   "metadata": {},
   "outputs": [],
   "source": [
    "# Step 8: Set up the Retrieval-Augmented Generation(RAG) chain\n",
    "rag_chain = (\n",
    "    {\"context\": retriever, \"question\": RunnablePassthrough()}\n",
    "    | prompt\n",
    "    | model\n",
    "    | StrOutputParser()\n",
    ")"
   ]
  },
  {
   "cell_type": "code",
   "execution_count": 20,
   "metadata": {},
   "outputs": [
    {
     "name": "stdout",
     "output_type": "stream",
     "text": [
      "FAISS (Facebook AI Similarity Search) is a library designed for efficient vector similarity search, particularly in large collections of embedding vectors. It provides a variety of indexing methods and tools for searching, clustering, compressing, and transforming vectors, making it suitable for applications like natural language processing and data mining. FAISS is widely used in both industry and research for tasks that require fast and scalable nearest neighbor searches."
     ]
    }
   ],
   "source": [
    "# Step 9. Ask a question and generate a response\n",
    "question = \"Can you explain what FAISS is used for?\"\n",
    "for chunk in rag_chain.stream(question):\n",
    "    print(chunk, end=\"\", flush=True)"
   ]
  }
 ],
 "metadata": {
  "kernelspec": {
   "display_name": "agent",
   "language": "python",
   "name": "python3"
  },
  "language_info": {
   "codemirror_mode": {
    "name": "ipython",
    "version": 3
   },
   "file_extension": ".py",
   "mimetype": "text/x-python",
   "name": "python",
   "nbconvert_exporter": "python",
   "pygments_lexer": "ipython3",
   "version": "3.10.6"
  }
 },
 "nbformat": 4,
 "nbformat_minor": 2
}
