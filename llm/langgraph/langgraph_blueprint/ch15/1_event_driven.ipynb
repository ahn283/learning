{
 "cells": [
  {
   "cell_type": "code",
   "execution_count": 1,
   "metadata": {},
   "outputs": [
    {
     "name": "stdout",
     "output_type": "stream",
     "text": [
      "{'stock_price': 180, 'action': 'Sell'}\n"
     ]
    }
   ],
   "source": [
    "from typing import TypedDict\n",
    "from langgraph.graph import StateGraph, START, END\n",
    "\n",
    "class StockState(TypedDict):\n",
    "    stock_price: float\n",
    "    action: str\n",
    "    \n",
    "def monitor_stock(state: StockState):\n",
    "    if state['stock_price'] > 150:\n",
    "        state['action'] = 'Sell'\n",
    "    elif state['stock_price'] < 100:\n",
    "        state['action'] = 'Buy'\n",
    "    else:\n",
    "        state['action'] = 'Hold'\n",
    "    return state\n",
    "\n",
    "# Define the workflow\n",
    "builder = StateGraph(StockState)\n",
    "builder.add_node(\"monitor_stock\", monitor_stock)\n",
    "builder.add_edge(START, \"monitor_stock\")\n",
    "builder.add_edge(\"monitor_stock\", END)\n",
    "graph = builder.compile()\n",
    "\n",
    "# Sample invocation with a stock price trigger\n",
    "result = graph.invoke({\"stock_price\": 180, \"action\": \"\"})\n",
    "print(result)"
   ]
  }
 ],
 "metadata": {
  "kernelspec": {
   "display_name": "agent",
   "language": "python",
   "name": "python3"
  },
  "language_info": {
   "codemirror_mode": {
    "name": "ipython",
    "version": 3
   },
   "file_extension": ".py",
   "mimetype": "text/x-python",
   "name": "python",
   "nbconvert_exporter": "python",
   "pygments_lexer": "ipython3",
   "version": "3.10.6"
  }
 },
 "nbformat": 4,
 "nbformat_minor": 2
}
