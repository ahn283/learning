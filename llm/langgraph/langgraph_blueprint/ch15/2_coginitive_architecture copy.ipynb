{
 "cells": [
  {
   "cell_type": "code",
   "execution_count": 1,
   "metadata": {},
   "outputs": [
    {
     "name": "stdout",
     "output_type": "stream",
     "text": [
      "{'symptoms': 'application slow response', 'diagnosis': 'Possible network issue.'}\n"
     ]
    }
   ],
   "source": [
    "from typing import TypedDict\n",
    "from langgraph.graph import StateGraph, START, END\n",
    "\n",
    "class DiagnosticState(TypedDict):\n",
    "    symptoms: str\n",
    "    diagnosis: str\n",
    "    \n",
    "def analyze_symptoms(state: DiagnosticState):\n",
    "    if \"slow\" in state['symptoms']:\n",
    "        state['diagnosis'] = \"Possible network issue.\"\n",
    "    elif \"error\" in state['symptoms']:\n",
    "        state['diagnosis'] = \"Check application logs for errors.\"\n",
    "    else:\n",
    "        state['diagnosis'] = \"Further investigation needed.\"\n",
    "    return state\n",
    "\n",
    "# Define the workflow\n",
    "builder = StateGraph(DiagnosticState)\n",
    "builder.add_node(\"analyze_symptoms\", analyze_symptoms)\n",
    "builder.add_edge(START, \"analyze_symptoms\")\n",
    "builder.add_edge(\"analyze_symptoms\", END)\n",
    "graph = builder.compile()\n",
    "\n",
    "# Sample invocation\n",
    "result = graph.invoke({\n",
    "    \"symptoms\": \"application slow response\",\n",
    "    \"diagnosis\": \"\"\n",
    "})\n",
    "print(result) "
   ]
  }
 ],
 "metadata": {
  "kernelspec": {
   "display_name": "agent",
   "language": "python",
   "name": "python3"
  },
  "language_info": {
   "codemirror_mode": {
    "name": "ipython",
    "version": 3
   },
   "file_extension": ".py",
   "mimetype": "text/x-python",
   "name": "python",
   "nbconvert_exporter": "python",
   "pygments_lexer": "ipython3",
   "version": "3.10.6"
  }
 },
 "nbformat": 4,
 "nbformat_minor": 2
}
