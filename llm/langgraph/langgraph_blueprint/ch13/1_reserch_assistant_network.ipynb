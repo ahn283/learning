{
 "cells": [
  {
   "cell_type": "code",
   "execution_count": 40,
   "metadata": {},
   "outputs": [],
   "source": [
    "from typing import Annotated, Literal\n",
    "\n",
    "from langchain_community.tools.tavily_search import TavilySearchResults\n",
    "from langchain_experimental.tools import PythonREPLTool\n",
    "from langchain_core.prompts import ChatPromptTemplate, MessagesPlaceholder\n",
    "from langchain_openai import ChatOpenAI\n",
    "from pydantic import BaseModel\n",
    "from langchain_core.messages import HumanMessage\n",
    "import os\n",
    "import keyring\n",
    "\n",
    "# API KEY\n",
    "OPENAI_API_KEY = keyring.get_password('openai', 'key_for_mac')\n",
    "TAVILY_API_KEY = keyring.get_password('tavily', 'key_for_mac')\n",
    "os.environ['OPENAI_API_KEY'] = OPENAI_API_KEY\n",
    "os.environ['TAVILY_API_KEY'] = TAVILY_API_KEY\n",
    "\n",
    "# Tavily tool\n",
    "tavily_tool = TavilySearchResults(max_results=5)\n",
    "\n",
    "# Code execution tool\n",
    "python_repl_tool = PythonREPLTool()\n"
   ]
  },
  {
   "cell_type": "code",
   "execution_count": 41,
   "metadata": {},
   "outputs": [],
   "source": [
    "def agent_node(state, agent, name):\n",
    "    result = agent.invoke(state)\n",
    "    return {\n",
    "        \"messages\": [HumanMessage(content=result[\"messages\"][-1].content, name=name)]\n",
    "    }\n",
    "    \n",
    "members = [\"Researcher\", \"Coder\"]\n",
    "system_prompt = (\n",
    "    \"You are a supervisor tasked with managing a conversation between the\"\n",
    "    \" following workers: {members}. Given the following user request,\"\n",
    "    \" respond with the worker to act next. Each worker will perfrom a\"\n",
    "    \" task and respond with their results and status. When finished,\"\n",
    "    \" respond with FINISH.\"\n",
    ")\n",
    "\n",
    "# Out team supervisor is an LLM node. It just picks the next agent to process\n",
    "# and decides when the work is completed\n",
    "options = [\"FINISH\"] + members\n"
   ]
  },
  {
   "cell_type": "code",
   "execution_count": 42,
   "metadata": {},
   "outputs": [],
   "source": [
    "class routeResponse(BaseModel):\n",
    "    next: Literal[tuple(options)]"
   ]
  },
  {
   "cell_type": "code",
   "execution_count": 43,
   "metadata": {},
   "outputs": [],
   "source": [
    "prompt = ChatPromptTemplate.from_messages(\n",
    "    [\n",
    "        (\"system\", system_prompt),\n",
    "        MessagesPlaceholder(variable_name=\"messages\"),\n",
    "        (\n",
    "            \"system\",\n",
    "            \"Given the conversation above, who should be next?\"\n",
    "            \" or should we FINISH? Select one of: {options}\",\n",
    "        ),\n",
    "    ]\n",
    ").partial(options=str(options), members=\", \".join(members))\n",
    "\n",
    "llm = ChatOpenAI(model='gpt-4o-mini')"
   ]
  },
  {
   "cell_type": "code",
   "execution_count": 44,
   "metadata": {},
   "outputs": [],
   "source": [
    "def supervisor_agent(state):\n",
    "    supervisor_chain = prompt | llm.with_structured_output(routeResponse)\n",
    "    return supervisor_chain.invoke(state)"
   ]
  },
  {
   "cell_type": "code",
   "execution_count": 45,
   "metadata": {},
   "outputs": [],
   "source": [
    "import functools\n",
    "import operator\n",
    "from typing import Sequence, TypedDict\n",
    "from langchain_core.messages import BaseMessage\n",
    "from display_graph import display_graph\n",
    "\n",
    "from langgraph.graph import StateGraph, START, END\n",
    "from langgraph.prebuilt import create_react_agent\n",
    "\n",
    "# The agent state is in the input to each node in the graph\n",
    "class AgentState(TypedDict):\n",
    "    # The annotation tells the graph that new messages will always\n",
    "    # be added to the current states\n",
    "    messages: Annotated[Sequence[BaseMessage], operator.add]\n",
    "    # The 'next' field indicates where to route to next\n",
    "    next: str\n",
    "    \n",
    "research_agent = create_react_agent(llm, tools=[tavily_tool])\n",
    "research_node = functools.partial(agent_node, agent=research_agent, name=\"Reseacher\")\n",
    "\n",
    "# NOTE: THIS PERFORMS ARBITRARY CODE EXECUTION. PROCEED WITH CAUTION\n",
    "code_agent = create_react_agent(llm, tools=[python_repl_tool])\n",
    "code_node = functools.partial(agent_node, agent=code_agent, name=\"Coder\")"
   ]
  },
  {
   "cell_type": "code",
   "execution_count": 46,
   "metadata": {},
   "outputs": [
    {
     "name": "stdout",
     "output_type": "stream",
     "text": [
      "/Users/woojin/Documents/github/learning/llm/langgraph/langgraph_blueprint/ch13/graphs/graph_55291.png\n"
     ]
    }
   ],
   "source": [
    "# Build the graph\n",
    "workflow = StateGraph(AgentState)\n",
    "workflow.add_node(\"Researcher\", research_node)\n",
    "workflow.add_node(\"Coder\", code_node)\n",
    "workflow.add_node(\"Supervisor\", supervisor_agent)\n",
    "\n",
    "for member in members:\n",
    "    # We want out worker to ALWAYS \"report back\" to the supervisor when done\n",
    "    workflow.add_edge(member, \"Supervisor\")\n",
    "\n",
    "# The supervisor populates the \"next\" fields in the graph state\n",
    "# which routes to a node or finishes\n",
    "conditional_map = {k: k for k in members}\n",
    "conditional_map[\"FINISH\"] = END\n",
    "workflow.add_conditional_edges(\"Supervisor\", lambda x: x[\"next\"], conditional_map)\n",
    "\n",
    "# Finally add entrypoint\n",
    "workflow.add_edge(START, \"Supervisor\")\n",
    "\n",
    "graph = workflow.compile()\n",
    "\n",
    "# Visualize the graph\n",
    "display_graph(graph)"
   ]
  },
  {
   "cell_type": "code",
   "execution_count": 47,
   "metadata": {},
   "outputs": [
    {
     "name": "stdout",
     "output_type": "stream",
     "text": [
      "{'Supervisor': {'next': 'Researcher'}}\n",
      "----\n",
      "{'Researcher': {'messages': [HumanMessage(content=\"Recent advances in artificial intelligence (AI) throughout 2023 have made significant contributions across various sectors, marking it as a pivotal year in the field. Here are the highlights:\\n\\n1. **Generative AI Improvements**: The year has seen remarkable progress in generative AI models, particularly with technologies like ChatGPT and models for image generation (e.g., Stable Diffusion and MidJourney). These advancements have enhanced the capabilities of AI in content creation and automation.\\n\\n2. **Natural Language Processing (NLP)**: Advances have been made in NLP, with models becoming more sophisticated in understanding and generating human-like text, enabling better interaction between users and AI systems.\\n\\n3. **Integration into Daily Life**: AI technologies have moved from laboratory settings into everyday applications, significantly with the introduction of AI-driven tools that assist with complex tasks such as searches and security, widely integrated into business software.\\n\\n4. **AI in Various Industries**: The adoption of AI has reshaped numerous industries, opening new possibilities for automation and efficiency improvements. This includes advancements in sectors like healthcare, finance, and autonomous systems.\\n\\n5. **AI Simulation Technologies**: A notable area of focus has been the combination of AI with simulation technologies, allowing the development of AI agents and environments where they can be effectively trained and tested.\\n\\n6. **Reports and Studies**: The AI Index report of April 2023 and various publications by leading institutions like Microsoft and DeepMind have outlined these achievements and highlighted the trajectory of AI research and deployment.\\n\\nAs ongoing research continues to push the boundaries of what's possible, 2023 stands as a landmark year for AI advancements, suggesting even more transformative potential in the near future. \\n\\nFor more detailed information, you can explore the following sources:\\n- [Gartner's AI Hype Cycle](https://www.gartner.com/en/articles/what-s-new-in-artificial-intelligence-from-the-2023-gartner-hype-cycle)\\n- [Microsoft on AI Advancements](https://www.microsoft.com/en-us/research/blog/research-at-microsoft-2023-a-year-of-groundbreaking-ai-advances-and-discoveries/)\\n- [Future Tech Review on AI Breakthroughs](https://futuretech.media/ai-breakthroughs-in-2023-a-review-of-the-most-significant-advances-in-artificial-intelligence/)\", additional_kwargs={}, response_metadata={}, name='Reseacher')]}}\n",
      "----\n",
      "{'Supervisor': {'next': 'Coder'}}\n",
      "----\n",
      "{'Coder': {'messages': [HumanMessage(content=\"Here’s a summary of recent advancements in artificial intelligence (AI) throughout 2023:\\n\\n1. **Generative AI Improvements**: Significant progress has been made in generative AI models, improving technologies like ChatGPT and image generation models (e.g., Stable Diffusion and MidJourney), enhancing content creation and automation capabilities.\\n\\n2. **Natural Language Processing (NLP)**: AI models have become more sophisticated in understanding and generating human-like text, leading to improved interactions between users and AI systems.\\n\\n3. **Integration into Daily Life**: AI technologies have transitioned from research environments into everyday applications, with tools that assist with complex tasks like searches and security, widely integrated into business software.\\n\\n4. **AI in Various Industries**: The adoption of AI has transformed numerous sectors, including healthcare and finance, by creating new automation possibilities and improving operational efficiencies.\\n\\n5. **AI Simulation Technologies**: There has been a focus on combining AI with simulation technologies, enabling the development of AI agents and effective training environments.\\n\\n6. **Reports and Studies**: Reports like the AI Index from April 2023 and publications from institutions such as Microsoft and DeepMind have documented these advancements and outlined the future trajectory of AI research.\\n\\nThe year 2023 stands out as a pivotal period for AI, indicating transformative potential in the coming years. For further details, you can visit sources such as Gartner's AI Hype Cycle, Microsoft's blog on AI advancements, and Future Tech Review's review of AI breakthroughs.\", additional_kwargs={}, response_metadata={}, name='Coder')]}}\n",
      "----\n",
      "{'Supervisor': {'next': 'FINISH'}}\n",
      "----\n"
     ]
    }
   ],
   "source": [
    "for s in graph.stream(\n",
    "    {\"messages\": [\n",
    "        HumanMessage(content=\"Research recent advances in AI and summarize.\")\n",
    "    ]}\n",
    "):\n",
    "    if \"__end__\" not in s:\n",
    "        print(s)\n",
    "        print(\"----\")"
   ]
  },
  {
   "cell_type": "code",
   "execution_count": 48,
   "metadata": {},
   "outputs": [
    {
     "name": "stdout",
     "output_type": "stream",
     "text": [
      "{'Supervisor': {'next': 'Researcher'}}\n",
      "----\n",
      "{'Researcher': {'messages': [HumanMessage(content='It appears that I cannot directly create a PDF at this moment. However, I can guide you on how to create one using the report content. Here\\'s a step-by-step process to create a PDF on your own:\\n\\n### Instructions to Create a PDF\\n\\n1. **Copy the Report Content**:\\n   Copy the entire text of the research report provided above.\\n\\n2. **Open a Word Processor**:\\n   Open a program like Microsoft Word, Google Docs, or any text editor that allows you to save documents as PDF.\\n\\n3. **Paste the Content**:\\n   Paste the copied report into the document.\\n\\n4. **Format the Document**:\\n   - You can adjust the headings, font size, and spacing as you prefer to improve readability.\\n   - Add a title at the top, such as \"Research Report on Pikas\".\\n\\n5. **Save as PDF**:\\n   - If you’re using Microsoft Word, go to \\'File\\' > \\'Save As\\' and choose PDF from the format options.\\n   - If you are using Google Docs, go to \\'File\\' > \\'Download\\' and select \\'PDF Document\\'.\\n\\n6. **Review the PDF**:\\n   Open the saved PDF to ensure everything looks good.\\n\\nAnd that\\'s it! You will have a PDF document of the research report on pikas. If you need further assistance, feel free to ask!', additional_kwargs={}, response_metadata={}, name='Reseacher')]}}\n",
      "----\n",
      "{'Supervisor': {'next': 'Coder'}}\n",
      "----\n"
     ]
    },
    {
     "name": "stderr",
     "output_type": "stream",
     "text": [
      "Python REPL can execute arbitrary code. Use with caution.\n"
     ]
    },
    {
     "name": "stdout",
     "output_type": "stream",
     "text": [
      "{'Coder': {'messages': [HumanMessage(content=\"I can't create a PDF directly at the moment, but I can provide you with the content for a research report on pikas. You can then create a PDF using the steps I provided earlier. Here's the content:\\n\\n---\\n\\n# Research Report on Pikas\\n\\n## Introduction\\nPikas are small, mountain-dwelling mammals that belong to the family Ochotonidae. They are closely related to rabbits and hares, sharing a common ancestor. Pikas are found in North America and Asia, primarily in rocky, alpine environments.\\n\\n## Habitat and Distribution\\nPikas inhabit rocky slopes and talus fields, where they find shelter in crevices. They are typically found at elevations above 2,500 meters (8,200 feet) in North America and can adapt to various climates, but prefer cooler temperatures.\\n\\n## Behavior and Diet\\nPikas are herbivores, feeding on a diet of grasses, herbs, and other vegetation. They are known for their characteristic behavior of storing food for the winter months, a process known as haying. Pikas do not hibernate but remain active during the winter.\\n\\n## Conservation Status\\nMany pika species are considered vulnerable due to climate change, habitat loss, and other environmental pressures. Conservation efforts are critical to ensure these unique mammals survive.\\n\\n## Conclusion\\nPikas are fascinating creatures that play an essential role in their ecosystem. Understanding their behavior, habitat, and the threats they face is crucial for their conservation.\\n\\n---\\n\\nFeel free to copy this content and follow the provided instructions to create a PDF document. If you need any more help, just let me know!\", additional_kwargs={}, response_metadata={}, name='Coder')]}}\n",
      "----\n",
      "{'Supervisor': {'next': 'FINISH'}}\n",
      "----\n"
     ]
    }
   ],
   "source": [
    "for s in graph.stream(\n",
    "    {\"messages\": [HumanMessage(content=\"Write a brief pdf researh report on pikas.\")]},\n",
    "    {\"recursion_limit\": 100},\n",
    "):\n",
    "    if \"__end__\" not in s:\n",
    "        print(s)\n",
    "        print(\"----\")"
   ]
  }
 ],
 "metadata": {
  "kernelspec": {
   "display_name": "agent",
   "language": "python",
   "name": "python3"
  },
  "language_info": {
   "codemirror_mode": {
    "name": "ipython",
    "version": 3
   },
   "file_extension": ".py",
   "mimetype": "text/x-python",
   "name": "python",
   "nbconvert_exporter": "python",
   "pygments_lexer": "ipython3",
   "version": "3.10.6"
  }
 },
 "nbformat": 4,
 "nbformat_minor": 2
}
