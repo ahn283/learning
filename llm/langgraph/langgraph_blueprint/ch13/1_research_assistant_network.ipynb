{
 "cells": [
  {
   "cell_type": "code",
   "execution_count": 1,
   "metadata": {},
   "outputs": [],
   "source": [
    "from typing import Annotated, Literal\n",
    "\n",
    "from langchain_community.tools.tavily_search import TavilySearchResults\n",
    "from langchain_experimental.tools import PythonREPLTool\n",
    "from langchain_core.prompts import ChatPromptTemplate, MessagesPlaceholder\n",
    "from langchain_openai import ChatOpenAI\n",
    "from pydantic import BaseModel\n",
    "from langchain_core.messages import HumanMessage\n",
    "import os\n",
    "import keyring\n",
    "\n",
    "# API KEY\n",
    "OPENAI_API_KEY = keyring.get_password('openai', 'key_for_mac')\n",
    "TAVILY_API_KEY = keyring.get_password('tavily', 'key_for_mac')\n",
    "os.environ['OPENAI_API_KEY'] = OPENAI_API_KEY\n",
    "os.environ['TAVILY_API_KEY'] = TAVILY_API_KEY\n",
    "\n",
    "# Tavily tool\n",
    "tavily_tool = TavilySearchResults(max_results=5)\n",
    "\n",
    "# Code execution tool\n",
    "python_repl_tool = PythonREPLTool()\n",
    "\n",
    "# Set up LangSmith observability\n",
    "os.environ['LANGCHAIN_TRACING_V2'] = 'true'\n",
    "os.environ['LANGCHAIN_ENDPOINT'] = \"https://api.smith.langchain.com\"\n",
    "os.environ['LANGCHAIN_API_KEY'] = keyring.get_password('langsmith', 'learning_agent')\n",
    "os.environ['LANGCHAIN_PROJECT'] = \"pr-stupendous-hood-8\"\n"
   ]
  },
  {
   "cell_type": "code",
   "execution_count": 2,
   "metadata": {},
   "outputs": [],
   "source": [
    "def agent_node(state, agent, name):\n",
    "    result = agent.invoke(state)\n",
    "    return {\n",
    "        \"messages\": [HumanMessage(content=result[\"messages\"][-1].content, name=name)]\n",
    "    }\n",
    "    \n",
    "members = [\"Researcher\", \"Coder\"]\n",
    "system_prompt = (\n",
    "    \"You are a supervisor tasked with managing a conversation between the\"\n",
    "    \" following workers: {members}. Given the following user request,\"\n",
    "    \" respond with the worker to act next. Each worker will perfrom a\"\n",
    "    \" task and respond with their results and status. When finished,\"\n",
    "    \" respond with FINISH.\"\n",
    ")\n",
    "\n",
    "# Out team supervisor is an LLM node. It just picks the next agent to process\n",
    "# and decides when the work is completed\n",
    "options = [\"FINISH\"] + members\n"
   ]
  },
  {
   "cell_type": "code",
   "execution_count": 3,
   "metadata": {},
   "outputs": [],
   "source": [
    "class routeResponse(BaseModel):\n",
    "    next: Literal[tuple(options)]"
   ]
  },
  {
   "cell_type": "code",
   "execution_count": 4,
   "metadata": {},
   "outputs": [],
   "source": [
    "prompt = ChatPromptTemplate.from_messages(\n",
    "    [\n",
    "        (\"system\", system_prompt),\n",
    "        MessagesPlaceholder(variable_name=\"messages\"),\n",
    "        (\n",
    "            \"system\",\n",
    "            \"Given the conversation above, who should be next?\"\n",
    "            \" or should we FINISH? Select one of: {options}\",\n",
    "        ),\n",
    "    ]\n",
    ").partial(options=str(options), members=\", \".join(members))\n",
    "\n",
    "llm = ChatOpenAI(model='gpt-4o-mini')"
   ]
  },
  {
   "cell_type": "code",
   "execution_count": 5,
   "metadata": {},
   "outputs": [],
   "source": [
    "def supervisor_agent(state):\n",
    "    supervisor_chain = prompt | llm.with_structured_output(routeResponse)\n",
    "    return supervisor_chain.invoke(state)"
   ]
  },
  {
   "cell_type": "code",
   "execution_count": 6,
   "metadata": {},
   "outputs": [],
   "source": [
    "import functools\n",
    "import operator\n",
    "from typing import Sequence, TypedDict\n",
    "from langchain_core.messages import BaseMessage\n",
    "from display_graph import display_graph\n",
    "\n",
    "from langgraph.graph import StateGraph, START, END\n",
    "from langgraph.prebuilt import create_react_agent\n",
    "\n",
    "# The agent state is in the input to each node in the graph\n",
    "class AgentState(TypedDict):\n",
    "    # The annotation tells the graph that new messages will always\n",
    "    # be added to the current states\n",
    "    messages: Annotated[Sequence[BaseMessage], operator.add]\n",
    "    # The 'next' field indicates where to route to next\n",
    "    next: str\n",
    "    \n",
    "research_agent = create_react_agent(llm, tools=[tavily_tool])\n",
    "research_node = functools.partial(agent_node, agent=research_agent, name=\"Reseacher\")\n",
    "\n",
    "# NOTE: THIS PERFORMS ARBITRARY CODE EXECUTION. PROCEED WITH CAUTION\n",
    "code_agent = create_react_agent(llm, tools=[python_repl_tool])\n",
    "code_node = functools.partial(agent_node, agent=code_agent, name=\"Coder\")"
   ]
  },
  {
   "cell_type": "code",
   "execution_count": 7,
   "metadata": {},
   "outputs": [
    {
     "name": "stdout",
     "output_type": "stream",
     "text": [
      "/Users/woojin/Documents/github/learning/llm/langgraph/langgraph_blueprint/ch13/graphs/graph_56951.png\n"
     ]
    }
   ],
   "source": [
    "# Build the graph\n",
    "workflow = StateGraph(AgentState)\n",
    "workflow.add_node(\"Researcher\", research_node)\n",
    "workflow.add_node(\"Coder\", code_node)\n",
    "workflow.add_node(\"Supervisor\", supervisor_agent)\n",
    "\n",
    "for member in members:\n",
    "    # We want out worker to ALWAYS \"report back\" to the supervisor when done\n",
    "    workflow.add_edge(member, \"Supervisor\")\n",
    "\n",
    "# The supervisor populates the \"next\" fields in the graph state\n",
    "# which routes to a node or finishes\n",
    "conditional_map = {k: k for k in members}\n",
    "conditional_map[\"FINISH\"] = END\n",
    "workflow.add_conditional_edges(\"Supervisor\", lambda x: x[\"next\"], conditional_map)\n",
    "\n",
    "# Finally add entrypoint\n",
    "workflow.add_edge(START, \"Supervisor\")\n",
    "\n",
    "graph = workflow.compile()\n",
    "\n",
    "# Visualize the graph\n",
    "display_graph(graph)"
   ]
  },
  {
   "cell_type": "code",
   "execution_count": 8,
   "metadata": {},
   "outputs": [
    {
     "name": "stdout",
     "output_type": "stream",
     "text": [
      "{'Supervisor': {'next': 'Researcher'}}\n",
      "----\n",
      "{'Researcher': {'messages': [HumanMessage(content='Recent advances in AI during 2023 have been significant and varied, highlighting rapid developments across multiple domains. Here are some key takeaways:\\n\\n1. **Generative AI Models**: The rise of generative AI models has been a major focus, with practical applications becoming more integrated into everyday use. This includes enhanced natural language processing capabilities and improved interaction between users and AI systems like ChatGPT.\\n\\n2. **AI in Business and Services**: AI tools, such as \"Copilots,\" are now being embedded into business software, assisting in complex tasks ranging from security management to search functions. This has made AI services more accessible to millions of users.\\n\\n3. **Autonomous Systems**: There have been notable advancements in autonomous systems, which are reshaping various industries. These advancements are critical for applications ranging from self-driving vehicles to industrial automation.\\n\\n4. **AI Simulation Technologies**: The combination of AI and simulation technologies has evolved, allowing for the development and deployment of AI agents in simulated environments. This is particularly useful for training and testing AI in safe, controlled settings.\\n\\n5. **Generative AI Popularity**: The popularity of tools like Stable Diffusion, Midjourney, and other large language models has accelerated the exploration and development of generative AI, pushing boundaries in creative fields and other applications.\\n\\n6. **AI Research**: Institutions like DeepMind are emphasizing their ongoing commitment to push AI research further, aiming to set standards for the development of useful and ethical AI technologies.\\n\\nThese advancements indicate a strong trend towards increasing the capabilities and applications of AI in real-world scenarios, marking 2023 as a pivotal year in the evolution of artificial intelligence. For more detailed insights, you can refer to sources such as [Future Tech](https://futuretech.media/ai-breakthroughs-in-2023-a-review-of-the-most-significant-advances-in-artificial-intelligence/) and [Microsoft Research](https://www.microsoft.com/en-us/research/blog/research-at-microsoft-2023-a-year-of-groundbreaking-ai-advances-and-discoveries/).', additional_kwargs={}, response_metadata={}, name='Reseacher')]}}\n",
      "----\n",
      "{'Supervisor': {'next': 'Coder'}}\n",
      "----\n",
      "{'Coder': {'messages': [HumanMessage(content='Recent advances in AI throughout 2023 have showcased significant progress across various domains. Here’s a summary of the most notable developments:\\n\\n1. **Generative AI Models**: Generative AI has gained considerable traction, especially in natural language processing, enhancing user interaction with AI systems like ChatGPT.\\n\\n2. **AI in Business and Services**: AI tools, commonly referred to as “Copilots,” have been integrated into business software, assisting with complex tasks like security management and search functionalities, making AI more accessible to users.\\n\\n3. **Autonomous Systems**: Advancements in autonomous technologies have transformed multiple industries, notably impacting sectors like self-driving vehicles and industrial automation.\\n\\n4. **AI Simulation Technologies**: Enhanced synergy between AI and simulation technologies is allowing for the development of AI agents in controlled environments for training and testing purposes.\\n\\n5. **Popularity of Generative AI**: Tools such as Stable Diffusion and Midjourney have surged in popularity, propelling innovations in creative fields and broader applications of generative AI.\\n\\n6. **AI Research Commitments**: Organizations like DeepMind are continuing their efforts to advance AI research, focusing on setting ethical and practical standards for AI development.\\n\\nThese trends show a clear trajectory toward greater capabilities and applications of AI, making 2023 a landmark year in AI evolution. For further details, refer to sources like [Future Tech](https://futuretech.media/ai-breakthroughs-in-2023-a-review-of-the-most-significant-advances-in-artificial-intelligence/) and [Microsoft Research](https://www.microsoft.com/en-us/research/blog/research-at-microsoft-2023-a-year-of-groundbreaking-ai-advances-and-discoveries/).', additional_kwargs={}, response_metadata={}, name='Coder')]}}\n",
      "----\n",
      "{'Supervisor': {'next': 'FINISH'}}\n",
      "----\n"
     ]
    }
   ],
   "source": [
    "for s in graph.stream(\n",
    "    {\"messages\": [\n",
    "        HumanMessage(content=\"Research recent advances in AI and summarize.\")\n",
    "    ]}\n",
    "):\n",
    "    if \"__end__\" not in s:\n",
    "        print(s)\n",
    "        print(\"----\")"
   ]
  },
  {
   "cell_type": "code",
   "execution_count": 9,
   "metadata": {},
   "outputs": [
    {
     "name": "stdout",
     "output_type": "stream",
     "text": [
      "{'Supervisor': {'next': 'Researcher'}}\n",
      "----\n",
      "{'Researcher': {'messages': [HumanMessage(content='# Research Report on Pikas\\n\\n## Introduction\\n\\nPikas (family Ochotonidae) are small mammals closely related to rabbits and hares. They inhabit mountainous regions in North America, Asia, and parts of Europe. Known for their distinctive, small size and round ears, pikas play a crucial ecological role in their environments, often serving as indicators of climate change due to their sensitivity to temperature.\\n\\n## Physical Characteristics\\n\\nPikas are typically 15-30 cm long and weigh between 120-500 grams. They have a stocky body covered with dense fur that can vary in color from brown to gray, allowing them to blend into their rocky habitats. Their short limbs and rounded ears help them adapt to cold climates. \\n\\n## Habitat\\n\\nPikas are predominantly found in alpine and subalpine regions, where they inhabit rocky slopes and talus fields. They require cool environments to thrive, as they are sensitive to high temperatures. Their range is primarily in North America (such as the Rocky Mountains) and parts of Asia, including the Himalayas and the Tien Shan mountains.\\n\\n## Behavior and Diet\\n\\nPikas are herbivores and primarily feed on a variety of vegetation, including grasses, herbs, and leaves. They have a unique behavior known as \"haymaking,\" where they gather and store food to survive the winter months. They do not hibernate but remain active during winter, relying on their stored food. \\n\\n## Reproduction\\n\\nPikas typically breed once or twice a year, with a gestation period of about 30 days. Litter sizes can range from 1 to 6 offspring. Young pikas are precocial and are weaned within a few weeks, becoming independent shortly thereafter.\\n\\n## Conservation Status\\n\\nPikas are increasingly threatened by climate change due to their sensitivity to temperature variations. Rising temperatures lead to habitat loss, as their preferred cold environments become less available. In some regions, pikas have been observed migrating to higher altitudes in search of cooler climates.\\n\\n## Conclusion\\n\\nPikas are vital components of their ecosystems, and their health is indicative of environmental changes. Conservation efforts are essential to protect their habitats and ensure their survival in the face of climate change. Further research is needed to monitor pika populations and understand the impacts of rising temperatures on their ecology.\\n\\n## References\\n\\n1. Smith, A.T., & Weston, M.L. (1990). \"Pikas: A Study of Alpine Mammals.\" *Journal of Mammalogy*.\\n2. Stewart, R.E. (2005). \"The Ecology of Pikas.\" *Ecological Research*.\\n3. Beever, E.A., & Holt, M. (2009). \"Climate Change and Pikas: A Vulnerability Assessment.\" *Global Change Biology*.\\n\\n---\\n\\nThis report provides a brief overview of pikas, encompassing their biological characteristics, habitat, behavior, reproduction, and conservation status. If you need to expand on any specific section or require additional information, feel free to ask.', additional_kwargs={}, response_metadata={}, name='Reseacher')]}}\n",
      "----\n",
      "{'Supervisor': {'next': 'Coder'}}\n",
      "----\n"
     ]
    },
    {
     "name": "stderr",
     "output_type": "stream",
     "text": [
      "Python REPL can execute arbitrary code. Use with caution.\n"
     ]
    },
    {
     "name": "stdout",
     "output_type": "stream",
     "text": [
      "{'Coder': {'messages': [HumanMessage(content='It seems that I am currently unable to create a PDF file due to missing libraries in the environment. However, I can guide you on how to create a PDF report using Python on your local machine.\\n\\nHere are the steps to create a PDF report on pikas using the `fpdf` library:\\n\\n1. **Install the `fpdf` library**:\\n   Open your terminal or command prompt and run:\\n   ```\\n   pip install fpdf\\n   ```\\n\\n2. **Use the following Python code** to generate the PDF:\\n\\n   ```python\\n   from fpdf import FPDF\\n\\n   class PDF(FPDF):\\n       def header(self):\\n           self.set_font(\\'Arial\\', \\'B\\', 12)\\n           self.cell(0, 10, \\'Research Report on Pikas\\', 0, 1, \\'C\\')\\n\\n       def footer(self):\\n           self.set_y(-15)\\n           self.set_font(\\'Arial\\', \\'I\\', 8)\\n           self.cell(0, 10, f\\'Page {self.page_no()}\\', 0, 0, \\'C\\')\\n\\n   pdf = PDF()\\n   pdf.add_page()\\n   pdf.set_font(\\'Arial\\', \\'\\', 12)\\n\\n   content = [\\n       \\'## Introduction\\',\\n       \\'Pikas (family Ochotonidae) are small mammals closely related to rabbits and hares. They inhabit mountainous regions in North America, Asia, and parts of Europe. Known for their distinctive, small size and round ears, pikas play a crucial ecological role in their environments, often serving as indicators of climate change due to their sensitivity to temperature.\\',\\n       \\'\\',\\n       \\'## Physical Characteristics\\',\\n       \\'Pikas are typically 15-30 cm long and weigh between 120-500 grams. They have a stocky body covered with dense fur that can vary in color from brown to gray, allowing them to blend into their rocky habitats. Their short limbs and rounded ears help them adapt to cold climates.\\',\\n       \\'\\',\\n       \\'## Habitat\\',\\n       \\'Pikas are predominantly found in alpine and subalpine regions, where they inhabit rocky slopes and talus fields. They require cool environments to thrive, as they are sensitive to high temperatures. Their range is primarily in North America (such as the Rocky Mountains) and parts of Asia, including the Himalayas and the Tien Shan mountains.\\',\\n       \\'\\',\\n       \\'## Behavior and Diet\\',\\n       \\'Pikas are herbivores and primarily feed on a variety of vegetation, including grasses, herbs, and leaves. They have a unique behavior known as \"haymaking,\" where they gather and store food to survive the winter months. They do not hibernate but remain active during winter, relying on their stored food.\\',\\n       \\'\\',\\n       \\'## Reproduction\\',\\n       \\'Pikas typically breed once or twice a year, with a gestation period of about 30 days. Litter sizes can range from 1 to 6 offspring. Young pikas are precocial and are weaned within a few weeks, becoming independent shortly thereafter.\\',\\n       \\'\\',\\n       \\'## Conservation Status\\',\\n       \\'Pikas are increasingly threatened by climate change due to their sensitivity to temperature variations. Rising temperatures lead to habitat loss, as their preferred cold environments become less available. In some regions, pikas have been observed migrating to higher altitudes in search of cooler climates.\\',\\n       \\'\\',\\n       \\'## Conclusion\\',\\n       \\'Pikas are vital components of their ecosystems, and their health is indicative of environmental changes. Conservation efforts are essential to protect their habitats and ensure their survival in the face of climate change. Further research is needed to monitor pika populations and understand the impacts of rising temperatures on their ecology.\\',\\n       \\'\\',\\n       \\'## References\\',\\n       \\'1. Smith, A.T., & Weston, M.L. (1990). \"Pikas: A Study of Alpine Mammals.\" Journal of Mammalogy.\\',\\n       \\'2. Stewart, R.E. (2005). \"The Ecology of Pikas.\" Ecological Research.\\',\\n       \\'3. Beever, E.A., & Holt, M. (2009). \"Climate Change and Pikas: A Vulnerability Assessment.\" Global Change Biology.\\'\\n   ]\\n\\n   for line in content:\\n       pdf.multi_cell(0, 10, line)\\n\\n   pdf.output(\\'pikas_research_report.pdf\\')\\n   ```\\n\\n3. **Run the script** to generate the PDF report named `pikas_research_report.pdf` in the same directory.\\n\\nThis way, you will have the research report on pikas in PDF format. If you need any further assistance, let me know!', additional_kwargs={}, response_metadata={}, name='Coder')]}}\n",
      "----\n",
      "{'Supervisor': {'next': 'FINISH'}}\n",
      "----\n"
     ]
    }
   ],
   "source": [
    "for s in graph.stream(\n",
    "    {\"messages\": [HumanMessage(content=\"Write a brief pdf researh report on pikas.\")]},\n",
    "    {\"recursion_limit\": 100},\n",
    "):\n",
    "    if \"__end__\" not in s:\n",
    "        print(s)\n",
    "        print(\"----\")"
   ]
  }
 ],
 "metadata": {
  "kernelspec": {
   "display_name": "agent",
   "language": "python",
   "name": "python3"
  },
  "language_info": {
   "codemirror_mode": {
    "name": "ipython",
    "version": 3
   },
   "file_extension": ".py",
   "mimetype": "text/x-python",
   "name": "python",
   "nbconvert_exporter": "python",
   "pygments_lexer": "ipython3",
   "version": "3.10.6"
  }
 },
 "nbformat": 4,
 "nbformat_minor": 2
}
