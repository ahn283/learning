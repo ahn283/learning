{
 "cells": [
  {
   "cell_type": "code",
   "execution_count": 22,
   "metadata": {},
   "outputs": [],
   "source": [
    "from functools import partial\n",
    "import operator\n",
    "from typing import Annotated, Sequence, TypedDict, Literal\n",
    "from langchain_community.tools.tavily_search import TavilySearchResults\n",
    "from langchain_experimental.tools import PythonREPLTool\n",
    "from langchain_core.prompts import ChatPromptTemplate, MessagesPlaceholder\n",
    "from langchain_openai import ChatOpenAI\n",
    "from langchain_core.messages import HumanMessage, BaseMessage\n",
    "from pydantic import BaseModel\n",
    "from langgraph.graph import StateGraph, START, END\n",
    "from langgraph.prebuilt import create_react_agent\n",
    "import keyring\n",
    "import os\n",
    "from display_graph import display_graph\n",
    "\n",
    "# API KEY\n",
    "OPENAI_API_KEY = keyring.get_password('openai', 'key_for_mac')\n",
    "TAVILY_API_KEY = keyring.get_password('tavily', 'key_for_mac')\n",
    "os.environ['OPENAI_API_KEY'] = OPENAI_API_KEY\n",
    "os.environ['TAVILY_API_KEY'] = TAVILY_API_KEY\n",
    "\n",
    "# Tavily tool\n",
    "tavily_tool = TavilySearchResults(max_results=5)\n",
    "\n",
    "# Code execution tool\n",
    "python_repl_tool = PythonREPLTool()\n",
    "\n",
    "# Set up LangSmith observability\n",
    "os.environ['LANGCHAIN_TRACING_V2'] = 'true'\n",
    "os.environ['LANGCHAIN_ENDPOINT'] = \"https://api.smith.langchain.com\"\n",
    "os.environ['LANGCHAIN_API_KEY'] = keyring.get_password('langsmith', 'learning_agent')\n",
    "os.environ['LANGCHAIN_PROJECT'] = \"pr-stupendous-hood-8\""
   ]
  },
  {
   "cell_type": "code",
   "execution_count": 23,
   "metadata": {},
   "outputs": [],
   "source": [
    "# Define RouteResponse for Customer Service Supervisor\n",
    "class RouteResponseCS(BaseModel):\n",
    "    next: Literal[\"Query_Agent\", \"Resolution_Agent\", \"Escalation_Agent\", \"FINISH\"]\n",
    "\n",
    "# Setup for Customer Service Supervisor\n",
    "members_cs = [\"Query_Agent\", \"Resolution_Agent\", \"Escalation_Agent\"]\n",
    "system_prompt_cs = f\"You are a Customer Service Supervisor managing agents: {', '.join(members_cs)}.\"\n",
    "\n",
    "# Create prompt template for the supervisor with correctly formatted options\n",
    "prompt_cs = ChatPromptTemplate.from_messages([\n",
    "    (\"system\", system_prompt_cs),\n",
    "    MessagesPlaceholder(variable_name=\"messages\"),\n",
    "    (\"system\", \"Choose the next agent to act from {options}.\"),\n",
    "]).partial(options=str(members_cs))"
   ]
  },
  {
   "cell_type": "code",
   "execution_count": 24,
   "metadata": {},
   "outputs": [],
   "source": [
    "# Define LLM and Supervisor function\n",
    "llm = ChatOpenAI(model='gpt-4o-mini')\n",
    "\n",
    "def supervisor_agent_cs(state):\n",
    "    supervisor_chain_cs = prompt_cs | llm.with_structured_output(RouteResponseCS)\n",
    "    return supervisor_chain_cs.invoke(state)\n",
    "\n",
    "# Agent node function to handle message flow to each agent\n",
    "def agent_node(state, agent, name):\n",
    "    result = agent.invoke(state)\n",
    "    return {\n",
    "        \"messages\": [HumanMessage(content=result[\"messages\"][-1].content, name=name)]\n",
    "    }"
   ]
  },
  {
   "cell_type": "code",
   "execution_count": 25,
   "metadata": {},
   "outputs": [],
   "source": [
    "# Define agents for Customer Service tasks with realistic tools\n",
    "query_agent = create_react_agent(llm, tools=[tavily_tool])\n",
    "resolution_agent = create_react_agent(llm, tools=[python_repl_tool])\n",
    "escalation_agent = create_react_agent(llm, tools=[python_repl_tool])"
   ]
  },
  {
   "cell_type": "code",
   "execution_count": 26,
   "metadata": {},
   "outputs": [],
   "source": [
    "# Create nodes for each agent with valid names\n",
    "query_node = partial(agent_node, agent=query_agent, name=\"Query_Agent\")\n",
    "resolution_node = partial(agent_node, agent=resolution_agent, name=\"Resolution_Agent\")\n",
    "escalation_node = partial(agent_node, agent=escalation_agent, name=\"Escalation_Agent\")"
   ]
  },
  {
   "cell_type": "code",
   "execution_count": 27,
   "metadata": {},
   "outputs": [
    {
     "name": "stdout",
     "output_type": "stream",
     "text": [
      "/Users/woojin/Documents/github/learning/llm/langgraph/langgraph_blueprint/ch13/graphs/graph_36349.png\n"
     ]
    }
   ],
   "source": [
    "# Define Customer Service graph state and workflow\n",
    "class AgentState(TypedDict):\n",
    "    messages: Annotated[Sequence[BaseMessage], operator.add]\n",
    "    next: str\n",
    "    \n",
    "# Initialize StateGraph and add nodes\n",
    "workflow_cs = StateGraph(AgentState)\n",
    "workflow_cs.add_node(\"Query_Agent\", query_node)\n",
    "workflow_cs.add_node(\"Resolution_Agent\", resolution_agent)\n",
    "workflow_cs.add_node(\"Escalation_Agent\", escalation_node)\n",
    "workflow_cs.add_node(\"Supervisor\", supervisor_agent_cs)\n",
    "\n",
    "# Define edges for agents to return to the supervisor\n",
    "for member in members_cs:\n",
    "    workflow_cs.add_edge(member, \"Supervisor\")\n",
    "    \n",
    "# Define conditional map for routing\n",
    "conditional_map_cs = {k: k for k in members_cs}\n",
    "conditional_map_cs[\"FINISH\"] = END\n",
    "workflow_cs.add_conditional_edges(\"Supervisor\", lambda x: x[\"next\"], conditional_map_cs)\n",
    "workflow_cs.add_edge(START, \"Supervisor\")\n",
    "\n",
    "# Compile the grpah\n",
    "graph_cs = workflow_cs.compile()\n",
    "\n",
    "# Visualize the grpah\n",
    "display_graph(graph_cs)"
   ]
  },
  {
   "cell_type": "code",
   "execution_count": 32,
   "metadata": {},
   "outputs": [
    {
     "name": "stdout",
     "output_type": "stream",
     "text": [
      "{'Supervisor': {'next': 'Resolution_Agent'}}\n",
      "{'Resolution_Agent': {'messages': [HumanMessage(content='Help me reset my password.', additional_kwargs={}, response_metadata={}, id='59535a53-5292-43f0-8f21-62fff4e6ea19'), AIMessage(content='I can guide you through the steps to reset your password. Could you please specify which service or platform you need help with (e.g., email, social media, online banking, etc.)?', additional_kwargs={'refusal': None}, response_metadata={'token_usage': {'completion_tokens': 41, 'prompt_tokens': 84, 'total_tokens': 125, 'completion_tokens_details': {'accepted_prediction_tokens': 0, 'audio_tokens': 0, 'reasoning_tokens': 0, 'rejected_prediction_tokens': 0}, 'prompt_tokens_details': {'audio_tokens': 0, 'cached_tokens': 0}}, 'model_name': 'gpt-4o-mini-2024-07-18', 'system_fingerprint': 'fp_72ed7ab54c', 'finish_reason': 'stop', 'logprobs': None}, id='run-0f98d600-92f1-4401-a4e9-1628faff229a-0', usage_metadata={'input_tokens': 84, 'output_tokens': 41, 'total_tokens': 125, 'input_token_details': {'audio': 0, 'cache_read': 0}, 'output_token_details': {'audio': 0, 'reasoning': 0}})]}}\n",
      "{'Supervisor': {'next': 'Query_Agent'}}\n",
      "{'Query_Agent': {'messages': [HumanMessage(content='To help you reset your password, please specify the service or platform you are trying to access (e.g., Gmail, Facebook, etc.). This way, I can provide you with the appropriate steps!', additional_kwargs={}, response_metadata={}, name='Query_Agent')]}}\n",
      "{'Supervisor': {'next': 'Resolution_Agent'}}\n",
      "{'Resolution_Agent': {'messages': [HumanMessage(content='Help me reset my password.', additional_kwargs={}, response_metadata={}, id='59535a53-5292-43f0-8f21-62fff4e6ea19'), HumanMessage(content='Help me reset my password.', additional_kwargs={}, response_metadata={}, id='59535a53-5292-43f0-8f21-62fff4e6ea19'), AIMessage(content='I can guide you through the steps to reset your password. Could you please specify which service or platform you need help with (e.g., email, social media, online banking, etc.)?', additional_kwargs={'refusal': None}, response_metadata={'token_usage': {'completion_tokens': 41, 'prompt_tokens': 84, 'total_tokens': 125, 'completion_tokens_details': {'accepted_prediction_tokens': 0, 'audio_tokens': 0, 'reasoning_tokens': 0, 'rejected_prediction_tokens': 0}, 'prompt_tokens_details': {'audio_tokens': 0, 'cached_tokens': 0}}, 'model_name': 'gpt-4o-mini-2024-07-18', 'system_fingerprint': 'fp_72ed7ab54c', 'finish_reason': 'stop', 'logprobs': None}, id='run-0f98d600-92f1-4401-a4e9-1628faff229a-0', usage_metadata={'input_tokens': 84, 'output_tokens': 41, 'total_tokens': 125, 'input_token_details': {'audio': 0, 'cache_read': 0}, 'output_token_details': {'audio': 0, 'reasoning': 0}}), HumanMessage(content='To help you reset your password, please specify the service or platform you are trying to access (e.g., Gmail, Facebook, etc.). This way, I can provide you with the appropriate steps!', additional_kwargs={}, response_metadata={}, name='Query_Agent', id='a8359dea-dc93-4932-95d8-50041c1f0d8f'), AIMessage(content='Please specify which service or platform you are trying to reset your password for (e.g., Gmail, Facebook, etc.), so I can provide you with the appropriate steps!', additional_kwargs={'refusal': None}, response_metadata={'token_usage': {'completion_tokens': 36, 'prompt_tokens': 185, 'total_tokens': 221, 'completion_tokens_details': {'accepted_prediction_tokens': 0, 'audio_tokens': 0, 'reasoning_tokens': 0, 'rejected_prediction_tokens': 0}, 'prompt_tokens_details': {'audio_tokens': 0, 'cached_tokens': 0}}, 'model_name': 'gpt-4o-mini-2024-07-18', 'system_fingerprint': 'fp_bd83329f63', 'finish_reason': 'stop', 'logprobs': None}, id='run-48995d7e-0e4e-498b-a9ee-739f409b7641-0', usage_metadata={'input_tokens': 185, 'output_tokens': 36, 'total_tokens': 221, 'input_token_details': {'audio': 0, 'cache_read': 0}, 'output_token_details': {'audio': 0, 'reasoning': 0}})]}}\n",
      "{'Supervisor': {'next': 'Query_Agent'}}\n",
      "{'Query_Agent': {'messages': [HumanMessage(content='Please specify which service or platform you are trying to reset your password for (e.g., Gmail, Facebook, etc.), so I can provide you with the appropriate steps!', additional_kwargs={}, response_metadata={}, name='Query_Agent')]}}\n",
      "{'Supervisor': {'next': 'Resolution_Agent'}}\n",
      "{'Resolution_Agent': {'messages': [HumanMessage(content='Help me reset my password.', additional_kwargs={}, response_metadata={}, id='59535a53-5292-43f0-8f21-62fff4e6ea19'), HumanMessage(content='Help me reset my password.', additional_kwargs={}, response_metadata={}, id='59535a53-5292-43f0-8f21-62fff4e6ea19'), AIMessage(content='I can guide you through the steps to reset your password. Could you please specify which service or platform you need help with (e.g., email, social media, online banking, etc.)?', additional_kwargs={'refusal': None}, response_metadata={'token_usage': {'completion_tokens': 41, 'prompt_tokens': 84, 'total_tokens': 125, 'completion_tokens_details': {'accepted_prediction_tokens': 0, 'audio_tokens': 0, 'reasoning_tokens': 0, 'rejected_prediction_tokens': 0}, 'prompt_tokens_details': {'audio_tokens': 0, 'cached_tokens': 0}}, 'model_name': 'gpt-4o-mini-2024-07-18', 'system_fingerprint': 'fp_72ed7ab54c', 'finish_reason': 'stop', 'logprobs': None}, id='run-0f98d600-92f1-4401-a4e9-1628faff229a-0', usage_metadata={'input_tokens': 84, 'output_tokens': 41, 'total_tokens': 125, 'input_token_details': {'audio': 0, 'cache_read': 0}, 'output_token_details': {'audio': 0, 'reasoning': 0}}), HumanMessage(content='To help you reset your password, please specify the service or platform you are trying to access (e.g., Gmail, Facebook, etc.). This way, I can provide you with the appropriate steps!', additional_kwargs={}, response_metadata={}, name='Query_Agent', id='a8359dea-dc93-4932-95d8-50041c1f0d8f'), HumanMessage(content='Help me reset my password.', additional_kwargs={}, response_metadata={}, id='59535a53-5292-43f0-8f21-62fff4e6ea19'), HumanMessage(content='Help me reset my password.', additional_kwargs={}, response_metadata={}, id='59535a53-5292-43f0-8f21-62fff4e6ea19'), AIMessage(content='I can guide you through the steps to reset your password. Could you please specify which service or platform you need help with (e.g., email, social media, online banking, etc.)?', additional_kwargs={'refusal': None}, response_metadata={'token_usage': {'completion_tokens': 41, 'prompt_tokens': 84, 'total_tokens': 125, 'completion_tokens_details': {'accepted_prediction_tokens': 0, 'audio_tokens': 0, 'reasoning_tokens': 0, 'rejected_prediction_tokens': 0}, 'prompt_tokens_details': {'audio_tokens': 0, 'cached_tokens': 0}}, 'model_name': 'gpt-4o-mini-2024-07-18', 'system_fingerprint': 'fp_72ed7ab54c', 'finish_reason': 'stop', 'logprobs': None}, id='run-0f98d600-92f1-4401-a4e9-1628faff229a-0', usage_metadata={'input_tokens': 84, 'output_tokens': 41, 'total_tokens': 125, 'input_token_details': {'audio': 0, 'cache_read': 0}, 'output_token_details': {'audio': 0, 'reasoning': 0}}), HumanMessage(content='To help you reset your password, please specify the service or platform you are trying to access (e.g., Gmail, Facebook, etc.). This way, I can provide you with the appropriate steps!', additional_kwargs={}, response_metadata={}, name='Query_Agent', id='a8359dea-dc93-4932-95d8-50041c1f0d8f'), AIMessage(content='Please specify which service or platform you are trying to reset your password for (e.g., Gmail, Facebook, etc.), so I can provide you with the appropriate steps!', additional_kwargs={'refusal': None}, response_metadata={'token_usage': {'completion_tokens': 36, 'prompt_tokens': 185, 'total_tokens': 221, 'completion_tokens_details': {'accepted_prediction_tokens': 0, 'audio_tokens': 0, 'reasoning_tokens': 0, 'rejected_prediction_tokens': 0}, 'prompt_tokens_details': {'audio_tokens': 0, 'cached_tokens': 0}}, 'model_name': 'gpt-4o-mini-2024-07-18', 'system_fingerprint': 'fp_bd83329f63', 'finish_reason': 'stop', 'logprobs': None}, id='run-48995d7e-0e4e-498b-a9ee-739f409b7641-0', usage_metadata={'input_tokens': 185, 'output_tokens': 36, 'total_tokens': 221, 'input_token_details': {'audio': 0, 'cache_read': 0}, 'output_token_details': {'audio': 0, 'reasoning': 0}}), HumanMessage(content='Please specify which service or platform you are trying to reset your password for (e.g., Gmail, Facebook, etc.), so I can provide you with the appropriate steps!', additional_kwargs={}, response_metadata={}, name='Query_Agent', id='69ce5476-24d4-4057-917c-6fb6427960b5'), AIMessage(content='Please specify which service or platform you are trying to reset your password for (e.g., Gmail, Facebook, etc.), so I can provide you with the appropriate steps!', additional_kwargs={'refusal': None}, response_metadata={'token_usage': {'completion_tokens': 36, 'prompt_tokens': 376, 'total_tokens': 412, 'completion_tokens_details': {'accepted_prediction_tokens': 0, 'audio_tokens': 0, 'reasoning_tokens': 0, 'rejected_prediction_tokens': 0}, 'prompt_tokens_details': {'audio_tokens': 0, 'cached_tokens': 0}}, 'model_name': 'gpt-4o-mini-2024-07-18', 'system_fingerprint': 'fp_bd83329f63', 'finish_reason': 'stop', 'logprobs': None}, id='run-ab417290-8d39-4083-8a0d-dff1d9350b10-0', usage_metadata={'input_tokens': 376, 'output_tokens': 36, 'total_tokens': 412, 'input_token_details': {'audio': 0, 'cache_read': 0}, 'output_token_details': {'audio': 0, 'reasoning': 0}})]}}\n"
     ]
    },
    {
     "ename": "GraphRecursionError",
     "evalue": "Recursion limit of 10 reached without hitting a stop condition. You can increase the limit by setting the `recursion_limit` config key.\nFor troubleshooting, visit: https://python.langchain.com/docs/troubleshooting/errors/GRAPH_RECURSION_LIMIT",
     "output_type": "error",
     "traceback": [
      "\u001b[0;31m---------------------------------------------------------------------------\u001b[0m",
      "\u001b[0;31mGraphRecursionError\u001b[0m                       Traceback (most recent call last)",
      "Cell \u001b[0;32mIn[32], line 5\u001b[0m\n\u001b[1;32m      2\u001b[0m inputs_cs \u001b[38;5;241m=\u001b[39m {\u001b[38;5;124m\"\u001b[39m\u001b[38;5;124mmessages\u001b[39m\u001b[38;5;124m\"\u001b[39m: [HumanMessage(content\u001b[38;5;241m=\u001b[39m\u001b[38;5;124m\"\u001b[39m\u001b[38;5;124mHelp me reset my password.\u001b[39m\u001b[38;5;124m\"\u001b[39m)]}\n\u001b[1;32m      4\u001b[0m \u001b[38;5;66;03m# Run the graph\u001b[39;00m\n\u001b[0;32m----> 5\u001b[0m \u001b[38;5;28;01mfor\u001b[39;00m output \u001b[38;5;129;01min\u001b[39;00m graph_cs\u001b[38;5;241m.\u001b[39mstream(inputs_cs, {\u001b[38;5;124m\"\u001b[39m\u001b[38;5;124mrecursion_limit\u001b[39m\u001b[38;5;124m\"\u001b[39m:\u001b[38;5;241m10\u001b[39m}):\n\u001b[1;32m      6\u001b[0m     \u001b[38;5;28;01mif\u001b[39;00m \u001b[38;5;124m\"\u001b[39m\u001b[38;5;124m__end__\u001b[39m\u001b[38;5;124m\"\u001b[39m \u001b[38;5;129;01mnot\u001b[39;00m \u001b[38;5;129;01min\u001b[39;00m output:\n\u001b[1;32m      7\u001b[0m         \u001b[38;5;28mprint\u001b[39m(output)\n",
      "File \u001b[0;32m~/anaconda3/envs/agent/lib/python3.10/site-packages/langgraph/pregel/__init__.py:1680\u001b[0m, in \u001b[0;36mPregel.stream\u001b[0;34m(self, input, config, stream_mode, output_keys, interrupt_before, interrupt_after, debug, subgraphs)\u001b[0m\n\u001b[1;32m   1671\u001b[0m \u001b[38;5;28;01mif\u001b[39;00m loop\u001b[38;5;241m.\u001b[39mstatus \u001b[38;5;241m==\u001b[39m \u001b[38;5;124m\"\u001b[39m\u001b[38;5;124mout_of_steps\u001b[39m\u001b[38;5;124m\"\u001b[39m:\n\u001b[1;32m   1672\u001b[0m     msg \u001b[38;5;241m=\u001b[39m create_error_message(\n\u001b[1;32m   1673\u001b[0m         message\u001b[38;5;241m=\u001b[39m(\n\u001b[1;32m   1674\u001b[0m             \u001b[38;5;124mf\u001b[39m\u001b[38;5;124m\"\u001b[39m\u001b[38;5;124mRecursion limit of \u001b[39m\u001b[38;5;132;01m{\u001b[39;00mconfig[\u001b[38;5;124m'\u001b[39m\u001b[38;5;124mrecursion_limit\u001b[39m\u001b[38;5;124m'\u001b[39m]\u001b[38;5;132;01m}\u001b[39;00m\u001b[38;5;124m reached \u001b[39m\u001b[38;5;124m\"\u001b[39m\n\u001b[0;32m   (...)\u001b[0m\n\u001b[1;32m   1678\u001b[0m         error_code\u001b[38;5;241m=\u001b[39mErrorCode\u001b[38;5;241m.\u001b[39mGRAPH_RECURSION_LIMIT,\n\u001b[1;32m   1679\u001b[0m     )\n\u001b[0;32m-> 1680\u001b[0m     \u001b[38;5;28;01mraise\u001b[39;00m GraphRecursionError(msg)\n\u001b[1;32m   1681\u001b[0m \u001b[38;5;66;03m# set final channel values as run output\u001b[39;00m\n\u001b[1;32m   1682\u001b[0m run_manager\u001b[38;5;241m.\u001b[39mon_chain_end(loop\u001b[38;5;241m.\u001b[39moutput)\n",
      "\u001b[0;31mGraphRecursionError\u001b[0m: Recursion limit of 10 reached without hitting a stop condition. You can increase the limit by setting the `recursion_limit` config key.\nFor troubleshooting, visit: https://python.langchain.com/docs/troubleshooting/errors/GRAPH_RECURSION_LIMIT"
     ]
    }
   ],
   "source": [
    "# Example input for testing\n",
    "inputs_cs = {\"messages\": [HumanMessage(content=\"Help me reset my password.\")]}\n",
    "\n",
    "# Run the graph\n",
    "for output in graph_cs.stream(inputs_cs, {\"recursion_limit\":10}):\n",
    "    if \"__end__\" not in output:\n",
    "        print(output)"
   ]
  }
 ],
 "metadata": {
  "kernelspec": {
   "display_name": "agent",
   "language": "python",
   "name": "python3"
  },
  "language_info": {
   "codemirror_mode": {
    "name": "ipython",
    "version": 3
   },
   "file_extension": ".py",
   "mimetype": "text/x-python",
   "name": "python",
   "nbconvert_exporter": "python",
   "pygments_lexer": "ipython3",
   "version": "3.10.6"
  }
 },
 "nbformat": 4,
 "nbformat_minor": 2
}
