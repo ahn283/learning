{
 "cells": [
  {
   "cell_type": "code",
   "execution_count": 9,
   "metadata": {},
   "outputs": [],
   "source": [
    "import os\n",
    "import keyring\n",
    "from functools import partial\n",
    "from typing import Annotated, Sequence, TypedDict, Literal\n",
    "import yfinance as yf \n",
    "from langchain_community.tools.tavily_search import TavilySearchResults\n",
    "from langchain_openai import ChatOpenAI\n",
    "from langchain_core.prompts import ChatPromptTemplate, MessagesPlaceholder\n",
    "from langchain_core.messages import HumanMessage, BaseMessage\n",
    "from pydantic import BaseModel\n",
    "from langgraph.graph import StateGraph, START, END\n",
    "from langgraph.prebuilt import create_react_agent\n",
    "import functools\n",
    "import operator\n",
    "from display_graph import display_graph\n",
    "\n",
    "# API KEY\n",
    "OPENAI_API_KEY = keyring.get_password('openai', 'key_for_mac')\n",
    "TAVILY_API_KEY = keyring.get_password('tavily', 'key_for_mac')\n",
    "os.environ['OPENAI_API_KEY'] = OPENAI_API_KEY\n",
    "os.environ['TAVILY_API_KEY'] = TAVILY_API_KEY\n",
    "\n",
    "# Tavily tool\n",
    "tavily_tool = TavilySearchResults(max_results=5)\n",
    "\n",
    "# Set up LangSmith observability\n",
    "os.environ['LANGCHAIN_TRACING_V2'] = 'true'\n",
    "os.environ['LANGCHAIN_ENDPOINT'] = \"https://api.smith.langchain.com\"\n",
    "os.environ['LANGCHAIN_API_KEY'] = keyring.get_password('langsmith', 'learning_agent')\n",
    "os.environ['LANGCHAIN_PROJECT'] = \"pr-stupendous-hood-8\""
   ]
  },
  {
   "cell_type": "code",
   "execution_count": 14,
   "metadata": {},
   "outputs": [],
   "source": [
    "# LLM definition\n",
    "llm = ChatOpenAI(model='gpt-4o-mini')\n",
    "\n",
    "# Route responses structure for supervisor's decision\n",
    "class RouteResponseFin(BaseModel):\n",
    "    next: Literal[\"Market_Data_Agent\", \"Analysis_Agent\", \"News_Agent\", \"FINISH\"]\n",
    "\n",
    "# Define agent members\n",
    "members_fin = [\"Market_Data_Agent\", \"Analysis_Agent\", \"News_Agent\"]\n",
    "\n",
    "# Supervisor prompt setup\n",
    "system_prompt_fin = (\n",
    "    \"You are a Financial Service Supervisor managing the following agents: \"\n",
    "    f\"{', '.join(members_fin)}. Select the next agent to handle the current query.\"\n",
    ")\n",
    "\n",
    "prompt_fin = ChatPromptTemplate.from_messages([\n",
    "    (\"system\", system_prompt_fin),\n",
    "    MessagesPlaceholder(variable_name=\"messages\"),\n",
    "    (\"system\", \"Choose the next agent from: {options}.\"),\n",
    "]).partial(options=str(members_fin))\n",
    "\n",
    "# Supervisor Agent\n",
    "def supervisor_agent_fin(state):\n",
    "    supevisor_chain_fin = prompt_fin | llm.with_structured_output(RouteResponseFin)\n",
    "    return supevisor_chain_fin.invoke(state)"
   ]
  },
  {
   "cell_type": "code",
   "execution_count": 15,
   "metadata": {},
   "outputs": [],
   "source": [
    "# Define Tools and Agents Prompt\n",
    "\n",
    "# 1. Market Data Tool and Agent Prompt\n",
    "def fetch_stock_price(query):\n",
    "    \"\"\"Fetch the current stock price of a given stock symbol.\"\"\"\n",
    "    stock_symbol = query.split()[-1]\n",
    "    stock = yf.Ticker(stock_symbol)\n",
    "    try:\n",
    "        current_price = stock.info.get(\"currentPrice\")\n",
    "        return f\"The current stock price of {stock_symbol}: ${current_price}\"\n",
    "    except Exception as e:\n",
    "        return f\"Error retrieving stock data for {stock_symbol}: {str(e)}\"\n",
    "    \n",
    "def agent_node(state, agent, name):\n",
    "    result = agent.invoke(state)\n",
    "    print(f\"{name} Output: {result['messages'][-1].content}\")\n",
    "    return {\n",
    "        \"messages\": [HumanMessage(content=result[\"messages\"][-1].content, name=name)]\n",
    "    }\n",
    "\n",
    "marekt_data_prompt = (\n",
    "    \"You are the Market Data Agent. Your role is to retrieve latest stock prices or \"\n",
    "    \"market information based on user queries. Ensure your repsonse includes the current price \"\n",
    "    \"and any relevant market details if available.\"\n",
    ")\n",
    "\n",
    "market_data_agent = create_react_agent(llm, tools=[fetch_stock_price], state_modifier=marekt_data_prompt)\n",
    "market_data_node = functools.partial(agent_node, agent=market_data_agent, name=\"Market_Data_Agent\")"
   ]
  },
  {
   "cell_type": "code",
   "execution_count": 16,
   "metadata": {},
   "outputs": [],
   "source": [
    "# 2. Financial Analysis Tool and Agent Prompt\n",
    "def perform_financial_analysis(query):\n",
    "    \"\"\"Perform financial analysis based on user query.\"\"\"\n",
    "    if \"ROI\" in query:\n",
    "        initial_investment = 1000\n",
    "        final_value = 1200\n",
    "        roi = ((final_value - initial_investment) / initial_investment) * 100\n",
    "        return f\"For an initial investment of ${initial_investment} yielding ${final_value}, the ROI is {roi}%.\"\n",
    "    return \"No relevant financial analysis found.\"\n",
    "\n",
    "analysis_prompt = (\n",
    "    \"You are the Finanacial Analysis Agent. Analyze the financial data provided in the query. \"\n",
    "    \"Perform calculations like ROI, growth rate, or other financial metrics as required. \"\n",
    "    \"Provide a clear an concise response. \"\n",
    "    \"Only use the following tools: \"\n",
    "    \"perfom_financial_analysis\"\n",
    ")\n",
    "\n",
    "analysis_agent = create_react_agent(llm, tools=[perform_financial_analysis], state_modifier=analysis_prompt)\n",
    "analysis_node = functools.partial(agent_node, agent=analysis_agent, name=\"Analysis_Agent\")"
   ]
  },
  {
   "cell_type": "code",
   "execution_count": 17,
   "metadata": {},
   "outputs": [],
   "source": [
    "# 3. Finanacial News Tool and Agent Prompt\n",
    "financial_news_tool = TavilySearchResults(max_results=5)\n",
    "news_prompt = (\n",
    "    \"You are the Financial News Agent. Retrieve the latest news articles relevant to the user's query. \"\n",
    "    \"Use search tools to gather up-to-date information and summarize key points. \"\n",
    "    \"Do not quote sources, just give a summary.\"\n",
    ")\n",
    "financial_news_agent = create_react_agent(llm, tools=[financial_news_tool], state_modifier=news_prompt)\n",
    "financial_news_node = functools.partial(agent_node, agent=financial_news_agent, name=\"News_Agent\")\n"
   ]
  },
  {
   "cell_type": "code",
   "execution_count": 19,
   "metadata": {},
   "outputs": [
    {
     "name": "stdout",
     "output_type": "stream",
     "text": [
      "/Users/woojin/Documents/github/learning/llm/langgraph/langgraph_blueprint/ch13/graphs/graph_73626.png\n"
     ]
    }
   ],
   "source": [
    "# Define workflow state\n",
    "class AgentState(TypedDict):\n",
    "    messages: Annotated[Sequence[BaseMessage], operator.add]\n",
    "    next: str\n",
    "\n",
    "# Define the workflow with the supervisor and agent nodes\n",
    "workflow_fin = StateGraph(AgentState)\n",
    "workflow_fin.add_node(\"Market_Data_Agent\", market_data_node)\n",
    "workflow_fin.add_node(\"Analysis_Agent\", analysis_node)\n",
    "workflow_fin.add_node(\"News_Agent\", financial_news_node)\n",
    "workflow_fin.add_node(\"Supervisor\", supervisor_agent_fin)\n",
    "\n",
    "# Define edges for agents to return to the supervisor\n",
    "for member in members_fin:\n",
    "    workflow_fin.add_edge(member, \"Supervisor\")\n",
    "\n",
    "# Conditional map for routing based on supervisor's decision\n",
    "conditional_map_fin = {\n",
    "    \"Market_Data_Agent\": \"Market_Data_Agent\",\n",
    "    \"Analysis_Agent\": \"Analysis_Agent\",\n",
    "    \"News_Agent\": \"News_Agent\",\n",
    "    \"FINISH\": END\n",
    "}\n",
    "workflow_fin.add_conditional_edges(\"Supervisor\", lambda x: x[\"next\"], conditional_map_fin)\n",
    "workflow_fin.add_edge(START, \"Supervisor\")\n",
    "\n",
    "# Compile the graph\n",
    "graph_fin = workflow_fin.compile()\n",
    "\n",
    "# Visualize the graph\n",
    "display_graph(graph_fin)"
   ]
  },
  {
   "cell_type": "code",
   "execution_count": 20,
   "metadata": {},
   "outputs": [
    {
     "name": "stdout",
     "output_type": "stream",
     "text": [
      "{'Supervisor': {'next': 'Market_Data_Agent'}}\n",
      "Market_Data_Agent Output: The current stock price of Apple Inc. (AAPL) is $229.98.\n",
      "{'Market_Data_Agent': {'messages': [HumanMessage(content='The current stock price of Apple Inc. (AAPL) is $229.98.', additional_kwargs={}, response_metadata={}, name='Market_Data_Agent')]}}\n",
      "{'Supervisor': {'next': 'FINISH'}}\n"
     ]
    }
   ],
   "source": [
    "# Testing the workflow with an example input\n",
    "inputs_fin = {\"messages\": [HumanMessage(content=\"What is the stock price of AAPL?\")]}\n",
    "for output in graph_fin.stream(inputs_fin):\n",
    "    if \"__end__\" not in output:\n",
    "        print(output)"
   ]
  }
 ],
 "metadata": {
  "kernelspec": {
   "display_name": "agent",
   "language": "python",
   "name": "python3"
  },
  "language_info": {
   "codemirror_mode": {
    "name": "ipython",
    "version": 3
   },
   "file_extension": ".py",
   "mimetype": "text/x-python",
   "name": "python",
   "nbconvert_exporter": "python",
   "pygments_lexer": "ipython3",
   "version": "3.10.6"
  }
 },
 "nbformat": 4,
 "nbformat_minor": 2
}
