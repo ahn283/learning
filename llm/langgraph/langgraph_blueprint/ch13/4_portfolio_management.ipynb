{
 "cells": [
  {
   "cell_type": "code",
   "execution_count": 5,
   "metadata": {},
   "outputs": [],
   "source": [
    "import os\n",
    "import finnhub\n",
    "from functools import partial\n",
    "from typing import Annotated, Sequence, TypedDict, Literal\n",
    "from langchain_community.tools.tavily_search import TavilySearchResults\n",
    "from langchain_openai import ChatOpenAI\n",
    "from langchain_core.prompts import ChatPromptTemplate, MessagesPlaceholder\n",
    "from langchain_core.messages import HumanMessage, BaseMessage\n",
    "from pydantic import BaseModel\n",
    "from langgraph.graph import StateGraph, START, END\n",
    "from langgraph.prebuilt import create_react_agent\n",
    "import functools\n",
    "import operator\n",
    "import keyring\n",
    "from display_graph import display_graph\n",
    "\n",
    "# API KEY\n",
    "OPENAI_API_KEY = keyring.get_password('openai', 'key_for_mac')\n",
    "TAVILY_API_KEY = keyring.get_password('tavily', 'key_for_mac')\n",
    "os.environ['OPENAI_API_KEY'] = OPENAI_API_KEY\n",
    "os.environ['TAVILY_API_KEY'] = TAVILY_API_KEY\n",
    "\n",
    "# Tavily tool\n",
    "tavily_tool = TavilySearchResults(max_results=5)\n",
    "\n",
    "# Set up LangSmith observability\n",
    "os.environ['LANGCHAIN_TRACING_V2'] = 'true'\n",
    "os.environ['LANGCHAIN_ENDPOINT'] = \"https://api.smith.langchain.com\"\n",
    "os.environ['LANGCHAIN_API_KEY'] = keyring.get_password('langsmith', 'learning_agent')\n",
    "os.environ['LANGCHAIN_PROJECT'] = \"pr-stupendous-hood-8\""
   ]
  },
  {
   "cell_type": "code",
   "execution_count": 6,
   "metadata": {},
   "outputs": [],
   "source": [
    "# Initialize the Finnhub client with your API key\n",
    "finnhub_client = finnhub.Client(api_key=keyring.get_password('finnhub', 'key_for_mac'))\n",
    "\n",
    "# Set up LLM\n",
    "llm = ChatOpenAI(model='gpt-4o-mini')"
   ]
  },
  {
   "cell_type": "code",
   "execution_count": 7,
   "metadata": {},
   "outputs": [],
   "source": [
    "# Define Route Response structure for supervisor's decision\n",
    "class RouteResponseFin(BaseModel):\n",
    "    next: Literal[\"Portfolio_Analysis_Agent\", \"Market_Research_Agent\", \"Risk_Assessment_Agent\", \"FINISH\"]\n",
    "    \n",
    "# Supervisor prompt\n",
    "system_prompt_fin = (\n",
    "    \"You are a Financial Supervisor managing the following agents: Portfolio Analysis, Market Research, and Risk Assessment.\"\n",
    "    \" Select the next agent based on the user's query.\"\n",
    ")\n",
    "prompt_fin = ChatPromptTemplate.from_messages([\n",
    "    (\"system\", system_prompt_fin),\n",
    "    MessagesPlaceholder(variable_name=\"messages\"),\n",
    "    (\"system\", \"Choose the next agent from: {options}.\")\n",
    "]).partial(options=\"['Portfolio_Analysis_Agent', 'Market_Research_Agent', 'Risk_Assessment_Agent', 'FINISH']\")\n",
    "\n",
    "# Supervisor Agent function\n",
    "def supervisor_agent_fin(state):\n",
    "    supervisor_chain_fin = prompt_fin | llm.with_structured_output(RouteResponseFin)\n",
    "    return supervisor_chain_fin.invoke(state)\n",
    "\n",
    "# Define Agent Node function\n",
    "def agent_node(state, agent, name):\n",
    "    result = agent.invoke(state)\n",
    "    return {\"messages\": [HumanMessage(content=result[\"messages\"][-1].content, name=name)]}"
   ]
  },
  {
   "cell_type": "code",
   "execution_count": 8,
   "metadata": {},
   "outputs": [],
   "source": [
    "# Portfolio Analysis Agent\n",
    "def portfolio_analysis(query):\n",
    "    \"\"\"Fetch basic financial metrics using Finnhub API\"\"\"\n",
    "    try:\n",
    "        stock_symbol = query.split()[-1]\n",
    "        financials = finnhub_client.company_basic_financials(stock_symbol, 'all')\n",
    "        metrics = financials.get('metric', {})\n",
    "        response = (\n",
    "            f\"Portfolio Analysis for {stock_symbol}: P/E Ratio: {metrics.get('peRatio')}, \"\n",
    "            f\"Revenue Growh: {metrics.get('revenueGrowth')}, \"\n",
    "            f\"52-Week High: {metrics.get('52WeekHigh')}, 52-Week Low: {metrics.get('52WeekLow')}\"\n",
    "        )\n",
    "        return response\n",
    "    except Exception as e:\n",
    "        return f\"Error in fetching portfolio data: {str(e)}\"\n",
    "    \n",
    "portfolio_agent = create_react_agent(llm, tools=[portfolio_analysis], state_modifier=\"Portfolio Analysis Agent\")\n",
    "portfolio_analysis_node = partial(agent_node, agent=portfolio_agent, name=\"Portfolio_Analysis_Agent\")"
   ]
  },
  {
   "cell_type": "code",
   "execution_count": 9,
   "metadata": {},
   "outputs": [],
   "source": [
    "# Market Research Agent\n",
    "def marker_research(query):\n",
    "    \"\"\" Get latest market news and sentiment \"\"\"\n",
    "    news = finnhub_client.general_news(\"general\")\n",
    "    top_news = news[:3]     # Retrieve top 3 news items for brevity\n",
    "    response = \"Latest Market News:\\n\" + \"\\n\".join(\n",
    "        f\"{item['headline']} - {item['source']} {item['url']}\" for item in top_news\n",
    "    )\n",
    "    return response\n",
    "\n",
    "market_research_agent = create_react_agent(llm, tools=[marker_research], state_modifier=\"Market Research Agent\")\n",
    "market_research_node = partial(agent_node, agent=market_research_agent, name=\"Market_Research_Agent\")"
   ]
  },
  {
   "cell_type": "code",
   "execution_count": 10,
   "metadata": {},
   "outputs": [],
   "source": [
    "# Risk Assessment Agent\n",
    "def risk_assessment(query):\n",
    "    \"\"\" Perform basic risk evaluation using volatility metrics (example)\"\"\"\n",
    "    try:\n",
    "        stock_symbol = query.split()[-1]\n",
    "        qoute = finnhub_client.quote(stock_symbol)\n",
    "        price_change = qoute.get(\"dp\", 0)\n",
    "        risk_level = \"High Risk\" if abs(price_change) > 5 else \"Moderate Risk\" if abs(price_change) > 2 else \"Low Risk\"\n",
    "        return f\"Risk Assessment for {stock_symbol}: Price Change: {price_change}\"\n",
    "    except Exception as e:\n",
    "        return f\"Error in assessing risk: {str(e)}\"\n",
    "    \n",
    "risk_assessment_agent = create_react_agent(llm, tools=[risk_assessment], state_modifier=\"Risk Assessment Agent\")\n",
    "risk_assessment_node = partial(agent_node, agent=risk_assessment_agent, name=\"Risk_Assessment_Agent\")"
   ]
  },
  {
   "cell_type": "code",
   "execution_count": 13,
   "metadata": {},
   "outputs": [
    {
     "name": "stdout",
     "output_type": "stream",
     "text": [
      "/Users/woojin/Documents/github/learning/llm/langgraph/langgraph_blueprint/ch13/graphs/graph_27778.png\n"
     ]
    }
   ],
   "source": [
    "# Define Workflow State\n",
    "class AgentState(TypedDict):\n",
    "    messages: Annotated[Sequence[BaseMessage], operator.add]\n",
    "    next: str\n",
    "    \n",
    "# Set up the workflow\n",
    "workflow_fin = StateGraph(AgentState)\n",
    "workflow_fin.add_node(\"Portfolio_Analysis_Agent\", portfolio_analysis_node)\n",
    "workflow_fin.add_node(\"Market_Research_Agent\", market_research_node)\n",
    "workflow_fin.add_node(\"Risk_Assessment_Agent\", risk_assessment_node)\n",
    "workflow_fin.add_node(\"Supervisor\", supervisor_agent_fin)\n",
    "\n",
    "# Define routing for agents ro return to the supervisor\n",
    "for member in [\"Portfolio_Analysis_Agent\", \"Market_Research_Agent\", \"Risk_Assessment_Agent\"]:\n",
    "    workflow_fin.add_edge(member, \"Supervisor\")\n",
    "    \n",
    "# Define the supervisor's routing decision\n",
    "conditional_map_fin = {\n",
    "    \"Portfolio_Analysis_Agent\": \"Portfolio_Analysis_Agent\",\n",
    "    \"Market_Research_Agent\": \"Market_Research_Agent\",\n",
    "    \"Risk_Assessment_Agent\": \"Risk_Assessment_Agent\",\n",
    "    \"FINISH\": END\n",
    "}\n",
    "workflow_fin.add_conditional_edges(\"Supervisor\", lambda x: x[\"next\"], conditional_map_fin)\n",
    "workflow_fin.add_edge(START, \"Supervisor\")\n",
    "\n",
    "# Compile the workflow\n",
    "graph_fin = workflow_fin.compile()\n",
    "\n",
    "# Visualize the graph\n",
    "display_graph(graph_fin)"
   ]
  },
  {
   "cell_type": "code",
   "execution_count": 15,
   "metadata": {},
   "outputs": [
    {
     "name": "stdout",
     "output_type": "stream",
     "text": [
      "{'messages': [HumanMessage(content='Analyze the portfolio for AAPL.', additional_kwargs={}, response_metadata={})]}\n",
      "{'messages': [HumanMessage(content='Analyze the portfolio for AAPL.', additional_kwargs={}, response_metadata={})], 'next': 'Portfolio_Analysis_Agent'}\n",
      "{'messages': [HumanMessage(content='Analyze the portfolio for AAPL.', additional_kwargs={}, response_metadata={}, id='252bdeec-3407-448d-801b-fd1daaae6d27'), HumanMessage(content=\"Here's the portfolio analysis for Apple Inc. (AAPL):\\n\\n- **P/E Ratio**: None\\n- **Revenue Growth**: None\\n- **52-Week High**: $260.10\\n- **52-Week Low**: $164.08\\n\\nIf you need further insights or analysis, let me know!\", additional_kwargs={}, response_metadata={}, name='Portfolio_Analysis_Agent')], 'next': 'Portfolio_Analysis_Agent'}\n",
      "{'messages': [HumanMessage(content='Analyze the portfolio for AAPL.', additional_kwargs={}, response_metadata={}, id='252bdeec-3407-448d-801b-fd1daaae6d27'), HumanMessage(content=\"Here's the portfolio analysis for Apple Inc. (AAPL):\\n\\n- **P/E Ratio**: None\\n- **Revenue Growth**: None\\n- **52-Week High**: $260.10\\n- **52-Week Low**: $164.08\\n\\nIf you need further insights or analysis, let me know!\", additional_kwargs={}, response_metadata={}, name='Portfolio_Analysis_Agent')], 'next': 'FINISH'}\n"
     ]
    }
   ],
   "source": [
    "# Test with Example Query\n",
    "inputs_fin = {\"messages\": [HumanMessage(content=\"Analyze the portfolio for AAPL.\")]}\n",
    "for output in graph_fin.stream(inputs_fin, stream_mode=\"values\"):\n",
    "    print(output)"
   ]
  }
 ],
 "metadata": {
  "kernelspec": {
   "display_name": "agent",
   "language": "python",
   "name": "python3"
  },
  "language_info": {
   "codemirror_mode": {
    "name": "ipython",
    "version": 3
   },
   "file_extension": ".py",
   "mimetype": "text/x-python",
   "name": "python",
   "nbconvert_exporter": "python",
   "pygments_lexer": "ipython3",
   "version": "3.10.6"
  }
 },
 "nbformat": 4,
 "nbformat_minor": 2
}
