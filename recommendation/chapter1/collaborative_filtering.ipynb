{
 "cells": [
  {
   "cell_type": "code",
   "execution_count": 1,
   "metadata": {},
   "outputs": [
    {
     "name": "stderr",
     "output_type": "stream",
     "text": [
      "C:\\Users\\ahn28\\AppData\\Local\\Temp\\ipykernel_21460\\2516287800.py:10: DtypeWarning: Columns (4) have mixed types. Specify dtype option on import or set low_memory=False.\n",
      "  books = pd.read_csv('./data/03_BX-Books.csv', index_col=0)\n"
     ]
    }
   ],
   "source": [
    "import pandas as pd\n",
    "import numpy as np \n",
    "from sklearn.metrics.pairwise import cosine_similarity\n",
    "from sklearn.model_selection import train_test_split\n",
    "from sklearn.metrics import precision_score, recall_score\n",
    "\n",
    "# Load the data\n",
    "ratings = pd.read_csv('./data/01_BX-Book-Ratings.csv', index_col=0)\n",
    "users = pd.read_csv('./data/02_BX-Users.csv', index_col=0)\n",
    "books = pd.read_csv('./data/03_BX-Books.csv', index_col=0)"
   ]
  },
  {
   "cell_type": "code",
   "execution_count": 2,
   "metadata": {},
   "outputs": [
    {
     "data": {
      "text/html": [
       "<div>\n",
       "<style scoped>\n",
       "    .dataframe tbody tr th:only-of-type {\n",
       "        vertical-align: middle;\n",
       "    }\n",
       "\n",
       "    .dataframe tbody tr th {\n",
       "        vertical-align: top;\n",
       "    }\n",
       "\n",
       "    .dataframe thead th {\n",
       "        text-align: right;\n",
       "    }\n",
       "</style>\n",
       "<table border=\"1\" class=\"dataframe\">\n",
       "  <thead>\n",
       "    <tr style=\"text-align: right;\">\n",
       "      <th></th>\n",
       "      <th>User-ID</th>\n",
       "      <th>Book-Rating</th>\n",
       "      <th>Book-Title</th>\n",
       "    </tr>\n",
       "  </thead>\n",
       "  <tbody>\n",
       "    <tr>\n",
       "      <th>0</th>\n",
       "      <td>276725</td>\n",
       "      <td>0</td>\n",
       "      <td>Flesh Tones: A Novel</td>\n",
       "    </tr>\n",
       "    <tr>\n",
       "      <th>1</th>\n",
       "      <td>276726</td>\n",
       "      <td>5</td>\n",
       "      <td>Rites of Passage</td>\n",
       "    </tr>\n",
       "    <tr>\n",
       "      <th>2</th>\n",
       "      <td>276727</td>\n",
       "      <td>0</td>\n",
       "      <td>The Notebook</td>\n",
       "    </tr>\n",
       "    <tr>\n",
       "      <th>3</th>\n",
       "      <td>276729</td>\n",
       "      <td>3</td>\n",
       "      <td>Help!: Level 1</td>\n",
       "    </tr>\n",
       "    <tr>\n",
       "      <th>4</th>\n",
       "      <td>276729</td>\n",
       "      <td>6</td>\n",
       "      <td>The Amsterdam Connection : Level 4 (Cambridge ...</td>\n",
       "    </tr>\n",
       "    <tr>\n",
       "      <th>...</th>\n",
       "      <td>...</td>\n",
       "      <td>...</td>\n",
       "      <td>...</td>\n",
       "    </tr>\n",
       "    <tr>\n",
       "      <th>1031131</th>\n",
       "      <td>276704</td>\n",
       "      <td>0</td>\n",
       "      <td>Edgar Cayce on the Akashic Records: The Book o...</td>\n",
       "    </tr>\n",
       "    <tr>\n",
       "      <th>1031132</th>\n",
       "      <td>276704</td>\n",
       "      <td>9</td>\n",
       "      <td>Get Clark Smart : The Ultimate Guide for the S...</td>\n",
       "    </tr>\n",
       "    <tr>\n",
       "      <th>1031133</th>\n",
       "      <td>276706</td>\n",
       "      <td>0</td>\n",
       "      <td>Eight Weeks to Optimum Health: A Proven Progra...</td>\n",
       "    </tr>\n",
       "    <tr>\n",
       "      <th>1031134</th>\n",
       "      <td>276709</td>\n",
       "      <td>10</td>\n",
       "      <td>The Sherbrooke Bride (Bride Trilogy (Paperback))</td>\n",
       "    </tr>\n",
       "    <tr>\n",
       "      <th>1031135</th>\n",
       "      <td>276721</td>\n",
       "      <td>10</td>\n",
       "      <td>Fourth Grade Rats</td>\n",
       "    </tr>\n",
       "  </tbody>\n",
       "</table>\n",
       "<p>1031136 rows × 3 columns</p>\n",
       "</div>"
      ],
      "text/plain": [
       "         User-ID  ...                                         Book-Title\n",
       "0         276725  ...                               Flesh Tones: A Novel\n",
       "1         276726  ...                                   Rites of Passage\n",
       "2         276727  ...                                       The Notebook\n",
       "3         276729  ...                                     Help!: Level 1\n",
       "4         276729  ...  The Amsterdam Connection : Level 4 (Cambridge ...\n",
       "...          ...  ...                                                ...\n",
       "1031131   276704  ...  Edgar Cayce on the Akashic Records: The Book o...\n",
       "1031132   276704  ...  Get Clark Smart : The Ultimate Guide for the S...\n",
       "1031133   276706  ...  Eight Weeks to Optimum Health: A Proven Progra...\n",
       "1031134   276709  ...   The Sherbrooke Bride (Bride Trilogy (Paperback))\n",
       "1031135   276721  ...                                  Fourth Grade Rats\n",
       "\n",
       "[1031136 rows x 3 columns]"
      ]
     },
     "execution_count": 2,
     "metadata": {},
     "output_type": "execute_result"
    }
   ],
   "source": [
    "# preprocess tge data\n",
    "ratings = ratings.merge(books[['ISBN', 'Book-Title']], on='ISBN')\n",
    "ratings = ratings.drop(['ISBN'], axis=1)\n",
    "ratings"
   ]
  },
  {
   "cell_type": "code",
   "execution_count": 3,
   "metadata": {},
   "outputs": [],
   "source": [
    "# filter books at least min_book_ratings ratings\n",
    "min_book_ratings = 10\n",
    "book_rating_counts = ratings['Book-Title'].value_counts()\n",
    "filtered_books = book_rating_counts[book_rating_counts >= min_book_ratings].index\n",
    "ratings = ratings[ratings['Book-Title'].isin(filtered_books)]\n",
    "\n",
    "# filter users who rated at least min_user_ratings books\n",
    "min_user_ratings = 5\n",
    "user_rating_counts = ratings['User-ID'].value_counts()\n",
    "filtered_users = user_rating_counts[user_rating_counts >= min_user_ratings].index\n",
    "ratings = ratings[ratings['User-ID'].isin(filtered_users)]\n",
    "\n",
    "# create the user-item matrix\n",
    "user_item_matrix = ratings.pivot_table(index='User-ID', columns='Book-Title', values='Book-Rating').fillna(0)"
   ]
  },
  {
   "cell_type": "code",
   "execution_count": 5,
   "metadata": {},
   "outputs": [],
   "source": [
    "# compute the cosine similarity matrix\n",
    "cosine_sim_matrix = cosine_similarity(user_item_matrix)"
   ]
  },
  {
   "cell_type": "code",
   "execution_count": 6,
   "metadata": {},
   "outputs": [],
   "source": [
    "# split user indices into train and test sets\n",
    "user_indices = np.arange(user_item_matrix.shape[0])\n",
    "train_user_indices, test_user_indices = train_test_split(user_indices, test_size=0.2, random_state=42)"
   ]
  },
  {
   "cell_type": "code",
   "execution_count": 7,
   "metadata": {},
   "outputs": [],
   "source": [
    "def collaborative_filtering_recommendation(user_index, k=10):\n",
    "    user_similarities = cosine_sim_matrix[user_index]\n",
    "    top_k_similar_users = np.argsort(user_similarities)[-k-1:-1][::-1]\n",
    "    similar_user_ratings = user_item_matrix.iloc[top_k_similar_users]\n",
    "    mean_ratings = similar_user_ratings.mean(axis=0)\n",
    "    top_k_books = mean_ratings.sort_values(ascending=True).head(k).index\n",
    "    return top_k_books"
   ]
  },
  {
   "cell_type": "code",
   "execution_count": 8,
   "metadata": {},
   "outputs": [
    {
     "name": "stdout",
     "output_type": "stream",
     "text": [
      "Random Score-Based Recommendatios:\n",
      "1, The Silent Blade (Forgotten Realms:  Paths of Darkness, Book 1)\n",
      "2, Becoming a Woman of Excellence\n",
      "3, Revolution from Within : A Book of Self-Esteem\n",
      "4, Enchanted\n",
      "5, Julie of the Wolves (Julie of the Wolves)\n",
      "6, Playing Away\n",
      "7, Summers at Castle Auburn\n",
      "8, Mr. Palomar\n",
      "9, Conceived Without Sin\n",
      "10, Devil-May-Care\n"
     ]
    }
   ],
   "source": [
    "def random_recommendation(ratings, n=10):\n",
    "    unique_books = ratings['Book-Title'].unique()\n",
    "    random_books = np.random.choice(unique_books, size=n, replace=False)\n",
    "    return random_books\n",
    "\n",
    "random_books = random_recommendation(ratings, n=10)\n",
    "print(\"Random Score-Based Recommendatios:\")\n",
    "for i, book in enumerate(random_books, 1):\n",
    "    print(f\"{i}, {book}\")"
   ]
  },
  {
   "cell_type": "code",
   "execution_count": 9,
   "metadata": {},
   "outputs": [
    {
     "name": "stdout",
     "output_type": "stream",
     "text": [
      "\n",
      "Popularity-Based Recommendations:\n",
      "1, Wild Animus\n",
      "2, The Lovely Bones: A Novel\n",
      "3, The Da Vinci Code\n",
      "4, The Nanny Diaries: A Novel\n",
      "5, Bridget Jones's Diary\n",
      "6, A Painted House\n",
      "7, The Secret Life of Bees\n",
      "8, Divine Secrets of the Ya-Ya Sisterhood: A Novel\n",
      "9, Angels &amp; Demons\n",
      "10, Life of Pi\n"
     ]
    }
   ],
   "source": [
    "def popularity_recommendation(ratings, n=10):\n",
    "    popular_books = ratings.groupby('Book-Title')['Book-Rating'].count().sort_values(ascending=False).head(n).index\n",
    "    return popular_books\n",
    "\n",
    "popular_books = popularity_recommendation(ratings, n=10)\n",
    "print('\\nPopularity-Based Recommendations:')\n",
    "for i, book in enumerate(popular_books, 1):\n",
    "    print(f\"{i}, {book}\")"
   ]
  },
  {
   "cell_type": "code",
   "execution_count": 10,
   "metadata": {},
   "outputs": [],
   "source": [
    "def recommend_books(user_index, strategy, k=10):\n",
    "    if strategy == \"collaborative\":\n",
    "        top_k_books = collaborative_filtering_recommendation(user_index, k=k)\n",
    "    elif strategy == \"random\":\n",
    "        top_k_books = random_recommendation(ratings, n=k)\n",
    "    elif strategy == \"popularity\":\n",
    "        top_k_books = popularity_recommendation(ratings, n=k)\n",
    "    else:\n",
    "        raise ValueError('Invalid recommendation strategy')\n",
    "    \n",
    "    return top_k_books"
   ]
  },
  {
   "cell_type": "code",
   "execution_count": 11,
   "metadata": {},
   "outputs": [],
   "source": [
    "def evaluate_model(strategy, k=10):\n",
    "    true_positive = 0\n",
    "    false_positive = 0\n",
    "    false_negative = 0\n",
    "    \n",
    "    for user_index in test_user_indices:\n",
    "        true_books = set(user_item_matrix.iloc[user_index][user_item_matrix.iloc[user_index] > 0].index)\n",
    "        recommended_books = set(recommend_books(user_index, strategy, k))\n",
    "        \n",
    "        tp = len(true_books.intersection(recommended_books))\n",
    "        fp = len(recommended_books - true_books)\n",
    "        fn = len(true_books - recommended_books)\n",
    "        \n",
    "        true_positive += tp \n",
    "        false_positive += fp \n",
    "        false_negative += fn\n",
    "        \n",
    "    precision = true_positive / (true_positive + false_positive)\n",
    "    recall = true_positive / (true_positive + false_negative)\n",
    "    \n",
    "    return precision, recall"
   ]
  },
  {
   "cell_type": "code",
   "execution_count": 13,
   "metadata": {},
   "outputs": [
    {
     "name": "stdout",
     "output_type": "stream",
     "text": [
      "Collaborative Filtering: Precision = 0.0003, Recall = 0.0003\n"
     ]
    }
   ],
   "source": [
    "# evaluate the collaborative filtering model\n",
    "cf_precision, cf_recall = evaluate_model(strategy='collaborative')\n",
    "print(f\"Collaborative Filtering: Precision = {cf_precision:.4f}, Recall = {cf_recall:.4f}\")"
   ]
  },
  {
   "cell_type": "code",
   "execution_count": 14,
   "metadata": {},
   "outputs": [
    {
     "name": "stdout",
     "output_type": "stream",
     "text": [
      "Random Score-Based: Precision = 0.0007, Recall = 0.0006\n"
     ]
    }
   ],
   "source": [
    "# evaluate the random score-based recommended model\n",
    "random_precision, random_recall = evaluate_model(strategy='random')\n",
    "print(f\"Random Score-Based: Precision = {random_precision:.4f}, Recall = {random_recall:.4f}\")"
   ]
  },
  {
   "cell_type": "code",
   "execution_count": 15,
   "metadata": {},
   "outputs": [
    {
     "name": "stdout",
     "output_type": "stream",
     "text": [
      "Popularity-Based: Precision = 0.0200, Recall = 0.0167\n"
     ]
    }
   ],
   "source": [
    "# evaluate the popularity recommended model\n",
    "populariy_precision, popularity_recall = evaluate_model(strategy='popularity')\n",
    "print(f\"Popularity-Based: Precision = {populariy_precision:.4f}, Recall = {popularity_recall:.4f}\")"
   ]
  }
 ],
 "metadata": {
  "kernelspec": {
   "display_name": "recommendation",
   "language": "python",
   "name": "python3"
  },
  "language_info": {
   "codemirror_mode": {
    "name": "ipython",
    "version": 3
   },
   "file_extension": ".py",
   "mimetype": "text/x-python",
   "name": "python",
   "nbconvert_exporter": "python",
   "pygments_lexer": "ipython3",
   "version": "3.10.6"
  }
 },
 "nbformat": 4,
 "nbformat_minor": 2
}
