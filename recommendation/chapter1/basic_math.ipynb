{
 "cells": [
  {
   "cell_type": "markdown",
   "metadata": {},
   "source": [
    "# Matrix"
   ]
  },
  {
   "cell_type": "markdown",
   "metadata": {},
   "source": [
    "## Matrix Calculation"
   ]
  },
  {
   "cell_type": "markdown",
   "metadata": {},
   "source": [
    "### Dot product and Elemnt-wise calculation\n",
    "\n",
    "내적(dot procuct)의 원소별(element-wise) 연산 : 내적은 두 벡터의 각 원의 곱을 모두 더해서 구함\n",
    "element-wise 내적은 두 행렬 또는 벡터의 각 원소까지 이루어짐"
   ]
  },
  {
   "cell_type": "code",
   "execution_count": 3,
   "metadata": {},
   "outputs": [
    {
     "name": "stdout",
     "output_type": "stream",
     "text": [
      "Vector a: [1 2 3]\n",
      "\n",
      "Vector b: [4 5 6]\n",
      "\n",
      " 4 + 10 + 18\n",
      "Dot product of a and b: 32\n",
      "\n",
      "Element-wise product of a and b: [ 4 10 18]\n"
     ]
    }
   ],
   "source": [
    "import numpy as np \n",
    "\n",
    "a = np.array([1, 2, 3])\n",
    "b = np.array([4, 5, 6])\n",
    "\n",
    "dot_product = np.dot(a, b)\n",
    "elementwise_product = a * b\n",
    "\n",
    "print(\"Vector a:\", a)\n",
    "print(\"\\nVector b:\", b)\n",
    "\n",
    "print(\"\\n\", a[0]*b[0], \"+\", a[1]*b[1], \"+\", a[2]*b[2])\n",
    "print(\"Dot product of a and b:\", dot_product)\n",
    "\n",
    "print(\"\\nElement-wise product of a and b:\", elementwise_product)"
   ]
  },
  {
   "cell_type": "markdown",
   "metadata": {},
   "source": [
    "행렬 곱셈(matrix multiplication): 행렬 곱셈은 많은 추천 시스템 알고리즘에서 필수적인 연산, 첫 번째 행렬의 행 원소에 두 번째 행렬의 열 원소를 곱하고 그 결과를 합산하는 element-wise 내적의 반족임"
   ]
  },
  {
   "cell_type": "code",
   "execution_count": 4,
   "metadata": {},
   "outputs": [
    {
     "name": "stdout",
     "output_type": "stream",
     "text": [
      "Matrix A\n",
      "[[1 2]\n",
      " [3 4]]\n",
      "Matrix B\n",
      "[[5 6]\n",
      " [7 8]]\n",
      "\n",
      "C[0, 0] = A[0, 0] * B[0, 0] + A[0, 1] * B[1, 0] = (1 * 5) + (2 * 7) = 19\n",
      "C[0, 1] = A[0, 0] * B[0, 1] + A[0, 1] * B[1. 1] = (1 * 6) + (2 * 8) = 22\n",
      "C[1, 0] = A[1, 0] * B[0, 0] + A[1, 1] * B[1, 0] = (3 * 5) + (4 * 7) = 43\n",
      "C[1, 1] = A[1, 0] * B[0, 1] + A[1, 1] * B[1, 1] = (3 * 6) + (4 * 8) = 50\n",
      "\n",
      "Result Matrix C:\n",
      "[[19 22]\n",
      " [43 50]]\n"
     ]
    }
   ],
   "source": [
    "# Define the 2x2 matrices\n",
    "A = np.array([[1, 2],\n",
    "              [3, 4]])\n",
    "B = np.array([[5, 6],\n",
    "              [7, 8]])\n",
    "\n",
    "# Calculate the result matrix by matrix multiplication\n",
    "C = np.matmul(A, B)\n",
    "\n",
    "# Show the calculator of each element in the result matrix\n",
    "print(\"Matrix A\")\n",
    "print(A)\n",
    "\n",
    "print(\"Matrix B\")\n",
    "print(B)\n",
    "\n",
    "print(\"\\nC[0, 0] = A[0, 0] * B[0, 0] + A[0, 1] * B[1, 0] = (1 * 5) + (2 * 7) =\", 1*5 +2*7)\n",
    "print(\"C[0, 1] = A[0, 0] * B[0, 1] + A[0, 1] * B[1. 1] = (1 * 6) + (2 * 8) =\", 1*6 + 2*8)\n",
    "print(\"C[1, 0] = A[1, 0] * B[0, 0] + A[1, 1] * B[1, 0] = (3 * 5) + (4 * 7) =\", 3*5 + 4*7)\n",
    "print(\"C[1, 1] = A[1, 0] * B[0, 1] + A[1, 1] * B[1, 1] = (3 * 6) + (4 * 8) =\", 3*6 + 4*8)\n",
    "\n",
    "print(\"\\nResult Matrix C:\")\n",
    "print(C)"
   ]
  },
  {
   "cell_type": "markdown",
   "metadata": {},
   "source": [
    "### Transpose Matrix\n",
    "\n",
    "행렬의 전치 : 행렬 전치는 단순히 행과 열을 바꾸어 주면 됨. 이 연산은 매우 단순하지만 자주 사용되는 작업으로, 추천 알고리즘에서는 대표적으로 MF, ALS 등에서 사용됨"
   ]
  },
  {
   "cell_type": "code",
   "execution_count": 5,
   "metadata": {},
   "outputs": [
    {
     "name": "stdout",
     "output_type": "stream",
     "text": [
      "Matrix A:\n",
      " [[1 2]\n",
      " [3 4]\n",
      " [5 6]]\n",
      "\n",
      "Transpose of A:\n",
      " [[1 3 5]\n",
      " [2 4 6]]\n"
     ]
    }
   ],
   "source": [
    "A = np.array([[1, 2],\n",
    "              [3, 4],\n",
    "              [5, 6]])\n",
    "\n",
    "A_transpose = np.transpose(A)\n",
    "print(\"Matrix A:\\n\", A)\n",
    "print(\"\\nTranspose of A:\\n\", A_transpose)"
   ]
  },
  {
   "cell_type": "code",
   "execution_count": 6,
   "metadata": {},
   "outputs": [
    {
     "data": {
      "text/plain": [
       "array([[1, 3, 5],\n",
       "       [2, 4, 6]])"
      ]
     },
     "execution_count": 6,
     "metadata": {},
     "output_type": "execute_result"
    }
   ],
   "source": [
    "A.T"
   ]
  },
  {
   "cell_type": "markdown",
   "metadata": {},
   "source": [
    "### Inverse Matrix\n",
    "행렬의 역행렬: 정사각형 행렬의 역행렬은 원 행렬에 곱하면 행렬의 단위 행렬이 나오는 행렬. 선형 시스템(연립 방정식)의 해을 구하는데 사용되거나, 추천에서는 SVD를 계산하는데 사용됨"
   ]
  },
  {
   "cell_type": "code",
   "execution_count": 7,
   "metadata": {},
   "outputs": [
    {
     "name": "stdout",
     "output_type": "stream",
     "text": [
      "Matrix A: [[1 2]\n",
      " [3 4]]\n",
      "\n",
      "Inverse of A:\n",
      " [[-2.   1. ]\n",
      " [ 1.5 -0.5]]\n",
      "\n",
      "A * A_inverse (Indentity matrix):\n",
      " [[1.0000000e+00 0.0000000e+00]\n",
      " [8.8817842e-16 1.0000000e+00]]\n"
     ]
    }
   ],
   "source": [
    "A = np.array([[1, 2], \n",
    "              [3, 4]])\n",
    "\n",
    "A_inverse = np.linalg.inv(A)\n",
    "print(\"Matrix A:\", A)\n",
    "print(\"\\nInverse of A:\\n\", A_inverse)\n",
    "print(\"\\nA * A_inverse (Indentity matrix):\\n\", np.matmul(A, A_inverse))"
   ]
  },
  {
   "cell_type": "markdown",
   "metadata": {},
   "source": [
    "### Diaginal Matrix\n",
    "\n",
    "대각행렬 (diagonal matrix): 대각 행렬은 주 대각선 바깥으로 모든 요소가 0인 정사각형 행렬을 의미. 주 대각선은 행과 열 인덱스가 같은 원소로 구성됨. 대각선 행렬은 다양한 알고리즘에 사용되며 그 구조로 인해 계산을 단순화하는데 사용됨"
   ]
  },
  {
   "cell_type": "code",
   "execution_count": 9,
   "metadata": {},
   "outputs": [
    {
     "name": "stdout",
     "output_type": "stream",
     "text": [
      "Diagonal Matrix D:\n",
      " [[1 0 0]\n",
      " [0 2 0]\n",
      " [0 0 3]]\n"
     ]
    }
   ],
   "source": [
    "D = np.diag([1, 2, 3])\n",
    "print(\"Diagonal Matrix D:\\n\", D)"
   ]
  },
  {
   "cell_type": "markdown",
   "metadata": {},
   "source": [
    "### Eigenvector and Eigenvalue\n",
    "\n",
    "고유값과 공유벡터 : 정사각형 행렬 A의 고유 벡터는 0이 아닌 벡터로, A를 곱하면 그 자체의 스칼라 배수가 되는 성질을 띰. 이 스칼라 배수 값을 고유값이라고 함"
   ]
  },
  {
   "cell_type": "code",
   "execution_count": 10,
   "metadata": {},
   "outputs": [
    {
     "name": "stdout",
     "output_type": "stream",
     "text": [
      "Matrix A:\n",
      " [[1 2]\n",
      " [3 4]]\n",
      "\n",
      "Eigenvalues of A:\n",
      " [-0.37228132  5.37228132]\n",
      "\n",
      "Eigenvectors of A:\n",
      " [[-0.82456484 -0.41597356]\n",
      " [ 0.56576746 -0.90937671]]\n"
     ]
    }
   ],
   "source": [
    "A = np.array([[1, 2],\n",
    "              [3, 4]])\n",
    "\n",
    "eigenvalues, eigenvectors = np.linalg.eig(A)\n",
    "\n",
    "print(\"Matrix A:\\n\", A)\n",
    "print(\"\\nEigenvalues of A:\\n\", eigenvalues)\n",
    "print(\"\\nEigenvectors of A:\\n\", eigenvectors)"
   ]
  },
  {
   "cell_type": "markdown",
   "metadata": {},
   "source": [
    "### Rank\n",
    "\n",
    "랭크 행렬: 행렬의 행렬계수는 행렬에서 선형적으로 독립적인 열 벡터(또는 행 벡터)의 최대 개수, 기하학적으로는 단위벡터에 한 선형 변환이 가해졌을 때 도착하는 공간의 차원 수"
   ]
  },
  {
   "cell_type": "code",
   "execution_count": 17,
   "metadata": {},
   "outputs": [
    {
     "name": "stdout",
     "output_type": "stream",
     "text": [
      "Matrix A:\n",
      " [[1 2 3]\n",
      " [4 5 6]\n",
      " [7 8 9]]\n",
      "\n",
      "Rank of A: 2\n"
     ]
    }
   ],
   "source": [
    "A = np.array([[1, 2, 3],\n",
    "              [4, 5, 6],\n",
    "              [7, 8, 9]])\n",
    "\n",
    "rank_A = np.linalg.matrix_rank(A)\n",
    "print(\"Matrix A:\\n\", A)\n",
    "print(\"\\nRank of A:\", rank_A)"
   ]
  },
  {
   "cell_type": "markdown",
   "metadata": {},
   "source": [
    "### SVD\n",
    "\n",
    "특이값 분해 (SVD) : SVD는 행렬을 $U$, $\\Sigma$(시그마), $V^T$($V$의 전치)의 세 행렬로 분해하는데 사용되는 기법으로, 여기서 $U$와 $V$는 직교 행렬이고 $\\Sigma$는 특이값이 포함된 대각선 행렬임. SVD는 데이터의 차원을 줄이고, 노이즈를 제거하는데도 사용되며, 추천 시스템의 맥락에서는 Latent Factor를 발견하는데 사용할 수 있음"
   ]
  },
  {
   "cell_type": "code",
   "execution_count": 25,
   "metadata": {},
   "outputs": [
    {
     "name": "stdout",
     "output_type": "stream",
     "text": [
      "Matrix A:\n",
      " [[1 2 3]\n",
      " [4 5 6]\n",
      " [7 8 9]]\n",
      "\n",
      "U:\n",
      " [[-0.21483724  0.88723069  0.40824829]\n",
      " [-0.52058739  0.24964395 -0.81649658]\n",
      " [-0.82633754 -0.38794278  0.40824829]]\n",
      "\n",
      "Singular values (sigma):\n",
      " [1.68481034e+01 1.06836951e+00 4.41842475e-16]\n",
      "\n",
      " V transpose (Vt):\n",
      " [[-0.47967118 -0.57236779 -0.66506441]\n",
      " [-0.77669099 -0.07568647  0.62531805]\n",
      " [-0.40824829  0.81649658 -0.40824829]]\n"
     ]
    }
   ],
   "source": [
    "A = np.array([[1, 2, 3],\n",
    "              [4, 5, 6],\n",
    "              [7, 8, 9]])\n",
    "\n",
    "U, sigma, Vt = np.linalg.svd(A)\n",
    "\n",
    "print('Matrix A:\\n', A)\n",
    "print('\\nU:\\n', U)\n",
    "print('\\nSingular values (sigma):\\n', sigma)\n",
    "print('\\n V transpose (Vt):\\n', Vt)"
   ]
  },
  {
   "cell_type": "code",
   "execution_count": 26,
   "metadata": {},
   "outputs": [
    {
     "name": "stdout",
     "output_type": "stream",
     "text": [
      "Diagonal matrix (Sigma):\n",
      " [[1.68481034e+01 0.00000000e+00 0.00000000e+00]\n",
      " [0.00000000e+00 1.06836951e+00 0.00000000e+00]\n",
      " [0.00000000e+00 0.00000000e+00 4.41842475e-16]]\n"
     ]
    }
   ],
   "source": [
    "Sigma = np.diag(sigma)\n",
    "print('Diagonal matrix (Sigma):\\n', Sigma)"
   ]
  },
  {
   "cell_type": "markdown",
   "metadata": {},
   "source": [
    "SVD 구성요소 ($U$, $\\Sigma$, $V^T$)를 각각 곱하면, 원래 행렬 A를 재구성할 수 있음"
   ]
  },
  {
   "cell_type": "code",
   "execution_count": 27,
   "metadata": {},
   "outputs": [
    {
     "name": "stdout",
     "output_type": "stream",
     "text": [
      "Reconstructed Matrix A from SVD componetns:\n",
      " [[1. 2. 3.]\n",
      " [4. 5. 6.]\n",
      " [7. 8. 9.]]\n"
     ]
    }
   ],
   "source": [
    "reconstructed_A = np.matmul(np.matmul(U, Sigma), Vt)\n",
    "print(\"Reconstructed Matrix A from SVD componetns:\\n\", reconstructed_A)"
   ]
  },
  {
   "cell_type": "markdown",
   "metadata": {},
   "source": [
    "## 유사도 메트릭 (Similarity Metircs)"
   ]
  },
  {
   "cell_type": "markdown",
   "metadata": {},
   "source": [
    "### Cosine Similarity and Euclidean distance"
   ]
  },
  {
   "cell_type": "code",
   "execution_count": 28,
   "metadata": {},
   "outputs": [],
   "source": [
    "# compute Euclidean distance\n",
    "def euclidean_distance(vec1, vec2):\n",
    "    return np.sqrt(np.sum((vec1 - vec2) ** 2))\n",
    "\n",
    "# compute Cosine distance\n",
    "def cosine_distance(vec1, vec2):\n",
    "    dot_product = np.dot(vec1, vec2)\n",
    "    norm_a = np.linalg.norm(vec1)\n",
    "    norm_b = np.linalg.norm(vec2)\n",
    "    return 1 - (dot_product / (norm_a * norm_b))"
   ]
  },
  {
   "cell_type": "markdown",
   "metadata": {},
   "source": [
    "$$\\text{similarity}=\\cos(\\theta)=\\frac{A\\dot B}{\\vert\\vert A\\vert\\vert ||B||}=\\frac{\\sum_{i=1}^n A_iB_i}{\\sqrt{\\sum_{i=1}^n A_i^2}\\sqrt{\\sum_{i=1}^n B_i^2}}$$"
   ]
  },
  {
   "cell_type": "markdown",
   "metadata": {},
   "source": [
    "아래 데이터프레임은 아래 3개의 문장을 단어별로 카운트해서 벡터로 만든 결과임\n",
    "\n",
    "\"I like apples.\", \"I like oranges\", \"I like apples. I really like apples.\""
   ]
  },
  {
   "cell_type": "code",
   "execution_count": 29,
   "metadata": {},
   "outputs": [
    {
     "data": {
      "text/html": [
       "<div>\n",
       "<style scoped>\n",
       "    .dataframe tbody tr th:only-of-type {\n",
       "        vertical-align: middle;\n",
       "    }\n",
       "\n",
       "    .dataframe tbody tr th {\n",
       "        vertical-align: top;\n",
       "    }\n",
       "\n",
       "    .dataframe thead th {\n",
       "        text-align: right;\n",
       "    }\n",
       "</style>\n",
       "<table border=\"1\" class=\"dataframe\">\n",
       "  <thead>\n",
       "    <tr style=\"text-align: right;\">\n",
       "      <th></th>\n",
       "      <th>I</th>\n",
       "      <th>like</th>\n",
       "      <th>apples</th>\n",
       "      <th>oranges</th>\n",
       "      <th>really</th>\n",
       "    </tr>\n",
       "  </thead>\n",
       "  <tbody>\n",
       "    <tr>\n",
       "      <th>1</th>\n",
       "      <td>1</td>\n",
       "      <td>1</td>\n",
       "      <td>1</td>\n",
       "      <td>0</td>\n",
       "      <td>0</td>\n",
       "    </tr>\n",
       "    <tr>\n",
       "      <th>2</th>\n",
       "      <td>1</td>\n",
       "      <td>1</td>\n",
       "      <td>0</td>\n",
       "      <td>1</td>\n",
       "      <td>0</td>\n",
       "    </tr>\n",
       "    <tr>\n",
       "      <th>3</th>\n",
       "      <td>2</td>\n",
       "      <td>2</td>\n",
       "      <td>2</td>\n",
       "      <td>1</td>\n",
       "      <td>1</td>\n",
       "    </tr>\n",
       "  </tbody>\n",
       "</table>\n",
       "</div>"
      ],
      "text/plain": [
       "   I  like  apples  oranges  really\n",
       "1  1     1       1        0       0\n",
       "2  1     1       0        1       0\n",
       "3  2     2       2        1       1"
      ]
     },
     "metadata": {},
     "output_type": "display_data"
    }
   ],
   "source": [
    "import pandas as pd \n",
    "import numpy as np \n",
    "\n",
    "# create a pandas DataFrame with the word vectors\n",
    "data = {'I': [1, 1, 2], 'like': [1, 1, 2], 'apples': [1, 0, 2], 'oranges': [0, 1, 1], 'really': [0, 0, 1]}\n",
    "df = pd.DataFrame(data)\n",
    "df.index = [1, 2, 3]\n",
    "\n",
    "display(df)"
   ]
  },
  {
   "cell_type": "markdown",
   "metadata": {},
   "source": [
    "문장 1과 문장 2는 동일한 구성을 갖는 대신 단어가 한 개 다름 (apples -> oranges)\n",
    "\n",
    "문장 1과 문자 2 사이의 코사인 거리는 0.33으로, 벡터 방향에 약간의 차이가 있음을 시사함, 문장1과 문장2 사이의 유클리드 거리는 1.414로 단어 한개가 다른 영향을 보여줌\n",
    "\n",
    "반면에 문장 1과 문장 3 사이의 유클리드 거리는 2보다 크며, 이는 두 문장 간의 차이가 있음을 나타탬, 이는 유클리는 거리는 방향 뿐만 아니라 크기에도 영향을 받음을 보여줌"
   ]
  },
  {
   "cell_type": "code",
   "execution_count": 37,
   "metadata": {},
   "outputs": [
    {
     "name": "stdout",
     "output_type": "stream",
     "text": [
      "Euclidean distance between sentence 1 and sentence 2: 1.4142135623730951\n",
      "Cosine distance between sentence 1 and sentence 2: 0.33333333333333326\n",
      "Euclidean distance betwen sentence 1 and sentence 3: 2.23606797749979\n",
      "Cosine distance between sentence 1 and sentence 3: 0.07417990022744847\n"
     ]
    }
   ],
   "source": [
    "sentence1_vector = df.iloc[0].values\n",
    "sentence2_vector = df.iloc[1].values\n",
    "sentence3_vector = df.iloc[2].values\n",
    "\n",
    "euclidean_dist_12 = euclidean_distance(sentence1_vector, sentence2_vector)\n",
    "cosine_dist_12 = cosine_distance(sentence1_vector, sentence2_vector)\n",
    "\n",
    "euclidean_dist_13 = euclidean_distance(sentence1_vector, sentence3_vector)\n",
    "cosine_dist_13 = cosine_distance(sentence1_vector, sentence3_vector)\n",
    "\n",
    "print(f\"Euclidean distance between sentence 1 and sentence 2: {euclidean_dist_12}\")\n",
    "print(f\"Cosine distance between sentence 1 and sentence 2: {cosine_dist_12}\")\n",
    "\n",
    "print(f\"Euclidean distance betwen sentence 1 and sentence 3: {euclidean_dist_13}\")\n",
    "print(f\"Cosine distance between sentence 1 and sentence 3: {cosine_dist_13}\")"
   ]
  }
 ],
 "metadata": {
  "kernelspec": {
   "display_name": "recommendation",
   "language": "python",
   "name": "python3"
  },
  "language_info": {
   "codemirror_mode": {
    "name": "ipython",
    "version": 3
   },
   "file_extension": ".py",
   "mimetype": "text/x-python",
   "name": "python",
   "nbconvert_exporter": "python",
   "pygments_lexer": "ipython3",
   "version": "3.10.6"
  }
 },
 "nbformat": 4,
 "nbformat_minor": 2
}
