{
 "cells": [
  {
   "cell_type": "markdown",
   "metadata": {},
   "source": [
    "# 그래프 데이터 로드하고 처리하기\n",
    "\n",
    "- CSV 파일로 저장된 그래프 데이터를 로드하는 방법\n",
    "\n",
    "- DGL로 그래프를 구축하는 방법\n",
    "\n",
    "- DGL 그래프의 구조적인 정보에 대해 조회\n",
    "\n",
    "- 노드와 엣지 피쳐를 적재하고 전처리하는 방법\n",
    "\n",
    "- 메시지 패싱(message passing)에 피쳐 할당"
   ]
  },
  {
   "cell_type": "markdown",
   "metadata": {},
   "source": [
    "## CSV에서 그래프 데이터 호출하기\n",
    "\n",
    "CSV는 관계형 데이터 저장에 널리 사용되는 포맷입니다. 이 튜토리얼에서 Zachery의 Karate 클럽 네트워크 데이터를 포함한 2개의 csv 파일을 준비\n",
    "\n",
    "- nodes.csv : 클럽 멤버와 그들의 특징을 포함\n",
    "\n",
    "- edges.csv : 두 클럽 멤버간의 쌍별 상호작용 포함"
   ]
  },
  {
   "cell_type": "code",
   "execution_count": 1,
   "metadata": {},
   "outputs": [
    {
     "name": "stdout",
     "output_type": "stream",
     "text": [
      "    Id     Club  Age\n",
      "0    0   Mr. Hi   45\n",
      "1    1   Mr. Hi   33\n",
      "2    2   Mr. Hi   36\n",
      "3    3   Mr. Hi   31\n",
      "4    4   Mr. Hi   41\n",
      "5    5   Mr. Hi   42\n",
      "6    6   Mr. Hi   48\n",
      "7    7   Mr. Hi   41\n",
      "8    8   Mr. Hi   30\n",
      "9    9  Officer   35\n",
      "10  10   Mr. Hi   38\n",
      "11  11   Mr. Hi   44\n",
      "12  12   Mr. Hi   37\n",
      "13  13   Mr. Hi   39\n",
      "14  14  Officer   36\n",
      "15  15  Officer   38\n",
      "16  16   Mr. Hi   47\n",
      "17  17   Mr. Hi   45\n",
      "18  18  Officer   41\n",
      "19  19   Mr. Hi   31\n",
      "20  20  Officer   31\n",
      "21  21   Mr. Hi   44\n",
      "22  22  Officer   42\n",
      "23  23  Officer   32\n",
      "24  24  Officer   30\n",
      "25  25  Officer   50\n",
      "26  26  Officer   30\n",
      "27  27  Officer   43\n",
      "28  28  Officer   48\n",
      "29  29  Officer   40\n",
      "30  30  Officer   39\n",
      "31  31  Officer   45\n",
      "32  32  Officer   47\n",
      "33  33  Officer   33\n"
     ]
    }
   ],
   "source": [
    "import pandas as pd\n",
    "\n",
    "nodes_data = pd.read_csv('./data/dgl_nodes.csv')\n",
    "print(nodes_data)"
   ]
  },
  {
   "cell_type": "code",
   "execution_count": 2,
   "metadata": {},
   "outputs": [
    {
     "name": "stdout",
     "output_type": "stream",
     "text": [
      "     Src  Dst    Weight\n",
      "0      0    1  0.318451\n",
      "1      0    2  0.551215\n",
      "2      0    3  0.227416\n",
      "3      0    4  0.266919\n",
      "4      0    5  0.475449\n",
      "..   ...  ...       ...\n",
      "151   33   28  0.266479\n",
      "152   33   29  0.279901\n",
      "153   33   30  0.652154\n",
      "154   33   31  0.828536\n",
      "155   33   32  0.842656\n",
      "\n",
      "[156 rows x 3 columns]\n"
     ]
    }
   ],
   "source": [
    "edges_data = pd.read_csv('./data/dgl_edges.csv')\n",
    "print(edges_data)"
   ]
  },
  {
   "cell_type": "markdown",
   "metadata": {},
   "source": [
    "그 뒤 각 노드는 클럽 멤버를 나타내고 각 엣지는 그들의 상호작용을 나타내는 그래프를 만듭니다. DGL에서 노드는 0부터 시작하는 연속적인 정수입니다. 그러므로 데이터를 준비할 때, 라벨을 다시 매기거나 행 순서를 다시 셔플하는 작업이 중요합니다. 이로써 첫번째 행이 첫번째 노드에 상응하도록, 그 뒤로 마찬가지로 매칭되도록 해줍니다. 현재 데이터는 올바른 순서로 데이터가 준비되어 있어서 edges.csv 테이블의 'Src'와 'Dst' 컬럼으로 그래프를 만들 수 있습니다."
   ]
  },
  {
   "cell_type": "code",
   "execution_count": 3,
   "metadata": {},
   "outputs": [
    {
     "ename": "FileNotFoundError",
     "evalue": "Could not find module 'd:\\projects\\github\\learning\\recommendation\\recommendation\\lib\\site-packages\\dgl\\dgl.dll' (or one of its dependencies). Try using the full path with constructor syntax.",
     "output_type": "error",
     "traceback": [
      "\u001b[1;31m---------------------------------------------------------------------------\u001b[0m",
      "\u001b[1;31mFileNotFoundError\u001b[0m                         Traceback (most recent call last)",
      "Cell \u001b[1;32mIn[3], line 1\u001b[0m\n\u001b[1;32m----> 1\u001b[0m \u001b[38;5;28;01mimport\u001b[39;00m \u001b[38;5;21;01mdgl\u001b[39;00m\n\u001b[0;32m      3\u001b[0m src \u001b[38;5;241m=\u001b[39m edges_data[\u001b[38;5;124m'\u001b[39m\u001b[38;5;124mSrc\u001b[39m\u001b[38;5;124m'\u001b[39m]\u001b[38;5;241m.\u001b[39mto_numpy()\n\u001b[0;32m      4\u001b[0m dst \u001b[38;5;241m=\u001b[39m edges_data[\u001b[38;5;124m'\u001b[39m\u001b[38;5;124mDst\u001b[39m\u001b[38;5;124m'\u001b[39m]\u001b[38;5;241m.\u001b[39mto_numpy()\n",
      "File \u001b[1;32md:\\projects\\github\\learning\\recommendation\\recommendation\\lib\\site-packages\\dgl\\__init__.py:14\u001b[0m\n\u001b[0;32m     12\u001b[0m \u001b[38;5;66;03m# Backend and logging should be imported before other modules.\u001b[39;00m\n\u001b[0;32m     13\u001b[0m \u001b[38;5;28;01mfrom\u001b[39;00m \u001b[38;5;21;01m.\u001b[39;00m\u001b[38;5;21;01mlogging\u001b[39;00m \u001b[38;5;28;01mimport\u001b[39;00m enable_verbose_logging  \u001b[38;5;66;03m# usort: skip\u001b[39;00m\n\u001b[1;32m---> 14\u001b[0m \u001b[38;5;28;01mfrom\u001b[39;00m \u001b[38;5;21;01m.\u001b[39;00m\u001b[38;5;21;01mbackend\u001b[39;00m \u001b[38;5;28;01mimport\u001b[39;00m backend_name, load_backend  \u001b[38;5;66;03m# usort: skip\u001b[39;00m\n\u001b[0;32m     16\u001b[0m \u001b[38;5;28;01mfrom\u001b[39;00m \u001b[38;5;21;01m.\u001b[39;00m \u001b[38;5;28;01mimport\u001b[39;00m (\n\u001b[0;32m     17\u001b[0m     container,\n\u001b[0;32m     18\u001b[0m     cuda,\n\u001b[1;32m   (...)\u001b[0m\n\u001b[0;32m     24\u001b[0m     storages,\n\u001b[0;32m     25\u001b[0m )\n\u001b[0;32m     26\u001b[0m \u001b[38;5;28;01mfrom\u001b[39;00m \u001b[38;5;21;01m.\u001b[39;00m\u001b[38;5;21;01m_ffi\u001b[39;00m\u001b[38;5;21;01m.\u001b[39;00m\u001b[38;5;21;01mbase\u001b[39;00m \u001b[38;5;28;01mimport\u001b[39;00m __version__, DGLError\n",
      "File \u001b[1;32md:\\projects\\github\\learning\\recommendation\\recommendation\\lib\\site-packages\\dgl\\backend\\__init__.py:122\u001b[0m\n\u001b[0;32m    118\u001b[0m         set_default_backend(default_dir, \u001b[38;5;124m\"\u001b[39m\u001b[38;5;124mpytorch\u001b[39m\u001b[38;5;124m\"\u001b[39m)\n\u001b[0;32m    119\u001b[0m         \u001b[38;5;28;01mreturn\u001b[39;00m \u001b[38;5;124m\"\u001b[39m\u001b[38;5;124mpytorch\u001b[39m\u001b[38;5;124m\"\u001b[39m\n\u001b[1;32m--> 122\u001b[0m \u001b[43mload_backend\u001b[49m\u001b[43m(\u001b[49m\u001b[43mget_preferred_backend\u001b[49m\u001b[43m(\u001b[49m\u001b[43m)\u001b[49m\u001b[43m)\u001b[49m\n\u001b[0;32m    125\u001b[0m \u001b[38;5;28;01mdef\u001b[39;00m \u001b[38;5;21mis_enabled\u001b[39m(api):\n\u001b[0;32m    126\u001b[0m \u001b[38;5;250m    \u001b[39m\u001b[38;5;124;03m\"\"\"Return true if the api is enabled by the current backend.\u001b[39;00m\n\u001b[0;32m    127\u001b[0m \n\u001b[0;32m    128\u001b[0m \u001b[38;5;124;03m    Parameters\u001b[39;00m\n\u001b[1;32m   (...)\u001b[0m\n\u001b[0;32m    136\u001b[0m \u001b[38;5;124;03m        True if the API is enabled by the current backend.\u001b[39;00m\n\u001b[0;32m    137\u001b[0m \u001b[38;5;124;03m    \"\"\"\u001b[39;00m\n",
      "File \u001b[1;32md:\\projects\\github\\learning\\recommendation\\recommendation\\lib\\site-packages\\dgl\\backend\\__init__.py:51\u001b[0m, in \u001b[0;36mload_backend\u001b[1;34m(mod_name)\u001b[0m\n\u001b[0;32m     48\u001b[0m \u001b[38;5;28;01melse\u001b[39;00m:\n\u001b[0;32m     49\u001b[0m     \u001b[38;5;28;01mraise\u001b[39;00m \u001b[38;5;167;01mNotImplementedError\u001b[39;00m(\u001b[38;5;124m\"\u001b[39m\u001b[38;5;124mUnsupported backend: \u001b[39m\u001b[38;5;132;01m%s\u001b[39;00m\u001b[38;5;124m\"\u001b[39m \u001b[38;5;241m%\u001b[39m mod_name)\n\u001b[1;32m---> 51\u001b[0m \u001b[38;5;28;01mfrom\u001b[39;00m \u001b[38;5;21;01m.\u001b[39;00m\u001b[38;5;21;01m.\u001b[39;00m\u001b[38;5;21;01m_ffi\u001b[39;00m\u001b[38;5;21;01m.\u001b[39;00m\u001b[38;5;21;01mbase\u001b[39;00m \u001b[38;5;28;01mimport\u001b[39;00m load_tensor_adapter  \u001b[38;5;66;03m# imports DGL C library\u001b[39;00m\n\u001b[0;32m     53\u001b[0m version \u001b[38;5;241m=\u001b[39m mod\u001b[38;5;241m.\u001b[39m__version__\n\u001b[0;32m     54\u001b[0m load_tensor_adapter(mod_name, version)\n",
      "File \u001b[1;32md:\\projects\\github\\learning\\recommendation\\recommendation\\lib\\site-packages\\dgl\\_ffi\\base.py:50\u001b[0m\n\u001b[0;32m     48\u001b[0m __version__ \u001b[38;5;241m=\u001b[39m libinfo\u001b[38;5;241m.\u001b[39m__version__\n\u001b[0;32m     49\u001b[0m \u001b[38;5;66;03m# library instance of nnvm\u001b[39;00m\n\u001b[1;32m---> 50\u001b[0m _LIB, _LIB_NAME, _DIR_NAME \u001b[38;5;241m=\u001b[39m \u001b[43m_load_lib\u001b[49m\u001b[43m(\u001b[49m\u001b[43m)\u001b[49m\n\u001b[0;32m     52\u001b[0m \u001b[38;5;66;03m# The FFI mode of DGL\u001b[39;00m\n\u001b[0;32m     53\u001b[0m _FFI_MODE \u001b[38;5;241m=\u001b[39m os\u001b[38;5;241m.\u001b[39menviron\u001b[38;5;241m.\u001b[39mget(\u001b[38;5;124m\"\u001b[39m\u001b[38;5;124mDGL_FFI\u001b[39m\u001b[38;5;124m\"\u001b[39m, \u001b[38;5;124m\"\u001b[39m\u001b[38;5;124mauto\u001b[39m\u001b[38;5;124m\"\u001b[39m)\n",
      "File \u001b[1;32md:\\projects\\github\\learning\\recommendation\\recommendation\\lib\\site-packages\\dgl\\_ffi\\base.py:39\u001b[0m, in \u001b[0;36m_load_lib\u001b[1;34m()\u001b[0m\n\u001b[0;32m     37\u001b[0m \u001b[38;5;250m\u001b[39m\u001b[38;5;124;03m\"\"\"Load libary by searching possible path.\"\"\"\u001b[39;00m\n\u001b[0;32m     38\u001b[0m lib_path \u001b[38;5;241m=\u001b[39m libinfo\u001b[38;5;241m.\u001b[39mfind_lib_path()\n\u001b[1;32m---> 39\u001b[0m lib \u001b[38;5;241m=\u001b[39m \u001b[43mctypes\u001b[49m\u001b[38;5;241;43m.\u001b[39;49m\u001b[43mCDLL\u001b[49m\u001b[43m(\u001b[49m\u001b[43mlib_path\u001b[49m\u001b[43m[\u001b[49m\u001b[38;5;241;43m0\u001b[39;49m\u001b[43m]\u001b[49m\u001b[43m)\u001b[49m\n\u001b[0;32m     40\u001b[0m dirname \u001b[38;5;241m=\u001b[39m os\u001b[38;5;241m.\u001b[39mpath\u001b[38;5;241m.\u001b[39mdirname(lib_path[\u001b[38;5;241m0\u001b[39m])\n\u001b[0;32m     41\u001b[0m basename \u001b[38;5;241m=\u001b[39m os\u001b[38;5;241m.\u001b[39mpath\u001b[38;5;241m.\u001b[39mbasename(lib_path[\u001b[38;5;241m0\u001b[39m])\n",
      "File \u001b[1;32m~\\AppData\\Local\\Programs\\Python\\Python310\\lib\\ctypes\\__init__.py:374\u001b[0m, in \u001b[0;36mCDLL.__init__\u001b[1;34m(self, name, mode, handle, use_errno, use_last_error, winmode)\u001b[0m\n\u001b[0;32m    371\u001b[0m \u001b[38;5;28mself\u001b[39m\u001b[38;5;241m.\u001b[39m_FuncPtr \u001b[38;5;241m=\u001b[39m _FuncPtr\n\u001b[0;32m    373\u001b[0m \u001b[38;5;28;01mif\u001b[39;00m handle \u001b[38;5;129;01mis\u001b[39;00m \u001b[38;5;28;01mNone\u001b[39;00m:\n\u001b[1;32m--> 374\u001b[0m     \u001b[38;5;28mself\u001b[39m\u001b[38;5;241m.\u001b[39m_handle \u001b[38;5;241m=\u001b[39m \u001b[43m_dlopen\u001b[49m\u001b[43m(\u001b[49m\u001b[38;5;28;43mself\u001b[39;49m\u001b[38;5;241;43m.\u001b[39;49m\u001b[43m_name\u001b[49m\u001b[43m,\u001b[49m\u001b[43m \u001b[49m\u001b[43mmode\u001b[49m\u001b[43m)\u001b[49m\n\u001b[0;32m    375\u001b[0m \u001b[38;5;28;01melse\u001b[39;00m:\n\u001b[0;32m    376\u001b[0m     \u001b[38;5;28mself\u001b[39m\u001b[38;5;241m.\u001b[39m_handle \u001b[38;5;241m=\u001b[39m handle\n",
      "\u001b[1;31mFileNotFoundError\u001b[0m: Could not find module 'd:\\projects\\github\\learning\\recommendation\\recommendation\\lib\\site-packages\\dgl\\dgl.dll' (or one of its dependencies). Try using the full path with constructor syntax."
     ]
    }
   ],
   "source": [
    "import dgl\n",
    "\n",
    "src = edges_data['Src'].to_numpy()\n",
    "dst = edges_data['Dst'].to_numpy()"
   ]
  },
  {
   "cell_type": "code",
   "execution_count": null,
   "metadata": {},
   "outputs": [
    {
     "data": {
      "text/plain": [
       "'2.5.1+cpu'"
      ]
     },
     "execution_count": 4,
     "metadata": {},
     "output_type": "execute_result"
    }
   ],
   "source": [
    "import torch\n",
    "\n",
    "torch.__version__"
   ]
  }
 ],
 "metadata": {
  "kernelspec": {
   "display_name": "recommendation",
   "language": "python",
   "name": "python3"
  },
  "language_info": {
   "codemirror_mode": {
    "name": "ipython",
    "version": 3
   },
   "file_extension": ".py",
   "mimetype": "text/x-python",
   "name": "python",
   "nbconvert_exporter": "python",
   "pygments_lexer": "ipython3",
   "version": "3.10.6"
  }
 },
 "nbformat": 4,
 "nbformat_minor": 2
}
