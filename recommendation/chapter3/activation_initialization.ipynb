{
 "cells": [
  {
   "cell_type": "code",
   "execution_count": 1,
   "metadata": {},
   "outputs": [],
   "source": [
    "import pandas as pd\n",
    "from sklearn.model_selection import train_test_split\n",
    "from tensorflow.keras.layers import Input, Embedding, Flatten, Concatenate, Dense\n",
    "from tensorflow.keras.models import Model\n",
    "from tensorflow.keras.initializers import HeNormal, GlorotNormal\n",
    "import tensorflow as tf"
   ]
  },
  {
   "cell_type": "code",
   "execution_count": 2,
   "metadata": {},
   "outputs": [],
   "source": [
    "# load data\n",
    "df = pd.read_csv('./data/ml-latest-small/ratings.csv')"
   ]
  },
  {
   "cell_type": "code",
   "execution_count": 3,
   "metadata": {},
   "outputs": [],
   "source": [
    "# binary implicit feedback\n",
    "# rating >= 3.0일 경우 positive로 간주\n",
    "\n",
    "df['rating'] = df['rating'].apply(lambda x: 1 if x >=3.0 else 0)\n",
    "\n",
    "# 전체 유저 수와 영화 수\n",
    "d_users = df.userId.nunique()\n",
    "d_movies = df.movieId.nunique()\n",
    "\n",
    "# train test split\n",
    "train, validation = train_test_split(df, test_size=0.2, random_state=42)\n",
    "\n",
    "# user id indexing\n",
    "unique_user_ids = df['userId'].unique()\n",
    "userId_dict = {id: i for i, id in enumerate(unique_user_ids)}\n",
    "\n",
    "# movie id indexing\n",
    "unique_movie_ids = df['movieId'].unique()\n",
    "movieId_dict = {id: i for i, id in enumerate(unique_movie_ids)}\n",
    "\n",
    "# id mapping using indexed dictionary\n",
    "train['userId'] = train['userId'].map(userId_dict)\n",
    "train['movieId'] = train['movieId'].map(movieId_dict)\n",
    "\n",
    "validation['userId'] = validation['userId'].map(userId_dict)\n",
    "validation['movieId'] = validation['movieId'].map(movieId_dict)\n",
    "\n",
    "# total count of unique users\n",
    "num_unique_users = df['userId'].nunique() + 1\n",
    "\n",
    "# total count of unique movies\n",
    "num_unique_movies = df['movieId'].nunique() + 1"
   ]
  },
  {
   "cell_type": "code",
   "execution_count": 4,
   "metadata": {},
   "outputs": [],
   "source": [
    "# user/item input layer\n",
    "user_input = Input(shape=(1, ))\n",
    "movie_input = Input(shape=(1, ))\n",
    "\n",
    "# embedding dimension\n",
    "n_latent_factors = 20\n",
    "\n",
    "# define embedding layers\n",
    "user_embedding = Embedding(num_unique_users, n_latent_factors, name='user_embedding')(user_input)\n",
    "movie_embedding = Embedding(num_unique_movies, n_latent_factors, name='movie_embedding')(movie_input)\n",
    "\n",
    "# embedding flatten\n",
    "user_vector = Flatten()(user_embedding)\n",
    "movie_vector = Flatten()(movie_embedding)\n",
    "\n",
    "# concat of users and movie vectors\n",
    "concat = Concatenate()([user_vector, movie_vector])"
   ]
  },
  {
   "cell_type": "code",
   "execution_count": 10,
   "metadata": {},
   "outputs": [
    {
     "name": "stdout",
     "output_type": "stream",
     "text": [
      "\n",
      "\n",
      "initializer: HeNormal\n",
      "activation: relu\n",
      "\n",
      "\n",
      "Epoch 1/3\n"
     ]
    },
    {
     "name": "stderr",
     "output_type": "stream",
     "text": [
      "d:\\projects\\github\\learning\\recommendation\\recommendation\\lib\\site-packages\\keras\\src\\models\\functional.py:225: UserWarning: The structure of `inputs` doesn't match the expected structure: ['keras_tensor', 'keras_tensor_1']. Received: the structure of inputs=('*', '*')\n",
      "  warnings.warn(\n"
     ]
    },
    {
     "name": "stdout",
     "output_type": "stream",
     "text": [
      "2521/2521 - 3s - 1ms/step - accuracy: 0.8991 - auc_3: 0.9256 - loss: 0.2480 - val_accuracy: 0.8102 - val_auc_3: 0.7645 - val_loss: 0.5004\n",
      "Epoch 2/3\n",
      "2521/2521 - 2s - 766us/step - accuracy: 0.9218 - auc_3: 0.9537 - loss: 0.1960 - val_accuracy: 0.8057 - val_auc_3: 0.7609 - val_loss: 0.5286\n",
      "Epoch 3/3\n",
      "2521/2521 - 2s - 754us/step - accuracy: 0.9322 - auc_3: 0.9640 - loss: 0.1725 - val_accuracy: 0.8073 - val_auc_3: 0.7548 - val_loss: 0.5959\n",
      "\n",
      "\n",
      "initializer: HeNormal\n",
      "activation: sigmoid\n",
      "\n",
      "\n",
      "Epoch 1/3\n"
     ]
    },
    {
     "name": "stderr",
     "output_type": "stream",
     "text": [
      "C:\\Users\\ahn28\\AppData\\Local\\Temp\\ipykernel_3712\\3730548942.py:47: FutureWarning: The behavior of DataFrame concatenation with empty or all-NA entries is deprecated. In a future version, this will no longer exclude empty or all-NA columns when determining the result dtypes. To retain the old behavior, exclude the relevant entries before the concat operation.\n",
      "  results_df = pd.concat([results_df, append_df], ignore_index=True)\n"
     ]
    },
    {
     "name": "stdout",
     "output_type": "stream",
     "text": [
      "2521/2521 - 3s - 1ms/step - accuracy: 0.8517 - auc_4: 0.8451 - loss: 0.3483 - val_accuracy: 0.8298 - val_auc_4: 0.7953 - val_loss: 0.4030\n",
      "Epoch 2/3\n",
      "2521/2521 - 2s - 774us/step - accuracy: 0.8673 - auc_4: 0.8794 - loss: 0.3126 - val_accuracy: 0.8285 - val_auc_4: 0.7941 - val_loss: 0.4123\n",
      "Epoch 3/3\n",
      "2521/2521 - 2s - 767us/step - accuracy: 0.8746 - auc_4: 0.8953 - loss: 0.2924 - val_accuracy: 0.8260 - val_auc_4: 0.7889 - val_loss: 0.4300\n",
      "\n",
      "\n",
      "initializer: GlorotNormal\n",
      "activation: relu\n",
      "\n",
      "\n",
      "Epoch 1/3\n",
      "2521/2521 - 3s - 1ms/step - accuracy: 0.9027 - auc_5: 0.9325 - loss: 0.2374 - val_accuracy: 0.8153 - val_auc_5: 0.7642 - val_loss: 0.5287\n",
      "Epoch 2/3\n",
      "2521/2521 - 2s - 741us/step - accuracy: 0.9270 - auc_5: 0.9596 - loss: 0.1838 - val_accuracy: 0.8146 - val_auc_5: 0.7587 - val_loss: 0.5524\n",
      "Epoch 3/3\n",
      "2521/2521 - 2s - 739us/step - accuracy: 0.9361 - auc_5: 0.9686 - loss: 0.1620 - val_accuracy: 0.8046 - val_auc_5: 0.7421 - val_loss: 0.6260\n",
      "\n",
      "\n",
      "initializer: GlorotNormal\n",
      "activation: sigmoid\n",
      "\n",
      "\n",
      "Epoch 1/3\n",
      "2521/2521 - 3s - 1ms/step - accuracy: 0.8607 - auc_6: 0.8546 - loss: 0.3366 - val_accuracy: 0.8269 - val_auc_6: 0.7883 - val_loss: 0.4073\n",
      "Epoch 2/3\n",
      "2521/2521 - 2s - 757us/step - accuracy: 0.8685 - auc_6: 0.8818 - loss: 0.3108 - val_accuracy: 0.8245 - val_auc_6: 0.7927 - val_loss: 0.4180\n",
      "Epoch 3/3\n",
      "2521/2521 - 2s - 749us/step - accuracy: 0.8734 - auc_6: 0.8972 - loss: 0.2912 - val_accuracy: 0.8306 - val_auc_6: 0.7880 - val_loss: 0.4232\n"
     ]
    }
   ],
   "source": [
    "# result table\n",
    "results_df = pd.DataFrame(columns=['initializer', 'activation', 'last_loss', 'last_val_loss'])\n",
    "\n",
    "# initialization, activation\n",
    "initializers = [HeNormal(), HeNormal(), GlorotNormal(), GlorotNormal()]\n",
    "activations = ['relu', 'sigmoid', 'relu', 'sigmoid']\n",
    "\n",
    "for init, act in zip(initializers, activations):\n",
    "    print('\\n')\n",
    "    print('initializer: {}'.format(init.__class__.__name__))\n",
    "    print('activation: {}'.format(act))\n",
    "    print('\\n')\n",
    "    \n",
    "    def create_mlp(hidden_layers, output):\n",
    "        for i in range(len(hidden_layers)):\n",
    "            if i == 0:\n",
    "                hidden = Dense(hidden_layers[i], activation=act, kernel_initializer=init)(output)\n",
    "            else:\n",
    "                hidden = Dense(hidden_layers[i], activation=act, kernel_initializer=init)(hidden)\n",
    "        output = Dense(1, activation='sigmoid', kernel_initializer=init)(hidden)\n",
    "        return output\n",
    "    \n",
    "    output = create_mlp([64, 64], concat)\n",
    "    \n",
    "    model = Model(inputs=[user_input, movie_input], outputs=output)\n",
    "    \n",
    "    auc = tf.keras.metrics.AUC()\n",
    "    model.compile(optimizer='adam', loss='binary_crossentropy', metrics=['accuracy', auc])\n",
    "    \n",
    "    history = model.fit([train.userId, train.movieId], train.rating, epochs=3, verbose=2, validation_data=([validation.userId, validation.movieId], validation.rating))\n",
    "    \n",
    "    # DataFrame에 결과 append\n",
    "    # results_df = results_df.append(\n",
    "    #     {'initializer': init.__class__.__name__,\n",
    "    #      'activation': act,\n",
    "    #      'last_loss': history.history['loss'][-1],\n",
    "    #      'last_val_loss': history.history['val_loss'][-1]},\n",
    "    #     ignore_index=True\n",
    "    # )\n",
    "    append_df = pd.DataFrame(\n",
    "        {'initializer': init.__class__.__name__,\n",
    "         'activation': act,\n",
    "         'last_loss': history.history['loss'][-1],\n",
    "         'last_val_loss': history.history['val_loss'][-1]},\n",
    "        index=[0]   # ensures correct shape if you're adding a single row\n",
    "    )\n",
    "    results_df = pd.concat([results_df, append_df], ignore_index=True)"
   ]
  },
  {
   "cell_type": "code",
   "execution_count": 11,
   "metadata": {},
   "outputs": [
    {
     "data": {
      "text/plain": [
       "<keras.src.callbacks.history.History at 0x1e6b79d3520>"
      ]
     },
     "execution_count": 11,
     "metadata": {},
     "output_type": "execute_result"
    }
   ],
   "source": [
    "history"
   ]
  },
  {
   "cell_type": "code",
   "execution_count": 12,
   "metadata": {},
   "outputs": [
    {
     "data": {
      "text/html": [
       "<div>\n",
       "<style scoped>\n",
       "    .dataframe tbody tr th:only-of-type {\n",
       "        vertical-align: middle;\n",
       "    }\n",
       "\n",
       "    .dataframe tbody tr th {\n",
       "        vertical-align: top;\n",
       "    }\n",
       "\n",
       "    .dataframe thead th {\n",
       "        text-align: right;\n",
       "    }\n",
       "</style>\n",
       "<table border=\"1\" class=\"dataframe\">\n",
       "  <thead>\n",
       "    <tr style=\"text-align: right;\">\n",
       "      <th></th>\n",
       "      <th>initializer</th>\n",
       "      <th>activation</th>\n",
       "      <th>last_loss</th>\n",
       "      <th>last_val_loss</th>\n",
       "    </tr>\n",
       "  </thead>\n",
       "  <tbody>\n",
       "    <tr>\n",
       "      <th>0</th>\n",
       "      <td>HeNormal</td>\n",
       "      <td>relu</td>\n",
       "      <td>0.172472</td>\n",
       "      <td>0.595877</td>\n",
       "    </tr>\n",
       "    <tr>\n",
       "      <th>1</th>\n",
       "      <td>HeNormal</td>\n",
       "      <td>sigmoid</td>\n",
       "      <td>0.292443</td>\n",
       "      <td>0.429962</td>\n",
       "    </tr>\n",
       "    <tr>\n",
       "      <th>2</th>\n",
       "      <td>GlorotNormal</td>\n",
       "      <td>relu</td>\n",
       "      <td>0.161966</td>\n",
       "      <td>0.625950</td>\n",
       "    </tr>\n",
       "    <tr>\n",
       "      <th>3</th>\n",
       "      <td>GlorotNormal</td>\n",
       "      <td>sigmoid</td>\n",
       "      <td>0.291189</td>\n",
       "      <td>0.423215</td>\n",
       "    </tr>\n",
       "  </tbody>\n",
       "</table>\n",
       "</div>"
      ],
      "text/plain": [
       "    initializer activation  last_loss  last_val_loss\n",
       "0      HeNormal       relu   0.172472       0.595877\n",
       "1      HeNormal    sigmoid   0.292443       0.429962\n",
       "2  GlorotNormal       relu   0.161966       0.625950\n",
       "3  GlorotNormal    sigmoid   0.291189       0.423215"
      ]
     },
     "metadata": {},
     "output_type": "display_data"
    }
   ],
   "source": [
    "# Print the dataframe\n",
    "display(results_df)"
   ]
  }
 ],
 "metadata": {
  "kernelspec": {
   "display_name": "recommendation",
   "language": "python",
   "name": "python3"
  },
  "language_info": {
   "codemirror_mode": {
    "name": "ipython",
    "version": 3
   },
   "file_extension": ".py",
   "mimetype": "text/x-python",
   "name": "python",
   "nbconvert_exporter": "python",
   "pygments_lexer": "ipython3",
   "version": "3.10.6"
  }
 },
 "nbformat": 4,
 "nbformat_minor": 2
}
